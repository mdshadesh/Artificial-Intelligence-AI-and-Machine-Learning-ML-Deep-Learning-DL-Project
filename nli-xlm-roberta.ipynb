{
 "cells": [
  {
   "cell_type": "code",
   "execution_count": 1,
   "id": "60b42af7",
   "metadata": {
    "_cell_guid": "b1076dfc-b9ad-4769-8c92-a6c4dae69d19",
    "_uuid": "8f2839f25d086af736a60e9eeb907d3b93b6e0e5",
    "execution": {
     "iopub.execute_input": "2023-05-23T10:49:39.339175Z",
     "iopub.status.busy": "2023-05-23T10:49:39.338143Z",
     "iopub.status.idle": "2023-05-23T10:49:40.129613Z",
     "shell.execute_reply": "2023-05-23T10:49:40.128875Z",
     "shell.execute_reply.started": "2023-05-23T10:45:12.578960Z"
    },
    "papermill": {
     "duration": 0.911923,
     "end_time": "2023-05-23T10:49:40.129780",
     "exception": false,
     "start_time": "2023-05-23T10:49:39.217857",
     "status": "completed"
    },
    "tags": []
   },
   "outputs": [
    {
     "name": "stdout",
     "output_type": "stream",
     "text": [
      "/kaggle/input/contradictory-my-dear-watson/sample_submission.csv\n",
      "/kaggle/input/contradictory-my-dear-watson/train.csv\n",
      "/kaggle/input/contradictory-my-dear-watson/test.csv\n"
     ]
    }
   ],
   "source": [
    "import numpy as np\n",
    "import pandas as pd\n",
    "import seaborn as sns\n",
    "import matplotlib.pyplot as plt\n",
    "import os\n",
    "#\n",
    "for dirname, _, filenames in os.walk('/kaggle/input'):\n",
    "    for filename in filenames:\n",
    "        print(os.path.join(dirname, filename))\n",
    "        \n",
    "# from tqdm.notebook import tqdm\n",
    "from tqdm import tqdm\n",
    "tqdm.pandas()"
   ]
  },
  {
   "cell_type": "code",
   "execution_count": 2,
   "id": "70cf5ef5",
   "metadata": {
    "execution": {
     "iopub.execute_input": "2023-05-23T10:49:40.190435Z",
     "iopub.status.busy": "2023-05-23T10:49:40.188060Z",
     "iopub.status.idle": "2023-05-23T10:49:41.162009Z",
     "shell.execute_reply": "2023-05-23T10:49:41.161121Z",
     "shell.execute_reply.started": "2023-05-23T10:45:12.593061Z"
    },
    "papermill": {
     "duration": 1.004447,
     "end_time": "2023-05-23T10:49:41.162152",
     "exception": false,
     "start_time": "2023-05-23T10:49:40.157705",
     "status": "completed"
    },
    "tags": []
   },
   "outputs": [
    {
     "name": "stdout",
     "output_type": "stream",
     "text": [
      "\u001b[0m\u001b[01;34minput\u001b[0m/  \u001b[01;34mlib\u001b[0m/  \u001b[01;34msrc\u001b[0m/  \u001b[01;34mworking\u001b[0m/\r\n"
     ]
    }
   ],
   "source": [
    "%ls /kaggle"
   ]
  },
  {
   "cell_type": "code",
   "execution_count": 3,
   "id": "06b975e7",
   "metadata": {
    "execution": {
     "iopub.execute_input": "2023-05-23T10:49:41.223633Z",
     "iopub.status.busy": "2023-05-23T10:49:41.222758Z",
     "iopub.status.idle": "2023-05-23T10:49:41.431324Z",
     "shell.execute_reply": "2023-05-23T10:49:41.431837Z",
     "shell.execute_reply.started": "2023-05-23T10:45:13.540062Z"
    },
    "papermill": {
     "duration": 0.242109,
     "end_time": "2023-05-23T10:49:41.432012",
     "exception": false,
     "start_time": "2023-05-23T10:49:41.189903",
     "status": "completed"
    },
    "tags": []
   },
   "outputs": [
    {
     "data": {
      "text/plain": [
       "((12120, 6), (5195, 5))"
      ]
     },
     "execution_count": 3,
     "metadata": {},
     "output_type": "execute_result"
    }
   ],
   "source": [
    "train_data = pd.read_csv('/kaggle/input/contradictory-my-dear-watson/train.csv')\n",
    "test_data  = pd.read_csv('/kaggle/input/contradictory-my-dear-watson/test.csv')\n",
    "train_data.shape, test_data.shape"
   ]
  },
  {
   "cell_type": "code",
   "execution_count": 4,
   "id": "4c364c06",
   "metadata": {
    "execution": {
     "iopub.execute_input": "2023-05-23T10:49:41.496584Z",
     "iopub.status.busy": "2023-05-23T10:49:41.495988Z",
     "iopub.status.idle": "2023-05-23T10:49:41.513135Z",
     "shell.execute_reply": "2023-05-23T10:49:41.513681Z",
     "shell.execute_reply.started": "2023-05-23T10:45:13.631196Z"
    },
    "papermill": {
     "duration": 0.052951,
     "end_time": "2023-05-23T10:49:41.513824",
     "exception": false,
     "start_time": "2023-05-23T10:49:41.460873",
     "status": "completed"
    },
    "tags": []
   },
   "outputs": [
    {
     "data": {
      "text/html": [
       "<div>\n",
       "<style scoped>\n",
       "    .dataframe tbody tr th:only-of-type {\n",
       "        vertical-align: middle;\n",
       "    }\n",
       "\n",
       "    .dataframe tbody tr th {\n",
       "        vertical-align: top;\n",
       "    }\n",
       "\n",
       "    .dataframe thead th {\n",
       "        text-align: right;\n",
       "    }\n",
       "</style>\n",
       "<table border=\"1\" class=\"dataframe\">\n",
       "  <thead>\n",
       "    <tr style=\"text-align: right;\">\n",
       "      <th></th>\n",
       "      <th>id</th>\n",
       "      <th>premise</th>\n",
       "      <th>hypothesis</th>\n",
       "      <th>lang_abv</th>\n",
       "      <th>language</th>\n",
       "      <th>label</th>\n",
       "    </tr>\n",
       "  </thead>\n",
       "  <tbody>\n",
       "    <tr>\n",
       "      <th>0</th>\n",
       "      <td>5130fd2cb5</td>\n",
       "      <td>and these comments were considered in formulat...</td>\n",
       "      <td>The rules developed in the interim were put to...</td>\n",
       "      <td>en</td>\n",
       "      <td>English</td>\n",
       "      <td>0</td>\n",
       "    </tr>\n",
       "    <tr>\n",
       "      <th>1</th>\n",
       "      <td>5b72532a0b</td>\n",
       "      <td>These are issues that we wrestle with in pract...</td>\n",
       "      <td>Practice groups are not permitted to work on t...</td>\n",
       "      <td>en</td>\n",
       "      <td>English</td>\n",
       "      <td>2</td>\n",
       "    </tr>\n",
       "    <tr>\n",
       "      <th>2</th>\n",
       "      <td>3931fbe82a</td>\n",
       "      <td>Des petites choses comme celles-là font une di...</td>\n",
       "      <td>J'essayais d'accomplir quelque chose.</td>\n",
       "      <td>fr</td>\n",
       "      <td>French</td>\n",
       "      <td>0</td>\n",
       "    </tr>\n",
       "    <tr>\n",
       "      <th>3</th>\n",
       "      <td>5622f0c60b</td>\n",
       "      <td>you know they can't really defend themselves l...</td>\n",
       "      <td>They can't defend themselves because of their ...</td>\n",
       "      <td>en</td>\n",
       "      <td>English</td>\n",
       "      <td>0</td>\n",
       "    </tr>\n",
       "    <tr>\n",
       "      <th>4</th>\n",
       "      <td>86aaa48b45</td>\n",
       "      <td>ในการเล่นบทบาทสมมุติก็เช่นกัน โอกาสที่จะได้แสด...</td>\n",
       "      <td>เด็กสามารถเห็นได้ว่าชาติพันธุ์แตกต่างกันอย่างไร</td>\n",
       "      <td>th</td>\n",
       "      <td>Thai</td>\n",
       "      <td>1</td>\n",
       "    </tr>\n",
       "  </tbody>\n",
       "</table>\n",
       "</div>"
      ],
      "text/plain": [
       "           id                                            premise  \\\n",
       "0  5130fd2cb5  and these comments were considered in formulat...   \n",
       "1  5b72532a0b  These are issues that we wrestle with in pract...   \n",
       "2  3931fbe82a  Des petites choses comme celles-là font une di...   \n",
       "3  5622f0c60b  you know they can't really defend themselves l...   \n",
       "4  86aaa48b45  ในการเล่นบทบาทสมมุติก็เช่นกัน โอกาสที่จะได้แสด...   \n",
       "\n",
       "                                          hypothesis lang_abv language  label  \n",
       "0  The rules developed in the interim were put to...       en  English      0  \n",
       "1  Practice groups are not permitted to work on t...       en  English      2  \n",
       "2              J'essayais d'accomplir quelque chose.       fr   French      0  \n",
       "3  They can't defend themselves because of their ...       en  English      0  \n",
       "4    เด็กสามารถเห็นได้ว่าชาติพันธุ์แตกต่างกันอย่างไร       th     Thai      1  "
      ]
     },
     "execution_count": 4,
     "metadata": {},
     "output_type": "execute_result"
    }
   ],
   "source": [
    "train_data.head()"
   ]
  },
  {
   "cell_type": "code",
   "execution_count": 5,
   "id": "0e10a409",
   "metadata": {
    "execution": {
     "iopub.execute_input": "2023-05-23T10:49:41.584567Z",
     "iopub.status.busy": "2023-05-23T10:49:41.583658Z",
     "iopub.status.idle": "2023-05-23T10:49:41.850951Z",
     "shell.execute_reply": "2023-05-23T10:49:41.851409Z",
     "shell.execute_reply.started": "2023-05-23T10:45:13.648503Z"
    },
    "papermill": {
     "duration": 0.309345,
     "end_time": "2023-05-23T10:49:41.851580",
     "exception": false,
     "start_time": "2023-05-23T10:49:41.542235",
     "status": "completed"
    },
    "tags": []
   },
   "outputs": [
    {
     "data": {
      "image/png": "[encoded data removed]",
      "text/plain": [
       "<Figure size 720x720 with 1 Axes>"
      ]
     },
     "metadata": {},
     "output_type": "display_data"
    }
   ],
   "source": [
    "labels, frequencies = np.unique(train_data.language.values, return_counts = True)\n",
    "\n",
    "plt.figure(figsize = (10,10))\n",
    "plt.pie(frequencies,labels = labels, autopct = '%1.1f%%')\n",
    "plt.show()"
   ]
  },
  {
   "cell_type": "code",
   "execution_count": 6,
   "id": "7d236759",
   "metadata": {
    "execution": {
     "iopub.execute_input": "2023-05-23T10:49:41.918194Z",
     "iopub.status.busy": "2023-05-23T10:49:41.917340Z",
     "iopub.status.idle": "2023-05-23T10:49:42.145842Z",
     "shell.execute_reply": "2023-05-23T10:49:42.145270Z",
     "shell.execute_reply.started": "2023-05-23T10:45:13.877591Z"
    },
    "papermill": {
     "duration": 0.264161,
     "end_time": "2023-05-23T10:49:42.146027",
     "exception": false,
     "start_time": "2023-05-23T10:49:41.881866",
     "status": "completed"
    },
    "tags": []
   },
   "outputs": [
    {
     "data": {
      "image/png": "[encoded data removed]",
      "text/plain": [
       "<Figure size 720x360 with 1 Axes>"
      ]
     },
     "metadata": {
      "needs_background": "light"
     },
     "output_type": "display_data"
    }
   ],
   "source": [
    "labels = train_data.label.value_counts()\n",
    "plt.figure(figsize = (10,5))\n",
    "labels.plot.bar()\n",
    "plt.title(\"Number of items in each category\")\n",
    "plt.ylabel(\"Number (item)\")\n",
    "plt.show()"
   ]
  },
  {
   "cell_type": "code",
   "execution_count": 7,
   "id": "aa5dd784",
   "metadata": {
    "execution": {
     "iopub.execute_input": "2023-05-23T10:49:42.250600Z",
     "iopub.status.busy": "2023-05-23T10:49:42.249687Z",
     "iopub.status.idle": "2023-05-23T10:49:42.715089Z",
     "shell.execute_reply": "2023-05-23T10:49:42.714237Z",
     "shell.execute_reply.started": "2023-05-23T10:45:14.092593Z"
    },
    "papermill": {
     "duration": 0.538246,
     "end_time": "2023-05-23T10:49:42.715242",
     "exception": false,
     "start_time": "2023-05-23T10:49:42.176996",
     "status": "completed"
    },
    "tags": []
   },
   "outputs": [
    {
     "data": {
      "image/png": "[encoded data removed]",
      "text/plain": [
       "<Figure size 1080x432 with 1 Axes>"
      ]
     },
     "metadata": {
      "needs_background": "light"
     },
     "output_type": "display_data"
    }
   ],
   "source": [
    "## Comparing length of sentences in train_set\n",
    "hypo_len = train_data['hypothesis'].apply(len)\n",
    "prem_len = train_data['premise'].apply(len)\n",
    "\n",
    "plt.figure(figsize=(15,6))\n",
    "plt.hist(hypo_len, bins=50, label=\"hypothesis length in train set\", alpha=0.5)\n",
    "plt.hist(prem_len, bins=50, label=\"premise length in train set\", alpha=0.5)\n",
    "plt.title(\"Length Comparison\")\n",
    "plt.legend(loc='best')\n",
    "plt.show()"
   ]
  },
  {
   "cell_type": "code",
   "execution_count": 8,
   "id": "a8e3a2b5",
   "metadata": {
    "execution": {
     "iopub.execute_input": "2023-05-23T10:49:42.787851Z",
     "iopub.status.busy": "2023-05-23T10:49:42.782228Z",
     "iopub.status.idle": "2023-05-23T10:49:59.714332Z",
     "shell.execute_reply": "2023-05-23T10:49:59.713276Z",
     "shell.execute_reply.started": "2023-05-23T10:45:14.586608Z"
    },
    "papermill": {
     "duration": 16.967814,
     "end_time": "2023-05-23T10:49:59.714555",
     "exception": false,
     "start_time": "2023-05-23T10:49:42.746741",
     "status": "completed"
    },
    "tags": []
   },
   "outputs": [
    {
     "name": "stdout",
     "output_type": "stream",
     "text": [
      "Requirement already satisfied: transformers in /opt/conda/lib/python3.7/site-packages (4.5.1)\r\n",
      "Requirement already satisfied: regex!=2019.12.17 in /opt/conda/lib/python3.7/site-packages (from transformers) (2021.8.3)\r\n",
      "Requirement already satisfied: packaging in /opt/conda/lib/python3.7/site-packages (from transformers) (21.0)\r\n",
      "Requirement already satisfied: filelock in /opt/conda/lib/python3.7/site-packages (from transformers) (3.0.12)\r\n",
      "Requirement already satisfied: numpy>=1.17 in /opt/conda/lib/python3.7/site-packages (from transformers) (1.19.5)\r\n",
      "Requirement already satisfied: tokenizers<0.11,>=0.10.1 in /opt/conda/lib/python3.7/site-packages (from transformers) (0.10.3)\r\n",
      "Requirement already satisfied: tqdm>=4.27 in /opt/conda/lib/python3.7/site-packages (from transformers) (4.62.1)\r\n",
      "Requirement already satisfied: requests in /opt/conda/lib/python3.7/site-packages (from transformers) (2.25.1)\r\n",
      "Requirement already satisfied: sacremoses in /opt/conda/lib/python3.7/site-packages (from transformers) (0.0.45)\r\n",
      "Requirement already satisfied: importlib-metadata in /opt/conda/lib/python3.7/site-packages (from transformers) (3.4.0)\r\n",
      "Requirement already satisfied: typing-extensions>=3.6.4 in /opt/conda/lib/python3.7/site-packages (from importlib-metadata->transformers) (3.7.4.3)\r\n",
      "Requirement already satisfied: zipp>=0.5 in /opt/conda/lib/python3.7/site-packages (from importlib-metadata->transformers) (3.5.0)\r\n",
      "Requirement already satisfied: pyparsing>=2.0.2 in /opt/conda/lib/python3.7/site-packages (from packaging->transformers) (2.4.7)\r\n",
      "Requirement already satisfied: idna<3,>=2.5 in /opt/conda/lib/python3.7/site-packages (from requests->transformers) (2.10)\r\n",
      "Requirement already satisfied: certifi>=2017.4.17 in /opt/conda/lib/python3.7/site-packages (from requests->transformers) (2021.5.30)\r\n",
      "Requirement already satisfied: urllib3<1.27,>=1.21.1 in /opt/conda/lib/python3.7/site-packages (from requests->transformers) (1.26.6)\r\n",
      "Requirement already satisfied: chardet<5,>=3.0.2 in /opt/conda/lib/python3.7/site-packages (from requests->transformers) (4.0.0)\r\n",
      "Requirement already satisfied: six in /opt/conda/lib/python3.7/site-packages (from sacremoses->transformers) (1.15.0)\r\n",
      "Requirement already satisfied: click in /opt/conda/lib/python3.7/site-packages (from sacremoses->transformers) (8.0.1)\r\n",
      "Requirement already satisfied: joblib in /opt/conda/lib/python3.7/site-packages (from sacremoses->transformers) (1.0.1)\r\n",
      "\u001b[33mWARNING: Running pip as the 'root' user can result in broken permissions and conflicting behaviour with the system package manager. It is recommended to use a virtual environment instead: https://pip.pypa.io/warnings/venv\u001b[0m\r\n",
      "Requirement already satisfied: sentencepiece in /opt/conda/lib/python3.7/site-packages (0.1.96)\r\n",
      "\u001b[33mWARNING: Running pip as the 'root' user can result in broken permissions and conflicting behaviour with the system package manager. It is recommended to use a virtual environment instead: https://pip.pypa.io/warnings/venv\u001b[0m\r\n"
     ]
    }
   ],
   "source": [
    "!pip install transformers\n",
    "!pip install sentencepiece"
   ]
  },
  {
   "cell_type": "code",
   "execution_count": 9,
   "id": "39e41c67",
   "metadata": {
    "execution": {
     "iopub.execute_input": "2023-05-23T10:49:59.788547Z",
     "iopub.status.busy": "2023-05-23T10:49:59.787770Z",
     "iopub.status.idle": "2023-05-23T10:50:04.914176Z",
     "shell.execute_reply": "2023-05-23T10:50:04.913565Z",
     "shell.execute_reply.started": "2023-05-23T10:45:30.655986Z"
    },
    "papermill": {
     "duration": 5.165717,
     "end_time": "2023-05-23T10:50:04.914314",
     "exception": false,
     "start_time": "2023-05-23T10:49:59.748597",
     "status": "completed"
    },
    "tags": []
   },
   "outputs": [],
   "source": [
    "# TensorFlow\n",
    "import tensorflow as tf\n",
    "\n",
    "# SKLearn Library\n",
    "from sklearn.model_selection import train_test_split\n",
    "from sklearn.metrics import confusion_matrix\n",
    "from sklearn.metrics import classification_report"
   ]
  },
  {
   "cell_type": "code",
   "execution_count": 10,
   "id": "014ff643",
   "metadata": {
    "execution": {
     "iopub.execute_input": "2023-05-23T10:50:05.012547Z",
     "iopub.status.busy": "2023-05-23T10:50:05.011764Z",
     "iopub.status.idle": "2023-05-23T10:50:05.015676Z",
     "shell.execute_reply": "2023-05-23T10:50:05.016252Z",
     "shell.execute_reply.started": "2023-05-23T10:45:30.663810Z"
    },
    "papermill": {
     "duration": 0.055397,
     "end_time": "2023-05-23T10:50:05.016447",
     "exception": false,
     "start_time": "2023-05-23T10:50:04.961050",
     "status": "completed"
    },
    "tags": []
   },
   "outputs": [],
   "source": [
    "# Troncate Premises & Hypothesis sequences at max_len\n",
    "max_len=64\n",
    "\n",
    "# Loading Data Into TensorFlow Dataset\n",
    "AUTO = tf.data.experimental.AUTOTUNE\n",
    "batch_size = 16"
   ]
  },
  {
   "cell_type": "code",
   "execution_count": 11,
   "id": "64bd7f3a",
   "metadata": {
    "execution": {
     "iopub.execute_input": "2023-05-23T10:50:05.119892Z",
     "iopub.status.busy": "2023-05-23T10:50:05.119099Z",
     "iopub.status.idle": "2023-05-23T10:50:05.123331Z",
     "shell.execute_reply": "2023-05-23T10:50:05.124314Z",
     "shell.execute_reply.started": "2023-05-23T10:45:30.675972Z"
    },
    "papermill": {
     "duration": 0.06163,
     "end_time": "2023-05-23T10:50:05.124529",
     "exception": false,
     "start_time": "2023-05-23T10:50:05.062899",
     "status": "completed"
    },
    "tags": []
   },
   "outputs": [],
   "source": [
    "def troncate_sentence(sent, seq_len=max_len):\n",
    "    \"\"\"\" Return troncated sentence up to seq_len \"\"\"\n",
    "    try:\n",
    "        sent = sent.split()\n",
    "        sent = sent[:seq_len]\n",
    "        return \" \".join(sent)\n",
    "    except:\n",
    "        return sent\n",
    "\n",
    "def generate_tokens(df, tokenizer, seq_len=2*max_len):\n",
    "    \"\"\"\" Return list of token input_ids for a given dataframe\"\"\"\n",
    "    input_ids = []\n",
    "    input_masks = []\n",
    "    \n",
    "    for i, text in tqdm(enumerate(df.values.tolist()), total=len(df)):\n",
    "        tokenized_text = tokenizer.encode_plus(\n",
    "            text,\n",
    "            max_length=seq_len, \n",
    "            truncation=True, \n",
    "            padding='max_length', \n",
    "            add_special_tokens=True,\n",
    "            # return_tensors='tf'\n",
    "        )\n",
    "    \n",
    "        input_ids.append(tokenized_text['input_ids'])\n",
    "        input_masks.append(tokenized_text['attention_mask'])\n",
    "    return input_ids, input_masks\n",
    "\n",
    "def get_body_encoding(hypothesis, premises, tokenizer):\n",
    "    \"\"\"\" Return encoded body from hyp and prem  \"\"\"\n",
    "    body = hypothesis.apply(troncate_sentence) + \"[SEP]\" + premises.apply(troncate_sentence)\n",
    "    return generate_tokens(body, tokenizer)"
   ]
  },
  {
   "cell_type": "markdown",
   "id": "cd0c8084",
   "metadata": {
    "papermill": {
     "duration": 0.033801,
     "end_time": "2023-05-23T10:50:05.198785",
     "exception": false,
     "start_time": "2023-05-23T10:50:05.164984",
     "status": "completed"
    },
    "tags": []
   },
   "source": [
    "## On applique une des variantes du modèle pré-entraîné multilingue `XLMRoberta` "
   ]
  },
  {
   "cell_type": "code",
   "execution_count": 12,
   "id": "fd3514fc",
   "metadata": {
    "execution": {
     "iopub.execute_input": "2023-05-23T10:50:05.270403Z",
     "iopub.status.busy": "2023-05-23T10:50:05.269709Z",
     "iopub.status.idle": "2023-05-23T10:50:07.743847Z",
     "shell.execute_reply": "2023-05-23T10:50:07.743237Z",
     "shell.execute_reply.started": "2023-05-23T10:46:44.308209Z"
    },
    "papermill": {
     "duration": 2.512003,
     "end_time": "2023-05-23T10:50:07.744015",
     "exception": false,
     "start_time": "2023-05-23T10:50:05.232012",
     "status": "completed"
    },
    "tags": []
   },
   "outputs": [
    {
     "data": {
      "application/vnd.jupyter.widget-view+json": {
       "model_id": "c9e6a993ae7745c9b0d7af63151c96af",
       "version_major": 2,
       "version_minor": 0
      },
      "text/plain": [
       "Downloading:   0%|          | 0.00/5.07M [00:00<?, ?B/s]"
      ]
     },
     "metadata": {},
     "output_type": "display_data"
    }
   ],
   "source": [
    "# Transformer Model\n",
    "from transformers import XLMRobertaTokenizer, TFXLMRobertaModel\n",
    "\n",
    "# Transformer Model Name\n",
    "transformer_model = 'jplu/tf-xlm-roberta-large' \n",
    "# 'joeddav/xlm-roberta-large-xnli' --> Nowadays, this model is privates but gives better performance than used : 'jplu/tf-xlm-roberta-large' \n",
    "\n",
    "# Define Tokenizer\n",
    "tokenizer = XLMRobertaTokenizer.from_pretrained(transformer_model)"
   ]
  },
  {
   "cell_type": "code",
   "execution_count": 13,
   "id": "80c64aa0",
   "metadata": {
    "execution": {
     "iopub.execute_input": "2023-05-23T10:50:07.821818Z",
     "iopub.status.busy": "2023-05-23T10:50:07.820941Z",
     "iopub.status.idle": "2023-05-23T10:50:07.823763Z",
     "shell.execute_reply": "2023-05-23T10:50:07.823209Z",
     "shell.execute_reply.started": "2023-05-23T10:46:54.423976Z"
    },
    "papermill": {
     "duration": 0.042617,
     "end_time": "2023-05-23T10:50:07.823892",
     "exception": false,
     "start_time": "2023-05-23T10:50:07.781275",
     "status": "completed"
    },
    "tags": []
   },
   "outputs": [],
   "source": [
    "# print(generate_tokens(pd.Series([\"The rules developed in the interim\"]), tokenizer=tokenizer))"
   ]
  },
  {
   "cell_type": "code",
   "execution_count": 14,
   "id": "3a245baa",
   "metadata": {
    "execution": {
     "iopub.execute_input": "2023-05-23T10:50:07.898704Z",
     "iopub.status.busy": "2023-05-23T10:50:07.898088Z",
     "iopub.status.idle": "2023-05-23T10:51:46.278623Z",
     "shell.execute_reply": "2023-05-23T10:51:46.278052Z",
     "shell.execute_reply.started": "2023-05-23T10:46:56.154048Z"
    },
    "papermill": {
     "duration": 98.420187,
     "end_time": "2023-05-23T10:51:46.278783",
     "exception": false,
     "start_time": "2023-05-23T10:50:07.858596",
     "status": "completed"
    },
    "tags": []
   },
   "outputs": [
    {
     "data": {
      "application/vnd.jupyter.widget-view+json": {
       "model_id": "7fd13d790ebb4a56917a55d9a560b58e",
       "version_major": 2,
       "version_minor": 0
      },
      "text/plain": [
       "Downloading:   0%|          | 0.00/513 [00:00<?, ?B/s]"
      ]
     },
     "metadata": {},
     "output_type": "display_data"
    },
    {
     "data": {
      "application/vnd.jupyter.widget-view+json": {
       "model_id": "152da32df45c40a3ab82138387b3c661",
       "version_major": 2,
       "version_minor": 0
      },
      "text/plain": [
       "Downloading:   0%|          | 0.00/3.27G [00:00<?, ?B/s]"
      ]
     },
     "metadata": {},
     "output_type": "display_data"
    },
    {
     "name": "stderr",
     "output_type": "stream",
     "text": [
      "Some layers from the model checkpoint at jplu/tf-xlm-roberta-large were not used when initializing TFXLMRobertaModel: ['lm_head']\n",
      "- This IS expected if you are initializing TFXLMRobertaModel from the checkpoint of a model trained on another task or with another architecture (e.g. initializing a BertForSequenceClassification model from a BertForPreTraining model).\n",
      "- This IS NOT expected if you are initializing TFXLMRobertaModel from the checkpoint of a model that you expect to be exactly identical (initializing a BertForSequenceClassification model from a BertForSequenceClassification model).\n",
      "All the layers of TFXLMRobertaModel were initialized from the model checkpoint at jplu/tf-xlm-roberta-large.\n",
      "If your task is similar to the task the model of the checkpoint was trained on, you can already use TFXLMRobertaModel for predictions without further training.\n"
     ]
    }
   ],
   "source": [
    "#Pretrained Transformer Model\n",
    "transformer_encoder = TFXLMRobertaModel.from_pretrained(transformer_model)"
   ]
  },
  {
   "cell_type": "code",
   "execution_count": 15,
   "id": "33dae859",
   "metadata": {
    "execution": {
     "iopub.execute_input": "2023-05-23T10:51:46.363411Z",
     "iopub.status.busy": "2023-05-23T10:51:46.362748Z",
     "iopub.status.idle": "2023-05-23T10:51:46.366102Z",
     "shell.execute_reply": "2023-05-23T10:51:46.365613Z",
     "shell.execute_reply.started": "2023-05-23T10:49:20.795212Z"
    },
    "papermill": {
     "duration": 0.049485,
     "end_time": "2023-05-23T10:51:46.366226",
     "exception": false,
     "start_time": "2023-05-23T10:51:46.316741",
     "status": "completed"
    },
    "tags": []
   },
   "outputs": [],
   "source": [
    "# Build model function\n",
    "def build_model(transformer, final_len=2*max_len, learnin_rate=2e-6):\n",
    "    # Input\n",
    "    # input_layer = tf.keras.layers.Input(shape=(final_len,), dtype=tf.int32, name=\"input_layer\")\n",
    "    input_ids = tf.keras.layers.Input(shape=(final_len,), name='input_ids', dtype='int32')\n",
    "    input_masks = tf.keras.layers.Input(shape=(final_len,), name='attention_mask', dtype='int32')\n",
    "\n",
    "    # Sequence output\n",
    "    sequence_output = transformer(input_ids, attention_mask=input_masks)[0]\n",
    "    cls_token = sequence_output[:, 0, :]\n",
    "    cls_token = tf.keras.layers.Dropout(0.3)(cls_token)\n",
    "    cls_token = tf.keras.layers.Dense(64, activation='relu')(cls_token)\n",
    "    # Output Layers\n",
    "    output_layer = tf.keras.layers.Dense(3, activation='softmax')(cls_token)\n",
    "    # Model graph\n",
    "    model = tf.keras.models.Model(inputs=[input_ids, input_masks], outputs=output_layer)\n",
    "    # Compile model\n",
    "    model.compile(\n",
    "        optimizer=tf.keras.optimizers.Adam(learning_rate=learnin_rate), \n",
    "        loss=tf.keras.losses.SparseCategoricalCrossentropy(from_logits=False), \n",
    "        metrics=[tf.keras.metrics.SparseCategoricalAccuracy('accuracy')]\n",
    "    )\n",
    "    return model"
   ]
  },
  {
   "cell_type": "code",
   "execution_count": 16,
   "id": "1c765851",
   "metadata": {
    "execution": {
     "iopub.execute_input": "2023-05-23T10:51:46.453991Z",
     "iopub.status.busy": "2023-05-23T10:51:46.448721Z",
     "iopub.status.idle": "2023-05-23T10:52:01.787458Z",
     "shell.execute_reply": "2023-05-23T10:52:01.786865Z",
     "shell.execute_reply.started": "2023-05-23T10:49:20.797415Z"
    },
    "papermill": {
     "duration": 15.384351,
     "end_time": "2023-05-23T10:52:01.787605",
     "exception": false,
     "start_time": "2023-05-23T10:51:46.403254",
     "status": "completed"
    },
    "tags": []
   },
   "outputs": [
    {
     "name": "stderr",
     "output_type": "stream",
     "text": [
      "100%|██████████| 10908/10908 [00:03<00:00, 3256.08it/s]\n",
      "100%|██████████| 1212/1212 [00:00<00:00, 3452.35it/s]\n"
     ]
    }
   ],
   "source": [
    "# Split into Training (90%) & Validation (10%)\n",
    "x_train, x_val, y_train, y_val = train_test_split(\n",
    "    train_data[['premise','hypothesis']], \n",
    "    train_data.label.values, \n",
    "    test_size=0.1,\n",
    "    random_state=42,\n",
    ")\n",
    "# Prepare inputs\n",
    "# Training set\n",
    "train_input_ids, train_attn_masks = get_body_encoding(\n",
    "    x_train['hypothesis'],\n",
    "    x_train['premise'],\n",
    "    tokenizer=tokenizer\n",
    ")\n",
    "train_ds = tf.data.Dataset.from_tensor_slices((train_input_ids, train_attn_masks, y_train)).repeat().shuffle(2048).batch(batch_size).prefetch(AUTO)\n",
    "# Validation set\n",
    "valid_input_ids, valid_attn_masks = get_body_encoding(\n",
    "    x_val['hypothesis'],\n",
    "    x_val['premise'],\n",
    "    tokenizer=tokenizer\n",
    ")\n",
    "val_ds = tf.data.Dataset.from_tensor_slices((valid_input_ids, valid_attn_masks, y_val)).batch(batch_size).prefetch(AUTO)"
   ]
  },
  {
   "cell_type": "code",
   "execution_count": 17,
   "id": "468631ee",
   "metadata": {
    "execution": {
     "iopub.execute_input": "2023-05-23T10:52:01.891944Z",
     "iopub.status.busy": "2023-05-23T10:52:01.891143Z",
     "iopub.status.idle": "2023-05-23T10:52:01.977622Z",
     "shell.execute_reply": "2023-05-23T10:52:01.977058Z",
     "shell.execute_reply.started": "2023-05-23T10:49:20.799357Z"
    },
    "papermill": {
     "duration": 0.141214,
     "end_time": "2023-05-23T10:52:01.977759",
     "exception": false,
     "start_time": "2023-05-23T10:52:01.836545",
     "status": "completed"
    },
    "tags": []
   },
   "outputs": [],
   "source": [
    "def map_func(input_ids, masks, labels):\n",
    "    # we convert our three-items tuple into a two-item tuple where the input item is a dictionary\n",
    "    return {'input_ids': input_ids, 'attention_mask': masks}, labels\n",
    "\n",
    "# then we use the dataset map method to apply this transformation\n",
    "train_ds = train_ds.map(map_func)\n",
    "val_ds = val_ds.map(map_func)"
   ]
  },
  {
   "cell_type": "code",
   "execution_count": 18,
   "id": "0d9f2b7d",
   "metadata": {
    "execution": {
     "iopub.execute_input": "2023-05-23T10:52:02.084518Z",
     "iopub.status.busy": "2023-05-23T10:52:02.080285Z",
     "iopub.status.idle": "2023-05-23T10:52:10.589135Z",
     "shell.execute_reply": "2023-05-23T10:52:10.589922Z",
     "shell.execute_reply.started": "2023-05-23T10:49:20.801174Z"
    },
    "papermill": {
     "duration": 8.563324,
     "end_time": "2023-05-23T10:52:10.590091",
     "exception": false,
     "start_time": "2023-05-23T10:52:02.026767",
     "status": "completed"
    },
    "tags": []
   },
   "outputs": [
    {
     "name": "stdout",
     "output_type": "stream",
     "text": [
      "Model: \"model\"\n",
      "__________________________________________________________________________________________________\n",
      "Layer (type)                    Output Shape         Param #     Connected to                     \n",
      "==================================================================================================\n",
      "input_ids (InputLayer)          [(None, 128)]        0                                            \n",
      "__________________________________________________________________________________________________\n",
      "attention_mask (InputLayer)     [(None, 128)]        0                                            \n",
      "__________________________________________________________________________________________________\n",
      "tfxlm_roberta_model (TFXLMRober TFBaseModelOutputWit 559890432   input_ids[0][0]                  \n",
      "                                                                 attention_mask[0][0]             \n",
      "__________________________________________________________________________________________________\n",
      "tf.__operators__.getitem (Slici (None, 1024)         0           tfxlm_roberta_model[0][0]        \n",
      "__________________________________________________________________________________________________\n",
      "dropout_73 (Dropout)            (None, 1024)         0           tf.__operators__.getitem[0][0]   \n",
      "__________________________________________________________________________________________________\n",
      "dense (Dense)                   (None, 64)           65600       dropout_73[0][0]                 \n",
      "__________________________________________________________________________________________________\n",
      "dense_1 (Dense)                 (None, 3)            195         dense[0][0]                      \n",
      "==================================================================================================\n",
      "Total params: 559,956,227\n",
      "Trainable params: 559,956,227\n",
      "Non-trainable params: 0\n",
      "__________________________________________________________________________________________________\n"
     ]
    }
   ],
   "source": [
    "# Application to xlm_roberta\n",
    "xlm_model = build_model(transformer = transformer_encoder)\n",
    "# Model Summary\n",
    "xlm_model.summary()"
   ]
  },
  {
   "cell_type": "code",
   "execution_count": 19,
   "id": "db259aac",
   "metadata": {
    "execution": {
     "iopub.execute_input": "2023-05-23T10:52:10.692842Z",
     "iopub.status.busy": "2023-05-23T10:52:10.691902Z",
     "iopub.status.idle": "2023-05-23T10:52:12.077140Z",
     "shell.execute_reply": "2023-05-23T10:52:12.078271Z",
     "shell.execute_reply.started": "2023-05-23T10:49:20.803047Z"
    },
    "papermill": {
     "duration": 1.439189,
     "end_time": "2023-05-23T10:52:12.078506",
     "exception": false,
     "start_time": "2023-05-23T10:52:10.639317",
     "status": "completed"
    },
    "tags": []
   },
   "outputs": [
    {
     "data": {
      "image/png": "[encoded data removed]",
      "text/plain": [
       "<IPython.core.display.Image object>"
      ]
     },
     "execution_count": 19,
     "metadata": {},
     "output_type": "execute_result"
    }
   ],
   "source": [
    "tf.keras.utils.plot_model(xlm_model, show_shapes=True)"
   ]
  },
  {
   "cell_type": "code",
   "execution_count": 20,
   "id": "fcd6b537",
   "metadata": {
    "execution": {
     "iopub.execute_input": "2023-05-23T10:52:12.211596Z",
     "iopub.status.busy": "2023-05-23T10:52:12.210666Z",
     "iopub.status.idle": "2023-05-23T11:49:41.918918Z",
     "shell.execute_reply": "2023-05-23T11:49:41.920139Z",
     "shell.execute_reply.started": "2023-05-23T10:49:20.804915Z"
    },
    "papermill": {
     "duration": 3449.771927,
     "end_time": "2023-05-23T11:49:41.920495",
     "exception": false,
     "start_time": "2023-05-23T10:52:12.148568",
     "status": "completed"
    },
    "tags": []
   },
   "outputs": [
    {
     "name": "stdout",
     "output_type": "stream",
     "text": [
      "Epoch 1/10\n",
      "757/757 [==============================] - 715s 905ms/step - loss: 1.1508 - accuracy: 0.3356 - val_loss: 1.1018 - val_accuracy: 0.3663\n",
      "Epoch 2/10\n",
      "757/757 [==============================] - 680s 898ms/step - loss: 1.0519 - accuracy: 0.4288 - val_loss: 0.6428 - val_accuracy: 0.7294\n",
      "Epoch 3/10\n",
      "757/757 [==============================] - 680s 899ms/step - loss: 0.6395 - accuracy: 0.7381 - val_loss: 0.5682 - val_accuracy: 0.7830\n",
      "Epoch 4/10\n",
      "757/757 [==============================] - 681s 899ms/step - loss: 0.4842 - accuracy: 0.8111 - val_loss: 0.5630 - val_accuracy: 0.8045\n",
      "Epoch 5/10\n",
      "757/757 [==============================] - 680s 899ms/step - loss: 0.4185 - accuracy: 0.8438 - val_loss: 0.5916 - val_accuracy: 0.8177\n"
     ]
    }
   ],
   "source": [
    "# callbacks\n",
    "stop_early = tf.keras.callbacks.EarlyStopping(\n",
    "    monitor='val_loss', \n",
    "    patience=1,\n",
    "    restore_best_weights=True\n",
    ")\n",
    "\n",
    "# On-the-fly data augmentation\n",
    "n_steps = len(train_data) // batch_size \n",
    "\n",
    "# Train the Model\n",
    "hist_xlm = xlm_model.fit(\n",
    "    train_ds, \n",
    "    validation_data = val_ds,\n",
    "    epochs = 10,\n",
    "    steps_per_epoch = n_steps,\n",
    "    callbacks=[stop_early],\n",
    "#    batch_size = 32,\n",
    ")"
   ]
  },
  {
   "cell_type": "code",
   "execution_count": 21,
   "id": "cfd0b109",
   "metadata": {
    "execution": {
     "iopub.execute_input": "2023-05-23T11:49:44.430831Z",
     "iopub.status.busy": "2023-05-23T11:49:44.429897Z",
     "iopub.status.idle": "2023-05-23T11:49:44.868713Z",
     "shell.execute_reply": "2023-05-23T11:49:44.869146Z",
     "shell.execute_reply.started": "2023-05-23T10:49:20.807077Z"
    },
    "papermill": {
     "duration": 1.69657,
     "end_time": "2023-05-23T11:49:44.869306",
     "exception": false,
     "start_time": "2023-05-23T11:49:43.172736",
     "status": "completed"
    },
    "tags": []
   },
   "outputs": [
    {
     "data": {
      "image/png": "[encoded data removed]",
      "text/plain": [
       "<Figure size 432x288 with 1 Axes>"
      ]
     },
     "metadata": {
      "needs_background": "light"
     },
     "output_type": "display_data"
    },
    {
     "data": {
      "image/png": "[encoded data removed]",
      "text/plain": [
       "<Figure size 432x288 with 1 Axes>"
      ]
     },
     "metadata": {
      "needs_background": "light"
     },
     "output_type": "display_data"
    }
   ],
   "source": [
    "pd.DataFrame(hist_xlm.history).loc[:, [\"accuracy\", \"val_accuracy\"]].plot()\n",
    "pd.DataFrame(hist_xlm.history).loc[:, [\"loss\", \"val_loss\"]].plot()\n",
    "plt.show()"
   ]
  },
  {
   "cell_type": "code",
   "execution_count": 22,
   "id": "9cbc0645",
   "metadata": {
    "execution": {
     "iopub.execute_input": "2023-05-23T11:49:47.816103Z",
     "iopub.status.busy": "2023-05-23T11:49:47.815188Z",
     "iopub.status.idle": "2023-05-23T11:50:09.955365Z",
     "shell.execute_reply": "2023-05-23T11:50:09.955865Z",
     "shell.execute_reply.started": "2023-05-23T10:49:20.809018Z"
    },
    "papermill": {
     "duration": 23.649317,
     "end_time": "2023-05-23T11:50:09.956035",
     "exception": false,
     "start_time": "2023-05-23T11:49:46.306718",
     "status": "completed"
    },
    "tags": []
   },
   "outputs": [
    {
     "name": "stdout",
     "output_type": "stream",
     "text": [
      "76/76 [==============================] - 22s 291ms/step - loss: 0.5630 - accuracy: 0.8045\n"
     ]
    },
    {
     "data": {
      "text/plain": [
       "[0.5629530549049377, 0.8044554591178894]"
      ]
     },
     "execution_count": 22,
     "metadata": {},
     "output_type": "execute_result"
    }
   ],
   "source": [
    "# Evaluate on Validation Set\n",
    "xlm_model.evaluate(val_ds)"
   ]
  },
  {
   "cell_type": "code",
   "execution_count": 23,
   "id": "a6535d8a",
   "metadata": {
    "execution": {
     "iopub.execute_input": "2023-05-23T11:50:12.627995Z",
     "iopub.status.busy": "2023-05-23T11:50:12.626856Z",
     "iopub.status.idle": "2023-05-23T11:50:40.127022Z",
     "shell.execute_reply": "2023-05-23T11:50:40.127462Z",
     "shell.execute_reply.started": "2023-05-23T10:49:20.811010Z"
    },
    "papermill": {
     "duration": 28.780436,
     "end_time": "2023-05-23T11:50:40.127636",
     "exception": false,
     "start_time": "2023-05-23T11:50:11.347200",
     "status": "completed"
    },
    "tags": []
   },
   "outputs": [
    {
     "data": {
      "image/png": "[encoded data removed]",
      "text/plain": [
       "<Figure size 720x432 with 1 Axes>"
      ]
     },
     "metadata": {
      "needs_background": "light"
     },
     "output_type": "display_data"
    }
   ],
   "source": [
    "# Get predicted labels\n",
    "y_pred = xlm_model.predict(val_ds)\n",
    "y_pred = np.argmax(y_pred, axis=1)\n",
    "\n",
    "# Construction of cm\n",
    "cm = confusion_matrix(y_val, y_pred)\n",
    "# Plot\n",
    "plt.figure(figsize=(10,6))\n",
    "c = sns.heatmap(cm, annot=True, fmt='g', cbar=False)\n",
    "c.set_xlabel('Predicted')\n",
    "c.set_ylabel('Truth')\n",
    "plt.xticks(rotation=0)\n",
    "plt.yticks(rotation=0)\n",
    "plt.show()"
   ]
  },
  {
   "cell_type": "code",
   "execution_count": 24,
   "id": "5d2551cc",
   "metadata": {
    "execution": {
     "iopub.execute_input": "2023-05-23T11:50:42.669330Z",
     "iopub.status.busy": "2023-05-23T11:50:42.668439Z",
     "iopub.status.idle": "2023-05-23T11:50:42.686039Z",
     "shell.execute_reply": "2023-05-23T11:50:42.686479Z",
     "shell.execute_reply.started": "2023-05-23T10:49:20.812940Z"
    },
    "papermill": {
     "duration": 1.292078,
     "end_time": "2023-05-23T11:50:42.686627",
     "exception": false,
     "start_time": "2023-05-23T11:50:41.394549",
     "status": "completed"
    },
    "tags": []
   },
   "outputs": [
    {
     "data": {
      "text/html": [
       "<div>\n",
       "<style scoped>\n",
       "    .dataframe tbody tr th:only-of-type {\n",
       "        vertical-align: middle;\n",
       "    }\n",
       "\n",
       "    .dataframe tbody tr th {\n",
       "        vertical-align: top;\n",
       "    }\n",
       "\n",
       "    .dataframe thead th {\n",
       "        text-align: right;\n",
       "    }\n",
       "</style>\n",
       "<table border=\"1\" class=\"dataframe\">\n",
       "  <thead>\n",
       "    <tr style=\"text-align: right;\">\n",
       "      <th></th>\n",
       "      <th>precision</th>\n",
       "      <th>recall</th>\n",
       "      <th>f1-score</th>\n",
       "      <th>support</th>\n",
       "    </tr>\n",
       "  </thead>\n",
       "  <tbody>\n",
       "    <tr>\n",
       "      <th>0</th>\n",
       "      <td>0.831325</td>\n",
       "      <td>0.791284</td>\n",
       "      <td>0.810811</td>\n",
       "      <td>436.000000</td>\n",
       "    </tr>\n",
       "    <tr>\n",
       "      <th>1</th>\n",
       "      <td>0.776882</td>\n",
       "      <td>0.742931</td>\n",
       "      <td>0.759527</td>\n",
       "      <td>389.000000</td>\n",
       "    </tr>\n",
       "    <tr>\n",
       "      <th>2</th>\n",
       "      <td>0.802353</td>\n",
       "      <td>0.881137</td>\n",
       "      <td>0.839901</td>\n",
       "      <td>387.000000</td>\n",
       "    </tr>\n",
       "    <tr>\n",
       "      <th>accuracy</th>\n",
       "      <td>0.804455</td>\n",
       "      <td>0.804455</td>\n",
       "      <td>0.804455</td>\n",
       "      <td>0.804455</td>\n",
       "    </tr>\n",
       "    <tr>\n",
       "      <th>macro avg</th>\n",
       "      <td>0.803520</td>\n",
       "      <td>0.805117</td>\n",
       "      <td>0.803413</td>\n",
       "      <td>1212.000000</td>\n",
       "    </tr>\n",
       "    <tr>\n",
       "      <th>weighted avg</th>\n",
       "      <td>0.804600</td>\n",
       "      <td>0.804455</td>\n",
       "      <td>0.803640</td>\n",
       "      <td>1212.000000</td>\n",
       "    </tr>\n",
       "  </tbody>\n",
       "</table>\n",
       "</div>"
      ],
      "text/plain": [
       "              precision    recall  f1-score      support\n",
       "0              0.831325  0.791284  0.810811   436.000000\n",
       "1              0.776882  0.742931  0.759527   389.000000\n",
       "2              0.802353  0.881137  0.839901   387.000000\n",
       "accuracy       0.804455  0.804455  0.804455     0.804455\n",
       "macro avg      0.803520  0.805117  0.803413  1212.000000\n",
       "weighted avg   0.804600  0.804455  0.803640  1212.000000"
      ]
     },
     "execution_count": 24,
     "metadata": {},
     "output_type": "execute_result"
    }
   ],
   "source": [
    "pd.DataFrame(classification_report(\n",
    "    y_val,\n",
    "    y_pred,\n",
    "    output_dict=True,\n",
    "    zero_division=0\n",
    ")).T"
   ]
  },
  {
   "cell_type": "markdown",
   "id": "5f928ca6",
   "metadata": {
    "papermill": {
     "duration": 1.363414,
     "end_time": "2023-05-23T11:50:45.324715",
     "exception": false,
     "start_time": "2023-05-23T11:50:43.961301",
     "status": "completed"
    },
    "tags": []
   },
   "source": [
    "# Submission"
   ]
  },
  {
   "cell_type": "code",
   "execution_count": 25,
   "id": "5244d778",
   "metadata": {
    "execution": {
     "iopub.execute_input": "2023-05-23T11:50:47.905585Z",
     "iopub.status.busy": "2023-05-23T11:50:47.904644Z",
     "iopub.status.idle": "2023-05-23T11:50:47.907562Z",
     "shell.execute_reply": "2023-05-23T11:50:47.907043Z",
     "shell.execute_reply.started": "2023-05-23T10:45:31.389045Z"
    },
    "papermill": {
     "duration": 1.312072,
     "end_time": "2023-05-23T11:50:47.907687",
     "exception": false,
     "start_time": "2023-05-23T11:50:46.595615",
     "status": "completed"
    },
    "tags": []
   },
   "outputs": [],
   "source": [
    "# del test_ds\n",
    "def map_func_test(input_ids, masks):\n",
    "    # we convert our two-items tuple into a two-item tuple where the input item is a dictionary\n",
    "    return {'input_ids': input_ids, 'attention_mask': masks}"
   ]
  },
  {
   "cell_type": "code",
   "execution_count": 26,
   "id": "924582eb",
   "metadata": {
    "execution": {
     "iopub.execute_input": "2023-05-23T11:50:50.885349Z",
     "iopub.status.busy": "2023-05-23T11:50:50.884493Z",
     "iopub.status.idle": "2023-05-23T11:50:57.377056Z",
     "shell.execute_reply": "2023-05-23T11:50:57.376509Z",
     "shell.execute_reply.started": "2023-05-23T10:45:31.390936Z"
    },
    "papermill": {
     "duration": 8.162114,
     "end_time": "2023-05-23T11:50:57.377197",
     "exception": false,
     "start_time": "2023-05-23T11:50:49.215083",
     "status": "completed"
    },
    "tags": []
   },
   "outputs": [
    {
     "name": "stderr",
     "output_type": "stream",
     "text": [
      "100%|██████████| 5195/5195 [00:01<00:00, 3388.88it/s]\n"
     ]
    }
   ],
   "source": [
    "test_input_ids, test_attn_masks = get_body_encoding(\n",
    "    test_data['hypothesis'],\n",
    "    test_data['premise'],\n",
    "    tokenizer=tokenizer\n",
    ")\n",
    "test_ds = tf.data.Dataset.from_tensor_slices((test_input_ids, test_attn_masks)).batch(batch_size).prefetch(AUTO)\n",
    "test_ds = test_ds.map(map_func_test)\n",
    "#test_ds = (tf.data.Dataset.from_tensor_slices((test_encode)).batch(batch_size).prefetch(AUTO))"
   ]
  },
  {
   "cell_type": "code",
   "execution_count": 27,
   "id": "aab428e6",
   "metadata": {
    "execution": {
     "iopub.execute_input": "2023-05-23T11:50:59.953680Z",
     "iopub.status.busy": "2023-05-23T11:50:59.952808Z",
     "iopub.status.idle": "2023-05-23T11:52:38.269084Z",
     "shell.execute_reply": "2023-05-23T11:52:38.268511Z",
     "shell.execute_reply.started": "2023-05-23T10:45:31.392816Z"
    },
    "papermill": {
     "duration": 99.605058,
     "end_time": "2023-05-23T11:52:38.269238",
     "exception": false,
     "start_time": "2023-05-23T11:50:58.664180",
     "status": "completed"
    },
    "tags": []
   },
   "outputs": [],
   "source": [
    "submissions = xlm_model.predict(test_ds, verbose=0)\n",
    "y_subm = np.argmax(submissions, axis=1)"
   ]
  },
  {
   "cell_type": "markdown",
   "id": "a0c7f1a2",
   "metadata": {
    "papermill": {
     "duration": 1.26788,
     "end_time": "2023-05-23T11:52:40.823081",
     "exception": false,
     "start_time": "2023-05-23T11:52:39.555201",
     "status": "completed"
    },
    "tags": []
   },
   "source": [
    "    0 == entailment                        \n",
    "    1 == neutral                                  \n",
    "    2 == contradiction"
   ]
  },
  {
   "cell_type": "code",
   "execution_count": 28,
   "id": "13d4dc30",
   "metadata": {
    "execution": {
     "iopub.execute_input": "2023-05-23T11:52:43.409956Z",
     "iopub.status.busy": "2023-05-23T11:52:43.409291Z",
     "iopub.status.idle": "2023-05-23T11:52:43.434411Z",
     "shell.execute_reply": "2023-05-23T11:52:43.434999Z",
     "shell.execute_reply.started": "2023-05-23T10:45:31.394692Z"
    },
    "papermill": {
     "duration": 1.302549,
     "end_time": "2023-05-23T11:52:43.435152",
     "exception": false,
     "start_time": "2023-05-23T11:52:42.132603",
     "status": "completed"
    },
    "tags": []
   },
   "outputs": [
    {
     "data": {
      "text/html": [
       "<div>\n",
       "<style scoped>\n",
       "    .dataframe tbody tr th:only-of-type {\n",
       "        vertical-align: middle;\n",
       "    }\n",
       "\n",
       "    .dataframe tbody tr th {\n",
       "        vertical-align: top;\n",
       "    }\n",
       "\n",
       "    .dataframe thead th {\n",
       "        text-align: right;\n",
       "    }\n",
       "</style>\n",
       "<table border=\"1\" class=\"dataframe\">\n",
       "  <thead>\n",
       "    <tr style=\"text-align: right;\">\n",
       "      <th></th>\n",
       "      <th>id</th>\n",
       "      <th>prediction</th>\n",
       "    </tr>\n",
       "  </thead>\n",
       "  <tbody>\n",
       "    <tr>\n",
       "      <th>0</th>\n",
       "      <td>c6d58c3f69</td>\n",
       "      <td>2</td>\n",
       "    </tr>\n",
       "    <tr>\n",
       "      <th>1</th>\n",
       "      <td>cefcc82292</td>\n",
       "      <td>1</td>\n",
       "    </tr>\n",
       "    <tr>\n",
       "      <th>2</th>\n",
       "      <td>e98005252c</td>\n",
       "      <td>0</td>\n",
       "    </tr>\n",
       "    <tr>\n",
       "      <th>3</th>\n",
       "      <td>58518c10ba</td>\n",
       "      <td>1</td>\n",
       "    </tr>\n",
       "    <tr>\n",
       "      <th>4</th>\n",
       "      <td>c32b0d16df</td>\n",
       "      <td>0</td>\n",
       "    </tr>\n",
       "    <tr>\n",
       "      <th>...</th>\n",
       "      <td>...</td>\n",
       "      <td>...</td>\n",
       "    </tr>\n",
       "    <tr>\n",
       "      <th>5190</th>\n",
       "      <td>5f90dd59b0</td>\n",
       "      <td>0</td>\n",
       "    </tr>\n",
       "    <tr>\n",
       "      <th>5191</th>\n",
       "      <td>f357a04e86</td>\n",
       "      <td>2</td>\n",
       "    </tr>\n",
       "    <tr>\n",
       "      <th>5192</th>\n",
       "      <td>1f0ea92118</td>\n",
       "      <td>0</td>\n",
       "    </tr>\n",
       "    <tr>\n",
       "      <th>5193</th>\n",
       "      <td>0407b48afb</td>\n",
       "      <td>0</td>\n",
       "    </tr>\n",
       "    <tr>\n",
       "      <th>5194</th>\n",
       "      <td>16c2f2ab89</td>\n",
       "      <td>2</td>\n",
       "    </tr>\n",
       "  </tbody>\n",
       "</table>\n",
       "<p>5195 rows × 2 columns</p>\n",
       "</div>"
      ],
      "text/plain": [
       "              id  prediction\n",
       "0     c6d58c3f69           2\n",
       "1     cefcc82292           1\n",
       "2     e98005252c           0\n",
       "3     58518c10ba           1\n",
       "4     c32b0d16df           0\n",
       "...          ...         ...\n",
       "5190  5f90dd59b0           0\n",
       "5191  f357a04e86           2\n",
       "5192  1f0ea92118           0\n",
       "5193  0407b48afb           0\n",
       "5194  16c2f2ab89           2\n",
       "\n",
       "[5195 rows x 2 columns]"
      ]
     },
     "execution_count": 28,
     "metadata": {},
     "output_type": "execute_result"
    }
   ],
   "source": [
    "# Submission \n",
    "sample_subm = pd.read_csv('/kaggle/input/contradictory-my-dear-watson/sample_submission.csv')\n",
    "sample_subm['prediction'] = y_subm\n",
    "sample_subm"
   ]
  },
  {
   "cell_type": "code",
   "execution_count": 29,
   "id": "f75962d5",
   "metadata": {
    "execution": {
     "iopub.execute_input": "2023-05-23T11:52:46.075748Z",
     "iopub.status.busy": "2023-05-23T11:52:46.074914Z",
     "iopub.status.idle": "2023-05-23T11:52:46.091247Z",
     "shell.execute_reply": "2023-05-23T11:52:46.090784Z",
     "shell.execute_reply.started": "2023-05-23T10:45:31.396589Z"
    },
    "papermill": {
     "duration": 1.377366,
     "end_time": "2023-05-23T11:52:46.091371",
     "exception": false,
     "start_time": "2023-05-23T11:52:44.714005",
     "status": "completed"
    },
    "tags": []
   },
   "outputs": [],
   "source": [
    "sample_subm.to_csv(\"submission.csv\", index=False)"
   ]
  },
  {
   "cell_type": "code",
   "execution_count": null,
   "id": "03433dfc",
   "metadata": {
    "papermill": {
     "duration": 1.270728,
     "end_time": "2023-05-23T11:52:48.631903",
     "exception": false,
     "start_time": "2023-05-23T11:52:47.361175",
     "status": "completed"
    },
    "tags": []
   },
   "outputs": [],
   "source": []
  }
 ],
 "metadata": {
  "kernelspec": {
   "display_name": "Python 3",
   "language": "python",
   "name": "python3"
  },
  "language_info": {
   "codemirror_mode": {
    "name": "ipython",
    "version": 3
   },
   "file_extension": ".py",
   "mimetype": "text/x-python",
   "name": "python",
   "nbconvert_exporter": "python",
   "pygments_lexer": "ipython3",
   "version": "3.7.10"
  },
  "papermill": {
   "default_parameters": {},
   "duration": 3801.718034,
   "end_time": "2023-05-23T11:52:53.219624",
   "environment_variables": {},
   "exception": null,
   "input_path": "__notebook__.ipynb",
   "output_path": "__notebook__.ipynb",
   "parameters": {},
   "start_time": "2023-05-23T10:49:31.501590",
   "version": "2.3.3"
  },
  "widgets": {
   "application/vnd.jupyter.widget-state+json": {
    "state": {
     "00506afc8ff445ef9dfb67c26b756198": {
      "model_module": "@jupyter-widgets/base",
      "model_module_version": "1.2.0",
      "model_name": "LayoutModel",
      "state": {
       "_model_module": "@jupyter-widgets/base",
       "_model_module_version": "1.2.0",
       "_model_name": "LayoutModel",
       "_view_count": null,
       "_view_module": "@jupyter-widgets/base",
       "_view_module_version": "1.2.0",
       "_view_name": "LayoutView",
       "align_content": null,
       "align_items": null,
       "align_self": null,
       "border": null,
       "bottom": null,
       "display": null,
       "flex": null,
       "flex_flow": null,
       "grid_area": null,
       "grid_auto_columns": null,
       "grid_auto_flow": null,
       "grid_auto_rows": null,
       "grid_column": null,
       "grid_gap": null,
       "grid_row": null,
       "grid_template_areas": null,
       "grid_template_columns": null,
       "grid_template_rows": null,
       "height": null,
       "justify_content": null,
       "justify_items": null,
       "left": null,
       "margin": null,
       "max_height": null,
       "max_width": null,
       "min_height": null,
       "min_width": null,
       "object_fit": null,
       "object_position": null,
       "order": null,
       "overflow": null,
       "overflow_x": null,
       "overflow_y": null,
       "padding": null,
       "right": null,
       "top": null,
       "visibility": null,
       "width": null
      }
     },
     "0420ed1386514d0a862f54a61170f4d9": {
      "model_module": "@jupyter-widgets/base",
      "model_module_version": "1.2.0",
      "model_name": "LayoutModel",
      "state": {
       "_model_module": "@jupyter-widgets/base",
       "_model_module_version": "1.2.0",
       "_model_name": "LayoutModel",
       "_view_count": null,
       "_view_module": "@jupyter-widgets/base",
       "_view_module_version": "1.2.0",
       "_view_name": "LayoutView",
       "align_content": null,
       "align_items": null,
       "align_self": null,
       "border": null,
       "bottom": null,
       "display": null,
       "flex": null,
       "flex_flow": null,
       "grid_area": null,
       "grid_auto_columns": null,
       "grid_auto_flow": null,
       "grid_auto_rows": null,
       "grid_column": null,
       "grid_gap": null,
       "grid_row": null,
       "grid_template_areas": null,
       "grid_template_columns": null,
       "grid_template_rows": null,
       "height": null,
       "justify_content": null,
       "justify_items": null,
       "left": null,
       "margin": null,
       "max_height": null,
       "max_width": null,
       "min_height": null,
       "min_width": null,
       "object_fit": null,
       "object_position": null,
       "order": null,
       "overflow": null,
       "overflow_x": null,
       "overflow_y": null,
       "padding": null,
       "right": null,
       "top": null,
       "visibility": null,
       "width": null
      }
     },
     "0fa0587bc2834f85b7b723eed8c69490": {
      "model_module": "@jupyter-widgets/controls",
      "model_module_version": "1.5.0",
      "model_name": "DescriptionStyleModel",
      "state": {
       "_model_module": "@jupyter-widgets/controls",
       "_model_module_version": "1.5.0",
       "_model_name": "DescriptionStyleModel",
       "_view_count": null,
       "_view_module": "@jupyter-widgets/base",
       "_view_module_version": "1.2.0",
       "_view_name": "StyleView",
       "description_width": ""
      }
     },
     "152da32df45c40a3ab82138387b3c661": {
      "model_module": "@jupyter-widgets/controls",
      "model_module_version": "1.5.0",
      "model_name": "HBoxModel",
      "state": {
       "_dom_classes": [],
       "_model_module": "@jupyter-widgets/controls",
       "_model_module_version": "1.5.0",
       "_model_name": "HBoxModel",
       "_view_count": null,
       "_view_module": "@jupyter-widgets/controls",
       "_view_module_version": "1.5.0",
       "_view_name": "HBoxView",
       "box_style": "",
       "children": [
        "IPY_MODEL_682282e137a74f31954add96410ee04c",
        "IPY_MODEL_41b9ee28159343059fd50458b0d565ec",
        "IPY_MODEL_c50903de7428417c9b44fbb50cad972e"
       ],
       "layout": "IPY_MODEL_a8f06632d6794f659d5fb38e6174113e"
      }
     },
     "1aced7b27e774f02880e701bd9e2bcf2": {
      "model_module": "@jupyter-widgets/controls",
      "model_module_version": "1.5.0",
      "model_name": "DescriptionStyleModel",
      "state": {
       "_model_module": "@jupyter-widgets/controls",
       "_model_module_version": "1.5.0",
       "_model_name": "DescriptionStyleModel",
       "_view_count": null,
       "_view_module": "@jupyter-widgets/base",
       "_view_module_version": "1.2.0",
       "_view_name": "StyleView",
       "description_width": ""
      }
     },
     "1bcd792b9d924b87a3236a9be0d5a280": {
      "model_module": "@jupyter-widgets/base",
      "model_module_version": "1.2.0",
      "model_name": "LayoutModel",
      "state": {
       "_model_module": "@jupyter-widgets/base",
       "_model_module_version": "1.2.0",
       "_model_name": "LayoutModel",
       "_view_count": null,
       "_view_module": "@jupyter-widgets/base",
       "_view_module_version": "1.2.0",
       "_view_name": "LayoutView",
       "align_content": null,
       "align_items": null,
       "align_self": null,
       "border": null,
       "bottom": null,
       "display": null,
       "flex": null,
       "flex_flow": null,
       "grid_area": null,
       "grid_auto_columns": null,
       "grid_auto_flow": null,
       "grid_auto_rows": null,
       "grid_column": null,
       "grid_gap": null,
       "grid_row": null,
       "grid_template_areas": null,
       "grid_template_columns": null,
       "grid_template_rows": null,
       "height": null,
       "justify_content": null,
       "justify_items": null,
       "left": null,
       "margin": null,
       "max_height": null,
       "max_width": null,
       "min_height": null,
       "min_width": null,
       "object_fit": null,
       "object_position": null,
       "order": null,
       "overflow": null,
       "overflow_x": null,
       "overflow_y": null,
       "padding": null,
       "right": null,
       "top": null,
       "visibility": null,
       "width": null
      }
     },
     "21db53688c474fbf927ee1bb4a6142b9": {
      "model_module": "@jupyter-widgets/controls",
      "model_module_version": "1.5.0",
      "model_name": "ProgressStyleModel",
      "state": {
       "_model_module": "@jupyter-widgets/controls",
       "_model_module_version": "1.5.0",
       "_model_name": "ProgressStyleModel",
       "_view_count": null,
       "_view_module": "@jupyter-widgets/base",
       "_view_module_version": "1.2.0",
       "_view_name": "StyleView",
       "bar_color": null,
       "description_width": ""
      }
     },
     "3ae1c2269c434de3a17e2151cf3ffadf": {
      "model_module": "@jupyter-widgets/base",
      "model_module_version": "1.2.0",
      "model_name": "LayoutModel",
      "state": {
       "_model_module": "@jupyter-widgets/base",
       "_model_module_version": "1.2.0",
       "_model_name": "LayoutModel",
       "_view_count": null,
       "_view_module": "@jupyter-widgets/base",
       "_view_module_version": "1.2.0",
       "_view_name": "LayoutView",
       "align_content": null,
       "align_items": null,
       "align_self": null,
       "border": null,
       "bottom": null,
       "display": null,
       "flex": null,
       "flex_flow": null,
       "grid_area": null,
       "grid_auto_columns": null,
       "grid_auto_flow": null,
       "grid_auto_rows": null,
       "grid_column": null,
       "grid_gap": null,
       "grid_row": null,
       "grid_template_areas": null,
       "grid_template_columns": null,
       "grid_template_rows": null,
       "height": null,
       "justify_content": null,
       "justify_items": null,
       "left": null,
       "margin": null,
       "max_height": null,
       "max_width": null,
       "min_height": null,
       "min_width": null,
       "object_fit": null,
       "object_position": null,
       "order": null,
       "overflow": null,
       "overflow_x": null,
       "overflow_y": null,
       "padding": null,
       "right": null,
       "top": null,
       "visibility": null,
       "width": null
      }
     },
     "3c0c9cf80bc242ac820ce120db57fcb0": {
      "model_module": "@jupyter-widgets/base",
      "model_module_version": "1.2.0",
      "model_name": "LayoutModel",
      "state": {
       "_model_module": "@jupyter-widgets/base",
       "_model_module_version": "1.2.0",
       "_model_name": "LayoutModel",
       "_view_count": null,
       "_view_module": "@jupyter-widgets/base",
       "_view_module_version": "1.2.0",
       "_view_name": "LayoutView",
       "align_content": null,
       "align_items": null,
       "align_self": null,
       "border": null,
       "bottom": null,
       "display": null,
       "flex": null,
       "flex_flow": null,
       "grid_area": null,
       "grid_auto_columns": null,
       "grid_auto_flow": null,
       "grid_auto_rows": null,
       "grid_column": null,
       "grid_gap": null,
       "grid_row": null,
       "grid_template_areas": null,
       "grid_template_columns": null,
       "grid_template_rows": null,
       "height": null,
       "justify_content": null,
       "justify_items": null,
       "left": null,
       "margin": null,
       "max_height": null,
       "max_width": null,
       "min_height": null,
       "min_width": null,
       "object_fit": null,
       "object_position": null,
       "order": null,
       "overflow": null,
       "overflow_x": null,
       "overflow_y": null,
       "padding": null,
       "right": null,
       "top": null,
       "visibility": null,
       "width": null
      }
     },
     "41b9ee28159343059fd50458b0d565ec": {
      "model_module": "@jupyter-widgets/controls",
      "model_module_version": "1.5.0",
      "model_name": "FloatProgressModel",
      "state": {
       "_dom_classes": [],
       "_model_module": "@jupyter-widgets/controls",
       "_model_module_version": "1.5.0",
       "_model_name": "FloatProgressModel",
       "_view_count": null,
       "_view_module": "@jupyter-widgets/controls",
       "_view_module_version": "1.5.0",
       "_view_name": "ProgressView",
       "bar_style": "success",
       "description": "",
       "description_tooltip": null,
       "layout": "IPY_MODEL_c1fc296ffc80464fb151f2a82cae24bd",
       "max": 3271420488.0,
       "min": 0.0,
       "orientation": "horizontal",
       "style": "IPY_MODEL_bfc5fee82f0b4120b913d6445cf6b9e7",
       "value": 3271420488.0
      }
     },
     "434c5249aa334ddb944e62a640e448ce": {
      "model_module": "@jupyter-widgets/controls",
      "model_module_version": "1.5.0",
      "model_name": "HTMLModel",
      "state": {
       "_dom_classes": [],
       "_model_module": "@jupyter-widgets/controls",
       "_model_module_version": "1.5.0",
       "_model_name": "HTMLModel",
       "_view_count": null,
       "_view_module": "@jupyter-widgets/controls",
       "_view_module_version": "1.5.0",
       "_view_name": "HTMLView",
       "description": "",
       "description_tooltip": null,
       "layout": "IPY_MODEL_d2b247212b104098a9de85234aabb2ee",
       "placeholder": "​",
       "style": "IPY_MODEL_f676e1b814874c849b23110f0c66e80a",
       "value": "Downloading: 100%"
      }
     },
     "509218226f2a401ea0b249d913df66dc": {
      "model_module": "@jupyter-widgets/base",
      "model_module_version": "1.2.0",
      "model_name": "LayoutModel",
      "state": {
       "_model_module": "@jupyter-widgets/base",
       "_model_module_version": "1.2.0",
       "_model_name": "LayoutModel",
       "_view_count": null,
       "_view_module": "@jupyter-widgets/base",
       "_view_module_version": "1.2.0",
       "_view_name": "LayoutView",
       "align_content": null,
       "align_items": null,
       "align_self": null,
       "border": null,
       "bottom": null,
       "display": null,
       "flex": null,
       "flex_flow": null,
       "grid_area": null,
       "grid_auto_columns": null,
       "grid_auto_flow": null,
       "grid_auto_rows": null,
       "grid_column": null,
       "grid_gap": null,
       "grid_row": null,
       "grid_template_areas": null,
       "grid_template_columns": null,
       "grid_template_rows": null,
       "height": null,
       "justify_content": null,
       "justify_items": null,
       "left": null,
       "margin": null,
       "max_height": null,
       "max_width": null,
       "min_height": null,
       "min_width": null,
       "object_fit": null,
       "object_position": null,
       "order": null,
       "overflow": null,
       "overflow_x": null,
       "overflow_y": null,
       "padding": null,
       "right": null,
       "top": null,
       "visibility": null,
       "width": null
      }
     },
     "55c17c26d8614ca8aad7e54ac85976fa": {
      "model_module": "@jupyter-widgets/base",
      "model_module_version": "1.2.0",
      "model_name": "LayoutModel",
      "state": {
       "_model_module": "@jupyter-widgets/base",
       "_model_module_version": "1.2.0",
       "_model_name": "LayoutModel",
       "_view_count": null,
       "_view_module": "@jupyter-widgets/base",
       "_view_module_version": "1.2.0",
       "_view_name": "LayoutView",
       "align_content": null,
       "align_items": null,
       "align_self": null,
       "border": null,
       "bottom": null,
       "display": null,
       "flex": null,
       "flex_flow": null,
       "grid_area": null,
       "grid_auto_columns": null,
       "grid_auto_flow": null,
       "grid_auto_rows": null,
       "grid_column": null,
       "grid_gap": null,
       "grid_row": null,
       "grid_template_areas": null,
       "grid_template_columns": null,
       "grid_template_rows": null,
       "height": null,
       "justify_content": null,
       "justify_items": null,
       "left": null,
       "margin": null,
       "max_height": null,
       "max_width": null,
       "min_height": null,
       "min_width": null,
       "object_fit": null,
       "object_position": null,
       "order": null,
       "overflow": null,
       "overflow_x": null,
       "overflow_y": null,
       "padding": null,
       "right": null,
       "top": null,
       "visibility": null,
       "width": null
      }
     },
     "66131cbf6a6b46b585e3ecb2a4ed4b22": {
      "model_module": "@jupyter-widgets/base",
      "model_module_version": "1.2.0",
      "model_name": "LayoutModel",
      "state": {
       "_model_module": "@jupyter-widgets/base",
       "_model_module_version": "1.2.0",
       "_model_name": "LayoutModel",
       "_view_count": null,
       "_view_module": "@jupyter-widgets/base",
       "_view_module_version": "1.2.0",
       "_view_name": "LayoutView",
       "align_content": null,
       "align_items": null,
       "align_self": null,
       "border": null,
       "bottom": null,
       "display": null,
       "flex": null,
       "flex_flow": null,
       "grid_area": null,
       "grid_auto_columns": null,
       "grid_auto_flow": null,
       "grid_auto_rows": null,
       "grid_column": null,
       "grid_gap": null,
       "grid_row": null,
       "grid_template_areas": null,
       "grid_template_columns": null,
       "grid_template_rows": null,
       "height": null,
       "justify_content": null,
       "justify_items": null,
       "left": null,
       "margin": null,
       "max_height": null,
       "max_width": null,
       "min_height": null,
       "min_width": null,
       "object_fit": null,
       "object_position": null,
       "order": null,
       "overflow": null,
       "overflow_x": null,
       "overflow_y": null,
       "padding": null,
       "right": null,
       "top": null,
       "visibility": null,
       "width": null
      }
     },
     "66ef1136f22f47949d7f52734769792c": {
      "model_module": "@jupyter-widgets/controls",
      "model_module_version": "1.5.0",
      "model_name": "FloatProgressModel",
      "state": {
       "_dom_classes": [],
       "_model_module": "@jupyter-widgets/controls",
       "_model_module_version": "1.5.0",
       "_model_name": "FloatProgressModel",
       "_view_count": null,
       "_view_module": "@jupyter-widgets/controls",
       "_view_module_version": "1.5.0",
       "_view_name": "ProgressView",
       "bar_style": "success",
       "description": "",
       "description_tooltip": null,
       "layout": "IPY_MODEL_55c17c26d8614ca8aad7e54ac85976fa",
       "max": 5069051.0,
       "min": 0.0,
       "orientation": "horizontal",
       "style": "IPY_MODEL_db65cad987ee4d38b7b52a6fd22465d5",
       "value": 5069051.0
      }
     },
     "682282e137a74f31954add96410ee04c": {
      "model_module": "@jupyter-widgets/controls",
      "model_module_version": "1.5.0",
      "model_name": "HTMLModel",
      "state": {
       "_dom_classes": [],
       "_model_module": "@jupyter-widgets/controls",
       "_model_module_version": "1.5.0",
       "_model_name": "HTMLModel",
       "_view_count": null,
       "_view_module": "@jupyter-widgets/controls",
       "_view_module_version": "1.5.0",
       "_view_name": "HTMLView",
       "description": "",
       "description_tooltip": null,
       "layout": "IPY_MODEL_00506afc8ff445ef9dfb67c26b756198",
       "placeholder": "​",
       "style": "IPY_MODEL_bca7e0c487674d4c8477ea09cb57b157",
       "value": "Downloading: 100%"
      }
     },
     "7c36c4a1f4284bada0f12f38e0778e76": {
      "model_module": "@jupyter-widgets/controls",
      "model_module_version": "1.5.0",
      "model_name": "HTMLModel",
      "state": {
       "_dom_classes": [],
       "_model_module": "@jupyter-widgets/controls",
       "_model_module_version": "1.5.0",
       "_model_name": "HTMLModel",
       "_view_count": null,
       "_view_module": "@jupyter-widgets/controls",
       "_view_module_version": "1.5.0",
       "_view_name": "HTMLView",
       "description": "",
       "description_tooltip": null,
       "layout": "IPY_MODEL_3ae1c2269c434de3a17e2151cf3ffadf",
       "placeholder": "​",
       "style": "IPY_MODEL_d0df21cd64bb471093ba8db7dffcebcc",
       "value": " 513/513 [00:00&lt;00:00, 17.5kB/s]"
      }
     },
     "7fd13d790ebb4a56917a55d9a560b58e": {
      "model_module": "@jupyter-widgets/controls",
      "model_module_version": "1.5.0",
      "model_name": "HBoxModel",
      "state": {
       "_dom_classes": [],
       "_model_module": "@jupyter-widgets/controls",
       "_model_module_version": "1.5.0",
       "_model_name": "HBoxModel",
       "_view_count": null,
       "_view_module": "@jupyter-widgets/controls",
       "_view_module_version": "1.5.0",
       "_view_name": "HBoxView",
       "box_style": "",
       "children": [
        "IPY_MODEL_fcaae0dcaefe4ae6892ef8b30a68ae2e",
        "IPY_MODEL_8595c1ae80af42caac18f91a4c659fd2",
        "IPY_MODEL_7c36c4a1f4284bada0f12f38e0778e76"
       ],
       "layout": "IPY_MODEL_1bcd792b9d924b87a3236a9be0d5a280"
      }
     },
     "8006a91369e34d0db628a9ea8e6a18f9": {
      "model_module": "@jupyter-widgets/controls",
      "model_module_version": "1.5.0",
      "model_name": "HTMLModel",
      "state": {
       "_dom_classes": [],
       "_model_module": "@jupyter-widgets/controls",
       "_model_module_version": "1.5.0",
       "_model_name": "HTMLModel",
       "_view_count": null,
       "_view_module": "@jupyter-widgets/controls",
       "_view_module_version": "1.5.0",
       "_view_name": "HTMLView",
       "description": "",
       "description_tooltip": null,
       "layout": "IPY_MODEL_824f61388dc24e4da72707263637093b",
       "placeholder": "​",
       "style": "IPY_MODEL_1aced7b27e774f02880e701bd9e2bcf2",
       "value": " 5.07M/5.07M [00:00&lt;00:00, 12.2MB/s]"
      }
     },
     "824f61388dc24e4da72707263637093b": {
      "model_module": "@jupyter-widgets/base",
      "model_module_version": "1.2.0",
      "model_name": "LayoutModel",
      "state": {
       "_model_module": "@jupyter-widgets/base",
       "_model_module_version": "1.2.0",
       "_model_name": "LayoutModel",
       "_view_count": null,
       "_view_module": "@jupyter-widgets/base",
       "_view_module_version": "1.2.0",
       "_view_name": "LayoutView",
       "align_content": null,
       "align_items": null,
       "align_self": null,
       "border": null,
       "bottom": null,
       "display": null,
       "flex": null,
       "flex_flow": null,
       "grid_area": null,
       "grid_auto_columns": null,
       "grid_auto_flow": null,
       "grid_auto_rows": null,
       "grid_column": null,
       "grid_gap": null,
       "grid_row": null,
       "grid_template_areas": null,
       "grid_template_columns": null,
       "grid_template_rows": null,
       "height": null,
       "justify_content": null,
       "justify_items": null,
       "left": null,
       "margin": null,
       "max_height": null,
       "max_width": null,
       "min_height": null,
       "min_width": null,
       "object_fit": null,
       "object_position": null,
       "order": null,
       "overflow": null,
       "overflow_x": null,
       "overflow_y": null,
       "padding": null,
       "right": null,
       "top": null,
       "visibility": null,
       "width": null
      }
     },
     "8595c1ae80af42caac18f91a4c659fd2": {
      "model_module": "@jupyter-widgets/controls",
      "model_module_version": "1.5.0",
      "model_name": "FloatProgressModel",
      "state": {
       "_dom_classes": [],
       "_model_module": "@jupyter-widgets/controls",
       "_model_module_version": "1.5.0",
       "_model_name": "FloatProgressModel",
       "_view_count": null,
       "_view_module": "@jupyter-widgets/controls",
       "_view_module_version": "1.5.0",
       "_view_name": "ProgressView",
       "bar_style": "success",
       "description": "",
       "description_tooltip": null,
       "layout": "IPY_MODEL_3c0c9cf80bc242ac820ce120db57fcb0",
       "max": 513.0,
       "min": 0.0,
       "orientation": "horizontal",
       "style": "IPY_MODEL_21db53688c474fbf927ee1bb4a6142b9",
       "value": 513.0
      }
     },
     "a8f06632d6794f659d5fb38e6174113e": {
      "model_module": "@jupyter-widgets/base",
      "model_module_version": "1.2.0",
      "model_name": "LayoutModel",
      "state": {
       "_model_module": "@jupyter-widgets/base",
       "_model_module_version": "1.2.0",
       "_model_name": "LayoutModel",
       "_view_count": null,
       "_view_module": "@jupyter-widgets/base",
       "_view_module_version": "1.2.0",
       "_view_name": "LayoutView",
       "align_content": null,
       "align_items": null,
       "align_self": null,
       "border": null,
       "bottom": null,
       "display": null,
       "flex": null,
       "flex_flow": null,
       "grid_area": null,
       "grid_auto_columns": null,
       "grid_auto_flow": null,
       "grid_auto_rows": null,
       "grid_column": null,
       "grid_gap": null,
       "grid_row": null,
       "grid_template_areas": null,
       "grid_template_columns": null,
       "grid_template_rows": null,
       "height": null,
       "justify_content": null,
       "justify_items": null,
       "left": null,
       "margin": null,
       "max_height": null,
       "max_width": null,
       "min_height": null,
       "min_width": null,
       "object_fit": null,
       "object_position": null,
       "order": null,
       "overflow": null,
       "overflow_x": null,
       "overflow_y": null,
       "padding": null,
       "right": null,
       "top": null,
       "visibility": null,
       "width": null
      }
     },
     "bca7e0c487674d4c8477ea09cb57b157": {
      "model_module": "@jupyter-widgets/controls",
      "model_module_version": "1.5.0",
      "model_name": "DescriptionStyleModel",
      "state": {
       "_model_module": "@jupyter-widgets/controls",
       "_model_module_version": "1.5.0",
       "_model_name": "DescriptionStyleModel",
       "_view_count": null,
       "_view_module": "@jupyter-widgets/base",
       "_view_module_version": "1.2.0",
       "_view_name": "StyleView",
       "description_width": ""
      }
     },
     "bfc5fee82f0b4120b913d6445cf6b9e7": {
      "model_module": "@jupyter-widgets/controls",
      "model_module_version": "1.5.0",
      "model_name": "ProgressStyleModel",
      "state": {
       "_model_module": "@jupyter-widgets/controls",
       "_model_module_version": "1.5.0",
       "_model_name": "ProgressStyleModel",
       "_view_count": null,
       "_view_module": "@jupyter-widgets/base",
       "_view_module_version": "1.2.0",
       "_view_name": "StyleView",
       "bar_color": null,
       "description_width": ""
      }
     },
     "c1fc296ffc80464fb151f2a82cae24bd": {
      "model_module": "@jupyter-widgets/base",
      "model_module_version": "1.2.0",
      "model_name": "LayoutModel",
      "state": {
       "_model_module": "@jupyter-widgets/base",
       "_model_module_version": "1.2.0",
       "_model_name": "LayoutModel",
       "_view_count": null,
       "_view_module": "@jupyter-widgets/base",
       "_view_module_version": "1.2.0",
       "_view_name": "LayoutView",
       "align_content": null,
       "align_items": null,
       "align_self": null,
       "border": null,
       "bottom": null,
       "display": null,
       "flex": null,
       "flex_flow": null,
       "grid_area": null,
       "grid_auto_columns": null,
       "grid_auto_flow": null,
       "grid_auto_rows": null,
       "grid_column": null,
       "grid_gap": null,
       "grid_row": null,
       "grid_template_areas": null,
       "grid_template_columns": null,
       "grid_template_rows": null,
       "height": null,
       "justify_content": null,
       "justify_items": null,
       "left": null,
       "margin": null,
       "max_height": null,
       "max_width": null,
       "min_height": null,
       "min_width": null,
       "object_fit": null,
       "object_position": null,
       "order": null,
       "overflow": null,
       "overflow_x": null,
       "overflow_y": null,
       "padding": null,
       "right": null,
       "top": null,
       "visibility": null,
       "width": null
      }
     },
     "c50903de7428417c9b44fbb50cad972e": {
      "model_module": "@jupyter-widgets/controls",
      "model_module_version": "1.5.0",
      "model_name": "HTMLModel",
      "state": {
       "_dom_classes": [],
       "_model_module": "@jupyter-widgets/controls",
       "_model_module_version": "1.5.0",
       "_model_name": "HTMLModel",
       "_view_count": null,
       "_view_module": "@jupyter-widgets/controls",
       "_view_module_version": "1.5.0",
       "_view_name": "HTMLView",
       "description": "",
       "description_tooltip": null,
       "layout": "IPY_MODEL_0420ed1386514d0a862f54a61170f4d9",
       "placeholder": "​",
       "style": "IPY_MODEL_c80ee66686b6459cbb7670897ee27a0d",
       "value": " 3.27G/3.27G [01:24&lt;00:00, 38.8MB/s]"
      }
     },
     "c80ee66686b6459cbb7670897ee27a0d": {
      "model_module": "@jupyter-widgets/controls",
      "model_module_version": "1.5.0",
      "model_name": "DescriptionStyleModel",
      "state": {
       "_model_module": "@jupyter-widgets/controls",
       "_model_module_version": "1.5.0",
       "_model_name": "DescriptionStyleModel",
       "_view_count": null,
       "_view_module": "@jupyter-widgets/base",
       "_view_module_version": "1.2.0",
       "_view_name": "StyleView",
       "description_width": ""
      }
     },
     "c9e6a993ae7745c9b0d7af63151c96af": {
      "model_module": "@jupyter-widgets/controls",
      "model_module_version": "1.5.0",
      "model_name": "HBoxModel",
      "state": {
       "_dom_classes": [],
       "_model_module": "@jupyter-widgets/controls",
       "_model_module_version": "1.5.0",
       "_model_name": "HBoxModel",
       "_view_count": null,
       "_view_module": "@jupyter-widgets/controls",
       "_view_module_version": "1.5.0",
       "_view_name": "HBoxView",
       "box_style": "",
       "children": [
        "IPY_MODEL_434c5249aa334ddb944e62a640e448ce",
        "IPY_MODEL_66ef1136f22f47949d7f52734769792c",
        "IPY_MODEL_8006a91369e34d0db628a9ea8e6a18f9"
       ],
       "layout": "IPY_MODEL_66131cbf6a6b46b585e3ecb2a4ed4b22"
      }
     },
     "d0df21cd64bb471093ba8db7dffcebcc": {
      "model_module": "@jupyter-widgets/controls",
      "model_module_version": "1.5.0",
      "model_name": "DescriptionStyleModel",
      "state": {
       "_model_module": "@jupyter-widgets/controls",
       "_model_module_version": "1.5.0",
       "_model_name": "DescriptionStyleModel",
       "_view_count": null,
       "_view_module": "@jupyter-widgets/base",
       "_view_module_version": "1.2.0",
       "_view_name": "StyleView",
       "description_width": ""
      }
     },
     "d2b247212b104098a9de85234aabb2ee": {
      "model_module": "@jupyter-widgets/base",
      "model_module_version": "1.2.0",
      "model_name": "LayoutModel",
      "state": {
       "_model_module": "@jupyter-widgets/base",
       "_model_module_version": "1.2.0",
       "_model_name": "LayoutModel",
       "_view_count": null,
       "_view_module": "@jupyter-widgets/base",
       "_view_module_version": "1.2.0",
       "_view_name": "LayoutView",
       "align_content": null,
       "align_items": null,
       "align_self": null,
       "border": null,
       "bottom": null,
       "display": null,
       "flex": null,
       "flex_flow": null,
       "grid_area": null,
       "grid_auto_columns": null,
       "grid_auto_flow": null,
       "grid_auto_rows": null,
       "grid_column": null,
       "grid_gap": null,
       "grid_row": null,
       "grid_template_areas": null,
       "grid_template_columns": null,
       "grid_template_rows": null,
       "height": null,
       "justify_content": null,
       "justify_items": null,
       "left": null,
       "margin": null,
       "max_height": null,
       "max_width": null,
       "min_height": null,
       "min_width": null,
       "object_fit": null,
       "object_position": null,
       "order": null,
       "overflow": null,
       "overflow_x": null,
       "overflow_y": null,
       "padding": null,
       "right": null,
       "top": null,
       "visibility": null,
       "width": null
      }
     },
     "db65cad987ee4d38b7b52a6fd22465d5": {
      "model_module": "@jupyter-widgets/controls",
      "model_module_version": "1.5.0",
      "model_name": "ProgressStyleModel",
      "state": {
       "_model_module": "@jupyter-widgets/controls",
       "_model_module_version": "1.5.0",
       "_model_name": "ProgressStyleModel",
       "_view_count": null,
       "_view_module": "@jupyter-widgets/base",
       "_view_module_version": "1.2.0",
       "_view_name": "StyleView",
       "bar_color": null,
       "description_width": ""
      }
     },
     "f676e1b814874c849b23110f0c66e80a": {
      "model_module": "@jupyter-widgets/controls",
      "model_module_version": "1.5.0",
      "model_name": "DescriptionStyleModel",
      "state": {
       "_model_module": "@jupyter-widgets/controls",
       "_model_module_version": "1.5.0",
       "_model_name": "DescriptionStyleModel",
       "_view_count": null,
       "_view_module": "@jupyter-widgets/base",
       "_view_module_version": "1.2.0",
       "_view_name": "StyleView",
       "description_width": ""
      }
     },
     "fcaae0dcaefe4ae6892ef8b30a68ae2e": {
      "model_module": "@jupyter-widgets/controls",
      "model_module_version": "1.5.0",
      "model_name": "HTMLModel",
      "state": {
       "_dom_classes": [],
       "_model_module": "@jupyter-widgets/controls",
       "_model_module_version": "1.5.0",
       "_model_name": "HTMLModel",
       "_view_count": null,
       "_view_module": "@jupyter-widgets/controls",
       "_view_module_version": "1.5.0",
       "_view_name": "HTMLView",
       "description": "",
       "description_tooltip": null,
       "layout": "IPY_MODEL_509218226f2a401ea0b249d913df66dc",
       "placeholder": "​",
       "style": "IPY_MODEL_0fa0587bc2834f85b7b723eed8c69490",
       "value": "Downloading: 100%"
      }
     }
    },
    "version_major": 2,
    "version_minor": 0
   }
  }
 },
 "nbformat": 4,
 "nbformat_minor": 5
}
