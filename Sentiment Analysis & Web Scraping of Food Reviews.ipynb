{
 "cells": [
  {
   "cell_type": "code",
   "execution_count": 1,
   "id": "80f89834",
   "metadata": {},
   "outputs": [],
   "source": [
    "import pandas as pd             # Importing pandas library for data manipulation and analysis\n",
    "import numpy as np              # Importing numpy library for numerical operations\n",
    "import matplotlib.pyplot as plt # Importing matplotlib library for data visualization\n",
    "import seaborn as sns           # Importing seaborn library for statistical data visualization\n",
    "\n",
    "plt.style.use('ggplot')         # Setting the plot style to 'ggplot' for aesthetic purposes\n",
    "import nltk                     # Importing nltk library for natural language processing tasks"
   ]
  },
  {
   "cell_type": "code",
   "execution_count": 2,
   "id": "33982f38",
   "metadata": {},
   "outputs": [],
   "source": [
    "# Reading the Data from the specified file path\n",
    "df = pd.read_csv(\"C:\\\\Users\\\\naimu\\\\Music\\\\Sentiment analysis NLP & ML\\\\All Detaset\\\\Sentiment Analysis of Food Reviews\\\\amazon_reviews.csv\")"
   ]
  },
  {
   "cell_type": "code",
   "execution_count": 3,
   "id": "6667a7e4",
   "metadata": {},
   "outputs": [
    {
     "data": {
      "text/html": [
       "<div>\n",
       "<style scoped>\n",
       "    .dataframe tbody tr th:only-of-type {\n",
       "        vertical-align: middle;\n",
       "    }\n",
       "\n",
       "    .dataframe tbody tr th {\n",
       "        vertical-align: top;\n",
       "    }\n",
       "\n",
       "    .dataframe thead th {\n",
       "        text-align: right;\n",
       "    }\n",
       "</style>\n",
       "<table border=\"1\" class=\"dataframe\">\n",
       "  <thead>\n",
       "    <tr style=\"text-align: right;\">\n",
       "      <th></th>\n",
       "      <th>Id</th>\n",
       "      <th>ProductId</th>\n",
       "      <th>UserId</th>\n",
       "      <th>ProfileName</th>\n",
       "      <th>HelpfulnessNumerator</th>\n",
       "      <th>HelpfulnessDenominator</th>\n",
       "      <th>Score</th>\n",
       "      <th>Time</th>\n",
       "      <th>Summary</th>\n",
       "      <th>Text</th>\n",
       "    </tr>\n",
       "  </thead>\n",
       "  <tbody>\n",
       "    <tr>\n",
       "      <th>0</th>\n",
       "      <td>1</td>\n",
       "      <td>B001E4KFG0</td>\n",
       "      <td>A3SGXH7AUHU8GW</td>\n",
       "      <td>delmartian</td>\n",
       "      <td>1</td>\n",
       "      <td>1</td>\n",
       "      <td>5</td>\n",
       "      <td>1303862400</td>\n",
       "      <td>Good Quality Dog Food</td>\n",
       "      <td>I have bought several of the Vitality canned d...</td>\n",
       "    </tr>\n",
       "    <tr>\n",
       "      <th>1</th>\n",
       "      <td>2</td>\n",
       "      <td>B00813GRG4</td>\n",
       "      <td>A1D87F6ZCVE5NK</td>\n",
       "      <td>dll pa</td>\n",
       "      <td>0</td>\n",
       "      <td>0</td>\n",
       "      <td>1</td>\n",
       "      <td>1346976000</td>\n",
       "      <td>Not as Advertised</td>\n",
       "      <td>Product arrived labeled as Jumbo Salted Peanut...</td>\n",
       "    </tr>\n",
       "    <tr>\n",
       "      <th>2</th>\n",
       "      <td>3</td>\n",
       "      <td>B000LQOCH0</td>\n",
       "      <td>ABXLMWJIXXAIN</td>\n",
       "      <td>Natalia Corres \"Natalia Corres\"</td>\n",
       "      <td>1</td>\n",
       "      <td>1</td>\n",
       "      <td>4</td>\n",
       "      <td>1219017600</td>\n",
       "      <td>\"Delight\" says it all</td>\n",
       "      <td>This is a confection that has been around a fe...</td>\n",
       "    </tr>\n",
       "    <tr>\n",
       "      <th>3</th>\n",
       "      <td>4</td>\n",
       "      <td>B000UA0QIQ</td>\n",
       "      <td>A395BORC6FGVXV</td>\n",
       "      <td>Karl</td>\n",
       "      <td>3</td>\n",
       "      <td>3</td>\n",
       "      <td>2</td>\n",
       "      <td>1307923200</td>\n",
       "      <td>Cough Medicine</td>\n",
       "      <td>If you are looking for the secret ingredient i...</td>\n",
       "    </tr>\n",
       "    <tr>\n",
       "      <th>4</th>\n",
       "      <td>5</td>\n",
       "      <td>B006K2ZZ7K</td>\n",
       "      <td>A1UQRSCLF8GW1T</td>\n",
       "      <td>Michael D. Bigham \"M. Wassir\"</td>\n",
       "      <td>0</td>\n",
       "      <td>0</td>\n",
       "      <td>5</td>\n",
       "      <td>1350777600</td>\n",
       "      <td>Great taffy</td>\n",
       "      <td>Great taffy at a great price.  There was a wid...</td>\n",
       "    </tr>\n",
       "  </tbody>\n",
       "</table>\n",
       "</div>"
      ],
      "text/plain": [
       "   Id   ProductId          UserId                      ProfileName  \\\n",
       "0   1  B001E4KFG0  A3SGXH7AUHU8GW                       delmartian   \n",
       "1   2  B00813GRG4  A1D87F6ZCVE5NK                           dll pa   \n",
       "2   3  B000LQOCH0   ABXLMWJIXXAIN  Natalia Corres \"Natalia Corres\"   \n",
       "3   4  B000UA0QIQ  A395BORC6FGVXV                             Karl   \n",
       "4   5  B006K2ZZ7K  A1UQRSCLF8GW1T    Michael D. Bigham \"M. Wassir\"   \n",
       "\n",
       "   HelpfulnessNumerator  HelpfulnessDenominator  Score        Time  \\\n",
       "0                     1                       1      5  1303862400   \n",
       "1                     0                       0      1  1346976000   \n",
       "2                     1                       1      4  1219017600   \n",
       "3                     3                       3      2  1307923200   \n",
       "4                     0                       0      5  1350777600   \n",
       "\n",
       "                 Summary                                               Text  \n",
       "0  Good Quality Dog Food  I have bought several of the Vitality canned d...  \n",
       "1      Not as Advertised  Product arrived labeled as Jumbo Salted Peanut...  \n",
       "2  \"Delight\" says it all  This is a confection that has been around a fe...  \n",
       "3         Cough Medicine  If you are looking for the secret ingredient i...  \n",
       "4            Great taffy  Great taffy at a great price.  There was a wid...  "
      ]
     },
     "execution_count": 3,
     "metadata": {},
     "output_type": "execute_result"
    }
   ],
   "source": [
    "df.head()"
   ]
  },
  {
   "cell_type": "code",
   "execution_count": 4,
   "id": "1f126a81",
   "metadata": {},
   "outputs": [],
   "source": [
    "# Taking only 5000 records considering local machine capacity\n",
    "df = df.head(5000)"
   ]
  },
  {
   "cell_type": "code",
   "execution_count": 5,
   "id": "568f8bb8",
   "metadata": {},
   "outputs": [
    {
     "data": {
      "text/plain": [
       "'I have bought several of the Vitality canned dog food products and have found them all to be of good quality. The product looks more like a stew than a processed meat and it smells better. My Labrador is finicky and she appreciates this product better than  most.'"
      ]
     },
     "execution_count": 5,
     "metadata": {},
     "output_type": "execute_result"
    }
   ],
   "source": [
    "df['Text'].values[0]  # Accessing the value of the first entry in the 'Text' column of the DataFrame"
   ]
  },
  {
   "cell_type": "code",
   "execution_count": 6,
   "id": "70380804",
   "metadata": {},
   "outputs": [
    {
     "data": {
      "text/plain": [
       "(5000, 10)"
      ]
     },
     "execution_count": 6,
     "metadata": {},
     "output_type": "execute_result"
    }
   ],
   "source": [
    "df.shape"
   ]
  },
  {
   "cell_type": "code",
   "execution_count": 7,
   "id": "94c6f6b4",
   "metadata": {},
   "outputs": [
    {
     "data": {
      "image/png": "[encoded data removed]",
      "text/plain": [
       "<Figure size 1000x500 with 1 Axes>"
      ]
     },
     "metadata": {},
     "output_type": "display_data"
    }
   ],
   "source": [
    "# Plotting the counts of reviews by stars with customized color\n",
    "ax = df['Score'].value_counts().sort_index().plot(kind='bar',\n",
    "                                                  title='Counts of Reviews by Stars',\n",
    "                                                  figsize=(10, 5),\n",
    "                                                  color='blue')  # Changing the color to blue\n",
    "ax.set_xlabel('Review Stars')\n",
    "plt.show()"
   ]
  },
  {
   "cell_type": "code",
   "execution_count": 8,
   "id": "322b4a61",
   "metadata": {},
   "outputs": [],
   "source": [
    "#NLTK (Natural Language Toolkit)"
   ]
  },
  {
   "cell_type": "code",
   "execution_count": 9,
   "id": "0f12b8e4",
   "metadata": {},
   "outputs": [
    {
     "name": "stdout",
     "output_type": "stream",
     "text": [
      "The variety packs taste great!<br /><br />I have them every morning. At $0.30 cents per meal, I don't understand why everyone on earth isn't buying this stuff up.<br /><br />Maple and brown sugar is terrific, followed by apples and cinnamon, followed by regular. You don't get tired of the same ole thing, and they taste great.<br /><br />I just boil water from a small pot, empty the packet or 2 in a bowl, pour in boiling water, and watch it expand to 2x its size!<br /><br />Taste really good and takes minutes to prepare.<br /><br />Not sure why everyone on earth isn't this. Convenient, healthy, very quick, excellent quality, and extremely cheap...\n"
     ]
    }
   ],
   "source": [
    "example = df['Text'][40]  # Accessing the text at index 50 in the 'Text' column\n",
    "print(example)  # Printing the text"
   ]
  },
  {
   "cell_type": "code",
   "execution_count": 10,
   "id": "21f3b8c7",
   "metadata": {},
   "outputs": [
    {
     "data": {
      "text/plain": [
       "['The', 'variety', 'packs', 'taste', 'great', '!', '<', 'br', '/', '>']"
      ]
     },
     "execution_count": 10,
     "metadata": {},
     "output_type": "execute_result"
    }
   ],
   "source": [
    "tokens = nltk.word_tokenize(example)  # Tokenizing the text using nltk\n",
    "tokens[:10]  # Displaying the first 10 tokens"
   ]
  },
  {
   "cell_type": "code",
   "execution_count": 11,
   "id": "39f32bb1",
   "metadata": {},
   "outputs": [
    {
     "data": {
      "text/plain": [
       "[('The', 'DT'),\n",
       " ('variety', 'NN'),\n",
       " ('packs', 'VBZ'),\n",
       " ('taste', 'NN'),\n",
       " ('great', 'JJ'),\n",
       " ('!', '.'),\n",
       " ('<', 'JJ'),\n",
       " ('br', 'NN'),\n",
       " ('/', 'NNP'),\n",
       " ('>', 'NNP')]"
      ]
     },
     "execution_count": 11,
     "metadata": {},
     "output_type": "execute_result"
    }
   ],
   "source": [
    "tagged = nltk.pos_tag(tokens)  # Performing part-of-speech tagging on the tokens\n",
    "tagged[:10]  # Displaying the first 10 tagged tokens"
   ]
  },
  {
   "cell_type": "code",
   "execution_count": 12,
   "id": "63f99548",
   "metadata": {},
   "outputs": [
    {
     "name": "stdout",
     "output_type": "stream",
     "text": [
      "(S\n",
      "  The/DT\n",
      "  variety/NN\n",
      "  packs/VBZ\n",
      "  taste/NN\n",
      "  great/JJ\n",
      "  !/.\n",
      "  </JJ\n",
      "  br/NN\n",
      "  //NNP\n",
      "  >/NNP\n",
      "  </NNP\n",
      "  br/NN\n",
      "  //NNP\n",
      "  >/NN\n",
      "  I/PRP\n",
      "  have/VBP\n",
      "  them/PRP\n",
      "  every/DT\n",
      "  morning/NN\n",
      "  ./.\n",
      "  At/IN\n",
      "  $/$\n",
      "  0.30/CD\n",
      "  cents/NNS\n",
      "  per/IN\n",
      "  meal/NN\n",
      "  ,/,\n",
      "  I/PRP\n",
      "  do/VBP\n",
      "  n't/RB\n",
      "  understand/VB\n",
      "  why/WRB\n",
      "  everyone/NN\n",
      "  on/IN\n",
      "  earth/NN\n",
      "  is/VBZ\n",
      "  n't/RB\n",
      "  buying/VBG\n",
      "  this/DT\n",
      "  stuff/NN\n",
      "  up./JJ\n",
      "  </NNP\n",
      "  br/NN\n",
      "  //NNP\n",
      "  >/NNP\n",
      "  </NNP\n",
      "  br/NN\n",
      "  //NNP\n",
      "  >/NNP\n",
      "  Maple/NNP\n",
      "  and/CC\n",
      "  brown/JJ\n",
      "  sugar/NN\n",
      "  is/VBZ\n",
      "  terrific/JJ\n",
      "  ,/,\n",
      "  followed/VBN\n",
      "  by/IN\n",
      "  apples/NNS\n",
      "  and/CC\n",
      "  cinnamon/NN\n",
      "  ,/,\n",
      "  followed/VBN\n",
      "  by/IN\n",
      "  regular/JJ\n",
      "  ./.\n",
      "  You/PRP\n",
      "  do/VBP\n",
      "  n't/RB\n",
      "  get/VB\n",
      "  tired/VBN\n",
      "  of/IN\n",
      "  the/DT\n",
      "  same/JJ\n",
      "  ole/JJ\n",
      "  thing/NN\n",
      "  ,/,\n",
      "  and/CC\n",
      "  they/PRP\n",
      "  taste/VBP\n",
      "  great./JJ\n",
      "  </NNP\n",
      "  br/NN\n",
      "  //NNP\n",
      "  >/NNP\n",
      "  </NNP\n",
      "  br/NN\n",
      "  //NNP\n",
      "  >/NNP\n",
      "  I/PRP\n",
      "  just/RB\n",
      "  boil/VBP\n",
      "  water/NN\n",
      "  from/IN\n",
      "  a/DT\n",
      "  small/JJ\n",
      "  pot/NN\n",
      "  ,/,\n",
      "  empty/VBP\n",
      "  the/DT\n",
      "  packet/NN\n",
      "  or/CC\n",
      "  2/CD\n",
      "  in/IN\n",
      "  a/DT\n",
      "  bowl/NN\n",
      "  ,/,\n",
      "  pour/VBP\n",
      "  in/IN\n",
      "  boiling/VBG\n",
      "  water/NN\n",
      "  ,/,\n",
      "  and/CC\n",
      "  watch/VB\n",
      "  it/PRP\n",
      "  expand/VB\n",
      "  to/TO\n",
      "  2x/CD\n",
      "  its/PRP$\n",
      "  size/NN\n",
      "  !/.\n",
      "  </NN\n",
      "  br/NN\n",
      "  //NNP\n",
      "  >/NNP\n",
      "  </NNP\n",
      "  br/NN\n",
      "  //NNP\n",
      "  >/NNP\n",
      "  Taste/NNP\n",
      "  really/RB\n",
      "  good/JJ\n",
      "  and/CC\n",
      "  takes/VBZ\n",
      "  minutes/NNS\n",
      "  to/TO\n",
      "  prepare./VB\n",
      "  </NNP\n",
      "  br/NN\n",
      "  //NNP\n",
      "  >/NNP\n",
      "  </NNP\n",
      "  br/NN\n",
      "  //NNP\n",
      "  >/NNP\n",
      "  Not/RB\n",
      "  sure/JJ\n",
      "  why/WRB\n",
      "  everyone/NN\n",
      "  on/IN\n",
      "  earth/NN\n",
      "  is/VBZ\n",
      "  n't/RB\n",
      "  this/DT\n",
      "  ./.\n",
      "  Convenient/NNP\n",
      "  ,/,\n",
      "  healthy/JJ\n",
      "  ,/,\n",
      "  very/RB\n",
      "  quick/JJ\n",
      "  ,/,\n",
      "  excellent/JJ\n",
      "  quality/NN\n",
      "  ,/,\n",
      "  and/CC\n",
      "  extremely/RB\n",
      "  cheap/JJ\n",
      "  .../:)\n"
     ]
    }
   ],
   "source": [
    "entities = nltk.chunk.ne_chunk(tagged)  # Performing named entity recognition (NER) using NLTK's ne_chunk function\n",
    "entities.pprint()  # Pretty-printing the named entities extracted from the text"
   ]
  },
  {
   "cell_type": "code",
   "execution_count": 13,
   "id": "8b88c91d",
   "metadata": {},
   "outputs": [],
   "source": [
    "# Vader Sentiment Scoring"
   ]
  },
  {
   "cell_type": "code",
   "execution_count": 14,
   "id": "eab581aa",
   "metadata": {},
   "outputs": [
    {
     "name": "stderr",
     "output_type": "stream",
     "text": [
      "[nltk_data] Downloading package vader_lexicon to\n",
      "[nltk_data]     C:\\Users\\naimu\\AppData\\Roaming\\nltk_data...\n",
      "[nltk_data]   Package vader_lexicon is already up-to-date!\n"
     ]
    },
    {
     "data": {
      "text/plain": [
       "True"
      ]
     },
     "execution_count": 14,
     "metadata": {},
     "output_type": "execute_result"
    }
   ],
   "source": [
    "nltk.download('vader_lexicon')  # Downloading the VADER lexicon for sentiment analysis using NLTK"
   ]
  },
  {
   "cell_type": "code",
   "execution_count": 15,
   "id": "73c333cb",
   "metadata": {},
   "outputs": [],
   "source": [
    "from nltk.sentiment import SentimentIntensityAnalyzer  # Importing the SentimentIntensityAnalyzer class from NLTK's sentiment module\n",
    "from tqdm.notebook import tqdm  # Importing tqdm for displaying progress bars\n",
    "\n",
    "sia = SentimentIntensityAnalyzer()  # Initializing the SentimentIntensityAnalyzer"
   ]
  },
  {
   "cell_type": "code",
   "execution_count": 16,
   "id": "145266ba",
   "metadata": {},
   "outputs": [
    {
     "data": {
      "text/plain": [
       "<nltk.sentiment.vader.SentimentIntensityAnalyzer at 0x21b0dfaa6e0>"
      ]
     },
     "execution_count": 16,
     "metadata": {},
     "output_type": "execute_result"
    }
   ],
   "source": [
    "sia"
   ]
  },
  {
   "cell_type": "code",
   "execution_count": 17,
   "id": "77e7a09a",
   "metadata": {},
   "outputs": [
    {
     "data": {
      "text/plain": [
       "{'neg': 0.545, 'neu': 0.455, 'pos': 0.0, 'compound': -0.3384}"
      ]
     },
     "execution_count": 17,
     "metadata": {},
     "output_type": "execute_result"
    }
   ],
   "source": [
    "sia.polarity_scores('I am so nervous')  # Analyzing the sentiment polarity scores of the given text"
   ]
  },
  {
   "cell_type": "code",
   "execution_count": 18,
   "id": "d4a24c5f",
   "metadata": {},
   "outputs": [
    {
     "data": {
      "text/plain": [
       "{'neg': 0.0, 'neu': 0.334, 'pos': 0.666, 'compound': 0.6115}"
      ]
     },
     "execution_count": 18,
     "metadata": {},
     "output_type": "execute_result"
    }
   ],
   "source": [
    "sia.polarity_scores('I am so happy')  # Analyzing the sentiment polarity scores of the given text"
   ]
  },
  {
   "cell_type": "code",
   "execution_count": 19,
   "id": "824e326f",
   "metadata": {},
   "outputs": [
    {
     "data": {
      "text/plain": [
       "{'neg': 0.033, 'neu': 0.82, 'pos': 0.147, 'compound': 0.9301}"
      ]
     },
     "execution_count": 19,
     "metadata": {},
     "output_type": "execute_result"
    }
   ],
   "source": [
    "sia.polarity_scores(example)"
   ]
  },
  {
   "cell_type": "code",
   "execution_count": 20,
   "id": "f71370f7",
   "metadata": {},
   "outputs": [
    {
     "data": {
      "application/vnd.jupyter.widget-view+json": {
       "model_id": "789e37ea116341fabe5cd83d03dae037",
       "version_major": 2,
       "version_minor": 0
      },
      "text/plain": [
       "  0%|          | 0/5000 [00:00<?, ?it/s]"
      ]
     },
     "metadata": {},
     "output_type": "display_data"
    }
   ],
   "source": [
    "# Running the polarity score on the whole dataset\n",
    "results = {}  # Initializing an empty dictionary to store the results\n",
    "for i, row in tqdm(df.iterrows(), total=len(df)):  # Iterating over each row in the DataFrame\n",
    "    text = row['Text']  # Extracting the text from the current row\n",
    "    myid = row['Id']    # Extracting the ID from the current row\n",
    "    results[myid] = sia.polarity_scores(text)  # Calculating sentiment polarity scores and storing them in the dictionary"
   ]
  },
  {
   "cell_type": "code",
   "execution_count": 21,
   "id": "3dda00e6",
   "metadata": {},
   "outputs": [
    {
     "data": {
      "text/html": [
       "<div>\n",
       "<style scoped>\n",
       "    .dataframe tbody tr th:only-of-type {\n",
       "        vertical-align: middle;\n",
       "    }\n",
       "\n",
       "    .dataframe tbody tr th {\n",
       "        vertical-align: top;\n",
       "    }\n",
       "\n",
       "    .dataframe thead th {\n",
       "        text-align: right;\n",
       "    }\n",
       "</style>\n",
       "<table border=\"1\" class=\"dataframe\">\n",
       "  <thead>\n",
       "    <tr style=\"text-align: right;\">\n",
       "      <th></th>\n",
       "      <th>1</th>\n",
       "      <th>2</th>\n",
       "      <th>3</th>\n",
       "      <th>4</th>\n",
       "      <th>5</th>\n",
       "      <th>6</th>\n",
       "      <th>7</th>\n",
       "      <th>8</th>\n",
       "      <th>9</th>\n",
       "      <th>10</th>\n",
       "      <th>...</th>\n",
       "      <th>4991</th>\n",
       "      <th>4992</th>\n",
       "      <th>4993</th>\n",
       "      <th>4994</th>\n",
       "      <th>4995</th>\n",
       "      <th>4996</th>\n",
       "      <th>4997</th>\n",
       "      <th>4998</th>\n",
       "      <th>4999</th>\n",
       "      <th>5000</th>\n",
       "    </tr>\n",
       "  </thead>\n",
       "  <tbody>\n",
       "    <tr>\n",
       "      <th>neg</th>\n",
       "      <td>0.0000</td>\n",
       "      <td>0.1380</td>\n",
       "      <td>0.0910</td>\n",
       "      <td>0.0</td>\n",
       "      <td>0.0000</td>\n",
       "      <td>0.029</td>\n",
       "      <td>0.0340</td>\n",
       "      <td>0.0000</td>\n",
       "      <td>0.0000</td>\n",
       "      <td>0.0000</td>\n",
       "      <td>...</td>\n",
       "      <td>0.0000</td>\n",
       "      <td>0.0000</td>\n",
       "      <td>0.1150</td>\n",
       "      <td>0.0000</td>\n",
       "      <td>0.080</td>\n",
       "      <td>0.0250</td>\n",
       "      <td>0.0260</td>\n",
       "      <td>0.0970</td>\n",
       "      <td>0.1540</td>\n",
       "      <td>0.0000</td>\n",
       "    </tr>\n",
       "    <tr>\n",
       "      <th>neu</th>\n",
       "      <td>0.6950</td>\n",
       "      <td>0.8620</td>\n",
       "      <td>0.7540</td>\n",
       "      <td>1.0</td>\n",
       "      <td>0.5520</td>\n",
       "      <td>0.809</td>\n",
       "      <td>0.6930</td>\n",
       "      <td>0.5200</td>\n",
       "      <td>0.8510</td>\n",
       "      <td>0.7050</td>\n",
       "      <td>...</td>\n",
       "      <td>0.5650</td>\n",
       "      <td>0.8180</td>\n",
       "      <td>0.8480</td>\n",
       "      <td>0.6790</td>\n",
       "      <td>0.692</td>\n",
       "      <td>0.8830</td>\n",
       "      <td>0.7640</td>\n",
       "      <td>0.8270</td>\n",
       "      <td>0.6370</td>\n",
       "      <td>0.7170</td>\n",
       "    </tr>\n",
       "    <tr>\n",
       "      <th>pos</th>\n",
       "      <td>0.3050</td>\n",
       "      <td>0.0000</td>\n",
       "      <td>0.1550</td>\n",
       "      <td>0.0</td>\n",
       "      <td>0.4480</td>\n",
       "      <td>0.163</td>\n",
       "      <td>0.2730</td>\n",
       "      <td>0.4800</td>\n",
       "      <td>0.1490</td>\n",
       "      <td>0.2950</td>\n",
       "      <td>...</td>\n",
       "      <td>0.4350</td>\n",
       "      <td>0.1820</td>\n",
       "      <td>0.0370</td>\n",
       "      <td>0.3210</td>\n",
       "      <td>0.228</td>\n",
       "      <td>0.0920</td>\n",
       "      <td>0.2100</td>\n",
       "      <td>0.0760</td>\n",
       "      <td>0.2090</td>\n",
       "      <td>0.2830</td>\n",
       "    </tr>\n",
       "    <tr>\n",
       "      <th>compound</th>\n",
       "      <td>0.9441</td>\n",
       "      <td>-0.5664</td>\n",
       "      <td>0.8265</td>\n",
       "      <td>0.0</td>\n",
       "      <td>0.9468</td>\n",
       "      <td>0.883</td>\n",
       "      <td>0.9346</td>\n",
       "      <td>0.9487</td>\n",
       "      <td>0.6369</td>\n",
       "      <td>0.8313</td>\n",
       "      <td>...</td>\n",
       "      <td>0.9531</td>\n",
       "      <td>0.7177</td>\n",
       "      <td>-0.8264</td>\n",
       "      <td>0.9693</td>\n",
       "      <td>0.792</td>\n",
       "      <td>0.7193</td>\n",
       "      <td>0.9846</td>\n",
       "      <td>-0.0554</td>\n",
       "      <td>0.9078</td>\n",
       "      <td>0.9923</td>\n",
       "    </tr>\n",
       "  </tbody>\n",
       "</table>\n",
       "<p>4 rows × 5000 columns</p>\n",
       "</div>"
      ],
      "text/plain": [
       "            1       2       3     4       5      6       7       8       9     \\\n",
       "neg       0.0000  0.1380  0.0910   0.0  0.0000  0.029  0.0340  0.0000  0.0000   \n",
       "neu       0.6950  0.8620  0.7540   1.0  0.5520  0.809  0.6930  0.5200  0.8510   \n",
       "pos       0.3050  0.0000  0.1550   0.0  0.4480  0.163  0.2730  0.4800  0.1490   \n",
       "compound  0.9441 -0.5664  0.8265   0.0  0.9468  0.883  0.9346  0.9487  0.6369   \n",
       "\n",
       "            10    ...    4991    4992    4993    4994   4995    4996    4997  \\\n",
       "neg       0.0000  ...  0.0000  0.0000  0.1150  0.0000  0.080  0.0250  0.0260   \n",
       "neu       0.7050  ...  0.5650  0.8180  0.8480  0.6790  0.692  0.8830  0.7640   \n",
       "pos       0.2950  ...  0.4350  0.1820  0.0370  0.3210  0.228  0.0920  0.2100   \n",
       "compound  0.8313  ...  0.9531  0.7177 -0.8264  0.9693  0.792  0.7193  0.9846   \n",
       "\n",
       "            4998    4999    5000  \n",
       "neg       0.0970  0.1540  0.0000  \n",
       "neu       0.8270  0.6370  0.7170  \n",
       "pos       0.0760  0.2090  0.2830  \n",
       "compound -0.0554  0.9078  0.9923  \n",
       "\n",
       "[4 rows x 5000 columns]"
      ]
     },
     "execution_count": 21,
     "metadata": {},
     "output_type": "execute_result"
    }
   ],
   "source": [
    "pd.DataFrame(results)  # Creating a pandas DataFrame from the results dictionary"
   ]
  },
  {
   "cell_type": "code",
   "execution_count": 22,
   "id": "416aae2c",
   "metadata": {},
   "outputs": [],
   "source": [
    "vaders = pd.DataFrame(results).T"
   ]
  },
  {
   "cell_type": "code",
   "execution_count": 23,
   "id": "d30fbf8c",
   "metadata": {},
   "outputs": [
    {
     "data": {
      "text/html": [
       "<div>\n",
       "<style scoped>\n",
       "    .dataframe tbody tr th:only-of-type {\n",
       "        vertical-align: middle;\n",
       "    }\n",
       "\n",
       "    .dataframe tbody tr th {\n",
       "        vertical-align: top;\n",
       "    }\n",
       "\n",
       "    .dataframe thead th {\n",
       "        text-align: right;\n",
       "    }\n",
       "</style>\n",
       "<table border=\"1\" class=\"dataframe\">\n",
       "  <thead>\n",
       "    <tr style=\"text-align: right;\">\n",
       "      <th></th>\n",
       "      <th>neg</th>\n",
       "      <th>neu</th>\n",
       "      <th>pos</th>\n",
       "      <th>compound</th>\n",
       "    </tr>\n",
       "  </thead>\n",
       "  <tbody>\n",
       "    <tr>\n",
       "      <th>1</th>\n",
       "      <td>0.000</td>\n",
       "      <td>0.695</td>\n",
       "      <td>0.305</td>\n",
       "      <td>0.9441</td>\n",
       "    </tr>\n",
       "    <tr>\n",
       "      <th>2</th>\n",
       "      <td>0.138</td>\n",
       "      <td>0.862</td>\n",
       "      <td>0.000</td>\n",
       "      <td>-0.5664</td>\n",
       "    </tr>\n",
       "    <tr>\n",
       "      <th>3</th>\n",
       "      <td>0.091</td>\n",
       "      <td>0.754</td>\n",
       "      <td>0.155</td>\n",
       "      <td>0.8265</td>\n",
       "    </tr>\n",
       "    <tr>\n",
       "      <th>4</th>\n",
       "      <td>0.000</td>\n",
       "      <td>1.000</td>\n",
       "      <td>0.000</td>\n",
       "      <td>0.0000</td>\n",
       "    </tr>\n",
       "    <tr>\n",
       "      <th>5</th>\n",
       "      <td>0.000</td>\n",
       "      <td>0.552</td>\n",
       "      <td>0.448</td>\n",
       "      <td>0.9468</td>\n",
       "    </tr>\n",
       "  </tbody>\n",
       "</table>\n",
       "</div>"
      ],
      "text/plain": [
       "     neg    neu    pos  compound\n",
       "1  0.000  0.695  0.305    0.9441\n",
       "2  0.138  0.862  0.000   -0.5664\n",
       "3  0.091  0.754  0.155    0.8265\n",
       "4  0.000  1.000  0.000    0.0000\n",
       "5  0.000  0.552  0.448    0.9468"
      ]
     },
     "execution_count": 23,
     "metadata": {},
     "output_type": "execute_result"
    }
   ],
   "source": [
    "vaders.head()"
   ]
  },
  {
   "cell_type": "code",
   "execution_count": 24,
   "id": "ad1cd3d4",
   "metadata": {},
   "outputs": [],
   "source": [
    "vaders = vaders.reset_index().rename(columns={'index': 'Id'})  # Resetting the index and renaming the column to 'Id'\n",
    "vaders = vaders.merge(df, how='left')  # Merging the sentiment score DataFrame with the main dataset using the 'Id' column\n",
    "# Now we will have sentiment score merged with the main dataset"
   ]
  },
  {
   "cell_type": "code",
   "execution_count": 25,
   "id": "79a7aca2",
   "metadata": {},
   "outputs": [
    {
     "data": {
      "text/html": [
       "<div>\n",
       "<style scoped>\n",
       "    .dataframe tbody tr th:only-of-type {\n",
       "        vertical-align: middle;\n",
       "    }\n",
       "\n",
       "    .dataframe tbody tr th {\n",
       "        vertical-align: top;\n",
       "    }\n",
       "\n",
       "    .dataframe thead th {\n",
       "        text-align: right;\n",
       "    }\n",
       "</style>\n",
       "<table border=\"1\" class=\"dataframe\">\n",
       "  <thead>\n",
       "    <tr style=\"text-align: right;\">\n",
       "      <th></th>\n",
       "      <th>Id</th>\n",
       "      <th>neg</th>\n",
       "      <th>neu</th>\n",
       "      <th>pos</th>\n",
       "      <th>compound</th>\n",
       "      <th>ProductId</th>\n",
       "      <th>UserId</th>\n",
       "      <th>ProfileName</th>\n",
       "      <th>HelpfulnessNumerator</th>\n",
       "      <th>HelpfulnessDenominator</th>\n",
       "      <th>Score</th>\n",
       "      <th>Time</th>\n",
       "      <th>Summary</th>\n",
       "      <th>Text</th>\n",
       "    </tr>\n",
       "  </thead>\n",
       "  <tbody>\n",
       "    <tr>\n",
       "      <th>0</th>\n",
       "      <td>1</td>\n",
       "      <td>0.000</td>\n",
       "      <td>0.695</td>\n",
       "      <td>0.305</td>\n",
       "      <td>0.9441</td>\n",
       "      <td>B001E4KFG0</td>\n",
       "      <td>A3SGXH7AUHU8GW</td>\n",
       "      <td>delmartian</td>\n",
       "      <td>1</td>\n",
       "      <td>1</td>\n",
       "      <td>5</td>\n",
       "      <td>1303862400</td>\n",
       "      <td>Good Quality Dog Food</td>\n",
       "      <td>I have bought several of the Vitality canned d...</td>\n",
       "    </tr>\n",
       "    <tr>\n",
       "      <th>1</th>\n",
       "      <td>2</td>\n",
       "      <td>0.138</td>\n",
       "      <td>0.862</td>\n",
       "      <td>0.000</td>\n",
       "      <td>-0.5664</td>\n",
       "      <td>B00813GRG4</td>\n",
       "      <td>A1D87F6ZCVE5NK</td>\n",
       "      <td>dll pa</td>\n",
       "      <td>0</td>\n",
       "      <td>0</td>\n",
       "      <td>1</td>\n",
       "      <td>1346976000</td>\n",
       "      <td>Not as Advertised</td>\n",
       "      <td>Product arrived labeled as Jumbo Salted Peanut...</td>\n",
       "    </tr>\n",
       "    <tr>\n",
       "      <th>2</th>\n",
       "      <td>3</td>\n",
       "      <td>0.091</td>\n",
       "      <td>0.754</td>\n",
       "      <td>0.155</td>\n",
       "      <td>0.8265</td>\n",
       "      <td>B000LQOCH0</td>\n",
       "      <td>ABXLMWJIXXAIN</td>\n",
       "      <td>Natalia Corres \"Natalia Corres\"</td>\n",
       "      <td>1</td>\n",
       "      <td>1</td>\n",
       "      <td>4</td>\n",
       "      <td>1219017600</td>\n",
       "      <td>\"Delight\" says it all</td>\n",
       "      <td>This is a confection that has been around a fe...</td>\n",
       "    </tr>\n",
       "    <tr>\n",
       "      <th>3</th>\n",
       "      <td>4</td>\n",
       "      <td>0.000</td>\n",
       "      <td>1.000</td>\n",
       "      <td>0.000</td>\n",
       "      <td>0.0000</td>\n",
       "      <td>B000UA0QIQ</td>\n",
       "      <td>A395BORC6FGVXV</td>\n",
       "      <td>Karl</td>\n",
       "      <td>3</td>\n",
       "      <td>3</td>\n",
       "      <td>2</td>\n",
       "      <td>1307923200</td>\n",
       "      <td>Cough Medicine</td>\n",
       "      <td>If you are looking for the secret ingredient i...</td>\n",
       "    </tr>\n",
       "    <tr>\n",
       "      <th>4</th>\n",
       "      <td>5</td>\n",
       "      <td>0.000</td>\n",
       "      <td>0.552</td>\n",
       "      <td>0.448</td>\n",
       "      <td>0.9468</td>\n",
       "      <td>B006K2ZZ7K</td>\n",
       "      <td>A1UQRSCLF8GW1T</td>\n",
       "      <td>Michael D. Bigham \"M. Wassir\"</td>\n",
       "      <td>0</td>\n",
       "      <td>0</td>\n",
       "      <td>5</td>\n",
       "      <td>1350777600</td>\n",
       "      <td>Great taffy</td>\n",
       "      <td>Great taffy at a great price.  There was a wid...</td>\n",
       "    </tr>\n",
       "  </tbody>\n",
       "</table>\n",
       "</div>"
      ],
      "text/plain": [
       "   Id    neg    neu    pos  compound   ProductId          UserId  \\\n",
       "0   1  0.000  0.695  0.305    0.9441  B001E4KFG0  A3SGXH7AUHU8GW   \n",
       "1   2  0.138  0.862  0.000   -0.5664  B00813GRG4  A1D87F6ZCVE5NK   \n",
       "2   3  0.091  0.754  0.155    0.8265  B000LQOCH0   ABXLMWJIXXAIN   \n",
       "3   4  0.000  1.000  0.000    0.0000  B000UA0QIQ  A395BORC6FGVXV   \n",
       "4   5  0.000  0.552  0.448    0.9468  B006K2ZZ7K  A1UQRSCLF8GW1T   \n",
       "\n",
       "                       ProfileName  HelpfulnessNumerator  \\\n",
       "0                       delmartian                     1   \n",
       "1                           dll pa                     0   \n",
       "2  Natalia Corres \"Natalia Corres\"                     1   \n",
       "3                             Karl                     3   \n",
       "4    Michael D. Bigham \"M. Wassir\"                     0   \n",
       "\n",
       "   HelpfulnessDenominator  Score        Time                Summary  \\\n",
       "0                       1      5  1303862400  Good Quality Dog Food   \n",
       "1                       0      1  1346976000      Not as Advertised   \n",
       "2                       1      4  1219017600  \"Delight\" says it all   \n",
       "3                       3      2  1307923200         Cough Medicine   \n",
       "4                       0      5  1350777600            Great taffy   \n",
       "\n",
       "                                                Text  \n",
       "0  I have bought several of the Vitality canned d...  \n",
       "1  Product arrived labeled as Jumbo Salted Peanut...  \n",
       "2  This is a confection that has been around a fe...  \n",
       "3  If you are looking for the secret ingredient i...  \n",
       "4  Great taffy at a great price.  There was a wid...  "
      ]
     },
     "execution_count": 25,
     "metadata": {},
     "output_type": "execute_result"
    }
   ],
   "source": [
    "vaders.head()"
   ]
  },
  {
   "cell_type": "code",
   "execution_count": 26,
   "id": "b938b50f",
   "metadata": {},
   "outputs": [
    {
     "data": {
      "image/png": "[encoded data removed]",
      "text/plain": [
       "<Figure size 640x480 with 1 Axes>"
      ]
     },
     "metadata": {},
     "output_type": "display_data"
    }
   ],
   "source": [
    "ax = sns.barplot(data=vaders, x='Score', y='compound', palette='RdYlBu')  # Creating a bar plot using seaborn with a custom color palette\n",
    "ax.set_title('Compound score by Amazon Star Reviews')  # Setting the title of the plot\n",
    "plt.show()  # Displaying the plot"
   ]
  },
  {
   "cell_type": "code",
   "execution_count": 27,
   "id": "135f44f2",
   "metadata": {},
   "outputs": [
    {
     "data": {
      "text/plain": [
       "<Axes: xlabel='Score', ylabel='pos'>"
      ]
     },
     "execution_count": 27,
     "metadata": {},
     "output_type": "execute_result"
    },
    {
     "data": {
      "image/png": "[encoded data removed]",
      "text/plain": [
       "<Figure size 640x480 with 1 Axes>"
      ]
     },
     "metadata": {},
     "output_type": "display_data"
    }
   ],
   "source": [
    "sns.barplot(data=vaders, x='Score', y='pos', palette='viridis')  # Creating a bar plot using seaborn with a custom color palette"
   ]
  },
  {
   "cell_type": "code",
   "execution_count": 28,
   "id": "12dd74df",
   "metadata": {},
   "outputs": [
    {
     "data": {
      "image/png": "[encoded data removed]",
      "text/plain": [
       "<Figure size 1500x500 with 3 Axes>"
      ]
     },
     "metadata": {},
     "output_type": "display_data"
    }
   ],
   "source": [
    "fig, axs = plt.subplots(1, 3, figsize=(15, 5))  # Creating subplots with 1 row and 3 columns\n",
    "\n",
    "# Creating bar plots for positive, neutral, and negative sentiments with different colors\n",
    "sns.barplot(data=vaders, x='Score', y='pos', ax=axs[0], palette='Blues')  # Positive sentiment\n",
    "sns.barplot(data=vaders, x='Score', y='neu', ax=axs[1], palette='Greens')  # Neutral sentiment\n",
    "sns.barplot(data=vaders, x='Score', y='neg', ax=axs[2], palette='Reds')  # Negative sentiment\n",
    "\n",
    "# Setting titles for each subplot\n",
    "axs[0].set_title('Positive')\n",
    "axs[1].set_title('Neutral')\n",
    "axs[2].set_title('Negative')\n",
    "\n",
    "plt.tight_layout()  # Adjusting layout to prevent overlap\n",
    "plt.show()  # Displaying the plot"
   ]
  },
  {
   "cell_type": "code",
   "execution_count": 29,
   "id": "6851a7ef",
   "metadata": {},
   "outputs": [],
   "source": [
    "# Roberta Pretrained Model"
   ]
  },
  {
   "cell_type": "code",
   "execution_count": 30,
   "id": "1509b5ea",
   "metadata": {},
   "outputs": [],
   "source": [
    "from transformers import AutoTokenizer, AutoModelForSequenceClassification  # Importing necessary classes from the transformers library\n",
    "from scipy.special import softmax  # Importing softmax function from scipy.special"
   ]
  },
  {
   "cell_type": "code",
   "execution_count": 31,
   "id": "e475b03c",
   "metadata": {},
   "outputs": [],
   "source": [
    "MODEL = \"cardiffnlp/twitter-roberta-base-sentiment\"  # Pre-trained model name\n",
    "tokenizer = AutoTokenizer.from_pretrained(MODEL)  # Initializing tokenizer with the pre-trained model\n",
    "model = AutoModelForSequenceClassification.from_pretrained(MODEL)  # Initializing model for sequence classification"
   ]
  },
  {
   "cell_type": "code",
   "execution_count": 32,
   "id": "0d9a5294",
   "metadata": {},
   "outputs": [
    {
     "name": "stdout",
     "output_type": "stream",
     "text": [
      "The variety packs taste great!<br /><br />I have them every morning. At $0.30 cents per meal, I don't understand why everyone on earth isn't buying this stuff up.<br /><br />Maple and brown sugar is terrific, followed by apples and cinnamon, followed by regular. You don't get tired of the same ole thing, and they taste great.<br /><br />I just boil water from a small pot, empty the packet or 2 in a bowl, pour in boiling water, and watch it expand to 2x its size!<br /><br />Taste really good and takes minutes to prepare.<br /><br />Not sure why everyone on earth isn't this. Convenient, healthy, very quick, excellent quality, and extremely cheap...\n"
     ]
    },
    {
     "data": {
      "text/plain": [
       "{'neg': 0.033, 'neu': 0.82, 'pos': 0.147, 'compound': 0.9301}"
      ]
     },
     "execution_count": 32,
     "metadata": {},
     "output_type": "execute_result"
    }
   ],
   "source": [
    "# Printing the example text\n",
    "print(example)\n",
    "\n",
    "# Performing sentiment analysis using VADER sentiment analyzer and printing the polarity scores\n",
    "sia.polarity_scores(example)"
   ]
  },
  {
   "cell_type": "code",
   "execution_count": 33,
   "id": "6d82f883",
   "metadata": {},
   "outputs": [
    {
     "name": "stdout",
     "output_type": "stream",
     "text": [
      "{'roberta_neg': 0.009690555, 'roberta_neu': 0.037833188, 'roberta_pos': 0.95247626}\n"
     ]
    }
   ],
   "source": [
    "# Run Roberta Model\n",
    "\n",
    "# Tokenizing the example text using the tokenizer and returning tensors\n",
    "encoded_text = tokenizer(example, return_tensors='pt')\n",
    "\n",
    "# Passing the encoded text through the model\n",
    "output = model(**encoded_text)\n",
    "\n",
    "# Detaching the tensor from the computation graph and converting it to a numpy array\n",
    "scores = output[0][0].detach().numpy()\n",
    "\n",
    "# Applying softmax to get probabilities for each sentiment class\n",
    "scores = softmax(scores)\n",
    "\n",
    "# Storing the scores in a dictionary\n",
    "scores_dict = {\n",
    "    'roberta_neg': scores[0],\n",
    "    'roberta_neu': scores[1],\n",
    "    'roberta_pos': scores[2]\n",
    "}\n",
    "\n",
    "# Printing the sentiment scores\n",
    "print(scores_dict)"
   ]
  },
  {
   "cell_type": "code",
   "execution_count": 34,
   "id": "04ccfe24",
   "metadata": {},
   "outputs": [],
   "source": [
    "def polarity_scores_roberta(example):\n",
    "    \"\"\"\n",
    "    Calculate sentiment polarity scores using the pre-trained RoBERTa model.\n",
    "\n",
    "    Args:\n",
    "    - example (str): Input text for sentiment analysis.\n",
    "\n",
    "    Returns:\n",
    "    - scores_dict (dict): Dictionary containing sentiment polarity scores.\n",
    "    \"\"\"\n",
    "    # Tokenizing the example text using the tokenizer and returning tensors\n",
    "    encoded_text = tokenizer(example, return_tensors='pt')\n",
    "    \n",
    "    # Passing the encoded text through the model\n",
    "    output = model(**encoded_text)\n",
    "    \n",
    "    # Detaching the tensor from the computation graph and converting it to a numpy array\n",
    "    scores = output[0][0].detach().numpy()\n",
    "    \n",
    "    # Applying softmax to get probabilities for each sentiment class\n",
    "    scores = softmax(scores)\n",
    "\n",
    "    # Storing the scores in a dictionary\n",
    "    scores_dict = {\n",
    "        'roberta_neg': scores[0],\n",
    "        'roberta_neu': scores[1],\n",
    "        'roberta_pos': scores[2]\n",
    "    }\n",
    "\n",
    "    return scores_dict"
   ]
  },
  {
   "cell_type": "code",
   "execution_count": null,
   "id": "7cdbac17",
   "metadata": {},
   "outputs": [
    {
     "data": {
      "application/vnd.jupyter.widget-view+json": {
       "model_id": "c9708d9fef864c9d8d78b7175d46ce39",
       "version_major": 2,
       "version_minor": 0
      },
      "text/plain": [
       "  0%|          | 0/5000 [00:00<?, ?it/s]"
      ]
     },
     "metadata": {},
     "output_type": "display_data"
    }
   ],
   "source": [
    "results = {}  # Initializing an empty dictionary to store the results\n",
    "for i, row in tqdm(df.iterrows(), total=len(df)):  # Iterating over each row in the DataFrame\n",
    "    try:\n",
    "        text = row['Text']  # Extracting the text from the current row\n",
    "        myid = row['Id']    # Extracting the ID from the current row\n",
    "        \n",
    "        # Performing sentiment analysis using VADER\n",
    "        vader_result = sia.polarity_scores(text)\n",
    "        vader_result_rename = {}\n",
    "        \n",
    "        # Renaming keys in the VADER result dictionary\n",
    "        for key, value in vader_result.items():\n",
    "            vader_result_rename[f\"vader_{key}\"] = value\n",
    "\n",
    "        # Performing sentiment analysis using RoBERTa\n",
    "        roberta_results = polarity_scores_roberta(text)\n",
    "\n",
    "        # Combining VADER and RoBERTa results into a single dictionary\n",
    "        both = {**vader_result_rename, **roberta_results}\n",
    "        results[myid] = both  # Storing the combined results in the dictionary\n",
    "    except RuntimeError:\n",
    "        print(f\"Broke for id {myid}\")  # Handling runtime errors"
   ]
  },
  {
   "cell_type": "code",
   "execution_count": null,
   "id": "30b615e5",
   "metadata": {},
   "outputs": [],
   "source": [
    "results_df = pd.DataFrame(results).T  # Creating a DataFrame from the results dictionary and transposing it\n",
    "results_df = results_df.reset_index().rename(columns={'index': 'Id'})  # Resetting the index and renaming the column to 'Id'\n",
    "results_df = results_df.merge(df, how='left')  # Merging the DataFrame with the main dataset using the 'Id' column"
   ]
  },
  {
   "cell_type": "code",
   "execution_count": null,
   "id": "594a7637",
   "metadata": {},
   "outputs": [],
   "source": [
    "results_df"
   ]
  },
  {
   "cell_type": "code",
   "execution_count": null,
   "id": "79cc6814",
   "metadata": {},
   "outputs": [],
   "source": [
    "results_df.columns"
   ]
  },
  {
   "cell_type": "code",
   "execution_count": null,
   "id": "367090c9",
   "metadata": {},
   "outputs": [],
   "source": [
    "# Define custom color palettes for each sentiment score\n",
    "color_palettes = {\n",
    "    1: 'Blues',\n",
    "    2: 'Greens',\n",
    "    3: 'Reds',\n",
    "    4: 'Purples',\n",
    "    5: 'Oranges'\n",
    "}\n",
    "\n",
    "# Create separate pair plots for each sentiment score with different colors\n",
    "for score in range(1, 6):\n",
    "    sns.pairplot(data=results_df[results_df['Score'] == score],\n",
    "                 vars=['vader_neg', 'vader_neu', 'vader_pos', 'roberta_neg', 'roberta_neu', 'roberta_pos'],\n",
    "                 hue='Score',\n",
    "                 palette=color_palettes[score])  # Using custom color palette for each sentiment score\n",
    "    plt.title(f'Pairplot for Score {score}')  # Adding title for each plot\n",
    "    plt.show()  # Displaying the plot"
   ]
  },
  {
   "cell_type": "code",
   "execution_count": null,
   "id": "16c292a4",
   "metadata": {},
   "outputs": [],
   "source": [
    "#Review"
   ]
  },
  {
   "cell_type": "code",
   "execution_count": null,
   "id": "041065cc",
   "metadata": {},
   "outputs": [],
   "source": [
    "results_df.query('Score == 1') \\\n",
    "          .sort_values('roberta_pos', ascending=False)['Text'].values[0]"
   ]
  },
  {
   "cell_type": "code",
   "execution_count": null,
   "id": "c3066c18",
   "metadata": {},
   "outputs": [],
   "source": [
    "results_df.query('Score == 1') \\\n",
    ".sort_values('vader_pos',ascending = False)['Text'].values[0]"
   ]
  },
  {
   "cell_type": "code",
   "execution_count": null,
   "id": "bc5e3285",
   "metadata": {},
   "outputs": [],
   "source": [
    "results_df.query('Score == 5') \\\n",
    ".sort_values('roberta_neg',ascending = False)['Text'].values[0]"
   ]
  },
  {
   "cell_type": "code",
   "execution_count": null,
   "id": "3048351c",
   "metadata": {},
   "outputs": [],
   "source": [
    "results_df.query('Score == 5') \\\n",
    ".sort_values('vader_neg',ascending = False)['Text'].values[0]"
   ]
  },
  {
   "cell_type": "code",
   "execution_count": null,
   "id": "d851e3eb",
   "metadata": {},
   "outputs": [],
   "source": [
    "#Transformer Pipeline"
   ]
  },
  {
   "cell_type": "code",
   "execution_count": null,
   "id": "87cd4e50",
   "metadata": {},
   "outputs": [],
   "source": [
    "from transformers import pipeline\n",
    "\n",
    "sent_pipeline = pipeline(\"sentiment-analysis\")"
   ]
  },
  {
   "cell_type": "code",
   "execution_count": null,
   "id": "ad9508bc",
   "metadata": {},
   "outputs": [],
   "source": [
    "sent_pipeline('I love pizza')"
   ]
  },
  {
   "cell_type": "code",
   "execution_count": null,
   "id": "3ae5f4eb",
   "metadata": {},
   "outputs": [],
   "source": [
    "sent_pipeline('I love bad pizza')"
   ]
  },
  {
   "cell_type": "code",
   "execution_count": null,
   "id": "23b1b1b0",
   "metadata": {},
   "outputs": [],
   "source": []
  }
 ],
 "metadata": {
  "kernelspec": {
   "display_name": "Python 3 (ipykernel)",
   "language": "python",
   "name": "python3"
  },
  "language_info": {
   "codemirror_mode": {
    "name": "ipython",
    "version": 3
   },
   "file_extension": ".py",
   "mimetype": "text/x-python",
   "name": "python",
   "nbconvert_exporter": "python",
   "pygments_lexer": "ipython3",
   "version": "3.10.9"
  }
 },
 "nbformat": 4,
 "nbformat_minor": 5
}
