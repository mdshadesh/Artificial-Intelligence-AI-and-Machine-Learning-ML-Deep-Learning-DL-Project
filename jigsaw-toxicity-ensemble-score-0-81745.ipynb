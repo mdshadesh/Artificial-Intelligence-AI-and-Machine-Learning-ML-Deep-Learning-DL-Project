{
 "cells": [
  {
   "cell_type": "code",
   "execution_count": 1,
   "id": "d2f22f6b",
   "metadata": {
    "execution": {
     "iopub.execute_input": "2022-02-08T08:52:58.290669Z",
     "iopub.status.busy": "2022-02-08T08:52:58.290093Z",
     "iopub.status.idle": "2022-02-08T08:53:00.204175Z",
     "shell.execute_reply": "2022-02-08T08:53:00.203494Z",
     "shell.execute_reply.started": "2022-02-08T08:13:32.410012Z"
    },
    "papermill": {
     "duration": 1.944277,
     "end_time": "2022-02-08T08:53:00.204365",
     "exception": false,
     "start_time": "2022-02-08T08:52:58.260088",
     "status": "completed"
    },
    "tags": []
   },
   "outputs": [],
   "source": [
    "import numpy as np # linear algebra\n",
    "import pandas as pd # data processing, CSV file I/O (e.g. pd.read_csv)\n",
    "from tqdm.auto import tqdm\n",
    "from bs4 import BeautifulSoup\n",
    "from collections import defaultdict\n",
    "from sklearn.feature_extraction.text import TfidfVectorizer\n",
    "\n",
    "import nltk\n",
    "from nltk.corpus import stopwords\n",
    "stopwords = nltk.corpus.stopwords.words('english')\n",
    "from nltk.stem.porter import PorterStemmer\n",
    "wn = nltk.WordNetLemmatizer()\n",
    "ps = nltk.PorterStemmer()\n",
    "\n",
    "import re \n",
    "import scipy\n",
    "from scipy import sparse\n",
    "from matplotlib import pyplot as plt \n",
    "\n",
    "import time\n",
    "import scipy.optimize as optimize\n",
    "import warnings\n",
    "warnings.filterwarnings(\"ignore\")\n",
    "pd.options.display.max_colwidth=300\n",
    "pd.options.display.max_columns = 100\n",
    "\n",
    "from sklearn.model_selection import train_test_split\n",
    "from nltk.tokenize import word_tokenize\n",
    "from sklearn.linear_model import Ridge, Lasso, BayesianRidge\n",
    "import xgboost"
   ]
  },
  {
   "cell_type": "code",
   "execution_count": 2,
   "id": "f6ba9227",
   "metadata": {
    "execution": {
     "iopub.execute_input": "2022-02-08T08:53:00.249062Z",
     "iopub.status.busy": "2022-02-08T08:53:00.248468Z",
     "iopub.status.idle": "2022-02-08T08:53:03.399588Z",
     "shell.execute_reply": "2022-02-08T08:53:03.398593Z",
     "shell.execute_reply.started": "2022-02-08T08:13:32.421793Z"
    },
    "papermill": {
     "duration": 3.173883,
     "end_time": "2022-02-08T08:53:03.399765",
     "exception": false,
     "start_time": "2022-02-08T08:53:00.225882",
     "status": "completed"
    },
    "tags": []
   },
   "outputs": [],
   "source": [
    "train = pd.read_csv(\"../input/jigsaw-toxic-comment-classification-challenge/train.csv\")\n",
    "comm_score = pd.read_csv(\"../input/jigsaw-toxic-severity-rating/comments_to_score.csv\")"
   ]
  },
  {
   "cell_type": "code",
   "execution_count": 3,
   "id": "0a2559e5",
   "metadata": {
    "execution": {
     "iopub.execute_input": "2022-02-08T08:53:03.448825Z",
     "iopub.status.busy": "2022-02-08T08:53:03.448195Z",
     "iopub.status.idle": "2022-02-08T08:53:03.462945Z",
     "shell.execute_reply": "2022-02-08T08:53:03.463389Z",
     "shell.execute_reply.started": "2022-02-08T08:13:34.539793Z"
    },
    "papermill": {
     "duration": 0.043003,
     "end_time": "2022-02-08T08:53:03.463550",
     "exception": false,
     "start_time": "2022-02-08T08:53:03.420547",
     "status": "completed"
    },
    "tags": []
   },
   "outputs": [
    {
     "data": {
      "text/html": [
       "<div>\n",
       "<style scoped>\n",
       "    .dataframe tbody tr th:only-of-type {\n",
       "        vertical-align: middle;\n",
       "    }\n",
       "\n",
       "    .dataframe tbody tr th {\n",
       "        vertical-align: top;\n",
       "    }\n",
       "\n",
       "    .dataframe thead th {\n",
       "        text-align: right;\n",
       "    }\n",
       "</style>\n",
       "<table border=\"1\" class=\"dataframe\">\n",
       "  <thead>\n",
       "    <tr style=\"text-align: right;\">\n",
       "      <th></th>\n",
       "      <th>id</th>\n",
       "      <th>comment_text</th>\n",
       "      <th>toxic</th>\n",
       "      <th>severe_toxic</th>\n",
       "      <th>obscene</th>\n",
       "      <th>threat</th>\n",
       "      <th>insult</th>\n",
       "      <th>identity_hate</th>\n",
       "    </tr>\n",
       "  </thead>\n",
       "  <tbody>\n",
       "    <tr>\n",
       "      <th>0</th>\n",
       "      <td>0000997932d777bf</td>\n",
       "      <td>Explanation\\nWhy the edits made under my username Hardcore Metallica Fan were reverted? They weren't vandalisms, just closure on some GAs after I voted at New York Dolls FAC. And please don't remove the template from the talk page since I'm retired now.89.205.38.27</td>\n",
       "      <td>0</td>\n",
       "      <td>0</td>\n",
       "      <td>0</td>\n",
       "      <td>0</td>\n",
       "      <td>0</td>\n",
       "      <td>0</td>\n",
       "    </tr>\n",
       "    <tr>\n",
       "      <th>1</th>\n",
       "      <td>000103f0d9cfb60f</td>\n",
       "      <td>D'aww! He matches this background colour I'm seemingly stuck with. Thanks.  (talk) 21:51, January 11, 2016 (UTC)</td>\n",
       "      <td>0</td>\n",
       "      <td>0</td>\n",
       "      <td>0</td>\n",
       "      <td>0</td>\n",
       "      <td>0</td>\n",
       "      <td>0</td>\n",
       "    </tr>\n",
       "    <tr>\n",
       "      <th>2</th>\n",
       "      <td>000113f07ec002fd</td>\n",
       "      <td>Hey man, I'm really not trying to edit war. It's just that this guy is constantly removing relevant information and talking to me through edits instead of my talk page. He seems to care more about the formatting than the actual info.</td>\n",
       "      <td>0</td>\n",
       "      <td>0</td>\n",
       "      <td>0</td>\n",
       "      <td>0</td>\n",
       "      <td>0</td>\n",
       "      <td>0</td>\n",
       "    </tr>\n",
       "    <tr>\n",
       "      <th>3</th>\n",
       "      <td>0001b41b1c6bb37e</td>\n",
       "      <td>\"\\nMore\\nI can't make any real suggestions on improvement - I wondered if the section statistics should be later on, or a subsection of \"\"types of accidents\"\"  -I think the references may need tidying so that they are all in the exact same format ie date format etc. I can do that later on, if no...</td>\n",
       "      <td>0</td>\n",
       "      <td>0</td>\n",
       "      <td>0</td>\n",
       "      <td>0</td>\n",
       "      <td>0</td>\n",
       "      <td>0</td>\n",
       "    </tr>\n",
       "    <tr>\n",
       "      <th>4</th>\n",
       "      <td>0001d958c54c6e35</td>\n",
       "      <td>You, sir, are my hero. Any chance you remember what page that's on?</td>\n",
       "      <td>0</td>\n",
       "      <td>0</td>\n",
       "      <td>0</td>\n",
       "      <td>0</td>\n",
       "      <td>0</td>\n",
       "      <td>0</td>\n",
       "    </tr>\n",
       "  </tbody>\n",
       "</table>\n",
       "</div>"
      ],
      "text/plain": [
       "                 id  \\\n",
       "0  0000997932d777bf   \n",
       "1  000103f0d9cfb60f   \n",
       "2  000113f07ec002fd   \n",
       "3  0001b41b1c6bb37e   \n",
       "4  0001d958c54c6e35   \n",
       "\n",
       "                                                                                                                                                                                                                                                                                                  comment_text  \\\n",
       "0                                    Explanation\\nWhy the edits made under my username Hardcore Metallica Fan were reverted? They weren't vandalisms, just closure on some GAs after I voted at New York Dolls FAC. And please don't remove the template from the talk page since I'm retired now.89.205.38.27   \n",
       "1                                                                                                                                                                                             D'aww! He matches this background colour I'm seemingly stuck with. Thanks.  (talk) 21:51, January 11, 2016 (UTC)   \n",
       "2                                                                    Hey man, I'm really not trying to edit war. It's just that this guy is constantly removing relevant information and talking to me through edits instead of my talk page. He seems to care more about the formatting than the actual info.   \n",
       "3  \"\\nMore\\nI can't make any real suggestions on improvement - I wondered if the section statistics should be later on, or a subsection of \"\"types of accidents\"\"  -I think the references may need tidying so that they are all in the exact same format ie date format etc. I can do that later on, if no...   \n",
       "4                                                                                                                                                                                                                                          You, sir, are my hero. Any chance you remember what page that's on?   \n",
       "\n",
       "   toxic  severe_toxic  obscene  threat  insult  identity_hate  \n",
       "0      0             0        0       0       0              0  \n",
       "1      0             0        0       0       0              0  \n",
       "2      0             0        0       0       0              0  \n",
       "3      0             0        0       0       0              0  \n",
       "4      0             0        0       0       0              0  "
      ]
     },
     "execution_count": 3,
     "metadata": {},
     "output_type": "execute_result"
    }
   ],
   "source": [
    "train.head()"
   ]
  },
  {
   "cell_type": "code",
   "execution_count": 4,
   "id": "c5874a83",
   "metadata": {
    "execution": {
     "iopub.execute_input": "2022-02-08T08:53:03.511128Z",
     "iopub.status.busy": "2022-02-08T08:53:03.510490Z",
     "iopub.status.idle": "2022-02-08T08:53:03.514366Z",
     "shell.execute_reply": "2022-02-08T08:53:03.513892Z",
     "shell.execute_reply.started": "2022-02-08T08:13:34.565404Z"
    },
    "papermill": {
     "duration": 0.029173,
     "end_time": "2022-02-08T08:53:03.514499",
     "exception": false,
     "start_time": "2022-02-08T08:53:03.485326",
     "status": "completed"
    },
    "tags": []
   },
   "outputs": [
    {
     "data": {
      "text/plain": [
       "(159571, 8)"
      ]
     },
     "execution_count": 4,
     "metadata": {},
     "output_type": "execute_result"
    }
   ],
   "source": [
    "train.shape"
   ]
  },
  {
   "cell_type": "code",
   "execution_count": 5,
   "id": "adce1a8b",
   "metadata": {
    "execution": {
     "iopub.execute_input": "2022-02-08T08:53:03.564320Z",
     "iopub.status.busy": "2022-02-08T08:53:03.563714Z",
     "iopub.status.idle": "2022-02-08T08:53:03.567349Z",
     "shell.execute_reply": "2022-02-08T08:53:03.566891Z",
     "shell.execute_reply.started": "2022-02-08T08:13:34.57137Z"
    },
    "papermill": {
     "duration": 0.031923,
     "end_time": "2022-02-08T08:53:03.567485",
     "exception": false,
     "start_time": "2022-02-08T08:53:03.535562",
     "status": "completed"
    },
    "tags": []
   },
   "outputs": [
    {
     "data": {
      "text/html": [
       "<div>\n",
       "<style scoped>\n",
       "    .dataframe tbody tr th:only-of-type {\n",
       "        vertical-align: middle;\n",
       "    }\n",
       "\n",
       "    .dataframe tbody tr th {\n",
       "        vertical-align: top;\n",
       "    }\n",
       "\n",
       "    .dataframe thead th {\n",
       "        text-align: right;\n",
       "    }\n",
       "</style>\n",
       "<table border=\"1\" class=\"dataframe\">\n",
       "  <thead>\n",
       "    <tr style=\"text-align: right;\">\n",
       "      <th></th>\n",
       "      <th>comment_id</th>\n",
       "      <th>text</th>\n",
       "    </tr>\n",
       "  </thead>\n",
       "  <tbody>\n",
       "    <tr>\n",
       "      <th>0</th>\n",
       "      <td>114890</td>\n",
       "      <td>\"\\n \\n\\nGjalexei, you asked about whether there is an \"\"anti-editorializing\"\" policy here.  There is, and it's called wikipedia:neutral point of view.  It discusses at some length  the case of what we should do when writing about a subject which most of us find repugnant.  Whilst you're not like...</td>\n",
       "    </tr>\n",
       "    <tr>\n",
       "      <th>1</th>\n",
       "      <td>732895</td>\n",
       "      <td>Looks like be have an abuser , can you please look into this?  thanks.</td>\n",
       "    </tr>\n",
       "    <tr>\n",
       "      <th>2</th>\n",
       "      <td>1139051</td>\n",
       "      <td>I confess to having complete (and apparently blissful) ignorance of Jordan, but I've glanced at the article. Is this a woman or a soap opera!?.  I don't think there was much to change in terms of the description of the various diseases.  It is mentioned that she is famous for the size of her bre...</td>\n",
       "    </tr>\n",
       "    <tr>\n",
       "      <th>3</th>\n",
       "      <td>1434512</td>\n",
       "      <td>\"\\n\\nFreud's ideas are certainly much discussed today, and I would be the first to agree that they must be grappled with and dealt with seriously, if only because of their currency.  So Freud deserves a long and thorough article in Wikipedia.  I believe that a balanced article would include A) e...</td>\n",
       "    </tr>\n",
       "    <tr>\n",
       "      <th>4</th>\n",
       "      <td>2084821</td>\n",
       "      <td>It is not just you. This is a laundry list of stupid allegations scooped up from god-knows-where. Probably two-thirds of it has little basis in fact.</td>\n",
       "    </tr>\n",
       "  </tbody>\n",
       "</table>\n",
       "</div>"
      ],
      "text/plain": [
       "   comment_id  \\\n",
       "0      114890   \n",
       "1      732895   \n",
       "2     1139051   \n",
       "3     1434512   \n",
       "4     2084821   \n",
       "\n",
       "                                                                                                                                                                                                                                                                                                          text  \n",
       "0  \"\\n \\n\\nGjalexei, you asked about whether there is an \"\"anti-editorializing\"\" policy here.  There is, and it's called wikipedia:neutral point of view.  It discusses at some length  the case of what we should do when writing about a subject which most of us find repugnant.  Whilst you're not like...  \n",
       "1                                                                                                                                                                                                                                       Looks like be have an abuser , can you please look into this?  thanks.  \n",
       "2  I confess to having complete (and apparently blissful) ignorance of Jordan, but I've glanced at the article. Is this a woman or a soap opera!?.  I don't think there was much to change in terms of the description of the various diseases.  It is mentioned that she is famous for the size of her bre...  \n",
       "3  \"\\n\\nFreud's ideas are certainly much discussed today, and I would be the first to agree that they must be grappled with and dealt with seriously, if only because of their currency.  So Freud deserves a long and thorough article in Wikipedia.  I believe that a balanced article would include A) e...  \n",
       "4                                                                                                                                                        It is not just you. This is a laundry list of stupid allegations scooped up from god-knows-where. Probably two-thirds of it has little basis in fact.  "
      ]
     },
     "execution_count": 5,
     "metadata": {},
     "output_type": "execute_result"
    }
   ],
   "source": [
    "comm_score.head()"
   ]
  },
  {
   "cell_type": "code",
   "execution_count": 6,
   "id": "487a2cab",
   "metadata": {
    "execution": {
     "iopub.execute_input": "2022-02-08T08:53:03.614899Z",
     "iopub.status.busy": "2022-02-08T08:53:03.614316Z",
     "iopub.status.idle": "2022-02-08T08:53:03.617998Z",
     "shell.execute_reply": "2022-02-08T08:53:03.617552Z",
     "shell.execute_reply.started": "2022-02-08T08:13:34.589829Z"
    },
    "papermill": {
     "duration": 0.029045,
     "end_time": "2022-02-08T08:53:03.618127",
     "exception": false,
     "start_time": "2022-02-08T08:53:03.589082",
     "status": "completed"
    },
    "tags": []
   },
   "outputs": [
    {
     "data": {
      "text/plain": [
       "(7537, 2)"
      ]
     },
     "execution_count": 6,
     "metadata": {},
     "output_type": "execute_result"
    }
   ],
   "source": [
    "comm_score.shape"
   ]
  },
  {
   "cell_type": "code",
   "execution_count": 7,
   "id": "65ca06c4",
   "metadata": {
    "execution": {
     "iopub.execute_input": "2022-02-08T08:53:03.672752Z",
     "iopub.status.busy": "2022-02-08T08:53:03.665399Z",
     "iopub.status.idle": "2022-02-08T08:53:03.761301Z",
     "shell.execute_reply": "2022-02-08T08:53:03.760639Z",
     "shell.execute_reply.started": "2022-02-08T08:13:34.608544Z"
    },
    "papermill": {
     "duration": 0.121662,
     "end_time": "2022-02-08T08:53:03.761437",
     "exception": false,
     "start_time": "2022-02-08T08:53:03.639775",
     "status": "completed"
    },
    "tags": []
   },
   "outputs": [
    {
     "data": {
      "text/html": [
       "<div>\n",
       "<style scoped>\n",
       "    .dataframe tbody tr th:only-of-type {\n",
       "        vertical-align: middle;\n",
       "    }\n",
       "\n",
       "    .dataframe tbody tr th {\n",
       "        vertical-align: top;\n",
       "    }\n",
       "\n",
       "    .dataframe thead th {\n",
       "        text-align: right;\n",
       "    }\n",
       "</style>\n",
       "<table border=\"1\" class=\"dataframe\">\n",
       "  <thead>\n",
       "    <tr style=\"text-align: right;\">\n",
       "      <th></th>\n",
       "      <th>id</th>\n",
       "      <th>comment_text</th>\n",
       "      <th>toxic</th>\n",
       "      <th>severe_toxic</th>\n",
       "      <th>obscene</th>\n",
       "      <th>threat</th>\n",
       "      <th>insult</th>\n",
       "      <th>identity_hate</th>\n",
       "      <th>score</th>\n",
       "      <th>y</th>\n",
       "    </tr>\n",
       "  </thead>\n",
       "  <tbody>\n",
       "    <tr>\n",
       "      <th>6</th>\n",
       "      <td>0002bcb3da6cb337</td>\n",
       "      <td>COCKSUCKER BEFORE YOU PISS AROUND ON MY WORK</td>\n",
       "      <td>0.32</td>\n",
       "      <td>1.5</td>\n",
       "      <td>0.16</td>\n",
       "      <td>0.0</td>\n",
       "      <td>0.64</td>\n",
       "      <td>0.0</td>\n",
       "      <td>2.62</td>\n",
       "      <td>2.62</td>\n",
       "    </tr>\n",
       "    <tr>\n",
       "      <th>12</th>\n",
       "      <td>0005c987bdfc9d4b</td>\n",
       "      <td>Hey... what is it..\\n@ | talk .\\nWhat is it... an exclusive group of some WP TALIBANS...who are good at destroying, self-appointed purist who GANG UP any one who asks them questions abt their ANTI-SOCIAL and DESTRUCTIVE (non)-contribution at WP?\\n\\nAsk Sityush to clean up his behavior than issue...</td>\n",
       "      <td>0.32</td>\n",
       "      <td>0.0</td>\n",
       "      <td>0.00</td>\n",
       "      <td>0.0</td>\n",
       "      <td>0.00</td>\n",
       "      <td>0.0</td>\n",
       "      <td>0.32</td>\n",
       "      <td>0.32</td>\n",
       "    </tr>\n",
       "  </tbody>\n",
       "</table>\n",
       "</div>"
      ],
      "text/plain": [
       "                  id  \\\n",
       "6   0002bcb3da6cb337   \n",
       "12  0005c987bdfc9d4b   \n",
       "\n",
       "                                                                                                                                                                                                                                                                                                   comment_text  \\\n",
       "6                                                                                                                                                                                                                                                                  COCKSUCKER BEFORE YOU PISS AROUND ON MY WORK   \n",
       "12  Hey... what is it..\\n@ | talk .\\nWhat is it... an exclusive group of some WP TALIBANS...who are good at destroying, self-appointed purist who GANG UP any one who asks them questions abt their ANTI-SOCIAL and DESTRUCTIVE (non)-contribution at WP?\\n\\nAsk Sityush to clean up his behavior than issue...   \n",
       "\n",
       "    toxic  severe_toxic  obscene  threat  insult  identity_hate  score     y  \n",
       "6    0.32           1.5     0.16     0.0    0.64            0.0   2.62  2.62  \n",
       "12   0.32           0.0     0.00     0.0    0.00            0.0   0.32  0.32  "
      ]
     },
     "execution_count": 7,
     "metadata": {},
     "output_type": "execute_result"
    }
   ],
   "source": [
    "\n",
    "label_score = {'obscene': 0.16, 'toxic': 0.32, 'threat': 1.5, \n",
    "            'insult': 0.64, 'severe_toxic': 1.5, 'identity_hate': 1.5}\n",
    "\n",
    "for category in label_score:\n",
    "    train[category] = train[category] * label_score[category]\n",
    "\n",
    "train['score'] = train.loc[:, 'toxic':'identity_hate'].sum(axis=1)\n",
    "\n",
    "train['y'] = train['score']\n",
    "\n",
    "min_len = (train['y'] > 0).sum()  # len of toxic comments\n",
    "df_non_toxic = train[train['y'] == 0].sample(n=min_len, random_state=201)  # take non toxic comments\n",
    "train_new = pd.concat([train[train['y'] > 0], df_non_toxic])  # make new df\n",
    "train_new.head(2)"
   ]
  },
  {
   "cell_type": "code",
   "execution_count": 8,
   "id": "665bf5cc",
   "metadata": {
    "execution": {
     "iopub.execute_input": "2022-02-08T08:53:03.810537Z",
     "iopub.status.busy": "2022-02-08T08:53:03.809961Z",
     "iopub.status.idle": "2022-02-08T08:53:03.812955Z",
     "shell.execute_reply": "2022-02-08T08:53:03.812374Z",
     "shell.execute_reply.started": "2022-02-08T08:13:34.726273Z"
    },
    "papermill": {
     "duration": 0.029198,
     "end_time": "2022-02-08T08:53:03.813084",
     "exception": false,
     "start_time": "2022-02-08T08:53:03.783886",
     "status": "completed"
    },
    "tags": []
   },
   "outputs": [
    {
     "data": {
      "text/plain": [
       "(32450, 10)"
      ]
     },
     "execution_count": 8,
     "metadata": {},
     "output_type": "execute_result"
    }
   ],
   "source": [
    "train_new.shape"
   ]
  },
  {
   "cell_type": "code",
   "execution_count": 9,
   "id": "9aac43f8",
   "metadata": {
    "execution": {
     "iopub.execute_input": "2022-02-08T08:53:03.869496Z",
     "iopub.status.busy": "2022-02-08T08:53:03.868601Z",
     "iopub.status.idle": "2022-02-08T08:53:03.871978Z",
     "shell.execute_reply": "2022-02-08T08:53:03.872396Z",
     "shell.execute_reply.started": "2022-02-08T08:13:34.733457Z"
    },
    "papermill": {
     "duration": 0.037384,
     "end_time": "2022-02-08T08:53:03.872591",
     "exception": false,
     "start_time": "2022-02-08T08:53:03.835207",
     "status": "completed"
    },
    "tags": []
   },
   "outputs": [
    {
     "data": {
      "text/plain": [
       "0.00    16225\n",
       "0.32     5666\n",
       "1.12     3800\n",
       "0.48     1758\n",
       "2.62     1738\n",
       "0.96     1215\n",
       "4.12      385\n",
       "0.16      317\n",
       "0.64      301\n",
       "1.82      290\n",
       "1.98      204\n",
       "0.80      181\n",
       "2.46      164\n",
       "1.50       76\n",
       "5.62       31\n",
       "2.14       31\n",
       "3.32       21\n",
       "2.30       20\n",
       "3.48       10\n",
       "3.96       10\n",
       "1.66        5\n",
       "3.96        1\n",
       "4.82        1\n",
       "Name: y, dtype: int64"
      ]
     },
     "execution_count": 9,
     "metadata": {},
     "output_type": "execute_result"
    }
   ],
   "source": [
    "train_new['y'].value_counts()"
   ]
  },
  {
   "cell_type": "code",
   "execution_count": 10,
   "id": "1cc87501",
   "metadata": {
    "execution": {
     "iopub.execute_input": "2022-02-08T08:53:03.934077Z",
     "iopub.status.busy": "2022-02-08T08:53:03.933283Z",
     "iopub.status.idle": "2022-02-08T08:53:03.936706Z",
     "shell.execute_reply": "2022-02-08T08:53:03.936259Z",
     "shell.execute_reply.started": "2022-02-08T08:13:34.758998Z"
    },
    "papermill": {
     "duration": 0.040969,
     "end_time": "2022-02-08T08:53:03.936871",
     "exception": false,
     "start_time": "2022-02-08T08:53:03.895902",
     "status": "completed"
    },
    "tags": []
   },
   "outputs": [
    {
     "data": {
      "text/html": [
       "<div>\n",
       "<style scoped>\n",
       "    .dataframe tbody tr th:only-of-type {\n",
       "        vertical-align: middle;\n",
       "    }\n",
       "\n",
       "    .dataframe tbody tr th {\n",
       "        vertical-align: top;\n",
       "    }\n",
       "\n",
       "    .dataframe thead th {\n",
       "        text-align: right;\n",
       "    }\n",
       "</style>\n",
       "<table border=\"1\" class=\"dataframe\">\n",
       "  <thead>\n",
       "    <tr style=\"text-align: right;\">\n",
       "      <th></th>\n",
       "      <th>id</th>\n",
       "      <th>comment_text</th>\n",
       "      <th>toxic</th>\n",
       "      <th>severe_toxic</th>\n",
       "      <th>obscene</th>\n",
       "      <th>threat</th>\n",
       "      <th>insult</th>\n",
       "      <th>identity_hate</th>\n",
       "      <th>score</th>\n",
       "      <th>y</th>\n",
       "    </tr>\n",
       "  </thead>\n",
       "  <tbody>\n",
       "    <tr>\n",
       "      <th>0</th>\n",
       "      <td>0000997932d777bf</td>\n",
       "      <td>Explanation\\nWhy the edits made under my username Hardcore Metallica Fan were reverted? They weren't vandalisms, just closure on some GAs after I voted at New York Dolls FAC. And please don't remove the template from the talk page since I'm retired now.89.205.38.27</td>\n",
       "      <td>0.0</td>\n",
       "      <td>0.0</td>\n",
       "      <td>0.0</td>\n",
       "      <td>0.0</td>\n",
       "      <td>0.0</td>\n",
       "      <td>0.0</td>\n",
       "      <td>0.0</td>\n",
       "      <td>0.0</td>\n",
       "    </tr>\n",
       "    <tr>\n",
       "      <th>1</th>\n",
       "      <td>000103f0d9cfb60f</td>\n",
       "      <td>D'aww! He matches this background colour I'm seemingly stuck with. Thanks.  (talk) 21:51, January 11, 2016 (UTC)</td>\n",
       "      <td>0.0</td>\n",
       "      <td>0.0</td>\n",
       "      <td>0.0</td>\n",
       "      <td>0.0</td>\n",
       "      <td>0.0</td>\n",
       "      <td>0.0</td>\n",
       "      <td>0.0</td>\n",
       "      <td>0.0</td>\n",
       "    </tr>\n",
       "    <tr>\n",
       "      <th>2</th>\n",
       "      <td>000113f07ec002fd</td>\n",
       "      <td>Hey man, I'm really not trying to edit war. It's just that this guy is constantly removing relevant information and talking to me through edits instead of my talk page. He seems to care more about the formatting than the actual info.</td>\n",
       "      <td>0.0</td>\n",
       "      <td>0.0</td>\n",
       "      <td>0.0</td>\n",
       "      <td>0.0</td>\n",
       "      <td>0.0</td>\n",
       "      <td>0.0</td>\n",
       "      <td>0.0</td>\n",
       "      <td>0.0</td>\n",
       "    </tr>\n",
       "    <tr>\n",
       "      <th>3</th>\n",
       "      <td>0001b41b1c6bb37e</td>\n",
       "      <td>\"\\nMore\\nI can't make any real suggestions on improvement - I wondered if the section statistics should be later on, or a subsection of \"\"types of accidents\"\"  -I think the references may need tidying so that they are all in the exact same format ie date format etc. I can do that later on, if no...</td>\n",
       "      <td>0.0</td>\n",
       "      <td>0.0</td>\n",
       "      <td>0.0</td>\n",
       "      <td>0.0</td>\n",
       "      <td>0.0</td>\n",
       "      <td>0.0</td>\n",
       "      <td>0.0</td>\n",
       "      <td>0.0</td>\n",
       "    </tr>\n",
       "    <tr>\n",
       "      <th>4</th>\n",
       "      <td>0001d958c54c6e35</td>\n",
       "      <td>You, sir, are my hero. Any chance you remember what page that's on?</td>\n",
       "      <td>0.0</td>\n",
       "      <td>0.0</td>\n",
       "      <td>0.0</td>\n",
       "      <td>0.0</td>\n",
       "      <td>0.0</td>\n",
       "      <td>0.0</td>\n",
       "      <td>0.0</td>\n",
       "      <td>0.0</td>\n",
       "    </tr>\n",
       "  </tbody>\n",
       "</table>\n",
       "</div>"
      ],
      "text/plain": [
       "                 id  \\\n",
       "0  0000997932d777bf   \n",
       "1  000103f0d9cfb60f   \n",
       "2  000113f07ec002fd   \n",
       "3  0001b41b1c6bb37e   \n",
       "4  0001d958c54c6e35   \n",
       "\n",
       "                                                                                                                                                                                                                                                                                                  comment_text  \\\n",
       "0                                    Explanation\\nWhy the edits made under my username Hardcore Metallica Fan were reverted? They weren't vandalisms, just closure on some GAs after I voted at New York Dolls FAC. And please don't remove the template from the talk page since I'm retired now.89.205.38.27   \n",
       "1                                                                                                                                                                                             D'aww! He matches this background colour I'm seemingly stuck with. Thanks.  (talk) 21:51, January 11, 2016 (UTC)   \n",
       "2                                                                    Hey man, I'm really not trying to edit war. It's just that this guy is constantly removing relevant information and talking to me through edits instead of my talk page. He seems to care more about the formatting than the actual info.   \n",
       "3  \"\\nMore\\nI can't make any real suggestions on improvement - I wondered if the section statistics should be later on, or a subsection of \"\"types of accidents\"\"  -I think the references may need tidying so that they are all in the exact same format ie date format etc. I can do that later on, if no...   \n",
       "4                                                                                                                                                                                                                                          You, sir, are my hero. Any chance you remember what page that's on?   \n",
       "\n",
       "   toxic  severe_toxic  obscene  threat  insult  identity_hate  score    y  \n",
       "0    0.0           0.0      0.0     0.0     0.0            0.0    0.0  0.0  \n",
       "1    0.0           0.0      0.0     0.0     0.0            0.0    0.0  0.0  \n",
       "2    0.0           0.0      0.0     0.0     0.0            0.0    0.0  0.0  \n",
       "3    0.0           0.0      0.0     0.0     0.0            0.0    0.0  0.0  \n",
       "4    0.0           0.0      0.0     0.0     0.0            0.0    0.0  0.0  "
      ]
     },
     "execution_count": 10,
     "metadata": {},
     "output_type": "execute_result"
    }
   ],
   "source": [
    "train.head()"
   ]
  },
  {
   "cell_type": "code",
   "execution_count": 11,
   "id": "fa21c755",
   "metadata": {
    "execution": {
     "iopub.execute_input": "2022-02-08T08:53:03.990635Z",
     "iopub.status.busy": "2022-02-08T08:53:03.990019Z",
     "iopub.status.idle": "2022-02-08T08:53:03.996397Z",
     "shell.execute_reply": "2022-02-08T08:53:03.996829Z",
     "shell.execute_reply.started": "2022-02-08T08:13:34.779964Z"
    },
    "papermill": {
     "duration": 0.036758,
     "end_time": "2022-02-08T08:53:03.996994",
     "exception": false,
     "start_time": "2022-02-08T08:53:03.960236",
     "status": "completed"
    },
    "tags": []
   },
   "outputs": [],
   "source": [
    "train = train.rename(columns={'comment_text':'comment'})"
   ]
  },
  {
   "cell_type": "code",
   "execution_count": 12,
   "id": "63ee0022",
   "metadata": {
    "execution": {
     "iopub.execute_input": "2022-02-08T08:53:04.046074Z",
     "iopub.status.busy": "2022-02-08T08:53:04.045458Z",
     "iopub.status.idle": "2022-02-08T08:53:04.050481Z",
     "shell.execute_reply": "2022-02-08T08:53:04.050934Z",
     "shell.execute_reply.started": "2022-02-08T08:13:34.800366Z"
    },
    "papermill": {
     "duration": 0.031157,
     "end_time": "2022-02-08T08:53:04.051103",
     "exception": false,
     "start_time": "2022-02-08T08:53:04.019946",
     "status": "completed"
    },
    "tags": []
   },
   "outputs": [],
   "source": [
    "def text_cleaning(text):\n",
    "    \n",
    "    template = re.compile(r'https?://\\S+|www\\.\\S+') #Removes website links\n",
    "    text = template.sub(r'', text)\n",
    "    \n",
    "    soup = BeautifulSoup(text, 'lxml') #Removes HTML tags\n",
    "    only_text = soup.get_text()\n",
    "    text = only_text\n",
    "    \n",
    "    emoji_pattern = re.compile(\"[\"\n",
    "                               u\"\\U0001F600-\\U0001F64F\"  # emoticons\n",
    "                               u\"\\U0001F300-\\U0001F5FF\"  # symbols & pictographs\n",
    "                               u\"\\U0001F680-\\U0001F6FF\"  # transport & map symbols\n",
    "                               u\"\\U0001F1E0-\\U0001F1FF\"  # flags (iOS)\n",
    "                               u\"\\U00002702-\\U000027B0\"\n",
    "                               u\"\\U000024C2-\\U0001F251\"\n",
    "                               \"]+\", flags=re.UNICODE)\n",
    "    text = emoji_pattern.sub(r'', text)\n",
    "    \n",
    "    text = re.sub(r\"[^a-zA-Z\\d]\", \" \", text) #Remove special Charecters\n",
    "    text = re.sub(' +', ' ', text) #Remove Extra Spaces\n",
    "    text = text.strip() # remove spaces at the beginning and at the end of string\n",
    "\n",
    "    return text"
   ]
  },
  {
   "cell_type": "code",
   "execution_count": 13,
   "id": "08246c41",
   "metadata": {
    "execution": {
     "iopub.execute_input": "2022-02-08T08:53:04.102003Z",
     "iopub.status.busy": "2022-02-08T08:53:04.101355Z",
     "iopub.status.idle": "2022-02-08T08:53:51.887632Z",
     "shell.execute_reply": "2022-02-08T08:53:51.888075Z",
     "shell.execute_reply.started": "2022-02-08T08:13:34.81027Z"
    },
    "papermill": {
     "duration": 47.813373,
     "end_time": "2022-02-08T08:53:51.888261",
     "exception": false,
     "start_time": "2022-02-08T08:53:04.074888",
     "status": "completed"
    },
    "tags": []
   },
   "outputs": [
    {
     "data": {
      "application/vnd.jupyter.widget-view+json": {
       "model_id": "0f5ff39975514468a66209ec440d3a05",
       "version_major": 2,
       "version_minor": 0
      },
      "text/plain": [
       "  0%|          | 0/159571 [00:00<?, ?it/s]"
      ]
     },
     "metadata": {},
     "output_type": "display_data"
    }
   ],
   "source": [
    "tqdm.pandas()\n",
    "train['comment'] = train['comment'].progress_apply(text_cleaning)"
   ]
  },
  {
   "cell_type": "code",
   "execution_count": 14,
   "id": "da8d05c2",
   "metadata": {
    "execution": {
     "iopub.execute_input": "2022-02-08T08:53:51.942656Z",
     "iopub.status.busy": "2022-02-08T08:53:51.941364Z",
     "iopub.status.idle": "2022-02-08T08:53:51.959539Z",
     "shell.execute_reply": "2022-02-08T08:53:51.958615Z",
     "shell.execute_reply.started": "2022-02-08T08:14:37.949022Z"
    },
    "papermill": {
     "duration": 0.046901,
     "end_time": "2022-02-08T08:53:51.959682",
     "exception": false,
     "start_time": "2022-02-08T08:53:51.912781",
     "status": "completed"
    },
    "tags": []
   },
   "outputs": [],
   "source": [
    "df = train.copy()"
   ]
  },
  {
   "cell_type": "code",
   "execution_count": 15,
   "id": "cbcd2e66",
   "metadata": {
    "execution": {
     "iopub.execute_input": "2022-02-08T08:53:52.010691Z",
     "iopub.status.busy": "2022-02-08T08:53:52.010089Z",
     "iopub.status.idle": "2022-02-08T08:53:52.025305Z",
     "shell.execute_reply": "2022-02-08T08:53:52.025832Z",
     "shell.execute_reply.started": "2022-02-08T08:14:37.966547Z"
    },
    "papermill": {
     "duration": 0.042052,
     "end_time": "2022-02-08T08:53:52.026004",
     "exception": false,
     "start_time": "2022-02-08T08:53:51.983952",
     "status": "completed"
    },
    "tags": []
   },
   "outputs": [
    {
     "data": {
      "text/html": [
       "<div>\n",
       "<style scoped>\n",
       "    .dataframe tbody tr th:only-of-type {\n",
       "        vertical-align: middle;\n",
       "    }\n",
       "\n",
       "    .dataframe tbody tr th {\n",
       "        vertical-align: top;\n",
       "    }\n",
       "\n",
       "    .dataframe thead th {\n",
       "        text-align: right;\n",
       "    }\n",
       "</style>\n",
       "<table border=\"1\" class=\"dataframe\">\n",
       "  <thead>\n",
       "    <tr style=\"text-align: right;\">\n",
       "      <th></th>\n",
       "      <th>id</th>\n",
       "      <th>comment</th>\n",
       "      <th>toxic</th>\n",
       "      <th>severe_toxic</th>\n",
       "      <th>obscene</th>\n",
       "      <th>threat</th>\n",
       "      <th>insult</th>\n",
       "      <th>identity_hate</th>\n",
       "      <th>score</th>\n",
       "      <th>y</th>\n",
       "    </tr>\n",
       "  </thead>\n",
       "  <tbody>\n",
       "    <tr>\n",
       "      <th>0</th>\n",
       "      <td>0000997932d777bf</td>\n",
       "      <td>Explanation Why the edits made under my username Hardcore Metallica Fan were reverted They weren t vandalisms just closure on some GAs after I voted at New York Dolls FAC And please don t remove the template from the talk page since I m retired now 89 205 38 27</td>\n",
       "      <td>0.0</td>\n",
       "      <td>0.0</td>\n",
       "      <td>0.0</td>\n",
       "      <td>0.0</td>\n",
       "      <td>0.0</td>\n",
       "      <td>0.0</td>\n",
       "      <td>0.0</td>\n",
       "      <td>0.0</td>\n",
       "    </tr>\n",
       "    <tr>\n",
       "      <th>1</th>\n",
       "      <td>000103f0d9cfb60f</td>\n",
       "      <td>D aww He matches this background colour I m seemingly stuck with Thanks talk 21 51 January 11 2016 UTC</td>\n",
       "      <td>0.0</td>\n",
       "      <td>0.0</td>\n",
       "      <td>0.0</td>\n",
       "      <td>0.0</td>\n",
       "      <td>0.0</td>\n",
       "      <td>0.0</td>\n",
       "      <td>0.0</td>\n",
       "      <td>0.0</td>\n",
       "    </tr>\n",
       "    <tr>\n",
       "      <th>2</th>\n",
       "      <td>000113f07ec002fd</td>\n",
       "      <td>Hey man I m really not trying to edit war It s just that this guy is constantly removing relevant information and talking to me through edits instead of my talk page He seems to care more about the formatting than the actual info</td>\n",
       "      <td>0.0</td>\n",
       "      <td>0.0</td>\n",
       "      <td>0.0</td>\n",
       "      <td>0.0</td>\n",
       "      <td>0.0</td>\n",
       "      <td>0.0</td>\n",
       "      <td>0.0</td>\n",
       "      <td>0.0</td>\n",
       "    </tr>\n",
       "    <tr>\n",
       "      <th>3</th>\n",
       "      <td>0001b41b1c6bb37e</td>\n",
       "      <td>More I can t make any real suggestions on improvement I wondered if the section statistics should be later on or a subsection of types of accidents I think the references may need tidying so that they are all in the exact same format ie date format etc I can do that later on if no one else does ...</td>\n",
       "      <td>0.0</td>\n",
       "      <td>0.0</td>\n",
       "      <td>0.0</td>\n",
       "      <td>0.0</td>\n",
       "      <td>0.0</td>\n",
       "      <td>0.0</td>\n",
       "      <td>0.0</td>\n",
       "      <td>0.0</td>\n",
       "    </tr>\n",
       "    <tr>\n",
       "      <th>4</th>\n",
       "      <td>0001d958c54c6e35</td>\n",
       "      <td>You sir are my hero Any chance you remember what page that s on</td>\n",
       "      <td>0.0</td>\n",
       "      <td>0.0</td>\n",
       "      <td>0.0</td>\n",
       "      <td>0.0</td>\n",
       "      <td>0.0</td>\n",
       "      <td>0.0</td>\n",
       "      <td>0.0</td>\n",
       "      <td>0.0</td>\n",
       "    </tr>\n",
       "  </tbody>\n",
       "</table>\n",
       "</div>"
      ],
      "text/plain": [
       "                 id  \\\n",
       "0  0000997932d777bf   \n",
       "1  000103f0d9cfb60f   \n",
       "2  000113f07ec002fd   \n",
       "3  0001b41b1c6bb37e   \n",
       "4  0001d958c54c6e35   \n",
       "\n",
       "                                                                                                                                                                                                                                                                                                       comment  \\\n",
       "0                                        Explanation Why the edits made under my username Hardcore Metallica Fan were reverted They weren t vandalisms just closure on some GAs after I voted at New York Dolls FAC And please don t remove the template from the talk page since I m retired now 89 205 38 27   \n",
       "1                                                                                                                                                                                                       D aww He matches this background colour I m seemingly stuck with Thanks talk 21 51 January 11 2016 UTC   \n",
       "2                                                                        Hey man I m really not trying to edit war It s just that this guy is constantly removing relevant information and talking to me through edits instead of my talk page He seems to care more about the formatting than the actual info   \n",
       "3  More I can t make any real suggestions on improvement I wondered if the section statistics should be later on or a subsection of types of accidents I think the references may need tidying so that they are all in the exact same format ie date format etc I can do that later on if no one else does ...   \n",
       "4                                                                                                                                                                                                                                              You sir are my hero Any chance you remember what page that s on   \n",
       "\n",
       "   toxic  severe_toxic  obscene  threat  insult  identity_hate  score    y  \n",
       "0    0.0           0.0      0.0     0.0     0.0            0.0    0.0  0.0  \n",
       "1    0.0           0.0      0.0     0.0     0.0            0.0    0.0  0.0  \n",
       "2    0.0           0.0      0.0     0.0     0.0            0.0    0.0  0.0  \n",
       "3    0.0           0.0      0.0     0.0     0.0            0.0    0.0  0.0  \n",
       "4    0.0           0.0      0.0     0.0     0.0            0.0    0.0  0.0  "
      ]
     },
     "execution_count": 15,
     "metadata": {},
     "output_type": "execute_result"
    }
   ],
   "source": [
    "df.head()"
   ]
  },
  {
   "cell_type": "code",
   "execution_count": 16,
   "id": "3d6da762",
   "metadata": {
    "execution": {
     "iopub.execute_input": "2022-02-08T08:53:52.077407Z",
     "iopub.status.busy": "2022-02-08T08:53:52.076850Z",
     "iopub.status.idle": "2022-02-08T08:53:52.091582Z",
     "shell.execute_reply": "2022-02-08T08:53:52.092134Z",
     "shell.execute_reply.started": "2022-02-08T08:14:37.991178Z"
    },
    "papermill": {
     "duration": 0.041922,
     "end_time": "2022-02-08T08:53:52.092292",
     "exception": false,
     "start_time": "2022-02-08T08:53:52.050370",
     "status": "completed"
    },
    "tags": []
   },
   "outputs": [
    {
     "data": {
      "text/html": [
       "<div>\n",
       "<style scoped>\n",
       "    .dataframe tbody tr th:only-of-type {\n",
       "        vertical-align: middle;\n",
       "    }\n",
       "\n",
       "    .dataframe tbody tr th {\n",
       "        vertical-align: top;\n",
       "    }\n",
       "\n",
       "    .dataframe thead th {\n",
       "        text-align: right;\n",
       "    }\n",
       "</style>\n",
       "<table border=\"1\" class=\"dataframe\">\n",
       "  <thead>\n",
       "    <tr style=\"text-align: right;\">\n",
       "      <th></th>\n",
       "      <th>id</th>\n",
       "      <th>comment</th>\n",
       "      <th>toxic</th>\n",
       "      <th>severe_toxic</th>\n",
       "      <th>obscene</th>\n",
       "      <th>threat</th>\n",
       "      <th>insult</th>\n",
       "      <th>identity_hate</th>\n",
       "      <th>score</th>\n",
       "      <th>y</th>\n",
       "    </tr>\n",
       "  </thead>\n",
       "  <tbody>\n",
       "    <tr>\n",
       "      <th>0</th>\n",
       "      <td>0000997932d777bf</td>\n",
       "      <td>Explanation Why the edits made under my username Hardcore Metallica Fan were reverted They weren t vandalisms just closure on some GAs after I voted at New York Dolls FAC And please don t remove the template from the talk page since I m retired now 89 205 38 27</td>\n",
       "      <td>0.0</td>\n",
       "      <td>0.0</td>\n",
       "      <td>0.0</td>\n",
       "      <td>0.0</td>\n",
       "      <td>0.0</td>\n",
       "      <td>0.0</td>\n",
       "      <td>0.0</td>\n",
       "      <td>0.0</td>\n",
       "    </tr>\n",
       "    <tr>\n",
       "      <th>1</th>\n",
       "      <td>000103f0d9cfb60f</td>\n",
       "      <td>D aww He matches this background colour I m seemingly stuck with Thanks talk 21 51 January 11 2016 UTC</td>\n",
       "      <td>0.0</td>\n",
       "      <td>0.0</td>\n",
       "      <td>0.0</td>\n",
       "      <td>0.0</td>\n",
       "      <td>0.0</td>\n",
       "      <td>0.0</td>\n",
       "      <td>0.0</td>\n",
       "      <td>0.0</td>\n",
       "    </tr>\n",
       "    <tr>\n",
       "      <th>2</th>\n",
       "      <td>000113f07ec002fd</td>\n",
       "      <td>Hey man I m really not trying to edit war It s just that this guy is constantly removing relevant information and talking to me through edits instead of my talk page He seems to care more about the formatting than the actual info</td>\n",
       "      <td>0.0</td>\n",
       "      <td>0.0</td>\n",
       "      <td>0.0</td>\n",
       "      <td>0.0</td>\n",
       "      <td>0.0</td>\n",
       "      <td>0.0</td>\n",
       "      <td>0.0</td>\n",
       "      <td>0.0</td>\n",
       "    </tr>\n",
       "    <tr>\n",
       "      <th>3</th>\n",
       "      <td>0001b41b1c6bb37e</td>\n",
       "      <td>More I can t make any real suggestions on improvement I wondered if the section statistics should be later on or a subsection of types of accidents I think the references may need tidying so that they are all in the exact same format ie date format etc I can do that later on if no one else does ...</td>\n",
       "      <td>0.0</td>\n",
       "      <td>0.0</td>\n",
       "      <td>0.0</td>\n",
       "      <td>0.0</td>\n",
       "      <td>0.0</td>\n",
       "      <td>0.0</td>\n",
       "      <td>0.0</td>\n",
       "      <td>0.0</td>\n",
       "    </tr>\n",
       "    <tr>\n",
       "      <th>4</th>\n",
       "      <td>0001d958c54c6e35</td>\n",
       "      <td>You sir are my hero Any chance you remember what page that s on</td>\n",
       "      <td>0.0</td>\n",
       "      <td>0.0</td>\n",
       "      <td>0.0</td>\n",
       "      <td>0.0</td>\n",
       "      <td>0.0</td>\n",
       "      <td>0.0</td>\n",
       "      <td>0.0</td>\n",
       "      <td>0.0</td>\n",
       "    </tr>\n",
       "  </tbody>\n",
       "</table>\n",
       "</div>"
      ],
      "text/plain": [
       "                 id  \\\n",
       "0  0000997932d777bf   \n",
       "1  000103f0d9cfb60f   \n",
       "2  000113f07ec002fd   \n",
       "3  0001b41b1c6bb37e   \n",
       "4  0001d958c54c6e35   \n",
       "\n",
       "                                                                                                                                                                                                                                                                                                       comment  \\\n",
       "0                                        Explanation Why the edits made under my username Hardcore Metallica Fan were reverted They weren t vandalisms just closure on some GAs after I voted at New York Dolls FAC And please don t remove the template from the talk page since I m retired now 89 205 38 27   \n",
       "1                                                                                                                                                                                                       D aww He matches this background colour I m seemingly stuck with Thanks talk 21 51 January 11 2016 UTC   \n",
       "2                                                                        Hey man I m really not trying to edit war It s just that this guy is constantly removing relevant information and talking to me through edits instead of my talk page He seems to care more about the formatting than the actual info   \n",
       "3  More I can t make any real suggestions on improvement I wondered if the section statistics should be later on or a subsection of types of accidents I think the references may need tidying so that they are all in the exact same format ie date format etc I can do that later on if no one else does ...   \n",
       "4                                                                                                                                                                                                                                              You sir are my hero Any chance you remember what page that s on   \n",
       "\n",
       "   toxic  severe_toxic  obscene  threat  insult  identity_hate  score    y  \n",
       "0    0.0           0.0      0.0     0.0     0.0            0.0    0.0  0.0  \n",
       "1    0.0           0.0      0.0     0.0     0.0            0.0    0.0  0.0  \n",
       "2    0.0           0.0      0.0     0.0     0.0            0.0    0.0  0.0  \n",
       "3    0.0           0.0      0.0     0.0     0.0            0.0    0.0  0.0  \n",
       "4    0.0           0.0      0.0     0.0     0.0            0.0    0.0  0.0  "
      ]
     },
     "execution_count": 16,
     "metadata": {},
     "output_type": "execute_result"
    }
   ],
   "source": [
    "df.head()"
   ]
  },
  {
   "cell_type": "code",
   "execution_count": 17,
   "id": "ee6a8b33",
   "metadata": {
    "execution": {
     "iopub.execute_input": "2022-02-08T08:53:52.143514Z",
     "iopub.status.busy": "2022-02-08T08:53:52.142920Z",
     "iopub.status.idle": "2022-02-08T08:53:52.151365Z",
     "shell.execute_reply": "2022-02-08T08:53:52.151892Z",
     "shell.execute_reply.started": "2022-02-08T08:14:38.013934Z"
    },
    "papermill": {
     "duration": 0.03555,
     "end_time": "2022-02-08T08:53:52.152059",
     "exception": false,
     "start_time": "2022-02-08T08:53:52.116509",
     "status": "completed"
    },
    "tags": []
   },
   "outputs": [
    {
     "data": {
      "text/plain": [
       "0.00    143346\n",
       "0.32      5666\n",
       "1.12      3800\n",
       "0.48      1758\n",
       "2.62      1738\n",
       "0.96      1215\n",
       "4.12       385\n",
       "0.16       317\n",
       "0.64       301\n",
       "1.82       290\n",
       "1.98       204\n",
       "0.80       181\n",
       "2.46       164\n",
       "1.50        76\n",
       "2.14        31\n",
       "5.62        31\n",
       "3.32        21\n",
       "2.30        20\n",
       "3.48        10\n",
       "3.96        10\n",
       "1.66         5\n",
       "3.96         1\n",
       "4.82         1\n",
       "Name: y, dtype: int64"
      ]
     },
     "execution_count": 17,
     "metadata": {},
     "output_type": "execute_result"
    }
   ],
   "source": [
    "df['y'].value_counts()"
   ]
  },
  {
   "cell_type": "code",
   "execution_count": 18,
   "id": "ba4631b0",
   "metadata": {
    "execution": {
     "iopub.execute_input": "2022-02-08T08:53:52.210194Z",
     "iopub.status.busy": "2022-02-08T08:53:52.209601Z",
     "iopub.status.idle": "2022-02-08T08:53:52.212188Z",
     "shell.execute_reply": "2022-02-08T08:53:52.212696Z",
     "shell.execute_reply.started": "2022-02-08T08:14:38.026933Z"
    },
    "papermill": {
     "duration": 0.036353,
     "end_time": "2022-02-08T08:53:52.212867",
     "exception": false,
     "start_time": "2022-02-08T08:53:52.176514",
     "status": "completed"
    },
    "tags": []
   },
   "outputs": [
    {
     "data": {
      "text/plain": [
       "0.00    0.898321\n",
       "0.32    0.035508\n",
       "1.12    0.023814\n",
       "0.48    0.011017\n",
       "2.62    0.010892\n",
       "0.96    0.007614\n",
       "4.12    0.002413\n",
       "0.16    0.001987\n",
       "0.64    0.001886\n",
       "1.82    0.001817\n",
       "1.98    0.001278\n",
       "0.80    0.001134\n",
       "2.46    0.001028\n",
       "1.50    0.000476\n",
       "2.14    0.000194\n",
       "5.62    0.000194\n",
       "3.32    0.000132\n",
       "2.30    0.000125\n",
       "3.48    0.000063\n",
       "3.96    0.000063\n",
       "1.66    0.000031\n",
       "3.96    0.000006\n",
       "4.82    0.000006\n",
       "Name: y, dtype: float64"
      ]
     },
     "execution_count": 18,
     "metadata": {},
     "output_type": "execute_result"
    }
   ],
   "source": [
    "df['y'].value_counts(normalize=True)"
   ]
  },
  {
   "cell_type": "code",
   "execution_count": 19,
   "id": "a62ccc8f",
   "metadata": {
    "execution": {
     "iopub.execute_input": "2022-02-08T08:53:52.268476Z",
     "iopub.status.busy": "2022-02-08T08:53:52.267872Z",
     "iopub.status.idle": "2022-02-08T08:53:52.317748Z",
     "shell.execute_reply": "2022-02-08T08:53:52.318201Z",
     "shell.execute_reply.started": "2022-02-08T08:14:38.052219Z"
    },
    "papermill": {
     "duration": 0.080818,
     "end_time": "2022-02-08T08:53:52.318363",
     "exception": false,
     "start_time": "2022-02-08T08:53:52.237545",
     "status": "completed"
    },
    "tags": []
   },
   "outputs": [
    {
     "data": {
      "text/plain": [
       "0.00    32450\n",
       "0.32     5666\n",
       "1.12     3800\n",
       "0.48     1758\n",
       "2.62     1738\n",
       "0.96     1215\n",
       "4.12      385\n",
       "0.16      317\n",
       "0.64      301\n",
       "1.82      290\n",
       "1.98      204\n",
       "0.80      181\n",
       "2.46      164\n",
       "1.50       76\n",
       "5.62       31\n",
       "2.14       31\n",
       "3.32       21\n",
       "2.30       20\n",
       "3.48       10\n",
       "3.96       10\n",
       "1.66        5\n",
       "3.96        1\n",
       "4.82        1\n",
       "Name: y, dtype: int64"
      ]
     },
     "execution_count": 19,
     "metadata": {},
     "output_type": "execute_result"
    }
   ],
   "source": [
    "min_len = (df['y'] >= 0.1).sum()\n",
    "df_non_toxic = df[df['y'] == 0].sample(n=min_len * 2, random_state=42)\n",
    "df = pd.concat([df[df['y'] >= 0.1], df_non_toxic])\n",
    "df['y'].value_counts()"
   ]
  },
  {
   "cell_type": "code",
   "execution_count": 20,
   "id": "28283266",
   "metadata": {
    "execution": {
     "iopub.execute_input": "2022-02-08T08:53:52.371428Z",
     "iopub.status.busy": "2022-02-08T08:53:52.370841Z",
     "iopub.status.idle": "2022-02-08T08:53:52.385203Z",
     "shell.execute_reply": "2022-02-08T08:53:52.385622Z",
     "shell.execute_reply.started": "2022-02-08T08:14:38.132099Z"
    },
    "papermill": {
     "duration": 0.04242,
     "end_time": "2022-02-08T08:53:52.385795",
     "exception": false,
     "start_time": "2022-02-08T08:53:52.343375",
     "status": "completed"
    },
    "tags": []
   },
   "outputs": [
    {
     "data": {
      "text/html": [
       "<div>\n",
       "<style scoped>\n",
       "    .dataframe tbody tr th:only-of-type {\n",
       "        vertical-align: middle;\n",
       "    }\n",
       "\n",
       "    .dataframe tbody tr th {\n",
       "        vertical-align: top;\n",
       "    }\n",
       "\n",
       "    .dataframe thead th {\n",
       "        text-align: right;\n",
       "    }\n",
       "</style>\n",
       "<table border=\"1\" class=\"dataframe\">\n",
       "  <thead>\n",
       "    <tr style=\"text-align: right;\">\n",
       "      <th></th>\n",
       "      <th>id</th>\n",
       "      <th>comment</th>\n",
       "      <th>toxic</th>\n",
       "      <th>severe_toxic</th>\n",
       "      <th>obscene</th>\n",
       "      <th>threat</th>\n",
       "      <th>insult</th>\n",
       "      <th>identity_hate</th>\n",
       "      <th>score</th>\n",
       "      <th>y</th>\n",
       "    </tr>\n",
       "  </thead>\n",
       "  <tbody>\n",
       "    <tr>\n",
       "      <th>6</th>\n",
       "      <td>0002bcb3da6cb337</td>\n",
       "      <td>COCKSUCKER BEFORE YOU PISS AROUND ON MY WORK</td>\n",
       "      <td>0.32</td>\n",
       "      <td>1.5</td>\n",
       "      <td>0.16</td>\n",
       "      <td>0.0</td>\n",
       "      <td>0.64</td>\n",
       "      <td>0.0</td>\n",
       "      <td>2.62</td>\n",
       "      <td>2.62</td>\n",
       "    </tr>\n",
       "    <tr>\n",
       "      <th>12</th>\n",
       "      <td>0005c987bdfc9d4b</td>\n",
       "      <td>Hey what is it talk What is it an exclusive group of some WP TALIBANS who are good at destroying self appointed purist who GANG UP any one who asks them questions abt their ANTI SOCIAL and DESTRUCTIVE non contribution at WP Ask Sityush to clean up his behavior than issue me nonsensical warnings</td>\n",
       "      <td>0.32</td>\n",
       "      <td>0.0</td>\n",
       "      <td>0.00</td>\n",
       "      <td>0.0</td>\n",
       "      <td>0.00</td>\n",
       "      <td>0.0</td>\n",
       "      <td>0.32</td>\n",
       "      <td>0.32</td>\n",
       "    </tr>\n",
       "    <tr>\n",
       "      <th>16</th>\n",
       "      <td>0007e25b2121310b</td>\n",
       "      <td>Bye Don t look come or think of comming back Tosser</td>\n",
       "      <td>0.32</td>\n",
       "      <td>0.0</td>\n",
       "      <td>0.00</td>\n",
       "      <td>0.0</td>\n",
       "      <td>0.00</td>\n",
       "      <td>0.0</td>\n",
       "      <td>0.32</td>\n",
       "      <td>0.32</td>\n",
       "    </tr>\n",
       "    <tr>\n",
       "      <th>42</th>\n",
       "      <td>001810bf8c45bf5f</td>\n",
       "      <td>You are gay or antisemmitian Archangel WHite Tiger Meow Greetingshhh Uh there are two ways why you do erased my comment about WW2 that holocaust was brutally slaying of Jews and not gays Gypsys Slavs anyone 1 If you are anti semitian than shave your head bald and go to the skinhead meetings 2 If...</td>\n",
       "      <td>0.32</td>\n",
       "      <td>0.0</td>\n",
       "      <td>0.16</td>\n",
       "      <td>0.0</td>\n",
       "      <td>0.64</td>\n",
       "      <td>1.5</td>\n",
       "      <td>2.62</td>\n",
       "      <td>2.62</td>\n",
       "    </tr>\n",
       "    <tr>\n",
       "      <th>43</th>\n",
       "      <td>00190820581d90ce</td>\n",
       "      <td>FUCK YOUR FILTHY MOTHER IN THE ASS DRY</td>\n",
       "      <td>0.32</td>\n",
       "      <td>0.0</td>\n",
       "      <td>0.16</td>\n",
       "      <td>0.0</td>\n",
       "      <td>0.64</td>\n",
       "      <td>0.0</td>\n",
       "      <td>1.12</td>\n",
       "      <td>1.12</td>\n",
       "    </tr>\n",
       "  </tbody>\n",
       "</table>\n",
       "</div>"
      ],
      "text/plain": [
       "                  id  \\\n",
       "6   0002bcb3da6cb337   \n",
       "12  0005c987bdfc9d4b   \n",
       "16  0007e25b2121310b   \n",
       "42  001810bf8c45bf5f   \n",
       "43  00190820581d90ce   \n",
       "\n",
       "                                                                                                                                                                                                                                                                                                        comment  \\\n",
       "6                                                                                                                                                                                                                                                                  COCKSUCKER BEFORE YOU PISS AROUND ON MY WORK   \n",
       "12      Hey what is it talk What is it an exclusive group of some WP TALIBANS who are good at destroying self appointed purist who GANG UP any one who asks them questions abt their ANTI SOCIAL and DESTRUCTIVE non contribution at WP Ask Sityush to clean up his behavior than issue me nonsensical warnings   \n",
       "16                                                                                                                                                                                                                                                          Bye Don t look come or think of comming back Tosser   \n",
       "42  You are gay or antisemmitian Archangel WHite Tiger Meow Greetingshhh Uh there are two ways why you do erased my comment about WW2 that holocaust was brutally slaying of Jews and not gays Gypsys Slavs anyone 1 If you are anti semitian than shave your head bald and go to the skinhead meetings 2 If...   \n",
       "43                                                                                                                                                                                                                                                                       FUCK YOUR FILTHY MOTHER IN THE ASS DRY   \n",
       "\n",
       "    toxic  severe_toxic  obscene  threat  insult  identity_hate  score     y  \n",
       "6    0.32           1.5     0.16     0.0    0.64            0.0   2.62  2.62  \n",
       "12   0.32           0.0     0.00     0.0    0.00            0.0   0.32  0.32  \n",
       "16   0.32           0.0     0.00     0.0    0.00            0.0   0.32  0.32  \n",
       "42   0.32           0.0     0.16     0.0    0.64            1.5   2.62  2.62  \n",
       "43   0.32           0.0     0.16     0.0    0.64            0.0   1.12  1.12  "
      ]
     },
     "execution_count": 20,
     "metadata": {},
     "output_type": "execute_result"
    }
   ],
   "source": [
    "df.head()"
   ]
  },
  {
   "cell_type": "code",
   "execution_count": 21,
   "id": "c2b01c19",
   "metadata": {
    "execution": {
     "iopub.execute_input": "2022-02-08T08:53:52.440320Z",
     "iopub.status.busy": "2022-02-08T08:53:52.439673Z",
     "iopub.status.idle": "2022-02-08T08:53:54.900769Z",
     "shell.execute_reply": "2022-02-08T08:53:54.901238Z",
     "shell.execute_reply.started": "2022-02-08T08:14:38.158378Z"
    },
    "papermill": {
     "duration": 2.490179,
     "end_time": "2022-02-08T08:53:54.901419",
     "exception": false,
     "start_time": "2022-02-08T08:53:52.411240",
     "status": "completed"
    },
    "tags": []
   },
   "outputs": [
    {
     "data": {
      "text/plain": [
       "<48675x25209 sparse matrix of type '<class 'numpy.float64'>'\n",
       "\twith 1774851 stored elements in Compressed Sparse Row format>"
      ]
     },
     "execution_count": 21,
     "metadata": {},
     "output_type": "execute_result"
    }
   ],
   "source": [
    "vec = TfidfVectorizer(sublinear_tf=True, min_df= 3, max_df=0.5,max_features=50000)\n",
    "X = vec.fit_transform(df['comment'])\n",
    "X"
   ]
  },
  {
   "cell_type": "code",
   "execution_count": 22,
   "id": "8e856777",
   "metadata": {
    "execution": {
     "iopub.execute_input": "2022-02-08T08:53:54.957991Z",
     "iopub.status.busy": "2022-02-08T08:53:54.957389Z",
     "iopub.status.idle": "2022-02-08T08:53:55.672016Z",
     "shell.execute_reply": "2022-02-08T08:53:55.678799Z",
     "shell.execute_reply.started": "2022-02-08T08:14:42.00929Z"
    },
    "papermill": {
     "duration": 0.750482,
     "end_time": "2022-02-08T08:53:55.679062",
     "exception": false,
     "start_time": "2022-02-08T08:53:54.928580",
     "status": "completed"
    },
    "tags": []
   },
   "outputs": [
    {
     "data": {
      "text/plain": [
       "Ridge(alpha=0.5)"
      ]
     },
     "execution_count": 22,
     "metadata": {},
     "output_type": "execute_result"
    }
   ],
   "source": [
    "model = Ridge(alpha=0.5)\n",
    "model.fit(X, df['y'])"
   ]
  },
  {
   "cell_type": "code",
   "execution_count": 23,
   "id": "bac35b2d",
   "metadata": {
    "execution": {
     "iopub.execute_input": "2022-02-08T08:53:55.818883Z",
     "iopub.status.busy": "2022-02-08T08:53:55.818242Z",
     "iopub.status.idle": "2022-02-08T08:58:40.965179Z",
     "shell.execute_reply": "2022-02-08T08:58:40.965648Z",
     "shell.execute_reply.started": "2022-02-08T08:14:42.801964Z"
    },
    "papermill": {
     "duration": 285.180294,
     "end_time": "2022-02-08T08:58:40.965849",
     "exception": false,
     "start_time": "2022-02-08T08:53:55.785555",
     "status": "completed"
    },
    "tags": []
   },
   "outputs": [
    {
     "data": {
      "text/plain": [
       "XGBRegressor(base_score=0.5, booster='gbtree', colsample_bylevel=1,\n",
       "             colsample_bynode=1, colsample_bytree=0.8, enable_categorical=False,\n",
       "             eta=0.1, gamma=0, gpu_id=-1, importance_type=None,\n",
       "             interaction_constraints='', learning_rate=0.100000001,\n",
       "             max_delta_step=0, max_depth=7, min_child_weight=1, missing=nan,\n",
       "             monotone_constraints='()', n_estimators=1000, n_jobs=4,\n",
       "             num_parallel_tree=1, predictor='auto', random_state=0, reg_alpha=0,\n",
       "             reg_lambda=1, scale_pos_weight=1, subsample=0.7,\n",
       "             tree_method='exact', validate_parameters=1, verbosity=None)"
      ]
     },
     "execution_count": 23,
     "metadata": {},
     "output_type": "execute_result"
    }
   ],
   "source": [
    "#model = xgboost.XGBRegressor()\n",
    "model = xgboost.XGBRegressor(n_estimators=1000, max_depth=7, eta=0.1, subsample=0.7, colsample_bytree=0.8)\n",
    "model.fit(X, df['y'])"
   ]
  },
  {
   "cell_type": "code",
   "execution_count": 24,
   "id": "339da23d",
   "metadata": {
    "execution": {
     "iopub.execute_input": "2022-02-08T08:58:41.024182Z",
     "iopub.status.busy": "2022-02-08T08:58:41.023272Z",
     "iopub.status.idle": "2022-02-08T08:58:41.950273Z",
     "shell.execute_reply": "2022-02-08T08:58:41.950708Z",
     "shell.execute_reply.started": "2022-02-08T08:19:40.655469Z"
    },
    "papermill": {
     "duration": 0.958147,
     "end_time": "2022-02-08T08:58:41.950906",
     "exception": false,
     "start_time": "2022-02-08T08:58:40.992759",
     "status": "completed"
    },
    "tags": []
   },
   "outputs": [
    {
     "data": {
      "text/html": [
       "<div>\n",
       "<style scoped>\n",
       "    .dataframe tbody tr th:only-of-type {\n",
       "        vertical-align: middle;\n",
       "    }\n",
       "\n",
       "    .dataframe tbody tr th {\n",
       "        vertical-align: top;\n",
       "    }\n",
       "\n",
       "    .dataframe thead th {\n",
       "        text-align: right;\n",
       "    }\n",
       "</style>\n",
       "<table border=\"1\" class=\"dataframe\">\n",
       "  <thead>\n",
       "    <tr style=\"text-align: right;\">\n",
       "      <th></th>\n",
       "      <th>worker</th>\n",
       "      <th>less_toxic</th>\n",
       "      <th>more_toxic</th>\n",
       "    </tr>\n",
       "  </thead>\n",
       "  <tbody>\n",
       "    <tr>\n",
       "      <th>0</th>\n",
       "      <td>313</td>\n",
       "      <td>This article sucks \\n\\nwoo woo wooooooo</td>\n",
       "      <td>WHAT!!!!!!!!?!?!!?!?!!?!?!?!?!!!!!!!!!!!!!!!!!!!!!!!!??????????????????????????????????????????????????????!!!!!!=\\nWHER IS YOUR SEXY PIC GONE FROM YOUR MAIN PAGE???????? put it back</td>\n",
       "    </tr>\n",
       "    <tr>\n",
       "      <th>1</th>\n",
       "      <td>188</td>\n",
       "      <td>\"And yes, people should recognize that but they usually don't. One of the first objections you hear directed at someone who says he favors free markets is invariably \"\"There's no such thing as a free market.\"\" Ridiculously trivial. \"</td>\n",
       "      <td>Daphne Guinness \\n\\nTop of the mornin' my favourite Alien Life Form. I'm sorry, I can't marry you because you are a poor commoner so, therefore, unimportant. Can I have my dresses back. I hope your fat Oirish arse hasn't stretched them.</td>\n",
       "    </tr>\n",
       "    <tr>\n",
       "      <th>2</th>\n",
       "      <td>82</td>\n",
       "      <td>Western Media?\\n\\nYup, because every crime in the entire world is caused by the west.  Racists.</td>\n",
       "      <td>\"Atom you don't believe actual photos of masturbation is sexually explicit photos. I am sorry to say they are sexually explicit and so you said yourself that the disclaimer is used for that purpose. Also, Wikipedia itself is targeted for minors. In addition, you say that Wikipedia does not have ...</td>\n",
       "    </tr>\n",
       "    <tr>\n",
       "      <th>3</th>\n",
       "      <td>347</td>\n",
       "      <td>And you removed it! You numbskull! I don't care what you say anymore, this is my life! Go ahead with your own life, leave me alone! —</td>\n",
       "      <td>You seem to have sand in your vagina.\\n\\nMight want to wash that stinking hole out, bitch.</td>\n",
       "    </tr>\n",
       "    <tr>\n",
       "      <th>4</th>\n",
       "      <td>539</td>\n",
       "      <td>smelly vagina \\n\\nBluerasberry why don't you be a model for a cheesy blue vagina syndrome. A lot are experiencing this vaginal disease.</td>\n",
       "      <td>hey \\n\\nway to support nazis, you racist</td>\n",
       "    </tr>\n",
       "  </tbody>\n",
       "</table>\n",
       "</div>"
      ],
      "text/plain": [
       "   worker  \\\n",
       "0     313   \n",
       "1     188   \n",
       "2      82   \n",
       "3     347   \n",
       "4     539   \n",
       "\n",
       "                                                                                                                                                                                                                                  less_toxic  \\\n",
       "0                                                                                                                                                                                                    This article sucks \\n\\nwoo woo wooooooo   \n",
       "1  \"And yes, people should recognize that but they usually don't. One of the first objections you hear directed at someone who says he favors free markets is invariably \"\"There's no such thing as a free market.\"\" Ridiculously trivial. \"   \n",
       "2                                                                                                                                         Western Media?\\n\\nYup, because every crime in the entire world is caused by the west.  Racists.      \n",
       "3                                                                                                     And you removed it! You numbskull! I don't care what you say anymore, this is my life! Go ahead with your own life, leave me alone! —    \n",
       "4                                                                                                    smelly vagina \\n\\nBluerasberry why don't you be a model for a cheesy blue vagina syndrome. A lot are experiencing this vaginal disease.   \n",
       "\n",
       "                                                                                                                                                                                                                                                                                                    more_toxic  \n",
       "0                                                                                                                       WHAT!!!!!!!!?!?!!?!?!!?!?!?!?!!!!!!!!!!!!!!!!!!!!!!!!??????????????????????????????????????????????????????!!!!!!=\\nWHER IS YOUR SEXY PIC GONE FROM YOUR MAIN PAGE???????? put it back  \n",
       "1                                                                 Daphne Guinness \\n\\nTop of the mornin' my favourite Alien Life Form. I'm sorry, I can't marry you because you are a poor commoner so, therefore, unimportant. Can I have my dresses back. I hope your fat Oirish arse hasn't stretched them.  \n",
       "2  \"Atom you don't believe actual photos of masturbation is sexually explicit photos. I am sorry to say they are sexually explicit and so you said yourself that the disclaimer is used for that purpose. Also, Wikipedia itself is targeted for minors. In addition, you say that Wikipedia does not have ...  \n",
       "3                                                                                                                                                                                                                   You seem to have sand in your vagina.\\n\\nMight want to wash that stinking hole out, bitch.  \n",
       "4                                                                                                                                                                                                                                                                     hey \\n\\nway to support nazis, you racist  "
      ]
     },
     "execution_count": 24,
     "metadata": {},
     "output_type": "execute_result"
    }
   ],
   "source": [
    "val_data = pd.read_csv(\"../input/jigsaw-toxic-severity-rating/validation_data.csv\")\n",
    "val_data.head()"
   ]
  },
  {
   "cell_type": "code",
   "execution_count": 25,
   "id": "ead771a9",
   "metadata": {
    "execution": {
     "iopub.execute_input": "2022-02-08T08:58:42.032427Z",
     "iopub.status.busy": "2022-02-08T08:58:42.031690Z",
     "iopub.status.idle": "2022-02-08T08:58:59.676703Z",
     "shell.execute_reply": "2022-02-08T08:58:59.676233Z",
     "shell.execute_reply.started": "2022-02-08T08:19:41.25671Z"
    },
    "papermill": {
     "duration": 17.697943,
     "end_time": "2022-02-08T08:58:59.676874",
     "exception": false,
     "start_time": "2022-02-08T08:58:41.978931",
     "status": "completed"
    },
    "tags": []
   },
   "outputs": [
    {
     "data": {
      "application/vnd.jupyter.widget-view+json": {
       "model_id": "b3ccb33739a8436ab2a0f8780bedb215",
       "version_major": 2,
       "version_minor": 0
      },
      "text/plain": [
       "  0%|          | 0/30108 [00:00<?, ?it/s]"
      ]
     },
     "metadata": {},
     "output_type": "display_data"
    },
    {
     "data": {
      "application/vnd.jupyter.widget-view+json": {
       "model_id": "d26d45fa7c87404285803bbd6f9e5692",
       "version_major": 2,
       "version_minor": 0
      },
      "text/plain": [
       "  0%|          | 0/30108 [00:00<?, ?it/s]"
      ]
     },
     "metadata": {},
     "output_type": "display_data"
    }
   ],
   "source": [
    "tqdm.pandas()\n",
    "val_data['less_toxic'] = val_data['less_toxic'].progress_apply(text_cleaning)\n",
    "val_data['more_toxic'] = val_data['more_toxic'].progress_apply(text_cleaning)"
   ]
  },
  {
   "cell_type": "code",
   "execution_count": 26,
   "id": "ff911644",
   "metadata": {
    "execution": {
     "iopub.execute_input": "2022-02-08T08:58:59.763808Z",
     "iopub.status.busy": "2022-02-08T08:58:59.753385Z",
     "iopub.status.idle": "2022-02-08T08:59:02.992612Z",
     "shell.execute_reply": "2022-02-08T08:59:02.992076Z",
     "shell.execute_reply.started": "2022-02-08T08:20:04.889003Z"
    },
    "papermill": {
     "duration": 3.28765,
     "end_time": "2022-02-08T08:59:02.992787",
     "exception": false,
     "start_time": "2022-02-08T08:58:59.705137",
     "status": "completed"
    },
    "tags": []
   },
   "outputs": [],
   "source": [
    "X_less_toxic = vec.transform(val_data['less_toxic'])\n",
    "X_more_toxic = vec.transform(val_data['more_toxic'])"
   ]
  },
  {
   "cell_type": "code",
   "execution_count": 27,
   "id": "08a73b18",
   "metadata": {
    "execution": {
     "iopub.execute_input": "2022-02-08T08:59:03.056838Z",
     "iopub.status.busy": "2022-02-08T08:59:03.056146Z",
     "iopub.status.idle": "2022-02-08T08:59:04.797773Z",
     "shell.execute_reply": "2022-02-08T08:59:04.798319Z",
     "shell.execute_reply.started": "2022-02-08T08:20:10.531535Z"
    },
    "papermill": {
     "duration": 1.776136,
     "end_time": "2022-02-08T08:59:04.798514",
     "exception": false,
     "start_time": "2022-02-08T08:59:03.022378",
     "status": "completed"
    },
    "tags": []
   },
   "outputs": [],
   "source": [
    "p_less = model.predict(X_less_toxic)\n",
    "p_more = model.predict(X_more_toxic)"
   ]
  },
  {
   "cell_type": "code",
   "execution_count": 28,
   "id": "5fa09a9b",
   "metadata": {
    "execution": {
     "iopub.execute_input": "2022-02-08T08:59:04.884425Z",
     "iopub.status.busy": "2022-02-08T08:59:04.883764Z",
     "iopub.status.idle": "2022-02-08T08:59:07.281256Z",
     "shell.execute_reply": "2022-02-08T08:59:07.280761Z",
     "shell.execute_reply.started": "2022-02-08T08:20:12.34746Z"
    },
    "papermill": {
     "duration": 2.451553,
     "end_time": "2022-02-08T08:59:07.281389",
     "exception": false,
     "start_time": "2022-02-08T08:59:04.829836",
     "status": "completed"
    },
    "tags": []
   },
   "outputs": [
    {
     "data": {
      "application/vnd.jupyter.widget-view+json": {
       "model_id": "79a6b728bc9d475ca787085ecfc843ce",
       "version_major": 2,
       "version_minor": 0
      },
      "text/plain": [
       "  0%|          | 0/7537 [00:00<?, ?it/s]"
      ]
     },
     "metadata": {},
     "output_type": "display_data"
    }
   ],
   "source": [
    "tqdm.pandas()\n",
    "comm_score['text'] = comm_score['text'].progress_apply(text_cleaning)"
   ]
  },
  {
   "cell_type": "code",
   "execution_count": 29,
   "id": "3c8cfc7e",
   "metadata": {
    "execution": {
     "iopub.execute_input": "2022-02-08T08:59:07.354605Z",
     "iopub.status.busy": "2022-02-08T08:59:07.349120Z",
     "iopub.status.idle": "2022-02-08T08:59:07.985613Z",
     "shell.execute_reply": "2022-02-08T08:59:07.986544Z",
     "shell.execute_reply.started": "2022-02-08T08:20:15.334377Z"
    },
    "papermill": {
     "duration": 0.675108,
     "end_time": "2022-02-08T08:59:07.986777",
     "exception": false,
     "start_time": "2022-02-08T08:59:07.311669",
     "status": "completed"
    },
    "tags": []
   },
   "outputs": [],
   "source": [
    "X_test = vec.transform(comm_score['text'])\n",
    "p_test = model.predict(X_test)"
   ]
  },
  {
   "cell_type": "code",
   "execution_count": 30,
   "id": "8636e1a2",
   "metadata": {
    "execution": {
     "iopub.execute_input": "2022-02-08T08:59:08.052751Z",
     "iopub.status.busy": "2022-02-08T08:59:08.051902Z",
     "iopub.status.idle": "2022-02-08T08:59:08.053821Z",
     "shell.execute_reply": "2022-02-08T08:59:08.054432Z",
     "shell.execute_reply.started": "2022-02-08T08:20:16.263949Z"
    },
    "papermill": {
     "duration": 0.037752,
     "end_time": "2022-02-08T08:59:08.054610",
     "exception": false,
     "start_time": "2022-02-08T08:59:08.016858",
     "status": "completed"
    },
    "tags": []
   },
   "outputs": [],
   "source": [
    "comm_score['score'] = p_test"
   ]
  },
  {
   "cell_type": "code",
   "execution_count": 31,
   "id": "24e7e730",
   "metadata": {
    "execution": {
     "iopub.execute_input": "2022-02-08T08:59:08.117112Z",
     "iopub.status.busy": "2022-02-08T08:59:08.116213Z",
     "iopub.status.idle": "2022-02-08T08:59:08.121551Z",
     "shell.execute_reply": "2022-02-08T08:59:08.122094Z",
     "shell.execute_reply.started": "2022-02-08T08:20:16.272237Z"
    },
    "papermill": {
     "duration": 0.036652,
     "end_time": "2022-02-08T08:59:08.122247",
     "exception": false,
     "start_time": "2022-02-08T08:59:08.085595",
     "status": "completed"
    },
    "tags": []
   },
   "outputs": [
    {
     "data": {
      "text/plain": [
       "7537"
      ]
     },
     "execution_count": 31,
     "metadata": {},
     "output_type": "execute_result"
    }
   ],
   "source": [
    "comm_score['score'].count()"
   ]
  },
  {
   "cell_type": "code",
   "execution_count": 32,
   "id": "029b7ba9",
   "metadata": {
    "execution": {
     "iopub.execute_input": "2022-02-08T08:59:08.185069Z",
     "iopub.status.busy": "2022-02-08T08:59:08.184148Z",
     "iopub.status.idle": "2022-02-08T08:59:08.204287Z",
     "shell.execute_reply": "2022-02-08T08:59:08.203755Z",
     "shell.execute_reply.started": "2022-02-08T08:20:16.28519Z"
    },
    "papermill": {
     "duration": 0.053997,
     "end_time": "2022-02-08T08:59:08.204428",
     "exception": false,
     "start_time": "2022-02-08T08:59:08.150431",
     "status": "completed"
    },
    "tags": []
   },
   "outputs": [],
   "source": [
    "comm_score[['comment_id', 'score']].to_csv(\"submission.csv\", index=False)"
   ]
  },
  {
   "cell_type": "code",
   "execution_count": 33,
   "id": "e59d67a4",
   "metadata": {
    "execution": {
     "iopub.execute_input": "2022-02-08T08:59:08.270653Z",
     "iopub.status.busy": "2022-02-08T08:59:08.270044Z",
     "iopub.status.idle": "2022-02-08T08:59:08.272483Z",
     "shell.execute_reply": "2022-02-08T08:59:08.272925Z",
     "shell.execute_reply.started": "2022-02-08T08:20:16.321938Z"
    },
    "papermill": {
     "duration": 0.039974,
     "end_time": "2022-02-08T08:59:08.273082",
     "exception": false,
     "start_time": "2022-02-08T08:59:08.233108",
     "status": "completed"
    },
    "tags": []
   },
   "outputs": [
    {
     "data": {
      "text/html": [
       "<div>\n",
       "<style scoped>\n",
       "    .dataframe tbody tr th:only-of-type {\n",
       "        vertical-align: middle;\n",
       "    }\n",
       "\n",
       "    .dataframe tbody tr th {\n",
       "        vertical-align: top;\n",
       "    }\n",
       "\n",
       "    .dataframe thead th {\n",
       "        text-align: right;\n",
       "    }\n",
       "</style>\n",
       "<table border=\"1\" class=\"dataframe\">\n",
       "  <thead>\n",
       "    <tr style=\"text-align: right;\">\n",
       "      <th></th>\n",
       "      <th>comment_id</th>\n",
       "      <th>text</th>\n",
       "      <th>score</th>\n",
       "    </tr>\n",
       "  </thead>\n",
       "  <tbody>\n",
       "    <tr>\n",
       "      <th>0</th>\n",
       "      <td>114890</td>\n",
       "      <td>Gjalexei you asked about whether there is an anti editorializing policy here There is and it s called wikipedia neutral point of view It discusses at some length the case of what we should do when writing about a subject which most of us find repugnant Whilst you re not likely to get too many de...</td>\n",
       "      <td>-0.033409</td>\n",
       "    </tr>\n",
       "    <tr>\n",
       "      <th>1</th>\n",
       "      <td>732895</td>\n",
       "      <td>Looks like be have an abuser can you please look into this thanks</td>\n",
       "      <td>0.022373</td>\n",
       "    </tr>\n",
       "    <tr>\n",
       "      <th>2</th>\n",
       "      <td>1139051</td>\n",
       "      <td>I confess to having complete and apparently blissful ignorance of Jordan but I ve glanced at the article Is this a woman or a soap opera I don t think there was much to change in terms of the description of the various diseases It is mentioned that she is famous for the size of her breasts am I ...</td>\n",
       "      <td>-0.067164</td>\n",
       "    </tr>\n",
       "    <tr>\n",
       "      <th>3</th>\n",
       "      <td>1434512</td>\n",
       "      <td>Freud s ideas are certainly much discussed today and I would be the first to agree that they must be grappled with and dealt with seriously if only because of their currency So Freud deserves a long and thorough article in Wikipedia I believe that a balanced article would include A explanations ...</td>\n",
       "      <td>0.051448</td>\n",
       "    </tr>\n",
       "    <tr>\n",
       "      <th>4</th>\n",
       "      <td>2084821</td>\n",
       "      <td>It is not just you This is a laundry list of stupid allegations scooped up from god knows where Probably two thirds of it has little basis in fact</td>\n",
       "      <td>0.359721</td>\n",
       "    </tr>\n",
       "  </tbody>\n",
       "</table>\n",
       "</div>"
      ],
      "text/plain": [
       "   comment_id  \\\n",
       "0      114890   \n",
       "1      732895   \n",
       "2     1139051   \n",
       "3     1434512   \n",
       "4     2084821   \n",
       "\n",
       "                                                                                                                                                                                                                                                                                                          text  \\\n",
       "0  Gjalexei you asked about whether there is an anti editorializing policy here There is and it s called wikipedia neutral point of view It discusses at some length the case of what we should do when writing about a subject which most of us find repugnant Whilst you re not likely to get too many de...   \n",
       "1                                                                                                                                                                                                                                            Looks like be have an abuser can you please look into this thanks   \n",
       "2  I confess to having complete and apparently blissful ignorance of Jordan but I ve glanced at the article Is this a woman or a soap opera I don t think there was much to change in terms of the description of the various diseases It is mentioned that she is famous for the size of her breasts am I ...   \n",
       "3  Freud s ideas are certainly much discussed today and I would be the first to agree that they must be grappled with and dealt with seriously if only because of their currency So Freud deserves a long and thorough article in Wikipedia I believe that a balanced article would include A explanations ...   \n",
       "4                                                                                                                                                           It is not just you This is a laundry list of stupid allegations scooped up from god knows where Probably two thirds of it has little basis in fact   \n",
       "\n",
       "      score  \n",
       "0 -0.033409  \n",
       "1  0.022373  \n",
       "2 -0.067164  \n",
       "3  0.051448  \n",
       "4  0.359721  "
      ]
     },
     "execution_count": 33,
     "metadata": {},
     "output_type": "execute_result"
    }
   ],
   "source": [
    "comm_score.head()"
   ]
  },
  {
   "cell_type": "code",
   "execution_count": null,
   "id": "7d6637b5",
   "metadata": {
    "papermill": {
     "duration": 0.028998,
     "end_time": "2022-02-08T08:59:08.331627",
     "exception": false,
     "start_time": "2022-02-08T08:59:08.302629",
     "status": "completed"
    },
    "tags": []
   },
   "outputs": [],
   "source": []
  }
 ],
 "metadata": {
  "kernelspec": {
   "display_name": "Python 3",
   "language": "python",
   "name": "python3"
  },
  "language_info": {
   "codemirror_mode": {
    "name": "ipython",
    "version": 3
   },
   "file_extension": ".py",
   "mimetype": "text/x-python",
   "name": "python",
   "nbconvert_exporter": "python",
   "pygments_lexer": "ipython3",
   "version": "3.7.12"
  },
  "papermill": {
   "default_parameters": {},
   "duration": 379.358569,
   "end_time": "2022-02-08T08:59:09.175050",
   "environment_variables": {},
   "exception": null,
   "input_path": "__notebook__.ipynb",
   "output_path": "__notebook__.ipynb",
   "parameters": {},
   "start_time": "2022-02-08T08:52:49.816481",
   "version": "2.3.3"
  },
  "widgets": {
   "application/vnd.jupyter.widget-state+json": {
    "state": {
     "0f5ff39975514468a66209ec440d3a05": {
      "model_module": "@jupyter-widgets/controls",
      "model_module_version": "1.5.0",
      "model_name": "HBoxModel",
      "state": {
       "_dom_classes": [],
       "_model_module": "@jupyter-widgets/controls",
       "_model_module_version": "1.5.0",
       "_model_name": "HBoxModel",
       "_view_count": null,
       "_view_module": "@jupyter-widgets/controls",
       "_view_module_version": "1.5.0",
       "_view_name": "HBoxView",
       "box_style": "",
       "children": [
        "IPY_MODEL_192cbb11bf934a98ba4f4af22ba558db",
        "IPY_MODEL_4dc6ffa9538e4fbd9e3bb3b3605d64de",
        "IPY_MODEL_ab37820ac69e48a789001769e8272b29"
       ],
       "layout": "IPY_MODEL_be945b3cf259447fb21c9c2e2f1e29e4"
      }
     },
     "11189e12ae304ff994140c6f7b783176": {
      "model_module": "@jupyter-widgets/controls",
      "model_module_version": "1.5.0",
      "model_name": "ProgressStyleModel",
      "state": {
       "_model_module": "@jupyter-widgets/controls",
       "_model_module_version": "1.5.0",
       "_model_name": "ProgressStyleModel",
       "_view_count": null,
       "_view_module": "@jupyter-widgets/base",
       "_view_module_version": "1.2.0",
       "_view_name": "StyleView",
       "bar_color": null,
       "description_width": ""
      }
     },
     "192cbb11bf934a98ba4f4af22ba558db": {
      "model_module": "@jupyter-widgets/controls",
      "model_module_version": "1.5.0",
      "model_name": "HTMLModel",
      "state": {
       "_dom_classes": [],
       "_model_module": "@jupyter-widgets/controls",
       "_model_module_version": "1.5.0",
       "_model_name": "HTMLModel",
       "_view_count": null,
       "_view_module": "@jupyter-widgets/controls",
       "_view_module_version": "1.5.0",
       "_view_name": "HTMLView",
       "description": "",
       "description_tooltip": null,
       "layout": "IPY_MODEL_63a7556558b044d8a9d0c027915c9286",
       "placeholder": "​",
       "style": "IPY_MODEL_3dc16d8acb5b44e6858804c75dec9f55",
       "value": "100%"
      }
     },
     "197d99c11b96422498ce3c3ac4cbf7b5": {
      "model_module": "@jupyter-widgets/controls",
      "model_module_version": "1.5.0",
      "model_name": "DescriptionStyleModel",
      "state": {
       "_model_module": "@jupyter-widgets/controls",
       "_model_module_version": "1.5.0",
       "_model_name": "DescriptionStyleModel",
       "_view_count": null,
       "_view_module": "@jupyter-widgets/base",
       "_view_module_version": "1.2.0",
       "_view_name": "StyleView",
       "description_width": ""
      }
     },
     "209becfda0394440a2da257a9aef7e29": {
      "model_module": "@jupyter-widgets/controls",
      "model_module_version": "1.5.0",
      "model_name": "HTMLModel",
      "state": {
       "_dom_classes": [],
       "_model_module": "@jupyter-widgets/controls",
       "_model_module_version": "1.5.0",
       "_model_name": "HTMLModel",
       "_view_count": null,
       "_view_module": "@jupyter-widgets/controls",
       "_view_module_version": "1.5.0",
       "_view_name": "HTMLView",
       "description": "",
       "description_tooltip": null,
       "layout": "IPY_MODEL_b1a6095981204df29a0f274b133f44be",
       "placeholder": "​",
       "style": "IPY_MODEL_c3bced117818491599d0402f8155cee5",
       "value": "100%"
      }
     },
     "2c398dbf93ba4c28a996c5681c6a416b": {
      "model_module": "@jupyter-widgets/base",
      "model_module_version": "1.2.0",
      "model_name": "LayoutModel",
      "state": {
       "_model_module": "@jupyter-widgets/base",
       "_model_module_version": "1.2.0",
       "_model_name": "LayoutModel",
       "_view_count": null,
       "_view_module": "@jupyter-widgets/base",
       "_view_module_version": "1.2.0",
       "_view_name": "LayoutView",
       "align_content": null,
       "align_items": null,
       "align_self": null,
       "border": null,
       "bottom": null,
       "display": null,
       "flex": null,
       "flex_flow": null,
       "grid_area": null,
       "grid_auto_columns": null,
       "grid_auto_flow": null,
       "grid_auto_rows": null,
       "grid_column": null,
       "grid_gap": null,
       "grid_row": null,
       "grid_template_areas": null,
       "grid_template_columns": null,
       "grid_template_rows": null,
       "height": null,
       "justify_content": null,
       "justify_items": null,
       "left": null,
       "margin": null,
       "max_height": null,
       "max_width": null,
       "min_height": null,
       "min_width": null,
       "object_fit": null,
       "object_position": null,
       "order": null,
       "overflow": null,
       "overflow_x": null,
       "overflow_y": null,
       "padding": null,
       "right": null,
       "top": null,
       "visibility": null,
       "width": null
      }
     },
     "2c9af87edb6249de87f01357c9eb738d": {
      "model_module": "@jupyter-widgets/controls",
      "model_module_version": "1.5.0",
      "model_name": "DescriptionStyleModel",
      "state": {
       "_model_module": "@jupyter-widgets/controls",
       "_model_module_version": "1.5.0",
       "_model_name": "DescriptionStyleModel",
       "_view_count": null,
       "_view_module": "@jupyter-widgets/base",
       "_view_module_version": "1.2.0",
       "_view_name": "StyleView",
       "description_width": ""
      }
     },
     "302377e149034e9ab0bed7a65c5efadc": {
      "model_module": "@jupyter-widgets/base",
      "model_module_version": "1.2.0",
      "model_name": "LayoutModel",
      "state": {
       "_model_module": "@jupyter-widgets/base",
       "_model_module_version": "1.2.0",
       "_model_name": "LayoutModel",
       "_view_count": null,
       "_view_module": "@jupyter-widgets/base",
       "_view_module_version": "1.2.0",
       "_view_name": "LayoutView",
       "align_content": null,
       "align_items": null,
       "align_self": null,
       "border": null,
       "bottom": null,
       "display": null,
       "flex": null,
       "flex_flow": null,
       "grid_area": null,
       "grid_auto_columns": null,
       "grid_auto_flow": null,
       "grid_auto_rows": null,
       "grid_column": null,
       "grid_gap": null,
       "grid_row": null,
       "grid_template_areas": null,
       "grid_template_columns": null,
       "grid_template_rows": null,
       "height": null,
       "justify_content": null,
       "justify_items": null,
       "left": null,
       "margin": null,
       "max_height": null,
       "max_width": null,
       "min_height": null,
       "min_width": null,
       "object_fit": null,
       "object_position": null,
       "order": null,
       "overflow": null,
       "overflow_x": null,
       "overflow_y": null,
       "padding": null,
       "right": null,
       "top": null,
       "visibility": null,
       "width": null
      }
     },
     "3d38375e2c57492bba88dbc35bc9ceec": {
      "model_module": "@jupyter-widgets/controls",
      "model_module_version": "1.5.0",
      "model_name": "HTMLModel",
      "state": {
       "_dom_classes": [],
       "_model_module": "@jupyter-widgets/controls",
       "_model_module_version": "1.5.0",
       "_model_name": "HTMLModel",
       "_view_count": null,
       "_view_module": "@jupyter-widgets/controls",
       "_view_module_version": "1.5.0",
       "_view_name": "HTMLView",
       "description": "",
       "description_tooltip": null,
       "layout": "IPY_MODEL_c995195fdcc54ad5bb0491f8b04d942d",
       "placeholder": "​",
       "style": "IPY_MODEL_197d99c11b96422498ce3c3ac4cbf7b5",
       "value": " 30108/30108 [00:08&lt;00:00, 3472.32it/s]"
      }
     },
     "3dc16d8acb5b44e6858804c75dec9f55": {
      "model_module": "@jupyter-widgets/controls",
      "model_module_version": "1.5.0",
      "model_name": "DescriptionStyleModel",
      "state": {
       "_model_module": "@jupyter-widgets/controls",
       "_model_module_version": "1.5.0",
       "_model_name": "DescriptionStyleModel",
       "_view_count": null,
       "_view_module": "@jupyter-widgets/base",
       "_view_module_version": "1.2.0",
       "_view_name": "StyleView",
       "description_width": ""
      }
     },
     "40a5097844ae4aca8673a9aca9fd7f20": {
      "model_module": "@jupyter-widgets/base",
      "model_module_version": "1.2.0",
      "model_name": "LayoutModel",
      "state": {
       "_model_module": "@jupyter-widgets/base",
       "_model_module_version": "1.2.0",
       "_model_name": "LayoutModel",
       "_view_count": null,
       "_view_module": "@jupyter-widgets/base",
       "_view_module_version": "1.2.0",
       "_view_name": "LayoutView",
       "align_content": null,
       "align_items": null,
       "align_self": null,
       "border": null,
       "bottom": null,
       "display": null,
       "flex": null,
       "flex_flow": null,
       "grid_area": null,
       "grid_auto_columns": null,
       "grid_auto_flow": null,
       "grid_auto_rows": null,
       "grid_column": null,
       "grid_gap": null,
       "grid_row": null,
       "grid_template_areas": null,
       "grid_template_columns": null,
       "grid_template_rows": null,
       "height": null,
       "justify_content": null,
       "justify_items": null,
       "left": null,
       "margin": null,
       "max_height": null,
       "max_width": null,
       "min_height": null,
       "min_width": null,
       "object_fit": null,
       "object_position": null,
       "order": null,
       "overflow": null,
       "overflow_x": null,
       "overflow_y": null,
       "padding": null,
       "right": null,
       "top": null,
       "visibility": null,
       "width": null
      }
     },
     "40e855f07fa7459087d0379ea540ef72": {
      "model_module": "@jupyter-widgets/base",
      "model_module_version": "1.2.0",
      "model_name": "LayoutModel",
      "state": {
       "_model_module": "@jupyter-widgets/base",
       "_model_module_version": "1.2.0",
       "_model_name": "LayoutModel",
       "_view_count": null,
       "_view_module": "@jupyter-widgets/base",
       "_view_module_version": "1.2.0",
       "_view_name": "LayoutView",
       "align_content": null,
       "align_items": null,
       "align_self": null,
       "border": null,
       "bottom": null,
       "display": null,
       "flex": null,
       "flex_flow": null,
       "grid_area": null,
       "grid_auto_columns": null,
       "grid_auto_flow": null,
       "grid_auto_rows": null,
       "grid_column": null,
       "grid_gap": null,
       "grid_row": null,
       "grid_template_areas": null,
       "grid_template_columns": null,
       "grid_template_rows": null,
       "height": null,
       "justify_content": null,
       "justify_items": null,
       "left": null,
       "margin": null,
       "max_height": null,
       "max_width": null,
       "min_height": null,
       "min_width": null,
       "object_fit": null,
       "object_position": null,
       "order": null,
       "overflow": null,
       "overflow_x": null,
       "overflow_y": null,
       "padding": null,
       "right": null,
       "top": null,
       "visibility": null,
       "width": null
      }
     },
     "4bff0af55a174d359f299e1dd20ea583": {
      "model_module": "@jupyter-widgets/controls",
      "model_module_version": "1.5.0",
      "model_name": "DescriptionStyleModel",
      "state": {
       "_model_module": "@jupyter-widgets/controls",
       "_model_module_version": "1.5.0",
       "_model_name": "DescriptionStyleModel",
       "_view_count": null,
       "_view_module": "@jupyter-widgets/base",
       "_view_module_version": "1.2.0",
       "_view_name": "StyleView",
       "description_width": ""
      }
     },
     "4dc6ffa9538e4fbd9e3bb3b3605d64de": {
      "model_module": "@jupyter-widgets/controls",
      "model_module_version": "1.5.0",
      "model_name": "FloatProgressModel",
      "state": {
       "_dom_classes": [],
       "_model_module": "@jupyter-widgets/controls",
       "_model_module_version": "1.5.0",
       "_model_name": "FloatProgressModel",
       "_view_count": null,
       "_view_module": "@jupyter-widgets/controls",
       "_view_module_version": "1.5.0",
       "_view_name": "ProgressView",
       "bar_style": "success",
       "description": "",
       "description_tooltip": null,
       "layout": "IPY_MODEL_40a5097844ae4aca8673a9aca9fd7f20",
       "max": 159571.0,
       "min": 0.0,
       "orientation": "horizontal",
       "style": "IPY_MODEL_11189e12ae304ff994140c6f7b783176",
       "value": 159571.0
      }
     },
     "5292f2c09e7d48e78388ce21e60822ab": {
      "model_module": "@jupyter-widgets/controls",
      "model_module_version": "1.5.0",
      "model_name": "HTMLModel",
      "state": {
       "_dom_classes": [],
       "_model_module": "@jupyter-widgets/controls",
       "_model_module_version": "1.5.0",
       "_model_name": "HTMLModel",
       "_view_count": null,
       "_view_module": "@jupyter-widgets/controls",
       "_view_module_version": "1.5.0",
       "_view_name": "HTMLView",
       "description": "",
       "description_tooltip": null,
       "layout": "IPY_MODEL_be927b85e0334257bf9f14c7f7a28d92",
       "placeholder": "​",
       "style": "IPY_MODEL_bfc7ef349c564a8fa473d039c048879b",
       "value": " 30108/30108 [00:08&lt;00:00, 3507.69it/s]"
      }
     },
     "543537345dab4fa09414b742ec011e59": {
      "model_module": "@jupyter-widgets/controls",
      "model_module_version": "1.5.0",
      "model_name": "DescriptionStyleModel",
      "state": {
       "_model_module": "@jupyter-widgets/controls",
       "_model_module_version": "1.5.0",
       "_model_name": "DescriptionStyleModel",
       "_view_count": null,
       "_view_module": "@jupyter-widgets/base",
       "_view_module_version": "1.2.0",
       "_view_name": "StyleView",
       "description_width": ""
      }
     },
     "5782c03309e64ce5a18f8da67f5dc506": {
      "model_module": "@jupyter-widgets/base",
      "model_module_version": "1.2.0",
      "model_name": "LayoutModel",
      "state": {
       "_model_module": "@jupyter-widgets/base",
       "_model_module_version": "1.2.0",
       "_model_name": "LayoutModel",
       "_view_count": null,
       "_view_module": "@jupyter-widgets/base",
       "_view_module_version": "1.2.0",
       "_view_name": "LayoutView",
       "align_content": null,
       "align_items": null,
       "align_self": null,
       "border": null,
       "bottom": null,
       "display": null,
       "flex": null,
       "flex_flow": null,
       "grid_area": null,
       "grid_auto_columns": null,
       "grid_auto_flow": null,
       "grid_auto_rows": null,
       "grid_column": null,
       "grid_gap": null,
       "grid_row": null,
       "grid_template_areas": null,
       "grid_template_columns": null,
       "grid_template_rows": null,
       "height": null,
       "justify_content": null,
       "justify_items": null,
       "left": null,
       "margin": null,
       "max_height": null,
       "max_width": null,
       "min_height": null,
       "min_width": null,
       "object_fit": null,
       "object_position": null,
       "order": null,
       "overflow": null,
       "overflow_x": null,
       "overflow_y": null,
       "padding": null,
       "right": null,
       "top": null,
       "visibility": null,
       "width": null
      }
     },
     "5aadaf9f380d4eaba459cf863504023b": {
      "model_module": "@jupyter-widgets/base",
      "model_module_version": "1.2.0",
      "model_name": "LayoutModel",
      "state": {
       "_model_module": "@jupyter-widgets/base",
       "_model_module_version": "1.2.0",
       "_model_name": "LayoutModel",
       "_view_count": null,
       "_view_module": "@jupyter-widgets/base",
       "_view_module_version": "1.2.0",
       "_view_name": "LayoutView",
       "align_content": null,
       "align_items": null,
       "align_self": null,
       "border": null,
       "bottom": null,
       "display": null,
       "flex": null,
       "flex_flow": null,
       "grid_area": null,
       "grid_auto_columns": null,
       "grid_auto_flow": null,
       "grid_auto_rows": null,
       "grid_column": null,
       "grid_gap": null,
       "grid_row": null,
       "grid_template_areas": null,
       "grid_template_columns": null,
       "grid_template_rows": null,
       "height": null,
       "justify_content": null,
       "justify_items": null,
       "left": null,
       "margin": null,
       "max_height": null,
       "max_width": null,
       "min_height": null,
       "min_width": null,
       "object_fit": null,
       "object_position": null,
       "order": null,
       "overflow": null,
       "overflow_x": null,
       "overflow_y": null,
       "padding": null,
       "right": null,
       "top": null,
       "visibility": null,
       "width": null
      }
     },
     "63a7556558b044d8a9d0c027915c9286": {
      "model_module": "@jupyter-widgets/base",
      "model_module_version": "1.2.0",
      "model_name": "LayoutModel",
      "state": {
       "_model_module": "@jupyter-widgets/base",
       "_model_module_version": "1.2.0",
       "_model_name": "LayoutModel",
       "_view_count": null,
       "_view_module": "@jupyter-widgets/base",
       "_view_module_version": "1.2.0",
       "_view_name": "LayoutView",
       "align_content": null,
       "align_items": null,
       "align_self": null,
       "border": null,
       "bottom": null,
       "display": null,
       "flex": null,
       "flex_flow": null,
       "grid_area": null,
       "grid_auto_columns": null,
       "grid_auto_flow": null,
       "grid_auto_rows": null,
       "grid_column": null,
       "grid_gap": null,
       "grid_row": null,
       "grid_template_areas": null,
       "grid_template_columns": null,
       "grid_template_rows": null,
       "height": null,
       "justify_content": null,
       "justify_items": null,
       "left": null,
       "margin": null,
       "max_height": null,
       "max_width": null,
       "min_height": null,
       "min_width": null,
       "object_fit": null,
       "object_position": null,
       "order": null,
       "overflow": null,
       "overflow_x": null,
       "overflow_y": null,
       "padding": null,
       "right": null,
       "top": null,
       "visibility": null,
       "width": null
      }
     },
     "6cb353c884384544931cf19a3ef876eb": {
      "model_module": "@jupyter-widgets/base",
      "model_module_version": "1.2.0",
      "model_name": "LayoutModel",
      "state": {
       "_model_module": "@jupyter-widgets/base",
       "_model_module_version": "1.2.0",
       "_model_name": "LayoutModel",
       "_view_count": null,
       "_view_module": "@jupyter-widgets/base",
       "_view_module_version": "1.2.0",
       "_view_name": "LayoutView",
       "align_content": null,
       "align_items": null,
       "align_self": null,
       "border": null,
       "bottom": null,
       "display": null,
       "flex": null,
       "flex_flow": null,
       "grid_area": null,
       "grid_auto_columns": null,
       "grid_auto_flow": null,
       "grid_auto_rows": null,
       "grid_column": null,
       "grid_gap": null,
       "grid_row": null,
       "grid_template_areas": null,
       "grid_template_columns": null,
       "grid_template_rows": null,
       "height": null,
       "justify_content": null,
       "justify_items": null,
       "left": null,
       "margin": null,
       "max_height": null,
       "max_width": null,
       "min_height": null,
       "min_width": null,
       "object_fit": null,
       "object_position": null,
       "order": null,
       "overflow": null,
       "overflow_x": null,
       "overflow_y": null,
       "padding": null,
       "right": null,
       "top": null,
       "visibility": null,
       "width": null
      }
     },
     "6e713245a30f4182b9ecb0d3953f371c": {
      "model_module": "@jupyter-widgets/base",
      "model_module_version": "1.2.0",
      "model_name": "LayoutModel",
      "state": {
       "_model_module": "@jupyter-widgets/base",
       "_model_module_version": "1.2.0",
       "_model_name": "LayoutModel",
       "_view_count": null,
       "_view_module": "@jupyter-widgets/base",
       "_view_module_version": "1.2.0",
       "_view_name": "LayoutView",
       "align_content": null,
       "align_items": null,
       "align_self": null,
       "border": null,
       "bottom": null,
       "display": null,
       "flex": null,
       "flex_flow": null,
       "grid_area": null,
       "grid_auto_columns": null,
       "grid_auto_flow": null,
       "grid_auto_rows": null,
       "grid_column": null,
       "grid_gap": null,
       "grid_row": null,
       "grid_template_areas": null,
       "grid_template_columns": null,
       "grid_template_rows": null,
       "height": null,
       "justify_content": null,
       "justify_items": null,
       "left": null,
       "margin": null,
       "max_height": null,
       "max_width": null,
       "min_height": null,
       "min_width": null,
       "object_fit": null,
       "object_position": null,
       "order": null,
       "overflow": null,
       "overflow_x": null,
       "overflow_y": null,
       "padding": null,
       "right": null,
       "top": null,
       "visibility": null,
       "width": null
      }
     },
     "6fd9a428c44a40aa997c5da359aa7dc8": {
      "model_module": "@jupyter-widgets/controls",
      "model_module_version": "1.5.0",
      "model_name": "ProgressStyleModel",
      "state": {
       "_model_module": "@jupyter-widgets/controls",
       "_model_module_version": "1.5.0",
       "_model_name": "ProgressStyleModel",
       "_view_count": null,
       "_view_module": "@jupyter-widgets/base",
       "_view_module_version": "1.2.0",
       "_view_name": "StyleView",
       "bar_color": null,
       "description_width": ""
      }
     },
     "72bb26599e744a0995ca33ce52137996": {
      "model_module": "@jupyter-widgets/base",
      "model_module_version": "1.2.0",
      "model_name": "LayoutModel",
      "state": {
       "_model_module": "@jupyter-widgets/base",
       "_model_module_version": "1.2.0",
       "_model_name": "LayoutModel",
       "_view_count": null,
       "_view_module": "@jupyter-widgets/base",
       "_view_module_version": "1.2.0",
       "_view_name": "LayoutView",
       "align_content": null,
       "align_items": null,
       "align_self": null,
       "border": null,
       "bottom": null,
       "display": null,
       "flex": null,
       "flex_flow": null,
       "grid_area": null,
       "grid_auto_columns": null,
       "grid_auto_flow": null,
       "grid_auto_rows": null,
       "grid_column": null,
       "grid_gap": null,
       "grid_row": null,
       "grid_template_areas": null,
       "grid_template_columns": null,
       "grid_template_rows": null,
       "height": null,
       "justify_content": null,
       "justify_items": null,
       "left": null,
       "margin": null,
       "max_height": null,
       "max_width": null,
       "min_height": null,
       "min_width": null,
       "object_fit": null,
       "object_position": null,
       "order": null,
       "overflow": null,
       "overflow_x": null,
       "overflow_y": null,
       "padding": null,
       "right": null,
       "top": null,
       "visibility": null,
       "width": null
      }
     },
     "79a6b728bc9d475ca787085ecfc843ce": {
      "model_module": "@jupyter-widgets/controls",
      "model_module_version": "1.5.0",
      "model_name": "HBoxModel",
      "state": {
       "_dom_classes": [],
       "_model_module": "@jupyter-widgets/controls",
       "_model_module_version": "1.5.0",
       "_model_name": "HBoxModel",
       "_view_count": null,
       "_view_module": "@jupyter-widgets/controls",
       "_view_module_version": "1.5.0",
       "_view_name": "HBoxView",
       "box_style": "",
       "children": [
        "IPY_MODEL_c15c65b1f0ca483893520bbb3e65bb45",
        "IPY_MODEL_9fcea27d03914e8e83a84bb8bbf3a67a",
        "IPY_MODEL_e1ed2a66b9824859a05ab249aaa9bac0"
       ],
       "layout": "IPY_MODEL_5782c03309e64ce5a18f8da67f5dc506"
      }
     },
     "8a072a5db4174ad7ba9a84cb7b74b862": {
      "model_module": "@jupyter-widgets/controls",
      "model_module_version": "1.5.0",
      "model_name": "FloatProgressModel",
      "state": {
       "_dom_classes": [],
       "_model_module": "@jupyter-widgets/controls",
       "_model_module_version": "1.5.0",
       "_model_name": "FloatProgressModel",
       "_view_count": null,
       "_view_module": "@jupyter-widgets/controls",
       "_view_module_version": "1.5.0",
       "_view_name": "ProgressView",
       "bar_style": "success",
       "description": "",
       "description_tooltip": null,
       "layout": "IPY_MODEL_72bb26599e744a0995ca33ce52137996",
       "max": 30108.0,
       "min": 0.0,
       "orientation": "horizontal",
       "style": "IPY_MODEL_6fd9a428c44a40aa997c5da359aa7dc8",
       "value": 30108.0
      }
     },
     "91e875423c4b41019eecce7abe6c178c": {
      "model_module": "@jupyter-widgets/controls",
      "model_module_version": "1.5.0",
      "model_name": "FloatProgressModel",
      "state": {
       "_dom_classes": [],
       "_model_module": "@jupyter-widgets/controls",
       "_model_module_version": "1.5.0",
       "_model_name": "FloatProgressModel",
       "_view_count": null,
       "_view_module": "@jupyter-widgets/controls",
       "_view_module_version": "1.5.0",
       "_view_name": "ProgressView",
       "bar_style": "success",
       "description": "",
       "description_tooltip": null,
       "layout": "IPY_MODEL_2c398dbf93ba4c28a996c5681c6a416b",
       "max": 30108.0,
       "min": 0.0,
       "orientation": "horizontal",
       "style": "IPY_MODEL_9b4fa87378a94b238bae85990002a78b",
       "value": 30108.0
      }
     },
     "91f8a1597b7945b4887e66def3db26b4": {
      "model_module": "@jupyter-widgets/base",
      "model_module_version": "1.2.0",
      "model_name": "LayoutModel",
      "state": {
       "_model_module": "@jupyter-widgets/base",
       "_model_module_version": "1.2.0",
       "_model_name": "LayoutModel",
       "_view_count": null,
       "_view_module": "@jupyter-widgets/base",
       "_view_module_version": "1.2.0",
       "_view_name": "LayoutView",
       "align_content": null,
       "align_items": null,
       "align_self": null,
       "border": null,
       "bottom": null,
       "display": null,
       "flex": null,
       "flex_flow": null,
       "grid_area": null,
       "grid_auto_columns": null,
       "grid_auto_flow": null,
       "grid_auto_rows": null,
       "grid_column": null,
       "grid_gap": null,
       "grid_row": null,
       "grid_template_areas": null,
       "grid_template_columns": null,
       "grid_template_rows": null,
       "height": null,
       "justify_content": null,
       "justify_items": null,
       "left": null,
       "margin": null,
       "max_height": null,
       "max_width": null,
       "min_height": null,
       "min_width": null,
       "object_fit": null,
       "object_position": null,
       "order": null,
       "overflow": null,
       "overflow_x": null,
       "overflow_y": null,
       "padding": null,
       "right": null,
       "top": null,
       "visibility": null,
       "width": null
      }
     },
     "93bb9c272c1a4002b07b0f14036690c0": {
      "model_module": "@jupyter-widgets/base",
      "model_module_version": "1.2.0",
      "model_name": "LayoutModel",
      "state": {
       "_model_module": "@jupyter-widgets/base",
       "_model_module_version": "1.2.0",
       "_model_name": "LayoutModel",
       "_view_count": null,
       "_view_module": "@jupyter-widgets/base",
       "_view_module_version": "1.2.0",
       "_view_name": "LayoutView",
       "align_content": null,
       "align_items": null,
       "align_self": null,
       "border": null,
       "bottom": null,
       "display": null,
       "flex": null,
       "flex_flow": null,
       "grid_area": null,
       "grid_auto_columns": null,
       "grid_auto_flow": null,
       "grid_auto_rows": null,
       "grid_column": null,
       "grid_gap": null,
       "grid_row": null,
       "grid_template_areas": null,
       "grid_template_columns": null,
       "grid_template_rows": null,
       "height": null,
       "justify_content": null,
       "justify_items": null,
       "left": null,
       "margin": null,
       "max_height": null,
       "max_width": null,
       "min_height": null,
       "min_width": null,
       "object_fit": null,
       "object_position": null,
       "order": null,
       "overflow": null,
       "overflow_x": null,
       "overflow_y": null,
       "padding": null,
       "right": null,
       "top": null,
       "visibility": null,
       "width": null
      }
     },
     "9b4fa87378a94b238bae85990002a78b": {
      "model_module": "@jupyter-widgets/controls",
      "model_module_version": "1.5.0",
      "model_name": "ProgressStyleModel",
      "state": {
       "_model_module": "@jupyter-widgets/controls",
       "_model_module_version": "1.5.0",
       "_model_name": "ProgressStyleModel",
       "_view_count": null,
       "_view_module": "@jupyter-widgets/base",
       "_view_module_version": "1.2.0",
       "_view_name": "StyleView",
       "bar_color": null,
       "description_width": ""
      }
     },
     "9fcea27d03914e8e83a84bb8bbf3a67a": {
      "model_module": "@jupyter-widgets/controls",
      "model_module_version": "1.5.0",
      "model_name": "FloatProgressModel",
      "state": {
       "_dom_classes": [],
       "_model_module": "@jupyter-widgets/controls",
       "_model_module_version": "1.5.0",
       "_model_name": "FloatProgressModel",
       "_view_count": null,
       "_view_module": "@jupyter-widgets/controls",
       "_view_module_version": "1.5.0",
       "_view_name": "ProgressView",
       "bar_style": "success",
       "description": "",
       "description_tooltip": null,
       "layout": "IPY_MODEL_5aadaf9f380d4eaba459cf863504023b",
       "max": 7537.0,
       "min": 0.0,
       "orientation": "horizontal",
       "style": "IPY_MODEL_fb09f61d0c8f4c768e38973eff042b3f",
       "value": 7537.0
      }
     },
     "aa2edf0bf0874aa996b83d18bdbf01fd": {
      "model_module": "@jupyter-widgets/controls",
      "model_module_version": "1.5.0",
      "model_name": "DescriptionStyleModel",
      "state": {
       "_model_module": "@jupyter-widgets/controls",
       "_model_module_version": "1.5.0",
       "_model_name": "DescriptionStyleModel",
       "_view_count": null,
       "_view_module": "@jupyter-widgets/base",
       "_view_module_version": "1.2.0",
       "_view_name": "StyleView",
       "description_width": ""
      }
     },
     "ab37820ac69e48a789001769e8272b29": {
      "model_module": "@jupyter-widgets/controls",
      "model_module_version": "1.5.0",
      "model_name": "HTMLModel",
      "state": {
       "_dom_classes": [],
       "_model_module": "@jupyter-widgets/controls",
       "_model_module_version": "1.5.0",
       "_model_name": "HTMLModel",
       "_view_count": null,
       "_view_module": "@jupyter-widgets/controls",
       "_view_module_version": "1.5.0",
       "_view_name": "HTMLView",
       "description": "",
       "description_tooltip": null,
       "layout": "IPY_MODEL_302377e149034e9ab0bed7a65c5efadc",
       "placeholder": "​",
       "style": "IPY_MODEL_4bff0af55a174d359f299e1dd20ea583",
       "value": " 159571/159571 [00:47&lt;00:00, 3404.50it/s]"
      }
     },
     "b1a6095981204df29a0f274b133f44be": {
      "model_module": "@jupyter-widgets/base",
      "model_module_version": "1.2.0",
      "model_name": "LayoutModel",
      "state": {
       "_model_module": "@jupyter-widgets/base",
       "_model_module_version": "1.2.0",
       "_model_name": "LayoutModel",
       "_view_count": null,
       "_view_module": "@jupyter-widgets/base",
       "_view_module_version": "1.2.0",
       "_view_name": "LayoutView",
       "align_content": null,
       "align_items": null,
       "align_self": null,
       "border": null,
       "bottom": null,
       "display": null,
       "flex": null,
       "flex_flow": null,
       "grid_area": null,
       "grid_auto_columns": null,
       "grid_auto_flow": null,
       "grid_auto_rows": null,
       "grid_column": null,
       "grid_gap": null,
       "grid_row": null,
       "grid_template_areas": null,
       "grid_template_columns": null,
       "grid_template_rows": null,
       "height": null,
       "justify_content": null,
       "justify_items": null,
       "left": null,
       "margin": null,
       "max_height": null,
       "max_width": null,
       "min_height": null,
       "min_width": null,
       "object_fit": null,
       "object_position": null,
       "order": null,
       "overflow": null,
       "overflow_x": null,
       "overflow_y": null,
       "padding": null,
       "right": null,
       "top": null,
       "visibility": null,
       "width": null
      }
     },
     "b3ccb33739a8436ab2a0f8780bedb215": {
      "model_module": "@jupyter-widgets/controls",
      "model_module_version": "1.5.0",
      "model_name": "HBoxModel",
      "state": {
       "_dom_classes": [],
       "_model_module": "@jupyter-widgets/controls",
       "_model_module_version": "1.5.0",
       "_model_name": "HBoxModel",
       "_view_count": null,
       "_view_module": "@jupyter-widgets/controls",
       "_view_module_version": "1.5.0",
       "_view_name": "HBoxView",
       "box_style": "",
       "children": [
        "IPY_MODEL_e1ae55de38e8409782585dbb012863ab",
        "IPY_MODEL_91e875423c4b41019eecce7abe6c178c",
        "IPY_MODEL_3d38375e2c57492bba88dbc35bc9ceec"
       ],
       "layout": "IPY_MODEL_40e855f07fa7459087d0379ea540ef72"
      }
     },
     "be927b85e0334257bf9f14c7f7a28d92": {
      "model_module": "@jupyter-widgets/base",
      "model_module_version": "1.2.0",
      "model_name": "LayoutModel",
      "state": {
       "_model_module": "@jupyter-widgets/base",
       "_model_module_version": "1.2.0",
       "_model_name": "LayoutModel",
       "_view_count": null,
       "_view_module": "@jupyter-widgets/base",
       "_view_module_version": "1.2.0",
       "_view_name": "LayoutView",
       "align_content": null,
       "align_items": null,
       "align_self": null,
       "border": null,
       "bottom": null,
       "display": null,
       "flex": null,
       "flex_flow": null,
       "grid_area": null,
       "grid_auto_columns": null,
       "grid_auto_flow": null,
       "grid_auto_rows": null,
       "grid_column": null,
       "grid_gap": null,
       "grid_row": null,
       "grid_template_areas": null,
       "grid_template_columns": null,
       "grid_template_rows": null,
       "height": null,
       "justify_content": null,
       "justify_items": null,
       "left": null,
       "margin": null,
       "max_height": null,
       "max_width": null,
       "min_height": null,
       "min_width": null,
       "object_fit": null,
       "object_position": null,
       "order": null,
       "overflow": null,
       "overflow_x": null,
       "overflow_y": null,
       "padding": null,
       "right": null,
       "top": null,
       "visibility": null,
       "width": null
      }
     },
     "be945b3cf259447fb21c9c2e2f1e29e4": {
      "model_module": "@jupyter-widgets/base",
      "model_module_version": "1.2.0",
      "model_name": "LayoutModel",
      "state": {
       "_model_module": "@jupyter-widgets/base",
       "_model_module_version": "1.2.0",
       "_model_name": "LayoutModel",
       "_view_count": null,
       "_view_module": "@jupyter-widgets/base",
       "_view_module_version": "1.2.0",
       "_view_name": "LayoutView",
       "align_content": null,
       "align_items": null,
       "align_self": null,
       "border": null,
       "bottom": null,
       "display": null,
       "flex": null,
       "flex_flow": null,
       "grid_area": null,
       "grid_auto_columns": null,
       "grid_auto_flow": null,
       "grid_auto_rows": null,
       "grid_column": null,
       "grid_gap": null,
       "grid_row": null,
       "grid_template_areas": null,
       "grid_template_columns": null,
       "grid_template_rows": null,
       "height": null,
       "justify_content": null,
       "justify_items": null,
       "left": null,
       "margin": null,
       "max_height": null,
       "max_width": null,
       "min_height": null,
       "min_width": null,
       "object_fit": null,
       "object_position": null,
       "order": null,
       "overflow": null,
       "overflow_x": null,
       "overflow_y": null,
       "padding": null,
       "right": null,
       "top": null,
       "visibility": null,
       "width": null
      }
     },
     "bfc7ef349c564a8fa473d039c048879b": {
      "model_module": "@jupyter-widgets/controls",
      "model_module_version": "1.5.0",
      "model_name": "DescriptionStyleModel",
      "state": {
       "_model_module": "@jupyter-widgets/controls",
       "_model_module_version": "1.5.0",
       "_model_name": "DescriptionStyleModel",
       "_view_count": null,
       "_view_module": "@jupyter-widgets/base",
       "_view_module_version": "1.2.0",
       "_view_name": "StyleView",
       "description_width": ""
      }
     },
     "c15c65b1f0ca483893520bbb3e65bb45": {
      "model_module": "@jupyter-widgets/controls",
      "model_module_version": "1.5.0",
      "model_name": "HTMLModel",
      "state": {
       "_dom_classes": [],
       "_model_module": "@jupyter-widgets/controls",
       "_model_module_version": "1.5.0",
       "_model_name": "HTMLModel",
       "_view_count": null,
       "_view_module": "@jupyter-widgets/controls",
       "_view_module_version": "1.5.0",
       "_view_name": "HTMLView",
       "description": "",
       "description_tooltip": null,
       "layout": "IPY_MODEL_6e713245a30f4182b9ecb0d3953f371c",
       "placeholder": "​",
       "style": "IPY_MODEL_aa2edf0bf0874aa996b83d18bdbf01fd",
       "value": "100%"
      }
     },
     "c3bced117818491599d0402f8155cee5": {
      "model_module": "@jupyter-widgets/controls",
      "model_module_version": "1.5.0",
      "model_name": "DescriptionStyleModel",
      "state": {
       "_model_module": "@jupyter-widgets/controls",
       "_model_module_version": "1.5.0",
       "_model_name": "DescriptionStyleModel",
       "_view_count": null,
       "_view_module": "@jupyter-widgets/base",
       "_view_module_version": "1.2.0",
       "_view_name": "StyleView",
       "description_width": ""
      }
     },
     "c995195fdcc54ad5bb0491f8b04d942d": {
      "model_module": "@jupyter-widgets/base",
      "model_module_version": "1.2.0",
      "model_name": "LayoutModel",
      "state": {
       "_model_module": "@jupyter-widgets/base",
       "_model_module_version": "1.2.0",
       "_model_name": "LayoutModel",
       "_view_count": null,
       "_view_module": "@jupyter-widgets/base",
       "_view_module_version": "1.2.0",
       "_view_name": "LayoutView",
       "align_content": null,
       "align_items": null,
       "align_self": null,
       "border": null,
       "bottom": null,
       "display": null,
       "flex": null,
       "flex_flow": null,
       "grid_area": null,
       "grid_auto_columns": null,
       "grid_auto_flow": null,
       "grid_auto_rows": null,
       "grid_column": null,
       "grid_gap": null,
       "grid_row": null,
       "grid_template_areas": null,
       "grid_template_columns": null,
       "grid_template_rows": null,
       "height": null,
       "justify_content": null,
       "justify_items": null,
       "left": null,
       "margin": null,
       "max_height": null,
       "max_width": null,
       "min_height": null,
       "min_width": null,
       "object_fit": null,
       "object_position": null,
       "order": null,
       "overflow": null,
       "overflow_x": null,
       "overflow_y": null,
       "padding": null,
       "right": null,
       "top": null,
       "visibility": null,
       "width": null
      }
     },
     "d26d45fa7c87404285803bbd6f9e5692": {
      "model_module": "@jupyter-widgets/controls",
      "model_module_version": "1.5.0",
      "model_name": "HBoxModel",
      "state": {
       "_dom_classes": [],
       "_model_module": "@jupyter-widgets/controls",
       "_model_module_version": "1.5.0",
       "_model_name": "HBoxModel",
       "_view_count": null,
       "_view_module": "@jupyter-widgets/controls",
       "_view_module_version": "1.5.0",
       "_view_name": "HBoxView",
       "box_style": "",
       "children": [
        "IPY_MODEL_209becfda0394440a2da257a9aef7e29",
        "IPY_MODEL_8a072a5db4174ad7ba9a84cb7b74b862",
        "IPY_MODEL_5292f2c09e7d48e78388ce21e60822ab"
       ],
       "layout": "IPY_MODEL_91f8a1597b7945b4887e66def3db26b4"
      }
     },
     "e1ae55de38e8409782585dbb012863ab": {
      "model_module": "@jupyter-widgets/controls",
      "model_module_version": "1.5.0",
      "model_name": "HTMLModel",
      "state": {
       "_dom_classes": [],
       "_model_module": "@jupyter-widgets/controls",
       "_model_module_version": "1.5.0",
       "_model_name": "HTMLModel",
       "_view_count": null,
       "_view_module": "@jupyter-widgets/controls",
       "_view_module_version": "1.5.0",
       "_view_name": "HTMLView",
       "description": "",
       "description_tooltip": null,
       "layout": "IPY_MODEL_93bb9c272c1a4002b07b0f14036690c0",
       "placeholder": "​",
       "style": "IPY_MODEL_543537345dab4fa09414b742ec011e59",
       "value": "100%"
      }
     },
     "e1ed2a66b9824859a05ab249aaa9bac0": {
      "model_module": "@jupyter-widgets/controls",
      "model_module_version": "1.5.0",
      "model_name": "HTMLModel",
      "state": {
       "_dom_classes": [],
       "_model_module": "@jupyter-widgets/controls",
       "_model_module_version": "1.5.0",
       "_model_name": "HTMLModel",
       "_view_count": null,
       "_view_module": "@jupyter-widgets/controls",
       "_view_module_version": "1.5.0",
       "_view_name": "HTMLView",
       "description": "",
       "description_tooltip": null,
       "layout": "IPY_MODEL_6cb353c884384544931cf19a3ef876eb",
       "placeholder": "​",
       "style": "IPY_MODEL_2c9af87edb6249de87f01357c9eb738d",
       "value": " 7537/7537 [00:02&lt;00:00, 3148.96it/s]"
      }
     },
     "fb09f61d0c8f4c768e38973eff042b3f": {
      "model_module": "@jupyter-widgets/controls",
      "model_module_version": "1.5.0",
      "model_name": "ProgressStyleModel",
      "state": {
       "_model_module": "@jupyter-widgets/controls",
       "_model_module_version": "1.5.0",
       "_model_name": "ProgressStyleModel",
       "_view_count": null,
       "_view_module": "@jupyter-widgets/base",
       "_view_module_version": "1.2.0",
       "_view_name": "StyleView",
       "bar_color": null,
       "description_width": ""
      }
     }
    },
    "version_major": 2,
    "version_minor": 0
   }
  }
 },
 "nbformat": 4,
 "nbformat_minor": 5
}
