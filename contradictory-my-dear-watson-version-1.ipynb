{
 "cells": [
  {
   "cell_type": "markdown",
   "id": "2da94f00",
   "metadata": {
    "papermill": {
     "duration": 0.017273,
     "end_time": "2023-03-11T21:35:38.716609",
     "exception": false,
     "start_time": "2023-03-11T21:35:38.699336",
     "status": "completed"
    },
    "tags": []
   },
   "source": [
    "# Contradictory, My Dear Watson"
   ]
  },
  {
   "cell_type": "markdown",
   "id": "f730c926",
   "metadata": {
    "papermill": {
     "duration": 0.015265,
     "end_time": "2023-03-11T21:35:38.747744",
     "exception": false,
     "start_time": "2023-03-11T21:35:38.732479",
     "status": "completed"
    },
    "tags": []
   },
   "source": [
    "# Introduction"
   ]
  },
  {
   "cell_type": "markdown",
   "id": "bc7847be",
   "metadata": {
    "papermill": {
     "duration": 0.017023,
     "end_time": "2023-03-11T21:35:38.780400",
     "exception": false,
     "start_time": "2023-03-11T21:35:38.763377",
     "status": "completed"
    },
    "tags": []
   },
   "source": [
    "The task is to create an NLI model that assigns labels of 0, 1, or 2 (corresponding to entailment, neutral, and contradiction) to pairs of premises and hypotheses.\n",
    "\n",
    "We will use traditional NLP approaches (TF-IDF vectorization, word embeddings, Bag-Of-Words), sentiment analysis and roBERTa using TPUs for the completion of the task."
   ]
  },
  {
   "cell_type": "markdown",
   "id": "3ffdce21",
   "metadata": {
    "papermill": {
     "duration": 0.015754,
     "end_time": "2023-03-11T21:35:38.811933",
     "exception": false,
     "start_time": "2023-03-11T21:35:38.796179",
     "status": "completed"
    },
    "tags": []
   },
   "source": [
    "# Importing libraries"
   ]
  },
  {
   "cell_type": "code",
   "execution_count": 1,
   "id": "601d93ed",
   "metadata": {
    "execution": {
     "iopub.execute_input": "2023-03-11T21:35:38.846145Z",
     "iopub.status.busy": "2023-03-11T21:35:38.845271Z",
     "iopub.status.idle": "2023-03-11T21:37:49.523231Z",
     "shell.execute_reply": "2023-03-11T21:37:49.521945Z"
    },
    "papermill": {
     "duration": 130.713742,
     "end_time": "2023-03-11T21:37:49.541414",
     "exception": false,
     "start_time": "2023-03-11T21:35:38.827672",
     "status": "completed"
    },
    "tags": []
   },
   "outputs": [
    {
     "name": "stdout",
     "output_type": "stream",
     "text": [
      "/kaggle/input/contradictory-my-dear-watson/sample_submission.csv\n",
      "/kaggle/input/contradictory-my-dear-watson/train.csv\n",
      "/kaggle/input/contradictory-my-dear-watson/test.csv\n"
     ]
    }
   ],
   "source": [
    "import os\n",
    "os.system(\"pip3 install googletrans==3.1.0a0 > /dev/null 2>&1\")\n",
    "os.system(\"pip3 install seaborn > /dev/null 2>&1\")\n",
    "os.system(\"pip3 install transformers > /dev/null 2>&1\")\n",
    "os.system(\"pip3 install TextBlob > /dev/null 2>&1\")\n",
    "os.system(\"pip3 install spacy > /dev/null 2>&1\")\n",
    "os.system(\"pip3 install nltk > /dev/null 2>&1\")\n",
    "os.system(\"pip3 install scikit-learn > /dev/null 2>&1\")\n",
    "os.system(\"pip3 install lazypredict > /dev/null 2>&1\")\n",
    "os.system(\"pip3 install tensorflow > /dev/null 2>&1\")\n",
    "os.system(\"pip3 install sentencepiece> /dev/null 2>&1\")\n",
    "os.system(\"pip3 install datasets > /dev/null 2>&1\")\n",
    "\n",
    "for dirname, _, filenames in os.walk(\"/kaggle/input\"):\n",
    "    for filename in filenames:\n",
    "        print(os.path.join(dirname, filename))"
   ]
  },
  {
   "cell_type": "code",
   "execution_count": 2,
   "id": "0f4a907c",
   "metadata": {
    "execution": {
     "iopub.execute_input": "2023-03-11T21:37:49.575175Z",
     "iopub.status.busy": "2023-03-11T21:37:49.574126Z",
     "iopub.status.idle": "2023-03-11T21:38:11.905916Z",
     "shell.execute_reply": "2023-03-11T21:38:11.904592Z"
    },
    "papermill": {
     "duration": 22.351989,
     "end_time": "2023-03-11T21:38:11.909042",
     "exception": false,
     "start_time": "2023-03-11T21:37:49.557053",
     "status": "completed"
    },
    "tags": []
   },
   "outputs": [
    {
     "name": "stdout",
     "output_type": "stream",
     "text": [
      "[nltk_data] Downloading package punkt to /usr/share/nltk_data...\n",
      "[nltk_data]   Package punkt is already up-to-date!\n",
      "[nltk_data] Downloading package stopwords to /usr/share/nltk_data...\n",
      "[nltk_data]   Package stopwords is already up-to-date!\n"
     ]
    },
    {
     "data": {
      "text/html": [
       "<style type='text/css'>\n",
       ".datatable table.frame { margin-bottom: 0; }\n",
       ".datatable table.frame thead { border-bottom: none; }\n",
       ".datatable table.frame tr.coltypes td {  color: #FFFFFF;  line-height: 6px;  padding: 0 0.5em;}\n",
       ".datatable .bool    { background: #DDDD99; }\n",
       ".datatable .object  { background: #565656; }\n",
       ".datatable .int     { background: #5D9E5D; }\n",
       ".datatable .float   { background: #4040CC; }\n",
       ".datatable .str     { background: #CC4040; }\n",
       ".datatable .time    { background: #40CC40; }\n",
       ".datatable .row_index {  background: var(--jp-border-color3);  border-right: 1px solid var(--jp-border-color0);  color: var(--jp-ui-font-color3);  font-size: 9px;}\n",
       ".datatable .frame tbody td { text-align: left; }\n",
       ".datatable .frame tr.coltypes .row_index {  background: var(--jp-border-color0);}\n",
       ".datatable th:nth-child(2) { padding-left: 12px; }\n",
       ".datatable .hellipsis {  color: var(--jp-cell-editor-border-color);}\n",
       ".datatable .vellipsis {  background: var(--jp-layout-color0);  color: var(--jp-cell-editor-border-color);}\n",
       ".datatable .na {  color: var(--jp-cell-editor-border-color);  font-size: 80%;}\n",
       ".datatable .sp {  opacity: 0.25;}\n",
       ".datatable .footer { font-size: 9px; }\n",
       ".datatable .frame_dimensions {  background: var(--jp-border-color3);  border-top: 1px solid var(--jp-border-color0);  color: var(--jp-ui-font-color3);  display: inline-block;  opacity: 0.6;  padding: 1px 10px 1px 5px;}\n",
       "</style>\n"
      ],
      "text/plain": [
       "<IPython.core.display.HTML object>"
      ]
     },
     "metadata": {},
     "output_type": "display_data"
    }
   ],
   "source": [
    "#basics\n",
    "import numpy as np\n",
    "import pandas as pd\n",
    "import matplotlib.pyplot as plt\n",
    "%matplotlib inline\n",
    "import seaborn as sns\n",
    "import warnings\n",
    "warnings.filterwarnings('ignore')\n",
    "\n",
    "# NLP specific libraries\n",
    "\n",
    "from transformers import BertTokenizer, TFBertModel\n",
    "from googletrans import Translator, LANGUAGES\n",
    "from textblob import TextBlob\n",
    "import spacy\n",
    "import nltk\n",
    "nltk.download('punkt')\n",
    "nltk.download('stopwords')\n",
    "from nltk.tokenize import word_tokenize\n",
    "from nltk.stem import SnowballStemmer\n",
    "from nltk.corpus import stopwords\n",
    "from transformers import BertTokenizer, TFBertModel\n",
    "import re \n",
    "from sklearn.feature_extraction.text import CountVectorizer, TfidfVectorizer\n",
    "\n",
    "# Sklearn\n",
    "from sklearn.model_selection import train_test_split, RandomizedSearchCV\n",
    "from sklearn.metrics import accuracy_score\n",
    "from sklearn.preprocessing import StandardScaler, OneHotEncoder, LabelEncoder\n",
    "from sklearn.impute import KNNImputer\n",
    "from sklearn.metrics.pairwise import cosine_similarity\n",
    "\n",
    "\n",
    "# Various\n",
    "import timeit\n",
    "from lazypredict.Supervised import LazyClassifier\n",
    "from datasets import load_dataset\n",
    "\n",
    "# Tensorflow \n",
    "import tensorflow as tf\n",
    "from tensorflow.keras.wrappers.scikit_learn  import KerasClassifier\n",
    "from tensorflow.keras.optimizers import Adam\n",
    "from tensorflow.keras.models import Sequential\n",
    "from tensorflow.keras.layers import Dense\n",
    "from tensorflow.keras.callbacks import EarlyStopping\n",
    "import tensorflow_datasets as tfds\n",
    "import tensorflow_addons as tfa\n",
    "import tensorflow_probability as tfp"
   ]
  },
  {
   "cell_type": "markdown",
   "id": "16a2e0db",
   "metadata": {
    "papermill": {
     "duration": 0.015906,
     "end_time": "2023-03-11T21:38:11.941388",
     "exception": false,
     "start_time": "2023-03-11T21:38:11.925482",
     "status": "completed"
    },
    "tags": []
   },
   "source": [
    "# TPU distribution strategy"
   ]
  },
  {
   "cell_type": "code",
   "execution_count": 3,
   "id": "9d6c98f3",
   "metadata": {
    "execution": {
     "iopub.execute_input": "2023-03-11T21:38:11.976648Z",
     "iopub.status.busy": "2023-03-11T21:38:11.975264Z",
     "iopub.status.idle": "2023-03-11T21:38:17.866343Z",
     "shell.execute_reply": "2023-03-11T21:38:17.865178Z"
    },
    "papermill": {
     "duration": 5.911691,
     "end_time": "2023-03-11T21:38:17.869407",
     "exception": false,
     "start_time": "2023-03-11T21:38:11.957716",
     "status": "completed"
    },
    "tags": []
   },
   "outputs": [
    {
     "name": "stdout",
     "output_type": "stream",
     "text": [
      "Running on TPU  grpc://10.0.0.2:8470\n",
      "REPLICAS:  8\n"
     ]
    }
   ],
   "source": [
    "# Detect hardware, return appropriate distribution strategy\n",
    "try:\n",
    "    # TPU detection. No parameters necessary if TPU_NAME environment variable is\n",
    "    # set: this is always the case on Kaggle.\n",
    "    tpu = tf.distribute.cluster_resolver.TPUClusterResolver()\n",
    "    print('Running on TPU ', tpu.master())\n",
    "except ValueError:\n",
    "    tpu = None\n",
    "\n",
    "if tpu:\n",
    "    tf.config.experimental_connect_to_cluster(tpu)\n",
    "    tf.tpu.experimental.initialize_tpu_system(tpu)\n",
    "    strategy = tf.distribute.experimental.TPUStrategy(tpu)\n",
    "else:\n",
    "    # Default distribution strategy in Tensorflow. Works on CPU and single GPU.\n",
    "    strategy = tf.distribute.get_strategy()\n",
    "\n",
    "print(\"REPLICAS: \", strategy.num_replicas_in_sync)"
   ]
  },
  {
   "cell_type": "markdown",
   "id": "1a513d8d",
   "metadata": {
    "papermill": {
     "duration": 0.015816,
     "end_time": "2023-03-11T21:38:17.901676",
     "exception": false,
     "start_time": "2023-03-11T21:38:17.885860",
     "status": "completed"
    },
    "tags": []
   },
   "source": [
    "# EDA"
   ]
  },
  {
   "cell_type": "markdown",
   "id": "3b66cdd5",
   "metadata": {
    "papermill": {
     "duration": 0.015953,
     "end_time": "2023-03-11T21:38:17.933733",
     "exception": false,
     "start_time": "2023-03-11T21:38:17.917780",
     "status": "completed"
    },
    "tags": []
   },
   "source": [
    "**Loading data**\n",
    "<a id=\"Loading\"></a>"
   ]
  },
  {
   "cell_type": "code",
   "execution_count": 4,
   "id": "669c2ea1",
   "metadata": {
    "execution": {
     "iopub.execute_input": "2023-03-11T21:38:17.970520Z",
     "iopub.status.busy": "2023-03-11T21:38:17.969694Z",
     "iopub.status.idle": "2023-03-11T21:38:18.174861Z",
     "shell.execute_reply": "2023-03-11T21:38:18.173923Z"
    },
    "papermill": {
     "duration": 0.226595,
     "end_time": "2023-03-11T21:38:18.177284",
     "exception": false,
     "start_time": "2023-03-11T21:38:17.950689",
     "status": "completed"
    },
    "tags": []
   },
   "outputs": [
    {
     "name": "stdout",
     "output_type": "stream",
     "text": [
      "Train set shape: (12120, 6)\n",
      "Test set shape: (5195, 5)\n"
     ]
    },
    {
     "data": {
      "text/html": [
       "<div>\n",
       "<style scoped>\n",
       "    .dataframe tbody tr th:only-of-type {\n",
       "        vertical-align: middle;\n",
       "    }\n",
       "\n",
       "    .dataframe tbody tr th {\n",
       "        vertical-align: top;\n",
       "    }\n",
       "\n",
       "    .dataframe thead th {\n",
       "        text-align: right;\n",
       "    }\n",
       "</style>\n",
       "<table border=\"1\" class=\"dataframe\">\n",
       "  <thead>\n",
       "    <tr style=\"text-align: right;\">\n",
       "      <th></th>\n",
       "      <th>id</th>\n",
       "      <th>premise</th>\n",
       "      <th>hypothesis</th>\n",
       "      <th>lang_abv</th>\n",
       "      <th>language</th>\n",
       "      <th>label</th>\n",
       "    </tr>\n",
       "  </thead>\n",
       "  <tbody>\n",
       "    <tr>\n",
       "      <th>0</th>\n",
       "      <td>5130fd2cb5</td>\n",
       "      <td>and these comments were considered in formulat...</td>\n",
       "      <td>The rules developed in the interim were put to...</td>\n",
       "      <td>en</td>\n",
       "      <td>English</td>\n",
       "      <td>0</td>\n",
       "    </tr>\n",
       "    <tr>\n",
       "      <th>1</th>\n",
       "      <td>5b72532a0b</td>\n",
       "      <td>These are issues that we wrestle with in pract...</td>\n",
       "      <td>Practice groups are not permitted to work on t...</td>\n",
       "      <td>en</td>\n",
       "      <td>English</td>\n",
       "      <td>2</td>\n",
       "    </tr>\n",
       "    <tr>\n",
       "      <th>2</th>\n",
       "      <td>3931fbe82a</td>\n",
       "      <td>Des petites choses comme celles-là font une di...</td>\n",
       "      <td>J'essayais d'accomplir quelque chose.</td>\n",
       "      <td>fr</td>\n",
       "      <td>French</td>\n",
       "      <td>0</td>\n",
       "    </tr>\n",
       "    <tr>\n",
       "      <th>3</th>\n",
       "      <td>5622f0c60b</td>\n",
       "      <td>you know they can't really defend themselves l...</td>\n",
       "      <td>They can't defend themselves because of their ...</td>\n",
       "      <td>en</td>\n",
       "      <td>English</td>\n",
       "      <td>0</td>\n",
       "    </tr>\n",
       "    <tr>\n",
       "      <th>4</th>\n",
       "      <td>86aaa48b45</td>\n",
       "      <td>ในการเล่นบทบาทสมมุติก็เช่นกัน โอกาสที่จะได้แสด...</td>\n",
       "      <td>เด็กสามารถเห็นได้ว่าชาติพันธุ์แตกต่างกันอย่างไร</td>\n",
       "      <td>th</td>\n",
       "      <td>Thai</td>\n",
       "      <td>1</td>\n",
       "    </tr>\n",
       "    <tr>\n",
       "      <th>5</th>\n",
       "      <td>ed7d6a1e62</td>\n",
       "      <td>Bir çiftlikte birisinin, ağıla kapatılmış bu ö...</td>\n",
       "      <td>Çiftlikte insanlar farklı terimler kullanırlar.</td>\n",
       "      <td>tr</td>\n",
       "      <td>Turkish</td>\n",
       "      <td>0</td>\n",
       "    </tr>\n",
       "    <tr>\n",
       "      <th>6</th>\n",
       "      <td>5a0f4908a0</td>\n",
       "      <td>ریاست ہائے متحدہ امریکہ واپس آنے پر، ہج ایف بی...</td>\n",
       "      <td>ہیگ کی تفتیش ایف بی آئی اہلکاروں  کی طرف سے کی...</td>\n",
       "      <td>ur</td>\n",
       "      <td>Urdu</td>\n",
       "      <td>0</td>\n",
       "    </tr>\n",
       "    <tr>\n",
       "      <th>7</th>\n",
       "      <td>fdcd1bd867</td>\n",
       "      <td>From Cockpit Country to St. Ann's Bay</td>\n",
       "      <td>From St. Ann's Bay to Cockpit Country.</td>\n",
       "      <td>en</td>\n",
       "      <td>English</td>\n",
       "      <td>2</td>\n",
       "    </tr>\n",
       "    <tr>\n",
       "      <th>8</th>\n",
       "      <td>7cfb3d272c</td>\n",
       "      <td>Look, it's your skin, but you're going to be i...</td>\n",
       "      <td>The boss will fire you if he sees you slacking...</td>\n",
       "      <td>en</td>\n",
       "      <td>English</td>\n",
       "      <td>1</td>\n",
       "    </tr>\n",
       "    <tr>\n",
       "      <th>9</th>\n",
       "      <td>8c10229663</td>\n",
       "      <td>Через каждые сто градусов пятна краски меняют ...</td>\n",
       "      <td>Краска изменяется в соответствии с цветом.</td>\n",
       "      <td>ru</td>\n",
       "      <td>Russian</td>\n",
       "      <td>0</td>\n",
       "    </tr>\n",
       "  </tbody>\n",
       "</table>\n",
       "</div>"
      ],
      "text/plain": [
       "           id                                            premise  \\\n",
       "0  5130fd2cb5  and these comments were considered in formulat...   \n",
       "1  5b72532a0b  These are issues that we wrestle with in pract...   \n",
       "2  3931fbe82a  Des petites choses comme celles-là font une di...   \n",
       "3  5622f0c60b  you know they can't really defend themselves l...   \n",
       "4  86aaa48b45  ในการเล่นบทบาทสมมุติก็เช่นกัน โอกาสที่จะได้แสด...   \n",
       "5  ed7d6a1e62  Bir çiftlikte birisinin, ağıla kapatılmış bu ö...   \n",
       "6  5a0f4908a0  ریاست ہائے متحدہ امریکہ واپس آنے پر، ہج ایف بی...   \n",
       "7  fdcd1bd867              From Cockpit Country to St. Ann's Bay   \n",
       "8  7cfb3d272c  Look, it's your skin, but you're going to be i...   \n",
       "9  8c10229663  Через каждые сто градусов пятна краски меняют ...   \n",
       "\n",
       "                                          hypothesis lang_abv language  label  \n",
       "0  The rules developed in the interim were put to...       en  English      0  \n",
       "1  Practice groups are not permitted to work on t...       en  English      2  \n",
       "2              J'essayais d'accomplir quelque chose.       fr   French      0  \n",
       "3  They can't defend themselves because of their ...       en  English      0  \n",
       "4    เด็กสามารถเห็นได้ว่าชาติพันธุ์แตกต่างกันอย่างไร       th     Thai      1  \n",
       "5    Çiftlikte insanlar farklı terimler kullanırlar.       tr  Turkish      0  \n",
       "6  ہیگ کی تفتیش ایف بی آئی اہلکاروں  کی طرف سے کی...       ur     Urdu      0  \n",
       "7             From St. Ann's Bay to Cockpit Country.       en  English      2  \n",
       "8  The boss will fire you if he sees you slacking...       en  English      1  \n",
       "9         Краска изменяется в соответствии с цветом.       ru  Russian      0  "
      ]
     },
     "execution_count": 4,
     "metadata": {},
     "output_type": "execute_result"
    }
   ],
   "source": [
    "train = pd.read_csv('/kaggle/input/contradictory-my-dear-watson/train.csv')\n",
    "test = pd.read_csv('/kaggle/input/contradictory-my-dear-watson/test.csv')\n",
    "print('Train set shape:', train.shape)\n",
    "print('Test set shape:', test.shape)\n",
    "train.head(10)"
   ]
  },
  {
   "cell_type": "code",
   "execution_count": 5,
   "id": "fcefec1a",
   "metadata": {
    "execution": {
     "iopub.execute_input": "2023-03-11T21:38:18.215034Z",
     "iopub.status.busy": "2023-03-11T21:38:18.213839Z",
     "iopub.status.idle": "2023-03-11T21:38:18.223489Z",
     "shell.execute_reply": "2023-03-11T21:38:18.222119Z"
    },
    "papermill": {
     "duration": 0.031216,
     "end_time": "2023-03-11T21:38:18.226289",
     "exception": false,
     "start_time": "2023-03-11T21:38:18.195073",
     "status": "completed"
    },
    "tags": []
   },
   "outputs": [
    {
     "name": "stdout",
     "output_type": "stream",
     "text": [
      "you know they can't really defend themselves like somebody grown uh say my age you know yeah \n",
      " They can't defend themselves because of their age.\n"
     ]
    }
   ],
   "source": [
    "print(train['premise'][3], '\\n', train['hypothesis'][3])"
   ]
  },
  {
   "cell_type": "markdown",
   "id": "fc5a393f",
   "metadata": {
    "papermill": {
     "duration": 0.016861,
     "end_time": "2023-03-11T21:38:18.260583",
     "exception": false,
     "start_time": "2023-03-11T21:38:18.243722",
     "status": "completed"
    },
    "tags": []
   },
   "source": [
    "**Descriptions of features**\n",
    "\n",
    "<a id=\"features\"></a>"
   ]
  },
  {
   "cell_type": "code",
   "execution_count": 6,
   "id": "1cc05831",
   "metadata": {
    "execution": {
     "iopub.execute_input": "2023-03-11T21:38:18.297177Z",
     "iopub.status.busy": "2023-03-11T21:38:18.296758Z",
     "iopub.status.idle": "2023-03-11T21:38:18.325662Z",
     "shell.execute_reply": "2023-03-11T21:38:18.323979Z"
    },
    "papermill": {
     "duration": 0.050788,
     "end_time": "2023-03-11T21:38:18.328359",
     "exception": false,
     "start_time": "2023-03-11T21:38:18.277571",
     "status": "completed"
    },
    "tags": []
   },
   "outputs": [
    {
     "name": "stdout",
     "output_type": "stream",
     "text": [
      "<class 'pandas.core.frame.DataFrame'>\n",
      "RangeIndex: 12120 entries, 0 to 12119\n",
      "Data columns (total 6 columns):\n",
      " #   Column      Non-Null Count  Dtype \n",
      "---  ------      --------------  ----- \n",
      " 0   id          12120 non-null  object\n",
      " 1   premise     12120 non-null  object\n",
      " 2   hypothesis  12120 non-null  object\n",
      " 3   lang_abv    12120 non-null  object\n",
      " 4   language    12120 non-null  object\n",
      " 5   label       12120 non-null  int64 \n",
      "dtypes: int64(1), object(5)\n",
      "memory usage: 568.2+ KB\n"
     ]
    }
   ],
   "source": [
    "train.info()"
   ]
  },
  {
   "cell_type": "markdown",
   "id": "f49ecae8",
   "metadata": {
    "papermill": {
     "duration": 0.016922,
     "end_time": "2023-03-11T21:38:18.362649",
     "exception": false,
     "start_time": "2023-03-11T21:38:18.345727",
     "status": "completed"
    },
    "tags": []
   },
   "source": [
    "**Distribution of the target variable**\n",
    "<a id=\"Distribution\"></a>"
   ]
  },
  {
   "cell_type": "code",
   "execution_count": 7,
   "id": "892652f5",
   "metadata": {
    "execution": {
     "iopub.execute_input": "2023-03-11T21:38:18.399589Z",
     "iopub.status.busy": "2023-03-11T21:38:18.398372Z",
     "iopub.status.idle": "2023-03-11T21:38:18.406867Z",
     "shell.execute_reply": "2023-03-11T21:38:18.405909Z"
    },
    "papermill": {
     "duration": 0.029446,
     "end_time": "2023-03-11T21:38:18.409134",
     "exception": false,
     "start_time": "2023-03-11T21:38:18.379688",
     "status": "completed"
    },
    "tags": []
   },
   "outputs": [
    {
     "name": "stdout",
     "output_type": "stream",
     "text": [
      "0   0.34\n",
      "2   0.34\n",
      "1   0.32\n",
      "Name: label, dtype: float64\n"
     ]
    }
   ],
   "source": [
    "label_distribution = train[\"label\"].value_counts(normalize = True)\n",
    "print(label_distribution)"
   ]
  },
  {
   "cell_type": "markdown",
   "id": "bb06418d",
   "metadata": {
    "papermill": {
     "duration": 0.016927,
     "end_time": "2023-03-11T21:38:18.443233",
     "exception": false,
     "start_time": "2023-03-11T21:38:18.426306",
     "status": "completed"
    },
    "tags": []
   },
   "source": [
    "**Missing data overview**\n",
    "<a id=\"Missing\"></a>"
   ]
  },
  {
   "cell_type": "code",
   "execution_count": 8,
   "id": "9e77a2b4",
   "metadata": {
    "execution": {
     "iopub.execute_input": "2023-03-11T21:38:18.479181Z",
     "iopub.status.busy": "2023-03-11T21:38:18.478426Z",
     "iopub.status.idle": "2023-03-11T21:38:18.493698Z",
     "shell.execute_reply": "2023-03-11T21:38:18.492357Z"
    },
    "papermill": {
     "duration": 0.036185,
     "end_time": "2023-03-11T21:38:18.496212",
     "exception": false,
     "start_time": "2023-03-11T21:38:18.460027",
     "status": "completed"
    },
    "tags": []
   },
   "outputs": [
    {
     "name": "stdout",
     "output_type": "stream",
     "text": [
      "amount of missing values in train dataset:\n",
      "id            0\n",
      "premise       0\n",
      "hypothesis    0\n",
      "lang_abv      0\n",
      "language      0\n",
      "label         0\n",
      "dtype: int64\n",
      "amount of missing values in test dataset:\n",
      "id            0\n",
      "premise       0\n",
      "hypothesis    0\n",
      "lang_abv      0\n",
      "language      0\n",
      "dtype: int64\n"
     ]
    }
   ],
   "source": [
    "print(\"amount of missing values in train dataset:\")\n",
    "print(train.isna().sum())\n",
    "print(\"amount of missing values in test dataset:\")\n",
    "print(test.isna().sum())"
   ]
  },
  {
   "cell_type": "markdown",
   "id": "f598b622",
   "metadata": {
    "papermill": {
     "duration": 0.016721,
     "end_time": "2023-03-11T21:38:18.529898",
     "exception": false,
     "start_time": "2023-03-11T21:38:18.513177",
     "status": "completed"
    },
    "tags": []
   },
   "source": [
    "**Distribution of categorical variables**\n",
    "<a id=\"categorical\"></a>"
   ]
  },
  {
   "cell_type": "code",
   "execution_count": 9,
   "id": "c31b8f79",
   "metadata": {
    "execution": {
     "iopub.execute_input": "2023-03-11T21:38:18.567237Z",
     "iopub.status.busy": "2023-03-11T21:38:18.566398Z",
     "iopub.status.idle": "2023-03-11T21:38:19.441839Z",
     "shell.execute_reply": "2023-03-11T21:38:19.440493Z"
    },
    "papermill": {
     "duration": 0.897108,
     "end_time": "2023-03-11T21:38:19.444756",
     "exception": false,
     "start_time": "2023-03-11T21:38:18.547648",
     "status": "completed"
    },
    "tags": []
   },
   "outputs": [
    {
     "data": {
      "image/png": "[encoded data removed]",
      "text/plain": [
       "<Figure size 640x480 with 1 Axes>"
      ]
     },
     "metadata": {},
     "output_type": "display_data"
    },
    {
     "data": {
      "image/png": "[encoded data removed]",
      "text/plain": [
       "<Figure size 640x480 with 1 Axes>"
      ]
     },
     "metadata": {},
     "output_type": "display_data"
    }
   ],
   "source": [
    "# Plot distribution of languages for labels and comparison of two variables to check for difference between 2 features representing language\n",
    "sns.countplot(data=train, x='lang_abv',  hue='label')\n",
    "plt.show()\n",
    "sns.countplot(data=train, x='language',  hue='label')\n",
    "plt.xticks(rotation=45)\n",
    "plt.show()"
   ]
  },
  {
   "cell_type": "markdown",
   "id": "fa0129e8",
   "metadata": {
    "papermill": {
     "duration": 0.018688,
     "end_time": "2023-03-11T21:38:19.482506",
     "exception": false,
     "start_time": "2023-03-11T21:38:19.463818",
     "status": "completed"
    },
    "tags": []
   },
   "source": [
    "The variables may be considered identical."
   ]
  },
  {
   "cell_type": "code",
   "execution_count": 10,
   "id": "03068747",
   "metadata": {
    "execution": {
     "iopub.execute_input": "2023-03-11T21:38:19.522804Z",
     "iopub.status.busy": "2023-03-11T21:38:19.522309Z",
     "iopub.status.idle": "2023-03-11T21:38:19.532633Z",
     "shell.execute_reply": "2023-03-11T21:38:19.530764Z"
    },
    "papermill": {
     "duration": 0.033658,
     "end_time": "2023-03-11T21:38:19.535430",
     "exception": false,
     "start_time": "2023-03-11T21:38:19.501772",
     "status": "completed"
    },
    "tags": []
   },
   "outputs": [
    {
     "name": "stdout",
     "output_type": "stream",
     "text": [
      "English      0.57\n",
      "Chinese      0.03\n",
      "Arabic       0.03\n",
      "French       0.03\n",
      "Swahili      0.03\n",
      "Urdu         0.03\n",
      "Vietnamese   0.03\n",
      "Russian      0.03\n",
      "Hindi        0.03\n",
      "Greek        0.03\n",
      "Thai         0.03\n",
      "Spanish      0.03\n",
      "Turkish      0.03\n",
      "German       0.03\n",
      "Bulgarian    0.03\n",
      "Name: language, dtype: float64\n"
     ]
    }
   ],
   "source": [
    "language_distribution = train[\"language\"].value_counts(normalize = True)\n",
    "print(language_distribution)"
   ]
  },
  {
   "cell_type": "markdown",
   "id": "a2477887",
   "metadata": {
    "papermill": {
     "duration": 0.017941,
     "end_time": "2023-03-11T21:38:19.571708",
     "exception": false,
     "start_time": "2023-03-11T21:38:19.553767",
     "status": "completed"
    },
    "tags": []
   },
   "source": [
    "# Translation of multilingual texts into english for standartization of modeling approach"
   ]
  },
  {
   "cell_type": "code",
   "execution_count": 11,
   "id": "1b7a4363",
   "metadata": {
    "execution": {
     "iopub.execute_input": "2023-03-11T21:38:19.611050Z",
     "iopub.status.busy": "2023-03-11T21:38:19.610603Z",
     "iopub.status.idle": "2023-03-11T21:38:19.624920Z",
     "shell.execute_reply": "2023-03-11T21:38:19.623555Z"
    },
    "papermill": {
     "duration": 0.037753,
     "end_time": "2023-03-11T21:38:19.627934",
     "exception": false,
     "start_time": "2023-03-11T21:38:19.590181",
     "status": "completed"
    },
    "tags": []
   },
   "outputs": [],
   "source": [
    "train['language'] = train['language'].str.lower()\n",
    "train['language'].head()\n",
    "test['language'] = test['language'].str.lower()"
   ]
  },
  {
   "cell_type": "code",
   "execution_count": 12,
   "id": "840ca1c6",
   "metadata": {
    "execution": {
     "iopub.execute_input": "2023-03-11T21:38:19.668521Z",
     "iopub.status.busy": "2023-03-11T21:38:19.667443Z",
     "iopub.status.idle": "2023-03-11T21:38:19.677920Z",
     "shell.execute_reply": "2023-03-11T21:38:19.676436Z"
    },
    "papermill": {
     "duration": 0.033481,
     "end_time": "2023-03-11T21:38:19.680481",
     "exception": false,
     "start_time": "2023-03-11T21:38:19.647000",
     "status": "completed"
    },
    "tags": []
   },
   "outputs": [
    {
     "name": "stdout",
     "output_type": "stream",
     "text": [
      "af    afrikaans           fy    frisian             lo    lao                 st    sesotho             \n",
      "sq    albanian            gl    galician            la    latin               sn    shona               \n",
      "am    amharic             ka    georgian            lv    latvian             sd    sindhi              \n",
      "ar    arabic              de    german              lt    lithuanian          si    sinhala             \n",
      "hy    armenian            el    greek               lb    luxembourgish       sk    slovak              \n",
      "az    azerbaijani         gu    gujarati            mk    macedonian          sl    slovenian           \n",
      "eu    basque              ht    haitian creole      mg    malagasy            so    somali              \n",
      "be    belarusian          ha    hausa               ms    malay               es    spanish             \n",
      "bn    bengali             haw   hawaiian            ml    malayalam           su    sundanese           \n",
      "bs    bosnian             iw    hebrew              mt    maltese             sw    swahili             \n",
      "bg    bulgarian           he    hebrew              mi    maori               sv    swedish             \n",
      "ca    catalan             hi    hindi               mr    marathi             tg    tajik               \n",
      "ceb   cebuano             hmn   hmong               mn    mongolian           ta    tamil               \n",
      "ny    chichewa            hu    hungarian           my    myanmar (burmese)   te    telugu              \n",
      "zh-cn chinese (simplified)is    icelandic           ne    nepali              th    thai                \n",
      "zh-tw chinese (traditional)ig    igbo                no    norwegian           tr    turkish             \n",
      "co    corsican            id    indonesian          or    odia                uk    ukrainian           \n",
      "hr    croatian            ga    irish               ps    pashto              ur    urdu                \n",
      "cs    czech               it    italian             fa    persian             ug    uyghur              \n",
      "da    danish              ja    japanese            pl    polish              uz    uzbek               \n",
      "nl    dutch               jw    javanese            pt    portuguese          vi    vietnamese          \n",
      "en    english             kn    kannada             pa    punjabi             cy    welsh               \n",
      "eo    esperanto           kk    kazakh              ro    romanian            xh    xhosa               \n",
      "et    estonian            km    khmer               ru    russian             yi    yiddish             \n",
      "tl    filipino            ko    korean              sm    samoan              yo    yoruba              \n",
      "fi    finnish             ku    kurdish (kurmanji)  gd    scots gaelic        zu    zulu                \n",
      "fr    french              ky    kyrgyz              sr    serbian             \n"
     ]
    }
   ],
   "source": [
    "\n",
    "# Get the language codes and names as a list of tuples\n",
    "languages_list = [(code, name) for code, name in LANGUAGES.items()]\n",
    "\n",
    "# Calculate the number of languages per column, rounded up\n",
    "num_languages = len(languages_list)\n",
    "num_columns = 4\n",
    "languages_per_column = -(-num_languages // num_columns)\n",
    "\n",
    "# Print the languages in 4 columns\n",
    "for i in range(languages_per_column):\n",
    "    for j in range(num_columns):\n",
    "        index = i + j * languages_per_column\n",
    "        if index < num_languages:\n",
    "            code, name = languages_list[index]\n",
    "            print(f\"{code:<5} {name:<20}\", end=\"\")\n",
    "    print()"
   ]
  },
  {
   "cell_type": "code",
   "execution_count": 13,
   "id": "371cbb65",
   "metadata": {
    "execution": {
     "iopub.execute_input": "2023-03-11T21:38:19.720823Z",
     "iopub.status.busy": "2023-03-11T21:38:19.720020Z",
     "iopub.status.idle": "2023-03-11T21:38:19.729939Z",
     "shell.execute_reply": "2023-03-11T21:38:19.728865Z"
    },
    "papermill": {
     "duration": 0.033212,
     "end_time": "2023-03-11T21:38:19.732296",
     "exception": false,
     "start_time": "2023-03-11T21:38:19.699084",
     "status": "completed"
    },
    "tags": []
   },
   "outputs": [],
   "source": [
    "train.loc[train['lang_abv'] == 'zh', 'lang_abv'] = 'zh-cn'\n",
    "test.loc[test['lang_abv'] == 'zh', 'lang_abv'] = 'zh-cn'"
   ]
  },
  {
   "cell_type": "code",
   "execution_count": 14,
   "id": "25c71a57",
   "metadata": {
    "execution": {
     "iopub.execute_input": "2023-03-11T21:38:19.771670Z",
     "iopub.status.busy": "2023-03-11T21:38:19.771249Z",
     "iopub.status.idle": "2023-03-11T21:38:19.851652Z",
     "shell.execute_reply": "2023-03-11T21:38:19.850377Z"
    },
    "papermill": {
     "duration": 0.103563,
     "end_time": "2023-03-11T21:38:19.854546",
     "exception": false,
     "start_time": "2023-03-11T21:38:19.750983",
     "status": "completed"
    },
    "tags": []
   },
   "outputs": [
    {
     "name": "stdout",
     "output_type": "stream",
     "text": [
      "the translator works as expected.\n"
     ]
    }
   ],
   "source": [
    "def translate_text(text, lang, dest='en'):\n",
    "    if lang != 'en':\n",
    "        translator = Translator()\n",
    "        text = translator.translate(text, src=lang, dest='en').text\n",
    "    return text\n",
    "print(translate_text(\"der Translator funktioniert wie gewünscht.\", lang = 'de'))"
   ]
  },
  {
   "cell_type": "code",
   "execution_count": 15,
   "id": "1e2111fa",
   "metadata": {
    "execution": {
     "iopub.execute_input": "2023-03-11T21:38:19.893679Z",
     "iopub.status.busy": "2023-03-11T21:38:19.893243Z",
     "iopub.status.idle": "2023-03-11T21:38:34.419373Z",
     "shell.execute_reply": "2023-03-11T21:38:34.417673Z"
    },
    "papermill": {
     "duration": 14.548807,
     "end_time": "2023-03-11T21:38:34.422210",
     "exception": false,
     "start_time": "2023-03-11T21:38:19.873403",
     "status": "completed"
    },
    "tags": []
   },
   "outputs": [
    {
     "name": "stdout",
     "output_type": "stream",
     "text": [
      "Total time taken: 8.34 seconds\n",
      "Total time taken: 6.17 seconds\n"
     ]
    }
   ],
   "source": [
    "start_time = timeit.default_timer()  # start the timer\n",
    "train_english_subset = train[:100].apply(lambda x: (translate_text(x['premise'], str(x['lang_abv']), 'en'), translate_text(x['hypothesis'], str(x['lang_abv']), 'en')), axis=1)\n",
    "train_english_subset['premise_english'] = train_english_subset.apply(lambda x: x[0])\n",
    "train_english_subset['hypothesis_english'] = train_english_subset.apply(lambda x: x[1])\n",
    "end_time = timeit.default_timer()\n",
    "elapsed_time = end_time - start_time  # calculate elapsed time\n",
    "print(f\"Total time taken: {elapsed_time:.2f} seconds\")\n",
    "\n",
    "\n",
    "start_time1 = timeit.default_timer()  # start the timer\n",
    "premise_texts = train[:100]['premise']\n",
    "hypothesis_texts = train[:100]['hypothesis']\n",
    "langs = train[:100]['lang_abv']\n",
    "\n",
    "translated_premise = [translate_text(premise, lang) for premise, lang in zip(premise_texts, langs)]\n",
    "translated_hypothesis = [translate_text(hypothesis, lang) for hypothesis, lang in zip(hypothesis_texts, langs)]\n",
    "end_time1 = timeit.default_timer()  # end the timer\n",
    "elapsed_time1 = end_time1 - start_time1  # calculate elapsed time\n",
    "print(f\"Total time taken: {elapsed_time1:.2f} seconds\")"
   ]
  },
  {
   "cell_type": "code",
   "execution_count": 16,
   "id": "3af7a42a",
   "metadata": {
    "execution": {
     "iopub.execute_input": "2023-03-11T21:38:34.461661Z",
     "iopub.status.busy": "2023-03-11T21:38:34.460801Z",
     "iopub.status.idle": "2023-03-11T21:38:34.470783Z",
     "shell.execute_reply": "2023-03-11T21:38:34.469415Z"
    },
    "papermill": {
     "duration": 0.03311,
     "end_time": "2023-03-11T21:38:34.473750",
     "exception": false,
     "start_time": "2023-03-11T21:38:34.440640",
     "status": "completed"
    },
    "tags": []
   },
   "outputs": [],
   "source": [
    "train = train[train['lang_abv'] == 'en']"
   ]
  },
  {
   "cell_type": "code",
   "execution_count": 17,
   "id": "fa94a063",
   "metadata": {
    "execution": {
     "iopub.execute_input": "2023-03-11T21:38:34.513644Z",
     "iopub.status.busy": "2023-03-11T21:38:34.513198Z",
     "iopub.status.idle": "2023-03-11T21:38:34.527844Z",
     "shell.execute_reply": "2023-03-11T21:38:34.526486Z"
    },
    "papermill": {
     "duration": 0.038147,
     "end_time": "2023-03-11T21:38:34.530679",
     "exception": false,
     "start_time": "2023-03-11T21:38:34.492532",
     "status": "completed"
    },
    "tags": []
   },
   "outputs": [
    {
     "data": {
      "text/html": [
       "<div>\n",
       "<style scoped>\n",
       "    .dataframe tbody tr th:only-of-type {\n",
       "        vertical-align: middle;\n",
       "    }\n",
       "\n",
       "    .dataframe tbody tr th {\n",
       "        vertical-align: top;\n",
       "    }\n",
       "\n",
       "    .dataframe thead th {\n",
       "        text-align: right;\n",
       "    }\n",
       "</style>\n",
       "<table border=\"1\" class=\"dataframe\">\n",
       "  <thead>\n",
       "    <tr style=\"text-align: right;\">\n",
       "      <th></th>\n",
       "      <th>id</th>\n",
       "      <th>premise</th>\n",
       "      <th>hypothesis</th>\n",
       "      <th>lang_abv</th>\n",
       "      <th>language</th>\n",
       "      <th>label</th>\n",
       "    </tr>\n",
       "  </thead>\n",
       "  <tbody>\n",
       "    <tr>\n",
       "      <th>0</th>\n",
       "      <td>5130fd2cb5</td>\n",
       "      <td>and these comments were considered in formulat...</td>\n",
       "      <td>The rules developed in the interim were put to...</td>\n",
       "      <td>en</td>\n",
       "      <td>english</td>\n",
       "      <td>0</td>\n",
       "    </tr>\n",
       "    <tr>\n",
       "      <th>1</th>\n",
       "      <td>5b72532a0b</td>\n",
       "      <td>These are issues that we wrestle with in pract...</td>\n",
       "      <td>Practice groups are not permitted to work on t...</td>\n",
       "      <td>en</td>\n",
       "      <td>english</td>\n",
       "      <td>2</td>\n",
       "    </tr>\n",
       "    <tr>\n",
       "      <th>3</th>\n",
       "      <td>5622f0c60b</td>\n",
       "      <td>you know they can't really defend themselves l...</td>\n",
       "      <td>They can't defend themselves because of their ...</td>\n",
       "      <td>en</td>\n",
       "      <td>english</td>\n",
       "      <td>0</td>\n",
       "    </tr>\n",
       "    <tr>\n",
       "      <th>7</th>\n",
       "      <td>fdcd1bd867</td>\n",
       "      <td>From Cockpit Country to St. Ann's Bay</td>\n",
       "      <td>From St. Ann's Bay to Cockpit Country.</td>\n",
       "      <td>en</td>\n",
       "      <td>english</td>\n",
       "      <td>2</td>\n",
       "    </tr>\n",
       "    <tr>\n",
       "      <th>8</th>\n",
       "      <td>7cfb3d272c</td>\n",
       "      <td>Look, it's your skin, but you're going to be i...</td>\n",
       "      <td>The boss will fire you if he sees you slacking...</td>\n",
       "      <td>en</td>\n",
       "      <td>english</td>\n",
       "      <td>1</td>\n",
       "    </tr>\n",
       "  </tbody>\n",
       "</table>\n",
       "</div>"
      ],
      "text/plain": [
       "           id                                            premise  \\\n",
       "0  5130fd2cb5  and these comments were considered in formulat...   \n",
       "1  5b72532a0b  These are issues that we wrestle with in pract...   \n",
       "3  5622f0c60b  you know they can't really defend themselves l...   \n",
       "7  fdcd1bd867              From Cockpit Country to St. Ann's Bay   \n",
       "8  7cfb3d272c  Look, it's your skin, but you're going to be i...   \n",
       "\n",
       "                                          hypothesis lang_abv language  label  \n",
       "0  The rules developed in the interim were put to...       en  english      0  \n",
       "1  Practice groups are not permitted to work on t...       en  english      2  \n",
       "3  They can't defend themselves because of their ...       en  english      0  \n",
       "7             From St. Ann's Bay to Cockpit Country.       en  english      2  \n",
       "8  The boss will fire you if he sees you slacking...       en  english      1  "
      ]
     },
     "execution_count": 17,
     "metadata": {},
     "output_type": "execute_result"
    }
   ],
   "source": [
    "train.head()"
   ]
  },
  {
   "cell_type": "markdown",
   "id": "9cede83f",
   "metadata": {
    "papermill": {
     "duration": 0.018449,
     "end_time": "2023-03-11T21:38:34.568261",
     "exception": false,
     "start_time": "2023-03-11T21:38:34.549812",
     "status": "completed"
    },
    "tags": []
   },
   "source": [
    "# Sentiment analysis using TextBlob"
   ]
  },
  {
   "cell_type": "code",
   "execution_count": 18,
   "id": "6192ee6d",
   "metadata": {
    "execution": {
     "iopub.execute_input": "2023-03-11T21:38:34.609041Z",
     "iopub.status.busy": "2023-03-11T21:38:34.608589Z",
     "iopub.status.idle": "2023-03-11T21:38:38.099799Z",
     "shell.execute_reply": "2023-03-11T21:38:38.098406Z"
    },
    "papermill": {
     "duration": 3.51441,
     "end_time": "2023-03-11T21:38:38.102450",
     "exception": false,
     "start_time": "2023-03-11T21:38:34.588040",
     "status": "completed"
    },
    "tags": []
   },
   "outputs": [
    {
     "name": "stdout",
     "output_type": "stream",
     "text": [
      "[0.0, 0.0, 0.2, 0.0, -0.05, 0.21666666666666667, 0.20625, 0.4]\n",
      "[0.1, 0.0, 0.0, 0.0, 0.0, 0.5, 0.0, 0.0]\n"
     ]
    }
   ],
   "source": [
    "# Perform sentiment analysis using TextBlob\n",
    "sentiment_scores_premise = []\n",
    "for text in train['premise']:\n",
    "    blob = TextBlob(text)\n",
    "    sentiment_scores_premise.append(blob.sentiment.polarity)\n",
    "print(sentiment_scores_premise[:8])\n",
    "\n",
    "sentiment_scores_hypothesis = []\n",
    "for text in train['hypothesis']:\n",
    "    blob1 = TextBlob(text)\n",
    "    sentiment_scores_hypothesis.append(blob1.sentiment.polarity)\n",
    "print(sentiment_scores_hypothesis[:8])"
   ]
  },
  {
   "cell_type": "markdown",
   "id": "5a0364e3",
   "metadata": {
    "papermill": {
     "duration": 0.01842,
     "end_time": "2023-03-11T21:38:38.139672",
     "exception": false,
     "start_time": "2023-03-11T21:38:38.121252",
     "status": "completed"
    },
    "tags": []
   },
   "source": [
    "We will extract the difference in sentiments between premise and hypothesis"
   ]
  },
  {
   "cell_type": "code",
   "execution_count": 19,
   "id": "ab11eac2",
   "metadata": {
    "execution": {
     "iopub.execute_input": "2023-03-11T21:38:38.179596Z",
     "iopub.status.busy": "2023-03-11T21:38:38.178749Z",
     "iopub.status.idle": "2023-03-11T21:38:38.198195Z",
     "shell.execute_reply": "2023-03-11T21:38:38.196522Z"
    },
    "papermill": {
     "duration": 0.042902,
     "end_time": "2023-03-11T21:38:38.201335",
     "exception": false,
     "start_time": "2023-03-11T21:38:38.158433",
     "status": "completed"
    },
    "tags": []
   },
   "outputs": [
    {
     "data": {
      "text/html": [
       "<div>\n",
       "<style scoped>\n",
       "    .dataframe tbody tr th:only-of-type {\n",
       "        vertical-align: middle;\n",
       "    }\n",
       "\n",
       "    .dataframe tbody tr th {\n",
       "        vertical-align: top;\n",
       "    }\n",
       "\n",
       "    .dataframe thead th {\n",
       "        text-align: right;\n",
       "    }\n",
       "</style>\n",
       "<table border=\"1\" class=\"dataframe\">\n",
       "  <thead>\n",
       "    <tr style=\"text-align: right;\">\n",
       "      <th></th>\n",
       "      <th>label</th>\n",
       "      <th>diff_in_sentiments</th>\n",
       "      <th>language</th>\n",
       "      <th>sentiment_scores_premise</th>\n",
       "      <th>sentiment_scores_hypothesis</th>\n",
       "    </tr>\n",
       "  </thead>\n",
       "  <tbody>\n",
       "    <tr>\n",
       "      <th>0</th>\n",
       "      <td>0</td>\n",
       "      <td>-0.10</td>\n",
       "      <td>english</td>\n",
       "      <td>0.00</td>\n",
       "      <td>0.10</td>\n",
       "    </tr>\n",
       "    <tr>\n",
       "      <th>1</th>\n",
       "      <td>2</td>\n",
       "      <td>0.00</td>\n",
       "      <td>english</td>\n",
       "      <td>0.00</td>\n",
       "      <td>0.00</td>\n",
       "    </tr>\n",
       "    <tr>\n",
       "      <th>2</th>\n",
       "      <td>0</td>\n",
       "      <td>0.20</td>\n",
       "      <td>english</td>\n",
       "      <td>0.20</td>\n",
       "      <td>0.00</td>\n",
       "    </tr>\n",
       "  </tbody>\n",
       "</table>\n",
       "</div>"
      ],
      "text/plain": [
       "   label  diff_in_sentiments language  sentiment_scores_premise  \\\n",
       "0      0               -0.10  english                      0.00   \n",
       "1      2                0.00  english                      0.00   \n",
       "2      0                0.20  english                      0.20   \n",
       "\n",
       "   sentiment_scores_hypothesis  \n",
       "0                         0.10  \n",
       "1                         0.00  \n",
       "2                         0.00  "
      ]
     },
     "execution_count": 19,
     "metadata": {},
     "output_type": "execute_result"
    }
   ],
   "source": [
    "diff_in_sentiments = np.array(sentiment_scores_premise) - np.array(sentiment_scores_hypothesis)\n",
    "diff_in_sentiments_labels = pd.DataFrame({'label': np.array(train['label']),\n",
    "                                          'diff_in_sentiments': diff_in_sentiments,\n",
    "                                          'language': np.array(train['language']),\n",
    "                                           'sentiment_scores_premise': np.array(sentiment_scores_premise),\n",
    "                                           'sentiment_scores_hypothesis': np.array(sentiment_scores_hypothesis)})\n",
    "diff_in_sentiments_labels.head(3)"
   ]
  },
  {
   "cell_type": "code",
   "execution_count": 20,
   "id": "84b3b732",
   "metadata": {
    "execution": {
     "iopub.execute_input": "2023-03-11T21:38:38.243037Z",
     "iopub.status.busy": "2023-03-11T21:38:38.241771Z",
     "iopub.status.idle": "2023-03-11T21:38:38.258944Z",
     "shell.execute_reply": "2023-03-11T21:38:38.257570Z"
    },
    "papermill": {
     "duration": 0.04017,
     "end_time": "2023-03-11T21:38:38.261473",
     "exception": false,
     "start_time": "2023-03-11T21:38:38.221303",
     "status": "completed"
    },
    "tags": []
   },
   "outputs": [
    {
     "data": {
      "text/html": [
       "<div>\n",
       "<style scoped>\n",
       "    .dataframe tbody tr th:only-of-type {\n",
       "        vertical-align: middle;\n",
       "    }\n",
       "\n",
       "    .dataframe tbody tr th {\n",
       "        vertical-align: top;\n",
       "    }\n",
       "\n",
       "    .dataframe thead th {\n",
       "        text-align: right;\n",
       "    }\n",
       "</style>\n",
       "<table border=\"1\" class=\"dataframe\">\n",
       "  <thead>\n",
       "    <tr style=\"text-align: right;\">\n",
       "      <th></th>\n",
       "      <th>diff_in_sentiments</th>\n",
       "      <th>sentiment_scores_premise</th>\n",
       "      <th>sentiment_scores_hypothesis</th>\n",
       "    </tr>\n",
       "    <tr>\n",
       "      <th>label</th>\n",
       "      <th></th>\n",
       "      <th></th>\n",
       "      <th></th>\n",
       "    </tr>\n",
       "  </thead>\n",
       "  <tbody>\n",
       "    <tr>\n",
       "      <th>0</th>\n",
       "      <td>0.02</td>\n",
       "      <td>0.09</td>\n",
       "      <td>0.07</td>\n",
       "    </tr>\n",
       "    <tr>\n",
       "      <th>1</th>\n",
       "      <td>0.01</td>\n",
       "      <td>0.09</td>\n",
       "      <td>0.08</td>\n",
       "    </tr>\n",
       "    <tr>\n",
       "      <th>2</th>\n",
       "      <td>0.05</td>\n",
       "      <td>0.08</td>\n",
       "      <td>0.03</td>\n",
       "    </tr>\n",
       "  </tbody>\n",
       "</table>\n",
       "</div>"
      ],
      "text/plain": [
       "       diff_in_sentiments  sentiment_scores_premise  \\\n",
       "label                                                 \n",
       "0                    0.02                      0.09   \n",
       "1                    0.01                      0.09   \n",
       "2                    0.05                      0.08   \n",
       "\n",
       "       sentiment_scores_hypothesis  \n",
       "label                               \n",
       "0                             0.07  \n",
       "1                             0.08  \n",
       "2                             0.03  "
      ]
     },
     "execution_count": 20,
     "metadata": {},
     "output_type": "execute_result"
    }
   ],
   "source": [
    "mean_sentiments_diff = diff_in_sentiments_labels[diff_in_sentiments_labels['language'] == 'english'].groupby('label').\\\n",
    "mean([\"diff_in_sentiments\", 'sentiment_scores_hypothesis', 'sentiment_scores_premise'])\n",
    "mean_sentiments_diff"
   ]
  },
  {
   "cell_type": "code",
   "execution_count": 21,
   "id": "7a1e6aac",
   "metadata": {
    "execution": {
     "iopub.execute_input": "2023-03-11T21:38:38.303547Z",
     "iopub.status.busy": "2023-03-11T21:38:38.302378Z",
     "iopub.status.idle": "2023-03-11T21:38:39.504294Z",
     "shell.execute_reply": "2023-03-11T21:38:39.503164Z"
    },
    "papermill": {
     "duration": 1.226194,
     "end_time": "2023-03-11T21:38:39.506964",
     "exception": false,
     "start_time": "2023-03-11T21:38:38.280770",
     "status": "completed"
    },
    "tags": []
   },
   "outputs": [
    {
     "data": {
      "image/png": "[encoded data removed]",
      "text/plain": [
       "<Figure size 2500x500 with 2 Axes>"
      ]
     },
     "metadata": {},
     "output_type": "display_data"
    },
    {
     "data": {
      "image/png": "[encoded data removed]",
      "text/plain": [
       "<Figure size 658.875x300 with 1 Axes>"
      ]
     },
     "metadata": {},
     "output_type": "display_data"
    }
   ],
   "source": [
    "plt.style.use('ggplot')\n",
    "\n",
    "fig, axs = plt.subplots(ncols=2, figsize=(25, 5))\n",
    "\n",
    "sns.histplot(data=diff_in_sentiments_labels, \n",
    "             x='diff_in_sentiments', \n",
    "             bins=10,  hue='label',  multiple = 'dodge', ax=axs[0])\n",
    "axs[0].set(title='Histogram of Differences in Sentiments by Label')\n",
    "\n",
    "sns.boxplot(data=diff_in_sentiments_labels, \n",
    "            y='diff_in_sentiments', \n",
    "            x='label', hue = 'label', ax=axs[1])\n",
    "axs[1].set(title='Boxplot of Differences in Sentiments by Label')\n",
    "\n",
    "sns.displot(data=diff_in_sentiments_labels, \n",
    "            x='diff_in_sentiments', hue = 'label',  kind=\"kde\",\n",
    "            height=3, aspect=2)\n",
    "\n",
    "\n",
    "plt.show()"
   ]
  },
  {
   "cell_type": "markdown",
   "id": "79880d0c",
   "metadata": {
    "papermill": {
     "duration": 0.021639,
     "end_time": "2023-03-11T21:38:39.550834",
     "exception": false,
     "start_time": "2023-03-11T21:38:39.529195",
     "status": "completed"
    },
    "tags": []
   },
   "source": [
    "The conclusions we might draw:\n",
    "*     the difference is very sparse, there are a lot of outliers by all labels.\n",
    "*     the absolute difference above 1 occurs more often by label 2.\n",
    "*     the text is more likely to belong to label 0 in case the difference in polarity is near zero.\n",
    "*     density plot shows a slight peak for label 1 around the values -0.6 to -0.3 for the difference in polarity.\n",
    "*     the polarity sentiment analysis is applicable only to the english texts, i.e. to 57% of our dataset.\n",
    "*     we might consider creating categorical variable for sentiments, that will split the data as follows:\n",
    "        1. difference from -0.2 to 0.2 \n",
    "        2. difference from -0.6 to -0.3\n",
    "        3. difference lower than -1.0 and higher than 1.0.\n",
    "        4. texts on other languages together with the texts that do not belong to any of the above mentioned groups."
   ]
  },
  {
   "cell_type": "code",
   "execution_count": 22,
   "id": "25db5438",
   "metadata": {
    "execution": {
     "iopub.execute_input": "2023-03-11T21:38:39.596040Z",
     "iopub.status.busy": "2023-03-11T21:38:39.595350Z",
     "iopub.status.idle": "2023-03-11T21:38:39.612174Z",
     "shell.execute_reply": "2023-03-11T21:38:39.610927Z"
    },
    "papermill": {
     "duration": 0.042046,
     "end_time": "2023-03-11T21:38:39.614506",
     "exception": false,
     "start_time": "2023-03-11T21:38:39.572460",
     "status": "completed"
    },
    "tags": []
   },
   "outputs": [
    {
     "name": "stdout",
     "output_type": "stream",
     "text": [
      "GROUP1    4444\n",
      "GROUP4    1685\n",
      "GROUP2     627\n",
      "GROUP3     114\n",
      "Name: sentiment_group, dtype: int64\n"
     ]
    }
   ],
   "source": [
    "train['diff_in_sentiments'] = diff_in_sentiments\n",
    "train['sentiment_group'] = np.nan\n",
    "train.loc[(train['diff_in_sentiments'] >= -0.2) & \n",
    "                              (train['diff_in_sentiments'] <= 0.2), 'sentiment_group'] = 'GROUP1'\n",
    "train.loc[(train['diff_in_sentiments'] >= -0.6) & \n",
    "                              (train['diff_in_sentiments'] <= -0.3), 'sentiment_group'] = 'GROUP2'\n",
    "train.loc[(train['diff_in_sentiments'] >= 1.0) | \n",
    "                              (train['diff_in_sentiments'] <= -1.0), 'sentiment_group'] = 'GROUP3'\n",
    "train.loc[train['sentiment_group'].isna(), 'sentiment_group'] = 'GROUP4'\n",
    "\n",
    "print(train['sentiment_group'].value_counts())"
   ]
  },
  {
   "cell_type": "markdown",
   "id": "952ff6d9",
   "metadata": {
    "papermill": {
     "duration": 0.020858,
     "end_time": "2023-03-11T21:38:39.656654",
     "exception": false,
     "start_time": "2023-03-11T21:38:39.635796",
     "status": "completed"
    },
    "tags": []
   },
   "source": [
    "# Number of words"
   ]
  },
  {
   "cell_type": "code",
   "execution_count": 23,
   "id": "f3be1ce6",
   "metadata": {
    "execution": {
     "iopub.execute_input": "2023-03-11T21:38:39.701290Z",
     "iopub.status.busy": "2023-03-11T21:38:39.700705Z",
     "iopub.status.idle": "2023-03-11T21:38:39.762247Z",
     "shell.execute_reply": "2023-03-11T21:38:39.760954Z"
    },
    "papermill": {
     "duration": 0.087615,
     "end_time": "2023-03-11T21:38:39.765402",
     "exception": false,
     "start_time": "2023-03-11T21:38:39.677787",
     "status": "completed"
    },
    "tags": []
   },
   "outputs": [
    {
     "data": {
      "text/html": [
       "<div>\n",
       "<style scoped>\n",
       "    .dataframe tbody tr th:only-of-type {\n",
       "        vertical-align: middle;\n",
       "    }\n",
       "\n",
       "    .dataframe tbody tr th {\n",
       "        vertical-align: top;\n",
       "    }\n",
       "\n",
       "    .dataframe thead th {\n",
       "        text-align: right;\n",
       "    }\n",
       "</style>\n",
       "<table border=\"1\" class=\"dataframe\">\n",
       "  <thead>\n",
       "    <tr style=\"text-align: right;\">\n",
       "      <th></th>\n",
       "      <th>id</th>\n",
       "      <th>premise</th>\n",
       "      <th>hypothesis</th>\n",
       "      <th>lang_abv</th>\n",
       "      <th>language</th>\n",
       "      <th>label</th>\n",
       "      <th>diff_in_sentiments</th>\n",
       "      <th>sentiment_group</th>\n",
       "      <th>diff_in_length</th>\n",
       "    </tr>\n",
       "  </thead>\n",
       "  <tbody>\n",
       "    <tr>\n",
       "      <th>0</th>\n",
       "      <td>5130fd2cb5</td>\n",
       "      <td>and these comments were considered in formulat...</td>\n",
       "      <td>The rules developed in the interim were put to...</td>\n",
       "      <td>en</td>\n",
       "      <td>english</td>\n",
       "      <td>0</td>\n",
       "      <td>-0.10</td>\n",
       "      <td>GROUP1</td>\n",
       "      <td>-4</td>\n",
       "    </tr>\n",
       "    <tr>\n",
       "      <th>1</th>\n",
       "      <td>5b72532a0b</td>\n",
       "      <td>These are issues that we wrestle with in pract...</td>\n",
       "      <td>Practice groups are not permitted to work on t...</td>\n",
       "      <td>en</td>\n",
       "      <td>english</td>\n",
       "      <td>2</td>\n",
       "      <td>0.00</td>\n",
       "      <td>GROUP1</td>\n",
       "      <td>5</td>\n",
       "    </tr>\n",
       "  </tbody>\n",
       "</table>\n",
       "</div>"
      ],
      "text/plain": [
       "           id                                            premise  \\\n",
       "0  5130fd2cb5  and these comments were considered in formulat...   \n",
       "1  5b72532a0b  These are issues that we wrestle with in pract...   \n",
       "\n",
       "                                          hypothesis lang_abv language  label  \\\n",
       "0  The rules developed in the interim were put to...       en  english      0   \n",
       "1  Practice groups are not permitted to work on t...       en  english      2   \n",
       "\n",
       "   diff_in_sentiments sentiment_group  diff_in_length  \n",
       "0               -0.10          GROUP1              -4  \n",
       "1                0.00          GROUP1               5  "
      ]
     },
     "execution_count": 23,
     "metadata": {},
     "output_type": "execute_result"
    }
   ],
   "source": [
    "text_len_premise=train['premise'].str.split().map(lambda x: len(x))\n",
    "text_len_hypothesis=train['hypothesis'].str.split().map(lambda x: len(x))\n",
    "train['diff_in_length'] = text_len_premise - text_len_hypothesis\n",
    "\n",
    "train.head(2)"
   ]
  },
  {
   "cell_type": "code",
   "execution_count": 24,
   "id": "9ade4585",
   "metadata": {
    "execution": {
     "iopub.execute_input": "2023-03-11T21:38:39.810115Z",
     "iopub.status.busy": "2023-03-11T21:38:39.809178Z",
     "iopub.status.idle": "2023-03-11T21:38:40.544869Z",
     "shell.execute_reply": "2023-03-11T21:38:40.543746Z"
    },
    "papermill": {
     "duration": 0.761188,
     "end_time": "2023-03-11T21:38:40.547756",
     "exception": false,
     "start_time": "2023-03-11T21:38:39.786568",
     "status": "completed"
    },
    "tags": []
   },
   "outputs": [
    {
     "data": {
      "image/png": "[encoded data removed]",
      "text/plain": [
       "<Figure size 2000x500 with 2 Axes>"
      ]
     },
     "metadata": {},
     "output_type": "display_data"
    }
   ],
   "source": [
    "plt.style.use('ggplot')\n",
    "fig, axs = plt.subplots(ncols=2, figsize=(20, 5))\n",
    "\n",
    "sns.histplot(\n",
    "    data=train, \n",
    "    x=\"diff_in_length\", hue=\"label\", multiple = 'dodge',\n",
    "    bins = 20, ax=axs[0], shrink=.8, kde =True)\n",
    "axs[0].set(title='Density plot of Differences in lengths by Label')\n",
    "\n",
    "sns.boxplot(\n",
    "    data=train, \n",
    "    y='diff_in_length', \n",
    "    x='label', hue = 'label', ax=axs[1])\n",
    "axs[1].set(title='Boxplot of Differences in lengths by Label')\n",
    "\n",
    "plt.show()"
   ]
  },
  {
   "cell_type": "markdown",
   "id": "5390c25b",
   "metadata": {
    "papermill": {
     "duration": 0.022463,
     "end_time": "2023-03-11T21:38:40.593254",
     "exception": false,
     "start_time": "2023-03-11T21:38:40.570791",
     "status": "completed"
    },
    "tags": []
   },
   "source": [
    "We cannot draw many conclusions from the received distribution, but the difference below -5 indicates label 1, whereas the difference between 0 and 20 indicates that the likelyhood of label 1 is slighly lower than that of the other categories."
   ]
  },
  {
   "cell_type": "code",
   "execution_count": 25,
   "id": "aa577f16",
   "metadata": {
    "execution": {
     "iopub.execute_input": "2023-03-11T21:38:40.640224Z",
     "iopub.status.busy": "2023-03-11T21:38:40.639780Z",
     "iopub.status.idle": "2023-03-11T21:38:40.655396Z",
     "shell.execute_reply": "2023-03-11T21:38:40.653989Z"
    },
    "papermill": {
     "duration": 0.042245,
     "end_time": "2023-03-11T21:38:40.658044",
     "exception": false,
     "start_time": "2023-03-11T21:38:40.615799",
     "status": "completed"
    },
    "tags": []
   },
   "outputs": [
    {
     "name": "stdout",
     "output_type": "stream",
     "text": [
      "LENGTH_GROUP2    4682\n",
      "LENGTH_GROUP3    1947\n",
      "LENGTH_GROUP1     241\n",
      "Name: length_group, dtype: int64\n"
     ]
    }
   ],
   "source": [
    "train['length_group'] = np.nan\n",
    "train.loc[train['diff_in_length'] <= -5 , 'length_group'] = 'LENGTH_GROUP1'\n",
    "train.loc[(train['diff_in_length'] >= 0) & \n",
    "                              (train['diff_in_length'] <= 20), 'length_group'] = 'LENGTH_GROUP2'\n",
    "train.loc[train['length_group'].isna(), 'length_group'] = 'LENGTH_GROUP3'\n",
    "print(train['length_group'].value_counts())"
   ]
  },
  {
   "cell_type": "markdown",
   "id": "c41a33ad",
   "metadata": {
    "papermill": {
     "duration": 0.022269,
     "end_time": "2023-03-11T21:38:40.702924",
     "exception": false,
     "start_time": "2023-03-11T21:38:40.680655",
     "status": "completed"
    },
    "tags": []
   },
   "source": [
    "# Average word length"
   ]
  },
  {
   "cell_type": "code",
   "execution_count": 26,
   "id": "d7eab7b8",
   "metadata": {
    "execution": {
     "iopub.execute_input": "2023-03-11T21:38:40.750533Z",
     "iopub.status.busy": "2023-03-11T21:38:40.749648Z",
     "iopub.status.idle": "2023-03-11T21:38:41.150971Z",
     "shell.execute_reply": "2023-03-11T21:38:41.149684Z"
    },
    "papermill": {
     "duration": 0.42817,
     "end_time": "2023-03-11T21:38:41.153519",
     "exception": false,
     "start_time": "2023-03-11T21:38:40.725349",
     "status": "completed"
    },
    "tags": []
   },
   "outputs": [
    {
     "name": "stdout",
     "output_type": "stream",
     "text": [
      "0        1.04\n",
      "1       -0.50\n",
      "3       -0.90\n",
      "7       -0.14\n",
      "8        0.21\n",
      "         ... \n",
      "12115    1.39\n",
      "12116    0.54\n",
      "12117    0.29\n",
      "12118    0.00\n",
      "12119   -0.25\n",
      "Name: word_len_diff_means, Length: 6870, dtype: float64\n"
     ]
    }
   ],
   "source": [
    "word_len_premise=train['premise'].str.split().apply(lambda x : [len(i) for i in x])\n",
    "word_len_hypothesis=train['hypothesis'].str.split().apply(lambda x : [len(i) for i in x])\n",
    "from statistics import mean\n",
    "word_len_premise_means = [mean(word_len) for word_len in word_len_premise]\n",
    "word_len_hypothesis_means = [mean(word_len) for word_len in word_len_hypothesis]\n",
    "train['word_len_diff_means'] = np.array(word_len_premise_means) - np.array(word_len_hypothesis_means)\n",
    "print(train['word_len_diff_means'])"
   ]
  },
  {
   "cell_type": "code",
   "execution_count": 27,
   "id": "c9a47580",
   "metadata": {
    "execution": {
     "iopub.execute_input": "2023-03-11T21:38:41.201005Z",
     "iopub.status.busy": "2023-03-11T21:38:41.200554Z",
     "iopub.status.idle": "2023-03-11T21:38:41.846913Z",
     "shell.execute_reply": "2023-03-11T21:38:41.845872Z"
    },
    "papermill": {
     "duration": 0.673387,
     "end_time": "2023-03-11T21:38:41.849334",
     "exception": false,
     "start_time": "2023-03-11T21:38:41.175947",
     "status": "completed"
    },
    "tags": []
   },
   "outputs": [
    {
     "data": {
      "image/png": "[encoded data removed]",
      "text/plain": [
       "<Figure size 1600x500 with 2 Axes>"
      ]
     },
     "metadata": {},
     "output_type": "display_data"
    }
   ],
   "source": [
    "fig, axs = plt.subplots(ncols=2, figsize=(16,5))\n",
    "\n",
    "sns.histplot(\n",
    "    data=train, \n",
    "    x=\"word_len_diff_means\", hue=\"label\", \n",
    "     ax=axs[0], kde = True, bins = 20)\n",
    "\n",
    "sns.boxplot(\n",
    "    data=train, \n",
    "    y='word_len_diff_means', \n",
    "    x='label', hue='label', ax=axs[1])\n",
    "\n",
    "plt.show()"
   ]
  },
  {
   "cell_type": "markdown",
   "id": "abb0d166",
   "metadata": {
    "papermill": {
     "duration": 0.024382,
     "end_time": "2023-03-11T21:38:41.897222",
     "exception": false,
     "start_time": "2023-03-11T21:38:41.872840",
     "status": "completed"
    },
    "tags": []
   },
   "source": [
    "The distribution of differences in mean word lengthes seems nearly identical for target categories. We will not include this variable in our model."
   ]
  },
  {
   "cell_type": "markdown",
   "id": "f2758594",
   "metadata": {
    "papermill": {
     "duration": 0.023164,
     "end_time": "2023-03-11T21:38:41.943830",
     "exception": false,
     "start_time": "2023-03-11T21:38:41.920666",
     "status": "completed"
    },
    "tags": []
   },
   "source": [
    "# Generating word embeddings via SpaCy"
   ]
  },
  {
   "cell_type": "code",
   "execution_count": 28,
   "id": "757ae391",
   "metadata": {
    "execution": {
     "iopub.execute_input": "2023-03-11T21:38:41.993082Z",
     "iopub.status.busy": "2023-03-11T21:38:41.992636Z",
     "iopub.status.idle": "2023-03-11T21:41:04.129741Z",
     "shell.execute_reply": "2023-03-11T21:41:04.128475Z"
    },
    "papermill": {
     "duration": 142.165353,
     "end_time": "2023-03-11T21:41:04.132757",
     "exception": false,
     "start_time": "2023-03-11T21:38:41.967404",
     "status": "completed"
    },
    "tags": []
   },
   "outputs": [
    {
     "name": "stdout",
     "output_type": "stream",
     "text": [
      "\u001b[33mWARNING: Running pip as the 'root' user can result in broken permissions and conflicting behaviour with the system package manager. It is recommended to use a virtual environment instead: https://pip.pypa.io/warnings/venv\u001b[0m\u001b[33m\r\n",
      "\u001b[0m\u001b[38;5;2m✔ Download and installation successful\u001b[0m\r\n",
      "You can now load the package via spacy.load('en_core_web_sm')\r\n"
     ]
    }
   ],
   "source": [
    "\n",
    "# Load the language model\n",
    "!python -m spacy download en_core_web_sm --quiet\n",
    "nlp = spacy.load(\"en_core_web_sm\") \n",
    "\n",
    "# Tokenize the sentence\n",
    "spacy_premises_train =[nlp(sentence) for sentence in train[\"premise\"]] \n",
    "spacy_hypothesis_train =[nlp(sentence) for sentence in train[\"hypothesis\"]]\n",
    "\n",
    "word_embeddings_train_premises = []\n",
    "for token in spacy_premises_train:\n",
    "    word_embeddings_train_premises.append(token.vector) \n",
    "    \n",
    "word_embeddings_train_hypothesis = []\n",
    "for token in spacy_hypothesis_train:\n",
    "    word_embeddings_train_hypothesis.append(token.vector) \n",
    "    "
   ]
  },
  {
   "cell_type": "markdown",
   "id": "0bd795f7",
   "metadata": {
    "papermill": {
     "duration": 0.023044,
     "end_time": "2023-03-11T21:41:04.180065",
     "exception": false,
     "start_time": "2023-03-11T21:41:04.157021",
     "status": "completed"
    },
    "tags": []
   },
   "source": [
    "# Count Vectorizer + TF-IDF Vectorizer"
   ]
  },
  {
   "cell_type": "code",
   "execution_count": 29,
   "id": "094c6b11",
   "metadata": {
    "execution": {
     "iopub.execute_input": "2023-03-11T21:41:04.229454Z",
     "iopub.status.busy": "2023-03-11T21:41:04.229028Z",
     "iopub.status.idle": "2023-03-11T21:41:13.829710Z",
     "shell.execute_reply": "2023-03-11T21:41:13.828416Z"
    },
    "papermill": {
     "duration": 9.628875,
     "end_time": "2023-03-11T21:41:13.832644",
     "exception": false,
     "start_time": "2023-03-11T21:41:04.203769",
     "status": "completed"
    },
    "tags": []
   },
   "outputs": [],
   "source": [
    "def preprocess_text(text, lang='english'):\n",
    "    # Tokenize the text\n",
    "    tokens = word_tokenize(text)\n",
    "\n",
    "    # Lowercase the tokens\n",
    "    tokens = [token.lower() for token in tokens]\n",
    "\n",
    "    # Remove stopwords\n",
    "    stop_words = set(stopwords.words('english'))\n",
    "    tokens = [token for token in tokens if token not in stop_words]\n",
    "\n",
    "    # Stem the tokens\n",
    "    stemmer = SnowballStemmer('english')\n",
    "    tokens = [stemmer.stem(token) for token in tokens]\n",
    "\n",
    "    return ' '.join(tokens)\n",
    "\n",
    "\n",
    "def get_tokenized_data(data, lang_col, text_col):\n",
    "    return [preprocess_text(row[text_col], row[lang_col]) for _, row in data.iterrows()]\n",
    "\n",
    "\n",
    "train_tokenized_premises = get_tokenized_data(train, 'lang_abv', 'premise')\n",
    "train_tokenized_hypothesis = get_tokenized_data(train, 'lang_abv', 'hypothesis')\n",
    "\n",
    "\n",
    "# Create bag-of-words using CountVectorizer\n",
    "count_vectorizer = CountVectorizer()\n",
    "bow_train_premises = count_vectorizer.fit_transform(train_tokenized_premises)\n",
    "bow_train_hypothesis = count_vectorizer.transform(train_tokenized_hypothesis)\n",
    "\n",
    "# Create tf-idf vectors using TfidfVectorizer\n",
    "tfidf_vectorizer = TfidfVectorizer()\n",
    "tfidf_train_premises = tfidf_vectorizer.fit_transform(train_tokenized_premises)\n",
    "tfidf_train_hypothesis = tfidf_vectorizer.transform(train_tokenized_hypothesis)"
   ]
  },
  {
   "cell_type": "markdown",
   "id": "881f879b",
   "metadata": {
    "papermill": {
     "duration": 0.023165,
     "end_time": "2023-03-11T21:41:13.879578",
     "exception": false,
     "start_time": "2023-03-11T21:41:13.856413",
     "status": "completed"
    },
    "tags": []
   },
   "source": [
    "# Cosine Similarity calculation"
   ]
  },
  {
   "cell_type": "markdown",
   "id": "ef97e8fd",
   "metadata": {
    "papermill": {
     "duration": 0.023483,
     "end_time": "2023-03-11T21:41:13.927278",
     "exception": false,
     "start_time": "2023-03-11T21:41:13.903795",
     "status": "completed"
    },
    "tags": []
   },
   "source": [
    "We generate cosine similarity between vectors and word embeddings for premises and hypothesis"
   ]
  },
  {
   "cell_type": "code",
   "execution_count": 30,
   "id": "316bff73",
   "metadata": {
    "execution": {
     "iopub.execute_input": "2023-03-11T21:41:13.976503Z",
     "iopub.status.busy": "2023-03-11T21:41:13.976076Z",
     "iopub.status.idle": "2023-03-11T21:41:15.254589Z",
     "shell.execute_reply": "2023-03-11T21:41:15.252797Z"
    },
    "papermill": {
     "duration": 1.30899,
     "end_time": "2023-03-11T21:41:15.260250",
     "exception": false,
     "start_time": "2023-03-11T21:41:13.951260",
     "status": "completed"
    },
    "tags": []
   },
   "outputs": [],
   "source": [
    "tfidf_similarities_train = np.diag(cosine_similarity(tfidf_train_premises, tfidf_train_hypothesis))\n",
    "bow_similarities_train = np.diag(cosine_similarity(bow_train_premises, bow_train_hypothesis))\n",
    "embeddings_similarities_train = np.diag(cosine_similarity(word_embeddings_train_premises, word_embeddings_train_hypothesis))"
   ]
  },
  {
   "cell_type": "markdown",
   "id": "f3c9b511",
   "metadata": {
    "papermill": {
     "duration": 0.054248,
     "end_time": "2023-03-11T21:41:15.376794",
     "exception": false,
     "start_time": "2023-03-11T21:41:15.322546",
     "status": "completed"
    },
    "tags": []
   },
   "source": [
    "# Combining features"
   ]
  },
  {
   "cell_type": "code",
   "execution_count": 31,
   "id": "de9093d9",
   "metadata": {
    "execution": {
     "iopub.execute_input": "2023-03-11T21:41:15.429632Z",
     "iopub.status.busy": "2023-03-11T21:41:15.429247Z",
     "iopub.status.idle": "2023-03-11T21:41:15.443292Z",
     "shell.execute_reply": "2023-03-11T21:41:15.442146Z"
    },
    "papermill": {
     "duration": 0.042129,
     "end_time": "2023-03-11T21:41:15.446120",
     "exception": false,
     "start_time": "2023-03-11T21:41:15.403991",
     "status": "completed"
    },
    "tags": []
   },
   "outputs": [],
   "source": [
    "encoder = OneHotEncoder(handle_unknown='ignore')\n",
    "train_groups_encoded = pd.DataFrame(encoder.fit_transform(train[['sentiment_group', 'length_group']]).toarray())\n"
   ]
  },
  {
   "cell_type": "code",
   "execution_count": 32,
   "id": "29dcf458",
   "metadata": {
    "execution": {
     "iopub.execute_input": "2023-03-11T21:41:15.496560Z",
     "iopub.status.busy": "2023-03-11T21:41:15.495776Z",
     "iopub.status.idle": "2023-03-11T21:41:15.509305Z",
     "shell.execute_reply": "2023-03-11T21:41:15.508034Z"
    },
    "papermill": {
     "duration": 0.041494,
     "end_time": "2023-03-11T21:41:15.511668",
     "exception": false,
     "start_time": "2023-03-11T21:41:15.470174",
     "status": "completed"
    },
    "tags": []
   },
   "outputs": [
    {
     "data": {
      "text/html": [
       "<div>\n",
       "<style scoped>\n",
       "    .dataframe tbody tr th:only-of-type {\n",
       "        vertical-align: middle;\n",
       "    }\n",
       "\n",
       "    .dataframe tbody tr th {\n",
       "        vertical-align: top;\n",
       "    }\n",
       "\n",
       "    .dataframe thead th {\n",
       "        text-align: right;\n",
       "    }\n",
       "</style>\n",
       "<table border=\"1\" class=\"dataframe\">\n",
       "  <thead>\n",
       "    <tr style=\"text-align: right;\">\n",
       "      <th></th>\n",
       "      <th>0</th>\n",
       "      <th>1</th>\n",
       "      <th>2</th>\n",
       "      <th>3</th>\n",
       "      <th>4</th>\n",
       "      <th>5</th>\n",
       "      <th>6</th>\n",
       "    </tr>\n",
       "  </thead>\n",
       "  <tbody>\n",
       "    <tr>\n",
       "      <th>0</th>\n",
       "      <td>1.00</td>\n",
       "      <td>0.00</td>\n",
       "      <td>0.00</td>\n",
       "      <td>0.00</td>\n",
       "      <td>0.00</td>\n",
       "      <td>0.00</td>\n",
       "      <td>1.00</td>\n",
       "    </tr>\n",
       "    <tr>\n",
       "      <th>1</th>\n",
       "      <td>1.00</td>\n",
       "      <td>0.00</td>\n",
       "      <td>0.00</td>\n",
       "      <td>0.00</td>\n",
       "      <td>0.00</td>\n",
       "      <td>1.00</td>\n",
       "      <td>0.00</td>\n",
       "    </tr>\n",
       "    <tr>\n",
       "      <th>2</th>\n",
       "      <td>1.00</td>\n",
       "      <td>0.00</td>\n",
       "      <td>0.00</td>\n",
       "      <td>0.00</td>\n",
       "      <td>0.00</td>\n",
       "      <td>1.00</td>\n",
       "      <td>0.00</td>\n",
       "    </tr>\n",
       "    <tr>\n",
       "      <th>3</th>\n",
       "      <td>1.00</td>\n",
       "      <td>0.00</td>\n",
       "      <td>0.00</td>\n",
       "      <td>0.00</td>\n",
       "      <td>0.00</td>\n",
       "      <td>1.00</td>\n",
       "      <td>0.00</td>\n",
       "    </tr>\n",
       "    <tr>\n",
       "      <th>4</th>\n",
       "      <td>1.00</td>\n",
       "      <td>0.00</td>\n",
       "      <td>0.00</td>\n",
       "      <td>0.00</td>\n",
       "      <td>0.00</td>\n",
       "      <td>1.00</td>\n",
       "      <td>0.00</td>\n",
       "    </tr>\n",
       "  </tbody>\n",
       "</table>\n",
       "</div>"
      ],
      "text/plain": [
       "     0    1    2    3    4    5    6\n",
       "0 1.00 0.00 0.00 0.00 0.00 0.00 1.00\n",
       "1 1.00 0.00 0.00 0.00 0.00 1.00 0.00\n",
       "2 1.00 0.00 0.00 0.00 0.00 1.00 0.00\n",
       "3 1.00 0.00 0.00 0.00 0.00 1.00 0.00\n",
       "4 1.00 0.00 0.00 0.00 0.00 1.00 0.00"
      ]
     },
     "execution_count": 32,
     "metadata": {},
     "output_type": "execute_result"
    }
   ],
   "source": [
    "train_groups_encoded.head()"
   ]
  },
  {
   "cell_type": "code",
   "execution_count": 33,
   "id": "402fce19",
   "metadata": {
    "execution": {
     "iopub.execute_input": "2023-03-11T21:41:15.562462Z",
     "iopub.status.busy": "2023-03-11T21:41:15.561728Z",
     "iopub.status.idle": "2023-03-11T21:41:15.570689Z",
     "shell.execute_reply": "2023-03-11T21:41:15.569280Z"
    },
    "papermill": {
     "duration": 0.036645,
     "end_time": "2023-03-11T21:41:15.573035",
     "exception": false,
     "start_time": "2023-03-11T21:41:15.536390",
     "status": "completed"
    },
    "tags": []
   },
   "outputs": [
    {
     "name": "stdout",
     "output_type": "stream",
     "text": [
      "(6870,) (6870,) (6870,) (6870, 7)\n",
      "(6870, 10)\n"
     ]
    }
   ],
   "source": [
    "print(tfidf_similarities_train.shape,\n",
    "     bow_similarities_train.shape,\n",
    "     embeddings_similarities_train.shape,\n",
    "     train_groups_encoded.shape)\n",
    "train_english_only = np.concatenate((tfidf_similarities_train.reshape(-1,1), \n",
    "                                        bow_similarities_train.reshape(-1,1), \n",
    "                                        embeddings_similarities_train.reshape(-1,1), \n",
    "                                        train_groups_encoded), axis=1)\n",
    "print(train_english_only.shape)\n",
    "train_english_only = pd.DataFrame(train_english_only)"
   ]
  },
  {
   "cell_type": "markdown",
   "id": "d94b2574",
   "metadata": {
    "papermill": {
     "duration": 0.023531,
     "end_time": "2023-03-11T21:41:15.620562",
     "exception": false,
     "start_time": "2023-03-11T21:41:15.597031",
     "status": "completed"
    },
    "tags": []
   },
   "source": [
    "# Prediction from LazyClassifier"
   ]
  },
  {
   "cell_type": "code",
   "execution_count": 34,
   "id": "0c99bd4b",
   "metadata": {
    "execution": {
     "iopub.execute_input": "2023-03-11T21:41:15.671537Z",
     "iopub.status.busy": "2023-03-11T21:41:15.670942Z",
     "iopub.status.idle": "2023-03-11T21:41:35.671105Z",
     "shell.execute_reply": "2023-03-11T21:41:35.669662Z"
    },
    "papermill": {
     "duration": 20.029175,
     "end_time": "2023-03-11T21:41:35.673999",
     "exception": false,
     "start_time": "2023-03-11T21:41:15.644824",
     "status": "completed"
    },
    "tags": []
   },
   "outputs": [
    {
     "name": "stderr",
     "output_type": "stream",
     "text": [
      "100%|██████████| 29/29 [00:19<00:00,  1.45it/s]\n"
     ]
    },
    {
     "data": {
      "text/html": [
       "<div>\n",
       "<style scoped>\n",
       "    .dataframe tbody tr th:only-of-type {\n",
       "        vertical-align: middle;\n",
       "    }\n",
       "\n",
       "    .dataframe tbody tr th {\n",
       "        vertical-align: top;\n",
       "    }\n",
       "\n",
       "    .dataframe thead th {\n",
       "        text-align: right;\n",
       "    }\n",
       "</style>\n",
       "<table border=\"1\" class=\"dataframe\">\n",
       "  <thead>\n",
       "    <tr style=\"text-align: right;\">\n",
       "      <th></th>\n",
       "      <th>Accuracy</th>\n",
       "      <th>Balanced Accuracy</th>\n",
       "      <th>ROC AUC</th>\n",
       "      <th>F1 Score</th>\n",
       "      <th>Time Taken</th>\n",
       "    </tr>\n",
       "    <tr>\n",
       "      <th>Model</th>\n",
       "      <th></th>\n",
       "      <th></th>\n",
       "      <th></th>\n",
       "      <th></th>\n",
       "      <th></th>\n",
       "    </tr>\n",
       "  </thead>\n",
       "  <tbody>\n",
       "    <tr>\n",
       "      <th>AdaBoostClassifier</th>\n",
       "      <td>0.45</td>\n",
       "      <td>0.45</td>\n",
       "      <td>None</td>\n",
       "      <td>0.44</td>\n",
       "      <td>0.31</td>\n",
       "    </tr>\n",
       "    <tr>\n",
       "      <th>SVC</th>\n",
       "      <td>0.44</td>\n",
       "      <td>0.45</td>\n",
       "      <td>None</td>\n",
       "      <td>0.43</td>\n",
       "      <td>2.53</td>\n",
       "    </tr>\n",
       "    <tr>\n",
       "      <th>BernoulliNB</th>\n",
       "      <td>0.44</td>\n",
       "      <td>0.44</td>\n",
       "      <td>None</td>\n",
       "      <td>0.43</td>\n",
       "      <td>0.02</td>\n",
       "    </tr>\n",
       "    <tr>\n",
       "      <th>LogisticRegression</th>\n",
       "      <td>0.44</td>\n",
       "      <td>0.44</td>\n",
       "      <td>None</td>\n",
       "      <td>0.43</td>\n",
       "      <td>0.06</td>\n",
       "    </tr>\n",
       "    <tr>\n",
       "      <th>RidgeClassifier</th>\n",
       "      <td>0.44</td>\n",
       "      <td>0.44</td>\n",
       "      <td>None</td>\n",
       "      <td>0.42</td>\n",
       "      <td>0.03</td>\n",
       "    </tr>\n",
       "    <tr>\n",
       "      <th>LinearSVC</th>\n",
       "      <td>0.44</td>\n",
       "      <td>0.44</td>\n",
       "      <td>None</td>\n",
       "      <td>0.42</td>\n",
       "      <td>1.30</td>\n",
       "    </tr>\n",
       "    <tr>\n",
       "      <th>RidgeClassifierCV</th>\n",
       "      <td>0.44</td>\n",
       "      <td>0.44</td>\n",
       "      <td>None</td>\n",
       "      <td>0.42</td>\n",
       "      <td>0.05</td>\n",
       "    </tr>\n",
       "    <tr>\n",
       "      <th>LGBMClassifier</th>\n",
       "      <td>0.44</td>\n",
       "      <td>0.44</td>\n",
       "      <td>None</td>\n",
       "      <td>0.43</td>\n",
       "      <td>0.41</td>\n",
       "    </tr>\n",
       "    <tr>\n",
       "      <th>CalibratedClassifierCV</th>\n",
       "      <td>0.44</td>\n",
       "      <td>0.44</td>\n",
       "      <td>None</td>\n",
       "      <td>0.42</td>\n",
       "      <td>4.36</td>\n",
       "    </tr>\n",
       "    <tr>\n",
       "      <th>LinearDiscriminantAnalysis</th>\n",
       "      <td>0.43</td>\n",
       "      <td>0.44</td>\n",
       "      <td>None</td>\n",
       "      <td>0.42</td>\n",
       "      <td>0.06</td>\n",
       "    </tr>\n",
       "  </tbody>\n",
       "</table>\n",
       "</div>"
      ],
      "text/plain": [
       "                            Accuracy  Balanced Accuracy ROC AUC  F1 Score  \\\n",
       "Model                                                                       \n",
       "AdaBoostClassifier              0.45               0.45    None      0.44   \n",
       "SVC                             0.44               0.45    None      0.43   \n",
       "BernoulliNB                     0.44               0.44    None      0.43   \n",
       "LogisticRegression              0.44               0.44    None      0.43   \n",
       "RidgeClassifier                 0.44               0.44    None      0.42   \n",
       "LinearSVC                       0.44               0.44    None      0.42   \n",
       "RidgeClassifierCV               0.44               0.44    None      0.42   \n",
       "LGBMClassifier                  0.44               0.44    None      0.43   \n",
       "CalibratedClassifierCV          0.44               0.44    None      0.42   \n",
       "LinearDiscriminantAnalysis      0.43               0.44    None      0.42   \n",
       "\n",
       "                            Time Taken  \n",
       "Model                                   \n",
       "AdaBoostClassifier                0.31  \n",
       "SVC                               2.53  \n",
       "BernoulliNB                       0.02  \n",
       "LogisticRegression                0.06  \n",
       "RidgeClassifier                   0.03  \n",
       "LinearSVC                         1.30  \n",
       "RidgeClassifierCV                 0.05  \n",
       "LGBMClassifier                    0.41  \n",
       "CalibratedClassifierCV            4.36  \n",
       "LinearDiscriminantAnalysis        0.06  "
      ]
     },
     "execution_count": 34,
     "metadata": {},
     "output_type": "execute_result"
    }
   ],
   "source": [
    "y = train['label']\n",
    "X_train, X_val_complete, y_train, y_val = train_test_split(train_english_only, y, test_size=0.2, random_state=42)\n",
    "clf = LazyClassifier(predictions=True, verbose=0, random_state=42)\n",
    "models, predictions = clf.fit(X_train, X_val_complete, y_train, y_val)\n",
    "models.head(10)"
   ]
  },
  {
   "cell_type": "markdown",
   "id": "9c74e16a",
   "metadata": {
    "papermill": {
     "duration": 0.025227,
     "end_time": "2023-03-11T21:41:35.724966",
     "exception": false,
     "start_time": "2023-03-11T21:41:35.699739",
     "status": "completed"
    },
    "tags": []
   },
   "source": [
    "Traditional NLP approaches (TF-IDF vectorization, word embeddings, Bag-Of-Words)  have not brought much for the NLI task of differentiation between relation of 2 sentences. Sentiment analysis has been also less predictive then expected. "
   ]
  },
  {
   "cell_type": "markdown",
   "id": "ecda871d",
   "metadata": {
    "papermill": {
     "duration": 0.025373,
     "end_time": "2023-03-11T21:41:35.775565",
     "exception": false,
     "start_time": "2023-03-11T21:41:35.750192",
     "status": "completed"
    },
    "tags": []
   },
   "source": [
    "# Natural Language Inference with roBERTa"
   ]
  },
  {
   "cell_type": "markdown",
   "id": "085b4c8c",
   "metadata": {
    "papermill": {
     "duration": 0.02509,
     "end_time": "2023-03-11T21:41:35.825717",
     "exception": false,
     "start_time": "2023-03-11T21:41:35.800627",
     "status": "completed"
    },
    "tags": []
   },
   "source": [
    "The approach from BertExperiment II https://www.kaggle.com/code/nicknosorogov/bertexperiment-ii has been used as a basis. The main difference - training of the model on only English training samples. Prior to applying model to the test set we will translate it into english."
   ]
  },
  {
   "cell_type": "code",
   "execution_count": 35,
   "id": "f7a4cd71",
   "metadata": {
    "execution": {
     "iopub.execute_input": "2023-03-11T21:41:35.880092Z",
     "iopub.status.busy": "2023-03-11T21:41:35.879627Z",
     "iopub.status.idle": "2023-03-11T21:41:35.950299Z",
     "shell.execute_reply": "2023-03-11T21:41:35.949274Z"
    },
    "papermill": {
     "duration": 0.101408,
     "end_time": "2023-03-11T21:41:35.953078",
     "exception": false,
     "start_time": "2023-03-11T21:41:35.851670",
     "status": "completed"
    },
    "tags": []
   },
   "outputs": [],
   "source": [
    "train = pd.read_csv('/kaggle/input/contradictory-my-dear-watson/train.csv')\n",
    "train = train[['premise', 'hypothesis', 'lang_abv', 'label']]\n",
    "train = train[train['lang_abv'] == 'en']"
   ]
  },
  {
   "cell_type": "code",
   "execution_count": 36,
   "id": "39b9da29",
   "metadata": {
    "execution": {
     "iopub.execute_input": "2023-03-11T21:41:36.006908Z",
     "iopub.status.busy": "2023-03-11T21:41:36.006472Z",
     "iopub.status.idle": "2023-03-11T21:43:47.262319Z",
     "shell.execute_reply": "2023-03-11T21:43:47.260276Z"
    },
    "papermill": {
     "duration": 131.320541,
     "end_time": "2023-03-11T21:43:47.299206",
     "exception": false,
     "start_time": "2023-03-11T21:41:35.978665",
     "status": "completed"
    },
    "tags": []
   },
   "outputs": [
    {
     "data": {
      "application/vnd.jupyter.widget-view+json": {
       "model_id": "fbc4373e347f4f1d842e8557e3fd7015",
       "version_major": 2,
       "version_minor": 0
      },
      "text/plain": [
       "Downloading builder script:   0%|          | 0.00/1.90k [00:00<?, ?B/s]"
      ]
     },
     "metadata": {},
     "output_type": "display_data"
    },
    {
     "data": {
      "application/vnd.jupyter.widget-view+json": {
       "model_id": "9c5cb53f76ba4787acd852599c37cf04",
       "version_major": 2,
       "version_minor": 0
      },
      "text/plain": [
       "Downloading metadata:   0%|          | 0.00/1.19k [00:00<?, ?B/s]"
      ]
     },
     "metadata": {},
     "output_type": "display_data"
    },
    {
     "name": "stdout",
     "output_type": "stream",
     "text": [
      "Downloading and preparing dataset multi_nli/default (download: 216.34 MiB, generated: 410.92 MiB, post-processed: Unknown size, total: 627.27 MiB) to /root/.cache/huggingface/datasets/multi_nli/default/0.0.0/591f72eb6263d1ab527561777936b199b714cda156d35716881158a2bd144f39...\n"
     ]
    },
    {
     "data": {
      "application/vnd.jupyter.widget-view+json": {
       "model_id": "8cf1fdf1af9b41bb9a0506578c4fa828",
       "version_major": 2,
       "version_minor": 0
      },
      "text/plain": [
       "Downloading data:   0%|          | 0.00/227M [00:00<?, ?B/s]"
      ]
     },
     "metadata": {},
     "output_type": "display_data"
    },
    {
     "data": {
      "application/vnd.jupyter.widget-view+json": {
       "model_id": "8342588f6f224c2eb8611ed4788df184",
       "version_major": 2,
       "version_minor": 0
      },
      "text/plain": [
       "Generating train split:   0%|          | 0/392702 [00:00<?, ? examples/s]"
      ]
     },
     "metadata": {},
     "output_type": "display_data"
    },
    {
     "data": {
      "application/vnd.jupyter.widget-view+json": {
       "model_id": "978cf73240f143e3a1f49e53b8e5cb01",
       "version_major": 2,
       "version_minor": 0
      },
      "text/plain": [
       "Generating validation_matched split:   0%|          | 0/9815 [00:00<?, ? examples/s]"
      ]
     },
     "metadata": {},
     "output_type": "display_data"
    },
    {
     "data": {
      "application/vnd.jupyter.widget-view+json": {
       "model_id": "e9f244603d9a4a3ca8916e62d0262f3d",
       "version_major": 2,
       "version_minor": 0
      },
      "text/plain": [
       "Generating validation_mismatched split:   0%|          | 0/9832 [00:00<?, ? examples/s]"
      ]
     },
     "metadata": {},
     "output_type": "display_data"
    },
    {
     "name": "stdout",
     "output_type": "stream",
     "text": [
      "Dataset multi_nli downloaded and prepared to /root/.cache/huggingface/datasets/multi_nli/default/0.0.0/591f72eb6263d1ab527561777936b199b714cda156d35716881158a2bd144f39. Subsequent calls will reuse this data.\n"
     ]
    },
    {
     "data": {
      "application/vnd.jupyter.widget-view+json": {
       "model_id": "3391a9545c794d2592898ee8c670c674",
       "version_major": 2,
       "version_minor": 0
      },
      "text/plain": [
       "  0%|          | 0/3 [00:00<?, ?it/s]"
      ]
     },
     "metadata": {},
     "output_type": "display_data"
    },
    {
     "name": "stdout",
     "output_type": "stream",
     "text": [
      "DatasetDict({\n",
      "    train: Dataset({\n",
      "        features: ['promptID', 'pairID', 'premise', 'premise_binary_parse', 'premise_parse', 'hypothesis', 'hypothesis_binary_parse', 'hypothesis_parse', 'genre', 'label'],\n",
      "        num_rows: 392702\n",
      "    })\n",
      "    validation_matched: Dataset({\n",
      "        features: ['promptID', 'pairID', 'premise', 'premise_binary_parse', 'premise_parse', 'hypothesis', 'hypothesis_binary_parse', 'hypothesis_parse', 'genre', 'label'],\n",
      "        num_rows: 9815\n",
      "    })\n",
      "    validation_mismatched: Dataset({\n",
      "        features: ['promptID', 'pairID', 'premise', 'premise_binary_parse', 'premise_parse', 'hypothesis', 'hypothesis_binary_parse', 'hypothesis_parse', 'genre', 'label'],\n",
      "        num_rows: 9832\n",
      "    })\n",
      "})\n"
     ]
    },
    {
     "data": {
      "text/html": [
       "<div>\n",
       "<style scoped>\n",
       "    .dataframe tbody tr th:only-of-type {\n",
       "        vertical-align: middle;\n",
       "    }\n",
       "\n",
       "    .dataframe tbody tr th {\n",
       "        vertical-align: top;\n",
       "    }\n",
       "\n",
       "    .dataframe thead th {\n",
       "        text-align: right;\n",
       "    }\n",
       "</style>\n",
       "<table border=\"1\" class=\"dataframe\">\n",
       "  <thead>\n",
       "    <tr style=\"text-align: right;\">\n",
       "      <th></th>\n",
       "      <th>premise</th>\n",
       "      <th>hypothesis</th>\n",
       "      <th>label</th>\n",
       "      <th>lang_abv</th>\n",
       "    </tr>\n",
       "  </thead>\n",
       "  <tbody>\n",
       "    <tr>\n",
       "      <th>0</th>\n",
       "      <td>Conceptually cream skimming has two basic dime...</td>\n",
       "      <td>Product and geography are what make cream skim...</td>\n",
       "      <td>1</td>\n",
       "      <td>en</td>\n",
       "    </tr>\n",
       "    <tr>\n",
       "      <th>1</th>\n",
       "      <td>you know during the season and i guess at at y...</td>\n",
       "      <td>You lose the things to the following level if ...</td>\n",
       "      <td>0</td>\n",
       "      <td>en</td>\n",
       "    </tr>\n",
       "    <tr>\n",
       "      <th>2</th>\n",
       "      <td>One of our number will carry out your instruct...</td>\n",
       "      <td>A member of my team will execute your orders w...</td>\n",
       "      <td>0</td>\n",
       "      <td>en</td>\n",
       "    </tr>\n",
       "    <tr>\n",
       "      <th>3</th>\n",
       "      <td>How do you know? All this is their information...</td>\n",
       "      <td>This information belongs to them.</td>\n",
       "      <td>0</td>\n",
       "      <td>en</td>\n",
       "    </tr>\n",
       "    <tr>\n",
       "      <th>4</th>\n",
       "      <td>yeah i tell you what though if you go price so...</td>\n",
       "      <td>The tennis shoes have a range of prices.</td>\n",
       "      <td>1</td>\n",
       "      <td>en</td>\n",
       "    </tr>\n",
       "    <tr>\n",
       "      <th>...</th>\n",
       "      <td>...</td>\n",
       "      <td>...</td>\n",
       "      <td>...</td>\n",
       "      <td>...</td>\n",
       "    </tr>\n",
       "    <tr>\n",
       "      <th>392697</th>\n",
       "      <td>Clearly, California can - and must - do better.</td>\n",
       "      <td>California cannot do any better.</td>\n",
       "      <td>2</td>\n",
       "      <td>en</td>\n",
       "    </tr>\n",
       "    <tr>\n",
       "      <th>392698</th>\n",
       "      <td>It was once regarded as the most beautiful str...</td>\n",
       "      <td>So many of the original buildings had been rep...</td>\n",
       "      <td>1</td>\n",
       "      <td>en</td>\n",
       "    </tr>\n",
       "    <tr>\n",
       "      <th>392699</th>\n",
       "      <td>Houseboats are a beautifully preserved traditi...</td>\n",
       "      <td>The tradition of houseboats originated while t...</td>\n",
       "      <td>0</td>\n",
       "      <td>en</td>\n",
       "    </tr>\n",
       "    <tr>\n",
       "      <th>392700</th>\n",
       "      <td>Obituaries fondly recalled his on-air debates ...</td>\n",
       "      <td>The obituaries were beautiful and written in k...</td>\n",
       "      <td>1</td>\n",
       "      <td>en</td>\n",
       "    </tr>\n",
       "    <tr>\n",
       "      <th>392701</th>\n",
       "      <td>in that other you know uh that i should do it ...</td>\n",
       "      <td>My husband has been so overworked lately that ...</td>\n",
       "      <td>1</td>\n",
       "      <td>en</td>\n",
       "    </tr>\n",
       "  </tbody>\n",
       "</table>\n",
       "<p>392702 rows × 4 columns</p>\n",
       "</div>"
      ],
      "text/plain": [
       "                                                  premise  \\\n",
       "0       Conceptually cream skimming has two basic dime...   \n",
       "1       you know during the season and i guess at at y...   \n",
       "2       One of our number will carry out your instruct...   \n",
       "3       How do you know? All this is their information...   \n",
       "4       yeah i tell you what though if you go price so...   \n",
       "...                                                   ...   \n",
       "392697    Clearly, California can - and must - do better.   \n",
       "392698  It was once regarded as the most beautiful str...   \n",
       "392699  Houseboats are a beautifully preserved traditi...   \n",
       "392700  Obituaries fondly recalled his on-air debates ...   \n",
       "392701  in that other you know uh that i should do it ...   \n",
       "\n",
       "                                               hypothesis  label lang_abv  \n",
       "0       Product and geography are what make cream skim...      1       en  \n",
       "1       You lose the things to the following level if ...      0       en  \n",
       "2       A member of my team will execute your orders w...      0       en  \n",
       "3                       This information belongs to them.      0       en  \n",
       "4                The tennis shoes have a range of prices.      1       en  \n",
       "...                                                   ...    ...      ...  \n",
       "392697                   California cannot do any better.      2       en  \n",
       "392698  So many of the original buildings had been rep...      1       en  \n",
       "392699  The tradition of houseboats originated while t...      0       en  \n",
       "392700  The obituaries were beautiful and written in k...      1       en  \n",
       "392701  My husband has been so overworked lately that ...      1       en  \n",
       "\n",
       "[392702 rows x 4 columns]"
      ]
     },
     "execution_count": 36,
     "metadata": {},
     "output_type": "execute_result"
    }
   ],
   "source": [
    "def load_mnli(use_validation=True):\n",
    "    result=[]\n",
    "    dataset=load_dataset('multi_nli')\n",
    "    print(dataset)\n",
    "    for record in dataset['train']:\n",
    "        c1, c2, c3 = record['premise'],record['hypothesis'], record['label']\n",
    "        if c1 and c2 and c3 in {0, 1, 2}:\n",
    "            result.append((c1, c2, c3, 'en'))\n",
    "    result=pd.DataFrame(result, columns=['premise', 'hypothesis', 'label', 'lang_abv'])\n",
    "    return result\n",
    "\n",
    "mnli=load_mnli()\n",
    "mnli"
   ]
  },
  {
   "cell_type": "code",
   "execution_count": 37,
   "id": "01d6a098",
   "metadata": {
    "execution": {
     "iopub.execute_input": "2023-03-11T21:43:47.356187Z",
     "iopub.status.busy": "2023-03-11T21:43:47.355731Z",
     "iopub.status.idle": "2023-03-11T21:44:55.328216Z",
     "shell.execute_reply": "2023-03-11T21:44:55.326854Z"
    },
    "papermill": {
     "duration": 68.032988,
     "end_time": "2023-03-11T21:44:55.358967",
     "exception": false,
     "start_time": "2023-03-11T21:43:47.325979",
     "status": "completed"
    },
    "tags": []
   },
   "outputs": [
    {
     "data": {
      "application/vnd.jupyter.widget-view+json": {
       "model_id": "8811edf984324c8abf72ff2067cb6352",
       "version_major": 2,
       "version_minor": 0
      },
      "text/plain": [
       "Downloading (…)okenizer_config.json:   0%|          | 0.00/25.0 [00:00<?, ?B/s]"
      ]
     },
     "metadata": {},
     "output_type": "display_data"
    },
    {
     "data": {
      "application/vnd.jupyter.widget-view+json": {
       "model_id": "36a73186fd5f496b853434b2be86620e",
       "version_major": 2,
       "version_minor": 0
      },
      "text/plain": [
       "Downloading (…)lve/main/config.json:   0%|          | 0.00/734 [00:00<?, ?B/s]"
      ]
     },
     "metadata": {},
     "output_type": "display_data"
    },
    {
     "data": {
      "application/vnd.jupyter.widget-view+json": {
       "model_id": "a7fc37c6d4434e5eb2a7f7305b15a889",
       "version_major": 2,
       "version_minor": 0
      },
      "text/plain": [
       "Downloading (…)tencepiece.bpe.model:   0%|          | 0.00/5.07M [00:00<?, ?B/s]"
      ]
     },
     "metadata": {},
     "output_type": "display_data"
    },
    {
     "data": {
      "application/vnd.jupyter.widget-view+json": {
       "model_id": "3b4e9532c1244fc8a78a906d66674484",
       "version_major": 2,
       "version_minor": 0
      },
      "text/plain": [
       "Downloading (…)cial_tokens_map.json:   0%|          | 0.00/150 [00:00<?, ?B/s]"
      ]
     },
     "metadata": {},
     "output_type": "display_data"
    },
    {
     "data": {
      "application/vnd.jupyter.widget-view+json": {
       "model_id": "bf99eb00a36749fe9c8b39b4bbebbab3",
       "version_major": 2,
       "version_minor": 0
      },
      "text/plain": [
       "Downloading (…)\"tf_model.h5\";:   0%|          | 0.00/2.24G [00:00<?, ?B/s]"
      ]
     },
     "metadata": {},
     "output_type": "display_data"
    },
    {
     "name": "stderr",
     "output_type": "stream",
     "text": [
      "Some layers from the model checkpoint at joeddav/xlm-roberta-large-xnli were not used when initializing TFXLMRobertaModel: ['classifier']\n",
      "- This IS expected if you are initializing TFXLMRobertaModel from the checkpoint of a model trained on another task or with another architecture (e.g. initializing a BertForSequenceClassification model from a BertForPreTraining model).\n",
      "- This IS NOT expected if you are initializing TFXLMRobertaModel from the checkpoint of a model that you expect to be exactly identical (initializing a BertForSequenceClassification model from a BertForSequenceClassification model).\n",
      "All the layers of TFXLMRobertaModel were initialized from the model checkpoint at joeddav/xlm-roberta-large-xnli.\n",
      "If your task is similar to the task the model of the checkpoint was trained on, you can already use TFXLMRobertaModel for predictions without further training.\n"
     ]
    }
   ],
   "source": [
    "from transformers import BertTokenizer, TFBertModel, AutoTokenizer,TFAutoModel\n",
    "model_roBerta ='joeddav/xlm-roberta-large-xnli'\n",
    "#model_Bert = 'bert-base-multilingual-cased'\n",
    "tokenizer = AutoTokenizer.from_pretrained(model_roBerta)\n",
    "model = TFAutoModel.from_pretrained(model_roBerta)"
   ]
  },
  {
   "cell_type": "code",
   "execution_count": 38,
   "id": "d56216fc",
   "metadata": {
    "execution": {
     "iopub.execute_input": "2023-03-11T21:44:55.418818Z",
     "iopub.status.busy": "2023-03-11T21:44:55.417999Z",
     "iopub.status.idle": "2023-03-11T21:44:58.693835Z",
     "shell.execute_reply": "2023-03-11T21:44:58.692617Z"
    },
    "papermill": {
     "duration": 3.309307,
     "end_time": "2023-03-11T21:44:58.696766",
     "exception": false,
     "start_time": "2023-03-11T21:44:55.387459",
     "status": "completed"
    },
    "tags": []
   },
   "outputs": [],
   "source": [
    "\n",
    "train=pd.concat([train, mnli.loc[:20000]], axis=0)\n",
    "SEQ_LEN = 236  \n",
    "\n",
    "def bert_encode(df, tokenizer):    \n",
    "    batch_premises = df['premise'].tolist()\n",
    "    batch_hypothesis = df['hypothesis'].tolist()\n",
    "\n",
    "    tokens = tokenizer(batch_premises, batch_hypothesis, max_length = SEQ_LEN,\n",
    "                   truncation=True, padding='max_length',\n",
    "                   add_special_tokens=True, return_attention_mask=True,\n",
    "                   return_tensors='tf')\n",
    "    inputs = {\n",
    "          'input_ids': tokens['input_ids'], \n",
    "          'attention_mask': tokens['attention_mask'],\n",
    "            }\n",
    "    return inputs\n",
    "train_input = bert_encode(train, tokenizer)"
   ]
  },
  {
   "cell_type": "code",
   "execution_count": 39,
   "id": "22b70ab8",
   "metadata": {
    "execution": {
     "iopub.execute_input": "2023-03-11T21:44:58.754960Z",
     "iopub.status.busy": "2023-03-11T21:44:58.754001Z",
     "iopub.status.idle": "2023-03-11T21:44:58.765951Z",
     "shell.execute_reply": "2023-03-11T21:44:58.764987Z"
    },
    "papermill": {
     "duration": 0.043555,
     "end_time": "2023-03-11T21:44:58.768265",
     "exception": false,
     "start_time": "2023-03-11T21:44:58.724710",
     "status": "completed"
    },
    "tags": []
   },
   "outputs": [],
   "source": [
    "from tensorflow.keras import regularizers\n",
    "\n",
    "def build_model():   # hp\n",
    "    #FBertModel\n",
    "    encoder = TFAutoModel.from_pretrained(model_roBerta)\n",
    "    input_ids = tf.keras.Input(shape=(SEQ_LEN,), dtype=tf.int32, name=\"input_ids\")\n",
    "    attention_mask = tf.keras.Input(shape=(SEQ_LEN,), dtype=tf.int32, name=\"attention_mask\")\n",
    "        \n",
    "    embedding = encoder([input_ids, attention_mask])[0] \n",
    "    inputs=[input_ids, attention_mask] \n",
    "    hp_units1 = 64 \n",
    "    hp_units2 = 32 \n",
    "    x = tf.keras.layers.Dense(units = hp_units1, activation=tf.nn.relu)(embedding[:,0,:])\n",
    "    x = tf.keras.layers.Dense(units = hp_units2, activation=tf.nn.relu, kernel_regularizer=regularizers.l2(l2=1e-4))(x)\n",
    "    output = tf.keras.layers.Dense(3, activation='softmax')(x)    #  (embedding[:,0,:])\n",
    "      \n",
    "    model = tf.keras.Model(inputs=inputs, outputs=output)\n",
    "    hp_learning_rate = 1e-6 \n",
    "    model.compile(tf.keras.optimizers.Adam(learning_rate = hp_learning_rate), loss='sparse_categorical_crossentropy', metrics=['accuracy'])   \n",
    "    return model \n"
   ]
  },
  {
   "cell_type": "code",
   "execution_count": 40,
   "id": "a1682b78",
   "metadata": {
    "execution": {
     "iopub.execute_input": "2023-03-11T21:44:58.825657Z",
     "iopub.status.busy": "2023-03-11T21:44:58.824861Z",
     "iopub.status.idle": "2023-03-11T21:45:57.124686Z",
     "shell.execute_reply": "2023-03-11T21:45:57.123205Z"
    },
    "papermill": {
     "duration": 58.331573,
     "end_time": "2023-03-11T21:45:57.127289",
     "exception": false,
     "start_time": "2023-03-11T21:44:58.795716",
     "status": "completed"
    },
    "tags": []
   },
   "outputs": [
    {
     "name": "stderr",
     "output_type": "stream",
     "text": [
      "Some layers from the model checkpoint at joeddav/xlm-roberta-large-xnli were not used when initializing TFXLMRobertaModel: ['classifier']\n",
      "- This IS expected if you are initializing TFXLMRobertaModel from the checkpoint of a model trained on another task or with another architecture (e.g. initializing a BertForSequenceClassification model from a BertForPreTraining model).\n",
      "- This IS NOT expected if you are initializing TFXLMRobertaModel from the checkpoint of a model that you expect to be exactly identical (initializing a BertForSequenceClassification model from a BertForSequenceClassification model).\n",
      "All the layers of TFXLMRobertaModel were initialized from the model checkpoint at joeddav/xlm-roberta-large-xnli.\n",
      "If your task is similar to the task the model of the checkpoint was trained on, you can already use TFXLMRobertaModel for predictions without further training.\n"
     ]
    },
    {
     "name": "stdout",
     "output_type": "stream",
     "text": [
      "Model: \"model\"\n",
      "__________________________________________________________________________________________________\n",
      " Layer (type)                   Output Shape         Param #     Connected to                     \n",
      "==================================================================================================\n",
      " input_ids (InputLayer)         [(None, 236)]        0           []                               \n",
      "                                                                                                  \n",
      " attention_mask (InputLayer)    [(None, 236)]        0           []                               \n",
      "                                                                                                  \n",
      " tfxlm_roberta_model_1 (TFXLMRo  TFBaseModelOutputWi  559890432  ['input_ids[0][0]',              \n",
      " bertaModel)                    thPoolingAndCrossAt               'attention_mask[0][0]']         \n",
      "                                tentions(last_hidde                                               \n",
      "                                n_state=(None, 236,                                               \n",
      "                                 1024),                                                           \n",
      "                                 pooler_output=(Non                                               \n",
      "                                e, 1024),                                                         \n",
      "                                 past_key_values=No                                               \n",
      "                                ne, hidden_states=N                                               \n",
      "                                one, attentions=Non                                               \n",
      "                                e, cross_attentions                                               \n",
      "                                =None)                                                            \n",
      "                                                                                                  \n",
      " tf.__operators__.getitem (Slic  (None, 1024)        0           ['tfxlm_roberta_model_1[0][0]']  \n",
      " ingOpLambda)                                                                                     \n",
      "                                                                                                  \n",
      " dense (Dense)                  (None, 64)           65600       ['tf.__operators__.getitem[0][0]'\n",
      "                                                                 ]                                \n",
      "                                                                                                  \n",
      " dense_1 (Dense)                (None, 32)           2080        ['dense[0][0]']                  \n",
      "                                                                                                  \n",
      " dense_2 (Dense)                (None, 3)            99          ['dense_1[0][0]']                \n",
      "                                                                                                  \n",
      "==================================================================================================\n",
      "Total params: 559,958,211\n",
      "Trainable params: 559,958,211\n",
      "Non-trainable params: 0\n",
      "__________________________________________________________________________________________________\n"
     ]
    }
   ],
   "source": [
    "with strategy.scope(): # defines the compute distribution policy for building the model. or in other words: makes sure that the model is created on the TPU/GPU/CPU, depending on to what the Accelerator is set in the Notebook Settings\n",
    "    model = build_model() # our model is being built\n",
    "    model.summary()       # let's look at some of its properties"
   ]
  },
  {
   "cell_type": "code",
   "execution_count": 41,
   "id": "c2f000d7",
   "metadata": {
    "execution": {
     "iopub.execute_input": "2023-03-11T21:45:57.191666Z",
     "iopub.status.busy": "2023-03-11T21:45:57.191208Z",
     "iopub.status.idle": "2023-03-11T21:45:57.199245Z",
     "shell.execute_reply": "2023-03-11T21:45:57.197946Z"
    },
    "papermill": {
     "duration": 0.043525,
     "end_time": "2023-03-11T21:45:57.202018",
     "exception": false,
     "start_time": "2023-03-11T21:45:57.158493",
     "status": "completed"
    },
    "tags": []
   },
   "outputs": [],
   "source": [
    "for key in train_input.keys():\n",
    "    train_input[key] = train_input[key][:,:SEQ_LEN]"
   ]
  },
  {
   "cell_type": "code",
   "execution_count": 42,
   "id": "8577e5d7",
   "metadata": {
    "execution": {
     "iopub.execute_input": "2023-03-11T21:45:57.265138Z",
     "iopub.status.busy": "2023-03-11T21:45:57.264382Z",
     "iopub.status.idle": "2023-03-11T22:07:17.518922Z",
     "shell.execute_reply": "2023-03-11T22:07:17.517477Z"
    },
    "papermill": {
     "duration": 1280.28942,
     "end_time": "2023-03-11T22:07:17.521602",
     "exception": false,
     "start_time": "2023-03-11T21:45:57.232182",
     "status": "completed"
    },
    "tags": []
   },
   "outputs": [
    {
     "name": "stdout",
     "output_type": "stream",
     "text": [
      "Epoch 1/10\n",
      "336/336 [==============================] - 369s 617ms/step - loss: 0.3577 - accuracy: 0.8864 - val_loss: 0.1850 - val_accuracy: 0.9438\n",
      "Epoch 2/10\n",
      "336/336 [==============================] - 101s 301ms/step - loss: 0.2426 - accuracy: 0.9209 - val_loss: 0.1696 - val_accuracy: 0.9464\n",
      "Epoch 3/10\n",
      "336/336 [==============================] - 101s 301ms/step - loss: 0.2198 - accuracy: 0.9272 - val_loss: 0.1638 - val_accuracy: 0.9457\n",
      "Epoch 4/10\n",
      "336/336 [==============================] - 101s 301ms/step - loss: 0.2011 - accuracy: 0.9344 - val_loss: 0.1683 - val_accuracy: 0.9459\n",
      "Epoch 5/10\n",
      "336/336 [==============================] - 101s 301ms/step - loss: 0.1872 - accuracy: 0.9389 - val_loss: 0.1651 - val_accuracy: 0.9473\n",
      "Epoch 6/10\n",
      "336/336 [==============================] - 101s 300ms/step - loss: 0.1662 - accuracy: 0.9463 - val_loss: 0.1710 - val_accuracy: 0.9485\n",
      "Epoch 7/10\n",
      "336/336 [==============================] - 101s 301ms/step - loss: 0.1585 - accuracy: 0.9499 - val_loss: 0.1679 - val_accuracy: 0.9470\n",
      "Epoch 8/10\n",
      "336/336 [==============================] - 101s 301ms/step - loss: 0.1485 - accuracy: 0.9542 - val_loss: 0.1718 - val_accuracy: 0.9470\n",
      "Epoch 9/10\n",
      "336/336 [==============================] - 101s 301ms/step - loss: 0.1360 - accuracy: 0.9584 - val_loss: 0.1778 - val_accuracy: 0.9470\n",
      "Epoch 10/10\n",
      "336/336 [==============================] - 101s 301ms/step - loss: 0.1216 - accuracy: 0.9631 - val_loss: 0.1874 - val_accuracy: 0.9468\n"
     ]
    }
   ],
   "source": [
    "history = model.fit(train_input, train['label'], epochs = 10, batch_size=64, \n",
    "                    validation_split = 0.2) #,callbacks=[hist]) verbose = 1,   "
   ]
  },
  {
   "cell_type": "code",
   "execution_count": 43,
   "id": "cb207d40",
   "metadata": {
    "execution": {
     "iopub.execute_input": "2023-03-11T22:07:18.079368Z",
     "iopub.status.busy": "2023-03-11T22:07:18.078455Z",
     "iopub.status.idle": "2023-03-11T22:07:18.750670Z",
     "shell.execute_reply": "2023-03-11T22:07:18.749078Z"
    },
    "papermill": {
     "duration": 0.986128,
     "end_time": "2023-03-11T22:07:18.753503",
     "exception": false,
     "start_time": "2023-03-11T22:07:17.767375",
     "status": "completed"
    },
    "tags": []
   },
   "outputs": [
    {
     "name": "stdout",
     "output_type": "stream",
     "text": [
      "huggingface/tokenizers: The current process just got forked, after parallelism has already been used. Disabling parallelism to avoid deadlocks...\n",
      "To disable this warning, you can either:\n",
      "\t- Avoid using `tokenizers` before the fork if possible\n",
      "\t- Explicitly set the environment variable TOKENIZERS_PARALLELISM=(true | false)\n",
      "huggingface/tokenizers: The current process just got forked, after parallelism has already been used. Disabling parallelism to avoid deadlocks...\n",
      "To disable this warning, you can either:\n",
      "\t- Avoid using `tokenizers` before the fork if possible\n",
      "\t- Explicitly set the environment variable TOKENIZERS_PARALLELISM=(true | false)\n"
     ]
    },
    {
     "data": {
      "image/png": "[encoded data removed]",
      "text/plain": [
       "<IPython.core.display.Image object>"
      ]
     },
     "execution_count": 43,
     "metadata": {},
     "output_type": "execute_result"
    }
   ],
   "source": [
    "tf.keras.utils.plot_model(model, show_shapes=True)"
   ]
  },
  {
   "cell_type": "markdown",
   "id": "a7dc8f81",
   "metadata": {
    "papermill": {
     "duration": 0.2693,
     "end_time": "2023-03-11T22:07:19.291311",
     "exception": false,
     "start_time": "2023-03-11T22:07:19.022011",
     "status": "completed"
    },
    "tags": []
   },
   "source": [
    "# Google Translator"
   ]
  },
  {
   "cell_type": "markdown",
   "id": "f7651a1c",
   "metadata": {
    "papermill": {
     "duration": 0.25067,
     "end_time": "2023-03-11T22:07:19.792954",
     "exception": false,
     "start_time": "2023-03-11T22:07:19.542284",
     "status": "completed"
    },
    "tags": []
   },
   "source": [
    "Since the model has learned only on English texts we will translate the test samples prior to predicting."
   ]
  },
  {
   "cell_type": "code",
   "execution_count": 44,
   "id": "bdc8a914",
   "metadata": {
    "execution": {
     "iopub.execute_input": "2023-03-11T22:07:20.289425Z",
     "iopub.status.busy": "2023-03-11T22:07:20.288208Z",
     "iopub.status.idle": "2023-03-11T22:07:20.295449Z",
     "shell.execute_reply": "2023-03-11T22:07:20.294324Z"
    },
    "papermill": {
     "duration": 0.259474,
     "end_time": "2023-03-11T22:07:20.297972",
     "exception": false,
     "start_time": "2023-03-11T22:07:20.038498",
     "status": "completed"
    },
    "tags": []
   },
   "outputs": [],
   "source": [
    "def translate(text):\n",
    "    # Since not all of the languages from the dataset are represented in nltk modules we will remove\n",
    "    # the stopwords and do stemming only for appicable languages only after translation.\n",
    "    try:\n",
    "       # if lang not in ['english', 'french', 'russian', 'german', 'arabic', 'spanish']: \n",
    "        translator = Translator()\n",
    "        return translator.translate(text, dest='en').text\n",
    "    except:\n",
    "        return text"
   ]
  },
  {
   "cell_type": "code",
   "execution_count": 45,
   "id": "824ef2fd",
   "metadata": {
    "execution": {
     "iopub.execute_input": "2023-03-11T22:07:20.854721Z",
     "iopub.status.busy": "2023-03-11T22:07:20.853500Z",
     "iopub.status.idle": "2023-03-11T22:12:40.111856Z",
     "shell.execute_reply": "2023-03-11T22:12:40.110532Z"
    },
    "papermill": {
     "duration": 319.571348,
     "end_time": "2023-03-11T22:12:40.115048",
     "exception": false,
     "start_time": "2023-03-11T22:07:20.543700",
     "status": "completed"
    },
    "tags": []
   },
   "outputs": [],
   "source": [
    "test_translated = test.apply(lambda x: (translate_text(x['premise'], str(x['lang_abv']), 'en'), \n",
    "                                        translate_text(x['hypothesis'], str(x['lang_abv']), 'en')), axis=1) ## applying translation to the test set.\n",
    "test['premise'] = test_translated.apply(lambda x: x[0])\n",
    "test['hypothesis'] = test_translated.apply(lambda x: x[1])\n",
    "test['lang_abv'] = 'en'\n"
   ]
  },
  {
   "cell_type": "code",
   "execution_count": 46,
   "id": "ad060db2",
   "metadata": {
    "execution": {
     "iopub.execute_input": "2023-03-11T22:12:40.612322Z",
     "iopub.status.busy": "2023-03-11T22:12:40.611004Z",
     "iopub.status.idle": "2023-03-11T22:13:18.154721Z",
     "shell.execute_reply": "2023-03-11T22:13:18.153403Z"
    },
    "papermill": {
     "duration": 37.942044,
     "end_time": "2023-03-11T22:13:18.303967",
     "exception": false,
     "start_time": "2023-03-11T22:12:40.361923",
     "status": "completed"
    },
    "tags": []
   },
   "outputs": [
    {
     "name": "stdout",
     "output_type": "stream",
     "text": [
      "163/163 [==============================] - 35s 169ms/step\n"
     ]
    }
   ],
   "source": [
    "test_input = bert_encode(test, tokenizer)\n",
    " #same for the test set we need to put it in the same size of the model\n",
    "for key in test_input.keys():\n",
    "    test_input[key] = test_input[key][:,:SEQ_LEN]\n",
    "predictions = [np.argmax(i) for i in model.predict(test_input)]"
   ]
  },
  {
   "cell_type": "markdown",
   "id": "f8546bc4",
   "metadata": {
    "papermill": {
     "duration": 0.251563,
     "end_time": "2023-03-11T22:13:18.807412",
     "exception": false,
     "start_time": "2023-03-11T22:13:18.555849",
     "status": "completed"
    },
    "tags": []
   },
   "source": [
    "# Submission"
   ]
  },
  {
   "cell_type": "code",
   "execution_count": 47,
   "id": "3f333af4",
   "metadata": {
    "execution": {
     "iopub.execute_input": "2023-03-11T22:13:19.312605Z",
     "iopub.status.busy": "2023-03-11T22:13:19.311337Z",
     "iopub.status.idle": "2023-03-11T22:13:19.341168Z",
     "shell.execute_reply": "2023-03-11T22:13:19.339735Z"
    },
    "papermill": {
     "duration": 0.285974,
     "end_time": "2023-03-11T22:13:19.344060",
     "exception": false,
     "start_time": "2023-03-11T22:13:19.058086",
     "status": "completed"
    },
    "tags": []
   },
   "outputs": [],
   "source": [
    "submission = test.id.copy().to_frame()\n",
    "submission['prediction'] = predictions\n",
    "submission.to_csv(\"submission.csv\", index = False)"
   ]
  },
  {
   "cell_type": "markdown",
   "id": "70a65b58",
   "metadata": {
    "papermill": {
     "duration": 0.251329,
     "end_time": "2023-03-11T22:13:19.913673",
     "exception": false,
     "start_time": "2023-03-11T22:13:19.662344",
     "status": "completed"
    },
    "tags": []
   },
   "source": [
    "# Final thoughts"
   ]
  },
  {
   "cell_type": "markdown",
   "id": "9a44bf72",
   "metadata": {
    "papermill": {
     "duration": 0.256558,
     "end_time": "2023-03-11T22:13:20.422824",
     "exception": false,
     "start_time": "2023-03-11T22:13:20.166266",
     "status": "completed"
    },
    "tags": []
   },
   "source": [
    "Traditional NLP approaches (TF-IDF vectorization, word embeddings, Bag-Of-Words)  have not brought much for the NLI task of differentiation between relation of 2 sentences. Sentiment analysis has been also less predictive than expected. \n",
    "\n",
    "The best prediction could be achieved with the help of multi_nli and RoBERTa. Applying it to only English samples did not approve the performance significantly. However applying prior translation might be a good step in the standartization pipelene for other NLP tasks."
   ]
  }
 ],
 "metadata": {
  "kernelspec": {
   "display_name": "Python 3",
   "language": "python",
   "name": "python3"
  },
  "language_info": {
   "codemirror_mode": {
    "name": "ipython",
    "version": 3
   },
   "file_extension": ".py",
   "mimetype": "text/x-python",
   "name": "python",
   "nbconvert_exporter": "python",
   "pygments_lexer": "ipython3",
   "version": "3.7.12"
  },
  "papermill": {
   "default_parameters": {},
   "duration": 2275.892022,
   "end_time": "2023-03-11T22:13:23.506210",
   "environment_variables": {},
   "exception": null,
   "input_path": "__notebook__.ipynb",
   "output_path": "__notebook__.ipynb",
   "parameters": {},
   "start_time": "2023-03-11T21:35:27.614188",
   "version": "2.4.0"
  },
  "widgets": {
   "application/vnd.jupyter.widget-state+json": {
    "state": {
     "017222bb8aee4ca9b58b294d4f3428b9": {
      "model_module": "@jupyter-widgets/base",
      "model_module_version": "1.2.0",
      "model_name": "LayoutModel",
      "state": {
       "_model_module": "@jupyter-widgets/base",
       "_model_module_version": "1.2.0",
       "_model_name": "LayoutModel",
       "_view_count": null,
       "_view_module": "@jupyter-widgets/base",
       "_view_module_version": "1.2.0",
       "_view_name": "LayoutView",
       "align_content": null,
       "align_items": null,
       "align_self": null,
       "border": null,
       "bottom": null,
       "display": null,
       "flex": null,
       "flex_flow": null,
       "grid_area": null,
       "grid_auto_columns": null,
       "grid_auto_flow": null,
       "grid_auto_rows": null,
       "grid_column": null,
       "grid_gap": null,
       "grid_row": null,
       "grid_template_areas": null,
       "grid_template_columns": null,
       "grid_template_rows": null,
       "height": null,
       "justify_content": null,
       "justify_items": null,
       "left": null,
       "margin": null,
       "max_height": null,
       "max_width": null,
       "min_height": null,
       "min_width": null,
       "object_fit": null,
       "object_position": null,
       "order": null,
       "overflow": null,
       "overflow_x": null,
       "overflow_y": null,
       "padding": null,
       "right": null,
       "top": null,
       "visibility": null,
       "width": null
      }
     },
     "045f560a921d47c2b9635823a5c21fca": {
      "model_module": "@jupyter-widgets/controls",
      "model_module_version": "1.5.0",
      "model_name": "HTMLModel",
      "state": {
       "_dom_classes": [],
       "_model_module": "@jupyter-widgets/controls",
       "_model_module_version": "1.5.0",
       "_model_name": "HTMLModel",
       "_view_count": null,
       "_view_module": "@jupyter-widgets/controls",
       "_view_module_version": "1.5.0",
       "_view_name": "HTMLView",
       "description": "",
       "description_tooltip": null,
       "layout": "IPY_MODEL_f1e9e41e6b44481f8faa9e5b61136c77",
       "placeholder": "​",
       "style": "IPY_MODEL_fafc32bdae0c45f8adae7345a50c5b1f",
       "value": " 734/734 [00:00&lt;00:00, 43.0kB/s]"
      }
     },
     "076cc9e1107a4499b2be2b0646fc7217": {
      "model_module": "@jupyter-widgets/controls",
      "model_module_version": "1.5.0",
      "model_name": "FloatProgressModel",
      "state": {
       "_dom_classes": [],
       "_model_module": "@jupyter-widgets/controls",
       "_model_module_version": "1.5.0",
       "_model_name": "FloatProgressModel",
       "_view_count": null,
       "_view_module": "@jupyter-widgets/controls",
       "_view_module_version": "1.5.0",
       "_view_name": "ProgressView",
       "bar_style": "success",
       "description": "",
       "description_tooltip": null,
       "layout": "IPY_MODEL_9e3bc1a94fad4c29823091b4f24b9f91",
       "max": 734.0,
       "min": 0.0,
       "orientation": "horizontal",
       "style": "IPY_MODEL_5269a9f350df4b928271b21d3e6e812e",
       "value": 734.0
      }
     },
     "0be50ac1a9d64caca65230ea36805c0f": {
      "model_module": "@jupyter-widgets/base",
      "model_module_version": "1.2.0",
      "model_name": "LayoutModel",
      "state": {
       "_model_module": "@jupyter-widgets/base",
       "_model_module_version": "1.2.0",
       "_model_name": "LayoutModel",
       "_view_count": null,
       "_view_module": "@jupyter-widgets/base",
       "_view_module_version": "1.2.0",
       "_view_name": "LayoutView",
       "align_content": null,
       "align_items": null,
       "align_self": null,
       "border": null,
       "bottom": null,
       "display": null,
       "flex": null,
       "flex_flow": null,
       "grid_area": null,
       "grid_auto_columns": null,
       "grid_auto_flow": null,
       "grid_auto_rows": null,
       "grid_column": null,
       "grid_gap": null,
       "grid_row": null,
       "grid_template_areas": null,
       "grid_template_columns": null,
       "grid_template_rows": null,
       "height": null,
       "justify_content": null,
       "justify_items": null,
       "left": null,
       "margin": null,
       "max_height": null,
       "max_width": null,
       "min_height": null,
       "min_width": null,
       "object_fit": null,
       "object_position": null,
       "order": null,
       "overflow": null,
       "overflow_x": null,
       "overflow_y": null,
       "padding": null,
       "right": null,
       "top": null,
       "visibility": null,
       "width": null
      }
     },
     "0ec6a3c22110444998dd8fc340b541b8": {
      "model_module": "@jupyter-widgets/base",
      "model_module_version": "1.2.0",
      "model_name": "LayoutModel",
      "state": {
       "_model_module": "@jupyter-widgets/base",
       "_model_module_version": "1.2.0",
       "_model_name": "LayoutModel",
       "_view_count": null,
       "_view_module": "@jupyter-widgets/base",
       "_view_module_version": "1.2.0",
       "_view_name": "LayoutView",
       "align_content": null,
       "align_items": null,
       "align_self": null,
       "border": null,
       "bottom": null,
       "display": null,
       "flex": null,
       "flex_flow": null,
       "grid_area": null,
       "grid_auto_columns": null,
       "grid_auto_flow": null,
       "grid_auto_rows": null,
       "grid_column": null,
       "grid_gap": null,
       "grid_row": null,
       "grid_template_areas": null,
       "grid_template_columns": null,
       "grid_template_rows": null,
       "height": null,
       "justify_content": null,
       "justify_items": null,
       "left": null,
       "margin": null,
       "max_height": null,
       "max_width": null,
       "min_height": null,
       "min_width": null,
       "object_fit": null,
       "object_position": null,
       "order": null,
       "overflow": null,
       "overflow_x": null,
       "overflow_y": null,
       "padding": null,
       "right": null,
       "top": null,
       "visibility": null,
       "width": null
      }
     },
     "1414684eb76a41399167371ea39b4a13": {
      "model_module": "@jupyter-widgets/controls",
      "model_module_version": "1.5.0",
      "model_name": "DescriptionStyleModel",
      "state": {
       "_model_module": "@jupyter-widgets/controls",
       "_model_module_version": "1.5.0",
       "_model_name": "DescriptionStyleModel",
       "_view_count": null,
       "_view_module": "@jupyter-widgets/base",
       "_view_module_version": "1.2.0",
       "_view_name": "StyleView",
       "description_width": ""
      }
     },
     "1451e6792b714b37a7a15d077d16d0ac": {
      "model_module": "@jupyter-widgets/base",
      "model_module_version": "1.2.0",
      "model_name": "LayoutModel",
      "state": {
       "_model_module": "@jupyter-widgets/base",
       "_model_module_version": "1.2.0",
       "_model_name": "LayoutModel",
       "_view_count": null,
       "_view_module": "@jupyter-widgets/base",
       "_view_module_version": "1.2.0",
       "_view_name": "LayoutView",
       "align_content": null,
       "align_items": null,
       "align_self": null,
       "border": null,
       "bottom": null,
       "display": null,
       "flex": null,
       "flex_flow": null,
       "grid_area": null,
       "grid_auto_columns": null,
       "grid_auto_flow": null,
       "grid_auto_rows": null,
       "grid_column": null,
       "grid_gap": null,
       "grid_row": null,
       "grid_template_areas": null,
       "grid_template_columns": null,
       "grid_template_rows": null,
       "height": null,
       "justify_content": null,
       "justify_items": null,
       "left": null,
       "margin": null,
       "max_height": null,
       "max_width": null,
       "min_height": null,
       "min_width": null,
       "object_fit": null,
       "object_position": null,
       "order": null,
       "overflow": null,
       "overflow_x": null,
       "overflow_y": null,
       "padding": null,
       "right": null,
       "top": null,
       "visibility": null,
       "width": null
      }
     },
     "154f0a9c38ef4739b8f054bec23b5615": {
      "model_module": "@jupyter-widgets/controls",
      "model_module_version": "1.5.0",
      "model_name": "ProgressStyleModel",
      "state": {
       "_model_module": "@jupyter-widgets/controls",
       "_model_module_version": "1.5.0",
       "_model_name": "ProgressStyleModel",
       "_view_count": null,
       "_view_module": "@jupyter-widgets/base",
       "_view_module_version": "1.2.0",
       "_view_name": "StyleView",
       "bar_color": null,
       "description_width": ""
      }
     },
     "15786c85d20d47dc8064acbd9ecd89ca": {
      "model_module": "@jupyter-widgets/base",
      "model_module_version": "1.2.0",
      "model_name": "LayoutModel",
      "state": {
       "_model_module": "@jupyter-widgets/base",
       "_model_module_version": "1.2.0",
       "_model_name": "LayoutModel",
       "_view_count": null,
       "_view_module": "@jupyter-widgets/base",
       "_view_module_version": "1.2.0",
       "_view_name": "LayoutView",
       "align_content": null,
       "align_items": null,
       "align_self": null,
       "border": null,
       "bottom": null,
       "display": null,
       "flex": null,
       "flex_flow": null,
       "grid_area": null,
       "grid_auto_columns": null,
       "grid_auto_flow": null,
       "grid_auto_rows": null,
       "grid_column": null,
       "grid_gap": null,
       "grid_row": null,
       "grid_template_areas": null,
       "grid_template_columns": null,
       "grid_template_rows": null,
       "height": null,
       "justify_content": null,
       "justify_items": null,
       "left": null,
       "margin": null,
       "max_height": null,
       "max_width": null,
       "min_height": null,
       "min_width": null,
       "object_fit": null,
       "object_position": null,
       "order": null,
       "overflow": null,
       "overflow_x": null,
       "overflow_y": null,
       "padding": null,
       "right": null,
       "top": null,
       "visibility": null,
       "width": null
      }
     },
     "1717a63fac634bc690dfdec1a792eeb9": {
      "model_module": "@jupyter-widgets/base",
      "model_module_version": "1.2.0",
      "model_name": "LayoutModel",
      "state": {
       "_model_module": "@jupyter-widgets/base",
       "_model_module_version": "1.2.0",
       "_model_name": "LayoutModel",
       "_view_count": null,
       "_view_module": "@jupyter-widgets/base",
       "_view_module_version": "1.2.0",
       "_view_name": "LayoutView",
       "align_content": null,
       "align_items": null,
       "align_self": null,
       "border": null,
       "bottom": null,
       "display": null,
       "flex": null,
       "flex_flow": null,
       "grid_area": null,
       "grid_auto_columns": null,
       "grid_auto_flow": null,
       "grid_auto_rows": null,
       "grid_column": null,
       "grid_gap": null,
       "grid_row": null,
       "grid_template_areas": null,
       "grid_template_columns": null,
       "grid_template_rows": null,
       "height": null,
       "justify_content": null,
       "justify_items": null,
       "left": null,
       "margin": null,
       "max_height": null,
       "max_width": null,
       "min_height": null,
       "min_width": null,
       "object_fit": null,
       "object_position": null,
       "order": null,
       "overflow": null,
       "overflow_x": null,
       "overflow_y": null,
       "padding": null,
       "right": null,
       "top": null,
       "visibility": null,
       "width": null
      }
     },
     "18ece0d39aa845c48ebcf1d23302e38f": {
      "model_module": "@jupyter-widgets/base",
      "model_module_version": "1.2.0",
      "model_name": "LayoutModel",
      "state": {
       "_model_module": "@jupyter-widgets/base",
       "_model_module_version": "1.2.0",
       "_model_name": "LayoutModel",
       "_view_count": null,
       "_view_module": "@jupyter-widgets/base",
       "_view_module_version": "1.2.0",
       "_view_name": "LayoutView",
       "align_content": null,
       "align_items": null,
       "align_self": null,
       "border": null,
       "bottom": null,
       "display": null,
       "flex": null,
       "flex_flow": null,
       "grid_area": null,
       "grid_auto_columns": null,
       "grid_auto_flow": null,
       "grid_auto_rows": null,
       "grid_column": null,
       "grid_gap": null,
       "grid_row": null,
       "grid_template_areas": null,
       "grid_template_columns": null,
       "grid_template_rows": null,
       "height": null,
       "justify_content": null,
       "justify_items": null,
       "left": null,
       "margin": null,
       "max_height": null,
       "max_width": null,
       "min_height": null,
       "min_width": null,
       "object_fit": null,
       "object_position": null,
       "order": null,
       "overflow": null,
       "overflow_x": null,
       "overflow_y": null,
       "padding": null,
       "right": null,
       "top": null,
       "visibility": "hidden",
       "width": null
      }
     },
     "19584cbe64024e6ebc5d06bc2266bde6": {
      "model_module": "@jupyter-widgets/controls",
      "model_module_version": "1.5.0",
      "model_name": "HTMLModel",
      "state": {
       "_dom_classes": [],
       "_model_module": "@jupyter-widgets/controls",
       "_model_module_version": "1.5.0",
       "_model_name": "HTMLModel",
       "_view_count": null,
       "_view_module": "@jupyter-widgets/controls",
       "_view_module_version": "1.5.0",
       "_view_name": "HTMLView",
       "description": "",
       "description_tooltip": null,
       "layout": "IPY_MODEL_d767a5c0df2e40a99c1e02e9cb26fbbf",
       "placeholder": "​",
       "style": "IPY_MODEL_841aa550d47942f1be6d7270645f0c02",
       "value": " 150/150 [00:00&lt;00:00, 8.12kB/s]"
      }
     },
     "195e8cc2c927442ea5b1c278998cb511": {
      "model_module": "@jupyter-widgets/controls",
      "model_module_version": "1.5.0",
      "model_name": "DescriptionStyleModel",
      "state": {
       "_model_module": "@jupyter-widgets/controls",
       "_model_module_version": "1.5.0",
       "_model_name": "DescriptionStyleModel",
       "_view_count": null,
       "_view_module": "@jupyter-widgets/base",
       "_view_module_version": "1.2.0",
       "_view_name": "StyleView",
       "description_width": ""
      }
     },
     "1d649a9c8e3d491bb372c91ea1775ca6": {
      "model_module": "@jupyter-widgets/controls",
      "model_module_version": "1.5.0",
      "model_name": "HTMLModel",
      "state": {
       "_dom_classes": [],
       "_model_module": "@jupyter-widgets/controls",
       "_model_module_version": "1.5.0",
       "_model_name": "HTMLModel",
       "_view_count": null,
       "_view_module": "@jupyter-widgets/controls",
       "_view_module_version": "1.5.0",
       "_view_name": "HTMLView",
       "description": "",
       "description_tooltip": null,
       "layout": "IPY_MODEL_c1db657b7be249789dd21747810a3249",
       "placeholder": "​",
       "style": "IPY_MODEL_a546fc4486524de39585186f8bf5275c",
       "value": " 227M/227M [00:07&lt;00:00, 32.3MB/s]"
      }
     },
     "1d7bf606d3414572ae8703e190d60f2b": {
      "model_module": "@jupyter-widgets/controls",
      "model_module_version": "1.5.0",
      "model_name": "DescriptionStyleModel",
      "state": {
       "_model_module": "@jupyter-widgets/controls",
       "_model_module_version": "1.5.0",
       "_model_name": "DescriptionStyleModel",
       "_view_count": null,
       "_view_module": "@jupyter-widgets/base",
       "_view_module_version": "1.2.0",
       "_view_name": "StyleView",
       "description_width": ""
      }
     },
     "1dcb752751de4ee982ee4105d9ebad67": {
      "model_module": "@jupyter-widgets/controls",
      "model_module_version": "1.5.0",
      "model_name": "HTMLModel",
      "state": {
       "_dom_classes": [],
       "_model_module": "@jupyter-widgets/controls",
       "_model_module_version": "1.5.0",
       "_model_name": "HTMLModel",
       "_view_count": null,
       "_view_module": "@jupyter-widgets/controls",
       "_view_module_version": "1.5.0",
       "_view_name": "HTMLView",
       "description": "",
       "description_tooltip": null,
       "layout": "IPY_MODEL_4d7d9a64ccfc4a909c8328f9c832dc4e",
       "placeholder": "​",
       "style": "IPY_MODEL_a32fd772592848d698540cb7e588b0d4",
       "value": " 9726/9815 [00:01&lt;00:00, 7525.51 examples/s]"
      }
     },
     "1f541647a79e4202995e98f456903d1b": {
      "model_module": "@jupyter-widgets/controls",
      "model_module_version": "1.5.0",
      "model_name": "ProgressStyleModel",
      "state": {
       "_model_module": "@jupyter-widgets/controls",
       "_model_module_version": "1.5.0",
       "_model_name": "ProgressStyleModel",
       "_view_count": null,
       "_view_module": "@jupyter-widgets/base",
       "_view_module_version": "1.2.0",
       "_view_name": "StyleView",
       "bar_color": null,
       "description_width": ""
      }
     },
     "1fb6096c65994b9bbf60a27bdbaee2c2": {
      "model_module": "@jupyter-widgets/controls",
      "model_module_version": "1.5.0",
      "model_name": "HTMLModel",
      "state": {
       "_dom_classes": [],
       "_model_module": "@jupyter-widgets/controls",
       "_model_module_version": "1.5.0",
       "_model_name": "HTMLModel",
       "_view_count": null,
       "_view_module": "@jupyter-widgets/controls",
       "_view_module_version": "1.5.0",
       "_view_name": "HTMLView",
       "description": "",
       "description_tooltip": null,
       "layout": "IPY_MODEL_9178bcf53f2f400c863fcdc763142ed6",
       "placeholder": "​",
       "style": "IPY_MODEL_8d3025c08ffa4f3daf4bb1ed146a355c",
       "value": "Generating validation_mismatched split:  98%"
      }
     },
     "1fb860eeb6354d6ca7667e8f31d52b61": {
      "model_module": "@jupyter-widgets/controls",
      "model_module_version": "1.5.0",
      "model_name": "HTMLModel",
      "state": {
       "_dom_classes": [],
       "_model_module": "@jupyter-widgets/controls",
       "_model_module_version": "1.5.0",
       "_model_name": "HTMLModel",
       "_view_count": null,
       "_view_module": "@jupyter-widgets/controls",
       "_view_module_version": "1.5.0",
       "_view_name": "HTMLView",
       "description": "",
       "description_tooltip": null,
       "layout": "IPY_MODEL_0be50ac1a9d64caca65230ea36805c0f",
       "placeholder": "​",
       "style": "IPY_MODEL_b5a040935eb849f8af042e2ac115aab7",
       "value": "Downloading metadata: "
      }
     },
     "21eab2e62c1c4c75bb312dbf7d250917": {
      "model_module": "@jupyter-widgets/controls",
      "model_module_version": "1.5.0",
      "model_name": "FloatProgressModel",
      "state": {
       "_dom_classes": [],
       "_model_module": "@jupyter-widgets/controls",
       "_model_module_version": "1.5.0",
       "_model_name": "FloatProgressModel",
       "_view_count": null,
       "_view_module": "@jupyter-widgets/controls",
       "_view_module_version": "1.5.0",
       "_view_name": "ProgressView",
       "bar_style": "success",
       "description": "",
       "description_tooltip": null,
       "layout": "IPY_MODEL_e70751ea70a04317b221fe307c397a8f",
       "max": 2244296816.0,
       "min": 0.0,
       "orientation": "horizontal",
       "style": "IPY_MODEL_da1d9e06e0de4914955c41a8eb28bfae",
       "value": 2244296816.0
      }
     },
     "244831e074b0454b949cd69bb0610c4f": {
      "model_module": "@jupyter-widgets/controls",
      "model_module_version": "1.5.0",
      "model_name": "DescriptionStyleModel",
      "state": {
       "_model_module": "@jupyter-widgets/controls",
       "_model_module_version": "1.5.0",
       "_model_name": "DescriptionStyleModel",
       "_view_count": null,
       "_view_module": "@jupyter-widgets/base",
       "_view_module_version": "1.2.0",
       "_view_name": "StyleView",
       "description_width": ""
      }
     },
     "26be2f87aa7d45eaa08f6bc550474ad1": {
      "model_module": "@jupyter-widgets/controls",
      "model_module_version": "1.5.0",
      "model_name": "DescriptionStyleModel",
      "state": {
       "_model_module": "@jupyter-widgets/controls",
       "_model_module_version": "1.5.0",
       "_model_name": "DescriptionStyleModel",
       "_view_count": null,
       "_view_module": "@jupyter-widgets/base",
       "_view_module_version": "1.2.0",
       "_view_name": "StyleView",
       "description_width": ""
      }
     },
     "2a4cf11fbc834ba5b2569723c03885d7": {
      "model_module": "@jupyter-widgets/controls",
      "model_module_version": "1.5.0",
      "model_name": "HTMLModel",
      "state": {
       "_dom_classes": [],
       "_model_module": "@jupyter-widgets/controls",
       "_model_module_version": "1.5.0",
       "_model_name": "HTMLModel",
       "_view_count": null,
       "_view_module": "@jupyter-widgets/controls",
       "_view_module_version": "1.5.0",
       "_view_name": "HTMLView",
       "description": "",
       "description_tooltip": null,
       "layout": "IPY_MODEL_5ead7d35141e46c9abcd4180582929ec",
       "placeholder": "​",
       "style": "IPY_MODEL_481d859896c4485ebb823b41d6cf50a8",
       "value": " 5.07M/5.07M [00:00&lt;00:00, 21.9MB/s]"
      }
     },
     "2c33b09c50b842cf97d5c57fa0e0285f": {
      "model_module": "@jupyter-widgets/controls",
      "model_module_version": "1.5.0",
      "model_name": "ProgressStyleModel",
      "state": {
       "_model_module": "@jupyter-widgets/controls",
       "_model_module_version": "1.5.0",
       "_model_name": "ProgressStyleModel",
       "_view_count": null,
       "_view_module": "@jupyter-widgets/base",
       "_view_module_version": "1.2.0",
       "_view_name": "StyleView",
       "bar_color": null,
       "description_width": ""
      }
     },
     "2e9b312c286e41a78432907a1f7cb505": {
      "model_module": "@jupyter-widgets/base",
      "model_module_version": "1.2.0",
      "model_name": "LayoutModel",
      "state": {
       "_model_module": "@jupyter-widgets/base",
       "_model_module_version": "1.2.0",
       "_model_name": "LayoutModel",
       "_view_count": null,
       "_view_module": "@jupyter-widgets/base",
       "_view_module_version": "1.2.0",
       "_view_name": "LayoutView",
       "align_content": null,
       "align_items": null,
       "align_self": null,
       "border": null,
       "bottom": null,
       "display": null,
       "flex": null,
       "flex_flow": null,
       "grid_area": null,
       "grid_auto_columns": null,
       "grid_auto_flow": null,
       "grid_auto_rows": null,
       "grid_column": null,
       "grid_gap": null,
       "grid_row": null,
       "grid_template_areas": null,
       "grid_template_columns": null,
       "grid_template_rows": null,
       "height": null,
       "justify_content": null,
       "justify_items": null,
       "left": null,
       "margin": null,
       "max_height": null,
       "max_width": null,
       "min_height": null,
       "min_width": null,
       "object_fit": null,
       "object_position": null,
       "order": null,
       "overflow": null,
       "overflow_x": null,
       "overflow_y": null,
       "padding": null,
       "right": null,
       "top": null,
       "visibility": null,
       "width": null
      }
     },
     "3072b2a44954466398889eb104d022fb": {
      "model_module": "@jupyter-widgets/controls",
      "model_module_version": "1.5.0",
      "model_name": "HTMLModel",
      "state": {
       "_dom_classes": [],
       "_model_module": "@jupyter-widgets/controls",
       "_model_module_version": "1.5.0",
       "_model_name": "HTMLModel",
       "_view_count": null,
       "_view_module": "@jupyter-widgets/controls",
       "_view_module_version": "1.5.0",
       "_view_name": "HTMLView",
       "description": "",
       "description_tooltip": null,
       "layout": "IPY_MODEL_c126be807e9042d0bc8554b1b5a003ec",
       "placeholder": "​",
       "style": "IPY_MODEL_99836bf8bdaf44a39d5beb3515889e9b",
       "value": "Downloading (…)okenizer_config.json: 100%"
      }
     },
     "30a515d2241c421992a512860deb8c6d": {
      "model_module": "@jupyter-widgets/base",
      "model_module_version": "1.2.0",
      "model_name": "LayoutModel",
      "state": {
       "_model_module": "@jupyter-widgets/base",
       "_model_module_version": "1.2.0",
       "_model_name": "LayoutModel",
       "_view_count": null,
       "_view_module": "@jupyter-widgets/base",
       "_view_module_version": "1.2.0",
       "_view_name": "LayoutView",
       "align_content": null,
       "align_items": null,
       "align_self": null,
       "border": null,
       "bottom": null,
       "display": null,
       "flex": null,
       "flex_flow": null,
       "grid_area": null,
       "grid_auto_columns": null,
       "grid_auto_flow": null,
       "grid_auto_rows": null,
       "grid_column": null,
       "grid_gap": null,
       "grid_row": null,
       "grid_template_areas": null,
       "grid_template_columns": null,
       "grid_template_rows": null,
       "height": null,
       "justify_content": null,
       "justify_items": null,
       "left": null,
       "margin": null,
       "max_height": null,
       "max_width": null,
       "min_height": null,
       "min_width": null,
       "object_fit": null,
       "object_position": null,
       "order": null,
       "overflow": null,
       "overflow_x": null,
       "overflow_y": null,
       "padding": null,
       "right": null,
       "top": null,
       "visibility": null,
       "width": null
      }
     },
     "3391a9545c794d2592898ee8c670c674": {
      "model_module": "@jupyter-widgets/controls",
      "model_module_version": "1.5.0",
      "model_name": "HBoxModel",
      "state": {
       "_dom_classes": [],
       "_model_module": "@jupyter-widgets/controls",
       "_model_module_version": "1.5.0",
       "_model_name": "HBoxModel",
       "_view_count": null,
       "_view_module": "@jupyter-widgets/controls",
       "_view_module_version": "1.5.0",
       "_view_name": "HBoxView",
       "box_style": "",
       "children": [
        "IPY_MODEL_60ce1e8359034449aea994a5cd2806a4",
        "IPY_MODEL_de91681659ef40a4a3546db59f17f097",
        "IPY_MODEL_5268c2d3d0f24acbab71094ef4207903"
       ],
       "layout": "IPY_MODEL_dd4f5f0767944e248b5645c79dbbdee8"
      }
     },
     "36490cc396084751873825a4d2dcd1b5": {
      "model_module": "@jupyter-widgets/controls",
      "model_module_version": "1.5.0",
      "model_name": "ProgressStyleModel",
      "state": {
       "_model_module": "@jupyter-widgets/controls",
       "_model_module_version": "1.5.0",
       "_model_name": "ProgressStyleModel",
       "_view_count": null,
       "_view_module": "@jupyter-widgets/base",
       "_view_module_version": "1.2.0",
       "_view_name": "StyleView",
       "bar_color": null,
       "description_width": ""
      }
     },
     "36a73186fd5f496b853434b2be86620e": {
      "model_module": "@jupyter-widgets/controls",
      "model_module_version": "1.5.0",
      "model_name": "HBoxModel",
      "state": {
       "_dom_classes": [],
       "_model_module": "@jupyter-widgets/controls",
       "_model_module_version": "1.5.0",
       "_model_name": "HBoxModel",
       "_view_count": null,
       "_view_module": "@jupyter-widgets/controls",
       "_view_module_version": "1.5.0",
       "_view_name": "HBoxView",
       "box_style": "",
       "children": [
        "IPY_MODEL_b8ea4849e69f4695a723bad86b4bf426",
        "IPY_MODEL_076cc9e1107a4499b2be2b0646fc7217",
        "IPY_MODEL_045f560a921d47c2b9635823a5c21fca"
       ],
       "layout": "IPY_MODEL_46e8b4ed918e4c3da230525d77ea2fad"
      }
     },
     "37523571d16c45649293f274742fd014": {
      "model_module": "@jupyter-widgets/controls",
      "model_module_version": "1.5.0",
      "model_name": "DescriptionStyleModel",
      "state": {
       "_model_module": "@jupyter-widgets/controls",
       "_model_module_version": "1.5.0",
       "_model_name": "DescriptionStyleModel",
       "_view_count": null,
       "_view_module": "@jupyter-widgets/base",
       "_view_module_version": "1.2.0",
       "_view_name": "StyleView",
       "description_width": ""
      }
     },
     "3b4e9532c1244fc8a78a906d66674484": {
      "model_module": "@jupyter-widgets/controls",
      "model_module_version": "1.5.0",
      "model_name": "HBoxModel",
      "state": {
       "_dom_classes": [],
       "_model_module": "@jupyter-widgets/controls",
       "_model_module_version": "1.5.0",
       "_model_name": "HBoxModel",
       "_view_count": null,
       "_view_module": "@jupyter-widgets/controls",
       "_view_module_version": "1.5.0",
       "_view_name": "HBoxView",
       "box_style": "",
       "children": [
        "IPY_MODEL_3e9c17f0ff5a43989fa235c294782aff",
        "IPY_MODEL_f6bfadaf482c4004bd3a1e888a4bf9cf",
        "IPY_MODEL_19584cbe64024e6ebc5d06bc2266bde6"
       ],
       "layout": "IPY_MODEL_7ce96f28a1f04e108f82b7dcdc3e8219"
      }
     },
     "3e9c17f0ff5a43989fa235c294782aff": {
      "model_module": "@jupyter-widgets/controls",
      "model_module_version": "1.5.0",
      "model_name": "HTMLModel",
      "state": {
       "_dom_classes": [],
       "_model_module": "@jupyter-widgets/controls",
       "_model_module_version": "1.5.0",
       "_model_name": "HTMLModel",
       "_view_count": null,
       "_view_module": "@jupyter-widgets/controls",
       "_view_module_version": "1.5.0",
       "_view_name": "HTMLView",
       "description": "",
       "description_tooltip": null,
       "layout": "IPY_MODEL_f750c9aa686e47289b43d9ef842f3da6",
       "placeholder": "​",
       "style": "IPY_MODEL_b00a78436c944c6abaa2614d4198a0b7",
       "value": "Downloading (…)cial_tokens_map.json: 100%"
      }
     },
     "3f31d55f92fd4be7849477008e183d6b": {
      "model_module": "@jupyter-widgets/controls",
      "model_module_version": "1.5.0",
      "model_name": "DescriptionStyleModel",
      "state": {
       "_model_module": "@jupyter-widgets/controls",
       "_model_module_version": "1.5.0",
       "_model_name": "DescriptionStyleModel",
       "_view_count": null,
       "_view_module": "@jupyter-widgets/base",
       "_view_module_version": "1.2.0",
       "_view_name": "StyleView",
       "description_width": ""
      }
     },
     "3faf2b4723a24c97bc3519853b866e7c": {
      "model_module": "@jupyter-widgets/base",
      "model_module_version": "1.2.0",
      "model_name": "LayoutModel",
      "state": {
       "_model_module": "@jupyter-widgets/base",
       "_model_module_version": "1.2.0",
       "_model_name": "LayoutModel",
       "_view_count": null,
       "_view_module": "@jupyter-widgets/base",
       "_view_module_version": "1.2.0",
       "_view_name": "LayoutView",
       "align_content": null,
       "align_items": null,
       "align_self": null,
       "border": null,
       "bottom": null,
       "display": null,
       "flex": null,
       "flex_flow": null,
       "grid_area": null,
       "grid_auto_columns": null,
       "grid_auto_flow": null,
       "grid_auto_rows": null,
       "grid_column": null,
       "grid_gap": null,
       "grid_row": null,
       "grid_template_areas": null,
       "grid_template_columns": null,
       "grid_template_rows": null,
       "height": null,
       "justify_content": null,
       "justify_items": null,
       "left": null,
       "margin": null,
       "max_height": null,
       "max_width": null,
       "min_height": null,
       "min_width": null,
       "object_fit": null,
       "object_position": null,
       "order": null,
       "overflow": null,
       "overflow_x": null,
       "overflow_y": null,
       "padding": null,
       "right": null,
       "top": null,
       "visibility": null,
       "width": null
      }
     },
     "46e8b4ed918e4c3da230525d77ea2fad": {
      "model_module": "@jupyter-widgets/base",
      "model_module_version": "1.2.0",
      "model_name": "LayoutModel",
      "state": {
       "_model_module": "@jupyter-widgets/base",
       "_model_module_version": "1.2.0",
       "_model_name": "LayoutModel",
       "_view_count": null,
       "_view_module": "@jupyter-widgets/base",
       "_view_module_version": "1.2.0",
       "_view_name": "LayoutView",
       "align_content": null,
       "align_items": null,
       "align_self": null,
       "border": null,
       "bottom": null,
       "display": null,
       "flex": null,
       "flex_flow": null,
       "grid_area": null,
       "grid_auto_columns": null,
       "grid_auto_flow": null,
       "grid_auto_rows": null,
       "grid_column": null,
       "grid_gap": null,
       "grid_row": null,
       "grid_template_areas": null,
       "grid_template_columns": null,
       "grid_template_rows": null,
       "height": null,
       "justify_content": null,
       "justify_items": null,
       "left": null,
       "margin": null,
       "max_height": null,
       "max_width": null,
       "min_height": null,
       "min_width": null,
       "object_fit": null,
       "object_position": null,
       "order": null,
       "overflow": null,
       "overflow_x": null,
       "overflow_y": null,
       "padding": null,
       "right": null,
       "top": null,
       "visibility": null,
       "width": null
      }
     },
     "479edfb557f84c9099e224fdf96c02d4": {
      "model_module": "@jupyter-widgets/controls",
      "model_module_version": "1.5.0",
      "model_name": "HTMLModel",
      "state": {
       "_dom_classes": [],
       "_model_module": "@jupyter-widgets/controls",
       "_model_module_version": "1.5.0",
       "_model_name": "HTMLModel",
       "_view_count": null,
       "_view_module": "@jupyter-widgets/controls",
       "_view_module_version": "1.5.0",
       "_view_name": "HTMLView",
       "description": "",
       "description_tooltip": null,
       "layout": "IPY_MODEL_ed8b693a6ee141b4b0f1373a836dad49",
       "placeholder": "​",
       "style": "IPY_MODEL_1d7bf606d3414572ae8703e190d60f2b",
       "value": " 9650/9832 [00:01&lt;00:00, 7545.98 examples/s]"
      }
     },
     "481d859896c4485ebb823b41d6cf50a8": {
      "model_module": "@jupyter-widgets/controls",
      "model_module_version": "1.5.0",
      "model_name": "DescriptionStyleModel",
      "state": {
       "_model_module": "@jupyter-widgets/controls",
       "_model_module_version": "1.5.0",
       "_model_name": "DescriptionStyleModel",
       "_view_count": null,
       "_view_module": "@jupyter-widgets/base",
       "_view_module_version": "1.2.0",
       "_view_name": "StyleView",
       "description_width": ""
      }
     },
     "4a48d5ef7e5e4e258c44d465675d1c24": {
      "model_module": "@jupyter-widgets/controls",
      "model_module_version": "1.5.0",
      "model_name": "FloatProgressModel",
      "state": {
       "_dom_classes": [],
       "_model_module": "@jupyter-widgets/controls",
       "_model_module_version": "1.5.0",
       "_model_name": "FloatProgressModel",
       "_view_count": null,
       "_view_module": "@jupyter-widgets/controls",
       "_view_module_version": "1.5.0",
       "_view_name": "ProgressView",
       "bar_style": "",
       "description": "",
       "description_tooltip": null,
       "layout": "IPY_MODEL_1717a63fac634bc690dfdec1a792eeb9",
       "max": 9832.0,
       "min": 0.0,
       "orientation": "horizontal",
       "style": "IPY_MODEL_1f541647a79e4202995e98f456903d1b",
       "value": 9832.0
      }
     },
     "4bf659949f004c1e96315778a81cfef8": {
      "model_module": "@jupyter-widgets/base",
      "model_module_version": "1.2.0",
      "model_name": "LayoutModel",
      "state": {
       "_model_module": "@jupyter-widgets/base",
       "_model_module_version": "1.2.0",
       "_model_name": "LayoutModel",
       "_view_count": null,
       "_view_module": "@jupyter-widgets/base",
       "_view_module_version": "1.2.0",
       "_view_name": "LayoutView",
       "align_content": null,
       "align_items": null,
       "align_self": null,
       "border": null,
       "bottom": null,
       "display": null,
       "flex": null,
       "flex_flow": null,
       "grid_area": null,
       "grid_auto_columns": null,
       "grid_auto_flow": null,
       "grid_auto_rows": null,
       "grid_column": null,
       "grid_gap": null,
       "grid_row": null,
       "grid_template_areas": null,
       "grid_template_columns": null,
       "grid_template_rows": null,
       "height": null,
       "justify_content": null,
       "justify_items": null,
       "left": null,
       "margin": null,
       "max_height": null,
       "max_width": null,
       "min_height": null,
       "min_width": null,
       "object_fit": null,
       "object_position": null,
       "order": null,
       "overflow": null,
       "overflow_x": null,
       "overflow_y": null,
       "padding": null,
       "right": null,
       "top": null,
       "visibility": null,
       "width": null
      }
     },
     "4d7d9a64ccfc4a909c8328f9c832dc4e": {
      "model_module": "@jupyter-widgets/base",
      "model_module_version": "1.2.0",
      "model_name": "LayoutModel",
      "state": {
       "_model_module": "@jupyter-widgets/base",
       "_model_module_version": "1.2.0",
       "_model_name": "LayoutModel",
       "_view_count": null,
       "_view_module": "@jupyter-widgets/base",
       "_view_module_version": "1.2.0",
       "_view_name": "LayoutView",
       "align_content": null,
       "align_items": null,
       "align_self": null,
       "border": null,
       "bottom": null,
       "display": null,
       "flex": null,
       "flex_flow": null,
       "grid_area": null,
       "grid_auto_columns": null,
       "grid_auto_flow": null,
       "grid_auto_rows": null,
       "grid_column": null,
       "grid_gap": null,
       "grid_row": null,
       "grid_template_areas": null,
       "grid_template_columns": null,
       "grid_template_rows": null,
       "height": null,
       "justify_content": null,
       "justify_items": null,
       "left": null,
       "margin": null,
       "max_height": null,
       "max_width": null,
       "min_height": null,
       "min_width": null,
       "object_fit": null,
       "object_position": null,
       "order": null,
       "overflow": null,
       "overflow_x": null,
       "overflow_y": null,
       "padding": null,
       "right": null,
       "top": null,
       "visibility": null,
       "width": null
      }
     },
     "525ba64403df476ea597363312b87efd": {
      "model_module": "@jupyter-widgets/base",
      "model_module_version": "1.2.0",
      "model_name": "LayoutModel",
      "state": {
       "_model_module": "@jupyter-widgets/base",
       "_model_module_version": "1.2.0",
       "_model_name": "LayoutModel",
       "_view_count": null,
       "_view_module": "@jupyter-widgets/base",
       "_view_module_version": "1.2.0",
       "_view_name": "LayoutView",
       "align_content": null,
       "align_items": null,
       "align_self": null,
       "border": null,
       "bottom": null,
       "display": null,
       "flex": null,
       "flex_flow": null,
       "grid_area": null,
       "grid_auto_columns": null,
       "grid_auto_flow": null,
       "grid_auto_rows": null,
       "grid_column": null,
       "grid_gap": null,
       "grid_row": null,
       "grid_template_areas": null,
       "grid_template_columns": null,
       "grid_template_rows": null,
       "height": null,
       "justify_content": null,
       "justify_items": null,
       "left": null,
       "margin": null,
       "max_height": null,
       "max_width": null,
       "min_height": null,
       "min_width": null,
       "object_fit": null,
       "object_position": null,
       "order": null,
       "overflow": null,
       "overflow_x": null,
       "overflow_y": null,
       "padding": null,
       "right": null,
       "top": null,
       "visibility": null,
       "width": null
      }
     },
     "5268c2d3d0f24acbab71094ef4207903": {
      "model_module": "@jupyter-widgets/controls",
      "model_module_version": "1.5.0",
      "model_name": "HTMLModel",
      "state": {
       "_dom_classes": [],
       "_model_module": "@jupyter-widgets/controls",
       "_model_module_version": "1.5.0",
       "_model_name": "HTMLModel",
       "_view_count": null,
       "_view_module": "@jupyter-widgets/controls",
       "_view_module_version": "1.5.0",
       "_view_name": "HTMLView",
       "description": "",
       "description_tooltip": null,
       "layout": "IPY_MODEL_1451e6792b714b37a7a15d077d16d0ac",
       "placeholder": "​",
       "style": "IPY_MODEL_76e4c0d593d349858b202da2bd73b1d0",
       "value": " 3/3 [00:00&lt;00:00, 124.75it/s]"
      }
     },
     "5269a9f350df4b928271b21d3e6e812e": {
      "model_module": "@jupyter-widgets/controls",
      "model_module_version": "1.5.0",
      "model_name": "ProgressStyleModel",
      "state": {
       "_model_module": "@jupyter-widgets/controls",
       "_model_module_version": "1.5.0",
       "_model_name": "ProgressStyleModel",
       "_view_count": null,
       "_view_module": "@jupyter-widgets/base",
       "_view_module_version": "1.2.0",
       "_view_name": "StyleView",
       "bar_color": null,
       "description_width": ""
      }
     },
     "56b7cc68883c40d79c4fa83b3db50294": {
      "model_module": "@jupyter-widgets/base",
      "model_module_version": "1.2.0",
      "model_name": "LayoutModel",
      "state": {
       "_model_module": "@jupyter-widgets/base",
       "_model_module_version": "1.2.0",
       "_model_name": "LayoutModel",
       "_view_count": null,
       "_view_module": "@jupyter-widgets/base",
       "_view_module_version": "1.2.0",
       "_view_name": "LayoutView",
       "align_content": null,
       "align_items": null,
       "align_self": null,
       "border": null,
       "bottom": null,
       "display": null,
       "flex": null,
       "flex_flow": null,
       "grid_area": null,
       "grid_auto_columns": null,
       "grid_auto_flow": null,
       "grid_auto_rows": null,
       "grid_column": null,
       "grid_gap": null,
       "grid_row": null,
       "grid_template_areas": null,
       "grid_template_columns": null,
       "grid_template_rows": null,
       "height": null,
       "justify_content": null,
       "justify_items": null,
       "left": null,
       "margin": null,
       "max_height": null,
       "max_width": null,
       "min_height": null,
       "min_width": null,
       "object_fit": null,
       "object_position": null,
       "order": null,
       "overflow": null,
       "overflow_x": null,
       "overflow_y": null,
       "padding": null,
       "right": null,
       "top": null,
       "visibility": null,
       "width": null
      }
     },
     "5854e5c340914bb58487b5f1e4bf303d": {
      "model_module": "@jupyter-widgets/controls",
      "model_module_version": "1.5.0",
      "model_name": "HTMLModel",
      "state": {
       "_dom_classes": [],
       "_model_module": "@jupyter-widgets/controls",
       "_model_module_version": "1.5.0",
       "_model_name": "HTMLModel",
       "_view_count": null,
       "_view_module": "@jupyter-widgets/controls",
       "_view_module_version": "1.5.0",
       "_view_name": "HTMLView",
       "description": "",
       "description_tooltip": null,
       "layout": "IPY_MODEL_b412188780ff400982ecfc34ee331c03",
       "placeholder": "​",
       "style": "IPY_MODEL_37523571d16c45649293f274742fd014",
       "value": "Downloading builder script: "
      }
     },
     "58ab094438284b43a93d6a858e81cddf": {
      "model_module": "@jupyter-widgets/controls",
      "model_module_version": "1.5.0",
      "model_name": "ProgressStyleModel",
      "state": {
       "_model_module": "@jupyter-widgets/controls",
       "_model_module_version": "1.5.0",
       "_model_name": "ProgressStyleModel",
       "_view_count": null,
       "_view_module": "@jupyter-widgets/base",
       "_view_module_version": "1.2.0",
       "_view_name": "StyleView",
       "bar_color": null,
       "description_width": ""
      }
     },
     "5aa10739c6a348a6a6cd1c50b83ebaa8": {
      "model_module": "@jupyter-widgets/controls",
      "model_module_version": "1.5.0",
      "model_name": "FloatProgressModel",
      "state": {
       "_dom_classes": [],
       "_model_module": "@jupyter-widgets/controls",
       "_model_module_version": "1.5.0",
       "_model_name": "FloatProgressModel",
       "_view_count": null,
       "_view_module": "@jupyter-widgets/controls",
       "_view_module_version": "1.5.0",
       "_view_name": "ProgressView",
       "bar_style": "success",
       "description": "",
       "description_tooltip": null,
       "layout": "IPY_MODEL_6a834c8172d74e90b72908fd6549fcd0",
       "max": 226850426.0,
       "min": 0.0,
       "orientation": "horizontal",
       "style": "IPY_MODEL_835c843d977648e99e66170cf4b4b1ea",
       "value": 226850426.0
      }
     },
     "5ac6712573604178aaba651b0d2ac23b": {
      "model_module": "@jupyter-widgets/controls",
      "model_module_version": "1.5.0",
      "model_name": "DescriptionStyleModel",
      "state": {
       "_model_module": "@jupyter-widgets/controls",
       "_model_module_version": "1.5.0",
       "_model_name": "DescriptionStyleModel",
       "_view_count": null,
       "_view_module": "@jupyter-widgets/base",
       "_view_module_version": "1.2.0",
       "_view_name": "StyleView",
       "description_width": ""
      }
     },
     "5e663bbc40a14111980fca09b1a6d775": {
      "model_module": "@jupyter-widgets/base",
      "model_module_version": "1.2.0",
      "model_name": "LayoutModel",
      "state": {
       "_model_module": "@jupyter-widgets/base",
       "_model_module_version": "1.2.0",
       "_model_name": "LayoutModel",
       "_view_count": null,
       "_view_module": "@jupyter-widgets/base",
       "_view_module_version": "1.2.0",
       "_view_name": "LayoutView",
       "align_content": null,
       "align_items": null,
       "align_self": null,
       "border": null,
       "bottom": null,
       "display": null,
       "flex": null,
       "flex_flow": null,
       "grid_area": null,
       "grid_auto_columns": null,
       "grid_auto_flow": null,
       "grid_auto_rows": null,
       "grid_column": null,
       "grid_gap": null,
       "grid_row": null,
       "grid_template_areas": null,
       "grid_template_columns": null,
       "grid_template_rows": null,
       "height": null,
       "justify_content": null,
       "justify_items": null,
       "left": null,
       "margin": null,
       "max_height": null,
       "max_width": null,
       "min_height": null,
       "min_width": null,
       "object_fit": null,
       "object_position": null,
       "order": null,
       "overflow": null,
       "overflow_x": null,
       "overflow_y": null,
       "padding": null,
       "right": null,
       "top": null,
       "visibility": null,
       "width": null
      }
     },
     "5ead7d35141e46c9abcd4180582929ec": {
      "model_module": "@jupyter-widgets/base",
      "model_module_version": "1.2.0",
      "model_name": "LayoutModel",
      "state": {
       "_model_module": "@jupyter-widgets/base",
       "_model_module_version": "1.2.0",
       "_model_name": "LayoutModel",
       "_view_count": null,
       "_view_module": "@jupyter-widgets/base",
       "_view_module_version": "1.2.0",
       "_view_name": "LayoutView",
       "align_content": null,
       "align_items": null,
       "align_self": null,
       "border": null,
       "bottom": null,
       "display": null,
       "flex": null,
       "flex_flow": null,
       "grid_area": null,
       "grid_auto_columns": null,
       "grid_auto_flow": null,
       "grid_auto_rows": null,
       "grid_column": null,
       "grid_gap": null,
       "grid_row": null,
       "grid_template_areas": null,
       "grid_template_columns": null,
       "grid_template_rows": null,
       "height": null,
       "justify_content": null,
       "justify_items": null,
       "left": null,
       "margin": null,
       "max_height": null,
       "max_width": null,
       "min_height": null,
       "min_width": null,
       "object_fit": null,
       "object_position": null,
       "order": null,
       "overflow": null,
       "overflow_x": null,
       "overflow_y": null,
       "padding": null,
       "right": null,
       "top": null,
       "visibility": null,
       "width": null
      }
     },
     "60ce1e8359034449aea994a5cd2806a4": {
      "model_module": "@jupyter-widgets/controls",
      "model_module_version": "1.5.0",
      "model_name": "HTMLModel",
      "state": {
       "_dom_classes": [],
       "_model_module": "@jupyter-widgets/controls",
       "_model_module_version": "1.5.0",
       "_model_name": "HTMLModel",
       "_view_count": null,
       "_view_module": "@jupyter-widgets/controls",
       "_view_module_version": "1.5.0",
       "_view_name": "HTMLView",
       "description": "",
       "description_tooltip": null,
       "layout": "IPY_MODEL_6c62e43e98fd4cd8b1a3b132ba63c973",
       "placeholder": "​",
       "style": "IPY_MODEL_7d9cd97ed0224d118511d22ffbc77085",
       "value": "100%"
      }
     },
     "63fe4cc439734dc0bbb292cd81079dfd": {
      "model_module": "@jupyter-widgets/base",
      "model_module_version": "1.2.0",
      "model_name": "LayoutModel",
      "state": {
       "_model_module": "@jupyter-widgets/base",
       "_model_module_version": "1.2.0",
       "_model_name": "LayoutModel",
       "_view_count": null,
       "_view_module": "@jupyter-widgets/base",
       "_view_module_version": "1.2.0",
       "_view_name": "LayoutView",
       "align_content": null,
       "align_items": null,
       "align_self": null,
       "border": null,
       "bottom": null,
       "display": null,
       "flex": null,
       "flex_flow": null,
       "grid_area": null,
       "grid_auto_columns": null,
       "grid_auto_flow": null,
       "grid_auto_rows": null,
       "grid_column": null,
       "grid_gap": null,
       "grid_row": null,
       "grid_template_areas": null,
       "grid_template_columns": null,
       "grid_template_rows": null,
       "height": null,
       "justify_content": null,
       "justify_items": null,
       "left": null,
       "margin": null,
       "max_height": null,
       "max_width": null,
       "min_height": null,
       "min_width": null,
       "object_fit": null,
       "object_position": null,
       "order": null,
       "overflow": null,
       "overflow_x": null,
       "overflow_y": null,
       "padding": null,
       "right": null,
       "top": null,
       "visibility": null,
       "width": null
      }
     },
     "655f53bc166e42f8a91e1f45a474114b": {
      "model_module": "@jupyter-widgets/base",
      "model_module_version": "1.2.0",
      "model_name": "LayoutModel",
      "state": {
       "_model_module": "@jupyter-widgets/base",
       "_model_module_version": "1.2.0",
       "_model_name": "LayoutModel",
       "_view_count": null,
       "_view_module": "@jupyter-widgets/base",
       "_view_module_version": "1.2.0",
       "_view_name": "LayoutView",
       "align_content": null,
       "align_items": null,
       "align_self": null,
       "border": null,
       "bottom": null,
       "display": null,
       "flex": null,
       "flex_flow": null,
       "grid_area": null,
       "grid_auto_columns": null,
       "grid_auto_flow": null,
       "grid_auto_rows": null,
       "grid_column": null,
       "grid_gap": null,
       "grid_row": null,
       "grid_template_areas": null,
       "grid_template_columns": null,
       "grid_template_rows": null,
       "height": null,
       "justify_content": null,
       "justify_items": null,
       "left": null,
       "margin": null,
       "max_height": null,
       "max_width": null,
       "min_height": null,
       "min_width": null,
       "object_fit": null,
       "object_position": null,
       "order": null,
       "overflow": null,
       "overflow_x": null,
       "overflow_y": null,
       "padding": null,
       "right": null,
       "top": null,
       "visibility": null,
       "width": null
      }
     },
     "6a834c8172d74e90b72908fd6549fcd0": {
      "model_module": "@jupyter-widgets/base",
      "model_module_version": "1.2.0",
      "model_name": "LayoutModel",
      "state": {
       "_model_module": "@jupyter-widgets/base",
       "_model_module_version": "1.2.0",
       "_model_name": "LayoutModel",
       "_view_count": null,
       "_view_module": "@jupyter-widgets/base",
       "_view_module_version": "1.2.0",
       "_view_name": "LayoutView",
       "align_content": null,
       "align_items": null,
       "align_self": null,
       "border": null,
       "bottom": null,
       "display": null,
       "flex": null,
       "flex_flow": null,
       "grid_area": null,
       "grid_auto_columns": null,
       "grid_auto_flow": null,
       "grid_auto_rows": null,
       "grid_column": null,
       "grid_gap": null,
       "grid_row": null,
       "grid_template_areas": null,
       "grid_template_columns": null,
       "grid_template_rows": null,
       "height": null,
       "justify_content": null,
       "justify_items": null,
       "left": null,
       "margin": null,
       "max_height": null,
       "max_width": null,
       "min_height": null,
       "min_width": null,
       "object_fit": null,
       "object_position": null,
       "order": null,
       "overflow": null,
       "overflow_x": null,
       "overflow_y": null,
       "padding": null,
       "right": null,
       "top": null,
       "visibility": null,
       "width": null
      }
     },
     "6c62e43e98fd4cd8b1a3b132ba63c973": {
      "model_module": "@jupyter-widgets/base",
      "model_module_version": "1.2.0",
      "model_name": "LayoutModel",
      "state": {
       "_model_module": "@jupyter-widgets/base",
       "_model_module_version": "1.2.0",
       "_model_name": "LayoutModel",
       "_view_count": null,
       "_view_module": "@jupyter-widgets/base",
       "_view_module_version": "1.2.0",
       "_view_name": "LayoutView",
       "align_content": null,
       "align_items": null,
       "align_self": null,
       "border": null,
       "bottom": null,
       "display": null,
       "flex": null,
       "flex_flow": null,
       "grid_area": null,
       "grid_auto_columns": null,
       "grid_auto_flow": null,
       "grid_auto_rows": null,
       "grid_column": null,
       "grid_gap": null,
       "grid_row": null,
       "grid_template_areas": null,
       "grid_template_columns": null,
       "grid_template_rows": null,
       "height": null,
       "justify_content": null,
       "justify_items": null,
       "left": null,
       "margin": null,
       "max_height": null,
       "max_width": null,
       "min_height": null,
       "min_width": null,
       "object_fit": null,
       "object_position": null,
       "order": null,
       "overflow": null,
       "overflow_x": null,
       "overflow_y": null,
       "padding": null,
       "right": null,
       "top": null,
       "visibility": null,
       "width": null
      }
     },
     "6d1c55908add4370b91e160f26be1de9": {
      "model_module": "@jupyter-widgets/controls",
      "model_module_version": "1.5.0",
      "model_name": "FloatProgressModel",
      "state": {
       "_dom_classes": [],
       "_model_module": "@jupyter-widgets/controls",
       "_model_module_version": "1.5.0",
       "_model_name": "FloatProgressModel",
       "_view_count": null,
       "_view_module": "@jupyter-widgets/controls",
       "_view_module_version": "1.5.0",
       "_view_name": "ProgressView",
       "bar_style": "",
       "description": "",
       "description_tooltip": null,
       "layout": "IPY_MODEL_3faf2b4723a24c97bc3519853b866e7c",
       "max": 9815.0,
       "min": 0.0,
       "orientation": "horizontal",
       "style": "IPY_MODEL_787e1f17acb54ab8ba2e444034600f5d",
       "value": 9815.0
      }
     },
     "76e4c0d593d349858b202da2bd73b1d0": {
      "model_module": "@jupyter-widgets/controls",
      "model_module_version": "1.5.0",
      "model_name": "DescriptionStyleModel",
      "state": {
       "_model_module": "@jupyter-widgets/controls",
       "_model_module_version": "1.5.0",
       "_model_name": "DescriptionStyleModel",
       "_view_count": null,
       "_view_module": "@jupyter-widgets/base",
       "_view_module_version": "1.2.0",
       "_view_name": "StyleView",
       "description_width": ""
      }
     },
     "787e1f17acb54ab8ba2e444034600f5d": {
      "model_module": "@jupyter-widgets/controls",
      "model_module_version": "1.5.0",
      "model_name": "ProgressStyleModel",
      "state": {
       "_model_module": "@jupyter-widgets/controls",
       "_model_module_version": "1.5.0",
       "_model_name": "ProgressStyleModel",
       "_view_count": null,
       "_view_module": "@jupyter-widgets/base",
       "_view_module_version": "1.2.0",
       "_view_name": "StyleView",
       "bar_color": null,
       "description_width": ""
      }
     },
     "79945f7e58b049f5bcb5e181ec4025e1": {
      "model_module": "@jupyter-widgets/controls",
      "model_module_version": "1.5.0",
      "model_name": "DescriptionStyleModel",
      "state": {
       "_model_module": "@jupyter-widgets/controls",
       "_model_module_version": "1.5.0",
       "_model_name": "DescriptionStyleModel",
       "_view_count": null,
       "_view_module": "@jupyter-widgets/base",
       "_view_module_version": "1.2.0",
       "_view_name": "StyleView",
       "description_width": ""
      }
     },
     "7b3d6099226b47bfafeb1090f995cb06": {
      "model_module": "@jupyter-widgets/base",
      "model_module_version": "1.2.0",
      "model_name": "LayoutModel",
      "state": {
       "_model_module": "@jupyter-widgets/base",
       "_model_module_version": "1.2.0",
       "_model_name": "LayoutModel",
       "_view_count": null,
       "_view_module": "@jupyter-widgets/base",
       "_view_module_version": "1.2.0",
       "_view_name": "LayoutView",
       "align_content": null,
       "align_items": null,
       "align_self": null,
       "border": null,
       "bottom": null,
       "display": null,
       "flex": null,
       "flex_flow": null,
       "grid_area": null,
       "grid_auto_columns": null,
       "grid_auto_flow": null,
       "grid_auto_rows": null,
       "grid_column": null,
       "grid_gap": null,
       "grid_row": null,
       "grid_template_areas": null,
       "grid_template_columns": null,
       "grid_template_rows": null,
       "height": null,
       "justify_content": null,
       "justify_items": null,
       "left": null,
       "margin": null,
       "max_height": null,
       "max_width": null,
       "min_height": null,
       "min_width": null,
       "object_fit": null,
       "object_position": null,
       "order": null,
       "overflow": null,
       "overflow_x": null,
       "overflow_y": null,
       "padding": null,
       "right": null,
       "top": null,
       "visibility": null,
       "width": null
      }
     },
     "7ce96f28a1f04e108f82b7dcdc3e8219": {
      "model_module": "@jupyter-widgets/base",
      "model_module_version": "1.2.0",
      "model_name": "LayoutModel",
      "state": {
       "_model_module": "@jupyter-widgets/base",
       "_model_module_version": "1.2.0",
       "_model_name": "LayoutModel",
       "_view_count": null,
       "_view_module": "@jupyter-widgets/base",
       "_view_module_version": "1.2.0",
       "_view_name": "LayoutView",
       "align_content": null,
       "align_items": null,
       "align_self": null,
       "border": null,
       "bottom": null,
       "display": null,
       "flex": null,
       "flex_flow": null,
       "grid_area": null,
       "grid_auto_columns": null,
       "grid_auto_flow": null,
       "grid_auto_rows": null,
       "grid_column": null,
       "grid_gap": null,
       "grid_row": null,
       "grid_template_areas": null,
       "grid_template_columns": null,
       "grid_template_rows": null,
       "height": null,
       "justify_content": null,
       "justify_items": null,
       "left": null,
       "margin": null,
       "max_height": null,
       "max_width": null,
       "min_height": null,
       "min_width": null,
       "object_fit": null,
       "object_position": null,
       "order": null,
       "overflow": null,
       "overflow_x": null,
       "overflow_y": null,
       "padding": null,
       "right": null,
       "top": null,
       "visibility": null,
       "width": null
      }
     },
     "7d9cd97ed0224d118511d22ffbc77085": {
      "model_module": "@jupyter-widgets/controls",
      "model_module_version": "1.5.0",
      "model_name": "DescriptionStyleModel",
      "state": {
       "_model_module": "@jupyter-widgets/controls",
       "_model_module_version": "1.5.0",
       "_model_name": "DescriptionStyleModel",
       "_view_count": null,
       "_view_module": "@jupyter-widgets/base",
       "_view_module_version": "1.2.0",
       "_view_name": "StyleView",
       "description_width": ""
      }
     },
     "7edf9889f3f04f6486358d1bd66d00fa": {
      "model_module": "@jupyter-widgets/controls",
      "model_module_version": "1.5.0",
      "model_name": "HTMLModel",
      "state": {
       "_dom_classes": [],
       "_model_module": "@jupyter-widgets/controls",
       "_model_module_version": "1.5.0",
       "_model_name": "HTMLModel",
       "_view_count": null,
       "_view_module": "@jupyter-widgets/controls",
       "_view_module_version": "1.5.0",
       "_view_name": "HTMLView",
       "description": "",
       "description_tooltip": null,
       "layout": "IPY_MODEL_7b3d6099226b47bfafeb1090f995cb06",
       "placeholder": "​",
       "style": "IPY_MODEL_244831e074b0454b949cd69bb0610c4f",
       "value": " 5.14k/? [00:00&lt;00:00, 274kB/s]"
      }
     },
     "83153bfe70bd49d6bf7753e46fd490b5": {
      "model_module": "@jupyter-widgets/controls",
      "model_module_version": "1.5.0",
      "model_name": "DescriptionStyleModel",
      "state": {
       "_model_module": "@jupyter-widgets/controls",
       "_model_module_version": "1.5.0",
       "_model_name": "DescriptionStyleModel",
       "_view_count": null,
       "_view_module": "@jupyter-widgets/base",
       "_view_module_version": "1.2.0",
       "_view_name": "StyleView",
       "description_width": ""
      }
     },
     "8342588f6f224c2eb8611ed4788df184": {
      "model_module": "@jupyter-widgets/controls",
      "model_module_version": "1.5.0",
      "model_name": "HBoxModel",
      "state": {
       "_dom_classes": [],
       "_model_module": "@jupyter-widgets/controls",
       "_model_module_version": "1.5.0",
       "_model_name": "HBoxModel",
       "_view_count": null,
       "_view_module": "@jupyter-widgets/controls",
       "_view_module_version": "1.5.0",
       "_view_name": "HBoxView",
       "box_style": "",
       "children": [
        "IPY_MODEL_df6983e785a04e78bf9bb613d002a5a9",
        "IPY_MODEL_8fc83f3e151d4347ad5b12249a29187e",
        "IPY_MODEL_cc61ce839dda42ea9a12fb48c18a81d5"
       ],
       "layout": "IPY_MODEL_f5be355b99f24477a4c4cea9d04bce73"
      }
     },
     "835c843d977648e99e66170cf4b4b1ea": {
      "model_module": "@jupyter-widgets/controls",
      "model_module_version": "1.5.0",
      "model_name": "ProgressStyleModel",
      "state": {
       "_model_module": "@jupyter-widgets/controls",
       "_model_module_version": "1.5.0",
       "_model_name": "ProgressStyleModel",
       "_view_count": null,
       "_view_module": "@jupyter-widgets/base",
       "_view_module_version": "1.2.0",
       "_view_name": "StyleView",
       "bar_color": null,
       "description_width": ""
      }
     },
     "841aa550d47942f1be6d7270645f0c02": {
      "model_module": "@jupyter-widgets/controls",
      "model_module_version": "1.5.0",
      "model_name": "DescriptionStyleModel",
      "state": {
       "_model_module": "@jupyter-widgets/controls",
       "_model_module_version": "1.5.0",
       "_model_name": "DescriptionStyleModel",
       "_view_count": null,
       "_view_module": "@jupyter-widgets/base",
       "_view_module_version": "1.2.0",
       "_view_name": "StyleView",
       "description_width": ""
      }
     },
     "8424b810ab1b4b0d9c09712b07c84bee": {
      "model_module": "@jupyter-widgets/controls",
      "model_module_version": "1.5.0",
      "model_name": "FloatProgressModel",
      "state": {
       "_dom_classes": [],
       "_model_module": "@jupyter-widgets/controls",
       "_model_module_version": "1.5.0",
       "_model_name": "FloatProgressModel",
       "_view_count": null,
       "_view_module": "@jupyter-widgets/controls",
       "_view_module_version": "1.5.0",
       "_view_name": "ProgressView",
       "bar_style": "success",
       "description": "",
       "description_tooltip": null,
       "layout": "IPY_MODEL_f81fd382894840acaac947fef6e68259",
       "max": 1904.0,
       "min": 0.0,
       "orientation": "horizontal",
       "style": "IPY_MODEL_f2456ff8366646ec916c2643c862124d",
       "value": 1904.0
      }
     },
     "862495e0abc84d2fb7b3c4a6f643ee59": {
      "model_module": "@jupyter-widgets/controls",
      "model_module_version": "1.5.0",
      "model_name": "DescriptionStyleModel",
      "state": {
       "_model_module": "@jupyter-widgets/controls",
       "_model_module_version": "1.5.0",
       "_model_name": "DescriptionStyleModel",
       "_view_count": null,
       "_view_module": "@jupyter-widgets/base",
       "_view_module_version": "1.2.0",
       "_view_name": "StyleView",
       "description_width": ""
      }
     },
     "8811edf984324c8abf72ff2067cb6352": {
      "model_module": "@jupyter-widgets/controls",
      "model_module_version": "1.5.0",
      "model_name": "HBoxModel",
      "state": {
       "_dom_classes": [],
       "_model_module": "@jupyter-widgets/controls",
       "_model_module_version": "1.5.0",
       "_model_name": "HBoxModel",
       "_view_count": null,
       "_view_module": "@jupyter-widgets/controls",
       "_view_module_version": "1.5.0",
       "_view_name": "HBoxView",
       "box_style": "",
       "children": [
        "IPY_MODEL_3072b2a44954466398889eb104d022fb",
        "IPY_MODEL_a015104a06c94d6794fc72fb2804ff11",
        "IPY_MODEL_daa45f6abbac4a6c9997ebf00c3af4bd"
       ],
       "layout": "IPY_MODEL_8a9f761824874fbc99183b7eb64949f4"
      }
     },
     "8846a43c711f44cf9715a09f633f2406": {
      "model_module": "@jupyter-widgets/controls",
      "model_module_version": "1.5.0",
      "model_name": "ProgressStyleModel",
      "state": {
       "_model_module": "@jupyter-widgets/controls",
       "_model_module_version": "1.5.0",
       "_model_name": "ProgressStyleModel",
       "_view_count": null,
       "_view_module": "@jupyter-widgets/base",
       "_view_module_version": "1.2.0",
       "_view_name": "StyleView",
       "bar_color": null,
       "description_width": ""
      }
     },
     "8a9f761824874fbc99183b7eb64949f4": {
      "model_module": "@jupyter-widgets/base",
      "model_module_version": "1.2.0",
      "model_name": "LayoutModel",
      "state": {
       "_model_module": "@jupyter-widgets/base",
       "_model_module_version": "1.2.0",
       "_model_name": "LayoutModel",
       "_view_count": null,
       "_view_module": "@jupyter-widgets/base",
       "_view_module_version": "1.2.0",
       "_view_name": "LayoutView",
       "align_content": null,
       "align_items": null,
       "align_self": null,
       "border": null,
       "bottom": null,
       "display": null,
       "flex": null,
       "flex_flow": null,
       "grid_area": null,
       "grid_auto_columns": null,
       "grid_auto_flow": null,
       "grid_auto_rows": null,
       "grid_column": null,
       "grid_gap": null,
       "grid_row": null,
       "grid_template_areas": null,
       "grid_template_columns": null,
       "grid_template_rows": null,
       "height": null,
       "justify_content": null,
       "justify_items": null,
       "left": null,
       "margin": null,
       "max_height": null,
       "max_width": null,
       "min_height": null,
       "min_width": null,
       "object_fit": null,
       "object_position": null,
       "order": null,
       "overflow": null,
       "overflow_x": null,
       "overflow_y": null,
       "padding": null,
       "right": null,
       "top": null,
       "visibility": null,
       "width": null
      }
     },
     "8b9fb3fe94a047af841d5e2e73f70fd1": {
      "model_module": "@jupyter-widgets/base",
      "model_module_version": "1.2.0",
      "model_name": "LayoutModel",
      "state": {
       "_model_module": "@jupyter-widgets/base",
       "_model_module_version": "1.2.0",
       "_model_name": "LayoutModel",
       "_view_count": null,
       "_view_module": "@jupyter-widgets/base",
       "_view_module_version": "1.2.0",
       "_view_name": "LayoutView",
       "align_content": null,
       "align_items": null,
       "align_self": null,
       "border": null,
       "bottom": null,
       "display": null,
       "flex": null,
       "flex_flow": null,
       "grid_area": null,
       "grid_auto_columns": null,
       "grid_auto_flow": null,
       "grid_auto_rows": null,
       "grid_column": null,
       "grid_gap": null,
       "grid_row": null,
       "grid_template_areas": null,
       "grid_template_columns": null,
       "grid_template_rows": null,
       "height": null,
       "justify_content": null,
       "justify_items": null,
       "left": null,
       "margin": null,
       "max_height": null,
       "max_width": null,
       "min_height": null,
       "min_width": null,
       "object_fit": null,
       "object_position": null,
       "order": null,
       "overflow": null,
       "overflow_x": null,
       "overflow_y": null,
       "padding": null,
       "right": null,
       "top": null,
       "visibility": null,
       "width": null
      }
     },
     "8cf1fdf1af9b41bb9a0506578c4fa828": {
      "model_module": "@jupyter-widgets/controls",
      "model_module_version": "1.5.0",
      "model_name": "HBoxModel",
      "state": {
       "_dom_classes": [],
       "_model_module": "@jupyter-widgets/controls",
       "_model_module_version": "1.5.0",
       "_model_name": "HBoxModel",
       "_view_count": null,
       "_view_module": "@jupyter-widgets/controls",
       "_view_module_version": "1.5.0",
       "_view_name": "HBoxView",
       "box_style": "",
       "children": [
        "IPY_MODEL_b39ca41b6f7c4398b6d7f28ddc871443",
        "IPY_MODEL_5aa10739c6a348a6a6cd1c50b83ebaa8",
        "IPY_MODEL_1d649a9c8e3d491bb372c91ea1775ca6"
       ],
       "layout": "IPY_MODEL_de29643b357a4f02915a82e9ed6644af"
      }
     },
     "8d3025c08ffa4f3daf4bb1ed146a355c": {
      "model_module": "@jupyter-widgets/controls",
      "model_module_version": "1.5.0",
      "model_name": "DescriptionStyleModel",
      "state": {
       "_model_module": "@jupyter-widgets/controls",
       "_model_module_version": "1.5.0",
       "_model_name": "DescriptionStyleModel",
       "_view_count": null,
       "_view_module": "@jupyter-widgets/base",
       "_view_module_version": "1.2.0",
       "_view_name": "StyleView",
       "description_width": ""
      }
     },
     "8e1c68b7ad4c43f0a1c5191187d58978": {
      "model_module": "@jupyter-widgets/controls",
      "model_module_version": "1.5.0",
      "model_name": "HTMLModel",
      "state": {
       "_dom_classes": [],
       "_model_module": "@jupyter-widgets/controls",
       "_model_module_version": "1.5.0",
       "_model_name": "HTMLModel",
       "_view_count": null,
       "_view_module": "@jupyter-widgets/controls",
       "_view_module_version": "1.5.0",
       "_view_name": "HTMLView",
       "description": "",
       "description_tooltip": null,
       "layout": "IPY_MODEL_cde17b54109a42e7accd37a1096677ad",
       "placeholder": "​",
       "style": "IPY_MODEL_79945f7e58b049f5bcb5e181ec4025e1",
       "value": "Downloading (…)tencepiece.bpe.model: 100%"
      }
     },
     "8fb0500145714061ac2318a49848b4cc": {
      "model_module": "@jupyter-widgets/base",
      "model_module_version": "1.2.0",
      "model_name": "LayoutModel",
      "state": {
       "_model_module": "@jupyter-widgets/base",
       "_model_module_version": "1.2.0",
       "_model_name": "LayoutModel",
       "_view_count": null,
       "_view_module": "@jupyter-widgets/base",
       "_view_module_version": "1.2.0",
       "_view_name": "LayoutView",
       "align_content": null,
       "align_items": null,
       "align_self": null,
       "border": null,
       "bottom": null,
       "display": null,
       "flex": null,
       "flex_flow": null,
       "grid_area": null,
       "grid_auto_columns": null,
       "grid_auto_flow": null,
       "grid_auto_rows": null,
       "grid_column": null,
       "grid_gap": null,
       "grid_row": null,
       "grid_template_areas": null,
       "grid_template_columns": null,
       "grid_template_rows": null,
       "height": null,
       "justify_content": null,
       "justify_items": null,
       "left": null,
       "margin": null,
       "max_height": null,
       "max_width": null,
       "min_height": null,
       "min_width": null,
       "object_fit": null,
       "object_position": null,
       "order": null,
       "overflow": null,
       "overflow_x": null,
       "overflow_y": null,
       "padding": null,
       "right": null,
       "top": null,
       "visibility": null,
       "width": null
      }
     },
     "8fc83f3e151d4347ad5b12249a29187e": {
      "model_module": "@jupyter-widgets/controls",
      "model_module_version": "1.5.0",
      "model_name": "FloatProgressModel",
      "state": {
       "_dom_classes": [],
       "_model_module": "@jupyter-widgets/controls",
       "_model_module_version": "1.5.0",
       "_model_name": "FloatProgressModel",
       "_view_count": null,
       "_view_module": "@jupyter-widgets/controls",
       "_view_module_version": "1.5.0",
       "_view_name": "ProgressView",
       "bar_style": "",
       "description": "",
       "description_tooltip": null,
       "layout": "IPY_MODEL_56b7cc68883c40d79c4fa83b3db50294",
       "max": 392702.0,
       "min": 0.0,
       "orientation": "horizontal",
       "style": "IPY_MODEL_8846a43c711f44cf9715a09f633f2406",
       "value": 392702.0
      }
     },
     "9178bcf53f2f400c863fcdc763142ed6": {
      "model_module": "@jupyter-widgets/base",
      "model_module_version": "1.2.0",
      "model_name": "LayoutModel",
      "state": {
       "_model_module": "@jupyter-widgets/base",
       "_model_module_version": "1.2.0",
       "_model_name": "LayoutModel",
       "_view_count": null,
       "_view_module": "@jupyter-widgets/base",
       "_view_module_version": "1.2.0",
       "_view_name": "LayoutView",
       "align_content": null,
       "align_items": null,
       "align_self": null,
       "border": null,
       "bottom": null,
       "display": null,
       "flex": null,
       "flex_flow": null,
       "grid_area": null,
       "grid_auto_columns": null,
       "grid_auto_flow": null,
       "grid_auto_rows": null,
       "grid_column": null,
       "grid_gap": null,
       "grid_row": null,
       "grid_template_areas": null,
       "grid_template_columns": null,
       "grid_template_rows": null,
       "height": null,
       "justify_content": null,
       "justify_items": null,
       "left": null,
       "margin": null,
       "max_height": null,
       "max_width": null,
       "min_height": null,
       "min_width": null,
       "object_fit": null,
       "object_position": null,
       "order": null,
       "overflow": null,
       "overflow_x": null,
       "overflow_y": null,
       "padding": null,
       "right": null,
       "top": null,
       "visibility": null,
       "width": null
      }
     },
     "931b7a9c80d9441eb8ff9dfa2480f878": {
      "model_module": "@jupyter-widgets/controls",
      "model_module_version": "1.5.0",
      "model_name": "FloatProgressModel",
      "state": {
       "_dom_classes": [],
       "_model_module": "@jupyter-widgets/controls",
       "_model_module_version": "1.5.0",
       "_model_name": "FloatProgressModel",
       "_view_count": null,
       "_view_module": "@jupyter-widgets/controls",
       "_view_module_version": "1.5.0",
       "_view_name": "ProgressView",
       "bar_style": "success",
       "description": "",
       "description_tooltip": null,
       "layout": "IPY_MODEL_df54c81cc9054aac8b5295a0a70c1cb6",
       "max": 1193.0,
       "min": 0.0,
       "orientation": "horizontal",
       "style": "IPY_MODEL_58ab094438284b43a93d6a858e81cddf",
       "value": 1193.0
      }
     },
     "93ba39d08d304d90ae866e234ecf96de": {
      "model_module": "@jupyter-widgets/base",
      "model_module_version": "1.2.0",
      "model_name": "LayoutModel",
      "state": {
       "_model_module": "@jupyter-widgets/base",
       "_model_module_version": "1.2.0",
       "_model_name": "LayoutModel",
       "_view_count": null,
       "_view_module": "@jupyter-widgets/base",
       "_view_module_version": "1.2.0",
       "_view_name": "LayoutView",
       "align_content": null,
       "align_items": null,
       "align_self": null,
       "border": null,
       "bottom": null,
       "display": null,
       "flex": null,
       "flex_flow": null,
       "grid_area": null,
       "grid_auto_columns": null,
       "grid_auto_flow": null,
       "grid_auto_rows": null,
       "grid_column": null,
       "grid_gap": null,
       "grid_row": null,
       "grid_template_areas": null,
       "grid_template_columns": null,
       "grid_template_rows": null,
       "height": null,
       "justify_content": null,
       "justify_items": null,
       "left": null,
       "margin": null,
       "max_height": null,
       "max_width": null,
       "min_height": null,
       "min_width": null,
       "object_fit": null,
       "object_position": null,
       "order": null,
       "overflow": null,
       "overflow_x": null,
       "overflow_y": null,
       "padding": null,
       "right": null,
       "top": null,
       "visibility": null,
       "width": null
      }
     },
     "978cf73240f143e3a1f49e53b8e5cb01": {
      "model_module": "@jupyter-widgets/controls",
      "model_module_version": "1.5.0",
      "model_name": "HBoxModel",
      "state": {
       "_dom_classes": [],
       "_model_module": "@jupyter-widgets/controls",
       "_model_module_version": "1.5.0",
       "_model_name": "HBoxModel",
       "_view_count": null,
       "_view_module": "@jupyter-widgets/controls",
       "_view_module_version": "1.5.0",
       "_view_name": "HBoxView",
       "box_style": "",
       "children": [
        "IPY_MODEL_b0ec2e1e54834864ac37d35e5a211a3d",
        "IPY_MODEL_6d1c55908add4370b91e160f26be1de9",
        "IPY_MODEL_1dcb752751de4ee982ee4105d9ebad67"
       ],
       "layout": "IPY_MODEL_b5b28dc158784f0e8c931ca62feab666"
      }
     },
     "99836bf8bdaf44a39d5beb3515889e9b": {
      "model_module": "@jupyter-widgets/controls",
      "model_module_version": "1.5.0",
      "model_name": "DescriptionStyleModel",
      "state": {
       "_model_module": "@jupyter-widgets/controls",
       "_model_module_version": "1.5.0",
       "_model_name": "DescriptionStyleModel",
       "_view_count": null,
       "_view_module": "@jupyter-widgets/base",
       "_view_module_version": "1.2.0",
       "_view_name": "StyleView",
       "description_width": ""
      }
     },
     "9c5cb53f76ba4787acd852599c37cf04": {
      "model_module": "@jupyter-widgets/controls",
      "model_module_version": "1.5.0",
      "model_name": "HBoxModel",
      "state": {
       "_dom_classes": [],
       "_model_module": "@jupyter-widgets/controls",
       "_model_module_version": "1.5.0",
       "_model_name": "HBoxModel",
       "_view_count": null,
       "_view_module": "@jupyter-widgets/controls",
       "_view_module_version": "1.5.0",
       "_view_name": "HBoxView",
       "box_style": "",
       "children": [
        "IPY_MODEL_1fb860eeb6354d6ca7667e8f31d52b61",
        "IPY_MODEL_931b7a9c80d9441eb8ff9dfa2480f878",
        "IPY_MODEL_f7df8675ef71411cb4ef3f6868b324b4"
       ],
       "layout": "IPY_MODEL_f9938d6ef0c1420698ff52e2b25b46bb"
      }
     },
     "9e3bc1a94fad4c29823091b4f24b9f91": {
      "model_module": "@jupyter-widgets/base",
      "model_module_version": "1.2.0",
      "model_name": "LayoutModel",
      "state": {
       "_model_module": "@jupyter-widgets/base",
       "_model_module_version": "1.2.0",
       "_model_name": "LayoutModel",
       "_view_count": null,
       "_view_module": "@jupyter-widgets/base",
       "_view_module_version": "1.2.0",
       "_view_name": "LayoutView",
       "align_content": null,
       "align_items": null,
       "align_self": null,
       "border": null,
       "bottom": null,
       "display": null,
       "flex": null,
       "flex_flow": null,
       "grid_area": null,
       "grid_auto_columns": null,
       "grid_auto_flow": null,
       "grid_auto_rows": null,
       "grid_column": null,
       "grid_gap": null,
       "grid_row": null,
       "grid_template_areas": null,
       "grid_template_columns": null,
       "grid_template_rows": null,
       "height": null,
       "justify_content": null,
       "justify_items": null,
       "left": null,
       "margin": null,
       "max_height": null,
       "max_width": null,
       "min_height": null,
       "min_width": null,
       "object_fit": null,
       "object_position": null,
       "order": null,
       "overflow": null,
       "overflow_x": null,
       "overflow_y": null,
       "padding": null,
       "right": null,
       "top": null,
       "visibility": null,
       "width": null
      }
     },
     "a015104a06c94d6794fc72fb2804ff11": {
      "model_module": "@jupyter-widgets/controls",
      "model_module_version": "1.5.0",
      "model_name": "FloatProgressModel",
      "state": {
       "_dom_classes": [],
       "_model_module": "@jupyter-widgets/controls",
       "_model_module_version": "1.5.0",
       "_model_name": "FloatProgressModel",
       "_view_count": null,
       "_view_module": "@jupyter-widgets/controls",
       "_view_module_version": "1.5.0",
       "_view_name": "ProgressView",
       "bar_style": "success",
       "description": "",
       "description_tooltip": null,
       "layout": "IPY_MODEL_63fe4cc439734dc0bbb292cd81079dfd",
       "max": 25.0,
       "min": 0.0,
       "orientation": "horizontal",
       "style": "IPY_MODEL_2c33b09c50b842cf97d5c57fa0e0285f",
       "value": 25.0
      }
     },
     "a32fd772592848d698540cb7e588b0d4": {
      "model_module": "@jupyter-widgets/controls",
      "model_module_version": "1.5.0",
      "model_name": "DescriptionStyleModel",
      "state": {
       "_model_module": "@jupyter-widgets/controls",
       "_model_module_version": "1.5.0",
       "_model_name": "DescriptionStyleModel",
       "_view_count": null,
       "_view_module": "@jupyter-widgets/base",
       "_view_module_version": "1.2.0",
       "_view_name": "StyleView",
       "description_width": ""
      }
     },
     "a546fc4486524de39585186f8bf5275c": {
      "model_module": "@jupyter-widgets/controls",
      "model_module_version": "1.5.0",
      "model_name": "DescriptionStyleModel",
      "state": {
       "_model_module": "@jupyter-widgets/controls",
       "_model_module_version": "1.5.0",
       "_model_name": "DescriptionStyleModel",
       "_view_count": null,
       "_view_module": "@jupyter-widgets/base",
       "_view_module_version": "1.2.0",
       "_view_name": "StyleView",
       "description_width": ""
      }
     },
     "a7fc37c6d4434e5eb2a7f7305b15a889": {
      "model_module": "@jupyter-widgets/controls",
      "model_module_version": "1.5.0",
      "model_name": "HBoxModel",
      "state": {
       "_dom_classes": [],
       "_model_module": "@jupyter-widgets/controls",
       "_model_module_version": "1.5.0",
       "_model_name": "HBoxModel",
       "_view_count": null,
       "_view_module": "@jupyter-widgets/controls",
       "_view_module_version": "1.5.0",
       "_view_name": "HBoxView",
       "box_style": "",
       "children": [
        "IPY_MODEL_8e1c68b7ad4c43f0a1c5191187d58978",
        "IPY_MODEL_abe3c7fa1a894b29954cf824fd43eecc",
        "IPY_MODEL_2a4cf11fbc834ba5b2569723c03885d7"
       ],
       "layout": "IPY_MODEL_525ba64403df476ea597363312b87efd"
      }
     },
     "a816477e84f2451985ce24de537c85e8": {
      "model_module": "@jupyter-widgets/base",
      "model_module_version": "1.2.0",
      "model_name": "LayoutModel",
      "state": {
       "_model_module": "@jupyter-widgets/base",
       "_model_module_version": "1.2.0",
       "_model_name": "LayoutModel",
       "_view_count": null,
       "_view_module": "@jupyter-widgets/base",
       "_view_module_version": "1.2.0",
       "_view_name": "LayoutView",
       "align_content": null,
       "align_items": null,
       "align_self": null,
       "border": null,
       "bottom": null,
       "display": null,
       "flex": null,
       "flex_flow": null,
       "grid_area": null,
       "grid_auto_columns": null,
       "grid_auto_flow": null,
       "grid_auto_rows": null,
       "grid_column": null,
       "grid_gap": null,
       "grid_row": null,
       "grid_template_areas": null,
       "grid_template_columns": null,
       "grid_template_rows": null,
       "height": null,
       "justify_content": null,
       "justify_items": null,
       "left": null,
       "margin": null,
       "max_height": null,
       "max_width": null,
       "min_height": null,
       "min_width": null,
       "object_fit": null,
       "object_position": null,
       "order": null,
       "overflow": null,
       "overflow_x": null,
       "overflow_y": null,
       "padding": null,
       "right": null,
       "top": null,
       "visibility": null,
       "width": null
      }
     },
     "abe3c7fa1a894b29954cf824fd43eecc": {
      "model_module": "@jupyter-widgets/controls",
      "model_module_version": "1.5.0",
      "model_name": "FloatProgressModel",
      "state": {
       "_dom_classes": [],
       "_model_module": "@jupyter-widgets/controls",
       "_model_module_version": "1.5.0",
       "_model_name": "FloatProgressModel",
       "_view_count": null,
       "_view_module": "@jupyter-widgets/controls",
       "_view_module_version": "1.5.0",
       "_view_name": "ProgressView",
       "bar_style": "success",
       "description": "",
       "description_tooltip": null,
       "layout": "IPY_MODEL_8b9fb3fe94a047af841d5e2e73f70fd1",
       "max": 5069051.0,
       "min": 0.0,
       "orientation": "horizontal",
       "style": "IPY_MODEL_154f0a9c38ef4739b8f054bec23b5615",
       "value": 5069051.0
      }
     },
     "ad9873e1ea7e40bdbcbe63b8bfba6f64": {
      "model_module": "@jupyter-widgets/controls",
      "model_module_version": "1.5.0",
      "model_name": "HTMLModel",
      "state": {
       "_dom_classes": [],
       "_model_module": "@jupyter-widgets/controls",
       "_model_module_version": "1.5.0",
       "_model_name": "HTMLModel",
       "_view_count": null,
       "_view_module": "@jupyter-widgets/controls",
       "_view_module_version": "1.5.0",
       "_view_name": "HTMLView",
       "description": "",
       "description_tooltip": null,
       "layout": "IPY_MODEL_15786c85d20d47dc8064acbd9ecd89ca",
       "placeholder": "​",
       "style": "IPY_MODEL_26be2f87aa7d45eaa08f6bc550474ad1",
       "value": " 2.24G/2.24G [00:48&lt;00:00, 43.9MB/s]"
      }
     },
     "b00a78436c944c6abaa2614d4198a0b7": {
      "model_module": "@jupyter-widgets/controls",
      "model_module_version": "1.5.0",
      "model_name": "DescriptionStyleModel",
      "state": {
       "_model_module": "@jupyter-widgets/controls",
       "_model_module_version": "1.5.0",
       "_model_name": "DescriptionStyleModel",
       "_view_count": null,
       "_view_module": "@jupyter-widgets/base",
       "_view_module_version": "1.2.0",
       "_view_name": "StyleView",
       "description_width": ""
      }
     },
     "b0ec2e1e54834864ac37d35e5a211a3d": {
      "model_module": "@jupyter-widgets/controls",
      "model_module_version": "1.5.0",
      "model_name": "HTMLModel",
      "state": {
       "_dom_classes": [],
       "_model_module": "@jupyter-widgets/controls",
       "_model_module_version": "1.5.0",
       "_model_name": "HTMLModel",
       "_view_count": null,
       "_view_module": "@jupyter-widgets/controls",
       "_view_module_version": "1.5.0",
       "_view_name": "HTMLView",
       "description": "",
       "description_tooltip": null,
       "layout": "IPY_MODEL_e89ee54d7748470db1993905e0c49778",
       "placeholder": "​",
       "style": "IPY_MODEL_e7684e184e4846b9892a8044c202d5ac",
       "value": "Generating validation_matched split:  99%"
      }
     },
     "b39ca41b6f7c4398b6d7f28ddc871443": {
      "model_module": "@jupyter-widgets/controls",
      "model_module_version": "1.5.0",
      "model_name": "HTMLModel",
      "state": {
       "_dom_classes": [],
       "_model_module": "@jupyter-widgets/controls",
       "_model_module_version": "1.5.0",
       "_model_name": "HTMLModel",
       "_view_count": null,
       "_view_module": "@jupyter-widgets/controls",
       "_view_module_version": "1.5.0",
       "_view_name": "HTMLView",
       "description": "",
       "description_tooltip": null,
       "layout": "IPY_MODEL_2e9b312c286e41a78432907a1f7cb505",
       "placeholder": "​",
       "style": "IPY_MODEL_83153bfe70bd49d6bf7753e46fd490b5",
       "value": "Downloading data: 100%"
      }
     },
     "b412188780ff400982ecfc34ee331c03": {
      "model_module": "@jupyter-widgets/base",
      "model_module_version": "1.2.0",
      "model_name": "LayoutModel",
      "state": {
       "_model_module": "@jupyter-widgets/base",
       "_model_module_version": "1.2.0",
       "_model_name": "LayoutModel",
       "_view_count": null,
       "_view_module": "@jupyter-widgets/base",
       "_view_module_version": "1.2.0",
       "_view_name": "LayoutView",
       "align_content": null,
       "align_items": null,
       "align_self": null,
       "border": null,
       "bottom": null,
       "display": null,
       "flex": null,
       "flex_flow": null,
       "grid_area": null,
       "grid_auto_columns": null,
       "grid_auto_flow": null,
       "grid_auto_rows": null,
       "grid_column": null,
       "grid_gap": null,
       "grid_row": null,
       "grid_template_areas": null,
       "grid_template_columns": null,
       "grid_template_rows": null,
       "height": null,
       "justify_content": null,
       "justify_items": null,
       "left": null,
       "margin": null,
       "max_height": null,
       "max_width": null,
       "min_height": null,
       "min_width": null,
       "object_fit": null,
       "object_position": null,
       "order": null,
       "overflow": null,
       "overflow_x": null,
       "overflow_y": null,
       "padding": null,
       "right": null,
       "top": null,
       "visibility": null,
       "width": null
      }
     },
     "b5a040935eb849f8af042e2ac115aab7": {
      "model_module": "@jupyter-widgets/controls",
      "model_module_version": "1.5.0",
      "model_name": "DescriptionStyleModel",
      "state": {
       "_model_module": "@jupyter-widgets/controls",
       "_model_module_version": "1.5.0",
       "_model_name": "DescriptionStyleModel",
       "_view_count": null,
       "_view_module": "@jupyter-widgets/base",
       "_view_module_version": "1.2.0",
       "_view_name": "StyleView",
       "description_width": ""
      }
     },
     "b5b28dc158784f0e8c931ca62feab666": {
      "model_module": "@jupyter-widgets/base",
      "model_module_version": "1.2.0",
      "model_name": "LayoutModel",
      "state": {
       "_model_module": "@jupyter-widgets/base",
       "_model_module_version": "1.2.0",
       "_model_name": "LayoutModel",
       "_view_count": null,
       "_view_module": "@jupyter-widgets/base",
       "_view_module_version": "1.2.0",
       "_view_name": "LayoutView",
       "align_content": null,
       "align_items": null,
       "align_self": null,
       "border": null,
       "bottom": null,
       "display": null,
       "flex": null,
       "flex_flow": null,
       "grid_area": null,
       "grid_auto_columns": null,
       "grid_auto_flow": null,
       "grid_auto_rows": null,
       "grid_column": null,
       "grid_gap": null,
       "grid_row": null,
       "grid_template_areas": null,
       "grid_template_columns": null,
       "grid_template_rows": null,
       "height": null,
       "justify_content": null,
       "justify_items": null,
       "left": null,
       "margin": null,
       "max_height": null,
       "max_width": null,
       "min_height": null,
       "min_width": null,
       "object_fit": null,
       "object_position": null,
       "order": null,
       "overflow": null,
       "overflow_x": null,
       "overflow_y": null,
       "padding": null,
       "right": null,
       "top": null,
       "visibility": "hidden",
       "width": null
      }
     },
     "b8ea4849e69f4695a723bad86b4bf426": {
      "model_module": "@jupyter-widgets/controls",
      "model_module_version": "1.5.0",
      "model_name": "HTMLModel",
      "state": {
       "_dom_classes": [],
       "_model_module": "@jupyter-widgets/controls",
       "_model_module_version": "1.5.0",
       "_model_name": "HTMLModel",
       "_view_count": null,
       "_view_module": "@jupyter-widgets/controls",
       "_view_module_version": "1.5.0",
       "_view_name": "HTMLView",
       "description": "",
       "description_tooltip": null,
       "layout": "IPY_MODEL_93ba39d08d304d90ae866e234ecf96de",
       "placeholder": "​",
       "style": "IPY_MODEL_1414684eb76a41399167371ea39b4a13",
       "value": "Downloading (…)lve/main/config.json: 100%"
      }
     },
     "bcd0cf91be37454ea831518491bd755e": {
      "model_module": "@jupyter-widgets/controls",
      "model_module_version": "1.5.0",
      "model_name": "ProgressStyleModel",
      "state": {
       "_model_module": "@jupyter-widgets/controls",
       "_model_module_version": "1.5.0",
       "_model_name": "ProgressStyleModel",
       "_view_count": null,
       "_view_module": "@jupyter-widgets/base",
       "_view_module_version": "1.2.0",
       "_view_name": "StyleView",
       "bar_color": null,
       "description_width": ""
      }
     },
     "bf694367c9974104979da48b8d6b2717": {
      "model_module": "@jupyter-widgets/base",
      "model_module_version": "1.2.0",
      "model_name": "LayoutModel",
      "state": {
       "_model_module": "@jupyter-widgets/base",
       "_model_module_version": "1.2.0",
       "_model_name": "LayoutModel",
       "_view_count": null,
       "_view_module": "@jupyter-widgets/base",
       "_view_module_version": "1.2.0",
       "_view_name": "LayoutView",
       "align_content": null,
       "align_items": null,
       "align_self": null,
       "border": null,
       "bottom": null,
       "display": null,
       "flex": null,
       "flex_flow": null,
       "grid_area": null,
       "grid_auto_columns": null,
       "grid_auto_flow": null,
       "grid_auto_rows": null,
       "grid_column": null,
       "grid_gap": null,
       "grid_row": null,
       "grid_template_areas": null,
       "grid_template_columns": null,
       "grid_template_rows": null,
       "height": null,
       "justify_content": null,
       "justify_items": null,
       "left": null,
       "margin": null,
       "max_height": null,
       "max_width": null,
       "min_height": null,
       "min_width": null,
       "object_fit": null,
       "object_position": null,
       "order": null,
       "overflow": null,
       "overflow_x": null,
       "overflow_y": null,
       "padding": null,
       "right": null,
       "top": null,
       "visibility": null,
       "width": null
      }
     },
     "bf99eb00a36749fe9c8b39b4bbebbab3": {
      "model_module": "@jupyter-widgets/controls",
      "model_module_version": "1.5.0",
      "model_name": "HBoxModel",
      "state": {
       "_dom_classes": [],
       "_model_module": "@jupyter-widgets/controls",
       "_model_module_version": "1.5.0",
       "_model_name": "HBoxModel",
       "_view_count": null,
       "_view_module": "@jupyter-widgets/controls",
       "_view_module_version": "1.5.0",
       "_view_name": "HBoxView",
       "box_style": "",
       "children": [
        "IPY_MODEL_c3eb8da74e14432b9bcaf3da6012d150",
        "IPY_MODEL_21eab2e62c1c4c75bb312dbf7d250917",
        "IPY_MODEL_ad9873e1ea7e40bdbcbe63b8bfba6f64"
       ],
       "layout": "IPY_MODEL_655f53bc166e42f8a91e1f45a474114b"
      }
     },
     "c126be807e9042d0bc8554b1b5a003ec": {
      "model_module": "@jupyter-widgets/base",
      "model_module_version": "1.2.0",
      "model_name": "LayoutModel",
      "state": {
       "_model_module": "@jupyter-widgets/base",
       "_model_module_version": "1.2.0",
       "_model_name": "LayoutModel",
       "_view_count": null,
       "_view_module": "@jupyter-widgets/base",
       "_view_module_version": "1.2.0",
       "_view_name": "LayoutView",
       "align_content": null,
       "align_items": null,
       "align_self": null,
       "border": null,
       "bottom": null,
       "display": null,
       "flex": null,
       "flex_flow": null,
       "grid_area": null,
       "grid_auto_columns": null,
       "grid_auto_flow": null,
       "grid_auto_rows": null,
       "grid_column": null,
       "grid_gap": null,
       "grid_row": null,
       "grid_template_areas": null,
       "grid_template_columns": null,
       "grid_template_rows": null,
       "height": null,
       "justify_content": null,
       "justify_items": null,
       "left": null,
       "margin": null,
       "max_height": null,
       "max_width": null,
       "min_height": null,
       "min_width": null,
       "object_fit": null,
       "object_position": null,
       "order": null,
       "overflow": null,
       "overflow_x": null,
       "overflow_y": null,
       "padding": null,
       "right": null,
       "top": null,
       "visibility": null,
       "width": null
      }
     },
     "c1db657b7be249789dd21747810a3249": {
      "model_module": "@jupyter-widgets/base",
      "model_module_version": "1.2.0",
      "model_name": "LayoutModel",
      "state": {
       "_model_module": "@jupyter-widgets/base",
       "_model_module_version": "1.2.0",
       "_model_name": "LayoutModel",
       "_view_count": null,
       "_view_module": "@jupyter-widgets/base",
       "_view_module_version": "1.2.0",
       "_view_name": "LayoutView",
       "align_content": null,
       "align_items": null,
       "align_self": null,
       "border": null,
       "bottom": null,
       "display": null,
       "flex": null,
       "flex_flow": null,
       "grid_area": null,
       "grid_auto_columns": null,
       "grid_auto_flow": null,
       "grid_auto_rows": null,
       "grid_column": null,
       "grid_gap": null,
       "grid_row": null,
       "grid_template_areas": null,
       "grid_template_columns": null,
       "grid_template_rows": null,
       "height": null,
       "justify_content": null,
       "justify_items": null,
       "left": null,
       "margin": null,
       "max_height": null,
       "max_width": null,
       "min_height": null,
       "min_width": null,
       "object_fit": null,
       "object_position": null,
       "order": null,
       "overflow": null,
       "overflow_x": null,
       "overflow_y": null,
       "padding": null,
       "right": null,
       "top": null,
       "visibility": null,
       "width": null
      }
     },
     "c3eb8da74e14432b9bcaf3da6012d150": {
      "model_module": "@jupyter-widgets/controls",
      "model_module_version": "1.5.0",
      "model_name": "HTMLModel",
      "state": {
       "_dom_classes": [],
       "_model_module": "@jupyter-widgets/controls",
       "_model_module_version": "1.5.0",
       "_model_name": "HTMLModel",
       "_view_count": null,
       "_view_module": "@jupyter-widgets/controls",
       "_view_module_version": "1.5.0",
       "_view_name": "HTMLView",
       "description": "",
       "description_tooltip": null,
       "layout": "IPY_MODEL_bf694367c9974104979da48b8d6b2717",
       "placeholder": "​",
       "style": "IPY_MODEL_5ac6712573604178aaba651b0d2ac23b",
       "value": "Downloading (…)&quot;tf_model.h5&quot;;: 100%"
      }
     },
     "cc61ce839dda42ea9a12fb48c18a81d5": {
      "model_module": "@jupyter-widgets/controls",
      "model_module_version": "1.5.0",
      "model_name": "HTMLModel",
      "state": {
       "_dom_classes": [],
       "_model_module": "@jupyter-widgets/controls",
       "_model_module_version": "1.5.0",
       "_model_name": "HTMLModel",
       "_view_count": null,
       "_view_module": "@jupyter-widgets/controls",
       "_view_module_version": "1.5.0",
       "_view_name": "HTMLView",
       "description": "",
       "description_tooltip": null,
       "layout": "IPY_MODEL_30a515d2241c421992a512860deb8c6d",
       "placeholder": "​",
       "style": "IPY_MODEL_f330eb4f656e4b8188bf3e9d929b426e",
       "value": " 392340/392702 [00:56&lt;00:00, 7188.99 examples/s]"
      }
     },
     "cde17b54109a42e7accd37a1096677ad": {
      "model_module": "@jupyter-widgets/base",
      "model_module_version": "1.2.0",
      "model_name": "LayoutModel",
      "state": {
       "_model_module": "@jupyter-widgets/base",
       "_model_module_version": "1.2.0",
       "_model_name": "LayoutModel",
       "_view_count": null,
       "_view_module": "@jupyter-widgets/base",
       "_view_module_version": "1.2.0",
       "_view_name": "LayoutView",
       "align_content": null,
       "align_items": null,
       "align_self": null,
       "border": null,
       "bottom": null,
       "display": null,
       "flex": null,
       "flex_flow": null,
       "grid_area": null,
       "grid_auto_columns": null,
       "grid_auto_flow": null,
       "grid_auto_rows": null,
       "grid_column": null,
       "grid_gap": null,
       "grid_row": null,
       "grid_template_areas": null,
       "grid_template_columns": null,
       "grid_template_rows": null,
       "height": null,
       "justify_content": null,
       "justify_items": null,
       "left": null,
       "margin": null,
       "max_height": null,
       "max_width": null,
       "min_height": null,
       "min_width": null,
       "object_fit": null,
       "object_position": null,
       "order": null,
       "overflow": null,
       "overflow_x": null,
       "overflow_y": null,
       "padding": null,
       "right": null,
       "top": null,
       "visibility": null,
       "width": null
      }
     },
     "d767a5c0df2e40a99c1e02e9cb26fbbf": {
      "model_module": "@jupyter-widgets/base",
      "model_module_version": "1.2.0",
      "model_name": "LayoutModel",
      "state": {
       "_model_module": "@jupyter-widgets/base",
       "_model_module_version": "1.2.0",
       "_model_name": "LayoutModel",
       "_view_count": null,
       "_view_module": "@jupyter-widgets/base",
       "_view_module_version": "1.2.0",
       "_view_name": "LayoutView",
       "align_content": null,
       "align_items": null,
       "align_self": null,
       "border": null,
       "bottom": null,
       "display": null,
       "flex": null,
       "flex_flow": null,
       "grid_area": null,
       "grid_auto_columns": null,
       "grid_auto_flow": null,
       "grid_auto_rows": null,
       "grid_column": null,
       "grid_gap": null,
       "grid_row": null,
       "grid_template_areas": null,
       "grid_template_columns": null,
       "grid_template_rows": null,
       "height": null,
       "justify_content": null,
       "justify_items": null,
       "left": null,
       "margin": null,
       "max_height": null,
       "max_width": null,
       "min_height": null,
       "min_width": null,
       "object_fit": null,
       "object_position": null,
       "order": null,
       "overflow": null,
       "overflow_x": null,
       "overflow_y": null,
       "padding": null,
       "right": null,
       "top": null,
       "visibility": null,
       "width": null
      }
     },
     "da1d9e06e0de4914955c41a8eb28bfae": {
      "model_module": "@jupyter-widgets/controls",
      "model_module_version": "1.5.0",
      "model_name": "ProgressStyleModel",
      "state": {
       "_model_module": "@jupyter-widgets/controls",
       "_model_module_version": "1.5.0",
       "_model_name": "ProgressStyleModel",
       "_view_count": null,
       "_view_module": "@jupyter-widgets/base",
       "_view_module_version": "1.2.0",
       "_view_name": "StyleView",
       "bar_color": null,
       "description_width": ""
      }
     },
     "daa45f6abbac4a6c9997ebf00c3af4bd": {
      "model_module": "@jupyter-widgets/controls",
      "model_module_version": "1.5.0",
      "model_name": "HTMLModel",
      "state": {
       "_dom_classes": [],
       "_model_module": "@jupyter-widgets/controls",
       "_model_module_version": "1.5.0",
       "_model_name": "HTMLModel",
       "_view_count": null,
       "_view_module": "@jupyter-widgets/controls",
       "_view_module_version": "1.5.0",
       "_view_name": "HTMLView",
       "description": "",
       "description_tooltip": null,
       "layout": "IPY_MODEL_4bf659949f004c1e96315778a81cfef8",
       "placeholder": "​",
       "style": "IPY_MODEL_195e8cc2c927442ea5b1c278998cb511",
       "value": " 25.0/25.0 [00:00&lt;00:00, 1.11kB/s]"
      }
     },
     "dd4f5f0767944e248b5645c79dbbdee8": {
      "model_module": "@jupyter-widgets/base",
      "model_module_version": "1.2.0",
      "model_name": "LayoutModel",
      "state": {
       "_model_module": "@jupyter-widgets/base",
       "_model_module_version": "1.2.0",
       "_model_name": "LayoutModel",
       "_view_count": null,
       "_view_module": "@jupyter-widgets/base",
       "_view_module_version": "1.2.0",
       "_view_name": "LayoutView",
       "align_content": null,
       "align_items": null,
       "align_self": null,
       "border": null,
       "bottom": null,
       "display": null,
       "flex": null,
       "flex_flow": null,
       "grid_area": null,
       "grid_auto_columns": null,
       "grid_auto_flow": null,
       "grid_auto_rows": null,
       "grid_column": null,
       "grid_gap": null,
       "grid_row": null,
       "grid_template_areas": null,
       "grid_template_columns": null,
       "grid_template_rows": null,
       "height": null,
       "justify_content": null,
       "justify_items": null,
       "left": null,
       "margin": null,
       "max_height": null,
       "max_width": null,
       "min_height": null,
       "min_width": null,
       "object_fit": null,
       "object_position": null,
       "order": null,
       "overflow": null,
       "overflow_x": null,
       "overflow_y": null,
       "padding": null,
       "right": null,
       "top": null,
       "visibility": null,
       "width": null
      }
     },
     "de29643b357a4f02915a82e9ed6644af": {
      "model_module": "@jupyter-widgets/base",
      "model_module_version": "1.2.0",
      "model_name": "LayoutModel",
      "state": {
       "_model_module": "@jupyter-widgets/base",
       "_model_module_version": "1.2.0",
       "_model_name": "LayoutModel",
       "_view_count": null,
       "_view_module": "@jupyter-widgets/base",
       "_view_module_version": "1.2.0",
       "_view_name": "LayoutView",
       "align_content": null,
       "align_items": null,
       "align_self": null,
       "border": null,
       "bottom": null,
       "display": null,
       "flex": null,
       "flex_flow": null,
       "grid_area": null,
       "grid_auto_columns": null,
       "grid_auto_flow": null,
       "grid_auto_rows": null,
       "grid_column": null,
       "grid_gap": null,
       "grid_row": null,
       "grid_template_areas": null,
       "grid_template_columns": null,
       "grid_template_rows": null,
       "height": null,
       "justify_content": null,
       "justify_items": null,
       "left": null,
       "margin": null,
       "max_height": null,
       "max_width": null,
       "min_height": null,
       "min_width": null,
       "object_fit": null,
       "object_position": null,
       "order": null,
       "overflow": null,
       "overflow_x": null,
       "overflow_y": null,
       "padding": null,
       "right": null,
       "top": null,
       "visibility": null,
       "width": null
      }
     },
     "de91681659ef40a4a3546db59f17f097": {
      "model_module": "@jupyter-widgets/controls",
      "model_module_version": "1.5.0",
      "model_name": "FloatProgressModel",
      "state": {
       "_dom_classes": [],
       "_model_module": "@jupyter-widgets/controls",
       "_model_module_version": "1.5.0",
       "_model_name": "FloatProgressModel",
       "_view_count": null,
       "_view_module": "@jupyter-widgets/controls",
       "_view_module_version": "1.5.0",
       "_view_name": "ProgressView",
       "bar_style": "success",
       "description": "",
       "description_tooltip": null,
       "layout": "IPY_MODEL_017222bb8aee4ca9b58b294d4f3428b9",
       "max": 3.0,
       "min": 0.0,
       "orientation": "horizontal",
       "style": "IPY_MODEL_bcd0cf91be37454ea831518491bd755e",
       "value": 3.0
      }
     },
     "df54c81cc9054aac8b5295a0a70c1cb6": {
      "model_module": "@jupyter-widgets/base",
      "model_module_version": "1.2.0",
      "model_name": "LayoutModel",
      "state": {
       "_model_module": "@jupyter-widgets/base",
       "_model_module_version": "1.2.0",
       "_model_name": "LayoutModel",
       "_view_count": null,
       "_view_module": "@jupyter-widgets/base",
       "_view_module_version": "1.2.0",
       "_view_name": "LayoutView",
       "align_content": null,
       "align_items": null,
       "align_self": null,
       "border": null,
       "bottom": null,
       "display": null,
       "flex": null,
       "flex_flow": null,
       "grid_area": null,
       "grid_auto_columns": null,
       "grid_auto_flow": null,
       "grid_auto_rows": null,
       "grid_column": null,
       "grid_gap": null,
       "grid_row": null,
       "grid_template_areas": null,
       "grid_template_columns": null,
       "grid_template_rows": null,
       "height": null,
       "justify_content": null,
       "justify_items": null,
       "left": null,
       "margin": null,
       "max_height": null,
       "max_width": null,
       "min_height": null,
       "min_width": null,
       "object_fit": null,
       "object_position": null,
       "order": null,
       "overflow": null,
       "overflow_x": null,
       "overflow_y": null,
       "padding": null,
       "right": null,
       "top": null,
       "visibility": null,
       "width": null
      }
     },
     "df6983e785a04e78bf9bb613d002a5a9": {
      "model_module": "@jupyter-widgets/controls",
      "model_module_version": "1.5.0",
      "model_name": "HTMLModel",
      "state": {
       "_dom_classes": [],
       "_model_module": "@jupyter-widgets/controls",
       "_model_module_version": "1.5.0",
       "_model_name": "HTMLModel",
       "_view_count": null,
       "_view_module": "@jupyter-widgets/controls",
       "_view_module_version": "1.5.0",
       "_view_name": "HTMLView",
       "description": "",
       "description_tooltip": null,
       "layout": "IPY_MODEL_8fb0500145714061ac2318a49848b4cc",
       "placeholder": "​",
       "style": "IPY_MODEL_862495e0abc84d2fb7b3c4a6f643ee59",
       "value": "Generating train split: 100%"
      }
     },
     "e70751ea70a04317b221fe307c397a8f": {
      "model_module": "@jupyter-widgets/base",
      "model_module_version": "1.2.0",
      "model_name": "LayoutModel",
      "state": {
       "_model_module": "@jupyter-widgets/base",
       "_model_module_version": "1.2.0",
       "_model_name": "LayoutModel",
       "_view_count": null,
       "_view_module": "@jupyter-widgets/base",
       "_view_module_version": "1.2.0",
       "_view_name": "LayoutView",
       "align_content": null,
       "align_items": null,
       "align_self": null,
       "border": null,
       "bottom": null,
       "display": null,
       "flex": null,
       "flex_flow": null,
       "grid_area": null,
       "grid_auto_columns": null,
       "grid_auto_flow": null,
       "grid_auto_rows": null,
       "grid_column": null,
       "grid_gap": null,
       "grid_row": null,
       "grid_template_areas": null,
       "grid_template_columns": null,
       "grid_template_rows": null,
       "height": null,
       "justify_content": null,
       "justify_items": null,
       "left": null,
       "margin": null,
       "max_height": null,
       "max_width": null,
       "min_height": null,
       "min_width": null,
       "object_fit": null,
       "object_position": null,
       "order": null,
       "overflow": null,
       "overflow_x": null,
       "overflow_y": null,
       "padding": null,
       "right": null,
       "top": null,
       "visibility": null,
       "width": null
      }
     },
     "e7684e184e4846b9892a8044c202d5ac": {
      "model_module": "@jupyter-widgets/controls",
      "model_module_version": "1.5.0",
      "model_name": "DescriptionStyleModel",
      "state": {
       "_model_module": "@jupyter-widgets/controls",
       "_model_module_version": "1.5.0",
       "_model_name": "DescriptionStyleModel",
       "_view_count": null,
       "_view_module": "@jupyter-widgets/base",
       "_view_module_version": "1.2.0",
       "_view_name": "StyleView",
       "description_width": ""
      }
     },
     "e89ee54d7748470db1993905e0c49778": {
      "model_module": "@jupyter-widgets/base",
      "model_module_version": "1.2.0",
      "model_name": "LayoutModel",
      "state": {
       "_model_module": "@jupyter-widgets/base",
       "_model_module_version": "1.2.0",
       "_model_name": "LayoutModel",
       "_view_count": null,
       "_view_module": "@jupyter-widgets/base",
       "_view_module_version": "1.2.0",
       "_view_name": "LayoutView",
       "align_content": null,
       "align_items": null,
       "align_self": null,
       "border": null,
       "bottom": null,
       "display": null,
       "flex": null,
       "flex_flow": null,
       "grid_area": null,
       "grid_auto_columns": null,
       "grid_auto_flow": null,
       "grid_auto_rows": null,
       "grid_column": null,
       "grid_gap": null,
       "grid_row": null,
       "grid_template_areas": null,
       "grid_template_columns": null,
       "grid_template_rows": null,
       "height": null,
       "justify_content": null,
       "justify_items": null,
       "left": null,
       "margin": null,
       "max_height": null,
       "max_width": null,
       "min_height": null,
       "min_width": null,
       "object_fit": null,
       "object_position": null,
       "order": null,
       "overflow": null,
       "overflow_x": null,
       "overflow_y": null,
       "padding": null,
       "right": null,
       "top": null,
       "visibility": null,
       "width": null
      }
     },
     "e9f244603d9a4a3ca8916e62d0262f3d": {
      "model_module": "@jupyter-widgets/controls",
      "model_module_version": "1.5.0",
      "model_name": "HBoxModel",
      "state": {
       "_dom_classes": [],
       "_model_module": "@jupyter-widgets/controls",
       "_model_module_version": "1.5.0",
       "_model_name": "HBoxModel",
       "_view_count": null,
       "_view_module": "@jupyter-widgets/controls",
       "_view_module_version": "1.5.0",
       "_view_name": "HBoxView",
       "box_style": "",
       "children": [
        "IPY_MODEL_1fb6096c65994b9bbf60a27bdbaee2c2",
        "IPY_MODEL_4a48d5ef7e5e4e258c44d465675d1c24",
        "IPY_MODEL_479edfb557f84c9099e224fdf96c02d4"
       ],
       "layout": "IPY_MODEL_18ece0d39aa845c48ebcf1d23302e38f"
      }
     },
     "ed8b693a6ee141b4b0f1373a836dad49": {
      "model_module": "@jupyter-widgets/base",
      "model_module_version": "1.2.0",
      "model_name": "LayoutModel",
      "state": {
       "_model_module": "@jupyter-widgets/base",
       "_model_module_version": "1.2.0",
       "_model_name": "LayoutModel",
       "_view_count": null,
       "_view_module": "@jupyter-widgets/base",
       "_view_module_version": "1.2.0",
       "_view_name": "LayoutView",
       "align_content": null,
       "align_items": null,
       "align_self": null,
       "border": null,
       "bottom": null,
       "display": null,
       "flex": null,
       "flex_flow": null,
       "grid_area": null,
       "grid_auto_columns": null,
       "grid_auto_flow": null,
       "grid_auto_rows": null,
       "grid_column": null,
       "grid_gap": null,
       "grid_row": null,
       "grid_template_areas": null,
       "grid_template_columns": null,
       "grid_template_rows": null,
       "height": null,
       "justify_content": null,
       "justify_items": null,
       "left": null,
       "margin": null,
       "max_height": null,
       "max_width": null,
       "min_height": null,
       "min_width": null,
       "object_fit": null,
       "object_position": null,
       "order": null,
       "overflow": null,
       "overflow_x": null,
       "overflow_y": null,
       "padding": null,
       "right": null,
       "top": null,
       "visibility": null,
       "width": null
      }
     },
     "f1e9e41e6b44481f8faa9e5b61136c77": {
      "model_module": "@jupyter-widgets/base",
      "model_module_version": "1.2.0",
      "model_name": "LayoutModel",
      "state": {
       "_model_module": "@jupyter-widgets/base",
       "_model_module_version": "1.2.0",
       "_model_name": "LayoutModel",
       "_view_count": null,
       "_view_module": "@jupyter-widgets/base",
       "_view_module_version": "1.2.0",
       "_view_name": "LayoutView",
       "align_content": null,
       "align_items": null,
       "align_self": null,
       "border": null,
       "bottom": null,
       "display": null,
       "flex": null,
       "flex_flow": null,
       "grid_area": null,
       "grid_auto_columns": null,
       "grid_auto_flow": null,
       "grid_auto_rows": null,
       "grid_column": null,
       "grid_gap": null,
       "grid_row": null,
       "grid_template_areas": null,
       "grid_template_columns": null,
       "grid_template_rows": null,
       "height": null,
       "justify_content": null,
       "justify_items": null,
       "left": null,
       "margin": null,
       "max_height": null,
       "max_width": null,
       "min_height": null,
       "min_width": null,
       "object_fit": null,
       "object_position": null,
       "order": null,
       "overflow": null,
       "overflow_x": null,
       "overflow_y": null,
       "padding": null,
       "right": null,
       "top": null,
       "visibility": null,
       "width": null
      }
     },
     "f2456ff8366646ec916c2643c862124d": {
      "model_module": "@jupyter-widgets/controls",
      "model_module_version": "1.5.0",
      "model_name": "ProgressStyleModel",
      "state": {
       "_model_module": "@jupyter-widgets/controls",
       "_model_module_version": "1.5.0",
       "_model_name": "ProgressStyleModel",
       "_view_count": null,
       "_view_module": "@jupyter-widgets/base",
       "_view_module_version": "1.2.0",
       "_view_name": "StyleView",
       "bar_color": null,
       "description_width": ""
      }
     },
     "f330eb4f656e4b8188bf3e9d929b426e": {
      "model_module": "@jupyter-widgets/controls",
      "model_module_version": "1.5.0",
      "model_name": "DescriptionStyleModel",
      "state": {
       "_model_module": "@jupyter-widgets/controls",
       "_model_module_version": "1.5.0",
       "_model_name": "DescriptionStyleModel",
       "_view_count": null,
       "_view_module": "@jupyter-widgets/base",
       "_view_module_version": "1.2.0",
       "_view_name": "StyleView",
       "description_width": ""
      }
     },
     "f5be355b99f24477a4c4cea9d04bce73": {
      "model_module": "@jupyter-widgets/base",
      "model_module_version": "1.2.0",
      "model_name": "LayoutModel",
      "state": {
       "_model_module": "@jupyter-widgets/base",
       "_model_module_version": "1.2.0",
       "_model_name": "LayoutModel",
       "_view_count": null,
       "_view_module": "@jupyter-widgets/base",
       "_view_module_version": "1.2.0",
       "_view_name": "LayoutView",
       "align_content": null,
       "align_items": null,
       "align_self": null,
       "border": null,
       "bottom": null,
       "display": null,
       "flex": null,
       "flex_flow": null,
       "grid_area": null,
       "grid_auto_columns": null,
       "grid_auto_flow": null,
       "grid_auto_rows": null,
       "grid_column": null,
       "grid_gap": null,
       "grid_row": null,
       "grid_template_areas": null,
       "grid_template_columns": null,
       "grid_template_rows": null,
       "height": null,
       "justify_content": null,
       "justify_items": null,
       "left": null,
       "margin": null,
       "max_height": null,
       "max_width": null,
       "min_height": null,
       "min_width": null,
       "object_fit": null,
       "object_position": null,
       "order": null,
       "overflow": null,
       "overflow_x": null,
       "overflow_y": null,
       "padding": null,
       "right": null,
       "top": null,
       "visibility": "hidden",
       "width": null
      }
     },
     "f6bfadaf482c4004bd3a1e888a4bf9cf": {
      "model_module": "@jupyter-widgets/controls",
      "model_module_version": "1.5.0",
      "model_name": "FloatProgressModel",
      "state": {
       "_dom_classes": [],
       "_model_module": "@jupyter-widgets/controls",
       "_model_module_version": "1.5.0",
       "_model_name": "FloatProgressModel",
       "_view_count": null,
       "_view_module": "@jupyter-widgets/controls",
       "_view_module_version": "1.5.0",
       "_view_name": "ProgressView",
       "bar_style": "success",
       "description": "",
       "description_tooltip": null,
       "layout": "IPY_MODEL_a816477e84f2451985ce24de537c85e8",
       "max": 150.0,
       "min": 0.0,
       "orientation": "horizontal",
       "style": "IPY_MODEL_36490cc396084751873825a4d2dcd1b5",
       "value": 150.0
      }
     },
     "f750c9aa686e47289b43d9ef842f3da6": {
      "model_module": "@jupyter-widgets/base",
      "model_module_version": "1.2.0",
      "model_name": "LayoutModel",
      "state": {
       "_model_module": "@jupyter-widgets/base",
       "_model_module_version": "1.2.0",
       "_model_name": "LayoutModel",
       "_view_count": null,
       "_view_module": "@jupyter-widgets/base",
       "_view_module_version": "1.2.0",
       "_view_name": "LayoutView",
       "align_content": null,
       "align_items": null,
       "align_self": null,
       "border": null,
       "bottom": null,
       "display": null,
       "flex": null,
       "flex_flow": null,
       "grid_area": null,
       "grid_auto_columns": null,
       "grid_auto_flow": null,
       "grid_auto_rows": null,
       "grid_column": null,
       "grid_gap": null,
       "grid_row": null,
       "grid_template_areas": null,
       "grid_template_columns": null,
       "grid_template_rows": null,
       "height": null,
       "justify_content": null,
       "justify_items": null,
       "left": null,
       "margin": null,
       "max_height": null,
       "max_width": null,
       "min_height": null,
       "min_width": null,
       "object_fit": null,
       "object_position": null,
       "order": null,
       "overflow": null,
       "overflow_x": null,
       "overflow_y": null,
       "padding": null,
       "right": null,
       "top": null,
       "visibility": null,
       "width": null
      }
     },
     "f7df8675ef71411cb4ef3f6868b324b4": {
      "model_module": "@jupyter-widgets/controls",
      "model_module_version": "1.5.0",
      "model_name": "HTMLModel",
      "state": {
       "_dom_classes": [],
       "_model_module": "@jupyter-widgets/controls",
       "_model_module_version": "1.5.0",
       "_model_name": "HTMLModel",
       "_view_count": null,
       "_view_module": "@jupyter-widgets/controls",
       "_view_module_version": "1.5.0",
       "_view_name": "HTMLView",
       "description": "",
       "description_tooltip": null,
       "layout": "IPY_MODEL_5e663bbc40a14111980fca09b1a6d775",
       "placeholder": "​",
       "style": "IPY_MODEL_3f31d55f92fd4be7849477008e183d6b",
       "value": " 2.88k/? [00:00&lt;00:00, 177kB/s]"
      }
     },
     "f81fd382894840acaac947fef6e68259": {
      "model_module": "@jupyter-widgets/base",
      "model_module_version": "1.2.0",
      "model_name": "LayoutModel",
      "state": {
       "_model_module": "@jupyter-widgets/base",
       "_model_module_version": "1.2.0",
       "_model_name": "LayoutModel",
       "_view_count": null,
       "_view_module": "@jupyter-widgets/base",
       "_view_module_version": "1.2.0",
       "_view_name": "LayoutView",
       "align_content": null,
       "align_items": null,
       "align_self": null,
       "border": null,
       "bottom": null,
       "display": null,
       "flex": null,
       "flex_flow": null,
       "grid_area": null,
       "grid_auto_columns": null,
       "grid_auto_flow": null,
       "grid_auto_rows": null,
       "grid_column": null,
       "grid_gap": null,
       "grid_row": null,
       "grid_template_areas": null,
       "grid_template_columns": null,
       "grid_template_rows": null,
       "height": null,
       "justify_content": null,
       "justify_items": null,
       "left": null,
       "margin": null,
       "max_height": null,
       "max_width": null,
       "min_height": null,
       "min_width": null,
       "object_fit": null,
       "object_position": null,
       "order": null,
       "overflow": null,
       "overflow_x": null,
       "overflow_y": null,
       "padding": null,
       "right": null,
       "top": null,
       "visibility": null,
       "width": null
      }
     },
     "f9938d6ef0c1420698ff52e2b25b46bb": {
      "model_module": "@jupyter-widgets/base",
      "model_module_version": "1.2.0",
      "model_name": "LayoutModel",
      "state": {
       "_model_module": "@jupyter-widgets/base",
       "_model_module_version": "1.2.0",
       "_model_name": "LayoutModel",
       "_view_count": null,
       "_view_module": "@jupyter-widgets/base",
       "_view_module_version": "1.2.0",
       "_view_name": "LayoutView",
       "align_content": null,
       "align_items": null,
       "align_self": null,
       "border": null,
       "bottom": null,
       "display": null,
       "flex": null,
       "flex_flow": null,
       "grid_area": null,
       "grid_auto_columns": null,
       "grid_auto_flow": null,
       "grid_auto_rows": null,
       "grid_column": null,
       "grid_gap": null,
       "grid_row": null,
       "grid_template_areas": null,
       "grid_template_columns": null,
       "grid_template_rows": null,
       "height": null,
       "justify_content": null,
       "justify_items": null,
       "left": null,
       "margin": null,
       "max_height": null,
       "max_width": null,
       "min_height": null,
       "min_width": null,
       "object_fit": null,
       "object_position": null,
       "order": null,
       "overflow": null,
       "overflow_x": null,
       "overflow_y": null,
       "padding": null,
       "right": null,
       "top": null,
       "visibility": null,
       "width": null
      }
     },
     "fafc32bdae0c45f8adae7345a50c5b1f": {
      "model_module": "@jupyter-widgets/controls",
      "model_module_version": "1.5.0",
      "model_name": "DescriptionStyleModel",
      "state": {
       "_model_module": "@jupyter-widgets/controls",
       "_model_module_version": "1.5.0",
       "_model_name": "DescriptionStyleModel",
       "_view_count": null,
       "_view_module": "@jupyter-widgets/base",
       "_view_module_version": "1.2.0",
       "_view_name": "StyleView",
       "description_width": ""
      }
     },
     "fbc4373e347f4f1d842e8557e3fd7015": {
      "model_module": "@jupyter-widgets/controls",
      "model_module_version": "1.5.0",
      "model_name": "HBoxModel",
      "state": {
       "_dom_classes": [],
       "_model_module": "@jupyter-widgets/controls",
       "_model_module_version": "1.5.0",
       "_model_name": "HBoxModel",
       "_view_count": null,
       "_view_module": "@jupyter-widgets/controls",
       "_view_module_version": "1.5.0",
       "_view_name": "HBoxView",
       "box_style": "",
       "children": [
        "IPY_MODEL_5854e5c340914bb58487b5f1e4bf303d",
        "IPY_MODEL_8424b810ab1b4b0d9c09712b07c84bee",
        "IPY_MODEL_7edf9889f3f04f6486358d1bd66d00fa"
       ],
       "layout": "IPY_MODEL_0ec6a3c22110444998dd8fc340b541b8"
      }
     }
    },
    "version_major": 2,
    "version_minor": 0
   }
  }
 },
 "nbformat": 4,
 "nbformat_minor": 5
}
