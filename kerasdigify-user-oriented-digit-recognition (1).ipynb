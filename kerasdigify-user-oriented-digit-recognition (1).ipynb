{
 "cells": [
  {
   "cell_type": "code",
   "execution_count": 1,
   "id": "d79f0ff0",
   "metadata": {
    "_cell_guid": "b1076dfc-b9ad-4769-8c92-a6c4dae69d19",
    "_uuid": "8f2839f25d086af736a60e9eeb907d3b93b6e0e5",
    "execution": {
     "iopub.execute_input": "2024-04-01T16:43:46.678606Z",
     "iopub.status.busy": "2024-04-01T16:43:46.678064Z",
     "iopub.status.idle": "2024-04-01T16:43:47.586693Z",
     "shell.execute_reply": "2024-04-01T16:43:47.585604Z"
    },
    "papermill": {
     "duration": 0.922539,
     "end_time": "2024-04-01T16:43:47.589653",
     "exception": false,
     "start_time": "2024-04-01T16:43:46.667114",
     "status": "completed"
    },
    "tags": []
   },
   "outputs": [
    {
     "name": "stdout",
     "output_type": "stream",
     "text": [
      "/kaggle/input/digit-recognizer/sample_submission.csv\n",
      "/kaggle/input/digit-recognizer/train.csv\n",
      "/kaggle/input/digit-recognizer/test.csv\n"
     ]
    }
   ],
   "source": [
    "# This Python 3 environment comes with many helpful analytics libraries installed\n",
    "# It is defined by the kaggle/python Docker image: https://github.com/kaggle/docker-python\n",
    "# For example, here's several helpful packages to load\n",
    "\n",
    "import numpy as np # linear algebra\n",
    "import pandas as pd # data processing, CSV file I/O (e.g. pd.read_csv)\n",
    "\n",
    "# Input data files are available in the read-only \"../input/\" directory\n",
    "# For example, running this (by clicking run or pressing Shift+Enter) will list all files under the input directory\n",
    "\n",
    "import os\n",
    "for dirname, _, filenames in os.walk('/kaggle/input'):\n",
    "    for filename in filenames:\n",
    "        print(os.path.join(dirname, filename))\n",
    "\n",
    "# You can write up to 20GB to the current directory (/kaggle/working/) that gets preserved as output when you create a version using \"Save & Run All\" \n",
    "# You can also write temporary files to /kaggle/temp/, but they won't be saved outside of the current session"
   ]
  },
  {
   "cell_type": "code",
   "execution_count": 2,
   "id": "f5cc0578",
   "metadata": {
    "execution": {
     "iopub.execute_input": "2024-04-01T16:43:47.607496Z",
     "iopub.status.busy": "2024-04-01T16:43:47.606960Z",
     "iopub.status.idle": "2024-04-01T16:44:01.762662Z",
     "shell.execute_reply": "2024-04-01T16:44:01.761534Z"
    },
    "papermill": {
     "duration": 14.167894,
     "end_time": "2024-04-01T16:44:01.765674",
     "exception": false,
     "start_time": "2024-04-01T16:43:47.597780",
     "status": "completed"
    },
    "tags": []
   },
   "outputs": [
    {
     "name": "stderr",
     "output_type": "stream",
     "text": [
      "2024-04-01 16:43:49.770915: E external/local_xla/xla/stream_executor/cuda/cuda_dnn.cc:9261] Unable to register cuDNN factory: Attempting to register factory for plugin cuDNN when one has already been registered\n",
      "2024-04-01 16:43:49.771199: E external/local_xla/xla/stream_executor/cuda/cuda_fft.cc:607] Unable to register cuFFT factory: Attempting to register factory for plugin cuFFT when one has already been registered\n",
      "2024-04-01 16:43:49.936410: E external/local_xla/xla/stream_executor/cuda/cuda_blas.cc:1515] Unable to register cuBLAS factory: Attempting to register factory for plugin cuBLAS when one has already been registered\n"
     ]
    }
   ],
   "source": [
    "import tensorflow\n",
    "from tensorflow import keras\n",
    "from tensorflow.keras import Sequential\n",
    "from tensorflow.keras.layers import Dense, Flatten"
   ]
  },
  {
   "cell_type": "code",
   "execution_count": 3,
   "id": "60ced3ef",
   "metadata": {
    "execution": {
     "iopub.execute_input": "2024-04-01T16:44:01.801024Z",
     "iopub.status.busy": "2024-04-01T16:44:01.800266Z",
     "iopub.status.idle": "2024-04-01T16:44:02.271255Z",
     "shell.execute_reply": "2024-04-01T16:44:02.269554Z"
    },
    "papermill": {
     "duration": 0.483902,
     "end_time": "2024-04-01T16:44:02.274605",
     "exception": false,
     "start_time": "2024-04-01T16:44:01.790703",
     "status": "completed"
    },
    "tags": []
   },
   "outputs": [
    {
     "name": "stdout",
     "output_type": "stream",
     "text": [
      "Downloading data from https://storage.googleapis.com/tensorflow/tf-keras-datasets/mnist.npz\n",
      "\u001b[1m11490434/11490434\u001b[0m \u001b[32m━━━━━━━━━━━━━━━━━━━━\u001b[0m\u001b[37m\u001b[0m \u001b[1m0s\u001b[0m 0us/step\n"
     ]
    }
   ],
   "source": [
    "(X_train,y_train),(X_test,y_test) = keras.datasets.mnist.load_data()"
   ]
  },
  {
   "cell_type": "code",
   "execution_count": 4,
   "id": "2199df2e",
   "metadata": {
    "execution": {
     "iopub.execute_input": "2024-04-01T16:44:02.304743Z",
     "iopub.status.busy": "2024-04-01T16:44:02.304338Z",
     "iopub.status.idle": "2024-04-01T16:44:02.632267Z",
     "shell.execute_reply": "2024-04-01T16:44:02.630794Z"
    },
    "papermill": {
     "duration": 0.344563,
     "end_time": "2024-04-01T16:44:02.635174",
     "exception": false,
     "start_time": "2024-04-01T16:44:02.290611",
     "status": "completed"
    },
    "tags": []
   },
   "outputs": [
    {
     "data": {
      "text/plain": [
       "<matplotlib.image.AxesImage at 0x7c2aed51bb50>"
      ]
     },
     "execution_count": 4,
     "metadata": {},
     "output_type": "execute_result"
    },
    {
     "data": {
      "image/png": "[encoded data removed]",
      "text/plain": [
       "<Figure size 640x480 with 1 Axes>"
      ]
     },
     "metadata": {},
     "output_type": "display_data"
    }
   ],
   "source": [
    "import matplotlib.pyplot as plt\n",
    "plt.imshow(X_train[2])"
   ]
  },
  {
   "cell_type": "code",
   "execution_count": 5,
   "id": "4f0f47df",
   "metadata": {
    "execution": {
     "iopub.execute_input": "2024-04-01T16:44:02.653583Z",
     "iopub.status.busy": "2024-04-01T16:44:02.653181Z",
     "iopub.status.idle": "2024-04-01T16:44:02.849800Z",
     "shell.execute_reply": "2024-04-01T16:44:02.848523Z"
    },
    "papermill": {
     "duration": 0.209796,
     "end_time": "2024-04-01T16:44:02.853220",
     "exception": false,
     "start_time": "2024-04-01T16:44:02.643424",
     "status": "completed"
    },
    "tags": []
   },
   "outputs": [],
   "source": [
    "X_train = X_train/255\n",
    "X_test = X_test/255"
   ]
  },
  {
   "cell_type": "code",
   "execution_count": 6,
   "id": "851d279c",
   "metadata": {
    "execution": {
     "iopub.execute_input": "2024-04-01T16:44:02.874109Z",
     "iopub.status.busy": "2024-04-01T16:44:02.873690Z",
     "iopub.status.idle": "2024-04-01T16:44:02.960602Z",
     "shell.execute_reply": "2024-04-01T16:44:02.957747Z"
    },
    "papermill": {
     "duration": 0.100564,
     "end_time": "2024-04-01T16:44:02.963635",
     "exception": false,
     "start_time": "2024-04-01T16:44:02.863071",
     "status": "completed"
    },
    "tags": []
   },
   "outputs": [
    {
     "name": "stderr",
     "output_type": "stream",
     "text": [
      "/opt/conda/lib/python3.10/site-packages/keras/src/layers/reshaping/flatten.py:37: UserWarning: Do not pass an `input_shape`/`input_dim` argument to a layer. When using Sequential models, prefer using an `Input(shape)` object as the first layer in the model instead.\n",
      "  super().__init__(**kwargs)\n"
     ]
    }
   ],
   "source": [
    "model = Sequential()\n",
    "model.add(Flatten(input_shape=(28,28)))\n",
    "model.add(Dense(128,activation='relu'))\n",
    "model.add(Dense(10,activation='softmax'))"
   ]
  },
  {
   "cell_type": "code",
   "execution_count": 7,
   "id": "b873a5bd",
   "metadata": {
    "execution": {
     "iopub.execute_input": "2024-04-01T16:44:02.984169Z",
     "iopub.status.busy": "2024-04-01T16:44:02.983664Z",
     "iopub.status.idle": "2024-04-01T16:44:03.011915Z",
     "shell.execute_reply": "2024-04-01T16:44:03.010161Z"
    },
    "papermill": {
     "duration": 0.042707,
     "end_time": "2024-04-01T16:44:03.015175",
     "exception": false,
     "start_time": "2024-04-01T16:44:02.972468",
     "status": "completed"
    },
    "tags": []
   },
   "outputs": [
    {
     "data": {
      "text/html": [
       "<pre style=\"white-space:pre;overflow-x:auto;line-height:normal;font-family:Menlo,'DejaVu Sans Mono',consolas,'Courier New',monospace\"><span style=\"font-weight: bold\">Model: \"sequential\"</span>\n",
       "</pre>\n"
      ],
      "text/plain": [
       "\u001b[1mModel: \"sequential\"\u001b[0m\n"
      ]
     },
     "metadata": {},
     "output_type": "display_data"
    },
    {
     "data": {
      "text/html": [
       "<pre style=\"white-space:pre;overflow-x:auto;line-height:normal;font-family:Menlo,'DejaVu Sans Mono',consolas,'Courier New',monospace\">┏━━━━━━━━━━━━━━━━━━━━━━━━━━━━━━━━━┳━━━━━━━━━━━━━━━━━━━━━━━━┳━━━━━━━━━━━━━━━┓\n",
       "┃<span style=\"font-weight: bold\"> Layer (type)                    </span>┃<span style=\"font-weight: bold\"> Output Shape           </span>┃<span style=\"font-weight: bold\">       Param # </span>┃\n",
       "┡━━━━━━━━━━━━━━━━━━━━━━━━━━━━━━━━━╇━━━━━━━━━━━━━━━━━━━━━━━━╇━━━━━━━━━━━━━━━┩\n",
       "│ flatten (<span style=\"color: #0087ff; text-decoration-color: #0087ff\">Flatten</span>)               │ (<span style=\"color: #00d7ff; text-decoration-color: #00d7ff\">None</span>, <span style=\"color: #00af00; text-decoration-color: #00af00\">784</span>)            │             <span style=\"color: #00af00; text-decoration-color: #00af00\">0</span> │\n",
       "├─────────────────────────────────┼────────────────────────┼───────────────┤\n",
       "│ dense (<span style=\"color: #0087ff; text-decoration-color: #0087ff\">Dense</span>)                   │ (<span style=\"color: #00d7ff; text-decoration-color: #00d7ff\">None</span>, <span style=\"color: #00af00; text-decoration-color: #00af00\">128</span>)            │       <span style=\"color: #00af00; text-decoration-color: #00af00\">100,480</span> │\n",
       "├─────────────────────────────────┼────────────────────────┼───────────────┤\n",
       "│ dense_1 (<span style=\"color: #0087ff; text-decoration-color: #0087ff\">Dense</span>)                 │ (<span style=\"color: #00d7ff; text-decoration-color: #00d7ff\">None</span>, <span style=\"color: #00af00; text-decoration-color: #00af00\">10</span>)             │         <span style=\"color: #00af00; text-decoration-color: #00af00\">1,290</span> │\n",
       "└─────────────────────────────────┴────────────────────────┴───────────────┘\n",
       "</pre>\n"
      ],
      "text/plain": [
       "┏━━━━━━━━━━━━━━━━━━━━━━━━━━━━━━━━━┳━━━━━━━━━━━━━━━━━━━━━━━━┳━━━━━━━━━━━━━━━┓\n",
       "┃\u001b[1m \u001b[0m\u001b[1mLayer (type)                   \u001b[0m\u001b[1m \u001b[0m┃\u001b[1m \u001b[0m\u001b[1mOutput Shape          \u001b[0m\u001b[1m \u001b[0m┃\u001b[1m \u001b[0m\u001b[1m      Param #\u001b[0m\u001b[1m \u001b[0m┃\n",
       "┡━━━━━━━━━━━━━━━━━━━━━━━━━━━━━━━━━╇━━━━━━━━━━━━━━━━━━━━━━━━╇━━━━━━━━━━━━━━━┩\n",
       "│ flatten (\u001b[38;5;33mFlatten\u001b[0m)               │ (\u001b[38;5;45mNone\u001b[0m, \u001b[38;5;34m784\u001b[0m)            │             \u001b[38;5;34m0\u001b[0m │\n",
       "├─────────────────────────────────┼────────────────────────┼───────────────┤\n",
       "│ dense (\u001b[38;5;33mDense\u001b[0m)                   │ (\u001b[38;5;45mNone\u001b[0m, \u001b[38;5;34m128\u001b[0m)            │       \u001b[38;5;34m100,480\u001b[0m │\n",
       "├─────────────────────────────────┼────────────────────────┼───────────────┤\n",
       "│ dense_1 (\u001b[38;5;33mDense\u001b[0m)                 │ (\u001b[38;5;45mNone\u001b[0m, \u001b[38;5;34m10\u001b[0m)             │         \u001b[38;5;34m1,290\u001b[0m │\n",
       "└─────────────────────────────────┴────────────────────────┴───────────────┘\n"
      ]
     },
     "metadata": {},
     "output_type": "display_data"
    },
    {
     "data": {
      "text/html": [
       "<pre style=\"white-space:pre;overflow-x:auto;line-height:normal;font-family:Menlo,'DejaVu Sans Mono',consolas,'Courier New',monospace\"><span style=\"font-weight: bold\"> Total params: </span><span style=\"color: #00af00; text-decoration-color: #00af00\">101,770</span> (397.54 KB)\n",
       "</pre>\n"
      ],
      "text/plain": [
       "\u001b[1m Total params: \u001b[0m\u001b[38;5;34m101,770\u001b[0m (397.54 KB)\n"
      ]
     },
     "metadata": {},
     "output_type": "display_data"
    },
    {
     "data": {
      "text/html": [
       "<pre style=\"white-space:pre;overflow-x:auto;line-height:normal;font-family:Menlo,'DejaVu Sans Mono',consolas,'Courier New',monospace\"><span style=\"font-weight: bold\"> Trainable params: </span><span style=\"color: #00af00; text-decoration-color: #00af00\">101,770</span> (397.54 KB)\n",
       "</pre>\n"
      ],
      "text/plain": [
       "\u001b[1m Trainable params: \u001b[0m\u001b[38;5;34m101,770\u001b[0m (397.54 KB)\n"
      ]
     },
     "metadata": {},
     "output_type": "display_data"
    },
    {
     "data": {
      "text/html": [
       "<pre style=\"white-space:pre;overflow-x:auto;line-height:normal;font-family:Menlo,'DejaVu Sans Mono',consolas,'Courier New',monospace\"><span style=\"font-weight: bold\"> Non-trainable params: </span><span style=\"color: #00af00; text-decoration-color: #00af00\">0</span> (0.00 B)\n",
       "</pre>\n"
      ],
      "text/plain": [
       "\u001b[1m Non-trainable params: \u001b[0m\u001b[38;5;34m0\u001b[0m (0.00 B)\n"
      ]
     },
     "metadata": {},
     "output_type": "display_data"
    }
   ],
   "source": [
    "model.summary()"
   ]
  },
  {
   "cell_type": "code",
   "execution_count": 8,
   "id": "8cefd41b",
   "metadata": {
    "execution": {
     "iopub.execute_input": "2024-04-01T16:44:03.037054Z",
     "iopub.status.busy": "2024-04-01T16:44:03.036625Z",
     "iopub.status.idle": "2024-04-01T16:44:03.051967Z",
     "shell.execute_reply": "2024-04-01T16:44:03.050840Z"
    },
    "papermill": {
     "duration": 0.03003,
     "end_time": "2024-04-01T16:44:03.055026",
     "exception": false,
     "start_time": "2024-04-01T16:44:03.024996",
     "status": "completed"
    },
    "tags": []
   },
   "outputs": [],
   "source": [
    "model.compile(loss='sparse_categorical_crossentropy',optimizer='Adam',metrics=['accuracy'])"
   ]
  },
  {
   "cell_type": "code",
   "execution_count": 9,
   "id": "aeb1f8f7",
   "metadata": {
    "execution": {
     "iopub.execute_input": "2024-04-01T16:44:03.078198Z",
     "iopub.status.busy": "2024-04-01T16:44:03.077773Z",
     "iopub.status.idle": "2024-04-01T16:48:11.527049Z",
     "shell.execute_reply": "2024-04-01T16:48:11.525418Z"
    },
    "papermill": {
     "duration": 248.464415,
     "end_time": "2024-04-01T16:48:11.530666",
     "exception": false,
     "start_time": "2024-04-01T16:44:03.066251",
     "status": "completed"
    },
    "tags": []
   },
   "outputs": [
    {
     "name": "stdout",
     "output_type": "stream",
     "text": [
      "Epoch 1/30\n",
      "\u001b[1m1500/1500\u001b[0m \u001b[32m━━━━━━━━━━━━━━━━━━━━\u001b[0m\u001b[37m\u001b[0m \u001b[1m7s\u001b[0m 4ms/step - accuracy: 0.8608 - loss: 0.4898 - val_accuracy: 0.9557 - val_loss: 0.1551\n",
      "Epoch 2/30\n",
      "\u001b[1m1500/1500\u001b[0m \u001b[32m━━━━━━━━━━━━━━━━━━━━\u001b[0m\u001b[37m\u001b[0m \u001b[1m10s\u001b[0m 4ms/step - accuracy: 0.9579 - loss: 0.1382 - val_accuracy: 0.9620 - val_loss: 0.1266\n",
      "Epoch 3/30\n",
      "\u001b[1m1500/1500\u001b[0m \u001b[32m━━━━━━━━━━━━━━━━━━━━\u001b[0m\u001b[37m\u001b[0m \u001b[1m11s\u001b[0m 5ms/step - accuracy: 0.9727 - loss: 0.0922 - val_accuracy: 0.9707 - val_loss: 0.0988\n",
      "Epoch 4/30\n",
      "\u001b[1m1500/1500\u001b[0m \u001b[32m━━━━━━━━━━━━━━━━━━━━\u001b[0m\u001b[37m\u001b[0m \u001b[1m6s\u001b[0m 4ms/step - accuracy: 0.9814 - loss: 0.0625 - val_accuracy: 0.9718 - val_loss: 0.0942\n",
      "Epoch 5/30\n",
      "\u001b[1m1500/1500\u001b[0m \u001b[32m━━━━━━━━━━━━━━━━━━━━\u001b[0m\u001b[37m\u001b[0m \u001b[1m11s\u001b[0m 4ms/step - accuracy: 0.9849 - loss: 0.0507 - val_accuracy: 0.9743 - val_loss: 0.0888\n",
      "Epoch 6/30\n",
      "\u001b[1m1500/1500\u001b[0m \u001b[32m━━━━━━━━━━━━━━━━━━━━\u001b[0m\u001b[37m\u001b[0m \u001b[1m6s\u001b[0m 4ms/step - accuracy: 0.9891 - loss: 0.0373 - val_accuracy: 0.9733 - val_loss: 0.0920\n",
      "Epoch 7/30\n",
      "\u001b[1m1500/1500\u001b[0m \u001b[32m━━━━━━━━━━━━━━━━━━━━\u001b[0m\u001b[37m\u001b[0m \u001b[1m6s\u001b[0m 4ms/step - accuracy: 0.9915 - loss: 0.0305 - val_accuracy: 0.9748 - val_loss: 0.0917\n",
      "Epoch 8/30\n",
      "\u001b[1m1500/1500\u001b[0m \u001b[32m━━━━━━━━━━━━━━━━━━━━\u001b[0m\u001b[37m\u001b[0m \u001b[1m10s\u001b[0m 4ms/step - accuracy: 0.9928 - loss: 0.0248 - val_accuracy: 0.9737 - val_loss: 0.0913\n",
      "Epoch 9/30\n",
      "\u001b[1m1500/1500\u001b[0m \u001b[32m━━━━━━━━━━━━━━━━━━━━\u001b[0m\u001b[37m\u001b[0m \u001b[1m10s\u001b[0m 4ms/step - accuracy: 0.9957 - loss: 0.0174 - val_accuracy: 0.9775 - val_loss: 0.0911\n",
      "Epoch 10/30\n",
      "\u001b[1m1500/1500\u001b[0m \u001b[32m━━━━━━━━━━━━━━━━━━━━\u001b[0m\u001b[37m\u001b[0m \u001b[1m6s\u001b[0m 4ms/step - accuracy: 0.9961 - loss: 0.0145 - val_accuracy: 0.9765 - val_loss: 0.0956\n",
      "Epoch 11/30\n",
      "\u001b[1m1500/1500\u001b[0m \u001b[32m━━━━━━━━━━━━━━━━━━━━\u001b[0m\u001b[37m\u001b[0m \u001b[1m7s\u001b[0m 5ms/step - accuracy: 0.9956 - loss: 0.0145 - val_accuracy: 0.9753 - val_loss: 0.0979\n",
      "Epoch 12/30\n",
      "\u001b[1m1500/1500\u001b[0m \u001b[32m━━━━━━━━━━━━━━━━━━━━\u001b[0m\u001b[37m\u001b[0m \u001b[1m9s\u001b[0m 4ms/step - accuracy: 0.9972 - loss: 0.0101 - val_accuracy: 0.9774 - val_loss: 0.0976\n",
      "Epoch 13/30\n",
      "\u001b[1m1500/1500\u001b[0m \u001b[32m━━━━━━━━━━━━━━━━━━━━\u001b[0m\u001b[37m\u001b[0m \u001b[1m6s\u001b[0m 4ms/step - accuracy: 0.9976 - loss: 0.0087 - val_accuracy: 0.9747 - val_loss: 0.1049\n",
      "Epoch 14/30\n",
      "\u001b[1m1500/1500\u001b[0m \u001b[32m━━━━━━━━━━━━━━━━━━━━\u001b[0m\u001b[37m\u001b[0m \u001b[1m6s\u001b[0m 4ms/step - accuracy: 0.9972 - loss: 0.0098 - val_accuracy: 0.9743 - val_loss: 0.1061\n",
      "Epoch 15/30\n",
      "\u001b[1m1500/1500\u001b[0m \u001b[32m━━━━━━━━━━━━━━━━━━━━\u001b[0m\u001b[37m\u001b[0m \u001b[1m11s\u001b[0m 4ms/step - accuracy: 0.9991 - loss: 0.0043 - val_accuracy: 0.9768 - val_loss: 0.1101\n",
      "Epoch 16/30\n",
      "\u001b[1m1500/1500\u001b[0m \u001b[32m━━━━━━━━━━━━━━━━━━━━\u001b[0m\u001b[37m\u001b[0m \u001b[1m11s\u001b[0m 5ms/step - accuracy: 0.9990 - loss: 0.0050 - val_accuracy: 0.9767 - val_loss: 0.1088\n",
      "Epoch 17/30\n",
      "\u001b[1m1500/1500\u001b[0m \u001b[32m━━━━━━━━━━━━━━━━━━━━\u001b[0m\u001b[37m\u001b[0m \u001b[1m10s\u001b[0m 5ms/step - accuracy: 0.9975 - loss: 0.0074 - val_accuracy: 0.9787 - val_loss: 0.1049\n",
      "Epoch 18/30\n",
      "\u001b[1m1500/1500\u001b[0m \u001b[32m━━━━━━━━━━━━━━━━━━━━\u001b[0m\u001b[37m\u001b[0m \u001b[1m7s\u001b[0m 5ms/step - accuracy: 0.9990 - loss: 0.0041 - val_accuracy: 0.9790 - val_loss: 0.1141\n",
      "Epoch 19/30\n",
      "\u001b[1m1500/1500\u001b[0m \u001b[32m━━━━━━━━━━━━━━━━━━━━\u001b[0m\u001b[37m\u001b[0m \u001b[1m9s\u001b[0m 4ms/step - accuracy: 0.9985 - loss: 0.0052 - val_accuracy: 0.9778 - val_loss: 0.1146\n",
      "Epoch 20/30\n",
      "\u001b[1m1500/1500\u001b[0m \u001b[32m━━━━━━━━━━━━━━━━━━━━\u001b[0m\u001b[37m\u001b[0m \u001b[1m11s\u001b[0m 5ms/step - accuracy: 0.9993 - loss: 0.0031 - val_accuracy: 0.9762 - val_loss: 0.1231\n",
      "Epoch 21/30\n",
      "\u001b[1m1500/1500\u001b[0m \u001b[32m━━━━━━━━━━━━━━━━━━━━\u001b[0m\u001b[37m\u001b[0m \u001b[1m6s\u001b[0m 4ms/step - accuracy: 0.9986 - loss: 0.0049 - val_accuracy: 0.9758 - val_loss: 0.1282\n",
      "Epoch 22/30\n",
      "\u001b[1m1500/1500\u001b[0m \u001b[32m━━━━━━━━━━━━━━━━━━━━\u001b[0m\u001b[37m\u001b[0m \u001b[1m11s\u001b[0m 5ms/step - accuracy: 0.9991 - loss: 0.0031 - val_accuracy: 0.9756 - val_loss: 0.1302\n",
      "Epoch 23/30\n",
      "\u001b[1m1500/1500\u001b[0m \u001b[32m━━━━━━━━━━━━━━━━━━━━\u001b[0m\u001b[37m\u001b[0m \u001b[1m10s\u001b[0m 5ms/step - accuracy: 0.9984 - loss: 0.0048 - val_accuracy: 0.9747 - val_loss: 0.1480\n",
      "Epoch 24/30\n",
      "\u001b[1m1500/1500\u001b[0m \u001b[32m━━━━━━━━━━━━━━━━━━━━\u001b[0m\u001b[37m\u001b[0m \u001b[1m7s\u001b[0m 5ms/step - accuracy: 0.9991 - loss: 0.0033 - val_accuracy: 0.9782 - val_loss: 0.1259\n",
      "Epoch 25/30\n",
      "\u001b[1m1500/1500\u001b[0m \u001b[32m━━━━━━━━━━━━━━━━━━━━\u001b[0m\u001b[37m\u001b[0m \u001b[1m10s\u001b[0m 5ms/step - accuracy: 0.9994 - loss: 0.0025 - val_accuracy: 0.9755 - val_loss: 0.1387\n",
      "Epoch 26/30\n",
      "\u001b[1m1500/1500\u001b[0m \u001b[32m━━━━━━━━━━━━━━━━━━━━\u001b[0m\u001b[37m\u001b[0m \u001b[1m6s\u001b[0m 4ms/step - accuracy: 0.9995 - loss: 0.0021 - val_accuracy: 0.9743 - val_loss: 0.1508\n",
      "Epoch 27/30\n",
      "\u001b[1m1500/1500\u001b[0m \u001b[32m━━━━━━━━━━━━━━━━━━━━\u001b[0m\u001b[37m\u001b[0m \u001b[1m6s\u001b[0m 4ms/step - accuracy: 0.9978 - loss: 0.0064 - val_accuracy: 0.9766 - val_loss: 0.1354\n",
      "Epoch 28/30\n",
      "\u001b[1m1500/1500\u001b[0m \u001b[32m━━━━━━━━━━━━━━━━━━━━\u001b[0m\u001b[37m\u001b[0m \u001b[1m6s\u001b[0m 4ms/step - accuracy: 0.9994 - loss: 0.0015 - val_accuracy: 0.9767 - val_loss: 0.1465\n",
      "Epoch 29/30\n",
      "\u001b[1m1500/1500\u001b[0m \u001b[32m━━━━━━━━━━━━━━━━━━━━\u001b[0m\u001b[37m\u001b[0m \u001b[1m6s\u001b[0m 4ms/step - accuracy: 0.9976 - loss: 0.0065 - val_accuracy: 0.9779 - val_loss: 0.1464\n",
      "Epoch 30/30\n",
      "\u001b[1m1500/1500\u001b[0m \u001b[32m━━━━━━━━━━━━━━━━━━━━\u001b[0m\u001b[37m\u001b[0m \u001b[1m6s\u001b[0m 4ms/step - accuracy: 0.9996 - loss: 0.0012 - val_accuracy: 0.9778 - val_loss: 0.1319\n"
     ]
    }
   ],
   "source": [
    "history = model.fit(X_train,y_train,epochs=30,validation_split=0.2)"
   ]
  },
  {
   "cell_type": "code",
   "execution_count": 10,
   "id": "3cea125b",
   "metadata": {
    "execution": {
     "iopub.execute_input": "2024-04-01T16:48:12.193742Z",
     "iopub.status.busy": "2024-04-01T16:48:12.193215Z",
     "iopub.status.idle": "2024-04-01T16:48:13.611161Z",
     "shell.execute_reply": "2024-04-01T16:48:13.609641Z"
    },
    "papermill": {
     "duration": 1.760335,
     "end_time": "2024-04-01T16:48:13.614663",
     "exception": false,
     "start_time": "2024-04-01T16:48:11.854328",
     "status": "completed"
    },
    "tags": []
   },
   "outputs": [
    {
     "name": "stdout",
     "output_type": "stream",
     "text": [
      "\u001b[1m313/313\u001b[0m \u001b[32m━━━━━━━━━━━━━━━━━━━━\u001b[0m\u001b[37m\u001b[0m \u001b[1m1s\u001b[0m 3ms/step\n"
     ]
    }
   ],
   "source": [
    "y_pb = model.predict(X_test)"
   ]
  },
  {
   "cell_type": "code",
   "execution_count": 11,
   "id": "d422ef59",
   "metadata": {
    "execution": {
     "iopub.execute_input": "2024-04-01T16:48:14.274026Z",
     "iopub.status.busy": "2024-04-01T16:48:14.273494Z",
     "iopub.status.idle": "2024-04-01T16:48:14.279989Z",
     "shell.execute_reply": "2024-04-01T16:48:14.278684Z"
    },
    "papermill": {
     "duration": 0.339377,
     "end_time": "2024-04-01T16:48:14.282557",
     "exception": false,
     "start_time": "2024-04-01T16:48:13.943180",
     "status": "completed"
    },
    "tags": []
   },
   "outputs": [],
   "source": [
    "y_pd = y_pb.argmax(axis=1)"
   ]
  },
  {
   "cell_type": "code",
   "execution_count": 12,
   "id": "ee3557fa",
   "metadata": {
    "execution": {
     "iopub.execute_input": "2024-04-01T16:48:14.940096Z",
     "iopub.status.busy": "2024-04-01T16:48:14.939533Z",
     "iopub.status.idle": "2024-04-01T16:48:16.023118Z",
     "shell.execute_reply": "2024-04-01T16:48:16.021987Z"
    },
    "papermill": {
     "duration": 1.415411,
     "end_time": "2024-04-01T16:48:16.025517",
     "exception": false,
     "start_time": "2024-04-01T16:48:14.610106",
     "status": "completed"
    },
    "tags": []
   },
   "outputs": [
    {
     "data": {
      "text/plain": [
       "0.9791"
      ]
     },
     "execution_count": 12,
     "metadata": {},
     "output_type": "execute_result"
    }
   ],
   "source": [
    "from sklearn.metrics import accuracy_score\n",
    "accuracy_score(y_test,y_pd)"
   ]
  },
  {
   "cell_type": "code",
   "execution_count": 13,
   "id": "c4e5bb65",
   "metadata": {
    "execution": {
     "iopub.execute_input": "2024-04-01T16:48:16.745050Z",
     "iopub.status.busy": "2024-04-01T16:48:16.744071Z",
     "iopub.status.idle": "2024-04-01T16:48:17.017002Z",
     "shell.execute_reply": "2024-04-01T16:48:17.015813Z"
    },
    "papermill": {
     "duration": 0.666885,
     "end_time": "2024-04-01T16:48:17.019416",
     "exception": false,
     "start_time": "2024-04-01T16:48:16.352531",
     "status": "completed"
    },
    "tags": []
   },
   "outputs": [
    {
     "data": {
      "text/plain": [
       "[<matplotlib.lines.Line2D at 0x7c2aa9338190>]"
      ]
     },
     "execution_count": 13,
     "metadata": {},
     "output_type": "execute_result"
    },
    {
     "data": {
      "image/png": "[encoded data removed]",
      "text/plain": [
       "<Figure size 640x480 with 1 Axes>"
      ]
     },
     "metadata": {},
     "output_type": "display_data"
    }
   ],
   "source": [
    "plt.plot(history.history['accuracy'])\n",
    "plt.plot(history.history['val_accuracy'])"
   ]
  },
  {
   "cell_type": "code",
   "execution_count": 14,
   "id": "8f73cae2",
   "metadata": {
    "execution": {
     "iopub.execute_input": "2024-04-01T16:48:17.683507Z",
     "iopub.status.busy": "2024-04-01T16:48:17.683011Z",
     "iopub.status.idle": "2024-04-01T16:48:17.972311Z",
     "shell.execute_reply": "2024-04-01T16:48:17.970637Z"
    },
    "papermill": {
     "duration": 0.624033,
     "end_time": "2024-04-01T16:48:17.974826",
     "exception": false,
     "start_time": "2024-04-01T16:48:17.350793",
     "status": "completed"
    },
    "tags": []
   },
   "outputs": [
    {
     "data": {
      "text/plain": [
       "<matplotlib.image.AxesImage at 0x7c2aa8f40a90>"
      ]
     },
     "execution_count": 14,
     "metadata": {},
     "output_type": "execute_result"
    },
    {
     "data": {
      "image/png": "[encoded data removed]",
      "text/plain": [
       "<Figure size 640x480 with 1 Axes>"
      ]
     },
     "metadata": {},
     "output_type": "display_data"
    }
   ],
   "source": [
    "plt.imshow(X_test[3])"
   ]
  },
  {
   "cell_type": "code",
   "execution_count": 15,
   "id": "8ca213ba",
   "metadata": {
    "execution": {
     "iopub.execute_input": "2024-04-01T16:48:18.635060Z",
     "iopub.status.busy": "2024-04-01T16:48:18.634535Z",
     "iopub.status.idle": "2024-04-01T16:48:18.743492Z",
     "shell.execute_reply": "2024-04-01T16:48:18.742171Z"
    },
    "papermill": {
     "duration": 0.442151,
     "end_time": "2024-04-01T16:48:18.746269",
     "exception": false,
     "start_time": "2024-04-01T16:48:18.304118",
     "status": "completed"
    },
    "tags": []
   },
   "outputs": [
    {
     "name": "stdout",
     "output_type": "stream",
     "text": [
      "\u001b[1m1/1\u001b[0m \u001b[32m━━━━━━━━━━━━━━━━━━━━\u001b[0m\u001b[37m\u001b[0m \u001b[1m0s\u001b[0m 28ms/step\n"
     ]
    },
    {
     "data": {
      "text/plain": [
       "array([0])"
      ]
     },
     "execution_count": 15,
     "metadata": {},
     "output_type": "execute_result"
    }
   ],
   "source": [
    "model.predict(X_test[3].reshape(1,28,28)).argmax(axis=1)"
   ]
  },
  {
   "cell_type": "code",
   "execution_count": 16,
   "id": "cbfbf2a9",
   "metadata": {
    "execution": {
     "iopub.execute_input": "2024-04-01T16:48:19.412895Z",
     "iopub.status.busy": "2024-04-01T16:48:19.412448Z",
     "iopub.status.idle": "2024-04-01T16:48:22.250282Z",
     "shell.execute_reply": "2024-04-01T16:48:22.248449Z"
    },
    "papermill": {
     "duration": 3.177835,
     "end_time": "2024-04-01T16:48:22.257137",
     "exception": false,
     "start_time": "2024-04-01T16:48:19.079302",
     "status": "completed"
    },
    "tags": []
   },
   "outputs": [],
   "source": [
    "test=pd.read_csv('/kaggle/input/digit-recognizer/test.csv')\n",
    "test_values = test.values"
   ]
  },
  {
   "cell_type": "code",
   "execution_count": 17,
   "id": "be11824e",
   "metadata": {
    "execution": {
     "iopub.execute_input": "2024-04-01T16:48:22.970132Z",
     "iopub.status.busy": "2024-04-01T16:48:22.969639Z",
     "iopub.status.idle": "2024-04-01T16:48:22.975377Z",
     "shell.execute_reply": "2024-04-01T16:48:22.974084Z"
    },
    "papermill": {
     "duration": 0.347936,
     "end_time": "2024-04-01T16:48:22.979831",
     "exception": false,
     "start_time": "2024-04-01T16:48:22.631895",
     "status": "completed"
    },
    "tags": []
   },
   "outputs": [
    {
     "name": "stdout",
     "output_type": "stream",
     "text": [
      "(28000, 784)\n",
      "(10000, 28, 28)\n"
     ]
    }
   ],
   "source": [
    "print(test_values.shape)\n",
    "print(X_test.shape)"
   ]
  },
  {
   "cell_type": "code",
   "execution_count": 18,
   "id": "ec62a4f7",
   "metadata": {
    "execution": {
     "iopub.execute_input": "2024-04-01T16:48:23.703971Z",
     "iopub.status.busy": "2024-04-01T16:48:23.703487Z",
     "iopub.status.idle": "2024-04-01T16:48:23.712027Z",
     "shell.execute_reply": "2024-04-01T16:48:23.710779Z"
    },
    "papermill": {
     "duration": 0.402787,
     "end_time": "2024-04-01T16:48:23.714391",
     "exception": false,
     "start_time": "2024-04-01T16:48:23.311604",
     "status": "completed"
    },
    "tags": []
   },
   "outputs": [
    {
     "data": {
      "text/plain": [
       "(28000, 28, 28)"
      ]
     },
     "execution_count": 18,
     "metadata": {},
     "output_type": "execute_result"
    }
   ],
   "source": [
    "test_values_reshaped = test_values.reshape(28000, 28, 28)\n",
    "test_values_reshaped.shape"
   ]
  },
  {
   "cell_type": "code",
   "execution_count": 19,
   "id": "2c2593b6",
   "metadata": {
    "execution": {
     "iopub.execute_input": "2024-04-01T16:48:24.379722Z",
     "iopub.status.busy": "2024-04-01T16:48:24.379261Z",
     "iopub.status.idle": "2024-04-01T16:48:27.031273Z",
     "shell.execute_reply": "2024-04-01T16:48:27.030181Z"
    },
    "papermill": {
     "duration": 2.986771,
     "end_time": "2024-04-01T16:48:27.034167",
     "exception": false,
     "start_time": "2024-04-01T16:48:24.047396",
     "status": "completed"
    },
    "tags": []
   },
   "outputs": [
    {
     "name": "stdout",
     "output_type": "stream",
     "text": [
      "\u001b[1m875/875\u001b[0m \u001b[32m━━━━━━━━━━━━━━━━━━━━\u001b[0m\u001b[37m\u001b[0m \u001b[1m2s\u001b[0m 2ms/step\n"
     ]
    }
   ],
   "source": [
    "test_out = model.predict(test_values_reshaped)"
   ]
  },
  {
   "cell_type": "code",
   "execution_count": 20,
   "id": "f4d27fef",
   "metadata": {
    "execution": {
     "iopub.execute_input": "2024-04-01T16:48:27.702021Z",
     "iopub.status.busy": "2024-04-01T16:48:27.700106Z",
     "iopub.status.idle": "2024-04-01T16:48:27.748964Z",
     "shell.execute_reply": "2024-04-01T16:48:27.747657Z"
    },
    "papermill": {
     "duration": 0.388185,
     "end_time": "2024-04-01T16:48:27.753420",
     "exception": false,
     "start_time": "2024-04-01T16:48:27.365235",
     "status": "completed"
    },
    "tags": []
   },
   "outputs": [
    {
     "name": "stdout",
     "output_type": "stream",
     "text": [
      "Submission completed!\n"
     ]
    }
   ],
   "source": [
    "y =test_out.argmax(axis=1)\n",
    "submission = pd.DataFrame(y, columns=['Label'])\n",
    "submission.index.name = 'ImageId'\n",
    "submission.index += 1\n",
    "submission.to_csv('/kaggle/working/submission.csv')\n",
    "print('Submission completed!')"
   ]
  }
 ],
 "metadata": {
  "kaggle": {
   "accelerator": "none",
   "dataSources": [
    {
     "databundleVersionId": 861823,
     "sourceId": 3004,
     "sourceType": "competition"
    }
   ],
   "dockerImageVersionId": 30673,
   "isGpuEnabled": false,
   "isInternetEnabled": true,
   "language": "python",
   "sourceType": "notebook"
  },
  "kernelspec": {
   "display_name": "Python 3",
   "language": "python",
   "name": "python3"
  },
  "language_info": {
   "codemirror_mode": {
    "name": "ipython",
    "version": 3
   },
   "file_extension": ".py",
   "mimetype": "text/x-python",
   "name": "python",
   "nbconvert_exporter": "python",
   "pygments_lexer": "ipython3",
   "version": "3.10.13"
  },
  "papermill": {
   "default_parameters": {},
   "duration": 287.37946,
   "end_time": "2024-04-01T16:48:30.994210",
   "environment_variables": {},
   "exception": null,
   "input_path": "__notebook__.ipynb",
   "output_path": "__notebook__.ipynb",
   "parameters": {},
   "start_time": "2024-04-01T16:43:43.614750",
   "version": "2.5.0"
  }
 },
 "nbformat": 4,
 "nbformat_minor": 5
}
