{
 "cells": [
  {
   "cell_type": "code",
   "execution_count": 1,
   "id": "6c5a8615",
   "metadata": {},
   "outputs": [
    {
     "name": "stdout",
     "output_type": "stream",
     "text": [
      "Requirement already satisfied: gtts in c:\\users\\naimu\\anaconda3\\lib\\site-packages (2.5.1)\n",
      "Requirement already satisfied: click<8.2,>=7.1 in c:\\users\\naimu\\anaconda3\\lib\\site-packages (from gtts) (8.0.4)\n",
      "Requirement already satisfied: requests<3,>=2.27 in c:\\users\\naimu\\anaconda3\\lib\\site-packages (from gtts) (2.28.1)\n",
      "Requirement already satisfied: colorama in c:\\users\\naimu\\anaconda3\\lib\\site-packages (from click<8.2,>=7.1->gtts) (0.4.6)\n",
      "Requirement already satisfied: charset-normalizer<3,>=2 in c:\\users\\naimu\\anaconda3\\lib\\site-packages (from requests<3,>=2.27->gtts) (2.0.4)\n",
      "Requirement already satisfied: idna<4,>=2.5 in c:\\users\\naimu\\anaconda3\\lib\\site-packages (from requests<3,>=2.27->gtts) (2.10)\n",
      "Requirement already satisfied: certifi>=2017.4.17 in c:\\users\\naimu\\anaconda3\\lib\\site-packages (from requests<3,>=2.27->gtts) (2022.12.7)\n",
      "Requirement already satisfied: urllib3<1.27,>=1.21.1 in c:\\users\\naimu\\anaconda3\\lib\\site-packages (from requests<3,>=2.27->gtts) (1.26.14)\n"
     ]
    },
    {
     "name": "stderr",
     "output_type": "stream",
     "text": [
      "WARNING: Ignoring invalid distribution -umpy (c:\\users\\naimu\\anaconda3\\lib\\site-packages)\n",
      "WARNING: Ignoring invalid distribution -eras (c:\\users\\naimu\\anaconda3\\lib\\site-packages)\n",
      "WARNING: Ignoring invalid distribution -ensorflow-intel (c:\\users\\naimu\\anaconda3\\lib\\site-packages)\n",
      "WARNING: Ignoring invalid distribution -umpy (c:\\users\\naimu\\anaconda3\\lib\\site-packages)\n",
      "WARNING: Ignoring invalid distribution -eras (c:\\users\\naimu\\anaconda3\\lib\\site-packages)\n",
      "WARNING: Ignoring invalid distribution -ensorflow-intel (c:\\users\\naimu\\anaconda3\\lib\\site-packages)\n",
      "WARNING: Ignoring invalid distribution -umpy (c:\\users\\naimu\\anaconda3\\lib\\site-packages)\n",
      "WARNING: Ignoring invalid distribution -eras (c:\\users\\naimu\\anaconda3\\lib\\site-packages)\n",
      "WARNING: Ignoring invalid distribution -ensorflow-intel (c:\\users\\naimu\\anaconda3\\lib\\site-packages)\n",
      "WARNING: Ignoring invalid distribution -umpy (c:\\users\\naimu\\anaconda3\\lib\\site-packages)\n",
      "WARNING: Ignoring invalid distribution -eras (c:\\users\\naimu\\anaconda3\\lib\\site-packages)\n",
      "WARNING: Ignoring invalid distribution -ensorflow-intel (c:\\users\\naimu\\anaconda3\\lib\\site-packages)\n",
      "WARNING: Ignoring invalid distribution -umpy (c:\\users\\naimu\\anaconda3\\lib\\site-packages)\n",
      "WARNING: Ignoring invalid distribution -eras (c:\\users\\naimu\\anaconda3\\lib\\site-packages)\n",
      "WARNING: Ignoring invalid distribution -ensorflow-intel (c:\\users\\naimu\\anaconda3\\lib\\site-packages)\n",
      "WARNING: Ignoring invalid distribution -umpy (c:\\users\\naimu\\anaconda3\\lib\\site-packages)\n",
      "WARNING: Ignoring invalid distribution -eras (c:\\users\\naimu\\anaconda3\\lib\\site-packages)\n",
      "WARNING: Ignoring invalid distribution -ensorflow-intel (c:\\users\\naimu\\anaconda3\\lib\\site-packages)\n"
     ]
    }
   ],
   "source": [
    "!pip install gtts\n"
   ]
  },
  {
   "cell_type": "code",
   "execution_count": 2,
   "id": "e48f4640",
   "metadata": {},
   "outputs": [
    {
     "name": "stdout",
     "output_type": "stream",
     "text": [
      "Requirement already satisfied: googletrans==4.0.0-rc1 in c:\\users\\naimu\\anaconda3\\lib\\site-packages (4.0.0rc1)\n",
      "Requirement already satisfied: httpx==0.13.3 in c:\\users\\naimu\\anaconda3\\lib\\site-packages (from googletrans==4.0.0-rc1) (0.13.3)\n",
      "Requirement already satisfied: idna==2.* in c:\\users\\naimu\\anaconda3\\lib\\site-packages (from httpx==0.13.3->googletrans==4.0.0-rc1) (2.10)\n",
      "Requirement already satisfied: certifi in c:\\users\\naimu\\anaconda3\\lib\\site-packages (from httpx==0.13.3->googletrans==4.0.0-rc1) (2022.12.7)\n",
      "Requirement already satisfied: hstspreload in c:\\users\\naimu\\anaconda3\\lib\\site-packages (from httpx==0.13.3->googletrans==4.0.0-rc1) (2024.3.1)\n",
      "Requirement already satisfied: chardet==3.* in c:\\users\\naimu\\anaconda3\\lib\\site-packages (from httpx==0.13.3->googletrans==4.0.0-rc1) (3.0.4)\n",
      "Requirement already satisfied: rfc3986<2,>=1.3 in c:\\users\\naimu\\anaconda3\\lib\\site-packages (from httpx==0.13.3->googletrans==4.0.0-rc1) (1.5.0)\n",
      "Requirement already satisfied: httpcore==0.9.* in c:\\users\\naimu\\anaconda3\\lib\\site-packages (from httpx==0.13.3->googletrans==4.0.0-rc1) (0.9.1)\n",
      "Requirement already satisfied: sniffio in c:\\users\\naimu\\anaconda3\\lib\\site-packages (from httpx==0.13.3->googletrans==4.0.0-rc1) (1.2.0)\n",
      "Requirement already satisfied: h2==3.* in c:\\users\\naimu\\anaconda3\\lib\\site-packages (from httpcore==0.9.*->httpx==0.13.3->googletrans==4.0.0-rc1) (3.2.0)\n",
      "Requirement already satisfied: h11<0.10,>=0.8 in c:\\users\\naimu\\anaconda3\\lib\\site-packages (from httpcore==0.9.*->httpx==0.13.3->googletrans==4.0.0-rc1) (0.9.0)\n",
      "Requirement already satisfied: hyperframe<6,>=5.2.0 in c:\\users\\naimu\\anaconda3\\lib\\site-packages (from h2==3.*->httpcore==0.9.*->httpx==0.13.3->googletrans==4.0.0-rc1) (5.2.0)\n",
      "Requirement already satisfied: hpack<4,>=3.0 in c:\\users\\naimu\\anaconda3\\lib\\site-packages (from h2==3.*->httpcore==0.9.*->httpx==0.13.3->googletrans==4.0.0-rc1) (3.0.0)\n"
     ]
    },
    {
     "name": "stderr",
     "output_type": "stream",
     "text": [
      "WARNING: Ignoring invalid distribution -umpy (c:\\users\\naimu\\anaconda3\\lib\\site-packages)\n",
      "WARNING: Ignoring invalid distribution -eras (c:\\users\\naimu\\anaconda3\\lib\\site-packages)\n",
      "WARNING: Ignoring invalid distribution -ensorflow-intel (c:\\users\\naimu\\anaconda3\\lib\\site-packages)\n",
      "WARNING: Ignoring invalid distribution -umpy (c:\\users\\naimu\\anaconda3\\lib\\site-packages)\n",
      "WARNING: Ignoring invalid distribution -eras (c:\\users\\naimu\\anaconda3\\lib\\site-packages)\n",
      "WARNING: Ignoring invalid distribution -ensorflow-intel (c:\\users\\naimu\\anaconda3\\lib\\site-packages)\n",
      "WARNING: Ignoring invalid distribution -umpy (c:\\users\\naimu\\anaconda3\\lib\\site-packages)\n",
      "WARNING: Ignoring invalid distribution -eras (c:\\users\\naimu\\anaconda3\\lib\\site-packages)\n",
      "WARNING: Ignoring invalid distribution -ensorflow-intel (c:\\users\\naimu\\anaconda3\\lib\\site-packages)\n",
      "WARNING: Ignoring invalid distribution -umpy (c:\\users\\naimu\\anaconda3\\lib\\site-packages)\n",
      "WARNING: Ignoring invalid distribution -eras (c:\\users\\naimu\\anaconda3\\lib\\site-packages)\n",
      "WARNING: Ignoring invalid distribution -ensorflow-intel (c:\\users\\naimu\\anaconda3\\lib\\site-packages)\n",
      "WARNING: Ignoring invalid distribution -umpy (c:\\users\\naimu\\anaconda3\\lib\\site-packages)\n",
      "WARNING: Ignoring invalid distribution -eras (c:\\users\\naimu\\anaconda3\\lib\\site-packages)\n",
      "WARNING: Ignoring invalid distribution -ensorflow-intel (c:\\users\\naimu\\anaconda3\\lib\\site-packages)\n",
      "WARNING: Ignoring invalid distribution -umpy (c:\\users\\naimu\\anaconda3\\lib\\site-packages)\n",
      "WARNING: Ignoring invalid distribution -eras (c:\\users\\naimu\\anaconda3\\lib\\site-packages)\n",
      "WARNING: Ignoring invalid distribution -ensorflow-intel (c:\\users\\naimu\\anaconda3\\lib\\site-packages)\n"
     ]
    }
   ],
   "source": [
    "!pip install googletrans==4.0.0-rc1"
   ]
  },
  {
   "cell_type": "code",
   "execution_count": 3,
   "id": "46b71aa3",
   "metadata": {},
   "outputs": [],
   "source": [
    "import io\n",
    "import random\n",
    "import string\n",
    "import warnings\n",
    "import numpy as np\n",
    "from sklearn.feature_extraction.text import TfidfVectorizer\n",
    "from sklearn.metrics.pairwise import cosine_similarity\n",
    "import warnings\n",
    "from gtts import gTTS\n",
    "import os\n",
    "import speech_recognition as sr \n",
    "import nltk\n",
    "from nltk.stem import WordNetLemmatizer\n",
    "from googletrans import Translator"
   ]
  },
  {
   "cell_type": "code",
   "execution_count": 4,
   "id": "4be6cfc9",
   "metadata": {},
   "outputs": [
    {
     "name": "stderr",
     "output_type": "stream",
     "text": [
      "[nltk_data] Downloading package punkt to\n",
      "[nltk_data]     C:\\Users\\naimu\\AppData\\Roaming\\nltk_data...\n",
      "[nltk_data]   Package punkt is already up-to-date!\n",
      "[nltk_data] Downloading package wordnet to\n",
      "[nltk_data]     C:\\Users\\naimu\\AppData\\Roaming\\nltk_data...\n",
      "[nltk_data]   Package wordnet is already up-to-date!\n"
     ]
    },
    {
     "data": {
      "text/plain": [
       "True"
      ]
     },
     "execution_count": 4,
     "metadata": {},
     "output_type": "execute_result"
    }
   ],
   "source": [
    "# Download NLTK resources\n",
    "nltk.download('popular', quiet=True)\n",
    "nltk.download('nps_chat', quiet=True)\n",
    "nltk.download('punkt') \n",
    "nltk.download('wordnet')"
   ]
  },
  {
   "cell_type": "code",
   "execution_count": 5,
   "id": "caca78e4",
   "metadata": {},
   "outputs": [],
   "source": [
    "# Load chat posts\n",
    "posts = nltk.corpus.nps_chat.xml_posts()[:10000]"
   ]
  },
  {
   "cell_type": "code",
   "execution_count": 6,
   "id": "0b6b01f4",
   "metadata": {},
   "outputs": [],
   "source": [
    "# Function to extract dialogue act features\n",
    "def dialogue_act_features(post):\n",
    "    features = {}\n",
    "    for word in nltk.word_tokenize(post):\n",
    "        features['contains({})'.format(word.lower())] = True\n",
    "    return features"
   ]
  },
  {
   "cell_type": "code",
   "execution_count": 7,
   "id": "4c504946",
   "metadata": {},
   "outputs": [],
   "source": [
    "# Prepare featuresets\n",
    "featuresets = [(dialogue_act_features(post.text), post.get('class')) for post in posts]\n",
    "size = int(len(featuresets) * 0.1)\n",
    "train_set, test_set = featuresets[size:], featuresets[:size]\n",
    "classifier = nltk.NaiveBayesClassifier.train(train_set)"
   ]
  },
  {
   "cell_type": "code",
   "execution_count": 8,
   "id": "9ac0c6fe",
   "metadata": {},
   "outputs": [],
   "source": [
    "# Keyword Matching\n",
    "GREETING_INPUTS = (\"hello\", \"hi\", \"greetings\", \"sup\", \"what's up\", \"hey\")\n",
    "GREETING_RESPONSES = [\"hi\", \"hey\", \"*nods*\", \"hi there\", \"hello\", \"I am glad! You are talking to me\"]"
   ]
  },
  {
   "cell_type": "code",
   "execution_count": 9,
   "id": "85bd61e3",
   "metadata": {},
   "outputs": [],
   "source": [
    "# Function to greet user\n",
    "def greeting(sentence):\n",
    "    for word in sentence.split():\n",
    "        if word.lower() in GREETING_INPUTS:\n",
    "            return random.choice(GREETING_RESPONSES)"
   ]
  },
  {
   "cell_type": "code",
   "execution_count": 10,
   "id": "40008f75",
   "metadata": {},
   "outputs": [],
   "source": [
    "# Function to normalize text\n",
    "def LemTokens(tokens):\n",
    "    return [lemmer.lemmatize(token) for token in tokens]"
   ]
  },
  {
   "cell_type": "code",
   "execution_count": 11,
   "id": "d5236fe3",
   "metadata": {},
   "outputs": [],
   "source": [
    "remove_punct_dict = dict((ord(punct), None) for punct in string.punctuation)\n"
   ]
  },
  {
   "cell_type": "code",
   "execution_count": 12,
   "id": "ec4d8a4e",
   "metadata": {},
   "outputs": [],
   "source": [
    "def LemNormalize(text):\n",
    "    return LemTokens(nltk.word_tokenize(text.lower().translate(remove_punct_dict)))"
   ]
  },
  {
   "cell_type": "code",
   "execution_count": 13,
   "id": "d965fcd0",
   "metadata": {},
   "outputs": [
    {
     "name": "stdout",
     "output_type": "stream",
     "text": [
      "File 'intro_join' does not exist in the directory: C:\\Users\\naimu\\Music\\Speech Recognition ML DL AI\n"
     ]
    }
   ],
   "source": [
    "import os\n",
    "\n",
    "# Get the current working directory\n",
    "current_directory = os.getcwd()\n",
    "\n",
    "# Check if the file exists in the current directory\n",
    "file_path = os.path.join(current_directory, 'intro_join')\n",
    "if os.path.exists(file_path):\n",
    "    print(\"File 'intro_join' exists in the directory:\", current_directory)\n",
    "else:\n",
    "    print(\"File 'intro_join' does not exist in the directory:\", current_directory)\n"
   ]
  },
  {
   "cell_type": "code",
   "execution_count": 14,
   "id": "1de56f96",
   "metadata": {},
   "outputs": [],
   "source": [
    "# Read input corpus\n",
    "file_path = \"C:\\\\Users\\\\naimu\\\\Music\\\\Speech Recognition ML DL AI\\\\intro_join.txt\"\n",
    "with open(file_path, 'r', encoding='utf8', errors='ignore') as fin:\n",
    "    raw = fin.read().lower()"
   ]
  },
  {
   "cell_type": "code",
   "execution_count": 15,
   "id": "d39c67a0",
   "metadata": {},
   "outputs": [],
   "source": [
    "# Tokenization\n",
    "sent_tokens = nltk.sent_tokenize(raw)\n",
    "word_tokens = nltk.word_tokenize(raw)"
   ]
  },
  {
   "cell_type": "code",
   "execution_count": 16,
   "id": "ccc82fd7",
   "metadata": {},
   "outputs": [],
   "source": [
    "# Preprocessing\n",
    "lemmer = WordNetLemmatizer()"
   ]
  },
  {
   "cell_type": "code",
   "execution_count": 17,
   "id": "f05c1eae",
   "metadata": {},
   "outputs": [],
   "source": [
    "# Function to generate response\n",
    "def response(user_response):\n",
    "    robo_response = ''\n",
    "    sent_tokens.append(user_response)\n",
    "    TfidfVec = TfidfVectorizer(tokenizer=LemNormalize, stop_words='english')\n",
    "    tfidf = TfidfVec.fit_transform(sent_tokens)\n",
    "    vals = cosine_similarity(tfidf[-1], tfidf)\n",
    "    idx = vals.argsort()[0][-2]\n",
    "    flat = vals.flatten()\n",
    "    flat.sort()\n",
    "    req_tfidf = flat[-2]\n",
    "    if req_tfidf == 0:\n",
    "        robo_response = \"I am sorry! I don't understand you\"\n",
    "        return robo_response\n",
    "    else:\n",
    "        robo_response = robo_response + sent_tokens[idx]\n",
    "        return robo_response\n"
   ]
  },
  {
   "cell_type": "code",
   "execution_count": 18,
   "id": "40a2aaec",
   "metadata": {},
   "outputs": [],
   "source": [
    "# Recording voice input using microphone \n",
    "file = \"file.mp3\"\n",
    "flag = True\n",
    "fst = \"My name is Jarvis. I will answer your queries about Science. If you want to exit, say Bye\"\n",
    "os.system(\"echo {} | text2wave -o {}.wav\".format(fst, file))\n",
    "\n",
    "r = sr.Recognizer()"
   ]
  },
  {
   "cell_type": "code",
   "execution_count": 19,
   "id": "968ac37c",
   "metadata": {},
   "outputs": [
    {
     "name": "stdout",
     "output_type": "stream",
     "text": [
      "My name is Jarvis. I will answer your queries about Science. If you want to exit, say Bye\n"
     ]
    }
   ],
   "source": [
    "print(fst)"
   ]
  },
  {
   "cell_type": "code",
   "execution_count": 20,
   "id": "d832b577",
   "metadata": {},
   "outputs": [],
   "source": [
    "# Google translator instance\n",
    "translator = Translator()\n"
   ]
  },
  {
   "cell_type": "code",
   "execution_count": null,
   "id": "cc5b1b14",
   "metadata": {},
   "outputs": [
    {
     "name": "stdout",
     "output_type": "stream",
     "text": [
      "YOU SAID: hello\n",
      "Detected language: en\n",
      "Jarvis: *nods*\n"
     ]
    }
   ],
   "source": [
    "google_translate_link = \"https://translate.google.com/\"\n",
    "\n",
    "# Taking voice input and processing \n",
    "while flag:\n",
    "    with sr.Microphone() as source:\n",
    "        audio = r.listen(source)\n",
    "    try:\n",
    "        # Recognize speech using Google Speech Recognition\n",
    "        user_response = r.recognize_google(audio)\n",
    "        print(\"YOU SAID:\", user_response)\n",
    "        \n",
    "        # Detect language\n",
    "        detected_language = translator.detect(user_response).lang\n",
    "        print(\"Detected language:\", detected_language)\n",
    "        \n",
    "        # Translate to English\n",
    "        if detected_language != 'en':\n",
    "            user_response = translator.translate(user_response, src=detected_language, dest='en').text\n",
    "            print(\"Translated to English:\", user_response)\n",
    "    except sr.UnknownValueError:\n",
    "        print(\"Oops! Didn't catch that\")\n",
    "        continue\n",
    "    \n",
    "    clas = classifier.classify(dialogue_act_features(user_response))\n",
    "    if clas != 'Bye':\n",
    "        if clas == 'Emotion':\n",
    "            flag = False\n",
    "            print(\"Jarvis: You are welcome..\")\n",
    "        else:\n",
    "            if greeting(user_response) is not None:\n",
    "                print(\"Jarvis:\", greeting(user_response))\n",
    "            else:\n",
    "                print(\"Jarvis:\", end=\"\")\n",
    "                res = response(user_response)\n",
    "                print(res)\n",
    "                sent_tokens.remove(user_response)\n",
    "                tts = gTTS(res, 'en')\n",
    "                tts.save(file)\n",
    "                os.system(\"mpg123 \" + file)\n",
    "    else:\n",
    "        flag = False\n",
    "        print(\"Jarvis: Bye! Take care..\")\n",
    "\n",
    "print(\"You can access Google Translate here:\", google_translate_link)\n"
   ]
  },
  {
   "cell_type": "code",
   "execution_count": null,
   "id": "2b086de6",
   "metadata": {},
   "outputs": [],
   "source": [
    "\n",
    "# Taking voice input and processing \n",
    "while flag:\n",
    "    with sr.Microphone() as source:\n",
    "        audio = r.listen(source)\n",
    "    try:\n",
    "        # Recognize speech using Google Speech Recognition\n",
    "        user_response = r.recognize_google(audio)\n",
    "        print(\"YOU SAID:\", user_response)\n",
    "        \n",
    "        # Detect language\n",
    "        detected_language = translator.detect(user_response).lang\n",
    "        print(\"Detected language:\", detected_language)\n",
    "        \n",
    "        # Translate to English\n",
    "        if detected_language != 'en':\n",
    "            user_response = translator.translate(user_response, src=detected_language, dest='en').text\n",
    "            print(\"Translated to English:\", user_response)\n",
    "    except sr.UnknownValueError:\n",
    "        print(\"Oops! Didn't catch that\")\n",
    "        continue\n",
    "    \n",
    "    clas = classifier.classify(dialogue_act_features(user_response))\n",
    "    if clas != 'Bye':\n",
    "        if clas == 'Emotion':\n",
    "            flag = False\n",
    "            print(\"Jarvis: You are welcome..\")\n",
    "        else:\n",
    "            if greeting(user_response) is not None:\n",
    "                print(\"Jarvis:\", greeting(user_response))\n",
    "            else:\n",
    "                print(\"Jarvis:\", end=\"\")\n",
    "                res = response(user_response)\n",
    "                print(res)\n",
    "                sent_tokens.remove(user_response)\n",
    "                tts = gTTS(res, 'en')\n",
    "                tts.save(file)\n",
    "                os.system(\"mpg123 \" + file)\n",
    "    else:\n",
    "        flag = False\n",
    "        print(\"Jarvis: Bye! Take care..\")\n"
   ]
  },
  {
   "cell_type": "code",
   "execution_count": null,
   "id": "751c846d",
   "metadata": {},
   "outputs": [],
   "source": []
  },
  {
   "cell_type": "code",
   "execution_count": null,
   "id": "da624dd1",
   "metadata": {},
   "outputs": [],
   "source": []
  }
 ],
 "metadata": {
  "kernelspec": {
   "display_name": "Python 3 (ipykernel)",
   "language": "python",
   "name": "python3"
  },
  "language_info": {
   "codemirror_mode": {
    "name": "ipython",
    "version": 3
   },
   "file_extension": ".py",
   "mimetype": "text/x-python",
   "name": "python",
   "nbconvert_exporter": "python",
   "pygments_lexer": "ipython3",
   "version": "3.10.9"
  }
 },
 "nbformat": 4,
 "nbformat_minor": 5
}
