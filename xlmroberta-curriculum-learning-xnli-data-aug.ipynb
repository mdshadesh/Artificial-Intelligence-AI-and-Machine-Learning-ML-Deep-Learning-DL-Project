{
 "cells": [
  {
   "cell_type": "code",
   "execution_count": 1,
   "id": "b825175e",
   "metadata": {
    "_cell_guid": "b1076dfc-b9ad-4769-8c92-a6c4dae69d19",
    "_uuid": "8f2839f25d086af736a60e9eeb907d3b93b6e0e5",
    "execution": {
     "iopub.execute_input": "2022-10-04T14:38:32.833515Z",
     "iopub.status.busy": "2022-10-04T14:38:32.832204Z",
     "iopub.status.idle": "2022-10-04T14:38:42.923268Z",
     "shell.execute_reply": "2022-10-04T14:38:42.922343Z",
     "shell.execute_reply.started": "2022-09-28T14:56:52.338234Z"
    },
    "papermill": {
     "duration": 10.123699,
     "end_time": "2022-10-04T14:38:42.923548",
     "exception": false,
     "start_time": "2022-10-04T14:38:32.799849",
     "status": "completed"
    },
    "tags": []
   },
   "outputs": [
    {
     "name": "stderr",
     "output_type": "stream",
     "text": [
      "2022-10-04 14:38:33.641825: W tensorflow/stream_executor/platform/default/dso_loader.cc:60] Could not load dynamic library 'libcudart.so.11.0'; dlerror: libcudart.so.11.0: cannot open shared object file: No such file or directory; LD_LIBRARY_PATH: /opt/conda/lib\n",
      "2022-10-04 14:38:33.641965: I tensorflow/stream_executor/cuda/cudart_stub.cc:29] Ignore above cudart dlerror if you do not have a GPU set up on your machine.\n"
     ]
    }
   ],
   "source": [
    "import numpy as np # linear algebra\n",
    "import pandas as pd # data processing, CSV file I/O (e.g. pd.read_csv)\n",
    "import re\n",
    "import tensorflow as tf\n",
    "import random\n",
    "from sklearn.model_selection import train_test_split\n",
    "import matplotlib.pyplot as plt\n",
    "from transformers import TFXLMRobertaModel, AutoTokenizer, TFAutoModel, AutoModelForSequenceClassification"
   ]
  },
  {
   "cell_type": "code",
   "execution_count": 2,
   "id": "5725d3e8",
   "metadata": {
    "execution": {
     "iopub.execute_input": "2022-10-04T14:38:42.999962Z",
     "iopub.status.busy": "2022-10-04T14:38:42.999136Z",
     "iopub.status.idle": "2022-10-04T14:38:48.811148Z",
     "shell.execute_reply": "2022-10-04T14:38:48.810383Z",
     "shell.execute_reply.started": "2022-09-28T14:57:02.383500Z"
    },
    "papermill": {
     "duration": 5.862389,
     "end_time": "2022-10-04T14:38:48.811318",
     "exception": false,
     "start_time": "2022-10-04T14:38:42.948929",
     "status": "completed"
    },
    "tags": []
   },
   "outputs": [
    {
     "name": "stderr",
     "output_type": "stream",
     "text": [
      "2022-10-04 14:38:42.983906: I tensorflow/compiler/jit/xla_cpu_device.cc:41] Not creating XLA devices, tf_xla_enable_xla_devices not set\n",
      "2022-10-04 14:38:42.987024: W tensorflow/stream_executor/platform/default/dso_loader.cc:60] Could not load dynamic library 'libcuda.so.1'; dlerror: libcuda.so.1: cannot open shared object file: No such file or directory; LD_LIBRARY_PATH: /opt/conda/lib\n",
      "2022-10-04 14:38:42.987071: W tensorflow/stream_executor/cuda/cuda_driver.cc:326] failed call to cuInit: UNKNOWN ERROR (303)\n",
      "2022-10-04 14:38:42.987100: I tensorflow/stream_executor/cuda/cuda_diagnostics.cc:156] kernel driver does not appear to be running on this host (cb64bb0dbe03): /proc/driver/nvidia/version does not exist\n",
      "2022-10-04 14:38:42.990844: I tensorflow/core/platform/cpu_feature_guard.cc:142] This TensorFlow binary is optimized with oneAPI Deep Neural Network Library (oneDNN) to use the following CPU instructions in performance-critical operations:  AVX2 FMA\n",
      "To enable them in other operations, rebuild TensorFlow with the appropriate compiler flags.\n",
      "2022-10-04 14:38:42.992750: I tensorflow/compiler/jit/xla_gpu_device.cc:99] Not creating XLA devices, tf_xla_enable_xla_devices not set\n",
      "2022-10-04 14:38:43.029827: I tensorflow/core/distributed_runtime/rpc/grpc_channel.cc:301] Initialize GrpcChannelCache for job worker -> {0 -> 10.0.0.2:8470}\n",
      "2022-10-04 14:38:43.029919: I tensorflow/core/distributed_runtime/rpc/grpc_channel.cc:301] Initialize GrpcChannelCache for job localhost -> {0 -> localhost:30019}\n",
      "2022-10-04 14:38:43.055573: I tensorflow/core/distributed_runtime/rpc/grpc_channel.cc:301] Initialize GrpcChannelCache for job worker -> {0 -> 10.0.0.2:8470}\n",
      "2022-10-04 14:38:43.055638: I tensorflow/core/distributed_runtime/rpc/grpc_channel.cc:301] Initialize GrpcChannelCache for job localhost -> {0 -> localhost:30019}\n",
      "2022-10-04 14:38:43.057362: I tensorflow/core/distributed_runtime/rpc/grpc_server_lib.cc:411] Started server with target: grpc://localhost:30019\n"
     ]
    },
    {
     "name": "stdout",
     "output_type": "stream",
     "text": [
      "Number of replicas: 8\n"
     ]
    }
   ],
   "source": [
    "#PREPARING TPU\n",
    "try:\n",
    "    tpu = tf.distribute.cluster_resolver.TPUClusterResolver()\n",
    "    tf.config.experimental_connect_to_cluster(tpu)\n",
    "    tf.tpu.experimental.initialize_tpu_system(tpu)\n",
    "    strategy = tf.distribute.experimental.TPUStrategy(tpu)\n",
    "\n",
    "except ValueError:\n",
    "    strategy = tf.distribute.get_strategy() # for CPU and single GPU\n",
    "\n",
    "print('Number of replicas:', strategy.num_replicas_in_sync)"
   ]
  },
  {
   "cell_type": "code",
   "execution_count": 3,
   "id": "1713e98b",
   "metadata": {
    "execution": {
     "iopub.execute_input": "2022-10-04T14:38:48.869026Z",
     "iopub.status.busy": "2022-10-04T14:38:48.868286Z",
     "iopub.status.idle": "2022-10-04T14:38:53.965626Z",
     "shell.execute_reply": "2022-10-04T14:38:53.966161Z",
     "shell.execute_reply.started": "2022-09-28T14:57:08.522834Z"
    },
    "papermill": {
     "duration": 5.129412,
     "end_time": "2022-10-04T14:38:53.966396",
     "exception": false,
     "start_time": "2022-10-04T14:38:48.836984",
     "status": "completed"
    },
    "tags": []
   },
   "outputs": [
    {
     "data": {
      "application/vnd.jupyter.widget-view+json": {
       "model_id": "24a2b301126c4197a3e3b05498d66746",
       "version_major": 2,
       "version_minor": 0
      },
      "text/plain": [
       "Downloading:   0%|          | 0.00/734 [00:00<?, ?B/s]"
      ]
     },
     "metadata": {},
     "output_type": "display_data"
    },
    {
     "data": {
      "application/vnd.jupyter.widget-view+json": {
       "model_id": "0f80625eef3244db9654b61b91ba68e3",
       "version_major": 2,
       "version_minor": 0
      },
      "text/plain": [
       "Downloading:   0%|          | 0.00/5.07M [00:00<?, ?B/s]"
      ]
     },
     "metadata": {},
     "output_type": "display_data"
    },
    {
     "data": {
      "application/vnd.jupyter.widget-view+json": {
       "model_id": "ac1214a2d7c84237a5ae31b226ef90c2",
       "version_major": 2,
       "version_minor": 0
      },
      "text/plain": [
       "Downloading:   0%|          | 0.00/150 [00:00<?, ?B/s]"
      ]
     },
     "metadata": {},
     "output_type": "display_data"
    },
    {
     "data": {
      "application/vnd.jupyter.widget-view+json": {
       "model_id": "b189a50e01dd466cb4c8b52726f574f6",
       "version_major": 2,
       "version_minor": 0
      },
      "text/plain": [
       "Downloading:   0%|          | 0.00/25.0 [00:00<?, ?B/s]"
      ]
     },
     "metadata": {},
     "output_type": "display_data"
    }
   ],
   "source": [
    "MODEL_NAME = 'joeddav/xlm-roberta-large-xnli'\n",
    "REPLICAS  = strategy.num_replicas_in_sync\n",
    "TOKENIZER  = AutoTokenizer.from_pretrained(MODEL_NAME)\n",
    "\n",
    "# HYPER-PARAMS\n",
    "BATCH_SIZE = 32 * REPLICAS\n",
    "MAX_LEN = 256\n",
    "EPOCHS = 10\n",
    "NUM_LABELS = 3"
   ]
  },
  {
   "cell_type": "code",
   "execution_count": 4,
   "id": "8a1ab1a1",
   "metadata": {
    "execution": {
     "iopub.execute_input": "2022-10-04T14:38:54.029467Z",
     "iopub.status.busy": "2022-10-04T14:38:54.028359Z",
     "iopub.status.idle": "2022-10-04T14:40:48.259127Z",
     "shell.execute_reply": "2022-10-04T14:40:48.258273Z",
     "shell.execute_reply.started": "2022-09-28T14:57:12.966067Z"
    },
    "papermill": {
     "duration": 114.261587,
     "end_time": "2022-10-04T14:40:48.259312",
     "exception": false,
     "start_time": "2022-10-04T14:38:53.997725",
     "status": "completed"
    },
    "tags": []
   },
   "outputs": [
    {
     "data": {
      "application/vnd.jupyter.widget-view+json": {
       "model_id": "b87e8a02e69b478e9f76397db1c89cc8",
       "version_major": 2,
       "version_minor": 0
      },
      "text/plain": [
       "Downloading:   0%|          | 0.00/2.24G [00:00<?, ?B/s]"
      ]
     },
     "metadata": {},
     "output_type": "display_data"
    },
    {
     "name": "stderr",
     "output_type": "stream",
     "text": [
      "Some layers from the model checkpoint at joeddav/xlm-roberta-large-xnli were not used when initializing TFXLMRobertaModel: ['classifier']\n",
      "- This IS expected if you are initializing TFXLMRobertaModel from the checkpoint of a model trained on another task or with another architecture (e.g. initializing a BertForSequenceClassification model from a BertForPreTraining model).\n",
      "- This IS NOT expected if you are initializing TFXLMRobertaModel from the checkpoint of a model that you expect to be exactly identical (initializing a BertForSequenceClassification model from a BertForSequenceClassification model).\n",
      "All the layers of TFXLMRobertaModel were initialized from the model checkpoint at joeddav/xlm-roberta-large-xnli.\n",
      "If your task is similar to the task the model of the checkpoint was trained on, you can already use TFXLMRobertaModel for predictions without further training.\n"
     ]
    }
   ],
   "source": [
    "from tensorflow.keras.callbacks import Callback, ReduceLROnPlateau, EarlyStopping\n",
    "with strategy.scope():\n",
    "    reduce_lr = tf.keras.callbacks.ReduceLROnPlateau(monitor=\"val_loss\", mode=\"min\", factor=0.2, patience=1, verbose=1,min_lr=3e-5)\n",
    "    es = EarlyStopping(monitor='val_accuracy', patience=3, restore_best_weights=True)\n",
    "\n",
    "def create_model():\n",
    "    with strategy.scope():\n",
    "\n",
    "        bert_encoder = TFXLMRobertaModel.from_pretrained(MODEL_NAME)\n",
    "        input_word_ids = tf.keras.Input(shape=(MAX_LEN,), dtype=tf.int32, name=\"input_word_ids\")\n",
    "\n",
    "\n",
    "        embedding = bert_encoder(input_word_ids)[0]\n",
    "        x = tf.keras.layers.GlobalAveragePooling1D()(embedding)\n",
    "        x = tf.keras.layers.LayerNormalization()(x)\n",
    "\n",
    "        output = tf.keras.layers.Dense(NUM_LABELS, activation=\"softmax\")(x)\n",
    "\n",
    "        model = tf.keras.models.Model(inputs=input_word_ids, outputs=output)\n",
    "\n",
    "    return model\n",
    "\n",
    "model = create_model()\n"
   ]
  },
  {
   "cell_type": "markdown",
   "id": "77fa16d6",
   "metadata": {
    "papermill": {
     "duration": 0.02657,
     "end_time": "2022-10-04T14:40:48.313258",
     "exception": false,
     "start_time": "2022-10-04T14:40:48.286688",
     "status": "completed"
    },
    "tags": []
   },
   "source": [
    "## The used dataset is different from the original one.\n",
    "\n",
    "### We added the xnli dataset (only the validation split for running time purposes) and Data Augmentation (synonyms, removal and swapping) has been performed."
   ]
  },
  {
   "cell_type": "code",
   "execution_count": 5,
   "id": "0663caf9",
   "metadata": {
    "execution": {
     "iopub.execute_input": "2022-10-04T14:40:48.374972Z",
     "iopub.status.busy": "2022-10-04T14:40:48.374177Z",
     "iopub.status.idle": "2022-10-04T14:40:49.383061Z",
     "shell.execute_reply": "2022-10-04T14:40:49.383634Z",
     "shell.execute_reply.started": "2022-09-28T14:57:19.075955Z"
    },
    "papermill": {
     "duration": 1.042986,
     "end_time": "2022-10-04T14:40:49.383880",
     "exception": false,
     "start_time": "2022-10-04T14:40:48.340894",
     "status": "completed"
    },
    "tags": []
   },
   "outputs": [],
   "source": [
    "train_df = pd.read_csv(\"../input/contradictory-xnli-augmented/train_df.csv\")\n",
    "train_df.drop(['Unnamed: 0'],axis = 1,inplace = True)\n",
    "\n",
    "#train_df = pd.read_csv(\"../input/contradictory-my-dear-watson/train.csv\")"
   ]
  },
  {
   "cell_type": "code",
   "execution_count": 6,
   "id": "17494c7c",
   "metadata": {
    "execution": {
     "iopub.execute_input": "2022-10-04T14:40:49.445769Z",
     "iopub.status.busy": "2022-10-04T14:40:49.444769Z",
     "iopub.status.idle": "2022-10-04T14:40:49.596161Z",
     "shell.execute_reply": "2022-10-04T14:40:49.595389Z",
     "shell.execute_reply.started": "2022-09-28T14:57:19.077536Z"
    },
    "papermill": {
     "duration": 0.184177,
     "end_time": "2022-10-04T14:40:49.596340",
     "exception": false,
     "start_time": "2022-10-04T14:40:49.412163",
     "status": "completed"
    },
    "tags": []
   },
   "outputs": [],
   "source": [
    "valid_df = pd.read_csv(\"../input/contradictory-xnli-augmented/valid_df.csv\")\n",
    "test_df = pd.read_csv(\"../input/contradictory-my-dear-watson/test.csv\")"
   ]
  },
  {
   "cell_type": "code",
   "execution_count": 7,
   "id": "af26169d",
   "metadata": {
    "execution": {
     "iopub.execute_input": "2022-10-04T14:40:49.663303Z",
     "iopub.status.busy": "2022-10-04T14:40:49.662213Z",
     "iopub.status.idle": "2022-10-04T14:40:49.678305Z",
     "shell.execute_reply": "2022-10-04T14:40:49.678927Z",
     "shell.execute_reply.started": "2022-09-28T14:57:19.078745Z"
    },
    "papermill": {
     "duration": 0.055171,
     "end_time": "2022-10-04T14:40:49.679144",
     "exception": false,
     "start_time": "2022-10-04T14:40:49.623973",
     "status": "completed"
    },
    "tags": []
   },
   "outputs": [
    {
     "data": {
      "text/html": [
       "<div>\n",
       "<style scoped>\n",
       "    .dataframe tbody tr th:only-of-type {\n",
       "        vertical-align: middle;\n",
       "    }\n",
       "\n",
       "    .dataframe tbody tr th {\n",
       "        vertical-align: top;\n",
       "    }\n",
       "\n",
       "    .dataframe thead th {\n",
       "        text-align: right;\n",
       "    }\n",
       "</style>\n",
       "<table border=\"1\" class=\"dataframe\">\n",
       "  <thead>\n",
       "    <tr style=\"text-align: right;\">\n",
       "      <th></th>\n",
       "      <th>premise</th>\n",
       "      <th>hypothesis</th>\n",
       "      <th>lang_abv</th>\n",
       "      <th>language</th>\n",
       "      <th>label</th>\n",
       "      <th>augmented</th>\n",
       "    </tr>\n",
       "  </thead>\n",
       "  <tbody>\n",
       "    <tr>\n",
       "      <th>0</th>\n",
       "      <td>Or, eligibility could be restricted to those w...</td>\n",
       "      <td>Eligibility is restricted to those over age 13...</td>\n",
       "      <td>en</td>\n",
       "      <td>English</td>\n",
       "      <td>1</td>\n",
       "      <td>False</td>\n",
       "    </tr>\n",
       "    <tr>\n",
       "      <th>1</th>\n",
       "      <td>4 اگست کو صدر بش نے صدر مشرف کو لکھا کہ دہشتگر...</td>\n",
       "      <td>صدر مشرف نے صدر بش کو فوراََجواب دیا.</td>\n",
       "      <td>ur</td>\n",
       "      <td>Urdu</td>\n",
       "      <td>1</td>\n",
       "      <td>False</td>\n",
       "    </tr>\n",
       "    <tr>\n",
       "      <th>2</th>\n",
       "      <td>Какво ще стане в икономика с реинвестиране, ак...</td>\n",
       "      <td>Ние можем да търгуваме много в нашата икономика.</td>\n",
       "      <td>bg</td>\n",
       "      <td>Bulgarian</td>\n",
       "      <td>0</td>\n",
       "      <td>False</td>\n",
       "    </tr>\n",
       "    <tr>\n",
       "      <th>3</th>\n",
       "      <td>Twenty-eight grants targeted statewide web sit...</td>\n",
       "      <td>Grants aren't related to money.</td>\n",
       "      <td>en</td>\n",
       "      <td>English</td>\n",
       "      <td>1</td>\n",
       "      <td>False</td>\n",
       "    </tr>\n",
       "    <tr>\n",
       "      <th>4</th>\n",
       "      <td>28在某些情况下，需要更长的停电时间。</td>\n",
       "      <td>有时需要更长的停电时间。</td>\n",
       "      <td>zh</td>\n",
       "      <td>Chinese</td>\n",
       "      <td>0</td>\n",
       "      <td>False</td>\n",
       "    </tr>\n",
       "  </tbody>\n",
       "</table>\n",
       "</div>"
      ],
      "text/plain": [
       "                                             premise  \\\n",
       "0  Or, eligibility could be restricted to those w...   \n",
       "1  4 اگست کو صدر بش نے صدر مشرف کو لکھا کہ دہشتگر...   \n",
       "2  Какво ще стане в икономика с реинвестиране, ак...   \n",
       "3  Twenty-eight grants targeted statewide web sit...   \n",
       "4                                28在某些情况下，需要更长的停电时间。   \n",
       "\n",
       "                                          hypothesis lang_abv   language  \\\n",
       "0  Eligibility is restricted to those over age 13...       en    English   \n",
       "1              صدر مشرف نے صدر بش کو فوراََجواب دیا.       ur       Urdu   \n",
       "2   Ние можем да търгуваме много в нашата икономика.       bg  Bulgarian   \n",
       "3                    Grants aren't related to money.       en    English   \n",
       "4                                       有时需要更长的停电时间。       zh    Chinese   \n",
       "\n",
       "   label  augmented  \n",
       "0      1      False  \n",
       "1      1      False  \n",
       "2      0      False  \n",
       "3      1      False  \n",
       "4      0      False  "
      ]
     },
     "execution_count": 7,
     "metadata": {},
     "output_type": "execute_result"
    }
   ],
   "source": [
    "valid_df.drop(['Unnamed: 0'],axis = 1,inplace = True)\n",
    "train_df.head(5)"
   ]
  },
  {
   "cell_type": "markdown",
   "id": "875107c2",
   "metadata": {
    "papermill": {
     "duration": 0.027247,
     "end_time": "2022-10-04T14:40:49.734289",
     "exception": false,
     "start_time": "2022-10-04T14:40:49.707042",
     "status": "completed"
    },
    "tags": []
   },
   "source": [
    "# Exploratory Analysis"
   ]
  },
  {
   "cell_type": "code",
   "execution_count": 8,
   "id": "a8411a6a",
   "metadata": {
    "execution": {
     "iopub.execute_input": "2022-10-04T14:40:49.794239Z",
     "iopub.status.busy": "2022-10-04T14:40:49.793211Z",
     "iopub.status.idle": "2022-10-04T14:40:50.131003Z",
     "shell.execute_reply": "2022-10-04T14:40:50.131806Z",
     "shell.execute_reply.started": "2022-09-28T14:57:19.079777Z"
    },
    "papermill": {
     "duration": 0.370132,
     "end_time": "2022-10-04T14:40:50.132061",
     "exception": false,
     "start_time": "2022-10-04T14:40:49.761929",
     "status": "completed"
    },
    "tags": []
   },
   "outputs": [
    {
     "data": {
      "image/png": "[encoded data removed]",
      "text/plain": [
       "<Figure size 432x288 with 1 Axes>"
      ]
     },
     "metadata": {
      "needs_background": "light"
     },
     "output_type": "display_data"
    }
   ],
   "source": [
    "import seaborn as sns\n",
    "\n",
    "sns.countplot(\n",
    "   x =  train_df[\"label\"].values,\n",
    ").set_xlabel(\"label\");"
   ]
  },
  {
   "cell_type": "code",
   "execution_count": 9,
   "id": "61e9d383",
   "metadata": {
    "execution": {
     "iopub.execute_input": "2022-10-04T14:40:50.196549Z",
     "iopub.status.busy": "2022-10-04T14:40:50.195528Z",
     "iopub.status.idle": "2022-10-04T14:40:50.204411Z",
     "shell.execute_reply": "2022-10-04T14:40:50.204909Z",
     "shell.execute_reply.started": "2022-09-28T14:57:19.081628Z"
    },
    "papermill": {
     "duration": 0.043946,
     "end_time": "2022-10-04T14:40:50.205121",
     "exception": false,
     "start_time": "2022-10-04T14:40:50.161175",
     "status": "completed"
    },
    "tags": []
   },
   "outputs": [
    {
     "data": {
      "text/plain": [
       "0    35595\n",
       "1    34807\n",
       "2    34673\n",
       "Name: label, dtype: int64"
      ]
     },
     "execution_count": 9,
     "metadata": {},
     "output_type": "execute_result"
    }
   ],
   "source": [
    "train_df.label.value_counts()"
   ]
  },
  {
   "cell_type": "code",
   "execution_count": 10,
   "id": "82516391",
   "metadata": {
    "execution": {
     "iopub.execute_input": "2022-10-04T14:40:50.268196Z",
     "iopub.status.busy": "2022-10-04T14:40:50.267156Z",
     "iopub.status.idle": "2022-10-04T14:40:50.306295Z",
     "shell.execute_reply": "2022-10-04T14:40:50.306934Z",
     "shell.execute_reply.started": "2022-09-28T14:57:19.083073Z"
    },
    "papermill": {
     "duration": 0.07309,
     "end_time": "2022-10-04T14:40:50.307156",
     "exception": false,
     "start_time": "2022-10-04T14:40:50.234066",
     "status": "completed"
    },
    "tags": []
   },
   "outputs": [
    {
     "data": {
      "text/plain": [
       "premise       0\n",
       "hypothesis    0\n",
       "lang_abv      0\n",
       "language      0\n",
       "label         0\n",
       "augmented     0\n",
       "dtype: int64"
      ]
     },
     "execution_count": 10,
     "metadata": {},
     "output_type": "execute_result"
    }
   ],
   "source": [
    "train_df.isnull().sum()"
   ]
  },
  {
   "cell_type": "code",
   "execution_count": 11,
   "id": "a1fafcf9",
   "metadata": {
    "execution": {
     "iopub.execute_input": "2022-10-04T14:40:50.458266Z",
     "iopub.status.busy": "2022-10-04T14:40:50.431266Z",
     "iopub.status.idle": "2022-10-04T14:40:50.678085Z",
     "shell.execute_reply": "2022-10-04T14:40:50.678690Z",
     "shell.execute_reply.started": "2022-09-28T14:57:19.084815Z"
    },
    "papermill": {
     "duration": 0.342507,
     "end_time": "2022-10-04T14:40:50.678923",
     "exception": false,
     "start_time": "2022-10-04T14:40:50.336416",
     "status": "completed"
    },
    "tags": []
   },
   "outputs": [
    {
     "data": {
      "image/png": "[encoded data removed]",
      "text/plain": [
       "<Figure size 720x720 with 1 Axes>"
      ]
     },
     "metadata": {},
     "output_type": "display_data"
    }
   ],
   "source": [
    "labels, frequencies = np.unique(train_df.language.values, return_counts = True)\n",
    "\n",
    "plt.figure(figsize = (10,10))\n",
    "plt.pie(frequencies,labels = labels, autopct = '%1.1f%%')\n",
    "plt.show()"
   ]
  },
  {
   "cell_type": "code",
   "execution_count": 12,
   "id": "bd6a2dfa",
   "metadata": {
    "execution": {
     "iopub.execute_input": "2022-10-04T14:40:50.749396Z",
     "iopub.status.busy": "2022-10-04T14:40:50.748648Z",
     "iopub.status.idle": "2022-10-04T14:40:50.751386Z",
     "shell.execute_reply": "2022-10-04T14:40:50.751933Z",
     "shell.execute_reply.started": "2022-09-28T14:57:19.086482Z"
    },
    "papermill": {
     "duration": 0.040932,
     "end_time": "2022-10-04T14:40:50.752138",
     "exception": false,
     "start_time": "2022-10-04T14:40:50.711206",
     "status": "completed"
    },
    "tags": []
   },
   "outputs": [
    {
     "name": "stdout",
     "output_type": "stream",
     "text": [
      "105075\n",
      "9894\n"
     ]
    }
   ],
   "source": [
    "print(train_df.shape[0])\n",
    "print(valid_df.shape[0])"
   ]
  },
  {
   "cell_type": "markdown",
   "id": "8156aa5a",
   "metadata": {
    "papermill": {
     "duration": 0.031021,
     "end_time": "2022-10-04T14:40:50.815237",
     "exception": false,
     "start_time": "2022-10-04T14:40:50.784216",
     "status": "completed"
    },
    "tags": []
   },
   "source": [
    "# SuperLoss\n",
    "\n",
    "#### SuperLoss is a function that takes a loss function as an argument and introduces the principle of curriculum learning to a model. It is already implemented in the \"fastestimator\" library, however, it is using custom classes. So we have to rewrite it to make it compatible with keras.\n",
    "\n",
    "NB : It might not be necessary to do the rewrite when using PyTorch. However, simply changing the type of the SuperLoss class bellow to a torch loss could do the trick."
   ]
  },
  {
   "cell_type": "code",
   "execution_count": 13,
   "id": "13b63fe9",
   "metadata": {
    "execution": {
     "iopub.execute_input": "2022-10-04T14:40:50.885102Z",
     "iopub.status.busy": "2022-10-04T14:40:50.884352Z",
     "iopub.status.idle": "2022-10-04T14:42:12.112532Z",
     "shell.execute_reply": "2022-10-04T14:42:12.111844Z",
     "shell.execute_reply.started": "2022-09-28T14:57:19.088372Z"
    },
    "papermill": {
     "duration": 81.265314,
     "end_time": "2022-10-04T14:42:12.112761",
     "exception": false,
     "start_time": "2022-10-04T14:40:50.847447",
     "status": "completed"
    },
    "tags": []
   },
   "outputs": [
    {
     "name": "stdout",
     "output_type": "stream",
     "text": [
      "\u001b[31mERROR: pip's dependency resolver does not currently take into account all the packages that are installed. This behaviour is the source of the following dependency conflicts.\r\n",
      "caip-notebooks-serverextension 1.0.0 requires google-cloud-bigquery-storage, which is not installed.\r\n",
      "wfdb 3.4.1 requires matplotlib>=3.3.4, but you have matplotlib 3.3.3 which is incompatible.\r\n",
      "preprocessing 0.1.13 requires nltk==3.2.4, but you have nltk 3.6.7 which is incompatible.\r\n",
      "pdpbox 0.2.1 requires matplotlib==3.1.1, but you have matplotlib 3.3.3 which is incompatible.\r\n",
      "pathos 0.2.8 requires dill>=0.3.4, but you have dill 0.3.3 which is incompatible.\r\n",
      "mxnet 1.8.0.post0 requires graphviz<0.9.0,>=0.8.1, but you have graphviz 0.15 which is incompatible.\r\n",
      "multiprocess 0.70.12.2 requires dill>=0.3.4, but you have dill 0.3.3 which is incompatible.\r\n",
      "matrixprofile 1.1.10 requires protobuf==3.11.2, but you have protobuf 3.18.0 which is incompatible.\r\n",
      "imbalanced-learn 0.8.0 requires scikit-learn>=0.24, but you have scikit-learn 0.23.2 which is incompatible.\r\n",
      "datasets 1.12.1 requires huggingface-hub<0.1.0,>=0.0.14, but you have huggingface-hub 0.0.8 which is incompatible.\u001b[0m\r\n",
      "\u001b[33mWARNING: Running pip as the 'root' user can result in broken permissions and conflicting behaviour with the system package manager. It is recommended to use a virtual environment instead: https://pip.pypa.io/warnings/venv\u001b[0m\r\n"
     ]
    }
   ],
   "source": [
    "!pip install fastestimator > /dev/null\n",
    "import fastestimator"
   ]
  },
  {
   "cell_type": "code",
   "execution_count": 14,
   "id": "b2884eae",
   "metadata": {
    "execution": {
     "iopub.execute_input": "2022-10-04T14:42:12.181936Z",
     "iopub.status.busy": "2022-10-04T14:42:12.180867Z",
     "iopub.status.idle": "2022-10-04T14:42:12.190830Z",
     "shell.execute_reply": "2022-10-04T14:42:12.190045Z",
     "shell.execute_reply.started": "2022-09-28T14:57:19.090289Z"
    },
    "papermill": {
     "duration": 0.046176,
     "end_time": "2022-10-04T14:42:12.191042",
     "exception": false,
     "start_time": "2022-10-04T14:42:12.144866",
     "status": "completed"
    },
    "tags": []
   },
   "outputs": [],
   "source": [
    "import warnings\n",
    "from math import e\n",
    "from typing import Any, Dict, List, Optional, TypeVar, Union, Tuple, Iterable\n",
    "\n",
    "import tensorflow.keras.losses\n",
    "import numpy as np\n",
    "import tensorflow as tf\n",
    "import torch\n",
    "\n",
    "from tensorflow.keras.backend import sparse_categorical_crossentropy\n",
    "from fastestimator.util.traceability_util import traceable\n",
    "from tensorflow.keras import backend as backend_config\n",
    "from tensorflow.keras.preprocessing.image import ImageDataGenerator\n",
    "import tensorflow.keras.losses as losses_utils\n",
    "from tensorflow.python.keras.losses import LossFunctionWrapper\n",
    "\n",
    "epsilon = backend_config.epsilon\n",
    "Tensor = TypeVar('Tensor', tf.Tensor, torch.Tensor)\n",
    "\n",
    "\n",
    "from fastestimator.backend import exp, lambertw, maximum, ones_like, pow, reduce_mean\n",
    "from fastestimator.op.tensorop.loss.loss import LossOp\n",
    "from fastestimator.util.util import to_number\n",
    "\n",
    "Tensor = TypeVar('Tensor', tf.Tensor, tf.Variable, torch.Tensor)"
   ]
  },
  {
   "cell_type": "code",
   "execution_count": 15,
   "id": "7903b586",
   "metadata": {
    "execution": {
     "iopub.execute_input": "2022-10-04T14:42:12.277009Z",
     "iopub.status.busy": "2022-10-04T14:42:12.275939Z",
     "iopub.status.idle": "2022-10-04T14:42:12.279772Z",
     "shell.execute_reply": "2022-10-04T14:42:12.279048Z",
     "shell.execute_reply.started": "2022-09-28T14:57:19.091670Z"
    },
    "papermill": {
     "duration": 0.056579,
     "end_time": "2022-10-04T14:42:12.279962",
     "exception": false,
     "start_time": "2022-10-04T14:42:12.223383",
     "status": "completed"
    },
    "tags": []
   },
   "outputs": [],
   "source": [
    "class SuperLoss(LossFunctionWrapper):\n",
    "    \"\"\"Loss class to compute a 'super loss' (automatic curriculum learning) based on a regular loss.\n",
    "    This class adds automatic curriculum learning on top of any other loss metric. It is especially useful in for noisy\n",
    "    datasets. See https://papers.nips.cc/paper/2020/file/2cfa8f9e50e0f510ede9d12338a5f564-Paper.pdf for details.\n",
    "    Args:\n",
    "        loss: A loss object which we use to calculate the underlying regular loss. This should be an object of type\n",
    "            fe.op.tensorop.loss.loss.LossOp.\n",
    "        threshold: Either a constant value corresponding to an average expected loss (for example log(n_classes) for\n",
    "            cross-entropy classification), or 'exp' to use an exponential moving average loss.\n",
    "        regularization: The regularization parameter to use for the super loss (must by >0, as regularization approaches\n",
    "            infinity the SuperLoss converges to the regular loss value).\n",
    "        average_loss: Whether the final loss should be averaged or not.\n",
    "        output_confidence: If not None then the confidence scores for each sample will be written into the specified\n",
    "            key. This can be useful for finding difficult or mislabeled data.\n",
    "    Raises:\n",
    "        ValueError: If the provided `loss` has multiple outputs or the `regularization` / `threshold` parameters are\n",
    "            invalid.\n",
    "    \"\"\"\n",
    "    def __init__(self,\n",
    "                 reduction=tf.keras.losses.Reduction.AUTO,\n",
    "                 name=\"Super\",\n",
    "                 threshold = 'exp',\n",
    "                 regularization: float = 1.0,\n",
    "                 average_loss: bool = True,\n",
    "                 from_logits=False,\n",
    "                 label_smoothing=0.0,\n",
    "                 axis=-1):\n",
    "\n",
    "        super().__init__(\n",
    "            Super,\n",
    "            name=name,\n",
    "            mode=threshold,\n",
    "            reduction=reduction,\n",
    "            from_logits=from_logits,\n",
    "            axis=axis,\n",
    "            average_loss=average_loss\n",
    "        )\n",
    "        if not isinstance(threshold, str):\n",
    "            threshold = to_number(threshold).item()\n",
    "        if not isinstance(threshold, float) and threshold != 'exp':\n",
    "            raise ValueError(f'SuperLoss threshold parameter must be \"exp\" or a float, but got {threshold}')\n",
    "        self.tau_method = threshold\n",
    "        if regularization <= 0:\n",
    "            raise ValueError(f\"SuperLoss regularization parameter must be greater than 0, but got {regularization}\")\n",
    "        self.lam = regularization\n",
    "        self.cap = -1.9999998 / e  # Slightly more than -2 / e for numerical stability\n",
    "        self.initialized = {}\n",
    "        self.tau = {}\n",
    "\n",
    "\n",
    "def Super(target, output, mode, from_logits, axis=-1, average_loss=True):\n",
    "    cap = -1.9999998 / e\n",
    "    lam = 1\n",
    "    tau1 = to_number('exp').item()\n",
    "    target = tf.convert_to_tensor(target)\n",
    "    output = tf.convert_to_tensor(output)\n",
    "    target.shape.assert_is_compatible_with(output.shape)\n",
    "\n",
    "    output, from_logits = _get_logits(\n",
    "        output, from_logits, \"Softmax\", \"sparse_categorical_crossentropy\"\n",
    "    )\n",
    "    if from_logits:\n",
    "        return tf.nn.softmax_cross_entropy_with_logits(\n",
    "            labels=target, logits=output, axis=axis\n",
    "        )\n",
    "    base_loss = sparse_categorical_crossentropy(target, output, from_logits, axis)\n",
    "    tau = tf.convert_to_tensor(tau1[mode], tau1[mode] - 0.1 * (tau1[mode] - reduce_mean(base_loss)))\n",
    "    beta = (base_loss - tau) / lam\n",
    "    # TODO The authors say to remove the gradients. Need to check whether this is necessary (speed or metrics)\n",
    "    ln_sigma = -lambertw(0.5 * maximum(cap, beta))\n",
    "    super_loss = (base_loss - tau) * exp(ln_sigma) + lam * pow(ln_sigma, 2)\n",
    "\n",
    "    if average_loss:\n",
    "        super_loss = reduce_mean(super_loss)\n",
    "\n",
    "    return super_loss\n",
    "\n",
    "\n",
    "def _assign(variable: Tensor, value: Tensor) -> None:\n",
    "    \"\"\"In place assignment of `value` to a `variable`.\n",
    "    Args:\n",
    "        variable: The tensor to be modified.\n",
    "        value: The new value to be inserted into the `variable`.\n",
    "    \"\"\"\n",
    "    if isinstance(variable, torch.Tensor):\n",
    "        variable.copy_(value.detach())\n",
    "    else:\n",
    "        variable.assign(value)\n",
    "\n",
    "def _get_logits(output, from_logits, op_type, fn_name):\n",
    "    output_ = output\n",
    "    from_logits_ = from_logits\n",
    "\n",
    "    has_keras_logits = hasattr(output, \"_keras_logits\")\n",
    "    if has_keras_logits:\n",
    "        output_ = output._keras_logits\n",
    "        from_logits_ = True\n",
    "\n",
    "    from_expected_op_type = (\n",
    "        not isinstance(output, (tf.Tensor, tf.Variable))\n",
    "        and output.op.type == op_type\n",
    "    ) and not has_keras_logits\n",
    "\n",
    "    if from_expected_op_type:\n",
    "        # When softmax activation function is used for output operation, we\n",
    "        # use logits from the softmax function directly to compute loss in order\n",
    "        # to prevent collapsing zero when training.\n",
    "        # See b/117284466\n",
    "        assert len(output.op.inputs) == 1\n",
    "        output_ = output.op.inputs[0]\n",
    "        from_logits_ = True\n",
    "\n",
    "    if from_logits and (has_keras_logits or from_expected_op_type):\n",
    "        warnings.warn(\n",
    "            f'\"`{fn_name}` received `from_logits=True`, but '\n",
    "            f\"the `output` argument was produced by a {op_type} \"\n",
    "            \"activation and thus does not represent logits. \"\n",
    "            \"Was this intended?\",\n",
    "            stacklevel=2,\n",
    "        )\n",
    "\n",
    "    return output_, from_logits_"
   ]
  },
  {
   "cell_type": "markdown",
   "id": "7a83c6fa",
   "metadata": {
    "papermill": {
     "duration": 0.049606,
     "end_time": "2022-10-04T14:42:12.362139",
     "exception": false,
     "start_time": "2022-10-04T14:42:12.312533",
     "status": "completed"
    },
    "tags": []
   },
   "source": [
    "# Run the Train"
   ]
  },
  {
   "cell_type": "code",
   "execution_count": 16,
   "id": "3e7d98a3",
   "metadata": {
    "execution": {
     "iopub.execute_input": "2022-10-04T14:42:12.442560Z",
     "iopub.status.busy": "2022-10-04T14:42:12.441582Z",
     "iopub.status.idle": "2022-10-04T14:42:12.446634Z",
     "shell.execute_reply": "2022-10-04T14:42:12.447182Z",
     "shell.execute_reply.started": "2022-09-28T14:57:19.092983Z"
    },
    "papermill": {
     "duration": 0.047068,
     "end_time": "2022-10-04T14:42:12.447429",
     "exception": false,
     "start_time": "2022-10-04T14:42:12.400361",
     "status": "completed"
    },
    "tags": []
   },
   "outputs": [],
   "source": [
    "def encode(input_text):\n",
    "    inputs = TOKENIZER.batch_encode_plus(input_text, \n",
    "                                         padding = 'max_length', \n",
    "                                         max_length = MAX_LEN, \n",
    "                                         truncation = True)\n",
    "    return inputs"
   ]
  },
  {
   "cell_type": "code",
   "execution_count": 17,
   "id": "d9ddf95b",
   "metadata": {
    "execution": {
     "iopub.execute_input": "2022-10-04T14:42:12.518781Z",
     "iopub.status.busy": "2022-10-04T14:42:12.517634Z",
     "iopub.status.idle": "2022-10-04T14:42:12.525233Z",
     "shell.execute_reply": "2022-10-04T14:42:12.525850Z",
     "shell.execute_reply.started": "2022-09-28T14:57:19.094261Z"
    },
    "papermill": {
     "duration": 0.045197,
     "end_time": "2022-10-04T14:42:12.526107",
     "exception": false,
     "start_time": "2022-10-04T14:42:12.480910",
     "status": "completed"
    },
    "tags": []
   },
   "outputs": [],
   "source": [
    "AUTO = tf.data.experimental.AUTOTUNE\n",
    "\n",
    "\n",
    "def create_dataset(X, y, split):\n",
    "    train_input = encode(X.values.tolist())['input_ids']\n",
    "    if split=='train':\n",
    "        train_dataset = (\n",
    "            tf.data.Dataset\n",
    "            .from_tensor_slices((train_input,tf.keras.utils.to_categorical(y)))\n",
    "            .repeat()\n",
    "            .batch(BATCH_SIZE)\n",
    "            .prefetch(AUTO)\n",
    "        )\n",
    "    elif split=='valid':\n",
    "        train_dataset = (\n",
    "            tf.data.Dataset\n",
    "            .from_tensor_slices((train_input,tf.keras.utils.to_categorical(y)))\n",
    "            .batch(BATCH_SIZE)\n",
    "        )\n",
    "\n",
    "    return train_dataset"
   ]
  },
  {
   "cell_type": "code",
   "execution_count": 18,
   "id": "ccef0400",
   "metadata": {
    "execution": {
     "iopub.execute_input": "2022-10-04T14:42:12.604365Z",
     "iopub.status.busy": "2022-10-04T14:42:12.603171Z",
     "iopub.status.idle": "2022-10-04T14:42:12.610984Z",
     "shell.execute_reply": "2022-10-04T14:42:12.611513Z",
     "shell.execute_reply.started": "2022-09-28T14:57:19.095372Z"
    },
    "papermill": {
     "duration": 0.053224,
     "end_time": "2022-10-04T14:42:12.611808",
     "exception": false,
     "start_time": "2022-10-04T14:42:12.558584",
     "status": "completed"
    },
    "tags": []
   },
   "outputs": [
    {
     "data": {
      "text/plain": [
       "256"
      ]
     },
     "execution_count": 18,
     "metadata": {},
     "output_type": "execute_result"
    }
   ],
   "source": [
    "MAX_LEN"
   ]
  },
  {
   "cell_type": "code",
   "execution_count": 19,
   "id": "b2cb6a61",
   "metadata": {
    "execution": {
     "iopub.execute_input": "2022-10-04T14:42:12.704329Z",
     "iopub.status.busy": "2022-10-04T14:42:12.703448Z",
     "iopub.status.idle": "2022-10-04T14:42:17.422173Z",
     "shell.execute_reply": "2022-10-04T14:42:17.422823Z",
     "shell.execute_reply.started": "2022-09-28T14:57:19.096464Z"
    },
    "papermill": {
     "duration": 4.766593,
     "end_time": "2022-10-04T14:42:17.423069",
     "exception": false,
     "start_time": "2022-10-04T14:42:12.656476",
     "status": "completed"
    },
    "tags": []
   },
   "outputs": [],
   "source": [
    "## Predicting test set output\n",
    "test_X = test_df['premise'] + ' [SEP] ' + test_df['hypothesis']\n",
    "testing_input = encode(test_X.values.tolist())['input_ids']\n",
    "test_dataset = (\n",
    "    tf.data.Dataset\n",
    "    .from_tensor_slices(testing_input)\n",
    "    .batch(BATCH_SIZE)\n",
    ")"
   ]
  },
  {
   "cell_type": "code",
   "execution_count": 20,
   "id": "8a137dc0",
   "metadata": {
    "execution": {
     "iopub.execute_input": "2022-10-04T14:42:17.494749Z",
     "iopub.status.busy": "2022-10-04T14:42:17.493865Z",
     "iopub.status.idle": "2022-10-04T14:42:17.597675Z",
     "shell.execute_reply": "2022-10-04T14:42:17.597018Z",
     "shell.execute_reply.started": "2022-09-28T14:57:19.098000Z"
    },
    "papermill": {
     "duration": 0.140316,
     "end_time": "2022-10-04T14:42:17.597878",
     "exception": false,
     "start_time": "2022-10-04T14:42:17.457562",
     "status": "completed"
    },
    "tags": []
   },
   "outputs": [
    {
     "name": "stdout",
     "output_type": "stream",
     "text": [
      "Model: \"model\"\n",
      "_________________________________________________________________\n",
      "Layer (type)                 Output Shape              Param #   \n",
      "=================================================================\n",
      "input_word_ids (InputLayer)  [(None, 256)]             0         \n",
      "_________________________________________________________________\n",
      "tfxlm_roberta_model (TFXLMRo TFBaseModelOutputWithPool 559890432 \n",
      "_________________________________________________________________\n",
      "global_average_pooling1d (Gl (None, 1024)              0         \n",
      "_________________________________________________________________\n",
      "layer_normalization (LayerNo (None, 1024)              2048      \n",
      "_________________________________________________________________\n",
      "dense (Dense)                (None, 3)                 3075      \n",
      "=================================================================\n",
      "Total params: 559,895,555\n",
      "Trainable params: 559,895,555\n",
      "Non-trainable params: 0\n",
      "_________________________________________________________________\n"
     ]
    }
   ],
   "source": [
    "with strategy.scope():\n",
    "    model.compile(optimizer = tf.keras.optimizers.Adam(1e-5), loss = SuperLoss(), metrics = ['accuracy'])\n",
    "    model.summary()"
   ]
  },
  {
   "cell_type": "code",
   "execution_count": 21,
   "id": "be4b3ac8",
   "metadata": {
    "execution": {
     "iopub.execute_input": "2022-10-04T14:42:17.669801Z",
     "iopub.status.busy": "2022-10-04T14:42:17.668969Z",
     "iopub.status.idle": "2022-10-04T14:43:56.160514Z",
     "shell.execute_reply": "2022-10-04T14:43:56.159707Z",
     "shell.execute_reply.started": "2022-09-28T14:57:19.099522Z"
    },
    "papermill": {
     "duration": 98.52929,
     "end_time": "2022-10-04T14:43:56.160711",
     "exception": false,
     "start_time": "2022-10-04T14:42:17.631421",
     "status": "completed"
    },
    "tags": []
   },
   "outputs": [],
   "source": [
    "with strategy.scope():\n",
    "    train_df['input_text']=train_df['premise'] + ' [SEP] ' + train_df['hypothesis']\n",
    "    train_ds = create_dataset(train_df['input_text'],train_df['label'],'train')"
   ]
  },
  {
   "cell_type": "code",
   "execution_count": 22,
   "id": "edee00f5",
   "metadata": {
    "execution": {
     "iopub.execute_input": "2022-10-04T14:43:56.270225Z",
     "iopub.status.busy": "2022-10-04T14:43:56.269023Z",
     "iopub.status.idle": "2022-10-04T14:44:05.041770Z",
     "shell.execute_reply": "2022-10-04T14:44:05.040862Z",
     "shell.execute_reply.started": "2022-09-28T14:57:19.101364Z"
    },
    "papermill": {
     "duration": 8.846584,
     "end_time": "2022-10-04T14:44:05.041982",
     "exception": false,
     "start_time": "2022-10-04T14:43:56.195398",
     "status": "completed"
    },
    "tags": []
   },
   "outputs": [],
   "source": [
    "with strategy.scope():\n",
    "    valid_df['input_text'] = valid_df['premise'] + ' [SEP] ' + valid_df['hypothesis']\n",
    "    valid_ds = create_dataset(valid_df['input_text'],valid_df['label'],'valid')"
   ]
  },
  {
   "cell_type": "code",
   "execution_count": 23,
   "id": "8bb411da",
   "metadata": {
    "execution": {
     "iopub.execute_input": "2022-10-04T14:44:05.120518Z",
     "iopub.status.busy": "2022-10-04T14:44:05.119514Z",
     "iopub.status.idle": "2022-10-04T15:08:24.402852Z",
     "shell.execute_reply": "2022-10-04T15:08:24.403516Z",
     "shell.execute_reply.started": "2022-09-28T14:57:19.104288Z"
    },
    "papermill": {
     "duration": 1459.328325,
     "end_time": "2022-10-04T15:08:24.403803",
     "exception": false,
     "start_time": "2022-10-04T14:44:05.075478",
     "status": "completed"
    },
    "tags": []
   },
   "outputs": [
    {
     "name": "stdout",
     "output_type": "stream",
     "text": [
      "Epoch 1/10\n"
     ]
    },
    {
     "name": "stderr",
     "output_type": "stream",
     "text": [
      "/opt/conda/lib/python3.7/site-packages/tensorflow/python/framework/indexed_slices.py:430: UserWarning: Converting sparse IndexedSlices to a dense Tensor with 256002048 elements. This may consume a large amount of memory.\n",
      "  num_elements)\n"
     ]
    },
    {
     "name": "stdout",
     "output_type": "stream",
     "text": [
      "410/410 [==============================] - 486s 825ms/step - loss: 0.4475 - accuracy: 0.7939 - val_loss: 0.0888 - val_accuracy: 0.9734\n",
      "Epoch 2/10\n",
      "410/410 [==============================] - 308s 752ms/step - loss: 0.1190 - accuracy: 0.9583 - val_loss: 0.0936 - val_accuracy: 0.9734\n",
      "Epoch 3/10\n",
      "410/410 [==============================] - 309s 753ms/step - loss: 0.0742 - accuracy: 0.9744 - val_loss: 0.1067 - val_accuracy: 0.9716\n",
      "Epoch 4/10\n",
      "410/410 [==============================] - 309s 753ms/step - loss: 0.0531 - accuracy: 0.9812 - val_loss: 0.1122 - val_accuracy: 0.9730\n"
     ]
    }
   ],
   "source": [
    "EVAL_INTERVAL = train_df.shape[0]//BATCH_SIZE\n",
    "\n",
    "history = model.fit(train_ds,\n",
    "             validation_data = valid_ds,\n",
    "             steps_per_epoch = EVAL_INTERVAL,\n",
    "             batch_size = BATCH_SIZE,\n",
    "             epochs = EPOCHS,\n",
    "             verbose = 1,\n",
    "             shuffle= True,\n",
    "             callbacks=[es,reduce_lr])"
   ]
  },
  {
   "cell_type": "code",
   "execution_count": 24,
   "id": "76fb37ba",
   "metadata": {
    "execution": {
     "iopub.execute_input": "2022-10-04T15:08:25.436207Z",
     "iopub.status.busy": "2022-10-04T15:08:25.434885Z",
     "iopub.status.idle": "2022-10-04T15:08:59.408121Z",
     "shell.execute_reply": "2022-10-04T15:08:59.408757Z",
     "shell.execute_reply.started": "2022-09-28T14:57:19.105525Z"
    },
    "papermill": {
     "duration": 34.487921,
     "end_time": "2022-10-04T15:08:59.409023",
     "exception": false,
     "start_time": "2022-10-04T15:08:24.921102",
     "status": "completed"
    },
    "tags": []
   },
   "outputs": [],
   "source": [
    "preds=model.predict(test_dataset)\n",
    "preds=preds.argmax(-1)"
   ]
  },
  {
   "cell_type": "code",
   "execution_count": 25,
   "id": "daf91fd5",
   "metadata": {
    "execution": {
     "iopub.execute_input": "2022-10-04T15:09:00.417168Z",
     "iopub.status.busy": "2022-10-04T15:09:00.416275Z",
     "iopub.status.idle": "2022-10-04T15:09:00.419399Z",
     "shell.execute_reply": "2022-10-04T15:09:00.420001Z",
     "shell.execute_reply.started": "2022-09-28T14:57:19.106823Z"
    },
    "papermill": {
     "duration": 0.504704,
     "end_time": "2022-10-04T15:09:00.420219",
     "exception": false,
     "start_time": "2022-10-04T15:08:59.915515",
     "status": "completed"
    },
    "tags": []
   },
   "outputs": [
    {
     "data": {
      "text/plain": [
       "array([2, 1, 0, ..., 0, 0, 2])"
      ]
     },
     "execution_count": 25,
     "metadata": {},
     "output_type": "execute_result"
    }
   ],
   "source": [
    "preds"
   ]
  },
  {
   "cell_type": "code",
   "execution_count": 26,
   "id": "3ebad2a6",
   "metadata": {
    "execution": {
     "iopub.execute_input": "2022-10-04T15:09:01.524089Z",
     "iopub.status.busy": "2022-10-04T15:09:01.522839Z",
     "iopub.status.idle": "2022-10-04T15:09:01.536779Z",
     "shell.execute_reply": "2022-10-04T15:09:01.536045Z",
     "shell.execute_reply.started": "2022-09-28T14:57:19.108114Z"
    },
    "papermill": {
     "duration": 0.613889,
     "end_time": "2022-10-04T15:09:01.537004",
     "exception": false,
     "start_time": "2022-10-04T15:09:00.923115",
     "status": "completed"
    },
    "tags": []
   },
   "outputs": [],
   "source": [
    "output_df=pd.DataFrame({\"id\":test_df['id'], \"prediction\": preds})\n",
    "output_df.set_index(\"id\", inplace=True)\n",
    "output_df.to_csv(\"submission.csv\")"
   ]
  },
  {
   "cell_type": "code",
   "execution_count": 27,
   "id": "cec40697",
   "metadata": {
    "execution": {
     "iopub.execute_input": "2022-10-04T15:09:02.576390Z",
     "iopub.status.busy": "2022-10-04T15:09:02.575186Z",
     "iopub.status.idle": "2022-10-04T15:09:02.581662Z",
     "shell.execute_reply": "2022-10-04T15:09:02.582336Z",
     "shell.execute_reply.started": "2022-09-28T14:57:19.109350Z"
    },
    "papermill": {
     "duration": 0.529539,
     "end_time": "2022-10-04T15:09:02.582582",
     "exception": false,
     "start_time": "2022-10-04T15:09:02.053043",
     "status": "completed"
    },
    "tags": []
   },
   "outputs": [
    {
     "data": {
      "text/plain": [
       "(5195, 1)"
      ]
     },
     "execution_count": 27,
     "metadata": {},
     "output_type": "execute_result"
    }
   ],
   "source": [
    "output_df.shape"
   ]
  },
  {
   "cell_type": "code",
   "execution_count": 28,
   "id": "a94deb3d",
   "metadata": {
    "execution": {
     "iopub.execute_input": "2022-10-04T15:09:03.613061Z",
     "iopub.status.busy": "2022-10-04T15:09:03.611887Z",
     "iopub.status.idle": "2022-10-04T15:09:03.626356Z",
     "shell.execute_reply": "2022-10-04T15:09:03.625560Z",
     "shell.execute_reply.started": "2022-09-28T14:57:19.110583Z"
    },
    "papermill": {
     "duration": 0.527243,
     "end_time": "2022-10-04T15:09:03.626559",
     "exception": false,
     "start_time": "2022-10-04T15:09:03.099316",
     "status": "completed"
    },
    "tags": []
   },
   "outputs": [
    {
     "data": {
      "text/html": [
       "<div>\n",
       "<style scoped>\n",
       "    .dataframe tbody tr th:only-of-type {\n",
       "        vertical-align: middle;\n",
       "    }\n",
       "\n",
       "    .dataframe tbody tr th {\n",
       "        vertical-align: top;\n",
       "    }\n",
       "\n",
       "    .dataframe thead th {\n",
       "        text-align: right;\n",
       "    }\n",
       "</style>\n",
       "<table border=\"1\" class=\"dataframe\">\n",
       "  <thead>\n",
       "    <tr style=\"text-align: right;\">\n",
       "      <th></th>\n",
       "      <th>prediction</th>\n",
       "    </tr>\n",
       "    <tr>\n",
       "      <th>id</th>\n",
       "      <th></th>\n",
       "    </tr>\n",
       "  </thead>\n",
       "  <tbody>\n",
       "    <tr>\n",
       "      <th>c6d58c3f69</th>\n",
       "      <td>2</td>\n",
       "    </tr>\n",
       "    <tr>\n",
       "      <th>cefcc82292</th>\n",
       "      <td>1</td>\n",
       "    </tr>\n",
       "    <tr>\n",
       "      <th>e98005252c</th>\n",
       "      <td>0</td>\n",
       "    </tr>\n",
       "    <tr>\n",
       "      <th>58518c10ba</th>\n",
       "      <td>1</td>\n",
       "    </tr>\n",
       "    <tr>\n",
       "      <th>c32b0d16df</th>\n",
       "      <td>1</td>\n",
       "    </tr>\n",
       "    <tr>\n",
       "      <th>...</th>\n",
       "      <td>...</td>\n",
       "    </tr>\n",
       "    <tr>\n",
       "      <th>5f90dd59b0</th>\n",
       "      <td>1</td>\n",
       "    </tr>\n",
       "    <tr>\n",
       "      <th>f357a04e86</th>\n",
       "      <td>2</td>\n",
       "    </tr>\n",
       "    <tr>\n",
       "      <th>1f0ea92118</th>\n",
       "      <td>0</td>\n",
       "    </tr>\n",
       "    <tr>\n",
       "      <th>0407b48afb</th>\n",
       "      <td>0</td>\n",
       "    </tr>\n",
       "    <tr>\n",
       "      <th>16c2f2ab89</th>\n",
       "      <td>2</td>\n",
       "    </tr>\n",
       "  </tbody>\n",
       "</table>\n",
       "<p>5195 rows × 1 columns</p>\n",
       "</div>"
      ],
      "text/plain": [
       "            prediction\n",
       "id                    \n",
       "c6d58c3f69           2\n",
       "cefcc82292           1\n",
       "e98005252c           0\n",
       "58518c10ba           1\n",
       "c32b0d16df           1\n",
       "...                ...\n",
       "5f90dd59b0           1\n",
       "f357a04e86           2\n",
       "1f0ea92118           0\n",
       "0407b48afb           0\n",
       "16c2f2ab89           2\n",
       "\n",
       "[5195 rows x 1 columns]"
      ]
     },
     "execution_count": 28,
     "metadata": {},
     "output_type": "execute_result"
    }
   ],
   "source": [
    "output_df"
   ]
  },
  {
   "cell_type": "code",
   "execution_count": null,
   "id": "6e5bb013",
   "metadata": {
    "papermill": {
     "duration": 0.500365,
     "end_time": "2022-10-04T15:09:04.638915",
     "exception": false,
     "start_time": "2022-10-04T15:09:04.138550",
     "status": "completed"
    },
    "tags": []
   },
   "outputs": [],
   "source": []
  }
 ],
 "metadata": {
  "kernelspec": {
   "display_name": "Python 3",
   "language": "python",
   "name": "python3"
  },
  "language_info": {
   "codemirror_mode": {
    "name": "ipython",
    "version": 3
   },
   "file_extension": ".py",
   "mimetype": "text/x-python",
   "name": "python",
   "nbconvert_exporter": "python",
   "pygments_lexer": "ipython3",
   "version": "3.7.10"
  },
  "papermill": {
   "default_parameters": {},
   "duration": 1844.750446,
   "end_time": "2022-10-04T15:09:08.652550",
   "environment_variables": {},
   "exception": null,
   "input_path": "__notebook__.ipynb",
   "output_path": "__notebook__.ipynb",
   "parameters": {},
   "start_time": "2022-10-04T14:38:23.902104",
   "version": "2.3.3"
  },
  "widgets": {
   "application/vnd.jupyter.widget-state+json": {
    "state": {
     "052b1d2be49b4233b7c8deb9bc293d61": {
      "model_module": "@jupyter-widgets/base",
      "model_module_version": "1.2.0",
      "model_name": "LayoutModel",
      "state": {
       "_model_module": "@jupyter-widgets/base",
       "_model_module_version": "1.2.0",
       "_model_name": "LayoutModel",
       "_view_count": null,
       "_view_module": "@jupyter-widgets/base",
       "_view_module_version": "1.2.0",
       "_view_name": "LayoutView",
       "align_content": null,
       "align_items": null,
       "align_self": null,
       "border": null,
       "bottom": null,
       "display": null,
       "flex": null,
       "flex_flow": null,
       "grid_area": null,
       "grid_auto_columns": null,
       "grid_auto_flow": null,
       "grid_auto_rows": null,
       "grid_column": null,
       "grid_gap": null,
       "grid_row": null,
       "grid_template_areas": null,
       "grid_template_columns": null,
       "grid_template_rows": null,
       "height": null,
       "justify_content": null,
       "justify_items": null,
       "left": null,
       "margin": null,
       "max_height": null,
       "max_width": null,
       "min_height": null,
       "min_width": null,
       "object_fit": null,
       "object_position": null,
       "order": null,
       "overflow": null,
       "overflow_x": null,
       "overflow_y": null,
       "padding": null,
       "right": null,
       "top": null,
       "visibility": null,
       "width": null
      }
     },
     "0f80625eef3244db9654b61b91ba68e3": {
      "model_module": "@jupyter-widgets/controls",
      "model_module_version": "1.5.0",
      "model_name": "HBoxModel",
      "state": {
       "_dom_classes": [],
       "_model_module": "@jupyter-widgets/controls",
       "_model_module_version": "1.5.0",
       "_model_name": "HBoxModel",
       "_view_count": null,
       "_view_module": "@jupyter-widgets/controls",
       "_view_module_version": "1.5.0",
       "_view_name": "HBoxView",
       "box_style": "",
       "children": [
        "IPY_MODEL_b47d39e53aa54e7abe57003b14ea8e24",
        "IPY_MODEL_6e55ed83c45c4fb48062f0a29fdb2657",
        "IPY_MODEL_c9d4c7f7b8394e91adbc52ca4929db53"
       ],
       "layout": "IPY_MODEL_be353e753bc1437a87b238a5633edb18"
      }
     },
     "117448211b0848298d9dd54211de36df": {
      "model_module": "@jupyter-widgets/base",
      "model_module_version": "1.2.0",
      "model_name": "LayoutModel",
      "state": {
       "_model_module": "@jupyter-widgets/base",
       "_model_module_version": "1.2.0",
       "_model_name": "LayoutModel",
       "_view_count": null,
       "_view_module": "@jupyter-widgets/base",
       "_view_module_version": "1.2.0",
       "_view_name": "LayoutView",
       "align_content": null,
       "align_items": null,
       "align_self": null,
       "border": null,
       "bottom": null,
       "display": null,
       "flex": null,
       "flex_flow": null,
       "grid_area": null,
       "grid_auto_columns": null,
       "grid_auto_flow": null,
       "grid_auto_rows": null,
       "grid_column": null,
       "grid_gap": null,
       "grid_row": null,
       "grid_template_areas": null,
       "grid_template_columns": null,
       "grid_template_rows": null,
       "height": null,
       "justify_content": null,
       "justify_items": null,
       "left": null,
       "margin": null,
       "max_height": null,
       "max_width": null,
       "min_height": null,
       "min_width": null,
       "object_fit": null,
       "object_position": null,
       "order": null,
       "overflow": null,
       "overflow_x": null,
       "overflow_y": null,
       "padding": null,
       "right": null,
       "top": null,
       "visibility": null,
       "width": null
      }
     },
     "14365648a2854a1d974cf4972c5fb774": {
      "model_module": "@jupyter-widgets/controls",
      "model_module_version": "1.5.0",
      "model_name": "HTMLModel",
      "state": {
       "_dom_classes": [],
       "_model_module": "@jupyter-widgets/controls",
       "_model_module_version": "1.5.0",
       "_model_name": "HTMLModel",
       "_view_count": null,
       "_view_module": "@jupyter-widgets/controls",
       "_view_module_version": "1.5.0",
       "_view_name": "HTMLView",
       "description": "",
       "description_tooltip": null,
       "layout": "IPY_MODEL_ce8f3e96c97c4225a78e01090d17509e",
       "placeholder": "​",
       "style": "IPY_MODEL_3785fcbfcdeb4a4287e353f7aa56d945",
       "value": "Downloading: 100%"
      }
     },
     "1a15738c829f4f5581047c5037ef3170": {
      "model_module": "@jupyter-widgets/base",
      "model_module_version": "1.2.0",
      "model_name": "LayoutModel",
      "state": {
       "_model_module": "@jupyter-widgets/base",
       "_model_module_version": "1.2.0",
       "_model_name": "LayoutModel",
       "_view_count": null,
       "_view_module": "@jupyter-widgets/base",
       "_view_module_version": "1.2.0",
       "_view_name": "LayoutView",
       "align_content": null,
       "align_items": null,
       "align_self": null,
       "border": null,
       "bottom": null,
       "display": null,
       "flex": null,
       "flex_flow": null,
       "grid_area": null,
       "grid_auto_columns": null,
       "grid_auto_flow": null,
       "grid_auto_rows": null,
       "grid_column": null,
       "grid_gap": null,
       "grid_row": null,
       "grid_template_areas": null,
       "grid_template_columns": null,
       "grid_template_rows": null,
       "height": null,
       "justify_content": null,
       "justify_items": null,
       "left": null,
       "margin": null,
       "max_height": null,
       "max_width": null,
       "min_height": null,
       "min_width": null,
       "object_fit": null,
       "object_position": null,
       "order": null,
       "overflow": null,
       "overflow_x": null,
       "overflow_y": null,
       "padding": null,
       "right": null,
       "top": null,
       "visibility": null,
       "width": null
      }
     },
     "1f5b092c88994508a364317a8e94695f": {
      "model_module": "@jupyter-widgets/controls",
      "model_module_version": "1.5.0",
      "model_name": "DescriptionStyleModel",
      "state": {
       "_model_module": "@jupyter-widgets/controls",
       "_model_module_version": "1.5.0",
       "_model_name": "DescriptionStyleModel",
       "_view_count": null,
       "_view_module": "@jupyter-widgets/base",
       "_view_module_version": "1.2.0",
       "_view_name": "StyleView",
       "description_width": ""
      }
     },
     "20f08192792b4dceb3e6eb7ab549b86e": {
      "model_module": "@jupyter-widgets/base",
      "model_module_version": "1.2.0",
      "model_name": "LayoutModel",
      "state": {
       "_model_module": "@jupyter-widgets/base",
       "_model_module_version": "1.2.0",
       "_model_name": "LayoutModel",
       "_view_count": null,
       "_view_module": "@jupyter-widgets/base",
       "_view_module_version": "1.2.0",
       "_view_name": "LayoutView",
       "align_content": null,
       "align_items": null,
       "align_self": null,
       "border": null,
       "bottom": null,
       "display": null,
       "flex": null,
       "flex_flow": null,
       "grid_area": null,
       "grid_auto_columns": null,
       "grid_auto_flow": null,
       "grid_auto_rows": null,
       "grid_column": null,
       "grid_gap": null,
       "grid_row": null,
       "grid_template_areas": null,
       "grid_template_columns": null,
       "grid_template_rows": null,
       "height": null,
       "justify_content": null,
       "justify_items": null,
       "left": null,
       "margin": null,
       "max_height": null,
       "max_width": null,
       "min_height": null,
       "min_width": null,
       "object_fit": null,
       "object_position": null,
       "order": null,
       "overflow": null,
       "overflow_x": null,
       "overflow_y": null,
       "padding": null,
       "right": null,
       "top": null,
       "visibility": null,
       "width": null
      }
     },
     "24a2b301126c4197a3e3b05498d66746": {
      "model_module": "@jupyter-widgets/controls",
      "model_module_version": "1.5.0",
      "model_name": "HBoxModel",
      "state": {
       "_dom_classes": [],
       "_model_module": "@jupyter-widgets/controls",
       "_model_module_version": "1.5.0",
       "_model_name": "HBoxModel",
       "_view_count": null,
       "_view_module": "@jupyter-widgets/controls",
       "_view_module_version": "1.5.0",
       "_view_name": "HBoxView",
       "box_style": "",
       "children": [
        "IPY_MODEL_f6c5fc3daca84372b0a13d265ecd5f40",
        "IPY_MODEL_fd8092b496904c848a81e3ed6735f797",
        "IPY_MODEL_6e944f2fc60943a6a63a80410e176fd3"
       ],
       "layout": "IPY_MODEL_20f08192792b4dceb3e6eb7ab549b86e"
      }
     },
     "2527179476e74b6eac889fc91a056047": {
      "model_module": "@jupyter-widgets/controls",
      "model_module_version": "1.5.0",
      "model_name": "ProgressStyleModel",
      "state": {
       "_model_module": "@jupyter-widgets/controls",
       "_model_module_version": "1.5.0",
       "_model_name": "ProgressStyleModel",
       "_view_count": null,
       "_view_module": "@jupyter-widgets/base",
       "_view_module_version": "1.2.0",
       "_view_name": "StyleView",
       "bar_color": null,
       "description_width": ""
      }
     },
     "2a93ae46fb7a4fd5825803d0cb76cf7b": {
      "model_module": "@jupyter-widgets/controls",
      "model_module_version": "1.5.0",
      "model_name": "FloatProgressModel",
      "state": {
       "_dom_classes": [],
       "_model_module": "@jupyter-widgets/controls",
       "_model_module_version": "1.5.0",
       "_model_name": "FloatProgressModel",
       "_view_count": null,
       "_view_module": "@jupyter-widgets/controls",
       "_view_module_version": "1.5.0",
       "_view_name": "ProgressView",
       "bar_style": "success",
       "description": "",
       "description_tooltip": null,
       "layout": "IPY_MODEL_acbd853a0d5d4f40ae64b13b997f9b66",
       "max": 150.0,
       "min": 0.0,
       "orientation": "horizontal",
       "style": "IPY_MODEL_557d85ebfb844386a6114b32978d7b4d",
       "value": 150.0
      }
     },
     "313512f2adf64d6db81ef66a80055ccf": {
      "model_module": "@jupyter-widgets/controls",
      "model_module_version": "1.5.0",
      "model_name": "ProgressStyleModel",
      "state": {
       "_model_module": "@jupyter-widgets/controls",
       "_model_module_version": "1.5.0",
       "_model_name": "ProgressStyleModel",
       "_view_count": null,
       "_view_module": "@jupyter-widgets/base",
       "_view_module_version": "1.2.0",
       "_view_name": "StyleView",
       "bar_color": null,
       "description_width": ""
      }
     },
     "3785fcbfcdeb4a4287e353f7aa56d945": {
      "model_module": "@jupyter-widgets/controls",
      "model_module_version": "1.5.0",
      "model_name": "DescriptionStyleModel",
      "state": {
       "_model_module": "@jupyter-widgets/controls",
       "_model_module_version": "1.5.0",
       "_model_name": "DescriptionStyleModel",
       "_view_count": null,
       "_view_module": "@jupyter-widgets/base",
       "_view_module_version": "1.2.0",
       "_view_name": "StyleView",
       "description_width": ""
      }
     },
     "378c028fed7b49b0b74bf0044475001f": {
      "model_module": "@jupyter-widgets/controls",
      "model_module_version": "1.5.0",
      "model_name": "DescriptionStyleModel",
      "state": {
       "_model_module": "@jupyter-widgets/controls",
       "_model_module_version": "1.5.0",
       "_model_name": "DescriptionStyleModel",
       "_view_count": null,
       "_view_module": "@jupyter-widgets/base",
       "_view_module_version": "1.2.0",
       "_view_name": "StyleView",
       "description_width": ""
      }
     },
     "39527955ec5b4a99b14c0cd99a793306": {
      "model_module": "@jupyter-widgets/controls",
      "model_module_version": "1.5.0",
      "model_name": "DescriptionStyleModel",
      "state": {
       "_model_module": "@jupyter-widgets/controls",
       "_model_module_version": "1.5.0",
       "_model_name": "DescriptionStyleModel",
       "_view_count": null,
       "_view_module": "@jupyter-widgets/base",
       "_view_module_version": "1.2.0",
       "_view_name": "StyleView",
       "description_width": ""
      }
     },
     "40ad4d65ba5b4285b76c3195f92325a5": {
      "model_module": "@jupyter-widgets/base",
      "model_module_version": "1.2.0",
      "model_name": "LayoutModel",
      "state": {
       "_model_module": "@jupyter-widgets/base",
       "_model_module_version": "1.2.0",
       "_model_name": "LayoutModel",
       "_view_count": null,
       "_view_module": "@jupyter-widgets/base",
       "_view_module_version": "1.2.0",
       "_view_name": "LayoutView",
       "align_content": null,
       "align_items": null,
       "align_self": null,
       "border": null,
       "bottom": null,
       "display": null,
       "flex": null,
       "flex_flow": null,
       "grid_area": null,
       "grid_auto_columns": null,
       "grid_auto_flow": null,
       "grid_auto_rows": null,
       "grid_column": null,
       "grid_gap": null,
       "grid_row": null,
       "grid_template_areas": null,
       "grid_template_columns": null,
       "grid_template_rows": null,
       "height": null,
       "justify_content": null,
       "justify_items": null,
       "left": null,
       "margin": null,
       "max_height": null,
       "max_width": null,
       "min_height": null,
       "min_width": null,
       "object_fit": null,
       "object_position": null,
       "order": null,
       "overflow": null,
       "overflow_x": null,
       "overflow_y": null,
       "padding": null,
       "right": null,
       "top": null,
       "visibility": null,
       "width": null
      }
     },
     "40cc279fd48d4ac8ac328892e142bb73": {
      "model_module": "@jupyter-widgets/controls",
      "model_module_version": "1.5.0",
      "model_name": "HTMLModel",
      "state": {
       "_dom_classes": [],
       "_model_module": "@jupyter-widgets/controls",
       "_model_module_version": "1.5.0",
       "_model_name": "HTMLModel",
       "_view_count": null,
       "_view_module": "@jupyter-widgets/controls",
       "_view_module_version": "1.5.0",
       "_view_name": "HTMLView",
       "description": "",
       "description_tooltip": null,
       "layout": "IPY_MODEL_535618ee2c524aa3a78e5ff373b01cf1",
       "placeholder": "​",
       "style": "IPY_MODEL_c80314cae74a47dc85be3c16b8f71dfb",
       "value": " 2.24G/2.24G [00:45&lt;00:00, 51.4MB/s]"
      }
     },
     "4a4d1955369246ad979a2ca0d5c0634a": {
      "model_module": "@jupyter-widgets/controls",
      "model_module_version": "1.5.0",
      "model_name": "DescriptionStyleModel",
      "state": {
       "_model_module": "@jupyter-widgets/controls",
       "_model_module_version": "1.5.0",
       "_model_name": "DescriptionStyleModel",
       "_view_count": null,
       "_view_module": "@jupyter-widgets/base",
       "_view_module_version": "1.2.0",
       "_view_name": "StyleView",
       "description_width": ""
      }
     },
     "509e6630b7824d69bb9e6d680b8d9f95": {
      "model_module": "@jupyter-widgets/controls",
      "model_module_version": "1.5.0",
      "model_name": "HTMLModel",
      "state": {
       "_dom_classes": [],
       "_model_module": "@jupyter-widgets/controls",
       "_model_module_version": "1.5.0",
       "_model_name": "HTMLModel",
       "_view_count": null,
       "_view_module": "@jupyter-widgets/controls",
       "_view_module_version": "1.5.0",
       "_view_name": "HTMLView",
       "description": "",
       "description_tooltip": null,
       "layout": "IPY_MODEL_117448211b0848298d9dd54211de36df",
       "placeholder": "​",
       "style": "IPY_MODEL_97511240c1d741cfb50afd37b0584c17",
       "value": " 150/150 [00:00&lt;00:00, 4.85kB/s]"
      }
     },
     "535618ee2c524aa3a78e5ff373b01cf1": {
      "model_module": "@jupyter-widgets/base",
      "model_module_version": "1.2.0",
      "model_name": "LayoutModel",
      "state": {
       "_model_module": "@jupyter-widgets/base",
       "_model_module_version": "1.2.0",
       "_model_name": "LayoutModel",
       "_view_count": null,
       "_view_module": "@jupyter-widgets/base",
       "_view_module_version": "1.2.0",
       "_view_name": "LayoutView",
       "align_content": null,
       "align_items": null,
       "align_self": null,
       "border": null,
       "bottom": null,
       "display": null,
       "flex": null,
       "flex_flow": null,
       "grid_area": null,
       "grid_auto_columns": null,
       "grid_auto_flow": null,
       "grid_auto_rows": null,
       "grid_column": null,
       "grid_gap": null,
       "grid_row": null,
       "grid_template_areas": null,
       "grid_template_columns": null,
       "grid_template_rows": null,
       "height": null,
       "justify_content": null,
       "justify_items": null,
       "left": null,
       "margin": null,
       "max_height": null,
       "max_width": null,
       "min_height": null,
       "min_width": null,
       "object_fit": null,
       "object_position": null,
       "order": null,
       "overflow": null,
       "overflow_x": null,
       "overflow_y": null,
       "padding": null,
       "right": null,
       "top": null,
       "visibility": null,
       "width": null
      }
     },
     "557d85ebfb844386a6114b32978d7b4d": {
      "model_module": "@jupyter-widgets/controls",
      "model_module_version": "1.5.0",
      "model_name": "ProgressStyleModel",
      "state": {
       "_model_module": "@jupyter-widgets/controls",
       "_model_module_version": "1.5.0",
       "_model_name": "ProgressStyleModel",
       "_view_count": null,
       "_view_module": "@jupyter-widgets/base",
       "_view_module_version": "1.2.0",
       "_view_name": "StyleView",
       "bar_color": null,
       "description_width": ""
      }
     },
     "6e55ed83c45c4fb48062f0a29fdb2657": {
      "model_module": "@jupyter-widgets/controls",
      "model_module_version": "1.5.0",
      "model_name": "FloatProgressModel",
      "state": {
       "_dom_classes": [],
       "_model_module": "@jupyter-widgets/controls",
       "_model_module_version": "1.5.0",
       "_model_name": "FloatProgressModel",
       "_view_count": null,
       "_view_module": "@jupyter-widgets/controls",
       "_view_module_version": "1.5.0",
       "_view_name": "ProgressView",
       "bar_style": "success",
       "description": "",
       "description_tooltip": null,
       "layout": "IPY_MODEL_80420b4eb8b147c8a48325e8e09e33cb",
       "max": 5069051.0,
       "min": 0.0,
       "orientation": "horizontal",
       "style": "IPY_MODEL_7cb18977ddee4aed89cf8b9253fbfd75",
       "value": 5069051.0
      }
     },
     "6e63f8fa3a694bc09b3d285bea888a10": {
      "model_module": "@jupyter-widgets/controls",
      "model_module_version": "1.5.0",
      "model_name": "FloatProgressModel",
      "state": {
       "_dom_classes": [],
       "_model_module": "@jupyter-widgets/controls",
       "_model_module_version": "1.5.0",
       "_model_name": "FloatProgressModel",
       "_view_count": null,
       "_view_module": "@jupyter-widgets/controls",
       "_view_module_version": "1.5.0",
       "_view_name": "ProgressView",
       "bar_style": "success",
       "description": "",
       "description_tooltip": null,
       "layout": "IPY_MODEL_ed21f826420241d9848c4ad469f66a14",
       "max": 25.0,
       "min": 0.0,
       "orientation": "horizontal",
       "style": "IPY_MODEL_ce0f1e14a4054ac7afae1543ee52d6f0",
       "value": 25.0
      }
     },
     "6e944f2fc60943a6a63a80410e176fd3": {
      "model_module": "@jupyter-widgets/controls",
      "model_module_version": "1.5.0",
      "model_name": "HTMLModel",
      "state": {
       "_dom_classes": [],
       "_model_module": "@jupyter-widgets/controls",
       "_model_module_version": "1.5.0",
       "_model_name": "HTMLModel",
       "_view_count": null,
       "_view_module": "@jupyter-widgets/controls",
       "_view_module_version": "1.5.0",
       "_view_name": "HTMLView",
       "description": "",
       "description_tooltip": null,
       "layout": "IPY_MODEL_e108659c26d8482fa5290de012c48fff",
       "placeholder": "​",
       "style": "IPY_MODEL_bc022810f56649ceaf5b11ed1a397101",
       "value": " 734/734 [00:00&lt;00:00, 22.3kB/s]"
      }
     },
     "72a58ee1274044739cebedbdd97a6881": {
      "model_module": "@jupyter-widgets/base",
      "model_module_version": "1.2.0",
      "model_name": "LayoutModel",
      "state": {
       "_model_module": "@jupyter-widgets/base",
       "_model_module_version": "1.2.0",
       "_model_name": "LayoutModel",
       "_view_count": null,
       "_view_module": "@jupyter-widgets/base",
       "_view_module_version": "1.2.0",
       "_view_name": "LayoutView",
       "align_content": null,
       "align_items": null,
       "align_self": null,
       "border": null,
       "bottom": null,
       "display": null,
       "flex": null,
       "flex_flow": null,
       "grid_area": null,
       "grid_auto_columns": null,
       "grid_auto_flow": null,
       "grid_auto_rows": null,
       "grid_column": null,
       "grid_gap": null,
       "grid_row": null,
       "grid_template_areas": null,
       "grid_template_columns": null,
       "grid_template_rows": null,
       "height": null,
       "justify_content": null,
       "justify_items": null,
       "left": null,
       "margin": null,
       "max_height": null,
       "max_width": null,
       "min_height": null,
       "min_width": null,
       "object_fit": null,
       "object_position": null,
       "order": null,
       "overflow": null,
       "overflow_x": null,
       "overflow_y": null,
       "padding": null,
       "right": null,
       "top": null,
       "visibility": null,
       "width": null
      }
     },
     "7cb18977ddee4aed89cf8b9253fbfd75": {
      "model_module": "@jupyter-widgets/controls",
      "model_module_version": "1.5.0",
      "model_name": "ProgressStyleModel",
      "state": {
       "_model_module": "@jupyter-widgets/controls",
       "_model_module_version": "1.5.0",
       "_model_name": "ProgressStyleModel",
       "_view_count": null,
       "_view_module": "@jupyter-widgets/base",
       "_view_module_version": "1.2.0",
       "_view_name": "StyleView",
       "bar_color": null,
       "description_width": ""
      }
     },
     "80420b4eb8b147c8a48325e8e09e33cb": {
      "model_module": "@jupyter-widgets/base",
      "model_module_version": "1.2.0",
      "model_name": "LayoutModel",
      "state": {
       "_model_module": "@jupyter-widgets/base",
       "_model_module_version": "1.2.0",
       "_model_name": "LayoutModel",
       "_view_count": null,
       "_view_module": "@jupyter-widgets/base",
       "_view_module_version": "1.2.0",
       "_view_name": "LayoutView",
       "align_content": null,
       "align_items": null,
       "align_self": null,
       "border": null,
       "bottom": null,
       "display": null,
       "flex": null,
       "flex_flow": null,
       "grid_area": null,
       "grid_auto_columns": null,
       "grid_auto_flow": null,
       "grid_auto_rows": null,
       "grid_column": null,
       "grid_gap": null,
       "grid_row": null,
       "grid_template_areas": null,
       "grid_template_columns": null,
       "grid_template_rows": null,
       "height": null,
       "justify_content": null,
       "justify_items": null,
       "left": null,
       "margin": null,
       "max_height": null,
       "max_width": null,
       "min_height": null,
       "min_width": null,
       "object_fit": null,
       "object_position": null,
       "order": null,
       "overflow": null,
       "overflow_x": null,
       "overflow_y": null,
       "padding": null,
       "right": null,
       "top": null,
       "visibility": null,
       "width": null
      }
     },
     "810f21dd6c8f466d91b8935a97ff5504": {
      "model_module": "@jupyter-widgets/base",
      "model_module_version": "1.2.0",
      "model_name": "LayoutModel",
      "state": {
       "_model_module": "@jupyter-widgets/base",
       "_model_module_version": "1.2.0",
       "_model_name": "LayoutModel",
       "_view_count": null,
       "_view_module": "@jupyter-widgets/base",
       "_view_module_version": "1.2.0",
       "_view_name": "LayoutView",
       "align_content": null,
       "align_items": null,
       "align_self": null,
       "border": null,
       "bottom": null,
       "display": null,
       "flex": null,
       "flex_flow": null,
       "grid_area": null,
       "grid_auto_columns": null,
       "grid_auto_flow": null,
       "grid_auto_rows": null,
       "grid_column": null,
       "grid_gap": null,
       "grid_row": null,
       "grid_template_areas": null,
       "grid_template_columns": null,
       "grid_template_rows": null,
       "height": null,
       "justify_content": null,
       "justify_items": null,
       "left": null,
       "margin": null,
       "max_height": null,
       "max_width": null,
       "min_height": null,
       "min_width": null,
       "object_fit": null,
       "object_position": null,
       "order": null,
       "overflow": null,
       "overflow_x": null,
       "overflow_y": null,
       "padding": null,
       "right": null,
       "top": null,
       "visibility": null,
       "width": null
      }
     },
     "97511240c1d741cfb50afd37b0584c17": {
      "model_module": "@jupyter-widgets/controls",
      "model_module_version": "1.5.0",
      "model_name": "DescriptionStyleModel",
      "state": {
       "_model_module": "@jupyter-widgets/controls",
       "_model_module_version": "1.5.0",
       "_model_name": "DescriptionStyleModel",
       "_view_count": null,
       "_view_module": "@jupyter-widgets/base",
       "_view_module_version": "1.2.0",
       "_view_name": "StyleView",
       "description_width": ""
      }
     },
     "9e9b27e5f6d64418957c60d73eea3990": {
      "model_module": "@jupyter-widgets/controls",
      "model_module_version": "1.5.0",
      "model_name": "FloatProgressModel",
      "state": {
       "_dom_classes": [],
       "_model_module": "@jupyter-widgets/controls",
       "_model_module_version": "1.5.0",
       "_model_name": "FloatProgressModel",
       "_view_count": null,
       "_view_module": "@jupyter-widgets/controls",
       "_view_module_version": "1.5.0",
       "_view_name": "ProgressView",
       "bar_style": "success",
       "description": "",
       "description_tooltip": null,
       "layout": "IPY_MODEL_b78ed0013aad4eec8a767148501cf997",
       "max": 2244296816.0,
       "min": 0.0,
       "orientation": "horizontal",
       "style": "IPY_MODEL_2527179476e74b6eac889fc91a056047",
       "value": 2244296816.0
      }
     },
     "9fbacdf1da614f879eccf5a2984832dd": {
      "model_module": "@jupyter-widgets/base",
      "model_module_version": "1.2.0",
      "model_name": "LayoutModel",
      "state": {
       "_model_module": "@jupyter-widgets/base",
       "_model_module_version": "1.2.0",
       "_model_name": "LayoutModel",
       "_view_count": null,
       "_view_module": "@jupyter-widgets/base",
       "_view_module_version": "1.2.0",
       "_view_name": "LayoutView",
       "align_content": null,
       "align_items": null,
       "align_self": null,
       "border": null,
       "bottom": null,
       "display": null,
       "flex": null,
       "flex_flow": null,
       "grid_area": null,
       "grid_auto_columns": null,
       "grid_auto_flow": null,
       "grid_auto_rows": null,
       "grid_column": null,
       "grid_gap": null,
       "grid_row": null,
       "grid_template_areas": null,
       "grid_template_columns": null,
       "grid_template_rows": null,
       "height": null,
       "justify_content": null,
       "justify_items": null,
       "left": null,
       "margin": null,
       "max_height": null,
       "max_width": null,
       "min_height": null,
       "min_width": null,
       "object_fit": null,
       "object_position": null,
       "order": null,
       "overflow": null,
       "overflow_x": null,
       "overflow_y": null,
       "padding": null,
       "right": null,
       "top": null,
       "visibility": null,
       "width": null
      }
     },
     "a338e908df4a40d1ad26ffdb885e6b66": {
      "model_module": "@jupyter-widgets/controls",
      "model_module_version": "1.5.0",
      "model_name": "HTMLModel",
      "state": {
       "_dom_classes": [],
       "_model_module": "@jupyter-widgets/controls",
       "_model_module_version": "1.5.0",
       "_model_name": "HTMLModel",
       "_view_count": null,
       "_view_module": "@jupyter-widgets/controls",
       "_view_module_version": "1.5.0",
       "_view_name": "HTMLView",
       "description": "",
       "description_tooltip": null,
       "layout": "IPY_MODEL_9fbacdf1da614f879eccf5a2984832dd",
       "placeholder": "​",
       "style": "IPY_MODEL_acda462a40334499abc01deadd32f8f2",
       "value": " 25.0/25.0 [00:00&lt;00:00, 794B/s]"
      }
     },
     "ac1214a2d7c84237a5ae31b226ef90c2": {
      "model_module": "@jupyter-widgets/controls",
      "model_module_version": "1.5.0",
      "model_name": "HBoxModel",
      "state": {
       "_dom_classes": [],
       "_model_module": "@jupyter-widgets/controls",
       "_model_module_version": "1.5.0",
       "_model_name": "HBoxModel",
       "_view_count": null,
       "_view_module": "@jupyter-widgets/controls",
       "_view_module_version": "1.5.0",
       "_view_name": "HBoxView",
       "box_style": "",
       "children": [
        "IPY_MODEL_b6486380e4724578b6bec53ac42b36a8",
        "IPY_MODEL_2a93ae46fb7a4fd5825803d0cb76cf7b",
        "IPY_MODEL_509e6630b7824d69bb9e6d680b8d9f95"
       ],
       "layout": "IPY_MODEL_052b1d2be49b4233b7c8deb9bc293d61"
      }
     },
     "acbd853a0d5d4f40ae64b13b997f9b66": {
      "model_module": "@jupyter-widgets/base",
      "model_module_version": "1.2.0",
      "model_name": "LayoutModel",
      "state": {
       "_model_module": "@jupyter-widgets/base",
       "_model_module_version": "1.2.0",
       "_model_name": "LayoutModel",
       "_view_count": null,
       "_view_module": "@jupyter-widgets/base",
       "_view_module_version": "1.2.0",
       "_view_name": "LayoutView",
       "align_content": null,
       "align_items": null,
       "align_self": null,
       "border": null,
       "bottom": null,
       "display": null,
       "flex": null,
       "flex_flow": null,
       "grid_area": null,
       "grid_auto_columns": null,
       "grid_auto_flow": null,
       "grid_auto_rows": null,
       "grid_column": null,
       "grid_gap": null,
       "grid_row": null,
       "grid_template_areas": null,
       "grid_template_columns": null,
       "grid_template_rows": null,
       "height": null,
       "justify_content": null,
       "justify_items": null,
       "left": null,
       "margin": null,
       "max_height": null,
       "max_width": null,
       "min_height": null,
       "min_width": null,
       "object_fit": null,
       "object_position": null,
       "order": null,
       "overflow": null,
       "overflow_x": null,
       "overflow_y": null,
       "padding": null,
       "right": null,
       "top": null,
       "visibility": null,
       "width": null
      }
     },
     "acda462a40334499abc01deadd32f8f2": {
      "model_module": "@jupyter-widgets/controls",
      "model_module_version": "1.5.0",
      "model_name": "DescriptionStyleModel",
      "state": {
       "_model_module": "@jupyter-widgets/controls",
       "_model_module_version": "1.5.0",
       "_model_name": "DescriptionStyleModel",
       "_view_count": null,
       "_view_module": "@jupyter-widgets/base",
       "_view_module_version": "1.2.0",
       "_view_name": "StyleView",
       "description_width": ""
      }
     },
     "b189a50e01dd466cb4c8b52726f574f6": {
      "model_module": "@jupyter-widgets/controls",
      "model_module_version": "1.5.0",
      "model_name": "HBoxModel",
      "state": {
       "_dom_classes": [],
       "_model_module": "@jupyter-widgets/controls",
       "_model_module_version": "1.5.0",
       "_model_name": "HBoxModel",
       "_view_count": null,
       "_view_module": "@jupyter-widgets/controls",
       "_view_module_version": "1.5.0",
       "_view_name": "HBoxView",
       "box_style": "",
       "children": [
        "IPY_MODEL_14365648a2854a1d974cf4972c5fb774",
        "IPY_MODEL_6e63f8fa3a694bc09b3d285bea888a10",
        "IPY_MODEL_a338e908df4a40d1ad26ffdb885e6b66"
       ],
       "layout": "IPY_MODEL_810f21dd6c8f466d91b8935a97ff5504"
      }
     },
     "b2591aabfbe442e9b58d71410ae3f4e9": {
      "model_module": "@jupyter-widgets/base",
      "model_module_version": "1.2.0",
      "model_name": "LayoutModel",
      "state": {
       "_model_module": "@jupyter-widgets/base",
       "_model_module_version": "1.2.0",
       "_model_name": "LayoutModel",
       "_view_count": null,
       "_view_module": "@jupyter-widgets/base",
       "_view_module_version": "1.2.0",
       "_view_name": "LayoutView",
       "align_content": null,
       "align_items": null,
       "align_self": null,
       "border": null,
       "bottom": null,
       "display": null,
       "flex": null,
       "flex_flow": null,
       "grid_area": null,
       "grid_auto_columns": null,
       "grid_auto_flow": null,
       "grid_auto_rows": null,
       "grid_column": null,
       "grid_gap": null,
       "grid_row": null,
       "grid_template_areas": null,
       "grid_template_columns": null,
       "grid_template_rows": null,
       "height": null,
       "justify_content": null,
       "justify_items": null,
       "left": null,
       "margin": null,
       "max_height": null,
       "max_width": null,
       "min_height": null,
       "min_width": null,
       "object_fit": null,
       "object_position": null,
       "order": null,
       "overflow": null,
       "overflow_x": null,
       "overflow_y": null,
       "padding": null,
       "right": null,
       "top": null,
       "visibility": null,
       "width": null
      }
     },
     "b47d39e53aa54e7abe57003b14ea8e24": {
      "model_module": "@jupyter-widgets/controls",
      "model_module_version": "1.5.0",
      "model_name": "HTMLModel",
      "state": {
       "_dom_classes": [],
       "_model_module": "@jupyter-widgets/controls",
       "_model_module_version": "1.5.0",
       "_model_name": "HTMLModel",
       "_view_count": null,
       "_view_module": "@jupyter-widgets/controls",
       "_view_module_version": "1.5.0",
       "_view_name": "HTMLView",
       "description": "",
       "description_tooltip": null,
       "layout": "IPY_MODEL_b2591aabfbe442e9b58d71410ae3f4e9",
       "placeholder": "​",
       "style": "IPY_MODEL_1f5b092c88994508a364317a8e94695f",
       "value": "Downloading: 100%"
      }
     },
     "b4c71fd362e14a239d469c4d236a3cac": {
      "model_module": "@jupyter-widgets/base",
      "model_module_version": "1.2.0",
      "model_name": "LayoutModel",
      "state": {
       "_model_module": "@jupyter-widgets/base",
       "_model_module_version": "1.2.0",
       "_model_name": "LayoutModel",
       "_view_count": null,
       "_view_module": "@jupyter-widgets/base",
       "_view_module_version": "1.2.0",
       "_view_name": "LayoutView",
       "align_content": null,
       "align_items": null,
       "align_self": null,
       "border": null,
       "bottom": null,
       "display": null,
       "flex": null,
       "flex_flow": null,
       "grid_area": null,
       "grid_auto_columns": null,
       "grid_auto_flow": null,
       "grid_auto_rows": null,
       "grid_column": null,
       "grid_gap": null,
       "grid_row": null,
       "grid_template_areas": null,
       "grid_template_columns": null,
       "grid_template_rows": null,
       "height": null,
       "justify_content": null,
       "justify_items": null,
       "left": null,
       "margin": null,
       "max_height": null,
       "max_width": null,
       "min_height": null,
       "min_width": null,
       "object_fit": null,
       "object_position": null,
       "order": null,
       "overflow": null,
       "overflow_x": null,
       "overflow_y": null,
       "padding": null,
       "right": null,
       "top": null,
       "visibility": null,
       "width": null
      }
     },
     "b6486380e4724578b6bec53ac42b36a8": {
      "model_module": "@jupyter-widgets/controls",
      "model_module_version": "1.5.0",
      "model_name": "HTMLModel",
      "state": {
       "_dom_classes": [],
       "_model_module": "@jupyter-widgets/controls",
       "_model_module_version": "1.5.0",
       "_model_name": "HTMLModel",
       "_view_count": null,
       "_view_module": "@jupyter-widgets/controls",
       "_view_module_version": "1.5.0",
       "_view_name": "HTMLView",
       "description": "",
       "description_tooltip": null,
       "layout": "IPY_MODEL_b4c71fd362e14a239d469c4d236a3cac",
       "placeholder": "​",
       "style": "IPY_MODEL_4a4d1955369246ad979a2ca0d5c0634a",
       "value": "Downloading: 100%"
      }
     },
     "b78ed0013aad4eec8a767148501cf997": {
      "model_module": "@jupyter-widgets/base",
      "model_module_version": "1.2.0",
      "model_name": "LayoutModel",
      "state": {
       "_model_module": "@jupyter-widgets/base",
       "_model_module_version": "1.2.0",
       "_model_name": "LayoutModel",
       "_view_count": null,
       "_view_module": "@jupyter-widgets/base",
       "_view_module_version": "1.2.0",
       "_view_name": "LayoutView",
       "align_content": null,
       "align_items": null,
       "align_self": null,
       "border": null,
       "bottom": null,
       "display": null,
       "flex": null,
       "flex_flow": null,
       "grid_area": null,
       "grid_auto_columns": null,
       "grid_auto_flow": null,
       "grid_auto_rows": null,
       "grid_column": null,
       "grid_gap": null,
       "grid_row": null,
       "grid_template_areas": null,
       "grid_template_columns": null,
       "grid_template_rows": null,
       "height": null,
       "justify_content": null,
       "justify_items": null,
       "left": null,
       "margin": null,
       "max_height": null,
       "max_width": null,
       "min_height": null,
       "min_width": null,
       "object_fit": null,
       "object_position": null,
       "order": null,
       "overflow": null,
       "overflow_x": null,
       "overflow_y": null,
       "padding": null,
       "right": null,
       "top": null,
       "visibility": null,
       "width": null
      }
     },
     "b87e8a02e69b478e9f76397db1c89cc8": {
      "model_module": "@jupyter-widgets/controls",
      "model_module_version": "1.5.0",
      "model_name": "HBoxModel",
      "state": {
       "_dom_classes": [],
       "_model_module": "@jupyter-widgets/controls",
       "_model_module_version": "1.5.0",
       "_model_name": "HBoxModel",
       "_view_count": null,
       "_view_module": "@jupyter-widgets/controls",
       "_view_module_version": "1.5.0",
       "_view_name": "HBoxView",
       "box_style": "",
       "children": [
        "IPY_MODEL_e9600e8fbd2849558428568d6312577f",
        "IPY_MODEL_9e9b27e5f6d64418957c60d73eea3990",
        "IPY_MODEL_40cc279fd48d4ac8ac328892e142bb73"
       ],
       "layout": "IPY_MODEL_e926fb3b7d36401ab7c36927b307f947"
      }
     },
     "bc022810f56649ceaf5b11ed1a397101": {
      "model_module": "@jupyter-widgets/controls",
      "model_module_version": "1.5.0",
      "model_name": "DescriptionStyleModel",
      "state": {
       "_model_module": "@jupyter-widgets/controls",
       "_model_module_version": "1.5.0",
       "_model_name": "DescriptionStyleModel",
       "_view_count": null,
       "_view_module": "@jupyter-widgets/base",
       "_view_module_version": "1.2.0",
       "_view_name": "StyleView",
       "description_width": ""
      }
     },
     "be353e753bc1437a87b238a5633edb18": {
      "model_module": "@jupyter-widgets/base",
      "model_module_version": "1.2.0",
      "model_name": "LayoutModel",
      "state": {
       "_model_module": "@jupyter-widgets/base",
       "_model_module_version": "1.2.0",
       "_model_name": "LayoutModel",
       "_view_count": null,
       "_view_module": "@jupyter-widgets/base",
       "_view_module_version": "1.2.0",
       "_view_name": "LayoutView",
       "align_content": null,
       "align_items": null,
       "align_self": null,
       "border": null,
       "bottom": null,
       "display": null,
       "flex": null,
       "flex_flow": null,
       "grid_area": null,
       "grid_auto_columns": null,
       "grid_auto_flow": null,
       "grid_auto_rows": null,
       "grid_column": null,
       "grid_gap": null,
       "grid_row": null,
       "grid_template_areas": null,
       "grid_template_columns": null,
       "grid_template_rows": null,
       "height": null,
       "justify_content": null,
       "justify_items": null,
       "left": null,
       "margin": null,
       "max_height": null,
       "max_width": null,
       "min_height": null,
       "min_width": null,
       "object_fit": null,
       "object_position": null,
       "order": null,
       "overflow": null,
       "overflow_x": null,
       "overflow_y": null,
       "padding": null,
       "right": null,
       "top": null,
       "visibility": null,
       "width": null
      }
     },
     "c80314cae74a47dc85be3c16b8f71dfb": {
      "model_module": "@jupyter-widgets/controls",
      "model_module_version": "1.5.0",
      "model_name": "DescriptionStyleModel",
      "state": {
       "_model_module": "@jupyter-widgets/controls",
       "_model_module_version": "1.5.0",
       "_model_name": "DescriptionStyleModel",
       "_view_count": null,
       "_view_module": "@jupyter-widgets/base",
       "_view_module_version": "1.2.0",
       "_view_name": "StyleView",
       "description_width": ""
      }
     },
     "c9d4c7f7b8394e91adbc52ca4929db53": {
      "model_module": "@jupyter-widgets/controls",
      "model_module_version": "1.5.0",
      "model_name": "HTMLModel",
      "state": {
       "_dom_classes": [],
       "_model_module": "@jupyter-widgets/controls",
       "_model_module_version": "1.5.0",
       "_model_name": "HTMLModel",
       "_view_count": null,
       "_view_module": "@jupyter-widgets/controls",
       "_view_module_version": "1.5.0",
       "_view_name": "HTMLView",
       "description": "",
       "description_tooltip": null,
       "layout": "IPY_MODEL_1a15738c829f4f5581047c5037ef3170",
       "placeholder": "​",
       "style": "IPY_MODEL_cfb6036cde9b45f1904930043d23c930",
       "value": " 5.07M/5.07M [00:00&lt;00:00, 17.1MB/s]"
      }
     },
     "ce0f1e14a4054ac7afae1543ee52d6f0": {
      "model_module": "@jupyter-widgets/controls",
      "model_module_version": "1.5.0",
      "model_name": "ProgressStyleModel",
      "state": {
       "_model_module": "@jupyter-widgets/controls",
       "_model_module_version": "1.5.0",
       "_model_name": "ProgressStyleModel",
       "_view_count": null,
       "_view_module": "@jupyter-widgets/base",
       "_view_module_version": "1.2.0",
       "_view_name": "StyleView",
       "bar_color": null,
       "description_width": ""
      }
     },
     "ce8f3e96c97c4225a78e01090d17509e": {
      "model_module": "@jupyter-widgets/base",
      "model_module_version": "1.2.0",
      "model_name": "LayoutModel",
      "state": {
       "_model_module": "@jupyter-widgets/base",
       "_model_module_version": "1.2.0",
       "_model_name": "LayoutModel",
       "_view_count": null,
       "_view_module": "@jupyter-widgets/base",
       "_view_module_version": "1.2.0",
       "_view_name": "LayoutView",
       "align_content": null,
       "align_items": null,
       "align_self": null,
       "border": null,
       "bottom": null,
       "display": null,
       "flex": null,
       "flex_flow": null,
       "grid_area": null,
       "grid_auto_columns": null,
       "grid_auto_flow": null,
       "grid_auto_rows": null,
       "grid_column": null,
       "grid_gap": null,
       "grid_row": null,
       "grid_template_areas": null,
       "grid_template_columns": null,
       "grid_template_rows": null,
       "height": null,
       "justify_content": null,
       "justify_items": null,
       "left": null,
       "margin": null,
       "max_height": null,
       "max_width": null,
       "min_height": null,
       "min_width": null,
       "object_fit": null,
       "object_position": null,
       "order": null,
       "overflow": null,
       "overflow_x": null,
       "overflow_y": null,
       "padding": null,
       "right": null,
       "top": null,
       "visibility": null,
       "width": null
      }
     },
     "cfb6036cde9b45f1904930043d23c930": {
      "model_module": "@jupyter-widgets/controls",
      "model_module_version": "1.5.0",
      "model_name": "DescriptionStyleModel",
      "state": {
       "_model_module": "@jupyter-widgets/controls",
       "_model_module_version": "1.5.0",
       "_model_name": "DescriptionStyleModel",
       "_view_count": null,
       "_view_module": "@jupyter-widgets/base",
       "_view_module_version": "1.2.0",
       "_view_name": "StyleView",
       "description_width": ""
      }
     },
     "d599da3b917b4640838c6f2e87e53da3": {
      "model_module": "@jupyter-widgets/base",
      "model_module_version": "1.2.0",
      "model_name": "LayoutModel",
      "state": {
       "_model_module": "@jupyter-widgets/base",
       "_model_module_version": "1.2.0",
       "_model_name": "LayoutModel",
       "_view_count": null,
       "_view_module": "@jupyter-widgets/base",
       "_view_module_version": "1.2.0",
       "_view_name": "LayoutView",
       "align_content": null,
       "align_items": null,
       "align_self": null,
       "border": null,
       "bottom": null,
       "display": null,
       "flex": null,
       "flex_flow": null,
       "grid_area": null,
       "grid_auto_columns": null,
       "grid_auto_flow": null,
       "grid_auto_rows": null,
       "grid_column": null,
       "grid_gap": null,
       "grid_row": null,
       "grid_template_areas": null,
       "grid_template_columns": null,
       "grid_template_rows": null,
       "height": null,
       "justify_content": null,
       "justify_items": null,
       "left": null,
       "margin": null,
       "max_height": null,
       "max_width": null,
       "min_height": null,
       "min_width": null,
       "object_fit": null,
       "object_position": null,
       "order": null,
       "overflow": null,
       "overflow_x": null,
       "overflow_y": null,
       "padding": null,
       "right": null,
       "top": null,
       "visibility": null,
       "width": null
      }
     },
     "e108659c26d8482fa5290de012c48fff": {
      "model_module": "@jupyter-widgets/base",
      "model_module_version": "1.2.0",
      "model_name": "LayoutModel",
      "state": {
       "_model_module": "@jupyter-widgets/base",
       "_model_module_version": "1.2.0",
       "_model_name": "LayoutModel",
       "_view_count": null,
       "_view_module": "@jupyter-widgets/base",
       "_view_module_version": "1.2.0",
       "_view_name": "LayoutView",
       "align_content": null,
       "align_items": null,
       "align_self": null,
       "border": null,
       "bottom": null,
       "display": null,
       "flex": null,
       "flex_flow": null,
       "grid_area": null,
       "grid_auto_columns": null,
       "grid_auto_flow": null,
       "grid_auto_rows": null,
       "grid_column": null,
       "grid_gap": null,
       "grid_row": null,
       "grid_template_areas": null,
       "grid_template_columns": null,
       "grid_template_rows": null,
       "height": null,
       "justify_content": null,
       "justify_items": null,
       "left": null,
       "margin": null,
       "max_height": null,
       "max_width": null,
       "min_height": null,
       "min_width": null,
       "object_fit": null,
       "object_position": null,
       "order": null,
       "overflow": null,
       "overflow_x": null,
       "overflow_y": null,
       "padding": null,
       "right": null,
       "top": null,
       "visibility": null,
       "width": null
      }
     },
     "e926fb3b7d36401ab7c36927b307f947": {
      "model_module": "@jupyter-widgets/base",
      "model_module_version": "1.2.0",
      "model_name": "LayoutModel",
      "state": {
       "_model_module": "@jupyter-widgets/base",
       "_model_module_version": "1.2.0",
       "_model_name": "LayoutModel",
       "_view_count": null,
       "_view_module": "@jupyter-widgets/base",
       "_view_module_version": "1.2.0",
       "_view_name": "LayoutView",
       "align_content": null,
       "align_items": null,
       "align_self": null,
       "border": null,
       "bottom": null,
       "display": null,
       "flex": null,
       "flex_flow": null,
       "grid_area": null,
       "grid_auto_columns": null,
       "grid_auto_flow": null,
       "grid_auto_rows": null,
       "grid_column": null,
       "grid_gap": null,
       "grid_row": null,
       "grid_template_areas": null,
       "grid_template_columns": null,
       "grid_template_rows": null,
       "height": null,
       "justify_content": null,
       "justify_items": null,
       "left": null,
       "margin": null,
       "max_height": null,
       "max_width": null,
       "min_height": null,
       "min_width": null,
       "object_fit": null,
       "object_position": null,
       "order": null,
       "overflow": null,
       "overflow_x": null,
       "overflow_y": null,
       "padding": null,
       "right": null,
       "top": null,
       "visibility": null,
       "width": null
      }
     },
     "e9600e8fbd2849558428568d6312577f": {
      "model_module": "@jupyter-widgets/controls",
      "model_module_version": "1.5.0",
      "model_name": "HTMLModel",
      "state": {
       "_dom_classes": [],
       "_model_module": "@jupyter-widgets/controls",
       "_model_module_version": "1.5.0",
       "_model_name": "HTMLModel",
       "_view_count": null,
       "_view_module": "@jupyter-widgets/controls",
       "_view_module_version": "1.5.0",
       "_view_name": "HTMLView",
       "description": "",
       "description_tooltip": null,
       "layout": "IPY_MODEL_40ad4d65ba5b4285b76c3195f92325a5",
       "placeholder": "​",
       "style": "IPY_MODEL_378c028fed7b49b0b74bf0044475001f",
       "value": "Downloading: 100%"
      }
     },
     "ed21f826420241d9848c4ad469f66a14": {
      "model_module": "@jupyter-widgets/base",
      "model_module_version": "1.2.0",
      "model_name": "LayoutModel",
      "state": {
       "_model_module": "@jupyter-widgets/base",
       "_model_module_version": "1.2.0",
       "_model_name": "LayoutModel",
       "_view_count": null,
       "_view_module": "@jupyter-widgets/base",
       "_view_module_version": "1.2.0",
       "_view_name": "LayoutView",
       "align_content": null,
       "align_items": null,
       "align_self": null,
       "border": null,
       "bottom": null,
       "display": null,
       "flex": null,
       "flex_flow": null,
       "grid_area": null,
       "grid_auto_columns": null,
       "grid_auto_flow": null,
       "grid_auto_rows": null,
       "grid_column": null,
       "grid_gap": null,
       "grid_row": null,
       "grid_template_areas": null,
       "grid_template_columns": null,
       "grid_template_rows": null,
       "height": null,
       "justify_content": null,
       "justify_items": null,
       "left": null,
       "margin": null,
       "max_height": null,
       "max_width": null,
       "min_height": null,
       "min_width": null,
       "object_fit": null,
       "object_position": null,
       "order": null,
       "overflow": null,
       "overflow_x": null,
       "overflow_y": null,
       "padding": null,
       "right": null,
       "top": null,
       "visibility": null,
       "width": null
      }
     },
     "f6c5fc3daca84372b0a13d265ecd5f40": {
      "model_module": "@jupyter-widgets/controls",
      "model_module_version": "1.5.0",
      "model_name": "HTMLModel",
      "state": {
       "_dom_classes": [],
       "_model_module": "@jupyter-widgets/controls",
       "_model_module_version": "1.5.0",
       "_model_name": "HTMLModel",
       "_view_count": null,
       "_view_module": "@jupyter-widgets/controls",
       "_view_module_version": "1.5.0",
       "_view_name": "HTMLView",
       "description": "",
       "description_tooltip": null,
       "layout": "IPY_MODEL_d599da3b917b4640838c6f2e87e53da3",
       "placeholder": "​",
       "style": "IPY_MODEL_39527955ec5b4a99b14c0cd99a793306",
       "value": "Downloading: 100%"
      }
     },
     "fd8092b496904c848a81e3ed6735f797": {
      "model_module": "@jupyter-widgets/controls",
      "model_module_version": "1.5.0",
      "model_name": "FloatProgressModel",
      "state": {
       "_dom_classes": [],
       "_model_module": "@jupyter-widgets/controls",
       "_model_module_version": "1.5.0",
       "_model_name": "FloatProgressModel",
       "_view_count": null,
       "_view_module": "@jupyter-widgets/controls",
       "_view_module_version": "1.5.0",
       "_view_name": "ProgressView",
       "bar_style": "success",
       "description": "",
       "description_tooltip": null,
       "layout": "IPY_MODEL_72a58ee1274044739cebedbdd97a6881",
       "max": 734.0,
       "min": 0.0,
       "orientation": "horizontal",
       "style": "IPY_MODEL_313512f2adf64d6db81ef66a80055ccf",
       "value": 734.0
      }
     }
    },
    "version_major": 2,
    "version_minor": 0
   }
  }
 },
 "nbformat": 4,
 "nbformat_minor": 5
}
