{
 "cells": [
  {
   "cell_type": "code",
   "execution_count": 1,
   "id": "fead0cec",
   "metadata": {
    "_cell_guid": "b1076dfc-b9ad-4769-8c92-a6c4dae69d19",
    "_uuid": "8f2839f25d086af736a60e9eeb907d3b93b6e0e5",
    "execution": {
     "iopub.execute_input": "2024-04-01T17:32:45.900563Z",
     "iopub.status.busy": "2024-04-01T17:32:45.900115Z",
     "iopub.status.idle": "2024-04-01T17:32:46.915870Z",
     "shell.execute_reply": "2024-04-01T17:32:46.914663Z"
    },
    "papermill": {
     "duration": 1.028718,
     "end_time": "2024-04-01T17:32:46.918364",
     "exception": false,
     "start_time": "2024-04-01T17:32:45.889646",
     "status": "completed"
    },
    "tags": []
   },
   "outputs": [
    {
     "name": "stdout",
     "output_type": "stream",
     "text": [
      "/kaggle/input/titanic/train.csv\n",
      "/kaggle/input/titanic/test.csv\n",
      "/kaggle/input/titanic/gender_submission.csv\n"
     ]
    }
   ],
   "source": [
    "# This Python 3 environment comes with many helpful analytics libraries installed\n",
    "# It is defined by the kaggle/python Docker image: https://github.com/kaggle/docker-python\n",
    "# For example, here's several helpful packages to load\n",
    "\n",
    "import numpy as np # linear algebra\n",
    "import pandas as pd # data processing, CSV file I/O (e.g. pd.read_csv)\n",
    "\n",
    "# Input data files are available in the read-only \"../input/\" directory\n",
    "# For example, running this (by clicking run or pressing Shift+Enter) will list all files under the input directory\n",
    "\n",
    "import os\n",
    "for dirname, _, filenames in os.walk('/kaggle/input'):\n",
    "    for filename in filenames:\n",
    "        print(os.path.join(dirname, filename))\n",
    "\n",
    "# You can write up to 20GB to the current directory (/kaggle/working/) that gets preserved as output when you create a version using \"Save & Run All\" \n",
    "# You can also write temporary files to /kaggle/temp/, but they won't be saved outside of the current session"
   ]
  },
  {
   "cell_type": "code",
   "execution_count": 2,
   "id": "5ecfd75a",
   "metadata": {
    "execution": {
     "iopub.execute_input": "2024-04-01T17:32:46.932842Z",
     "iopub.status.busy": "2024-04-01T17:32:46.931140Z",
     "iopub.status.idle": "2024-04-01T17:32:46.975876Z",
     "shell.execute_reply": "2024-04-01T17:32:46.974371Z"
    },
    "papermill": {
     "duration": 0.054636,
     "end_time": "2024-04-01T17:32:46.978795",
     "exception": false,
     "start_time": "2024-04-01T17:32:46.924159",
     "status": "completed"
    },
    "tags": []
   },
   "outputs": [
    {
     "data": {
      "text/html": [
       "<div>\n",
       "<style scoped>\n",
       "    .dataframe tbody tr th:only-of-type {\n",
       "        vertical-align: middle;\n",
       "    }\n",
       "\n",
       "    .dataframe tbody tr th {\n",
       "        vertical-align: top;\n",
       "    }\n",
       "\n",
       "    .dataframe thead th {\n",
       "        text-align: right;\n",
       "    }\n",
       "</style>\n",
       "<table border=\"1\" class=\"dataframe\">\n",
       "  <thead>\n",
       "    <tr style=\"text-align: right;\">\n",
       "      <th></th>\n",
       "      <th>PassengerId</th>\n",
       "      <th>Survived</th>\n",
       "      <th>Pclass</th>\n",
       "      <th>Name</th>\n",
       "      <th>Sex</th>\n",
       "      <th>Age</th>\n",
       "      <th>SibSp</th>\n",
       "      <th>Parch</th>\n",
       "      <th>Ticket</th>\n",
       "      <th>Fare</th>\n",
       "      <th>Cabin</th>\n",
       "      <th>Embarked</th>\n",
       "    </tr>\n",
       "  </thead>\n",
       "  <tbody>\n",
       "    <tr>\n",
       "      <th>0</th>\n",
       "      <td>1</td>\n",
       "      <td>0</td>\n",
       "      <td>3</td>\n",
       "      <td>Braund, Mr. Owen Harris</td>\n",
       "      <td>male</td>\n",
       "      <td>22.0</td>\n",
       "      <td>1</td>\n",
       "      <td>0</td>\n",
       "      <td>A/5 21171</td>\n",
       "      <td>7.2500</td>\n",
       "      <td>NaN</td>\n",
       "      <td>S</td>\n",
       "    </tr>\n",
       "    <tr>\n",
       "      <th>1</th>\n",
       "      <td>2</td>\n",
       "      <td>1</td>\n",
       "      <td>1</td>\n",
       "      <td>Cumings, Mrs. John Bradley (Florence Briggs Th...</td>\n",
       "      <td>female</td>\n",
       "      <td>38.0</td>\n",
       "      <td>1</td>\n",
       "      <td>0</td>\n",
       "      <td>PC 17599</td>\n",
       "      <td>71.2833</td>\n",
       "      <td>C85</td>\n",
       "      <td>C</td>\n",
       "    </tr>\n",
       "    <tr>\n",
       "      <th>2</th>\n",
       "      <td>3</td>\n",
       "      <td>1</td>\n",
       "      <td>3</td>\n",
       "      <td>Heikkinen, Miss. Laina</td>\n",
       "      <td>female</td>\n",
       "      <td>26.0</td>\n",
       "      <td>0</td>\n",
       "      <td>0</td>\n",
       "      <td>STON/O2. 3101282</td>\n",
       "      <td>7.9250</td>\n",
       "      <td>NaN</td>\n",
       "      <td>S</td>\n",
       "    </tr>\n",
       "    <tr>\n",
       "      <th>3</th>\n",
       "      <td>4</td>\n",
       "      <td>1</td>\n",
       "      <td>1</td>\n",
       "      <td>Futrelle, Mrs. Jacques Heath (Lily May Peel)</td>\n",
       "      <td>female</td>\n",
       "      <td>35.0</td>\n",
       "      <td>1</td>\n",
       "      <td>0</td>\n",
       "      <td>113803</td>\n",
       "      <td>53.1000</td>\n",
       "      <td>C123</td>\n",
       "      <td>S</td>\n",
       "    </tr>\n",
       "    <tr>\n",
       "      <th>4</th>\n",
       "      <td>5</td>\n",
       "      <td>0</td>\n",
       "      <td>3</td>\n",
       "      <td>Allen, Mr. William Henry</td>\n",
       "      <td>male</td>\n",
       "      <td>35.0</td>\n",
       "      <td>0</td>\n",
       "      <td>0</td>\n",
       "      <td>373450</td>\n",
       "      <td>8.0500</td>\n",
       "      <td>NaN</td>\n",
       "      <td>S</td>\n",
       "    </tr>\n",
       "  </tbody>\n",
       "</table>\n",
       "</div>"
      ],
      "text/plain": [
       "   PassengerId  Survived  Pclass  \\\n",
       "0            1         0       3   \n",
       "1            2         1       1   \n",
       "2            3         1       3   \n",
       "3            4         1       1   \n",
       "4            5         0       3   \n",
       "\n",
       "                                                Name     Sex   Age  SibSp  \\\n",
       "0                            Braund, Mr. Owen Harris    male  22.0      1   \n",
       "1  Cumings, Mrs. John Bradley (Florence Briggs Th...  female  38.0      1   \n",
       "2                             Heikkinen, Miss. Laina  female  26.0      0   \n",
       "3       Futrelle, Mrs. Jacques Heath (Lily May Peel)  female  35.0      1   \n",
       "4                           Allen, Mr. William Henry    male  35.0      0   \n",
       "\n",
       "   Parch            Ticket     Fare Cabin Embarked  \n",
       "0      0         A/5 21171   7.2500   NaN        S  \n",
       "1      0          PC 17599  71.2833   C85        C  \n",
       "2      0  STON/O2. 3101282   7.9250   NaN        S  \n",
       "3      0            113803  53.1000  C123        S  \n",
       "4      0            373450   8.0500   NaN        S  "
      ]
     },
     "execution_count": 2,
     "metadata": {},
     "output_type": "execute_result"
    }
   ],
   "source": [
    "train_data = pd.read_csv(\"/kaggle/input/titanic/train.csv\")\n",
    "train_data.head()"
   ]
  },
  {
   "cell_type": "code",
   "execution_count": 3,
   "id": "a6daa86d",
   "metadata": {
    "execution": {
     "iopub.execute_input": "2024-04-01T17:32:46.993072Z",
     "iopub.status.busy": "2024-04-01T17:32:46.992696Z",
     "iopub.status.idle": "2024-04-01T17:32:47.015340Z",
     "shell.execute_reply": "2024-04-01T17:32:47.014203Z"
    },
    "papermill": {
     "duration": 0.032833,
     "end_time": "2024-04-01T17:32:47.018012",
     "exception": false,
     "start_time": "2024-04-01T17:32:46.985179",
     "status": "completed"
    },
    "tags": []
   },
   "outputs": [
    {
     "data": {
      "text/html": [
       "<div>\n",
       "<style scoped>\n",
       "    .dataframe tbody tr th:only-of-type {\n",
       "        vertical-align: middle;\n",
       "    }\n",
       "\n",
       "    .dataframe tbody tr th {\n",
       "        vertical-align: top;\n",
       "    }\n",
       "\n",
       "    .dataframe thead th {\n",
       "        text-align: right;\n",
       "    }\n",
       "</style>\n",
       "<table border=\"1\" class=\"dataframe\">\n",
       "  <thead>\n",
       "    <tr style=\"text-align: right;\">\n",
       "      <th></th>\n",
       "      <th>PassengerId</th>\n",
       "      <th>Pclass</th>\n",
       "      <th>Name</th>\n",
       "      <th>Sex</th>\n",
       "      <th>Age</th>\n",
       "      <th>SibSp</th>\n",
       "      <th>Parch</th>\n",
       "      <th>Ticket</th>\n",
       "      <th>Fare</th>\n",
       "      <th>Cabin</th>\n",
       "      <th>Embarked</th>\n",
       "    </tr>\n",
       "  </thead>\n",
       "  <tbody>\n",
       "    <tr>\n",
       "      <th>0</th>\n",
       "      <td>892</td>\n",
       "      <td>3</td>\n",
       "      <td>Kelly, Mr. James</td>\n",
       "      <td>male</td>\n",
       "      <td>34.5</td>\n",
       "      <td>0</td>\n",
       "      <td>0</td>\n",
       "      <td>330911</td>\n",
       "      <td>7.8292</td>\n",
       "      <td>NaN</td>\n",
       "      <td>Q</td>\n",
       "    </tr>\n",
       "    <tr>\n",
       "      <th>1</th>\n",
       "      <td>893</td>\n",
       "      <td>3</td>\n",
       "      <td>Wilkes, Mrs. James (Ellen Needs)</td>\n",
       "      <td>female</td>\n",
       "      <td>47.0</td>\n",
       "      <td>1</td>\n",
       "      <td>0</td>\n",
       "      <td>363272</td>\n",
       "      <td>7.0000</td>\n",
       "      <td>NaN</td>\n",
       "      <td>S</td>\n",
       "    </tr>\n",
       "    <tr>\n",
       "      <th>2</th>\n",
       "      <td>894</td>\n",
       "      <td>2</td>\n",
       "      <td>Myles, Mr. Thomas Francis</td>\n",
       "      <td>male</td>\n",
       "      <td>62.0</td>\n",
       "      <td>0</td>\n",
       "      <td>0</td>\n",
       "      <td>240276</td>\n",
       "      <td>9.6875</td>\n",
       "      <td>NaN</td>\n",
       "      <td>Q</td>\n",
       "    </tr>\n",
       "    <tr>\n",
       "      <th>3</th>\n",
       "      <td>895</td>\n",
       "      <td>3</td>\n",
       "      <td>Wirz, Mr. Albert</td>\n",
       "      <td>male</td>\n",
       "      <td>27.0</td>\n",
       "      <td>0</td>\n",
       "      <td>0</td>\n",
       "      <td>315154</td>\n",
       "      <td>8.6625</td>\n",
       "      <td>NaN</td>\n",
       "      <td>S</td>\n",
       "    </tr>\n",
       "    <tr>\n",
       "      <th>4</th>\n",
       "      <td>896</td>\n",
       "      <td>3</td>\n",
       "      <td>Hirvonen, Mrs. Alexander (Helga E Lindqvist)</td>\n",
       "      <td>female</td>\n",
       "      <td>22.0</td>\n",
       "      <td>1</td>\n",
       "      <td>1</td>\n",
       "      <td>3101298</td>\n",
       "      <td>12.2875</td>\n",
       "      <td>NaN</td>\n",
       "      <td>S</td>\n",
       "    </tr>\n",
       "  </tbody>\n",
       "</table>\n",
       "</div>"
      ],
      "text/plain": [
       "   PassengerId  Pclass                                          Name     Sex  \\\n",
       "0          892       3                              Kelly, Mr. James    male   \n",
       "1          893       3              Wilkes, Mrs. James (Ellen Needs)  female   \n",
       "2          894       2                     Myles, Mr. Thomas Francis    male   \n",
       "3          895       3                              Wirz, Mr. Albert    male   \n",
       "4          896       3  Hirvonen, Mrs. Alexander (Helga E Lindqvist)  female   \n",
       "\n",
       "    Age  SibSp  Parch   Ticket     Fare Cabin Embarked  \n",
       "0  34.5      0      0   330911   7.8292   NaN        Q  \n",
       "1  47.0      1      0   363272   7.0000   NaN        S  \n",
       "2  62.0      0      0   240276   9.6875   NaN        Q  \n",
       "3  27.0      0      0   315154   8.6625   NaN        S  \n",
       "4  22.0      1      1  3101298  12.2875   NaN        S  "
      ]
     },
     "execution_count": 3,
     "metadata": {},
     "output_type": "execute_result"
    }
   ],
   "source": [
    "test_data = pd.read_csv(\"/kaggle/input/titanic/test.csv\")\n",
    "test_data.head()"
   ]
  },
  {
   "cell_type": "code",
   "execution_count": 4,
   "id": "85d9ec81",
   "metadata": {
    "execution": {
     "iopub.execute_input": "2024-04-01T17:32:47.033113Z",
     "iopub.status.busy": "2024-04-01T17:32:47.032124Z",
     "iopub.status.idle": "2024-04-01T17:32:47.040658Z",
     "shell.execute_reply": "2024-04-01T17:32:47.039473Z"
    },
    "papermill": {
     "duration": 0.018785,
     "end_time": "2024-04-01T17:32:47.043141",
     "exception": false,
     "start_time": "2024-04-01T17:32:47.024356",
     "status": "completed"
    },
    "tags": []
   },
   "outputs": [
    {
     "data": {
      "text/plain": [
       "'\\nwomen = train_data.loc[train_data.Sex == \\'female\\'][\"Survived\"]\\nrate_women = sum(women) / len(women)\\n\\nprint( \"% of women who survived: \", rate_women)\\n'"
      ]
     },
     "execution_count": 4,
     "metadata": {},
     "output_type": "execute_result"
    }
   ],
   "source": [
    "\"\"\"\n",
    "women = train_data.loc[train_data.Sex == 'female'][\"Survived\"]\n",
    "rate_women = sum(women) / len(women)\n",
    "\n",
    "print( \"% of women who survived: \", rate_women)\n",
    "\"\"\""
   ]
  },
  {
   "cell_type": "code",
   "execution_count": 5,
   "id": "00dcb947",
   "metadata": {
    "execution": {
     "iopub.execute_input": "2024-04-01T17:32:47.057898Z",
     "iopub.status.busy": "2024-04-01T17:32:47.057158Z",
     "iopub.status.idle": "2024-04-01T17:32:47.062502Z",
     "shell.execute_reply": "2024-04-01T17:32:47.061743Z"
    },
    "papermill": {
     "duration": 0.01529,
     "end_time": "2024-04-01T17:32:47.064636",
     "exception": false,
     "start_time": "2024-04-01T17:32:47.049346",
     "status": "completed"
    },
    "tags": []
   },
   "outputs": [
    {
     "data": {
      "text/plain": [
       "'\\nmen = train_data.loc[train_data.Sex == \\'male\\'][\"Survived\"]\\nrate_men = sum(men)/len(men)\\n\\nprint(\"% of men who survived:\", rate_men)\\n'"
      ]
     },
     "execution_count": 5,
     "metadata": {},
     "output_type": "execute_result"
    }
   ],
   "source": [
    "\"\"\"\n",
    "men = train_data.loc[train_data.Sex == 'male'][\"Survived\"]\n",
    "rate_men = sum(men)/len(men)\n",
    "\n",
    "print(\"% of men who survived:\", rate_men)\n",
    "\"\"\""
   ]
  },
  {
   "cell_type": "code",
   "execution_count": 6,
   "id": "f250543e",
   "metadata": {
    "execution": {
     "iopub.execute_input": "2024-04-01T17:32:47.079843Z",
     "iopub.status.busy": "2024-04-01T17:32:47.078861Z",
     "iopub.status.idle": "2024-04-01T17:32:47.086793Z",
     "shell.execute_reply": "2024-04-01T17:32:47.085536Z"
    },
    "papermill": {
     "duration": 0.018108,
     "end_time": "2024-04-01T17:32:47.089339",
     "exception": false,
     "start_time": "2024-04-01T17:32:47.071231",
     "status": "completed"
    },
    "tags": []
   },
   "outputs": [
    {
     "data": {
      "text/plain": [
       "'\\ny = train_data[\"Survived\"]\\n\\nfeatures = [\"Pclass\", \"Sex\", \"SibSp\", \"Parch\"]\\nX = pd.get_dummies(train_data[features])\\nX_test = pd.get_dummies(test_data[features])\\n\\nmodel = DecisionTreeClassifier(random_state=0)\\nmodel.fit(X, y)\\npredictions = model.predict(X_test)\\n\\noutput = pd.DataFrame({\\'PassengerId\\': test_data.PassengerId, \\'Survived\\': predictions})\\noutput.to_csv(\\'submission.csv\\', index=False)\\nprint(\"Your submission was successfully saved!\")\\n'"
      ]
     },
     "execution_count": 6,
     "metadata": {},
     "output_type": "execute_result"
    }
   ],
   "source": [
    "# ver 1: from sklearn.ensemble import RandomForestClassifier\n",
    "# ver 2: from sklearn.linear_model import LogisticRegression\n",
    "# ver 3: from sklearn.linear_model import SGDClassifier\n",
    "# ver 4: from sklearn.neighbors import KNeighborsClassifier\n",
    "# ver 5: from sklearn.svm import SVC\n",
    "# ver 6: from sklearn.tree import DecisionTreeClassifier\n",
    "\n",
    "\"\"\"\n",
    "y = train_data[\"Survived\"]\n",
    "\n",
    "features = [\"Pclass\", \"Sex\", \"SibSp\", \"Parch\"]\n",
    "X = pd.get_dummies(train_data[features])\n",
    "X_test = pd.get_dummies(test_data[features])\n",
    "\n",
    "model = DecisionTreeClassifier(random_state=0)\n",
    "model.fit(X, y)\n",
    "predictions = model.predict(X_test)\n",
    "\n",
    "output = pd.DataFrame({'PassengerId': test_data.PassengerId, 'Survived': predictions})\n",
    "output.to_csv('submission.csv', index=False)\n",
    "print(\"Your submission was successfully saved!\")\n",
    "\"\"\""
   ]
  },
  {
   "cell_type": "code",
   "execution_count": 7,
   "id": "7fff9d60",
   "metadata": {
    "execution": {
     "iopub.execute_input": "2024-04-01T17:32:47.103828Z",
     "iopub.status.busy": "2024-04-01T17:32:47.103476Z",
     "iopub.status.idle": "2024-04-01T17:32:52.509082Z",
     "shell.execute_reply": "2024-04-01T17:32:52.507806Z"
    },
    "papermill": {
     "duration": 5.416088,
     "end_time": "2024-04-01T17:32:52.511858",
     "exception": false,
     "start_time": "2024-04-01T17:32:47.095770",
     "status": "completed"
    },
    "tags": []
   },
   "outputs": [],
   "source": [
    "from sklearn.preprocessing import StandardScaler\n",
    "\n",
    "import torch\n",
    "import torch.nn as nn\n",
    "import torch.nn.functional as F\n",
    "from torch.utils.data import TensorDataset\n",
    "from torch.utils.data import DataLoader"
   ]
  },
  {
   "cell_type": "code",
   "execution_count": 8,
   "id": "46fc03c7",
   "metadata": {
    "execution": {
     "iopub.execute_input": "2024-04-01T17:32:52.527390Z",
     "iopub.status.busy": "2024-04-01T17:32:52.526819Z",
     "iopub.status.idle": "2024-04-01T17:32:52.541741Z",
     "shell.execute_reply": "2024-04-01T17:32:52.540577Z"
    },
    "papermill": {
     "duration": 0.025856,
     "end_time": "2024-04-01T17:32:52.544436",
     "exception": false,
     "start_time": "2024-04-01T17:32:52.518580",
     "status": "completed"
    },
    "tags": []
   },
   "outputs": [],
   "source": [
    "train_data.drop(['Name', 'Ticket', 'Cabin'], axis=1, inplace=True)\n",
    "test_data.drop(['Name', 'Ticket', 'Cabin'], axis=1, inplace=True)\n",
    "#inplace=True는 원본 데이터를 수정하겠다는것을 의미"
   ]
  },
  {
   "cell_type": "code",
   "execution_count": 9,
   "id": "839e0e05",
   "metadata": {
    "execution": {
     "iopub.execute_input": "2024-04-01T17:32:52.559443Z",
     "iopub.status.busy": "2024-04-01T17:32:52.558805Z",
     "iopub.status.idle": "2024-04-01T17:32:52.565334Z",
     "shell.execute_reply": "2024-04-01T17:32:52.564413Z"
    },
    "papermill": {
     "duration": 0.0166,
     "end_time": "2024-04-01T17:32:52.567632",
     "exception": false,
     "start_time": "2024-04-01T17:32:52.551032",
     "status": "completed"
    },
    "tags": []
   },
   "outputs": [
    {
     "data": {
      "text/plain": [
       "Index(['PassengerId', 'Survived', 'Pclass', 'Sex', 'Age', 'SibSp', 'Parch',\n",
       "       'Fare', 'Embarked'],\n",
       "      dtype='object')"
      ]
     },
     "execution_count": 9,
     "metadata": {},
     "output_type": "execute_result"
    }
   ],
   "source": [
    "train_data.columns"
   ]
  },
  {
   "cell_type": "code",
   "execution_count": 10,
   "id": "11307785",
   "metadata": {
    "execution": {
     "iopub.execute_input": "2024-04-01T17:32:52.582749Z",
     "iopub.status.busy": "2024-04-01T17:32:52.582126Z",
     "iopub.status.idle": "2024-04-01T17:32:52.598996Z",
     "shell.execute_reply": "2024-04-01T17:32:52.597814Z"
    },
    "papermill": {
     "duration": 0.027384,
     "end_time": "2024-04-01T17:32:52.601627",
     "exception": false,
     "start_time": "2024-04-01T17:32:52.574243",
     "status": "completed"
    },
    "tags": []
   },
   "outputs": [],
   "source": [
    "sex = pd.get_dummies(train_data['Sex'], drop_first=True)\n",
    "embark = pd.get_dummies(train_data['Embarked'], drop_first=True)\n",
    "# drop_first=True 는 첫번째 옵션을 drop함을 뜻함\n",
    "# 예로 Sex column에서 female이 1이라면, 0인 row는 자동으로 male을 의미\n",
    "train_data = pd.concat([train_data, sex, embark], axis=1)\n",
    "train_data.drop(['Sex', 'Embarked'], axis=1, inplace=True)"
   ]
  },
  {
   "cell_type": "code",
   "execution_count": 11,
   "id": "155918a3",
   "metadata": {
    "execution": {
     "iopub.execute_input": "2024-04-01T17:32:52.617396Z",
     "iopub.status.busy": "2024-04-01T17:32:52.616952Z",
     "iopub.status.idle": "2024-04-01T17:32:52.626105Z",
     "shell.execute_reply": "2024-04-01T17:32:52.625254Z"
    },
    "papermill": {
     "duration": 0.02023,
     "end_time": "2024-04-01T17:32:52.628336",
     "exception": false,
     "start_time": "2024-04-01T17:32:52.608106",
     "status": "completed"
    },
    "tags": []
   },
   "outputs": [],
   "source": [
    "sex = pd.get_dummies(test_data['Sex'], drop_first=True)\n",
    "embark = pd.get_dummies(test_data['Embarked'], drop_first=True)\n",
    "test_data = pd.concat([test_data, sex, embark], axis=1)\n",
    "test_data.drop(['Sex', 'Embarked'], axis=1, inplace=True)"
   ]
  },
  {
   "cell_type": "code",
   "execution_count": 12,
   "id": "c2322367",
   "metadata": {
    "execution": {
     "iopub.execute_input": "2024-04-01T17:32:52.646560Z",
     "iopub.status.busy": "2024-04-01T17:32:52.645536Z",
     "iopub.status.idle": "2024-04-01T17:32:52.662614Z",
     "shell.execute_reply": "2024-04-01T17:32:52.660905Z"
    },
    "papermill": {
     "duration": 0.031187,
     "end_time": "2024-04-01T17:32:52.666317",
     "exception": false,
     "start_time": "2024-04-01T17:32:52.635130",
     "status": "completed"
    },
    "tags": []
   },
   "outputs": [],
   "source": [
    "train_data.fillna(train_data.mean(), inplace=True)\n",
    "test_data.fillna(test_data.mean(), inplace=True)"
   ]
  },
  {
   "cell_type": "code",
   "execution_count": 13,
   "id": "e7e38496",
   "metadata": {
    "execution": {
     "iopub.execute_input": "2024-04-01T17:32:52.687739Z",
     "iopub.status.busy": "2024-04-01T17:32:52.686456Z",
     "iopub.status.idle": "2024-04-01T17:32:52.719656Z",
     "shell.execute_reply": "2024-04-01T17:32:52.718064Z"
    },
    "papermill": {
     "duration": 0.047179,
     "end_time": "2024-04-01T17:32:52.722016",
     "exception": false,
     "start_time": "2024-04-01T17:32:52.674837",
     "status": "completed"
    },
    "tags": []
   },
   "outputs": [
    {
     "data": {
      "text/html": [
       "<div>\n",
       "<style scoped>\n",
       "    .dataframe tbody tr th:only-of-type {\n",
       "        vertical-align: middle;\n",
       "    }\n",
       "\n",
       "    .dataframe tbody tr th {\n",
       "        vertical-align: top;\n",
       "    }\n",
       "\n",
       "    .dataframe thead th {\n",
       "        text-align: right;\n",
       "    }\n",
       "</style>\n",
       "<table border=\"1\" class=\"dataframe\">\n",
       "  <thead>\n",
       "    <tr style=\"text-align: right;\">\n",
       "      <th></th>\n",
       "      <th>0</th>\n",
       "      <th>1</th>\n",
       "      <th>2</th>\n",
       "      <th>3</th>\n",
       "      <th>4</th>\n",
       "      <th>5</th>\n",
       "      <th>6</th>\n",
       "      <th>7</th>\n",
       "      <th>8</th>\n",
       "      <th>9</th>\n",
       "    </tr>\n",
       "  </thead>\n",
       "  <tbody>\n",
       "    <tr>\n",
       "      <th>0</th>\n",
       "      <td>-1.730108</td>\n",
       "      <td>-0.789272</td>\n",
       "      <td>0.827377</td>\n",
       "      <td>-0.592481</td>\n",
       "      <td>0.432793</td>\n",
       "      <td>-0.473674</td>\n",
       "      <td>-0.502445</td>\n",
       "      <td>0.737695</td>\n",
       "      <td>-0.307562</td>\n",
       "      <td>0.619306</td>\n",
       "    </tr>\n",
       "    <tr>\n",
       "      <th>1</th>\n",
       "      <td>-1.726220</td>\n",
       "      <td>1.266990</td>\n",
       "      <td>-1.566107</td>\n",
       "      <td>0.638789</td>\n",
       "      <td>0.432793</td>\n",
       "      <td>-0.473674</td>\n",
       "      <td>0.786845</td>\n",
       "      <td>-1.355574</td>\n",
       "      <td>-0.307562</td>\n",
       "      <td>-1.614710</td>\n",
       "    </tr>\n",
       "    <tr>\n",
       "      <th>2</th>\n",
       "      <td>-1.722332</td>\n",
       "      <td>1.266990</td>\n",
       "      <td>0.827377</td>\n",
       "      <td>-0.284663</td>\n",
       "      <td>-0.474545</td>\n",
       "      <td>-0.473674</td>\n",
       "      <td>-0.488854</td>\n",
       "      <td>-1.355574</td>\n",
       "      <td>-0.307562</td>\n",
       "      <td>0.619306</td>\n",
       "    </tr>\n",
       "    <tr>\n",
       "      <th>3</th>\n",
       "      <td>-1.718444</td>\n",
       "      <td>1.266990</td>\n",
       "      <td>-1.566107</td>\n",
       "      <td>0.407926</td>\n",
       "      <td>0.432793</td>\n",
       "      <td>-0.473674</td>\n",
       "      <td>0.420730</td>\n",
       "      <td>-1.355574</td>\n",
       "      <td>-0.307562</td>\n",
       "      <td>0.619306</td>\n",
       "    </tr>\n",
       "    <tr>\n",
       "      <th>4</th>\n",
       "      <td>-1.714556</td>\n",
       "      <td>-0.789272</td>\n",
       "      <td>0.827377</td>\n",
       "      <td>0.407926</td>\n",
       "      <td>-0.474545</td>\n",
       "      <td>-0.473674</td>\n",
       "      <td>-0.486337</td>\n",
       "      <td>0.737695</td>\n",
       "      <td>-0.307562</td>\n",
       "      <td>0.619306</td>\n",
       "    </tr>\n",
       "  </tbody>\n",
       "</table>\n",
       "</div>"
      ],
      "text/plain": [
       "          0         1         2         3         4         5         6  \\\n",
       "0 -1.730108 -0.789272  0.827377 -0.592481  0.432793 -0.473674 -0.502445   \n",
       "1 -1.726220  1.266990 -1.566107  0.638789  0.432793 -0.473674  0.786845   \n",
       "2 -1.722332  1.266990  0.827377 -0.284663 -0.474545 -0.473674 -0.488854   \n",
       "3 -1.718444  1.266990 -1.566107  0.407926  0.432793 -0.473674  0.420730   \n",
       "4 -1.714556 -0.789272  0.827377  0.407926 -0.474545 -0.473674 -0.486337   \n",
       "\n",
       "          7         8         9  \n",
       "0  0.737695 -0.307562  0.619306  \n",
       "1 -1.355574 -0.307562 -1.614710  \n",
       "2 -1.355574 -0.307562  0.619306  \n",
       "3 -1.355574 -0.307562  0.619306  \n",
       "4  0.737695 -0.307562  0.619306  "
      ]
     },
     "execution_count": 13,
     "metadata": {},
     "output_type": "execute_result"
    }
   ],
   "source": [
    "y_train = train_data['Survived'].values\n",
    "sub_PassengerId = test_data['PassengerId'].values\n",
    "\n",
    "Scaler1 = StandardScaler()\n",
    "Scaler2 = StandardScaler()\n",
    "\n",
    "train_columns = train_data.columns\n",
    "test_columns = test_data.columns\n",
    "\n",
    "train_data = pd.DataFrame(Scaler1.fit_transform(train_data))\n",
    "test_data = pd.DataFrame(Scaler2.fit_transform(test_data))\n",
    "\n",
    "train_data.head()"
   ]
  },
  {
   "cell_type": "code",
   "execution_count": 14,
   "id": "b7d8a224",
   "metadata": {
    "execution": {
     "iopub.execute_input": "2024-04-01T17:32:52.737286Z",
     "iopub.status.busy": "2024-04-01T17:32:52.736897Z",
     "iopub.status.idle": "2024-04-01T17:32:52.742495Z",
     "shell.execute_reply": "2024-04-01T17:32:52.741221Z"
    },
    "papermill": {
     "duration": 0.015857,
     "end_time": "2024-04-01T17:32:52.744741",
     "exception": false,
     "start_time": "2024-04-01T17:32:52.728884",
     "status": "completed"
    },
    "tags": []
   },
   "outputs": [],
   "source": [
    "train_data.columns = train_columns\n",
    "test_data.columns = test_columns\n",
    "\n",
    "X_train = train_data.iloc[:,2:].values"
   ]
  },
  {
   "cell_type": "code",
   "execution_count": 15,
   "id": "b30c3b12",
   "metadata": {
    "execution": {
     "iopub.execute_input": "2024-04-01T17:32:52.763889Z",
     "iopub.status.busy": "2024-04-01T17:32:52.762680Z",
     "iopub.status.idle": "2024-04-01T17:32:52.818238Z",
     "shell.execute_reply": "2024-04-01T17:32:52.816564Z"
    },
    "papermill": {
     "duration": 0.069807,
     "end_time": "2024-04-01T17:32:52.821599",
     "exception": false,
     "start_time": "2024-04-01T17:32:52.751792",
     "status": "completed"
    },
    "tags": []
   },
   "outputs": [
    {
     "name": "stdout",
     "output_type": "stream",
     "text": [
      "Net(\n",
      "  (fc1): Linear(in_features=8, out_features=256, bias=True)\n",
      "  (dropout1): Dropout(p=0.2, inplace=False)\n",
      "  (fc2): Linear(in_features=256, out_features=128, bias=True)\n",
      "  (dropout2): Dropout(p=0.2, inplace=False)\n",
      "  (fc3): Linear(in_features=128, out_features=64, bias=True)\n",
      "  (dropout3): Dropout(p=0.2, inplace=False)\n",
      "  (fc4): Linear(in_features=64, out_features=16, bias=True)\n",
      "  (dropout4): Dropout(p=0.2, inplace=False)\n",
      "  (fc5): Linear(in_features=16, out_features=2, bias=True)\n",
      ")\n"
     ]
    }
   ],
   "source": [
    "import torch.nn as nn\n",
    "import torch.nn.functional as F\n",
    "\n",
    "class Net(nn.Module):\n",
    "    def __init__(self):\n",
    "        super(Net, self).__init__()\n",
    "        hidden_1 = 256\n",
    "        hidden_2 = 128\n",
    "        hidden_3 = 64\n",
    "        hidden_4 = 16\n",
    "\n",
    "        self.fc1 = nn.Linear(8, hidden_1)\n",
    "        self.dropout1 = nn.Dropout(0.2)\n",
    "        \n",
    "        self.fc2 = nn.Linear(hidden_1, hidden_2)\n",
    "        self.dropout2 = nn.Dropout(0.2)\n",
    "\n",
    "        self.fc3 = nn.Linear(hidden_2, hidden_3)\n",
    "        self.dropout3 = nn.Dropout(0.2)\n",
    "        \n",
    "        self.fc4 = nn.Linear(hidden_3, hidden_4)\n",
    "        self.dropout4 = nn.Dropout(0.2)\n",
    "        \n",
    "        self.fc5 = nn.Linear(hidden_4, 2)\n",
    "\n",
    "    def forward(self, x):\n",
    "        x = x.view(-1, 8)\n",
    "\n",
    "        x = F.leaky_relu(self.fc1(x))\n",
    "        x = self.dropout1(x)\n",
    "        \n",
    "        x = F.leaky_relu(self.fc2(x))\n",
    "        x = self.dropout2(x)\n",
    "        \n",
    "        x = F.leaky_relu(self.fc3(x))\n",
    "        x = self.dropout3(x)\n",
    "        \n",
    "        x = F.leaky_relu(self.fc4(x))\n",
    "        x = self.dropout4(x)\n",
    "        \n",
    "        x = torch.tanh(self.fc5(x))\n",
    "        return x\n",
    "\n",
    "# The model kept overfitting, so I used leaky-ReLU and dropout,\n",
    "# but the probability is still low.\n",
    "# It seems like it's just a matter of luck that the accuracy goes up as I reduce the amount of training.\n",
    "    \n",
    "# 모델 초기화\n",
    "model = Net()\n",
    "print(model)"
   ]
  },
  {
   "cell_type": "code",
   "execution_count": 16,
   "id": "3c5b607c",
   "metadata": {
    "execution": {
     "iopub.execute_input": "2024-04-01T17:32:52.842544Z",
     "iopub.status.busy": "2024-04-01T17:32:52.842116Z",
     "iopub.status.idle": "2024-04-01T17:32:52.865497Z",
     "shell.execute_reply": "2024-04-01T17:32:52.864521Z"
    },
    "papermill": {
     "duration": 0.03695,
     "end_time": "2024-04-01T17:32:52.868169",
     "exception": false,
     "start_time": "2024-04-01T17:32:52.831219",
     "status": "completed"
    },
    "tags": []
   },
   "outputs": [],
   "source": [
    "X_train = torch.FloatTensor(X_train)\n",
    "y_train = torch.FloatTensor(y_train)\n",
    "\n",
    "dataset = TensorDataset(X_train, y_train)\n",
    "dataloader = DataLoader(dataset, batch_size=64, shuffle=True)"
   ]
  },
  {
   "cell_type": "code",
   "execution_count": 17,
   "id": "9d85e251",
   "metadata": {
    "execution": {
     "iopub.execute_input": "2024-04-01T17:32:52.883927Z",
     "iopub.status.busy": "2024-04-01T17:32:52.883081Z",
     "iopub.status.idle": "2024-04-01T17:32:56.223075Z",
     "shell.execute_reply": "2024-04-01T17:32:56.221784Z"
    },
    "papermill": {
     "duration": 3.350905,
     "end_time": "2024-04-01T17:32:56.225832",
     "exception": false,
     "start_time": "2024-04-01T17:32:52.874927",
     "status": "completed"
    },
    "tags": []
   },
   "outputs": [],
   "source": [
    "criterion = nn.CrossEntropyLoss()\n",
    "optimizer = torch.optim.Adam(model.parameters(), lr=0.0001)"
   ]
  },
  {
   "cell_type": "code",
   "execution_count": 18,
   "id": "b1a3474d",
   "metadata": {
    "execution": {
     "iopub.execute_input": "2024-04-01T17:32:56.241547Z",
     "iopub.status.busy": "2024-04-01T17:32:56.240921Z",
     "iopub.status.idle": "2024-04-01T17:32:58.700354Z",
     "shell.execute_reply": "2024-04-01T17:32:58.698807Z"
    },
    "papermill": {
     "duration": 2.469853,
     "end_time": "2024-04-01T17:32:58.702591",
     "exception": false,
     "start_time": "2024-04-01T17:32:56.232738",
     "status": "completed"
    },
    "tags": []
   },
   "outputs": [
    {
     "name": "stdout",
     "output_type": "stream",
     "text": [
      "=*=*=*= Loss decreased (   inf ===> 0.720177). Saving the model! =*=*=*=\n",
      "=*=*=*= Loss decreased (0.720177 ===> 0.712331). Saving the model! =*=*=*=\n",
      "=*=*=*= Loss decreased (0.712331 ===> 0.702678). Saving the model! =*=*=*=\n",
      "=*=*=*= Loss decreased (0.702678 ===> 0.690869). Saving the model! =*=*=*=\n",
      "=*=*=*= Loss decreased (0.690869 ===> 0.676016). Saving the model! =*=*=*=\n",
      "=*=*=*= Loss decreased (0.676016 ===> 0.656823). Saving the model! =*=*=*=\n",
      "=*=*=*= Loss decreased (0.656823 ===> 0.633988). Saving the model! =*=*=*=\n",
      "=*=*=*= Loss decreased (0.633988 ===> 0.606326). Saving the model! =*=*=*=\n",
      "=*=*=*= Loss decreased (0.606326 ===> 0.587327). Saving the model! =*=*=*=\n",
      "=*=*=*= Loss decreased (0.587327 ===> 0.555628). Saving the model! =*=*=*=\n",
      "=*=*=*= Loss decreased (0.555628 ===> 0.538092). Saving the model! =*=*=*=\n",
      "=*=*=*= Loss decreased (0.538092 ===> 0.525376). Saving the model! =*=*=*=\n",
      "=*=*=*= Loss decreased (0.525376 ===> 0.505300). Saving the model! =*=*=*=\n",
      "=*=*=*= Loss decreased (0.505300 ===> 0.486312). Saving the model! =*=*=*=\n",
      "=*=*=*= Loss decreased (0.486312 ===> 0.482125). Saving the model! =*=*=*=\n",
      "=*=*=*= Loss decreased (0.482125 ===> 0.471214). Saving the model! =*=*=*=\n",
      "=*=*=*= Loss decreased (0.471214 ===> 0.468667). Saving the model! =*=*=*=\n",
      "=*=*=*= Loss decreased (0.468667 ===> 0.460214). Saving the model! =*=*=*=\n",
      "Epoch 20/50, Prediction : 717/891, Cost : 0.46025979114167487\n",
      "=*=*=*= Loss decreased (0.460214 ===> 0.454350). Saving the model! =*=*=*=\n",
      "=*=*=*= Loss decreased (0.454350 ===> 0.450297). Saving the model! =*=*=*=\n",
      "=*=*=*= Loss decreased (0.450297 ===> 0.442802). Saving the model! =*=*=*=\n",
      "=*=*=*= Loss decreased (0.442802 ===> 0.437613). Saving the model! =*=*=*=\n",
      "=*=*=*= Loss decreased (0.437613 ===> 0.433995). Saving the model! =*=*=*=\n",
      "=*=*=*= Loss decreased (0.433995 ===> 0.429125). Saving the model! =*=*=*=\n",
      "=*=*=*= Loss decreased (0.429125 ===> 0.425249). Saving the model! =*=*=*=\n",
      "=*=*=*= Loss decreased (0.425249 ===> 0.424608). Saving the model! =*=*=*=\n",
      "Epoch 40/50, Prediction : 739/891, Cost : 0.4296413494146499\n",
      "=*=*=*= Loss decreased (0.424608 ===> 0.421651). Saving the model! =*=*=*=\n",
      "=*=*=*= Loss decreased (0.421651 ===> 0.420399). Saving the model! =*=*=*=\n",
      "=*=*=*= Loss decreased (0.420399 ===> 0.418373). Saving the model! =*=*=*=\n",
      "Training Ended!\n"
     ]
    }
   ],
   "source": [
    "# I recommend to train less than 50 epochs\n",
    "# because, if you train more than 100, it always overfits\n",
    "\n",
    "nb_epochs = 50\n",
    "train_loss_min = np.Inf\n",
    "for epoch in range(nb_epochs):\n",
    "    num_right = 0\n",
    "    train_loss = 0\n",
    "    for batch_idx, samples in enumerate(dataloader):\n",
    "        x_train, y_train = samples\n",
    "        \n",
    "        prediction = model(x_train)\n",
    "        loss = criterion(prediction, y_train.long())\n",
    "        \n",
    "        optimizer.zero_grad()\n",
    "        loss.backward()\n",
    "        optimizer.step()\n",
    "        \n",
    "        labels = torch.argmax(prediction, dim=1)\n",
    "        num_right += torch.sum(labels == y_train)\n",
    "        train_loss += loss.item() * len(x_train)\n",
    "        \n",
    "    train_loss = train_loss / len(X_train)\n",
    "    if (epoch + 1) % 20 == 0:\n",
    "        print('Epoch {}/{}, Prediction : {}/{}, Cost : {}'.format(epoch+1, nb_epochs, num_right, len(X_train), train_loss))\n",
    "    if train_loss <= train_loss_min:\n",
    "        print('=*=*=*= Loss decreased ({:6f} ===> {:6f}). Saving the model! =*=*=*='.format(train_loss_min, train_loss))\n",
    "        torch.save(model.state_dict(), 'model.pt')\n",
    "        train_loss_min = train_loss\n",
    "        \n",
    "print('Training Ended!')\n",
    "\n",
    "# If anything, the smaller number of epochs increases the accuracy a bit... wth"
   ]
  },
  {
   "cell_type": "code",
   "execution_count": 19,
   "id": "ebddf824",
   "metadata": {
    "execution": {
     "iopub.execute_input": "2024-04-01T17:32:58.721065Z",
     "iopub.status.busy": "2024-04-01T17:32:58.720630Z",
     "iopub.status.idle": "2024-04-01T17:32:58.731328Z",
     "shell.execute_reply": "2024-04-01T17:32:58.729966Z"
    },
    "papermill": {
     "duration": 0.022014,
     "end_time": "2024-04-01T17:32:58.733565",
     "exception": false,
     "start_time": "2024-04-01T17:32:58.711551",
     "status": "completed"
    },
    "tags": []
   },
   "outputs": [],
   "source": [
    "X_test = torch.FloatTensor(test_data.iloc[:,1:].values)\n",
    "with torch.no_grad():\n",
    "    result = model(X_test)\n",
    "labels = torch.argmax(result, dim=1)\n",
    "survived = labels.numpy()"
   ]
  },
  {
   "cell_type": "code",
   "execution_count": 20,
   "id": "1e5f35b3",
   "metadata": {
    "execution": {
     "iopub.execute_input": "2024-04-01T17:32:58.751012Z",
     "iopub.status.busy": "2024-04-01T17:32:58.750621Z",
     "iopub.status.idle": "2024-04-01T17:32:58.761142Z",
     "shell.execute_reply": "2024-04-01T17:32:58.759992Z"
    },
    "papermill": {
     "duration": 0.02211,
     "end_time": "2024-04-01T17:32:58.763540",
     "exception": false,
     "start_time": "2024-04-01T17:32:58.741430",
     "status": "completed"
    },
    "tags": []
   },
   "outputs": [],
   "source": [
    "submission = pd.DataFrame({'PassengerId': sub_PassengerId, 'Survived': survived})\n",
    "submission.to_csv('submission.csv', index=False)"
   ]
  }
 ],
 "metadata": {
  "kaggle": {
   "accelerator": "none",
   "dataSources": [
    {
     "databundleVersionId": 26502,
     "sourceId": 3136,
     "sourceType": "competition"
    }
   ],
   "dockerImageVersionId": 30673,
   "isGpuEnabled": false,
   "isInternetEnabled": true,
   "language": "python",
   "sourceType": "notebook"
  },
  "kernelspec": {
   "display_name": "Python 3",
   "language": "python",
   "name": "python3"
  },
  "language_info": {
   "codemirror_mode": {
    "name": "ipython",
    "version": 3
   },
   "file_extension": ".py",
   "mimetype": "text/x-python",
   "name": "python",
   "nbconvert_exporter": "python",
   "pygments_lexer": "ipython3",
   "version": "3.10.13"
  },
  "papermill": {
   "default_parameters": {},
   "duration": 18.120793,
   "end_time": "2024-04-01T17:33:01.077601",
   "environment_variables": {},
   "exception": null,
   "input_path": "__notebook__.ipynb",
   "output_path": "__notebook__.ipynb",
   "parameters": {},
   "start_time": "2024-04-01T17:32:42.956808",
   "version": "2.5.0"
  }
 },
 "nbformat": 4,
 "nbformat_minor": 5
}
