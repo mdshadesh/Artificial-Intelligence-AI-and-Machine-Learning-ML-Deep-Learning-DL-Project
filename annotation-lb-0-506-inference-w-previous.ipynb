{
 "cells": [
  {
   "cell_type": "markdown",
   "id": "150a9d12",
   "metadata": {
    "execution": {
     "iopub.execute_input": "2022-08-31T14:41:32.386121Z",
     "iopub.status.busy": "2022-08-31T14:41:32.385678Z",
     "iopub.status.idle": "2022-08-31T14:41:33.84764Z",
     "shell.execute_reply": "2022-08-31T14:41:33.84594Z",
     "shell.execute_reply.started": "2022-08-31T14:41:32.386036Z"
    },
    "papermill": {
     "duration": 0.006321,
     "end_time": "2023-08-01T02:27:48.092036",
     "exception": false,
     "start_time": "2023-08-01T02:27:48.085715",
     "status": "completed"
    },
    "tags": []
   },
   "source": [
    " \n",
    "\n",
    "##### This notebook is a fork of [this notebook](https://www.kaggle.com/code/mbmmurad/lb-0-506-inference-w-previous-comp-winner-s-model/notebook).\n",
    "\n",
    "\n",
    "💗This notebook has made some annotations on the original code. If it is useful to you, please click like. Thank you!💗\n"
   ]
  },
  {
   "cell_type": "code",
   "execution_count": 1,
   "id": "21462f4c",
   "metadata": {
    "execution": {
     "iopub.execute_input": "2023-08-01T02:27:48.105510Z",
     "iopub.status.busy": "2023-08-01T02:27:48.105069Z",
     "iopub.status.idle": "2023-08-01T02:27:49.290237Z",
     "shell.execute_reply": "2023-08-01T02:27:49.288940Z"
    },
    "papermill": {
     "duration": 1.194765,
     "end_time": "2023-08-01T02:27:49.292777",
     "exception": false,
     "start_time": "2023-08-01T02:27:48.098012",
     "status": "completed"
    },
    "tags": []
   },
   "outputs": [],
   "source": [
    "!cp -r ../input/python-packages2 ./"
   ]
  },
  {
   "cell_type": "code",
   "execution_count": 2,
   "id": "fcbaae56",
   "metadata": {
    "execution": {
     "iopub.execute_input": "2023-08-01T02:27:49.306147Z",
     "iopub.status.busy": "2023-08-01T02:27:49.305787Z",
     "iopub.status.idle": "2023-08-01T02:29:30.728564Z",
     "shell.execute_reply": "2023-08-01T02:29:30.727286Z"
    },
    "papermill": {
     "duration": 101.432096,
     "end_time": "2023-08-01T02:29:30.730900",
     "exception": false,
     "start_time": "2023-08-01T02:27:49.298804",
     "status": "completed"
    },
    "tags": []
   },
   "outputs": [
    {
     "name": "stdout",
     "output_type": "stream",
     "text": [
      "jiwer/\r\n",
      "jiwer/jiwer-2.3.0-py3-none-any.whl\r\n",
      "jiwer/python-Levenshtein-0.12.2.tar.gz\r\n",
      "jiwer/setuptools-65.3.0-py3-none-any.whl\r\n",
      "Looking in links: ./\r\n",
      "Processing ./jiwer/jiwer-2.3.0-py3-none-any.whl\r\n",
      "INFO: pip is looking at multiple versions of jiwer to determine which version is compatible with other requirements. This could take a while.\r\n",
      "\u001b[31mERROR: Could not find a version that satisfies the requirement python-Levenshtein==0.12.2 (from jiwer) (from versions: none)\u001b[0m\u001b[31m\r\n",
      "\u001b[0m\u001b[31mERROR: No matching distribution found for python-Levenshtein==0.12.2\u001b[0m\u001b[31m\r\n",
      "\u001b[0mnormalizer/\r\n",
      "normalizer/bnunicodenormalizer-0.0.24.tar.gz\r\n",
      "Looking in links: ./\r\n",
      "Processing ./normalizer/bnunicodenormalizer-0.0.24.tar.gz\r\n",
      "  Preparing metadata (setup.py) ... \u001b[?25l-\b \b\\\b \bdone\r\n",
      "\u001b[?25hBuilding wheels for collected packages: bnunicodenormalizer\r\n",
      "  Building wheel for bnunicodenormalizer (setup.py) ... \u001b[?25l-\b \b\\\b \bdone\r\n",
      "\u001b[?25h  Created wheel for bnunicodenormalizer: filename=bnunicodenormalizer-0.0.24-py3-none-any.whl size=17628 sha256=75c4a46cfadfe81e1cf06f2a536df1b46f9e48cb1aac64cc27394f1753519a54\r\n",
      "  Stored in directory: /root/.cache/pip/wheels/78/d7/75/6986dc3616718f950b80e3bd79a796ef618eaef6cd800e7909\r\n",
      "Successfully built bnunicodenormalizer\r\n",
      "Installing collected packages: bnunicodenormalizer\r\n",
      "Successfully installed bnunicodenormalizer-0.0.24\r\n",
      "pyctcdecode/\r\n",
      "pyctcdecode/hypothesis-6.54.4-py3-none-any.whl\r\n",
      "pyctcdecode/sortedcontainers-2.4.0-py2.py3-none-any.whl\r\n",
      "pyctcdecode/exceptiongroup-1.0.0rc9-py3-none-any.whl\r\n",
      "pyctcdecode/pyctcdecode-0.4.0-py2.py3-none-any.whl\r\n",
      "pyctcdecode/numpy-1.21.6-cp37-cp37m-manylinux_2_12_x86_64.manylinux2010_x86_64.whl\r\n",
      "pyctcdecode/attrs-22.1.0-py2.py3-none-any.whl\r\n",
      "pyctcdecode/pygtrie-2.5.0.tar.gz\r\n",
      "Looking in links: ./\r\n",
      "Processing ./pyctcdecode/attrs-22.1.0-py2.py3-none-any.whl\r\n",
      "Installing collected packages: attrs\r\n",
      "  Attempting uninstall: attrs\r\n",
      "    Found existing installation: attrs 23.1.0\r\n",
      "    Uninstalling attrs-23.1.0:\r\n",
      "      Successfully uninstalled attrs-23.1.0\r\n",
      "Successfully installed attrs-22.1.0\r\n",
      "Looking in links: ./\r\n",
      "Processing ./pyctcdecode/exceptiongroup-1.0.0rc9-py3-none-any.whl\r\n",
      "Installing collected packages: exceptiongroup\r\n",
      "  Attempting uninstall: exceptiongroup\r\n",
      "    Found existing installation: exceptiongroup 1.1.1\r\n",
      "    Uninstalling exceptiongroup-1.1.1:\r\n",
      "      Successfully uninstalled exceptiongroup-1.1.1\r\n",
      "Successfully installed exceptiongroup-1.0.0rc9\r\n",
      "Looking in links: ./\r\n",
      "Processing ./pyctcdecode/hypothesis-6.54.4-py3-none-any.whl\r\n",
      "Installing collected packages: hypothesis\r\n",
      "Successfully installed hypothesis-6.54.4\r\n",
      "Looking in links: ./\r\n",
      "\u001b[31mERROR: numpy-1.21.6-cp37-cp37m-manylinux_2_12_x86_64.manylinux2010_x86_64.whl is not a supported wheel on this platform.\u001b[0m\u001b[31m\r\n",
      "\u001b[0mLooking in links: ./\r\n",
      "Processing ./pyctcdecode/pygtrie-2.5.0.tar.gz\r\n",
      "  Preparing metadata (setup.py) ... \u001b[?25l-\b \b\\\b \bdone\r\n",
      "\u001b[?25hBuilding wheels for collected packages: pygtrie\r\n",
      "  Building wheel for pygtrie (setup.py) ... \u001b[?25l-\b \b\\\b \bdone\r\n",
      "\u001b[?25h  Created wheel for pygtrie: filename=pygtrie-2.5.0-py3-none-any.whl size=20945 sha256=1a8439851c16f272826a32a0527aeb94e023572c47968ffc5cc2bd9ddca17dfa\r\n",
      "  Stored in directory: /root/.cache/pip/wheels/78/28/09/b62c97a3e77102645c7ecc78c97580ad57090b1eee5438d6ac\r\n",
      "Successfully built pygtrie\r\n",
      "Installing collected packages: pygtrie\r\n",
      "Successfully installed pygtrie-2.5.0\r\n",
      "Looking in links: ./\r\n",
      "Processing ./pyctcdecode/sortedcontainers-2.4.0-py2.py3-none-any.whl\r\n",
      "sortedcontainers is already installed with the same version as the provided wheel. Use --force-reinstall to force an installation of the wheel.\r\n",
      "Looking in links: ./\r\n",
      "Processing ./pyctcdecode/pyctcdecode-0.4.0-py2.py3-none-any.whl\r\n",
      "Installing collected packages: pyctcdecode\r\n",
      "Successfully installed pyctcdecode-0.4.0\r\n",
      "pypikenlm/\r\n",
      "pypikenlm/pypi-kenlm-0.1.20220713.tar.gz\r\n",
      "Looking in links: ./\r\n",
      "Processing ./pypikenlm/pypi-kenlm-0.1.20220713.tar.gz\r\n",
      "  Preparing metadata (setup.py) ... \u001b[?25l-\b \b\\\b \bdone\r\n",
      "\u001b[?25hBuilding wheels for collected packages: pypi-kenlm\r\n",
      "  Building wheel for pypi-kenlm (setup.py) ... \u001b[?25l-\b \b\\\b \b|\b \b/\b \b-\b \b\\\b \b|\b \b/\b \b-\b \b\\\b \b|\b \b/\b \b-\b \b\\\b \b|\b \b/\b \b-\b \b\\\b \b|\b \b/\b \b-\b \b\\\b \b|\b \b/\b \b-\b \b\\\b \b|\b \b/\b \b-\b \b\\\b \b|\b \b/\b \b-\b \b\\\b \b|\b \b/\b \b-\b \b\\\b \b|\b \b/\b \b-\b \bdone\r\n",
      "\u001b[?25h  Created wheel for pypi-kenlm: filename=pypi_kenlm-0.1.20220713-cp310-cp310-linux_x86_64.whl size=333264 sha256=68b37d5a27df1e7fd6fca7398e6d2a6668aaa3ace074679d1c8757f9c18ee691\r\n",
      "  Stored in directory: /root/.cache/pip/wheels/1e/7a/db/27645fac296d5d5ba5c461b1af834eebc0ba4643290dbc5476\r\n",
      "Successfully built pypi-kenlm\r\n",
      "Installing collected packages: pypi-kenlm\r\n",
      "Successfully installed pypi-kenlm-0.1.20220713\r\n",
      "Requirement already satisfied: pyctcdecode in /opt/conda/lib/python3.10/site-packages (0.4.0)\r\n",
      "Requirement already satisfied: numpy<2.0.0,>=1.15.0 in /opt/conda/lib/python3.10/site-packages (from pyctcdecode) (1.23.5)\r\n",
      "Requirement already satisfied: pygtrie<3.0,>=2.1 in /opt/conda/lib/python3.10/site-packages (from pyctcdecode) (2.5.0)\r\n",
      "Requirement already satisfied: hypothesis<7,>=6.14 in /opt/conda/lib/python3.10/site-packages (from pyctcdecode) (6.54.4)\r\n",
      "Requirement already satisfied: attrs>=19.2.0 in /opt/conda/lib/python3.10/site-packages (from hypothesis<7,>=6.14->pyctcdecode) (22.1.0)\r\n",
      "Requirement already satisfied: sortedcontainers<3.0.0,>=2.1.0 in /opt/conda/lib/python3.10/site-packages (from hypothesis<7,>=6.14->pyctcdecode) (2.4.0)\r\n",
      "Requirement already satisfied: exceptiongroup>=1.0.0rc8 in /opt/conda/lib/python3.10/site-packages (from hypothesis<7,>=6.14->pyctcdecode) (1.0.0rc9)\r\n"
     ]
    }
   ],
   "source": [
    "!tar xvfz ./python-packages2/jiwer.tgz\n",
    "!pip install ./jiwer/jiwer-2.3.0-py3-none-any.whl -f ./ --no-index\n",
    "!tar xvfz ./python-packages2/normalizer.tgz\n",
    "!pip install ./normalizer/bnunicodenormalizer-0.0.24.tar.gz -f ./ --no-index\n",
    "!tar xvfz ./python-packages2/pyctcdecode.tgz\n",
    "!pip install ./pyctcdecode/attrs-22.1.0-py2.py3-none-any.whl -f ./ --no-index --no-deps\n",
    "!pip install ./pyctcdecode/exceptiongroup-1.0.0rc9-py3-none-any.whl -f ./ --no-index --no-deps\n",
    "!pip install ./pyctcdecode/hypothesis-6.54.4-py3-none-any.whl -f ./ --no-index --no-deps\n",
    "!pip install ./pyctcdecode/numpy-1.21.6-cp37-cp37m-manylinux_2_12_x86_64.manylinux2010_x86_64.whl -f ./ --no-index --no-deps\n",
    "!pip install ./pyctcdecode/pygtrie-2.5.0.tar.gz -f ./ --no-index --no-deps\n",
    "!pip install ./pyctcdecode/sortedcontainers-2.4.0-py2.py3-none-any.whl -f ./ --no-index --no-deps\n",
    "!pip install ./pyctcdecode/pyctcdecode-0.4.0-py2.py3-none-any.whl -f ./ --no-index --no-deps\n",
    "\n",
    "!tar xvfz ./python-packages2/pypikenlm.tgz\n",
    "!pip install ./pypikenlm/pypi-kenlm-0.1.20220713.tar.gz -f ./ --no-index --no-deps\n",
    "!pip install pyctcdecode\n"
   ]
  },
  {
   "cell_type": "code",
   "execution_count": 3,
   "id": "bdb59e4c",
   "metadata": {
    "execution": {
     "iopub.execute_input": "2023-08-01T02:29:30.757420Z",
     "iopub.status.busy": "2023-08-01T02:29:30.757082Z",
     "iopub.status.idle": "2023-08-01T02:29:46.226891Z",
     "shell.execute_reply": "2023-08-01T02:29:46.225895Z"
    },
    "papermill": {
     "duration": 15.485817,
     "end_time": "2023-08-01T02:29:46.229426",
     "exception": false,
     "start_time": "2023-08-01T02:29:30.743609",
     "status": "completed"
    },
    "tags": []
   },
   "outputs": [
    {
     "name": "stderr",
     "output_type": "stream",
     "text": [
      "/opt/conda/lib/python3.10/site-packages/scipy/__init__.py:146: UserWarning: A NumPy version >=1.16.5 and <1.23.0 is required for this version of SciPy (detected version 1.23.5\n",
      "  warnings.warn(f\"A NumPy version >={np_minversion} and <{np_maxversion}\"\n",
      "/opt/conda/lib/python3.10/site-packages/tensorflow_io/python/ops/__init__.py:98: UserWarning: unable to load libtensorflow_io_plugins.so: unable to open file: libtensorflow_io_plugins.so, from paths: ['/opt/conda/lib/python3.10/site-packages/tensorflow_io/python/ops/libtensorflow_io_plugins.so']\n",
      "caused by: ['/opt/conda/lib/python3.10/site-packages/tensorflow_io/python/ops/libtensorflow_io_plugins.so: undefined symbol: _ZN3tsl6StatusC1EN10tensorflow5error4CodeESt17basic_string_viewIcSt11char_traitsIcEENS_14SourceLocationE']\n",
      "  warnings.warn(f\"unable to load libtensorflow_io_plugins.so: {e}\")\n",
      "/opt/conda/lib/python3.10/site-packages/tensorflow_io/python/ops/__init__.py:104: UserWarning: file system plugins are not loaded: unable to open file: libtensorflow_io.so, from paths: ['/opt/conda/lib/python3.10/site-packages/tensorflow_io/python/ops/libtensorflow_io.so']\n",
      "caused by: ['/opt/conda/lib/python3.10/site-packages/tensorflow_io/python/ops/libtensorflow_io.so: undefined symbol: _ZTVN10tensorflow13GcsFileSystemE']\n",
      "  warnings.warn(f\"file system plugins are not loaded: {e}\")\n"
     ]
    }
   ],
   "source": [
    "import os\n",
    "import numpy as np\n",
    "from tqdm.auto import tqdm\n",
    "from glob import glob\n",
    "from transformers import AutoFeatureExtractor, pipeline\n",
    "import pandas as pd\n",
    "import librosa\n",
    "import IPython\n",
    "from datasets import load_metric\n",
    "from tqdm.auto import tqdm\n",
    "from torch.utils.data import Dataset, DataLoader\n",
    "import torch\n",
    "import gc\n",
    "import wave\n",
    "from scipy.io import wavfile\n",
    "import scipy.signal as sps\n",
    "import pyctcdecode\n",
    "\n",
    "tqdm.pandas()\n",
    "import warnings\n",
    "warnings.filterwarnings(\"ignore\")\n",
    "\n"
   ]
  },
  {
   "cell_type": "code",
   "execution_count": 4,
   "id": "e6f201b4",
   "metadata": {
    "execution": {
     "iopub.execute_input": "2023-08-01T02:29:46.261641Z",
     "iopub.status.busy": "2023-08-01T02:29:46.260514Z",
     "iopub.status.idle": "2023-08-01T02:29:46.269077Z",
     "shell.execute_reply": "2023-08-01T02:29:46.267605Z"
    },
    "papermill": {
     "duration": 0.030188,
     "end_time": "2023-08-01T02:29:46.272383",
     "exception": false,
     "start_time": "2023-08-01T02:29:46.242195",
     "status": "completed"
    },
    "tags": []
   },
   "outputs": [],
   "source": [
    "# CHANGE ACCORDINGLY\n",
    "BATCH_SIZE = 1\n",
    "TEST_DIRECTORY = '/kaggle/input/bengaliai-speech/test_mp3s'"
   ]
  },
  {
   "cell_type": "code",
   "execution_count": 5,
   "id": "9773d46c",
   "metadata": {
    "execution": {
     "iopub.execute_input": "2023-08-01T02:29:46.316796Z",
     "iopub.status.busy": "2023-08-01T02:29:46.316455Z",
     "iopub.status.idle": "2023-08-01T02:29:46.320830Z",
     "shell.execute_reply": "2023-08-01T02:29:46.320075Z"
    },
    "papermill": {
     "duration": 0.035563,
     "end_time": "2023-08-01T02:29:46.325707",
     "exception": false,
     "start_time": "2023-08-01T02:29:46.290144",
     "status": "completed"
    },
    "tags": []
   },
   "outputs": [],
   "source": [
    "\n",
    "class CFG:\n",
    "    my_model_name = '../input/yellowking-dlsprint-model/YellowKing_model'\n",
    "    processor_name = '../input/yellowking-dlsprint-model/YellowKing_processor'"
   ]
  },
  {
   "cell_type": "code",
   "execution_count": 6,
   "id": "6864a8de",
   "metadata": {
    "execution": {
     "iopub.execute_input": "2023-08-01T02:29:46.371263Z",
     "iopub.status.busy": "2023-08-01T02:29:46.370954Z",
     "iopub.status.idle": "2023-08-01T02:31:16.784266Z",
     "shell.execute_reply": "2023-08-01T02:31:16.783207Z"
    },
    "papermill": {
     "duration": 90.438587,
     "end_time": "2023-08-01T02:31:16.786755",
     "exception": false,
     "start_time": "2023-08-01T02:29:46.348168",
     "status": "completed"
    },
    "tags": []
   },
   "outputs": [],
   "source": [
    "from transformers import Wav2Vec2ProcessorWithLM\n",
    "\n",
    "processor = Wav2Vec2ProcessorWithLM.from_pretrained(CFG.processor_name)\n"
   ]
  },
  {
   "cell_type": "code",
   "execution_count": 7,
   "id": "cbc9a4df",
   "metadata": {
    "execution": {
     "iopub.execute_input": "2023-08-01T02:31:16.813824Z",
     "iopub.status.busy": "2023-08-01T02:31:16.813125Z",
     "iopub.status.idle": "2023-08-01T02:31:34.075959Z",
     "shell.execute_reply": "2023-08-01T02:31:34.074994Z"
    },
    "papermill": {
     "duration": 17.279122,
     "end_time": "2023-08-01T02:31:34.078743",
     "exception": false,
     "start_time": "2023-08-01T02:31:16.799621",
     "status": "completed"
    },
    "tags": []
   },
   "outputs": [],
   "source": [
    "my_asrLM = pipeline(\"automatic-speech-recognition\", model=CFG.my_model_name ,feature_extractor =processor.feature_extractor, tokenizer= processor.tokenizer,decoder=processor.decoder ,device=0)\n"
   ]
  },
  {
   "cell_type": "markdown",
   "id": "8289d9f5",
   "metadata": {
    "papermill": {
     "duration": 0.012238,
     "end_time": "2023-08-01T02:31:34.104342",
     "exception": false,
     "start_time": "2023-08-01T02:31:34.092104",
     "status": "completed"
    },
    "tags": []
   },
   "source": [
    "**Following Sample Submission:**"
   ]
  },
  {
   "cell_type": "code",
   "execution_count": 8,
   "id": "3777e272",
   "metadata": {
    "execution": {
     "iopub.execute_input": "2023-08-01T02:31:34.130530Z",
     "iopub.status.busy": "2023-08-01T02:31:34.130200Z",
     "iopub.status.idle": "2023-08-01T02:31:34.137768Z",
     "shell.execute_reply": "2023-08-01T02:31:34.136723Z"
    },
    "papermill": {
     "duration": 0.023689,
     "end_time": "2023-08-01T02:31:34.140192",
     "exception": false,
     "start_time": "2023-08-01T02:31:34.116503",
     "status": "completed"
    },
    "tags": []
   },
   "outputs": [],
   "source": [
    "def infer(audio_path):\n",
    "    speech, sr = librosa.load(audio_path, sr=processor.feature_extractor.sampling_rate)\n",
    "\n",
    "    my_LM_prediction = my_asrLM(\n",
    "                speech\n",
    "            )\n",
    "\n",
    "    return my_LM_prediction['text']\n",
    "\"\"\"\n",
    "In the provided code snippet, it appears that you are trying to implement a function named `infer` that takes an audio file path as input, performs automatic speech recognition (ASR) using a pre-trained language model (LM), and returns the predicted text from the speech. However, there are a few undefined variables and functions in the code that need clarification to understand the entire process. I'll explain the code step-by-step:\n",
    "\n",
    "1. `librosa.load(audio_path, sr=processor.feature_extractor.sampling_rate)`: This line uses the librosa library to load the audio file specified by `audio_path` and returns the audio waveform `speech` and the sample rate `sr`. The `processor.feature_extractor.sampling_rate` seems to be a variable or attribute that holds the desired sampling rate for the audio.\n",
    "\n",
    "2. `my_asrLM(speech)`: It seems like `my_asrLM` is a custom function that performs automatic speech recognition using a pre-trained language model. The input to this function is the `speech`, which is the audio waveform loaded in the previous step. This function might internally use a language model specifically trained for ASR to convert the speech into text.\n",
    "\n",
    "3. `my_LM_prediction['text']`: Assuming `my_asrLM` returns a dictionary containing various information about the ASR prediction, this line retrieves the recognized text from the ASR prediction result.\n",
    "\n",
    "Based on the provided code snippet, I can't determine the specific details of the `my_asrLM` function or the `processor.feature_extractor.sampling_rate` attribute since they are not defined in the snippet. If you can provide more context or the implementation of these functions/variables, I can help you further with the ASR inference process.\n",
    "\n",
    "\"\"\";"
   ]
  },
  {
   "cell_type": "code",
   "execution_count": 9,
   "id": "06405620",
   "metadata": {
    "execution": {
     "iopub.execute_input": "2023-08-01T02:31:34.166759Z",
     "iopub.status.busy": "2023-08-01T02:31:34.166462Z",
     "iopub.status.idle": "2023-08-01T02:31:34.175915Z",
     "shell.execute_reply": "2023-08-01T02:31:34.174884Z"
    },
    "papermill": {
     "duration": 0.025242,
     "end_time": "2023-08-01T02:31:34.177977",
     "exception": false,
     "start_time": "2023-08-01T02:31:34.152735",
     "status": "completed"
    },
    "tags": []
   },
   "outputs": [],
   "source": [
    "def batch_infer(audio_paths, batch_size=BATCH_SIZE):\n",
    "    '''\n",
    "    infers on a batch of audio\n",
    "    args:\n",
    "      audio_paths  : list of path to audio files <list of string>\n",
    "    returns:\n",
    "      bangla predicted texts <list of string>\n",
    "    '''\n",
    "    results = []\n",
    "    for path in audio_paths:\n",
    "        pred = \"\"\n",
    "        try:\n",
    "            pred = infer(path)\n",
    "        except:\n",
    "            pred = \"এ\"\n",
    "        if len(pred)==0:\n",
    "            pred = \"এ\"\n",
    "        results.append(pred)\n",
    "    \n",
    "    return results\n",
    "\n",
    "\"\"\"\n",
    "The provided code snippet defines a function named `batch_infer`, which performs inference on a batch of audio files using the `infer` function (assuming that the `infer` function is defined elsewhere in the code, and it processes a single audio file to obtain a predicted text). The function handles exceptions and returns the predicted texts for each audio file in the input list `audio_paths`.\n",
    "\n",
    "Let's break down the function step-by-step:\n",
    "\n",
    "1. `def batch_infer(audio_paths, batch_size=BATCH_SIZE):`: The function `batch_infer` takes two parameters: `audio_paths`, which is a list of file paths to audio files, and `batch_size` (defaulted to `BATCH_SIZE`, which should be defined elsewhere).\n",
    "\n",
    "2. `results = []`: Initializes an empty list named `results`, which will be used to store the predicted texts for each audio file.\n",
    "\n",
    "3. `for path in audio_paths:`: This loop iterates through each audio file path in the input list `audio_paths`.\n",
    "\n",
    "4. `pred = \"\"`: Initializes an empty string variable `pred`, which will be used to store the predicted text for the current audio file.\n",
    "\n",
    "5. `try:`: This block tries to execute the `infer` function with the current audio file path `path`.\n",
    "\n",
    "6. `pred = infer(path)`: Calls the `infer` function with the current audio file path `path` to get the predicted text for the audio file.\n",
    "\n",
    "7. `except:`: If an exception occurs during the execution of the `infer` function (e.g., an error or exception in the `infer` function), this block will be executed.\n",
    "\n",
    "8. `pred = \"এ\"`: In case of an exception, the variable `pred` is set to the Bengali character \"এ\".\n",
    "\n",
    "9. `if len(pred) == 0:`: This checks if the length of the predicted text `pred` is zero, which means no text was predicted for the audio file.\n",
    "\n",
    "10. `pred = \"এ\"`: If no text was predicted (i.e., the length is zero), the variable `pred` is set to the Bengali character \"এ\".\n",
    "\n",
    "11. `results.append(pred)`: The predicted text for the current audio file is added to the `results` list.\n",
    "\n",
    "12. `return results`: After processing all audio files in the `audio_paths` list, the function returns the `results` list, which contains the predicted texts for each audio file.\n",
    "\n",
    "It is important to note that the `infer` function is not defined within the provided code snippet. The `infer` function is assumed to be implemented elsewhere in the code and is responsible for processing a single audio file and returning the predicted text. The `batch_infer` function, on the other hand, handles a batch of audio files by calling the `infer` function for each audio file and collecting the results in the `results` list.\n",
    "\"\"\";"
   ]
  },
  {
   "cell_type": "code",
   "execution_count": 10,
   "id": "0258ec68",
   "metadata": {
    "execution": {
     "iopub.execute_input": "2023-08-01T02:31:34.204355Z",
     "iopub.status.busy": "2023-08-01T02:31:34.204046Z",
     "iopub.status.idle": "2023-08-01T02:31:34.219167Z",
     "shell.execute_reply": "2023-08-01T02:31:34.218296Z"
    },
    "papermill": {
     "duration": 0.030795,
     "end_time": "2023-08-01T02:31:34.221201",
     "exception": false,
     "start_time": "2023-08-01T02:31:34.190406",
     "status": "completed"
    },
    "tags": []
   },
   "outputs": [],
   "source": [
    "from bnunicodenormalizer import Normalizer \n",
    "\n",
    "\n",
    "bnorm = Normalizer()\n",
    "def normalize(sen):\n",
    "    _words = [bnorm(word)['normalized']  for word in sen.split()]\n",
    "    return \" \".join([word for word in _words if word is not None])\n",
    "\n",
    "def dari(sentence):\n",
    "    try:\n",
    "        if sentence[-1]!=\"।\":\n",
    "            sentence+=\"।\"\n",
    "    except:\n",
    "        print(sentence)\n",
    "    return sentence\n",
    "\n",
    "\"\"\"\n",
    "The provided code snippet defines two functions, `normalize` and `dari`, that appear to be related to processing Bengali text. Let's break down each function:\n",
    "\n",
    "1. `normalize(sen)`: This function takes a Bengali sentence as input (`sen`) and returns the normalized version of the sentence. The normalization process seems to involve using the `bnunicodenormalizer` library to normalize individual words within the sentence. The function iterates through each word in the sentence, normalizes it using the `bnunicodenormalizer` library, and then joins the normalized words back into a normalized sentence. The normalized sentence will have normalized characters (e.g., combining characters) for proper rendering.\n",
    "\n",
    "   However, there's a small issue in the function. In the list comprehension used to normalize each word (`_words`), the normalization is attempted for every word, even if it contains characters that are not Bengali. The `bnunicodenormalizer` library is designed to work with Bengali text, so using it on non-Bengali characters may lead to unintended behavior or errors. If the input sentence contains non-Bengali characters, it's better to handle those cases explicitly.\n",
    "\n",
    "2. `dari(sentence)`: This function takes a Bengali sentence as input (`sentence`). It checks if the sentence ends with a Bengali full stop (U+09। - DARI). If the sentence does not end with the full stop, it appends one at the end. The purpose of this function seems to ensure that the Bengali sentence ends with the appropriate punctuation.\n",
    "\n",
    "   The function includes a `try-except` block, which is not necessary for this specific case. The code inside the `try` block simply checks the last character of the sentence. If the last character is not a full stop (DARI), it appends one. If the last character is already a full stop, no error will occur. Therefore, the `try-except` block is redundant, and the code can be simplified to just the `if` statement.\n",
    "\n",
    "It is important to note that the code relies on an external library `bnunicodenormalizer`, which is used for Bengali Unicode normalization. Ensure that you have installed this library and imported it correctly for the code to work as intended. Additionally, the code may not handle all edge cases and may need further refinement depending on the specific use case.\n",
    "\"\"\";"
   ]
  },
  {
   "cell_type": "code",
   "execution_count": 11,
   "id": "29ba9c43",
   "metadata": {
    "execution": {
     "iopub.execute_input": "2023-08-01T02:31:34.247961Z",
     "iopub.status.busy": "2023-08-01T02:31:34.247148Z",
     "iopub.status.idle": "2023-08-01T02:31:34.253630Z",
     "shell.execute_reply": "2023-08-01T02:31:34.252741Z"
    },
    "papermill": {
     "duration": 0.022999,
     "end_time": "2023-08-01T02:31:34.256644",
     "exception": false,
     "start_time": "2023-08-01T02:31:34.233645",
     "status": "completed"
    },
    "tags": []
   },
   "outputs": [],
   "source": [
    "def post_process_keys(str):\n",
    "    return str.replace(\"../input/test-wav-files-dl-sprint/test_files_wav/\",\"\").replace(\".wav\",\".mp3\")\n",
    "\n",
    "\"\"\"\n",
    "The function `post_process_keys(str)` appears to be a post-processing function designed to modify and clean up file paths or keys (strings) related to audio files.\n",
    "\n",
    "Let's break down the function:\n",
    "\n",
    "1. `str.replace(\"../input/test-wav-files-dl-sprint/test_files_wav/\", \"\")`: This line of code replaces the substring `../input/test-wav-files-dl-sprint/test_files_wav/` with an empty string in the input `str`. This is essentially removing the specified prefix from the string.\n",
    "\n",
    "2. `.replace(\".wav\", \".mp3\")`: After removing the prefix in the previous step, this line replaces the substring `.wav` with `.mp3` in the remaining string. This is essentially changing the file extension of the audio file from WAV to MP3.\n",
    "\n",
    "The purpose of this function seems to be converting file paths or keys of WAV audio files to corresponding MP3 file paths or keys, possibly for further processing or handling of the audio data.\n",
    "\n",
    "It is important to note that modifying file paths or keys using string replacement can be error-prone, especially if the paths are not in the exact format expected by the function. Ensure that the input `str` matches the expected format, or consider adding error handling to handle unexpected inputs more gracefully. Additionally, if this function is used in a larger codebase, it's a good practice to choose a more descriptive name for the function than `post_process_keys` to reflect its specific purpose.\n",
    "\"\"\";"
   ]
  },
  {
   "cell_type": "code",
   "execution_count": 12,
   "id": "b0bcf252",
   "metadata": {
    "execution": {
     "iopub.execute_input": "2023-08-01T02:31:34.285087Z",
     "iopub.status.busy": "2023-08-01T02:31:34.284774Z",
     "iopub.status.idle": "2023-08-01T02:31:34.296754Z",
     "shell.execute_reply": "2023-08-01T02:31:34.295811Z"
    },
    "papermill": {
     "duration": 0.027393,
     "end_time": "2023-08-01T02:31:34.298673",
     "exception": false,
     "start_time": "2023-08-01T02:31:34.271280",
     "status": "completed"
    },
    "tags": []
   },
   "outputs": [],
   "source": [
    "def directory_infer(audio_dir):\n",
    "    '''\n",
    "    infers on a directory that contains audio files\n",
    "    args:\n",
    "      audio_dir  : directory that contains some audio files <string>\n",
    "    returns:\n",
    "      a dataframe that contains 2 columns:\n",
    "        * path <string>\n",
    "        * sentence <string>\n",
    "    '''\n",
    "    # list all audio files\n",
    "\n",
    "    audio_paths=[audio_path for audio_path in tqdm(glob(os.path.join(audio_dir,\"*.*\")))]\n",
    "    files = os.listdir(\"/kaggle/input/bengaliai-speech/test_mp3s\")\n",
    "    paths = []\n",
    "    for i in files:\n",
    "        paths.append(i.split(\".\")[0])\n",
    "    sentences=[]\n",
    "    for idx in tqdm(range(0,len(audio_paths),BATCH_SIZE)):\n",
    "        batch_paths=audio_paths[idx:idx+BATCH_SIZE]\n",
    "        sentences+=batch_infer(batch_paths)\n",
    "        \n",
    "    df= pd.DataFrame({\"id\":paths,\"sentence\":sentences})\n",
    "    df.sentence= df.sentence.apply(lambda x:normalize(x))\n",
    "    #df.sentence= df.sentence.apply(lambda x:dari(x))\n",
    "    df['id'] = df['id'].apply(lambda x: post_process_keys(x))\n",
    "    \n",
    "    return df \n",
    "\"\"\"\n",
    "The function `directory_infer(audio_dir)` performs inference on a directory that contains audio files. It processes the audio files in batches using the `batch_infer` function and returns the results as a DataFrame with two columns: \"id\" and \"sentence\".\n",
    "\n",
    "Let's break down the function step-by-step:\n",
    "\n",
    "1. `audio_paths = [audio_path for audio_path in tqdm(glob(os.path.join(audio_dir, \"*.*\")))]`: This line lists all the audio files in the specified `audio_dir` directory using the `glob` function. It filters all files with any extension (`*.*`) and stores their paths in the `audio_paths` list.\n",
    "\n",
    "2. `files = os.listdir(\"/kaggle/input/bengaliai-speech/test_mp3s\")`: This line seems to list all files in the directory \"/kaggle/input/bengaliai-speech/test_mp3s\" (hardcoded path). However, this line appears to be redundant and not directly related to the `audio_dir` parameter.\n",
    "\n",
    "3. `paths = []`: Initializes an empty list named `paths` to store the extracted \"id\" values from the filenames.\n",
    "\n",
    "4. `for i in files:`: This loop iterates through each filename in the `files` list (from step 2).\n",
    "\n",
    "5. `paths.append(i.split(\".\")[0])`: It splits each filename by the dot (.) and takes the first part to get the \"id\" value. The \"id\" values are then appended to the `paths` list.\n",
    "\n",
    "6. `sentences = []`: Initializes an empty list named `sentences` to store the predicted sentences from the ASR (Automatic Speech Recognition) model.\n",
    "\n",
    "7. `for idx in tqdm(range(0, len(audio_paths), BATCH_SIZE)):`: This loop iterates through the `audio_paths` list in batches of size `BATCH_SIZE` (assuming `BATCH_SIZE` is defined elsewhere).\n",
    "\n",
    "8. `batch_paths = audio_paths[idx:idx + BATCH_SIZE]`: Extracts a batch of audio file paths from `audio_paths`.\n",
    "\n",
    "9. `sentences += batch_infer(batch_paths)`: Calls the `batch_infer` function with the current batch of audio file paths and adds the predicted sentences to the `sentences` list.\n",
    "\n",
    "10. `df = pd.DataFrame({\"id\": paths, \"sentence\": sentences})`: Creates a DataFrame (`df`) using the \"id\" values from step 5 and the predicted sentences obtained from ASR in step 9.\n",
    "\n",
    "11. `df.sentence = df.sentence.apply(lambda x: normalize(x))`: Applies the `normalize` function to each sentence in the \"sentence\" column of the DataFrame. This function normalizes Bengali sentences, as explained in a previous response.\n",
    "\n",
    "12. `df['id'] = df['id'].apply(lambda x: post_process_keys(x))`: Applies the `post_process_keys` function to each \"id\" value in the DataFrame. This function modifies the \"id\" values, as explained in a previous response.\n",
    "\n",
    "13. `return df`: The function returns the DataFrame `df`, which contains the \"id\" and \"sentence\" columns with the processed data.\n",
    "\n",
    "It is important to note that the provided code references `BATCH_SIZE`, which is not defined in the given snippet. For this code to work correctly, `BATCH_SIZE` should be defined earlier in the code or imported from an external module. Additionally, some parts of the code (e.g., the lines related to `files`) appear to be specific to a Kaggle environment and may need modification if used in a different context.\n",
    "\"\"\";"
   ]
  },
  {
   "cell_type": "code",
   "execution_count": 13,
   "id": "54e140fd",
   "metadata": {
    "execution": {
     "iopub.execute_input": "2023-08-01T02:31:34.325008Z",
     "iopub.status.busy": "2023-08-01T02:31:34.324250Z",
     "iopub.status.idle": "2023-08-01T02:31:47.190297Z",
     "shell.execute_reply": "2023-08-01T02:31:47.189364Z"
    },
    "papermill": {
     "duration": 12.881231,
     "end_time": "2023-08-01T02:31:47.192352",
     "exception": false,
     "start_time": "2023-08-01T02:31:34.311121",
     "status": "completed"
    },
    "tags": []
   },
   "outputs": [
    {
     "data": {
      "application/vnd.jupyter.widget-view+json": {
       "model_id": "bc674b48fab24c3e8592d241b40b8b20",
       "version_major": 2,
       "version_minor": 0
      },
      "text/plain": [
       "  0%|          | 0/3 [00:00<?, ?it/s]"
      ]
     },
     "metadata": {},
     "output_type": "display_data"
    },
    {
     "data": {
      "application/vnd.jupyter.widget-view+json": {
       "model_id": "4bf87231cd96484e996d5ca096766c9a",
       "version_major": 2,
       "version_minor": 0
      },
      "text/plain": [
       "  0%|          | 0/3 [00:00<?, ?it/s]"
      ]
     },
     "metadata": {},
     "output_type": "display_data"
    },
    {
     "data": {
      "text/html": [
       "<div>\n",
       "<style scoped>\n",
       "    .dataframe tbody tr th:only-of-type {\n",
       "        vertical-align: middle;\n",
       "    }\n",
       "\n",
       "    .dataframe tbody tr th {\n",
       "        vertical-align: top;\n",
       "    }\n",
       "\n",
       "    .dataframe thead th {\n",
       "        text-align: right;\n",
       "    }\n",
       "</style>\n",
       "<table border=\"1\" class=\"dataframe\">\n",
       "  <thead>\n",
       "    <tr style=\"text-align: right;\">\n",
       "      <th></th>\n",
       "      <th>id</th>\n",
       "      <th>sentence</th>\n",
       "    </tr>\n",
       "  </thead>\n",
       "  <tbody>\n",
       "    <tr>\n",
       "      <th>0</th>\n",
       "      <td>a9395e01ad21</td>\n",
       "      <td>কী কারণে তুমি এতাবৎ কাল পর্যন্ত এ দারুন দৈব দু...</td>\n",
       "    </tr>\n",
       "    <tr>\n",
       "      <th>1</th>\n",
       "      <td>0f3dac00655e</td>\n",
       "      <td>একটু বয়স হলে একটি বিদেশি।</td>\n",
       "    </tr>\n",
       "    <tr>\n",
       "      <th>2</th>\n",
       "      <td>bf36ea8b718d</td>\n",
       "      <td>এ কারণে সরকার নির্ধারিত হারে পরিবহন জনিত ক্ষতি...</td>\n",
       "    </tr>\n",
       "  </tbody>\n",
       "</table>\n",
       "</div>"
      ],
      "text/plain": [
       "             id                                           sentence\n",
       "0  a9395e01ad21  কী কারণে তুমি এতাবৎ কাল পর্যন্ত এ দারুন দৈব দু...\n",
       "1  0f3dac00655e                          একটু বয়স হলে একটি বিদেশি।\n",
       "2  bf36ea8b718d  এ কারণে সরকার নির্ধারিত হারে পরিবহন জনিত ক্ষতি..."
      ]
     },
     "execution_count": 13,
     "metadata": {},
     "output_type": "execute_result"
    }
   ],
   "source": [
    "submission = directory_infer(TEST_DIRECTORY)\n",
    "submission.head()"
   ]
  },
  {
   "cell_type": "code",
   "execution_count": 14,
   "id": "00854506",
   "metadata": {
    "execution": {
     "iopub.execute_input": "2023-08-01T02:31:47.222040Z",
     "iopub.status.busy": "2023-08-01T02:31:47.220011Z",
     "iopub.status.idle": "2023-08-01T02:31:47.226446Z",
     "shell.execute_reply": "2023-08-01T02:31:47.225545Z"
    },
    "papermill": {
     "duration": 0.022382,
     "end_time": "2023-08-01T02:31:47.228405",
     "exception": false,
     "start_time": "2023-08-01T02:31:47.206023",
     "status": "completed"
    },
    "tags": []
   },
   "outputs": [],
   "source": [
    "def check(sentence):\n",
    "    if len(sentence)==0:\n",
    "        return '।'\n",
    "    return sentence"
   ]
  },
  {
   "cell_type": "code",
   "execution_count": 15,
   "id": "5789d430",
   "metadata": {
    "execution": {
     "iopub.execute_input": "2023-08-01T02:31:47.256527Z",
     "iopub.status.busy": "2023-08-01T02:31:47.255097Z",
     "iopub.status.idle": "2023-08-01T02:31:47.260716Z",
     "shell.execute_reply": "2023-08-01T02:31:47.259810Z"
    },
    "papermill": {
     "duration": 0.021726,
     "end_time": "2023-08-01T02:31:47.262821",
     "exception": false,
     "start_time": "2023-08-01T02:31:47.241095",
     "status": "completed"
    },
    "tags": []
   },
   "outputs": [],
   "source": [
    "submission.sentence = submission.sentence.apply(lambda x:check(x))"
   ]
  },
  {
   "cell_type": "code",
   "execution_count": 16,
   "id": "afc43901",
   "metadata": {
    "execution": {
     "iopub.execute_input": "2023-08-01T02:31:47.290444Z",
     "iopub.status.busy": "2023-08-01T02:31:47.290151Z",
     "iopub.status.idle": "2023-08-01T02:31:47.298603Z",
     "shell.execute_reply": "2023-08-01T02:31:47.297732Z"
    },
    "papermill": {
     "duration": 0.024523,
     "end_time": "2023-08-01T02:31:47.300601",
     "exception": false,
     "start_time": "2023-08-01T02:31:47.276078",
     "status": "completed"
    },
    "tags": []
   },
   "outputs": [],
   "source": [
    "submission.to_csv(\"submission.csv\", index=False)"
   ]
  },
  {
   "cell_type": "markdown",
   "id": "d42555b6",
   "metadata": {
    "execution": {
     "iopub.execute_input": "2023-07-31T14:34:25.679144Z",
     "iopub.status.busy": "2023-07-31T14:34:25.678782Z",
     "iopub.status.idle": "2023-07-31T14:34:25.694089Z",
     "shell.execute_reply": "2023-07-31T14:34:25.692880Z",
     "shell.execute_reply.started": "2023-07-31T14:34:25.679113Z"
    },
    "papermill": {
     "duration": 0.012535,
     "end_time": "2023-08-01T02:31:47.325999",
     "exception": false,
     "start_time": "2023-08-01T02:31:47.313464",
     "status": "completed"
    },
    "tags": []
   },
   "source": [
    "##### This notebook is a fork of [this notebook](https://www.kaggle.com/code/mbmmurad/lb-0-506-inference-w-previous-comp-winner-s-model/notebook).\n",
    "\n",
    "💗This notebook has made some annotations on the original code. If it is useful to you, please click like. Thank you!💗"
   ]
  }
 ],
 "metadata": {
  "kernelspec": {
   "display_name": "Python 3",
   "language": "python",
   "name": "python3"
  },
  "language_info": {
   "codemirror_mode": {
    "name": "ipython",
    "version": 3
   },
   "file_extension": ".py",
   "mimetype": "text/x-python",
   "name": "python",
   "nbconvert_exporter": "python",
   "pygments_lexer": "ipython3",
   "version": "3.10.12"
  },
  "papermill": {
   "default_parameters": {},
   "duration": 252.514151,
   "end_time": "2023-08-01T02:31:50.463837",
   "environment_variables": {},
   "exception": null,
   "input_path": "__notebook__.ipynb",
   "output_path": "__notebook__.ipynb",
   "parameters": {},
   "start_time": "2023-08-01T02:27:37.949686",
   "version": "2.4.0"
  },
  "widgets": {
   "application/vnd.jupyter.widget-state+json": {
    "state": {
     "044d8e4431ac41d9a55ecb4d522b7670": {
      "model_module": "@jupyter-widgets/controls",
      "model_module_version": "1.5.0",
      "model_name": "FloatProgressModel",
      "state": {
       "_dom_classes": [],
       "_model_module": "@jupyter-widgets/controls",
       "_model_module_version": "1.5.0",
       "_model_name": "FloatProgressModel",
       "_view_count": null,
       "_view_module": "@jupyter-widgets/controls",
       "_view_module_version": "1.5.0",
       "_view_name": "ProgressView",
       "bar_style": "success",
       "description": "",
       "description_tooltip": null,
       "layout": "IPY_MODEL_bc01e80c587248729bacaba29a688003",
       "max": 3.0,
       "min": 0.0,
       "orientation": "horizontal",
       "style": "IPY_MODEL_d49b5316e5e34079b5f112b34ec53cd4",
       "value": 3.0
      }
     },
     "1be0037a42de428a92c3da1338e003eb": {
      "model_module": "@jupyter-widgets/controls",
      "model_module_version": "1.5.0",
      "model_name": "HTMLModel",
      "state": {
       "_dom_classes": [],
       "_model_module": "@jupyter-widgets/controls",
       "_model_module_version": "1.5.0",
       "_model_name": "HTMLModel",
       "_view_count": null,
       "_view_module": "@jupyter-widgets/controls",
       "_view_module_version": "1.5.0",
       "_view_name": "HTMLView",
       "description": "",
       "description_tooltip": null,
       "layout": "IPY_MODEL_28c12762cc5f4be5b5ddbce8a613907d",
       "placeholder": "​",
       "style": "IPY_MODEL_ff808b52075e42498ec82ce04903f786",
       "value": "100%"
      }
     },
     "1f8586711c574a47874c0fa4aa43eb31": {
      "model_module": "@jupyter-widgets/controls",
      "model_module_version": "1.5.0",
      "model_name": "ProgressStyleModel",
      "state": {
       "_model_module": "@jupyter-widgets/controls",
       "_model_module_version": "1.5.0",
       "_model_name": "ProgressStyleModel",
       "_view_count": null,
       "_view_module": "@jupyter-widgets/base",
       "_view_module_version": "1.2.0",
       "_view_name": "StyleView",
       "bar_color": null,
       "description_width": ""
      }
     },
     "28c12762cc5f4be5b5ddbce8a613907d": {
      "model_module": "@jupyter-widgets/base",
      "model_module_version": "1.2.0",
      "model_name": "LayoutModel",
      "state": {
       "_model_module": "@jupyter-widgets/base",
       "_model_module_version": "1.2.0",
       "_model_name": "LayoutModel",
       "_view_count": null,
       "_view_module": "@jupyter-widgets/base",
       "_view_module_version": "1.2.0",
       "_view_name": "LayoutView",
       "align_content": null,
       "align_items": null,
       "align_self": null,
       "border": null,
       "bottom": null,
       "display": null,
       "flex": null,
       "flex_flow": null,
       "grid_area": null,
       "grid_auto_columns": null,
       "grid_auto_flow": null,
       "grid_auto_rows": null,
       "grid_column": null,
       "grid_gap": null,
       "grid_row": null,
       "grid_template_areas": null,
       "grid_template_columns": null,
       "grid_template_rows": null,
       "height": null,
       "justify_content": null,
       "justify_items": null,
       "left": null,
       "margin": null,
       "max_height": null,
       "max_width": null,
       "min_height": null,
       "min_width": null,
       "object_fit": null,
       "object_position": null,
       "order": null,
       "overflow": null,
       "overflow_x": null,
       "overflow_y": null,
       "padding": null,
       "right": null,
       "top": null,
       "visibility": null,
       "width": null
      }
     },
     "4bf87231cd96484e996d5ca096766c9a": {
      "model_module": "@jupyter-widgets/controls",
      "model_module_version": "1.5.0",
      "model_name": "HBoxModel",
      "state": {
       "_dom_classes": [],
       "_model_module": "@jupyter-widgets/controls",
       "_model_module_version": "1.5.0",
       "_model_name": "HBoxModel",
       "_view_count": null,
       "_view_module": "@jupyter-widgets/controls",
       "_view_module_version": "1.5.0",
       "_view_name": "HBoxView",
       "box_style": "",
       "children": [
        "IPY_MODEL_ac2906ba314d430c88e93a2d9d088f18",
        "IPY_MODEL_044d8e4431ac41d9a55ecb4d522b7670",
        "IPY_MODEL_6c04cf9d49c24d6697f752fda768dcc8"
       ],
       "layout": "IPY_MODEL_bba88f8f18034454b917378ea02057bd"
      }
     },
     "4d4356cdb1784b018f21894d952654c3": {
      "model_module": "@jupyter-widgets/base",
      "model_module_version": "1.2.0",
      "model_name": "LayoutModel",
      "state": {
       "_model_module": "@jupyter-widgets/base",
       "_model_module_version": "1.2.0",
       "_model_name": "LayoutModel",
       "_view_count": null,
       "_view_module": "@jupyter-widgets/base",
       "_view_module_version": "1.2.0",
       "_view_name": "LayoutView",
       "align_content": null,
       "align_items": null,
       "align_self": null,
       "border": null,
       "bottom": null,
       "display": null,
       "flex": null,
       "flex_flow": null,
       "grid_area": null,
       "grid_auto_columns": null,
       "grid_auto_flow": null,
       "grid_auto_rows": null,
       "grid_column": null,
       "grid_gap": null,
       "grid_row": null,
       "grid_template_areas": null,
       "grid_template_columns": null,
       "grid_template_rows": null,
       "height": null,
       "justify_content": null,
       "justify_items": null,
       "left": null,
       "margin": null,
       "max_height": null,
       "max_width": null,
       "min_height": null,
       "min_width": null,
       "object_fit": null,
       "object_position": null,
       "order": null,
       "overflow": null,
       "overflow_x": null,
       "overflow_y": null,
       "padding": null,
       "right": null,
       "top": null,
       "visibility": null,
       "width": null
      }
     },
     "64b36888ffdd4dd1b1567933f8042b9a": {
      "model_module": "@jupyter-widgets/controls",
      "model_module_version": "1.5.0",
      "model_name": "DescriptionStyleModel",
      "state": {
       "_model_module": "@jupyter-widgets/controls",
       "_model_module_version": "1.5.0",
       "_model_name": "DescriptionStyleModel",
       "_view_count": null,
       "_view_module": "@jupyter-widgets/base",
       "_view_module_version": "1.2.0",
       "_view_name": "StyleView",
       "description_width": ""
      }
     },
     "6a17cfc6f5c94181ba48321801aacafc": {
      "model_module": "@jupyter-widgets/base",
      "model_module_version": "1.2.0",
      "model_name": "LayoutModel",
      "state": {
       "_model_module": "@jupyter-widgets/base",
       "_model_module_version": "1.2.0",
       "_model_name": "LayoutModel",
       "_view_count": null,
       "_view_module": "@jupyter-widgets/base",
       "_view_module_version": "1.2.0",
       "_view_name": "LayoutView",
       "align_content": null,
       "align_items": null,
       "align_self": null,
       "border": null,
       "bottom": null,
       "display": null,
       "flex": null,
       "flex_flow": null,
       "grid_area": null,
       "grid_auto_columns": null,
       "grid_auto_flow": null,
       "grid_auto_rows": null,
       "grid_column": null,
       "grid_gap": null,
       "grid_row": null,
       "grid_template_areas": null,
       "grid_template_columns": null,
       "grid_template_rows": null,
       "height": null,
       "justify_content": null,
       "justify_items": null,
       "left": null,
       "margin": null,
       "max_height": null,
       "max_width": null,
       "min_height": null,
       "min_width": null,
       "object_fit": null,
       "object_position": null,
       "order": null,
       "overflow": null,
       "overflow_x": null,
       "overflow_y": null,
       "padding": null,
       "right": null,
       "top": null,
       "visibility": null,
       "width": null
      }
     },
     "6c04cf9d49c24d6697f752fda768dcc8": {
      "model_module": "@jupyter-widgets/controls",
      "model_module_version": "1.5.0",
      "model_name": "HTMLModel",
      "state": {
       "_dom_classes": [],
       "_model_module": "@jupyter-widgets/controls",
       "_model_module_version": "1.5.0",
       "_model_name": "HTMLModel",
       "_view_count": null,
       "_view_module": "@jupyter-widgets/controls",
       "_view_module_version": "1.5.0",
       "_view_name": "HTMLView",
       "description": "",
       "description_tooltip": null,
       "layout": "IPY_MODEL_7de5e68e29244467a44733ba84b94ec4",
       "placeholder": "​",
       "style": "IPY_MODEL_a1652c7f0caa4359b83f920a8022b9dd",
       "value": " 3/3 [00:12&lt;00:00,  3.33s/it]"
      }
     },
     "7de5e68e29244467a44733ba84b94ec4": {
      "model_module": "@jupyter-widgets/base",
      "model_module_version": "1.2.0",
      "model_name": "LayoutModel",
      "state": {
       "_model_module": "@jupyter-widgets/base",
       "_model_module_version": "1.2.0",
       "_model_name": "LayoutModel",
       "_view_count": null,
       "_view_module": "@jupyter-widgets/base",
       "_view_module_version": "1.2.0",
       "_view_name": "LayoutView",
       "align_content": null,
       "align_items": null,
       "align_self": null,
       "border": null,
       "bottom": null,
       "display": null,
       "flex": null,
       "flex_flow": null,
       "grid_area": null,
       "grid_auto_columns": null,
       "grid_auto_flow": null,
       "grid_auto_rows": null,
       "grid_column": null,
       "grid_gap": null,
       "grid_row": null,
       "grid_template_areas": null,
       "grid_template_columns": null,
       "grid_template_rows": null,
       "height": null,
       "justify_content": null,
       "justify_items": null,
       "left": null,
       "margin": null,
       "max_height": null,
       "max_width": null,
       "min_height": null,
       "min_width": null,
       "object_fit": null,
       "object_position": null,
       "order": null,
       "overflow": null,
       "overflow_x": null,
       "overflow_y": null,
       "padding": null,
       "right": null,
       "top": null,
       "visibility": null,
       "width": null
      }
     },
     "906288185c804af4b8941e2787ffe335": {
      "model_module": "@jupyter-widgets/controls",
      "model_module_version": "1.5.0",
      "model_name": "HTMLModel",
      "state": {
       "_dom_classes": [],
       "_model_module": "@jupyter-widgets/controls",
       "_model_module_version": "1.5.0",
       "_model_name": "HTMLModel",
       "_view_count": null,
       "_view_module": "@jupyter-widgets/controls",
       "_view_module_version": "1.5.0",
       "_view_name": "HTMLView",
       "description": "",
       "description_tooltip": null,
       "layout": "IPY_MODEL_9654f1a857e4464db3a742b3c54d57b4",
       "placeholder": "​",
       "style": "IPY_MODEL_64b36888ffdd4dd1b1567933f8042b9a",
       "value": " 3/3 [00:00&lt;00:00, 193.30it/s]"
      }
     },
     "910a88f519da4a2089120a30b5f40d11": {
      "model_module": "@jupyter-widgets/controls",
      "model_module_version": "1.5.0",
      "model_name": "FloatProgressModel",
      "state": {
       "_dom_classes": [],
       "_model_module": "@jupyter-widgets/controls",
       "_model_module_version": "1.5.0",
       "_model_name": "FloatProgressModel",
       "_view_count": null,
       "_view_module": "@jupyter-widgets/controls",
       "_view_module_version": "1.5.0",
       "_view_name": "ProgressView",
       "bar_style": "success",
       "description": "",
       "description_tooltip": null,
       "layout": "IPY_MODEL_99a5b4c7df204b1bb36e85667cf6d429",
       "max": 3.0,
       "min": 0.0,
       "orientation": "horizontal",
       "style": "IPY_MODEL_1f8586711c574a47874c0fa4aa43eb31",
       "value": 3.0
      }
     },
     "9654f1a857e4464db3a742b3c54d57b4": {
      "model_module": "@jupyter-widgets/base",
      "model_module_version": "1.2.0",
      "model_name": "LayoutModel",
      "state": {
       "_model_module": "@jupyter-widgets/base",
       "_model_module_version": "1.2.0",
       "_model_name": "LayoutModel",
       "_view_count": null,
       "_view_module": "@jupyter-widgets/base",
       "_view_module_version": "1.2.0",
       "_view_name": "LayoutView",
       "align_content": null,
       "align_items": null,
       "align_self": null,
       "border": null,
       "bottom": null,
       "display": null,
       "flex": null,
       "flex_flow": null,
       "grid_area": null,
       "grid_auto_columns": null,
       "grid_auto_flow": null,
       "grid_auto_rows": null,
       "grid_column": null,
       "grid_gap": null,
       "grid_row": null,
       "grid_template_areas": null,
       "grid_template_columns": null,
       "grid_template_rows": null,
       "height": null,
       "justify_content": null,
       "justify_items": null,
       "left": null,
       "margin": null,
       "max_height": null,
       "max_width": null,
       "min_height": null,
       "min_width": null,
       "object_fit": null,
       "object_position": null,
       "order": null,
       "overflow": null,
       "overflow_x": null,
       "overflow_y": null,
       "padding": null,
       "right": null,
       "top": null,
       "visibility": null,
       "width": null
      }
     },
     "99a5b4c7df204b1bb36e85667cf6d429": {
      "model_module": "@jupyter-widgets/base",
      "model_module_version": "1.2.0",
      "model_name": "LayoutModel",
      "state": {
       "_model_module": "@jupyter-widgets/base",
       "_model_module_version": "1.2.0",
       "_model_name": "LayoutModel",
       "_view_count": null,
       "_view_module": "@jupyter-widgets/base",
       "_view_module_version": "1.2.0",
       "_view_name": "LayoutView",
       "align_content": null,
       "align_items": null,
       "align_self": null,
       "border": null,
       "bottom": null,
       "display": null,
       "flex": null,
       "flex_flow": null,
       "grid_area": null,
       "grid_auto_columns": null,
       "grid_auto_flow": null,
       "grid_auto_rows": null,
       "grid_column": null,
       "grid_gap": null,
       "grid_row": null,
       "grid_template_areas": null,
       "grid_template_columns": null,
       "grid_template_rows": null,
       "height": null,
       "justify_content": null,
       "justify_items": null,
       "left": null,
       "margin": null,
       "max_height": null,
       "max_width": null,
       "min_height": null,
       "min_width": null,
       "object_fit": null,
       "object_position": null,
       "order": null,
       "overflow": null,
       "overflow_x": null,
       "overflow_y": null,
       "padding": null,
       "right": null,
       "top": null,
       "visibility": null,
       "width": null
      }
     },
     "9c43324ef613443caec301894bc590b2": {
      "model_module": "@jupyter-widgets/controls",
      "model_module_version": "1.5.0",
      "model_name": "DescriptionStyleModel",
      "state": {
       "_model_module": "@jupyter-widgets/controls",
       "_model_module_version": "1.5.0",
       "_model_name": "DescriptionStyleModel",
       "_view_count": null,
       "_view_module": "@jupyter-widgets/base",
       "_view_module_version": "1.2.0",
       "_view_name": "StyleView",
       "description_width": ""
      }
     },
     "a1652c7f0caa4359b83f920a8022b9dd": {
      "model_module": "@jupyter-widgets/controls",
      "model_module_version": "1.5.0",
      "model_name": "DescriptionStyleModel",
      "state": {
       "_model_module": "@jupyter-widgets/controls",
       "_model_module_version": "1.5.0",
       "_model_name": "DescriptionStyleModel",
       "_view_count": null,
       "_view_module": "@jupyter-widgets/base",
       "_view_module_version": "1.2.0",
       "_view_name": "StyleView",
       "description_width": ""
      }
     },
     "ac2906ba314d430c88e93a2d9d088f18": {
      "model_module": "@jupyter-widgets/controls",
      "model_module_version": "1.5.0",
      "model_name": "HTMLModel",
      "state": {
       "_dom_classes": [],
       "_model_module": "@jupyter-widgets/controls",
       "_model_module_version": "1.5.0",
       "_model_name": "HTMLModel",
       "_view_count": null,
       "_view_module": "@jupyter-widgets/controls",
       "_view_module_version": "1.5.0",
       "_view_name": "HTMLView",
       "description": "",
       "description_tooltip": null,
       "layout": "IPY_MODEL_4d4356cdb1784b018f21894d952654c3",
       "placeholder": "​",
       "style": "IPY_MODEL_9c43324ef613443caec301894bc590b2",
       "value": "100%"
      }
     },
     "bba88f8f18034454b917378ea02057bd": {
      "model_module": "@jupyter-widgets/base",
      "model_module_version": "1.2.0",
      "model_name": "LayoutModel",
      "state": {
       "_model_module": "@jupyter-widgets/base",
       "_model_module_version": "1.2.0",
       "_model_name": "LayoutModel",
       "_view_count": null,
       "_view_module": "@jupyter-widgets/base",
       "_view_module_version": "1.2.0",
       "_view_name": "LayoutView",
       "align_content": null,
       "align_items": null,
       "align_self": null,
       "border": null,
       "bottom": null,
       "display": null,
       "flex": null,
       "flex_flow": null,
       "grid_area": null,
       "grid_auto_columns": null,
       "grid_auto_flow": null,
       "grid_auto_rows": null,
       "grid_column": null,
       "grid_gap": null,
       "grid_row": null,
       "grid_template_areas": null,
       "grid_template_columns": null,
       "grid_template_rows": null,
       "height": null,
       "justify_content": null,
       "justify_items": null,
       "left": null,
       "margin": null,
       "max_height": null,
       "max_width": null,
       "min_height": null,
       "min_width": null,
       "object_fit": null,
       "object_position": null,
       "order": null,
       "overflow": null,
       "overflow_x": null,
       "overflow_y": null,
       "padding": null,
       "right": null,
       "top": null,
       "visibility": null,
       "width": null
      }
     },
     "bc01e80c587248729bacaba29a688003": {
      "model_module": "@jupyter-widgets/base",
      "model_module_version": "1.2.0",
      "model_name": "LayoutModel",
      "state": {
       "_model_module": "@jupyter-widgets/base",
       "_model_module_version": "1.2.0",
       "_model_name": "LayoutModel",
       "_view_count": null,
       "_view_module": "@jupyter-widgets/base",
       "_view_module_version": "1.2.0",
       "_view_name": "LayoutView",
       "align_content": null,
       "align_items": null,
       "align_self": null,
       "border": null,
       "bottom": null,
       "display": null,
       "flex": null,
       "flex_flow": null,
       "grid_area": null,
       "grid_auto_columns": null,
       "grid_auto_flow": null,
       "grid_auto_rows": null,
       "grid_column": null,
       "grid_gap": null,
       "grid_row": null,
       "grid_template_areas": null,
       "grid_template_columns": null,
       "grid_template_rows": null,
       "height": null,
       "justify_content": null,
       "justify_items": null,
       "left": null,
       "margin": null,
       "max_height": null,
       "max_width": null,
       "min_height": null,
       "min_width": null,
       "object_fit": null,
       "object_position": null,
       "order": null,
       "overflow": null,
       "overflow_x": null,
       "overflow_y": null,
       "padding": null,
       "right": null,
       "top": null,
       "visibility": null,
       "width": null
      }
     },
     "bc674b48fab24c3e8592d241b40b8b20": {
      "model_module": "@jupyter-widgets/controls",
      "model_module_version": "1.5.0",
      "model_name": "HBoxModel",
      "state": {
       "_dom_classes": [],
       "_model_module": "@jupyter-widgets/controls",
       "_model_module_version": "1.5.0",
       "_model_name": "HBoxModel",
       "_view_count": null,
       "_view_module": "@jupyter-widgets/controls",
       "_view_module_version": "1.5.0",
       "_view_name": "HBoxView",
       "box_style": "",
       "children": [
        "IPY_MODEL_1be0037a42de428a92c3da1338e003eb",
        "IPY_MODEL_910a88f519da4a2089120a30b5f40d11",
        "IPY_MODEL_906288185c804af4b8941e2787ffe335"
       ],
       "layout": "IPY_MODEL_6a17cfc6f5c94181ba48321801aacafc"
      }
     },
     "d49b5316e5e34079b5f112b34ec53cd4": {
      "model_module": "@jupyter-widgets/controls",
      "model_module_version": "1.5.0",
      "model_name": "ProgressStyleModel",
      "state": {
       "_model_module": "@jupyter-widgets/controls",
       "_model_module_version": "1.5.0",
       "_model_name": "ProgressStyleModel",
       "_view_count": null,
       "_view_module": "@jupyter-widgets/base",
       "_view_module_version": "1.2.0",
       "_view_name": "StyleView",
       "bar_color": null,
       "description_width": ""
      }
     },
     "ff808b52075e42498ec82ce04903f786": {
      "model_module": "@jupyter-widgets/controls",
      "model_module_version": "1.5.0",
      "model_name": "DescriptionStyleModel",
      "state": {
       "_model_module": "@jupyter-widgets/controls",
       "_model_module_version": "1.5.0",
       "_model_name": "DescriptionStyleModel",
       "_view_count": null,
       "_view_module": "@jupyter-widgets/base",
       "_view_module_version": "1.2.0",
       "_view_name": "StyleView",
       "description_width": ""
      }
     }
    },
    "version_major": 2,
    "version_minor": 0
   }
  }
 },
 "nbformat": 4,
 "nbformat_minor": 5
}
