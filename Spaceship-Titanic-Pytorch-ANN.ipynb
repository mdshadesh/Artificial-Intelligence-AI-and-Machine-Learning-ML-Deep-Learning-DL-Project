{
 "cells": [
  {
   "cell_type": "markdown",
   "id": "61f3dd61",
   "metadata": {
    "id": "ESaXEPCuLe1-",
    "papermill": {
     "duration": 0.013845,
     "end_time": "2024-03-23T07:38:43.796327",
     "exception": false,
     "start_time": "2024-03-23T07:38:43.782482",
     "status": "completed"
    },
    "tags": []
   },
   "source": [
    "# Importing Libraries"
   ]
  },
  {
   "cell_type": "code",
   "execution_count": 1,
   "id": "046f8aa9",
   "metadata": {
    "execution": {
     "iopub.execute_input": "2024-03-23T07:38:43.825515Z",
     "iopub.status.busy": "2024-03-23T07:38:43.824523Z",
     "iopub.status.idle": "2024-03-23T07:38:50.978534Z",
     "shell.execute_reply": "2024-03-23T07:38:50.977320Z"
    },
    "executionInfo": {
     "elapsed": 1,
     "status": "ok",
     "timestamp": 1711112155163,
     "user": {
      "displayName": "Manas Kumar",
      "userId": "04076534679003121888"
     },
     "user_tz": -330
    },
    "id": "1B14jA56hgZO",
    "papermill": {
     "duration": 7.172091,
     "end_time": "2024-03-23T07:38:50.981770",
     "exception": false,
     "start_time": "2024-03-23T07:38:43.809679",
     "status": "completed"
    },
    "tags": []
   },
   "outputs": [],
   "source": [
    "import os\n",
    "\n",
    "import numpy as np\n",
    "import pandas as pd\n",
    "import seaborn as sns\n",
    "\n",
    "import torch\n",
    "import torch.nn as nn\n",
    "import torch.nn.functional as F\n",
    "from torch.utils.data import Dataset, DataLoader, TensorDataset\n",
    "\n",
    "from scipy import stats\n",
    "\n",
    "from sklearn.model_selection import train_test_split\n",
    "from sklearn.preprocessing import LabelEncoder\n",
    "\n",
    "import matplotlib.pyplot as plt\n",
    "\n",
    "from tqdm import tqdm"
   ]
  },
  {
   "cell_type": "markdown",
   "id": "bfa0cfbd",
   "metadata": {
    "id": "5rf6AfPYLj2G",
    "papermill": {
     "duration": 0.013272,
     "end_time": "2024-03-23T07:38:51.008852",
     "exception": false,
     "start_time": "2024-03-23T07:38:50.995580",
     "status": "completed"
    },
    "tags": []
   },
   "source": [
    "# Kaggle Configurations"
   ]
  },
  {
   "cell_type": "code",
   "execution_count": 2,
   "id": "e47e18d7",
   "metadata": {
    "execution": {
     "iopub.execute_input": "2024-03-23T07:38:51.038131Z",
     "iopub.status.busy": "2024-03-23T07:38:51.037546Z",
     "iopub.status.idle": "2024-03-23T07:38:51.133847Z",
     "shell.execute_reply": "2024-03-23T07:38:51.132525Z"
    },
    "executionInfo": {
     "elapsed": 908,
     "status": "ok",
     "timestamp": 1711115666355,
     "user": {
      "displayName": "Manas Kumar",
      "userId": "04076534679003121888"
     },
     "user_tz": -330
    },
    "id": "Q6UXjiVji0s2",
    "papermill": {
     "duration": 0.114779,
     "end_time": "2024-03-23T07:38:51.136858",
     "exception": false,
     "start_time": "2024-03-23T07:38:51.022079",
     "status": "completed"
    },
    "tags": []
   },
   "outputs": [],
   "source": [
    "train_data = pd.read_csv('/kaggle/input/spaceship-titanic/train.csv')\n",
    "test_data = pd.read_csv('/kaggle/input/spaceship-titanic/test.csv')"
   ]
  },
  {
   "cell_type": "code",
   "execution_count": 3,
   "id": "57fbc592",
   "metadata": {
    "execution": {
     "iopub.execute_input": "2024-03-23T07:38:51.167792Z",
     "iopub.status.busy": "2024-03-23T07:38:51.166552Z",
     "iopub.status.idle": "2024-03-23T07:38:51.175190Z",
     "shell.execute_reply": "2024-03-23T07:38:51.173692Z"
    },
    "executionInfo": {
     "elapsed": 997,
     "status": "ok",
     "timestamp": 1711115667350,
     "user": {
      "displayName": "Manas Kumar",
      "userId": "04076534679003121888"
     },
     "user_tz": -330
    },
    "id": "E-qt-EGzbzUL",
    "outputId": "4b3e1fdb-39cc-4d8b-9f7a-68525d992d5a",
    "papermill": {
     "duration": 0.027224,
     "end_time": "2024-03-23T07:38:51.178105",
     "exception": false,
     "start_time": "2024-03-23T07:38:51.150881",
     "status": "completed"
    },
    "tags": []
   },
   "outputs": [
    {
     "data": {
      "text/plain": [
       "Index(['PassengerId', 'HomePlanet', 'CryoSleep', 'Cabin', 'Destination', 'Age',\n",
       "       'VIP', 'RoomService', 'FoodCourt', 'ShoppingMall', 'Spa', 'VRDeck',\n",
       "       'Name', 'Transported'],\n",
       "      dtype='object')"
      ]
     },
     "execution_count": 3,
     "metadata": {},
     "output_type": "execute_result"
    }
   ],
   "source": [
    "train_data.columns"
   ]
  },
  {
   "cell_type": "code",
   "execution_count": 4,
   "id": "b3e10e3a",
   "metadata": {
    "execution": {
     "iopub.execute_input": "2024-03-23T07:38:51.207865Z",
     "iopub.status.busy": "2024-03-23T07:38:51.206703Z",
     "iopub.status.idle": "2024-03-23T07:38:51.212065Z",
     "shell.execute_reply": "2024-03-23T07:38:51.211103Z"
    },
    "executionInfo": {
     "elapsed": 10,
     "status": "ok",
     "timestamp": 1711115667350,
     "user": {
      "displayName": "Manas Kumar",
      "userId": "04076534679003121888"
     },
     "user_tz": -330
    },
    "id": "PSrtVNDB00yw",
    "papermill": {
     "duration": 0.022846,
     "end_time": "2024-03-23T07:38:51.214543",
     "exception": false,
     "start_time": "2024-03-23T07:38:51.191697",
     "status": "completed"
    },
    "tags": []
   },
   "outputs": [],
   "source": [
    "target = 'Transported'"
   ]
  },
  {
   "cell_type": "markdown",
   "id": "433911f3",
   "metadata": {
    "id": "kJN-2bdCLwoH",
    "papermill": {
     "duration": 0.013693,
     "end_time": "2024-03-23T07:38:51.241682",
     "exception": false,
     "start_time": "2024-03-23T07:38:51.227989",
     "status": "completed"
    },
    "tags": []
   },
   "source": [
    "# Data Preprocessing"
   ]
  },
  {
   "cell_type": "code",
   "execution_count": 5,
   "id": "9bd460d9",
   "metadata": {
    "execution": {
     "iopub.execute_input": "2024-03-23T07:38:51.270834Z",
     "iopub.status.busy": "2024-03-23T07:38:51.270145Z",
     "iopub.status.idle": "2024-03-23T07:38:51.295000Z",
     "shell.execute_reply": "2024-03-23T07:38:51.293628Z"
    },
    "executionInfo": {
     "elapsed": 8,
     "status": "ok",
     "timestamp": 1711115667351,
     "user": {
      "displayName": "Manas Kumar",
      "userId": "04076534679003121888"
     },
     "user_tz": -330
    },
    "id": "nmmdM02OlifO",
    "outputId": "80c8d778-c68b-4129-b87f-07a9b2db5d9d",
    "papermill": {
     "duration": 0.042651,
     "end_time": "2024-03-23T07:38:51.297717",
     "exception": false,
     "start_time": "2024-03-23T07:38:51.255066",
     "status": "completed"
    },
    "tags": []
   },
   "outputs": [
    {
     "name": "stdout",
     "output_type": "stream",
     "text": [
      "unique(PassengerId) = 8693\n",
      "unique(HomePlanet) = 4\n",
      "unique(CryoSleep) = 3\n",
      "unique(Cabin) = 6561\n",
      "unique(Destination) = 4\n",
      "unique(Age) = 81\n",
      "unique(VIP) = 3\n",
      "unique(RoomService) = 1274\n",
      "unique(FoodCourt) = 1508\n",
      "unique(ShoppingMall) = 1116\n",
      "unique(Spa) = 1328\n",
      "unique(VRDeck) = 1307\n",
      "unique(Name) = 8474\n",
      "unique(Transported) = 2\n"
     ]
    }
   ],
   "source": [
    "for col in train_data.columns:\n",
    "  print(f'unique({col}) = {len(train_data[col].unique())}')"
   ]
  },
  {
   "cell_type": "code",
   "execution_count": 6,
   "id": "a517e53c",
   "metadata": {
    "execution": {
     "iopub.execute_input": "2024-03-23T07:38:51.328149Z",
     "iopub.status.busy": "2024-03-23T07:38:51.327753Z",
     "iopub.status.idle": "2024-03-23T07:38:51.468040Z",
     "shell.execute_reply": "2024-03-23T07:38:51.466511Z"
    },
    "executionInfo": {
     "elapsed": 6,
     "status": "ok",
     "timestamp": 1711115667351,
     "user": {
      "displayName": "Manas Kumar",
      "userId": "04076534679003121888"
     },
     "user_tz": -330
    },
    "id": "U0HHWVIVsAId",
    "papermill": {
     "duration": 0.158134,
     "end_time": "2024-03-23T07:38:51.470929",
     "exception": false,
     "start_time": "2024-03-23T07:38:51.312795",
     "status": "completed"
    },
    "tags": []
   },
   "outputs": [],
   "source": [
    "# Function to split 'Cabin' field\n",
    "def splitCabin(cabin):\n",
    "    if pd.isnull(cabin):\n",
    "        return pd.Series({'Deck': None, 'Num': None, 'Side': None})\n",
    "    else:\n",
    "        parts = cabin.split('/')\n",
    "        deck = parts[0]\n",
    "        num = parts[1]\n",
    "        side = parts[2]\n",
    "        return pd.Series({'Deck': deck, 'Num': num, 'Side': side})"
   ]
  },
  {
   "cell_type": "code",
   "execution_count": 7,
   "id": "6f9dc6d2",
   "metadata": {
    "execution": {
     "iopub.execute_input": "2024-03-23T07:38:51.502270Z",
     "iopub.status.busy": "2024-03-23T07:38:51.501108Z",
     "iopub.status.idle": "2024-03-23T07:38:51.514142Z",
     "shell.execute_reply": "2024-03-23T07:38:51.513203Z"
    },
    "executionInfo": {
     "elapsed": 6,
     "status": "ok",
     "timestamp": 1711115667351,
     "user": {
      "displayName": "Manas Kumar",
      "userId": "04076534679003121888"
     },
     "user_tz": -330
    },
    "id": "mX_V6nq7WtYx",
    "papermill": {
     "duration": 0.031569,
     "end_time": "2024-03-23T07:38:51.516620",
     "exception": false,
     "start_time": "2024-03-23T07:38:51.485051",
     "status": "completed"
    },
    "tags": []
   },
   "outputs": [],
   "source": [
    "def preprocessData(data: pd.DataFrame, isPred: bool = False):\n",
    "  # filling nan cells with appropriate values\n",
    "  data.Cabin.fillna('Z/0/N', inplace = True)\n",
    "  data.HomePlanet.fillna('NULL', inplace = True)\n",
    "  data.Destination.fillna('NULL', inplace = True)\n",
    "  data.Age.fillna(data.Age.mean(), inplace = True)\n",
    "  data.RoomService.fillna(data.RoomService.mean(), inplace = True)\n",
    "  data.FoodCourt.fillna(data.FoodCourt.mean(), inplace = True)\n",
    "  data.ShoppingMall.fillna(data.ShoppingMall.mean(), inplace = True)\n",
    "  data.Spa.fillna(data.Spa.mean(), inplace = True)\n",
    "  data.VRDeck.fillna(data.VRDeck.mean(), inplace = True)\n",
    "\n",
    "  data[['Deck', 'Num', 'Side']] = data['Cabin'].apply(splitCabin)\n",
    "\n",
    "  # removing unnecessary fields\n",
    "  data.drop(columns = ['PassengerId', 'Name', 'Cabin'], inplace = True)\n",
    "\n",
    "  # label encoding categorical fields\n",
    "  cols2labelEncode = ['HomePlanet', 'CryoSleep', 'Destination', 'VIP', 'Deck', 'Side']\n",
    "\n",
    "  if not isPred:\n",
    "    cols2labelEncode.append(target)\n",
    "\n",
    "  le = LabelEncoder()\n",
    "\n",
    "  for col in cols2labelEncode:\n",
    "    data[col] = le.fit_transform(data[col])\n",
    "\n",
    "  # zscoring all the fields\n",
    "  cols2zscore = data.keys()\n",
    "  if not isPred:\n",
    "    cols2zscore = cols2zscore.drop(target)\n",
    "  data[cols2zscore] = data[cols2zscore].astype(float).apply(stats.zscore)\n",
    "\n",
    "  return data"
   ]
  },
  {
   "cell_type": "code",
   "execution_count": 8,
   "id": "96a13846",
   "metadata": {
    "execution": {
     "iopub.execute_input": "2024-03-23T07:38:51.546580Z",
     "iopub.status.busy": "2024-03-23T07:38:51.545454Z",
     "iopub.status.idle": "2024-03-23T07:38:51.552688Z",
     "shell.execute_reply": "2024-03-23T07:38:51.551586Z"
    },
    "executionInfo": {
     "elapsed": 5,
     "status": "ok",
     "timestamp": 1711115667351,
     "user": {
      "displayName": "Manas Kumar",
      "userId": "04076534679003121888"
     },
     "user_tz": -330
    },
    "id": "Wo2pbzPU0JHS",
    "papermill": {
     "duration": 0.025487,
     "end_time": "2024-03-23T07:38:51.555625",
     "exception": false,
     "start_time": "2024-03-23T07:38:51.530138",
     "status": "completed"
    },
    "tags": []
   },
   "outputs": [],
   "source": [
    "def getFeaturesAndLabels(data: pd.DataFrame, isPred: bool = False):\n",
    "  fields = data.keys()\n",
    "  if not isPred:\n",
    "    fields = fields.drop(target)\n",
    "\n",
    "  features = data[fields].values.astype(float)\n",
    "  labels = torch.Tensor(len(features)) if isPred else data[target].values.astype(int)\n",
    "\n",
    "  # conversion to tensors\n",
    "  featuresT = torch.Tensor(features)\n",
    "  labelsT = torch.Tensor(labels)[:, None]\n",
    "\n",
    "  return featuresT, labelsT"
   ]
  },
  {
   "cell_type": "code",
   "execution_count": 9,
   "id": "18d982ed",
   "metadata": {
    "execution": {
     "iopub.execute_input": "2024-03-23T07:38:51.585773Z",
     "iopub.status.busy": "2024-03-23T07:38:51.585323Z",
     "iopub.status.idle": "2024-03-23T07:38:54.119047Z",
     "shell.execute_reply": "2024-03-23T07:38:54.117756Z"
    },
    "executionInfo": {
     "elapsed": 3196,
     "status": "ok",
     "timestamp": 1711115670542,
     "user": {
      "displayName": "Manas Kumar",
      "userId": "04076534679003121888"
     },
     "user_tz": -330
    },
    "id": "e2x0_JXGaCWl",
    "papermill": {
     "duration": 2.552606,
     "end_time": "2024-03-23T07:38:54.122211",
     "exception": false,
     "start_time": "2024-03-23T07:38:51.569605",
     "status": "completed"
    },
    "tags": []
   },
   "outputs": [
    {
     "name": "stderr",
     "output_type": "stream",
     "text": [
      "/tmp/ipykernel_18/628609021.py:3: FutureWarning: A value is trying to be set on a copy of a DataFrame or Series through chained assignment using an inplace method.\n",
      "The behavior will change in pandas 3.0. This inplace method will never work because the intermediate object on which we are setting values always behaves as a copy.\n",
      "\n",
      "For example, when doing 'df[col].method(value, inplace=True)', try using 'df.method({col: value}, inplace=True)' or df[col] = df[col].method(value) instead, to perform the operation inplace on the original object.\n",
      "\n",
      "\n",
      "  data.Cabin.fillna('Z/0/N', inplace = True)\n",
      "/tmp/ipykernel_18/628609021.py:4: FutureWarning: A value is trying to be set on a copy of a DataFrame or Series through chained assignment using an inplace method.\n",
      "The behavior will change in pandas 3.0. This inplace method will never work because the intermediate object on which we are setting values always behaves as a copy.\n",
      "\n",
      "For example, when doing 'df[col].method(value, inplace=True)', try using 'df.method({col: value}, inplace=True)' or df[col] = df[col].method(value) instead, to perform the operation inplace on the original object.\n",
      "\n",
      "\n",
      "  data.HomePlanet.fillna('NULL', inplace = True)\n",
      "/tmp/ipykernel_18/628609021.py:5: FutureWarning: A value is trying to be set on a copy of a DataFrame or Series through chained assignment using an inplace method.\n",
      "The behavior will change in pandas 3.0. This inplace method will never work because the intermediate object on which we are setting values always behaves as a copy.\n",
      "\n",
      "For example, when doing 'df[col].method(value, inplace=True)', try using 'df.method({col: value}, inplace=True)' or df[col] = df[col].method(value) instead, to perform the operation inplace on the original object.\n",
      "\n",
      "\n",
      "  data.Destination.fillna('NULL', inplace = True)\n",
      "/tmp/ipykernel_18/628609021.py:6: FutureWarning: A value is trying to be set on a copy of a DataFrame or Series through chained assignment using an inplace method.\n",
      "The behavior will change in pandas 3.0. This inplace method will never work because the intermediate object on which we are setting values always behaves as a copy.\n",
      "\n",
      "For example, when doing 'df[col].method(value, inplace=True)', try using 'df.method({col: value}, inplace=True)' or df[col] = df[col].method(value) instead, to perform the operation inplace on the original object.\n",
      "\n",
      "\n",
      "  data.Age.fillna(data.Age.mean(), inplace = True)\n",
      "/tmp/ipykernel_18/628609021.py:7: FutureWarning: A value is trying to be set on a copy of a DataFrame or Series through chained assignment using an inplace method.\n",
      "The behavior will change in pandas 3.0. This inplace method will never work because the intermediate object on which we are setting values always behaves as a copy.\n",
      "\n",
      "For example, when doing 'df[col].method(value, inplace=True)', try using 'df.method({col: value}, inplace=True)' or df[col] = df[col].method(value) instead, to perform the operation inplace on the original object.\n",
      "\n",
      "\n",
      "  data.RoomService.fillna(data.RoomService.mean(), inplace = True)\n",
      "/tmp/ipykernel_18/628609021.py:8: FutureWarning: A value is trying to be set on a copy of a DataFrame or Series through chained assignment using an inplace method.\n",
      "The behavior will change in pandas 3.0. This inplace method will never work because the intermediate object on which we are setting values always behaves as a copy.\n",
      "\n",
      "For example, when doing 'df[col].method(value, inplace=True)', try using 'df.method({col: value}, inplace=True)' or df[col] = df[col].method(value) instead, to perform the operation inplace on the original object.\n",
      "\n",
      "\n",
      "  data.FoodCourt.fillna(data.FoodCourt.mean(), inplace = True)\n",
      "/tmp/ipykernel_18/628609021.py:9: FutureWarning: A value is trying to be set on a copy of a DataFrame or Series through chained assignment using an inplace method.\n",
      "The behavior will change in pandas 3.0. This inplace method will never work because the intermediate object on which we are setting values always behaves as a copy.\n",
      "\n",
      "For example, when doing 'df[col].method(value, inplace=True)', try using 'df.method({col: value}, inplace=True)' or df[col] = df[col].method(value) instead, to perform the operation inplace on the original object.\n",
      "\n",
      "\n",
      "  data.ShoppingMall.fillna(data.ShoppingMall.mean(), inplace = True)\n",
      "/tmp/ipykernel_18/628609021.py:10: FutureWarning: A value is trying to be set on a copy of a DataFrame or Series through chained assignment using an inplace method.\n",
      "The behavior will change in pandas 3.0. This inplace method will never work because the intermediate object on which we are setting values always behaves as a copy.\n",
      "\n",
      "For example, when doing 'df[col].method(value, inplace=True)', try using 'df.method({col: value}, inplace=True)' or df[col] = df[col].method(value) instead, to perform the operation inplace on the original object.\n",
      "\n",
      "\n",
      "  data.Spa.fillna(data.Spa.mean(), inplace = True)\n",
      "/tmp/ipykernel_18/628609021.py:11: FutureWarning: A value is trying to be set on a copy of a DataFrame or Series through chained assignment using an inplace method.\n",
      "The behavior will change in pandas 3.0. This inplace method will never work because the intermediate object on which we are setting values always behaves as a copy.\n",
      "\n",
      "For example, when doing 'df[col].method(value, inplace=True)', try using 'df.method({col: value}, inplace=True)' or df[col] = df[col].method(value) instead, to perform the operation inplace on the original object.\n",
      "\n",
      "\n",
      "  data.VRDeck.fillna(data.VRDeck.mean(), inplace = True)\n"
     ]
    }
   ],
   "source": [
    "train_data = preprocessData(train_data)"
   ]
  },
  {
   "cell_type": "code",
   "execution_count": 10,
   "id": "22d3e487",
   "metadata": {
    "execution": {
     "iopub.execute_input": "2024-03-23T07:38:54.152282Z",
     "iopub.status.busy": "2024-03-23T07:38:54.151065Z",
     "iopub.status.idle": "2024-03-23T07:38:54.183394Z",
     "shell.execute_reply": "2024-03-23T07:38:54.182185Z"
    },
    "executionInfo": {
     "elapsed": 3,
     "status": "ok",
     "timestamp": 1711115670542,
     "user": {
      "displayName": "Manas Kumar",
      "userId": "04076534679003121888"
     },
     "user_tz": -330
    },
    "id": "XXwucsBAiYUz",
    "outputId": "7dc090fd-615e-4309-c631-0fb8142c385f",
    "papermill": {
     "duration": 0.050284,
     "end_time": "2024-03-23T07:38:54.186214",
     "exception": false,
     "start_time": "2024-03-23T07:38:54.135930",
     "status": "completed"
    },
    "tags": []
   },
   "outputs": [
    {
     "data": {
      "text/html": [
       "<div>\n",
       "<style scoped>\n",
       "    .dataframe tbody tr th:only-of-type {\n",
       "        vertical-align: middle;\n",
       "    }\n",
       "\n",
       "    .dataframe tbody tr th {\n",
       "        vertical-align: top;\n",
       "    }\n",
       "\n",
       "    .dataframe thead th {\n",
       "        text-align: right;\n",
       "    }\n",
       "</style>\n",
       "<table border=\"1\" class=\"dataframe\">\n",
       "  <thead>\n",
       "    <tr style=\"text-align: right;\">\n",
       "      <th></th>\n",
       "      <th>HomePlanet</th>\n",
       "      <th>CryoSleep</th>\n",
       "      <th>Destination</th>\n",
       "      <th>Age</th>\n",
       "      <th>VIP</th>\n",
       "      <th>RoomService</th>\n",
       "      <th>FoodCourt</th>\n",
       "      <th>ShoppingMall</th>\n",
       "      <th>Spa</th>\n",
       "      <th>VRDeck</th>\n",
       "      <th>Transported</th>\n",
       "      <th>Deck</th>\n",
       "      <th>Num</th>\n",
       "      <th>Side</th>\n",
       "    </tr>\n",
       "  </thead>\n",
       "  <tbody>\n",
       "    <tr>\n",
       "      <th>0</th>\n",
       "      <td>0.325245</td>\n",
       "      <td>-0.741736</td>\n",
       "      <td>0.622532</td>\n",
       "      <td>0.709437</td>\n",
       "      <td>-0.208465</td>\n",
       "      <td>-0.340590</td>\n",
       "      <td>-0.287314</td>\n",
       "      <td>-0.290817</td>\n",
       "      <td>-0.276663</td>\n",
       "      <td>-0.269023</td>\n",
       "      <td>0</td>\n",
       "      <td>-1.839907</td>\n",
       "      <td>-1.141624</td>\n",
       "      <td>-0.866174</td>\n",
       "    </tr>\n",
       "    <tr>\n",
       "      <th>1</th>\n",
       "      <td>-0.833031</td>\n",
       "      <td>-0.741736</td>\n",
       "      <td>0.622532</td>\n",
       "      <td>-0.336717</td>\n",
       "      <td>-0.208465</td>\n",
       "      <td>-0.175364</td>\n",
       "      <td>-0.281669</td>\n",
       "      <td>-0.248968</td>\n",
       "      <td>0.211505</td>\n",
       "      <td>-0.230194</td>\n",
       "      <td>1</td>\n",
       "      <td>0.331095</td>\n",
       "      <td>-1.141624</td>\n",
       "      <td>0.975267</td>\n",
       "    </tr>\n",
       "    <tr>\n",
       "      <th>2</th>\n",
       "      <td>0.325245</td>\n",
       "      <td>-0.741736</td>\n",
       "      <td>0.622532</td>\n",
       "      <td>2.034566</td>\n",
       "      <td>2.786879</td>\n",
       "      <td>-0.275409</td>\n",
       "      <td>1.955616</td>\n",
       "      <td>-0.290817</td>\n",
       "      <td>5.694289</td>\n",
       "      <td>-0.225782</td>\n",
       "      <td>0</td>\n",
       "      <td>-2.382658</td>\n",
       "      <td>-1.141624</td>\n",
       "      <td>0.975267</td>\n",
       "    </tr>\n",
       "    <tr>\n",
       "      <th>3</th>\n",
       "      <td>0.325245</td>\n",
       "      <td>-0.741736</td>\n",
       "      <td>0.622532</td>\n",
       "      <td>0.290975</td>\n",
       "      <td>-0.208465</td>\n",
       "      <td>-0.340590</td>\n",
       "      <td>0.517406</td>\n",
       "      <td>0.330225</td>\n",
       "      <td>2.683471</td>\n",
       "      <td>-0.098708</td>\n",
       "      <td>0</td>\n",
       "      <td>-2.382658</td>\n",
       "      <td>-1.141624</td>\n",
       "      <td>0.975267</td>\n",
       "    </tr>\n",
       "    <tr>\n",
       "      <th>4</th>\n",
       "      <td>-0.833031</td>\n",
       "      <td>-0.741736</td>\n",
       "      <td>0.622532</td>\n",
       "      <td>-0.894666</td>\n",
       "      <td>-0.208465</td>\n",
       "      <td>0.118709</td>\n",
       "      <td>-0.243409</td>\n",
       "      <td>-0.038048</td>\n",
       "      <td>0.225732</td>\n",
       "      <td>-0.267258</td>\n",
       "      <td>1</td>\n",
       "      <td>0.331095</td>\n",
       "      <td>-1.139678</td>\n",
       "      <td>0.975267</td>\n",
       "    </tr>\n",
       "    <tr>\n",
       "      <th>...</th>\n",
       "      <td>...</td>\n",
       "      <td>...</td>\n",
       "      <td>...</td>\n",
       "      <td>...</td>\n",
       "      <td>...</td>\n",
       "      <td>...</td>\n",
       "      <td>...</td>\n",
       "      <td>...</td>\n",
       "      <td>...</td>\n",
       "      <td>...</td>\n",
       "      <td>...</td>\n",
       "      <td>...</td>\n",
       "      <td>...</td>\n",
       "      <td>...</td>\n",
       "    </tr>\n",
       "    <tr>\n",
       "      <th>8688</th>\n",
       "      <td>0.325245</td>\n",
       "      <td>-0.741736</td>\n",
       "      <td>-1.852318</td>\n",
       "      <td>0.848924</td>\n",
       "      <td>2.786879</td>\n",
       "      <td>-0.340590</td>\n",
       "      <td>3.989682</td>\n",
       "      <td>-0.290817</td>\n",
       "      <td>1.184286</td>\n",
       "      <td>-0.203720</td>\n",
       "      <td>0</td>\n",
       "      <td>-2.382658</td>\n",
       "      <td>-0.950907</td>\n",
       "      <td>-0.866174</td>\n",
       "    </tr>\n",
       "    <tr>\n",
       "      <th>8689</th>\n",
       "      <td>-0.833031</td>\n",
       "      <td>1.115916</td>\n",
       "      <td>-0.202418</td>\n",
       "      <td>-0.755179</td>\n",
       "      <td>-0.208465</td>\n",
       "      <td>-0.340590</td>\n",
       "      <td>-0.287314</td>\n",
       "      <td>-0.290817</td>\n",
       "      <td>-0.276663</td>\n",
       "      <td>-0.269023</td>\n",
       "      <td>0</td>\n",
       "      <td>0.873845</td>\n",
       "      <td>1.775567</td>\n",
       "      <td>0.975267</td>\n",
       "    </tr>\n",
       "    <tr>\n",
       "      <th>8690</th>\n",
       "      <td>-0.833031</td>\n",
       "      <td>-0.741736</td>\n",
       "      <td>0.622532</td>\n",
       "      <td>-0.197230</td>\n",
       "      <td>-0.208465</td>\n",
       "      <td>-0.340590</td>\n",
       "      <td>-0.287314</td>\n",
       "      <td>2.842851</td>\n",
       "      <td>-0.275774</td>\n",
       "      <td>-0.269023</td>\n",
       "      <td>1</td>\n",
       "      <td>0.873845</td>\n",
       "      <td>1.777513</td>\n",
       "      <td>0.975267</td>\n",
       "    </tr>\n",
       "    <tr>\n",
       "      <th>8691</th>\n",
       "      <td>0.325245</td>\n",
       "      <td>-0.741736</td>\n",
       "      <td>-1.852318</td>\n",
       "      <td>0.221232</td>\n",
       "      <td>-0.208465</td>\n",
       "      <td>-0.340590</td>\n",
       "      <td>0.370637</td>\n",
       "      <td>-0.290817</td>\n",
       "      <td>0.037223</td>\n",
       "      <td>2.585740</td>\n",
       "      <td>0</td>\n",
       "      <td>-0.211656</td>\n",
       "      <td>0.041600</td>\n",
       "      <td>0.975267</td>\n",
       "    </tr>\n",
       "    <tr>\n",
       "      <th>8692</th>\n",
       "      <td>0.325245</td>\n",
       "      <td>-0.741736</td>\n",
       "      <td>0.622532</td>\n",
       "      <td>1.058155</td>\n",
       "      <td>-0.208465</td>\n",
       "      <td>-0.149594</td>\n",
       "      <td>2.653082</td>\n",
       "      <td>-0.290817</td>\n",
       "      <td>-0.276663</td>\n",
       "      <td>-0.258433</td>\n",
       "      <td>1</td>\n",
       "      <td>-0.211656</td>\n",
       "      <td>0.041600</td>\n",
       "      <td>0.975267</td>\n",
       "    </tr>\n",
       "  </tbody>\n",
       "</table>\n",
       "<p>8693 rows × 14 columns</p>\n",
       "</div>"
      ],
      "text/plain": [
       "      HomePlanet  CryoSleep  Destination       Age       VIP  RoomService  \\\n",
       "0       0.325245  -0.741736     0.622532  0.709437 -0.208465    -0.340590   \n",
       "1      -0.833031  -0.741736     0.622532 -0.336717 -0.208465    -0.175364   \n",
       "2       0.325245  -0.741736     0.622532  2.034566  2.786879    -0.275409   \n",
       "3       0.325245  -0.741736     0.622532  0.290975 -0.208465    -0.340590   \n",
       "4      -0.833031  -0.741736     0.622532 -0.894666 -0.208465     0.118709   \n",
       "...          ...        ...          ...       ...       ...          ...   \n",
       "8688    0.325245  -0.741736    -1.852318  0.848924  2.786879    -0.340590   \n",
       "8689   -0.833031   1.115916    -0.202418 -0.755179 -0.208465    -0.340590   \n",
       "8690   -0.833031  -0.741736     0.622532 -0.197230 -0.208465    -0.340590   \n",
       "8691    0.325245  -0.741736    -1.852318  0.221232 -0.208465    -0.340590   \n",
       "8692    0.325245  -0.741736     0.622532  1.058155 -0.208465    -0.149594   \n",
       "\n",
       "      FoodCourt  ShoppingMall       Spa    VRDeck  Transported      Deck  \\\n",
       "0     -0.287314     -0.290817 -0.276663 -0.269023            0 -1.839907   \n",
       "1     -0.281669     -0.248968  0.211505 -0.230194            1  0.331095   \n",
       "2      1.955616     -0.290817  5.694289 -0.225782            0 -2.382658   \n",
       "3      0.517406      0.330225  2.683471 -0.098708            0 -2.382658   \n",
       "4     -0.243409     -0.038048  0.225732 -0.267258            1  0.331095   \n",
       "...         ...           ...       ...       ...          ...       ...   \n",
       "8688   3.989682     -0.290817  1.184286 -0.203720            0 -2.382658   \n",
       "8689  -0.287314     -0.290817 -0.276663 -0.269023            0  0.873845   \n",
       "8690  -0.287314      2.842851 -0.275774 -0.269023            1  0.873845   \n",
       "8691   0.370637     -0.290817  0.037223  2.585740            0 -0.211656   \n",
       "8692   2.653082     -0.290817 -0.276663 -0.258433            1 -0.211656   \n",
       "\n",
       "           Num      Side  \n",
       "0    -1.141624 -0.866174  \n",
       "1    -1.141624  0.975267  \n",
       "2    -1.141624  0.975267  \n",
       "3    -1.141624  0.975267  \n",
       "4    -1.139678  0.975267  \n",
       "...        ...       ...  \n",
       "8688 -0.950907 -0.866174  \n",
       "8689  1.775567  0.975267  \n",
       "8690  1.777513  0.975267  \n",
       "8691  0.041600  0.975267  \n",
       "8692  0.041600  0.975267  \n",
       "\n",
       "[8693 rows x 14 columns]"
      ]
     },
     "execution_count": 10,
     "metadata": {},
     "output_type": "execute_result"
    }
   ],
   "source": [
    "train_data"
   ]
  },
  {
   "cell_type": "markdown",
   "id": "9e2b60b7",
   "metadata": {
    "id": "f6h2VAEpL0ZM",
    "papermill": {
     "duration": 0.013893,
     "end_time": "2024-03-23T07:38:54.214112",
     "exception": false,
     "start_time": "2024-03-23T07:38:54.200219",
     "status": "completed"
    },
    "tags": []
   },
   "source": [
    "# Correlation Visualization"
   ]
  },
  {
   "cell_type": "code",
   "execution_count": 11,
   "id": "ccbb5b27",
   "metadata": {
    "execution": {
     "iopub.execute_input": "2024-03-23T07:38:54.247146Z",
     "iopub.status.busy": "2024-03-23T07:38:54.246010Z",
     "iopub.status.idle": "2024-03-23T07:38:54.776764Z",
     "shell.execute_reply": "2024-03-23T07:38:54.775572Z"
    },
    "executionInfo": {
     "elapsed": 1285,
     "status": "ok",
     "timestamp": 1711115671825,
     "user": {
      "displayName": "Manas Kumar",
      "userId": "04076534679003121888"
     },
     "user_tz": -330
    },
    "id": "jhFKqgagz_CV",
    "outputId": "3d6f3b65-4dc9-491a-e0f0-10909aedacc3",
    "papermill": {
     "duration": 0.549056,
     "end_time": "2024-03-23T07:38:54.779135",
     "exception": false,
     "start_time": "2024-03-23T07:38:54.230079",
     "status": "completed"
    },
    "tags": []
   },
   "outputs": [
    {
     "data": {
      "text/plain": [
       "<Axes: >"
      ]
     },
     "execution_count": 11,
     "metadata": {},
     "output_type": "execute_result"
    },
    {
     "data": {
      "image/png": "[encoded data removed]",
      "text/plain": [
       "<Figure size 640x480 with 2 Axes>"
      ]
     },
     "metadata": {},
     "output_type": "display_data"
    }
   ],
   "source": [
    "sns.heatmap(train_data.corr())"
   ]
  },
  {
   "cell_type": "code",
   "execution_count": 12,
   "id": "3bfee46e",
   "metadata": {
    "execution": {
     "iopub.execute_input": "2024-03-23T07:38:54.811300Z",
     "iopub.status.busy": "2024-03-23T07:38:54.810869Z",
     "iopub.status.idle": "2024-03-23T07:38:54.886805Z",
     "shell.execute_reply": "2024-03-23T07:38:54.885411Z"
    },
    "executionInfo": {
     "elapsed": 4,
     "status": "ok",
     "timestamp": 1711115671825,
     "user": {
      "displayName": "Manas Kumar",
      "userId": "04076534679003121888"
     },
     "user_tz": -330
    },
    "id": "tKmUbJ4WnYTC",
    "outputId": "d77874ab-7f83-435c-a14b-959371b7823c",
    "papermill": {
     "duration": 0.095345,
     "end_time": "2024-03-23T07:38:54.889681",
     "exception": false,
     "start_time": "2024-03-23T07:38:54.794336",
     "status": "completed"
    },
    "tags": []
   },
   "outputs": [
    {
     "name": "stdout",
     "output_type": "stream",
     "text": [
      "Train data: 6954 | Train labels: 6954\n",
      "Test data: 1739 | Test labels: 1739\n"
     ]
    }
   ],
   "source": [
    "featuresT, labelsT = getFeaturesAndLabels(train_data)\n",
    "train_data, dev_data, train_labels, dev_labels = train_test_split(featuresT, labelsT, shuffle = True, test_size = 0.2)\n",
    "print(f'Train data: {len(train_data)} | Train labels: {len(train_labels)}')\n",
    "print(f'Test data: {len(dev_data)} | Test labels: {len(dev_labels)}')"
   ]
  },
  {
   "cell_type": "code",
   "execution_count": 13,
   "id": "3c3378c0",
   "metadata": {
    "execution": {
     "iopub.execute_input": "2024-03-23T07:38:54.923885Z",
     "iopub.status.busy": "2024-03-23T07:38:54.922889Z",
     "iopub.status.idle": "2024-03-23T07:38:54.932354Z",
     "shell.execute_reply": "2024-03-23T07:38:54.930769Z"
    },
    "executionInfo": {
     "elapsed": 3,
     "status": "ok",
     "timestamp": 1711115671825,
     "user": {
      "displayName": "Manas Kumar",
      "userId": "04076534679003121888"
     },
     "user_tz": -330
    },
    "id": "RcdyoemuloqB",
    "papermill": {
     "duration": 0.029016,
     "end_time": "2024-03-23T07:38:54.935213",
     "exception": false,
     "start_time": "2024-03-23T07:38:54.906197",
     "status": "completed"
    },
    "tags": []
   },
   "outputs": [],
   "source": [
    "train_dataset = TensorDataset(train_data, train_labels)\n",
    "dev_dataset = TensorDataset(dev_data, dev_labels)\n",
    "\n",
    "batchsize = 32\n",
    "\n",
    "train_dataloader = DataLoader(train_dataset, batch_size = batchsize, shuffle = True, drop_last = True)\n",
    "dev_dataloader = DataLoader(dev_dataset, batch_size = dev_dataset.tensors[0].shape[0])"
   ]
  },
  {
   "cell_type": "markdown",
   "id": "4f5e851a",
   "metadata": {
    "id": "EakraH85L4p7",
    "papermill": {
     "duration": 0.015149,
     "end_time": "2024-03-23T07:38:54.965811",
     "exception": false,
     "start_time": "2024-03-23T07:38:54.950662",
     "status": "completed"
    },
    "tags": []
   },
   "source": [
    "# Making the Network"
   ]
  },
  {
   "cell_type": "code",
   "execution_count": 14,
   "id": "16a79ead",
   "metadata": {
    "execution": {
     "iopub.execute_input": "2024-03-23T07:38:54.997805Z",
     "iopub.status.busy": "2024-03-23T07:38:54.997374Z",
     "iopub.status.idle": "2024-03-23T07:38:55.013551Z",
     "shell.execute_reply": "2024-03-23T07:38:55.012424Z"
    },
    "executionInfo": {
     "elapsed": 3,
     "status": "ok",
     "timestamp": 1711115671825,
     "user": {
      "displayName": "Manas Kumar",
      "userId": "04076534679003121888"
     },
     "user_tz": -330
    },
    "id": "30I43Vs-qYi2",
    "papermill": {
     "duration": 0.036021,
     "end_time": "2024-03-23T07:38:55.016836",
     "exception": false,
     "start_time": "2024-03-23T07:38:54.980815",
     "status": "completed"
    },
    "tags": []
   },
   "outputs": [],
   "source": [
    "def makeTheNet():\n",
    "\n",
    "  class ANNnet(nn.Module):\n",
    "    def __init__(self):\n",
    "      super().__init__()\n",
    "\n",
    "      self.input = nn.Linear(featuresT.shape[1], 256)\n",
    "\n",
    "      self.fc1 = nn.Linear(256, 256)\n",
    "      self.bn1 = nn.BatchNorm1d(256)\n",
    "\n",
    "      self.fc2 = nn.Linear(256, 256)\n",
    "      self.bn2 = nn.BatchNorm1d(256)\n",
    "\n",
    "      self.fc3 = nn.Linear(256, 256)\n",
    "      self.bn3 = nn.BatchNorm1d(256)\n",
    "\n",
    "      self.fc4 = nn.Linear(256, 256)\n",
    "      self.bn4 = nn.BatchNorm1d(256)\n",
    "\n",
    "      self.fc5 = nn.Linear(256, 256)\n",
    "      self.bn5 = nn.BatchNorm1d(256)\n",
    "\n",
    "      self.output = nn.Linear(256, 1)\n",
    "\n",
    "    def forward(self, x):\n",
    "      x = F.relu( self.input(x) )\n",
    "      x = F.dropout(x, .5)\n",
    "\n",
    "      x = self.fc1(x)\n",
    "      x = self.bn1(x)\n",
    "      x = F.relu(x)\n",
    "      x = F.dropout(x, .5)\n",
    "\n",
    "      x = self.fc2(x)\n",
    "      x = self.bn2(x)\n",
    "      x = F.relu(x)\n",
    "      x = F.dropout(x, .5)\n",
    "\n",
    "      x = self.fc3(x)\n",
    "      x = self.bn3(x)\n",
    "      x = F.relu(x)\n",
    "      x = F.dropout(x, .5)\n",
    "\n",
    "      x = self.fc4(x)\n",
    "      x = self.bn4(x)\n",
    "      x = F.relu(x)\n",
    "      x = F.dropout(x, .5)\n",
    "\n",
    "      x = self.fc5(x)\n",
    "      x = self.bn5(x)\n",
    "      x = F.relu(x)\n",
    "      x = F.dropout(x, .5)\n",
    "\n",
    "      return self.output(x)\n",
    "\n",
    "  net = ANNnet()\n",
    "\n",
    "  lossfun = nn.BCEWithLogitsLoss()\n",
    "\n",
    "  optimizer = torch.optim.Adam(net.parameters(), lr = .0001)\n",
    "\n",
    "  return net, lossfun, optimizer"
   ]
  },
  {
   "cell_type": "code",
   "execution_count": 15,
   "id": "951b7f90",
   "metadata": {
    "execution": {
     "iopub.execute_input": "2024-03-23T07:38:55.049406Z",
     "iopub.status.busy": "2024-03-23T07:38:55.048970Z",
     "iopub.status.idle": "2024-03-23T07:38:58.204512Z",
     "shell.execute_reply": "2024-03-23T07:38:58.203314Z"
    },
    "executionInfo": {
     "elapsed": 3,
     "status": "ok",
     "timestamp": 1711115671825,
     "user": {
      "displayName": "Manas Kumar",
      "userId": "04076534679003121888"
     },
     "user_tz": -330
    },
    "id": "MrCZ9bvxrglr",
    "papermill": {
     "duration": 3.175095,
     "end_time": "2024-03-23T07:38:58.207482",
     "exception": false,
     "start_time": "2024-03-23T07:38:55.032387",
     "status": "completed"
    },
    "tags": []
   },
   "outputs": [],
   "source": [
    "net, lossfun, optimizer = makeTheNet()"
   ]
  },
  {
   "cell_type": "code",
   "execution_count": 16,
   "id": "7b814d4f",
   "metadata": {
    "execution": {
     "iopub.execute_input": "2024-03-23T07:38:58.239989Z",
     "iopub.status.busy": "2024-03-23T07:38:58.239384Z",
     "iopub.status.idle": "2024-03-23T07:38:58.355149Z",
     "shell.execute_reply": "2024-03-23T07:38:58.354261Z"
    },
    "executionInfo": {
     "elapsed": 3,
     "status": "ok",
     "timestamp": 1711115671825,
     "user": {
      "displayName": "Manas Kumar",
      "userId": "04076534679003121888"
     },
     "user_tz": -330
    },
    "id": "_u6_K7uz7CNp",
    "outputId": "40b07e12-0b4f-414b-a320-9c89f77499bd",
    "papermill": {
     "duration": 0.135255,
     "end_time": "2024-03-23T07:38:58.357758",
     "exception": false,
     "start_time": "2024-03-23T07:38:58.222503",
     "status": "completed"
    },
    "tags": []
   },
   "outputs": [
    {
     "data": {
      "text/plain": [
       "tensor(0.7179, grad_fn=<BinaryCrossEntropyWithLogitsBackward0>)"
      ]
     },
     "execution_count": 16,
     "metadata": {},
     "output_type": "execute_result"
    }
   ],
   "source": [
    "X, y = next(iter(train_dataloader))\n",
    "yHat = net(X)\n",
    "lossfun(yHat, y)"
   ]
  },
  {
   "cell_type": "markdown",
   "id": "8201e60d",
   "metadata": {
    "id": "dTREn4k-MBFA",
    "papermill": {
     "duration": 0.015058,
     "end_time": "2024-03-23T07:38:58.388122",
     "exception": false,
     "start_time": "2024-03-23T07:38:58.373064",
     "status": "completed"
    },
    "tags": []
   },
   "source": [
    "# Training the Network"
   ]
  },
  {
   "cell_type": "code",
   "execution_count": 17,
   "id": "df6b24a8",
   "metadata": {
    "execution": {
     "iopub.execute_input": "2024-03-23T07:38:58.420799Z",
     "iopub.status.busy": "2024-03-23T07:38:58.420400Z",
     "iopub.status.idle": "2024-03-23T07:38:58.432186Z",
     "shell.execute_reply": "2024-03-23T07:38:58.430959Z"
    },
    "executionInfo": {
     "elapsed": 2,
     "status": "ok",
     "timestamp": 1711115671825,
     "user": {
      "displayName": "Manas Kumar",
      "userId": "04076534679003121888"
     },
     "user_tz": -330
    },
    "id": "L_JdCfdcr5-B",
    "papermill": {
     "duration": 0.031128,
     "end_time": "2024-03-23T07:38:58.434591",
     "exception": false,
     "start_time": "2024-03-23T07:38:58.403463",
     "status": "completed"
    },
    "tags": []
   },
   "outputs": [],
   "source": [
    "def functionToTrainNet():\n",
    "  epochs = 300\n",
    "\n",
    "  net, lossfun, optimizer = makeTheNet()\n",
    "\n",
    "  trainAcc = []\n",
    "  trainLoss = []\n",
    "  devAcc = []\n",
    "  devLoss = []\n",
    "\n",
    "  for epochi in tqdm(range(epochs)):\n",
    "\n",
    "    net.train()\n",
    "\n",
    "    batchAcc = []\n",
    "    batchLoss = []\n",
    "\n",
    "    for X, y in train_dataloader:\n",
    "      yHat = net(X)\n",
    "      loss = lossfun(yHat, y)\n",
    "\n",
    "      batchLoss.append(loss.item())\n",
    "      batchAcc.append(torch.mean(((yHat > .0) == y).float()) * 100)\n",
    "\n",
    "      optimizer.zero_grad()\n",
    "      loss.backward()\n",
    "      optimizer.step()\n",
    "\n",
    "    trainAcc.append(np.mean(batchAcc))\n",
    "    trainLoss.append(np.mean(batchLoss))\n",
    "\n",
    "    net.eval()\n",
    "    with torch.no_grad():\n",
    "      X, y = next(iter(dev_dataloader))\n",
    "      yHat = net(X)\n",
    "      loss = lossfun(yHat, y)\n",
    "\n",
    "      devLoss.append(loss.item())\n",
    "      devAcc.append(torch.mean(((yHat > .0) == y).float()) * 100)\n",
    "\n",
    "  return trainAcc, devAcc, trainLoss, devLoss, net"
   ]
  },
  {
   "cell_type": "code",
   "execution_count": 18,
   "id": "3a7c7c39",
   "metadata": {
    "execution": {
     "iopub.execute_input": "2024-03-23T07:38:58.467608Z",
     "iopub.status.busy": "2024-03-23T07:38:58.466867Z",
     "iopub.status.idle": "2024-03-23T07:46:51.690825Z",
     "shell.execute_reply": "2024-03-23T07:46:51.689578Z"
    },
    "executionInfo": {
     "elapsed": 559278,
     "status": "ok",
     "timestamp": 1711116231101,
     "user": {
      "displayName": "Manas Kumar",
      "userId": "04076534679003121888"
     },
     "user_tz": -330
    },
    "id": "MFuMuLpquQcb",
    "outputId": "0dbbb4d7-ff75-4ba5-fa66-164b0b7509d3",
    "papermill": {
     "duration": 473.243704,
     "end_time": "2024-03-23T07:46:51.693763",
     "exception": false,
     "start_time": "2024-03-23T07:38:58.450059",
     "status": "completed"
    },
    "tags": []
   },
   "outputs": [
    {
     "name": "stderr",
     "output_type": "stream",
     "text": [
      "100%|██████████| 300/300 [07:53<00:00,  1.58s/it]\n"
     ]
    }
   ],
   "source": [
    "trainAcc, devAcc, trainLoss, devLoss, net = functionToTrainNet()"
   ]
  },
  {
   "cell_type": "markdown",
   "id": "fffbbdcd",
   "metadata": {
    "id": "ibaOq5E1MDRA",
    "papermill": {
     "duration": 0.043732,
     "end_time": "2024-03-23T07:46:51.784323",
     "exception": false,
     "start_time": "2024-03-23T07:46:51.740591",
     "status": "completed"
    },
    "tags": []
   },
   "source": [
    "# Plotting the results for Train and Dev set"
   ]
  },
  {
   "cell_type": "code",
   "execution_count": 19,
   "id": "fa55f549",
   "metadata": {
    "execution": {
     "iopub.execute_input": "2024-03-23T07:46:51.874544Z",
     "iopub.status.busy": "2024-03-23T07:46:51.873975Z",
     "iopub.status.idle": "2024-03-23T07:46:52.448227Z",
     "shell.execute_reply": "2024-03-23T07:46:52.447061Z"
    },
    "executionInfo": {
     "elapsed": 29,
     "status": "ok",
     "timestamp": 1711116231101,
     "user": {
      "displayName": "Manas Kumar",
      "userId": "04076534679003121888"
     },
     "user_tz": -330
    },
    "id": "D2NbtOgB3p2A",
    "outputId": "5b4fb510-7904-4d46-ac16-371fa16aa7c6",
    "papermill": {
     "duration": 0.623521,
     "end_time": "2024-03-23T07:46:52.451448",
     "exception": false,
     "start_time": "2024-03-23T07:46:51.827927",
     "status": "completed"
    },
    "tags": []
   },
   "outputs": [
    {
     "data": {
      "image/png": "[encoded data removed]",
      "text/plain": [
       "<Figure size 1600x500 with 2 Axes>"
      ]
     },
     "metadata": {},
     "output_type": "display_data"
    }
   ],
   "source": [
    "fig, ax = plt.subplots(1,2,figsize=(16,5))\n",
    "\n",
    "ax[0].plot(trainAcc, 's-', label = 'Train')\n",
    "ax[0].plot(devAcc, 's-', label = 'Dev')\n",
    "ax[0].set_title(f'Final dev accuracy {np.mean(devAcc[-10:]):.2f}%')\n",
    "ax[0].set_xlabel('Accuracy')\n",
    "ax[0].set_ylabel('Epochs')\n",
    "ax[0].legend()\n",
    "\n",
    "ax[1].plot(trainLoss, 's-', label = 'Train')\n",
    "ax[1].plot(devLoss, 's-', label = 'Dev')\n",
    "ax[1].set_title(f'Final dev loss {devLoss[-1]:.2f}')\n",
    "ax[1].set_xlabel('Loss')\n",
    "ax[1].set_ylabel('Epochs')\n",
    "ax[1].legend()\n",
    "\n",
    "plt.show()"
   ]
  },
  {
   "cell_type": "markdown",
   "id": "8c084514",
   "metadata": {
    "id": "lZC4TV3NMMP1",
    "papermill": {
     "duration": 0.044405,
     "end_time": "2024-03-23T07:46:52.542471",
     "exception": false,
     "start_time": "2024-03-23T07:46:52.498066",
     "status": "completed"
    },
    "tags": []
   },
   "source": [
    "# Predicting the Test data"
   ]
  },
  {
   "cell_type": "code",
   "execution_count": 20,
   "id": "80e5f850",
   "metadata": {
    "execution": {
     "iopub.execute_input": "2024-03-23T07:46:52.636965Z",
     "iopub.status.busy": "2024-03-23T07:46:52.636449Z",
     "iopub.status.idle": "2024-03-23T07:46:52.642827Z",
     "shell.execute_reply": "2024-03-23T07:46:52.641744Z"
    },
    "executionInfo": {
     "elapsed": 8,
     "status": "ok",
     "timestamp": 1711116231101,
     "user": {
      "displayName": "Manas Kumar",
      "userId": "04076534679003121888"
     },
     "user_tz": -330
    },
    "id": "nKhoMmlgfAsS",
    "papermill": {
     "duration": 0.055887,
     "end_time": "2024-03-23T07:46:52.645474",
     "exception": false,
     "start_time": "2024-03-23T07:46:52.589587",
     "status": "completed"
    },
    "tags": []
   },
   "outputs": [],
   "source": [
    "passengerIds = test_data.PassengerId"
   ]
  },
  {
   "cell_type": "code",
   "execution_count": 21,
   "id": "cb33c1f1",
   "metadata": {
    "execution": {
     "iopub.execute_input": "2024-03-23T07:46:52.737959Z",
     "iopub.status.busy": "2024-03-23T07:46:52.737296Z",
     "iopub.status.idle": "2024-03-23T07:46:54.054087Z",
     "shell.execute_reply": "2024-03-23T07:46:54.052750Z"
    },
    "executionInfo": {
     "elapsed": 1542,
     "status": "ok",
     "timestamp": 1711116232636,
     "user": {
      "displayName": "Manas Kumar",
      "userId": "04076534679003121888"
     },
     "user_tz": -330
    },
    "id": "RA38lWjCcJj5",
    "papermill": {
     "duration": 1.36773,
     "end_time": "2024-03-23T07:46:54.058081",
     "exception": false,
     "start_time": "2024-03-23T07:46:52.690351",
     "status": "completed"
    },
    "tags": []
   },
   "outputs": [
    {
     "name": "stderr",
     "output_type": "stream",
     "text": [
      "/tmp/ipykernel_18/628609021.py:3: FutureWarning: A value is trying to be set on a copy of a DataFrame or Series through chained assignment using an inplace method.\n",
      "The behavior will change in pandas 3.0. This inplace method will never work because the intermediate object on which we are setting values always behaves as a copy.\n",
      "\n",
      "For example, when doing 'df[col].method(value, inplace=True)', try using 'df.method({col: value}, inplace=True)' or df[col] = df[col].method(value) instead, to perform the operation inplace on the original object.\n",
      "\n",
      "\n",
      "  data.Cabin.fillna('Z/0/N', inplace = True)\n",
      "/tmp/ipykernel_18/628609021.py:4: FutureWarning: A value is trying to be set on a copy of a DataFrame or Series through chained assignment using an inplace method.\n",
      "The behavior will change in pandas 3.0. This inplace method will never work because the intermediate object on which we are setting values always behaves as a copy.\n",
      "\n",
      "For example, when doing 'df[col].method(value, inplace=True)', try using 'df.method({col: value}, inplace=True)' or df[col] = df[col].method(value) instead, to perform the operation inplace on the original object.\n",
      "\n",
      "\n",
      "  data.HomePlanet.fillna('NULL', inplace = True)\n",
      "/tmp/ipykernel_18/628609021.py:5: FutureWarning: A value is trying to be set on a copy of a DataFrame or Series through chained assignment using an inplace method.\n",
      "The behavior will change in pandas 3.0. This inplace method will never work because the intermediate object on which we are setting values always behaves as a copy.\n",
      "\n",
      "For example, when doing 'df[col].method(value, inplace=True)', try using 'df.method({col: value}, inplace=True)' or df[col] = df[col].method(value) instead, to perform the operation inplace on the original object.\n",
      "\n",
      "\n",
      "  data.Destination.fillna('NULL', inplace = True)\n",
      "/tmp/ipykernel_18/628609021.py:6: FutureWarning: A value is trying to be set on a copy of a DataFrame or Series through chained assignment using an inplace method.\n",
      "The behavior will change in pandas 3.0. This inplace method will never work because the intermediate object on which we are setting values always behaves as a copy.\n",
      "\n",
      "For example, when doing 'df[col].method(value, inplace=True)', try using 'df.method({col: value}, inplace=True)' or df[col] = df[col].method(value) instead, to perform the operation inplace on the original object.\n",
      "\n",
      "\n",
      "  data.Age.fillna(data.Age.mean(), inplace = True)\n",
      "/tmp/ipykernel_18/628609021.py:7: FutureWarning: A value is trying to be set on a copy of a DataFrame or Series through chained assignment using an inplace method.\n",
      "The behavior will change in pandas 3.0. This inplace method will never work because the intermediate object on which we are setting values always behaves as a copy.\n",
      "\n",
      "For example, when doing 'df[col].method(value, inplace=True)', try using 'df.method({col: value}, inplace=True)' or df[col] = df[col].method(value) instead, to perform the operation inplace on the original object.\n",
      "\n",
      "\n",
      "  data.RoomService.fillna(data.RoomService.mean(), inplace = True)\n",
      "/tmp/ipykernel_18/628609021.py:8: FutureWarning: A value is trying to be set on a copy of a DataFrame or Series through chained assignment using an inplace method.\n",
      "The behavior will change in pandas 3.0. This inplace method will never work because the intermediate object on which we are setting values always behaves as a copy.\n",
      "\n",
      "For example, when doing 'df[col].method(value, inplace=True)', try using 'df.method({col: value}, inplace=True)' or df[col] = df[col].method(value) instead, to perform the operation inplace on the original object.\n",
      "\n",
      "\n",
      "  data.FoodCourt.fillna(data.FoodCourt.mean(), inplace = True)\n",
      "/tmp/ipykernel_18/628609021.py:9: FutureWarning: A value is trying to be set on a copy of a DataFrame or Series through chained assignment using an inplace method.\n",
      "The behavior will change in pandas 3.0. This inplace method will never work because the intermediate object on which we are setting values always behaves as a copy.\n",
      "\n",
      "For example, when doing 'df[col].method(value, inplace=True)', try using 'df.method({col: value}, inplace=True)' or df[col] = df[col].method(value) instead, to perform the operation inplace on the original object.\n",
      "\n",
      "\n",
      "  data.ShoppingMall.fillna(data.ShoppingMall.mean(), inplace = True)\n",
      "/tmp/ipykernel_18/628609021.py:10: FutureWarning: A value is trying to be set on a copy of a DataFrame or Series through chained assignment using an inplace method.\n",
      "The behavior will change in pandas 3.0. This inplace method will never work because the intermediate object on which we are setting values always behaves as a copy.\n",
      "\n",
      "For example, when doing 'df[col].method(value, inplace=True)', try using 'df.method({col: value}, inplace=True)' or df[col] = df[col].method(value) instead, to perform the operation inplace on the original object.\n",
      "\n",
      "\n",
      "  data.Spa.fillna(data.Spa.mean(), inplace = True)\n",
      "/tmp/ipykernel_18/628609021.py:11: FutureWarning: A value is trying to be set on a copy of a DataFrame or Series through chained assignment using an inplace method.\n",
      "The behavior will change in pandas 3.0. This inplace method will never work because the intermediate object on which we are setting values always behaves as a copy.\n",
      "\n",
      "For example, when doing 'df[col].method(value, inplace=True)', try using 'df.method({col: value}, inplace=True)' or df[col] = df[col].method(value) instead, to perform the operation inplace on the original object.\n",
      "\n",
      "\n",
      "  data.VRDeck.fillna(data.VRDeck.mean(), inplace = True)\n"
     ]
    }
   ],
   "source": [
    "test_data = preprocessData(test_data, True)"
   ]
  },
  {
   "cell_type": "code",
   "execution_count": 22,
   "id": "ea65325e",
   "metadata": {
    "execution": {
     "iopub.execute_input": "2024-03-23T07:46:54.151130Z",
     "iopub.status.busy": "2024-03-23T07:46:54.150692Z",
     "iopub.status.idle": "2024-03-23T07:46:54.160299Z",
     "shell.execute_reply": "2024-03-23T07:46:54.158671Z"
    },
    "executionInfo": {
     "elapsed": 4,
     "status": "ok",
     "timestamp": 1711116232637,
     "user": {
      "displayName": "Manas Kumar",
      "userId": "04076534679003121888"
     },
     "user_tz": -330
    },
    "id": "XFikEV_seCKn",
    "papermill": {
     "duration": 0.059142,
     "end_time": "2024-03-23T07:46:54.163103",
     "exception": false,
     "start_time": "2024-03-23T07:46:54.103961",
     "status": "completed"
    },
    "tags": []
   },
   "outputs": [],
   "source": [
    "featuresT, labelsT = getFeaturesAndLabels(test_data, True)\n",
    "test_dataset = TensorDataset(featuresT, labelsT)\n",
    "test_dataloader = DataLoader(test_dataset, batch_size = test_dataset.tensors[0].shape[0], shuffle = False)"
   ]
  },
  {
   "cell_type": "code",
   "execution_count": 23,
   "id": "100b0ef5",
   "metadata": {
    "execution": {
     "iopub.execute_input": "2024-03-23T07:46:54.257671Z",
     "iopub.status.busy": "2024-03-23T07:46:54.257219Z",
     "iopub.status.idle": "2024-03-23T07:46:54.420706Z",
     "shell.execute_reply": "2024-03-23T07:46:54.419196Z"
    },
    "executionInfo": {
     "elapsed": 4,
     "status": "ok",
     "timestamp": 1711116232637,
     "user": {
      "displayName": "Manas Kumar",
      "userId": "04076534679003121888"
     },
     "user_tz": -330
    },
    "id": "_nKtX9hPe2re",
    "papermill": {
     "duration": 0.213751,
     "end_time": "2024-03-23T07:46:54.423658",
     "exception": false,
     "start_time": "2024-03-23T07:46:54.209907",
     "status": "completed"
    },
    "tags": []
   },
   "outputs": [],
   "source": [
    "X, _ = next(iter(test_dataloader))\n",
    "yHat = net(X)\n",
    "yPred = (yHat > .0).squeeze().bool()"
   ]
  },
  {
   "cell_type": "code",
   "execution_count": 24,
   "id": "45e7959c",
   "metadata": {
    "execution": {
     "iopub.execute_input": "2024-03-23T07:46:54.518986Z",
     "iopub.status.busy": "2024-03-23T07:46:54.518548Z",
     "iopub.status.idle": "2024-03-23T07:46:54.532590Z",
     "shell.execute_reply": "2024-03-23T07:46:54.531287Z"
    },
    "executionInfo": {
     "elapsed": 4,
     "status": "ok",
     "timestamp": 1711116232637,
     "user": {
      "displayName": "Manas Kumar",
      "userId": "04076534679003121888"
     },
     "user_tz": -330
    },
    "id": "fSX1PYt9gMg3",
    "outputId": "3dea529a-8f9f-4c76-97c2-ff9d85598a54",
    "papermill": {
     "duration": 0.064058,
     "end_time": "2024-03-23T07:46:54.535047",
     "exception": false,
     "start_time": "2024-03-23T07:46:54.470989",
     "status": "completed"
    },
    "tags": []
   },
   "outputs": [
    {
     "data": {
      "text/html": [
       "<div>\n",
       "<style scoped>\n",
       "    .dataframe tbody tr th:only-of-type {\n",
       "        vertical-align: middle;\n",
       "    }\n",
       "\n",
       "    .dataframe tbody tr th {\n",
       "        vertical-align: top;\n",
       "    }\n",
       "\n",
       "    .dataframe thead th {\n",
       "        text-align: right;\n",
       "    }\n",
       "</style>\n",
       "<table border=\"1\" class=\"dataframe\">\n",
       "  <thead>\n",
       "    <tr style=\"text-align: right;\">\n",
       "      <th></th>\n",
       "      <th>PassengerId</th>\n",
       "      <th>Transported</th>\n",
       "    </tr>\n",
       "  </thead>\n",
       "  <tbody>\n",
       "    <tr>\n",
       "      <th>0</th>\n",
       "      <td>0013_01</td>\n",
       "      <td>False</td>\n",
       "    </tr>\n",
       "    <tr>\n",
       "      <th>1</th>\n",
       "      <td>0018_01</td>\n",
       "      <td>False</td>\n",
       "    </tr>\n",
       "    <tr>\n",
       "      <th>2</th>\n",
       "      <td>0019_01</td>\n",
       "      <td>True</td>\n",
       "    </tr>\n",
       "    <tr>\n",
       "      <th>3</th>\n",
       "      <td>0021_01</td>\n",
       "      <td>True</td>\n",
       "    </tr>\n",
       "    <tr>\n",
       "      <th>4</th>\n",
       "      <td>0023_01</td>\n",
       "      <td>False</td>\n",
       "    </tr>\n",
       "    <tr>\n",
       "      <th>...</th>\n",
       "      <td>...</td>\n",
       "      <td>...</td>\n",
       "    </tr>\n",
       "    <tr>\n",
       "      <th>4272</th>\n",
       "      <td>9266_02</td>\n",
       "      <td>True</td>\n",
       "    </tr>\n",
       "    <tr>\n",
       "      <th>4273</th>\n",
       "      <td>9269_01</td>\n",
       "      <td>False</td>\n",
       "    </tr>\n",
       "    <tr>\n",
       "      <th>4274</th>\n",
       "      <td>9271_01</td>\n",
       "      <td>True</td>\n",
       "    </tr>\n",
       "    <tr>\n",
       "      <th>4275</th>\n",
       "      <td>9273_01</td>\n",
       "      <td>True</td>\n",
       "    </tr>\n",
       "    <tr>\n",
       "      <th>4276</th>\n",
       "      <td>9277_01</td>\n",
       "      <td>True</td>\n",
       "    </tr>\n",
       "  </tbody>\n",
       "</table>\n",
       "<p>4277 rows × 2 columns</p>\n",
       "</div>"
      ],
      "text/plain": [
       "     PassengerId  Transported\n",
       "0        0013_01        False\n",
       "1        0018_01        False\n",
       "2        0019_01         True\n",
       "3        0021_01         True\n",
       "4        0023_01        False\n",
       "...          ...          ...\n",
       "4272     9266_02         True\n",
       "4273     9269_01        False\n",
       "4274     9271_01         True\n",
       "4275     9273_01         True\n",
       "4276     9277_01         True\n",
       "\n",
       "[4277 rows x 2 columns]"
      ]
     },
     "execution_count": 24,
     "metadata": {},
     "output_type": "execute_result"
    }
   ],
   "source": [
    "result = pd.DataFrame({\n",
    "    'PassengerId': passengerIds,\n",
    "    'Transported': yPred,\n",
    "})\n",
    "result"
   ]
  },
  {
   "cell_type": "code",
   "execution_count": 25,
   "id": "b1b45333",
   "metadata": {
    "execution": {
     "iopub.execute_input": "2024-03-23T07:46:54.630055Z",
     "iopub.status.busy": "2024-03-23T07:46:54.628847Z",
     "iopub.status.idle": "2024-03-23T07:46:54.644804Z",
     "shell.execute_reply": "2024-03-23T07:46:54.643745Z"
    },
    "executionInfo": {
     "elapsed": 3,
     "status": "ok",
     "timestamp": 1711116232637,
     "user": {
      "displayName": "Manas Kumar",
      "userId": "04076534679003121888"
     },
     "user_tz": -330
    },
    "id": "atkn8OhLgd_X",
    "papermill": {
     "duration": 0.0664,
     "end_time": "2024-03-23T07:46:54.647420",
     "exception": false,
     "start_time": "2024-03-23T07:46:54.581020",
     "status": "completed"
    },
    "tags": []
   },
   "outputs": [],
   "source": [
    "result.to_csv('spaceship-titanic.csv', index = False)"
   ]
  }
 ],
 "metadata": {
  "colab": {
   "authorship_tag": "ABX9TyMOaJf08IinPdOsULN4IakD",
   "provenance": [
    {
     "file_id": "1NpO49S_1gX-FLSOI0RfDb0Zle1UCrRF_",
     "timestamp": 1694060387363
    }
   ]
  },
  "kaggle": {
   "accelerator": "none",
   "dataSources": [
    {
     "databundleVersionId": 3220602,
     "sourceId": 34377,
     "sourceType": "competition"
    }
   ],
   "dockerImageVersionId": 30673,
   "isGpuEnabled": false,
   "isInternetEnabled": true,
   "language": "python",
   "sourceType": "notebook"
  },
  "kernelspec": {
   "display_name": "Python 3",
   "language": "python",
   "name": "python3"
  },
  "language_info": {
   "codemirror_mode": {
    "name": "ipython",
    "version": 3
   },
   "file_extension": ".py",
   "mimetype": "text/x-python",
   "name": "python",
   "nbconvert_exporter": "python",
   "pygments_lexer": "ipython3",
   "version": "3.10.13"
  },
  "papermill": {
   "default_parameters": {},
   "duration": 496.475718,
   "end_time": "2024-03-23T07:46:56.961783",
   "environment_variables": {},
   "exception": null,
   "input_path": "__notebook__.ipynb",
   "output_path": "__notebook__.ipynb",
   "parameters": {},
   "start_time": "2024-03-23T07:38:40.486065",
   "version": "2.5.0"
  }
 },
 "nbformat": 4,
 "nbformat_minor": 5
}
