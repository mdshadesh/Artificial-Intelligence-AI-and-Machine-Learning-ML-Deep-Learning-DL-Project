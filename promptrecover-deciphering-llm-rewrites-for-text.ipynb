{
 "cells": [
  {
   "cell_type": "code",
   "execution_count": 1,
   "id": "4de56503",
   "metadata": {
    "_cell_guid": "b1076dfc-b9ad-4769-8c92-a6c4dae69d19",
    "_uuid": "8f2839f25d086af736a60e9eeb907d3b93b6e0e5",
    "execution": {
     "iopub.execute_input": "2024-03-29T11:24:26.208205Z",
     "iopub.status.busy": "2024-03-29T11:24:26.207779Z",
     "iopub.status.idle": "2024-03-29T11:24:26.991964Z",
     "shell.execute_reply": "2024-03-29T11:24:26.991257Z"
    },
    "papermill": {
     "duration": 0.793495,
     "end_time": "2024-03-29T11:24:26.994458",
     "exception": false,
     "start_time": "2024-03-29T11:24:26.200963",
     "status": "completed"
    },
    "tags": []
   },
   "outputs": [
    {
     "name": "stdout",
     "output_type": "stream",
     "text": [
      "/kaggle/input/llm-prompt-recovery/sample_submission.csv\n",
      "/kaggle/input/llm-prompt-recovery/train.csv\n",
      "/kaggle/input/llm-prompt-recovery/test.csv\n"
     ]
    }
   ],
   "source": [
    "# This Python 3 environment comes with many helpful analytics libraries installed\n",
    "# It is defined by the kaggle/python Docker image: https://github.com/kaggle/docker-python\n",
    "# For example, here's several helpful packages to load\n",
    "\n",
    "import numpy as np # linear algebra\n",
    "import pandas as pd # data processing, CSV file I/O (e.g. pd.read_csv)\n",
    "\n",
    "# Input data files are available in the read-only \"../input/\" directory\n",
    "# For example, running this (by clicking run or pressing Shift+Enter) will list all files under the input directory\n",
    "\n",
    "import os\n",
    "for dirname, _, filenames in os.walk('/kaggle/input'):\n",
    "    for filename in filenames:\n",
    "        print(os.path.join(dirname, filename))\n",
    "\n",
    "# You can write up to 20GB to the current directory (/kaggle/working/) that gets preserved as output when you create a version using \"Save & Run All\" \n",
    "# You can also write temporary files to /kaggle/temp/, but they won't be saved outside of the current session"
   ]
  },
  {
   "cell_type": "code",
   "execution_count": 2,
   "id": "5459136b",
   "metadata": {
    "execution": {
     "iopub.execute_input": "2024-03-29T11:24:27.006638Z",
     "iopub.status.busy": "2024-03-29T11:24:27.005204Z",
     "iopub.status.idle": "2024-03-29T11:24:28.502425Z",
     "shell.execute_reply": "2024-03-29T11:24:28.501219Z"
    },
    "papermill": {
     "duration": 1.505966,
     "end_time": "2024-03-29T11:24:28.505314",
     "exception": false,
     "start_time": "2024-03-29T11:24:26.999348",
     "status": "completed"
    },
    "tags": []
   },
   "outputs": [],
   "source": [
    "import pandas as pd\n",
    "from sklearn.model_selection import train_test_split\n",
    "from sklearn.ensemble import RandomForestClassifier\n",
    "from sklearn.metrics import accuracy_score"
   ]
  },
  {
   "cell_type": "code",
   "execution_count": 3,
   "id": "c00b72ad",
   "metadata": {
    "execution": {
     "iopub.execute_input": "2024-03-29T11:24:28.516322Z",
     "iopub.status.busy": "2024-03-29T11:24:28.515948Z",
     "iopub.status.idle": "2024-03-29T11:24:28.548391Z",
     "shell.execute_reply": "2024-03-29T11:24:28.547403Z"
    },
    "papermill": {
     "duration": 0.040831,
     "end_time": "2024-03-29T11:24:28.551054",
     "exception": false,
     "start_time": "2024-03-29T11:24:28.510223",
     "status": "completed"
    },
    "tags": []
   },
   "outputs": [],
   "source": [
    "from sklearn.feature_extraction.text import TfidfVectorizer\n",
    "train_df = pd.read_csv(\"/kaggle/input/llm-prompt-recovery/train.csv\")\n",
    "train_df_augmented = pd.concat([train_df] * 10, ignore_index=True)"
   ]
  },
  {
   "cell_type": "code",
   "execution_count": 4,
   "id": "b4fa8a4f",
   "metadata": {
    "execution": {
     "iopub.execute_input": "2024-03-29T11:24:28.561874Z",
     "iopub.status.busy": "2024-03-29T11:24:28.561537Z",
     "iopub.status.idle": "2024-03-29T11:24:28.568367Z",
     "shell.execute_reply": "2024-03-29T11:24:28.567438Z"
    },
    "papermill": {
     "duration": 0.014469,
     "end_time": "2024-03-29T11:24:28.570325",
     "exception": false,
     "start_time": "2024-03-29T11:24:28.555856",
     "status": "completed"
    },
    "tags": []
   },
   "outputs": [],
   "source": [
    "# Step 3: Train a model\n",
    "X_text = train_df_augmented[\"original_text\"]\n",
    "y = train_df_augmented[\"rewritten_text\"]\n"
   ]
  },
  {
   "cell_type": "code",
   "execution_count": 5,
   "id": "0d8e3f9d",
   "metadata": {
    "execution": {
     "iopub.execute_input": "2024-03-29T11:24:28.581785Z",
     "iopub.status.busy": "2024-03-29T11:24:28.581129Z",
     "iopub.status.idle": "2024-03-29T11:24:28.586070Z",
     "shell.execute_reply": "2024-03-29T11:24:28.584955Z"
    },
    "papermill": {
     "duration": 0.013149,
     "end_time": "2024-03-29T11:24:28.588415",
     "exception": false,
     "start_time": "2024-03-29T11:24:28.575266",
     "status": "completed"
    },
    "tags": []
   },
   "outputs": [],
   "source": [
    "# Initialize TF-IDF vectorizer\n",
    "tfidf_vectorizer = TfidfVectorizer(max_features=10000)  # You can adjust max_features as needed\n"
   ]
  },
  {
   "cell_type": "code",
   "execution_count": 6,
   "id": "2c0139bb",
   "metadata": {
    "execution": {
     "iopub.execute_input": "2024-03-29T11:24:28.599255Z",
     "iopub.status.busy": "2024-03-29T11:24:28.598837Z",
     "iopub.status.idle": "2024-03-29T11:24:28.617588Z",
     "shell.execute_reply": "2024-03-29T11:24:28.616627Z"
    },
    "papermill": {
     "duration": 0.026969,
     "end_time": "2024-03-29T11:24:28.619857",
     "exception": false,
     "start_time": "2024-03-29T11:24:28.592888",
     "status": "completed"
    },
    "tags": []
   },
   "outputs": [],
   "source": [
    "# Transform text data into TF-IDF features\n",
    "X_text_tfidf = tfidf_vectorizer.fit_transform(X_text)\n"
   ]
  },
  {
   "cell_type": "code",
   "execution_count": 7,
   "id": "4e2bb781",
   "metadata": {
    "execution": {
     "iopub.execute_input": "2024-03-29T11:24:28.630793Z",
     "iopub.status.busy": "2024-03-29T11:24:28.629776Z",
     "iopub.status.idle": "2024-03-29T11:24:28.640015Z",
     "shell.execute_reply": "2024-03-29T11:24:28.638872Z"
    },
    "papermill": {
     "duration": 0.018307,
     "end_time": "2024-03-29T11:24:28.642597",
     "exception": false,
     "start_time": "2024-03-29T11:24:28.624290",
     "status": "completed"
    },
    "tags": []
   },
   "outputs": [],
   "source": [
    "# Split data into train and validation sets\n",
    "X_train, X_val, y_train, y_val = train_test_split(X_text_tfidf, y, test_size=0.2, random_state=42)\n"
   ]
  },
  {
   "cell_type": "code",
   "execution_count": 8,
   "id": "2f3dbc7c",
   "metadata": {
    "execution": {
     "iopub.execute_input": "2024-03-29T11:24:28.654128Z",
     "iopub.status.busy": "2024-03-29T11:24:28.653264Z",
     "iopub.status.idle": "2024-03-29T11:24:28.824038Z",
     "shell.execute_reply": "2024-03-29T11:24:28.822785Z"
    },
    "papermill": {
     "duration": 0.179304,
     "end_time": "2024-03-29T11:24:28.826874",
     "exception": false,
     "start_time": "2024-03-29T11:24:28.647570",
     "status": "completed"
    },
    "tags": []
   },
   "outputs": [
    {
     "data": {
      "text/html": [
       "<style>#sk-container-id-1 {color: black;background-color: white;}#sk-container-id-1 pre{padding: 0;}#sk-container-id-1 div.sk-toggleable {background-color: white;}#sk-container-id-1 label.sk-toggleable__label {cursor: pointer;display: block;width: 100%;margin-bottom: 0;padding: 0.3em;box-sizing: border-box;text-align: center;}#sk-container-id-1 label.sk-toggleable__label-arrow:before {content: \"▸\";float: left;margin-right: 0.25em;color: #696969;}#sk-container-id-1 label.sk-toggleable__label-arrow:hover:before {color: black;}#sk-container-id-1 div.sk-estimator:hover label.sk-toggleable__label-arrow:before {color: black;}#sk-container-id-1 div.sk-toggleable__content {max-height: 0;max-width: 0;overflow: hidden;text-align: left;background-color: #f0f8ff;}#sk-container-id-1 div.sk-toggleable__content pre {margin: 0.2em;color: black;border-radius: 0.25em;background-color: #f0f8ff;}#sk-container-id-1 input.sk-toggleable__control:checked~div.sk-toggleable__content {max-height: 200px;max-width: 100%;overflow: auto;}#sk-container-id-1 input.sk-toggleable__control:checked~label.sk-toggleable__label-arrow:before {content: \"▾\";}#sk-container-id-1 div.sk-estimator input.sk-toggleable__control:checked~label.sk-toggleable__label {background-color: #d4ebff;}#sk-container-id-1 div.sk-label input.sk-toggleable__control:checked~label.sk-toggleable__label {background-color: #d4ebff;}#sk-container-id-1 input.sk-hidden--visually {border: 0;clip: rect(1px 1px 1px 1px);clip: rect(1px, 1px, 1px, 1px);height: 1px;margin: -1px;overflow: hidden;padding: 0;position: absolute;width: 1px;}#sk-container-id-1 div.sk-estimator {font-family: monospace;background-color: #f0f8ff;border: 1px dotted black;border-radius: 0.25em;box-sizing: border-box;margin-bottom: 0.5em;}#sk-container-id-1 div.sk-estimator:hover {background-color: #d4ebff;}#sk-container-id-1 div.sk-parallel-item::after {content: \"\";width: 100%;border-bottom: 1px solid gray;flex-grow: 1;}#sk-container-id-1 div.sk-label:hover label.sk-toggleable__label {background-color: #d4ebff;}#sk-container-id-1 div.sk-serial::before {content: \"\";position: absolute;border-left: 1px solid gray;box-sizing: border-box;top: 0;bottom: 0;left: 50%;z-index: 0;}#sk-container-id-1 div.sk-serial {display: flex;flex-direction: column;align-items: center;background-color: white;padding-right: 0.2em;padding-left: 0.2em;position: relative;}#sk-container-id-1 div.sk-item {position: relative;z-index: 1;}#sk-container-id-1 div.sk-parallel {display: flex;align-items: stretch;justify-content: center;background-color: white;position: relative;}#sk-container-id-1 div.sk-item::before, #sk-container-id-1 div.sk-parallel-item::before {content: \"\";position: absolute;border-left: 1px solid gray;box-sizing: border-box;top: 0;bottom: 0;left: 50%;z-index: -1;}#sk-container-id-1 div.sk-parallel-item {display: flex;flex-direction: column;z-index: 1;position: relative;background-color: white;}#sk-container-id-1 div.sk-parallel-item:first-child::after {align-self: flex-end;width: 50%;}#sk-container-id-1 div.sk-parallel-item:last-child::after {align-self: flex-start;width: 50%;}#sk-container-id-1 div.sk-parallel-item:only-child::after {width: 0;}#sk-container-id-1 div.sk-dashed-wrapped {border: 1px dashed gray;margin: 0 0.4em 0.5em 0.4em;box-sizing: border-box;padding-bottom: 0.4em;background-color: white;}#sk-container-id-1 div.sk-label label {font-family: monospace;font-weight: bold;display: inline-block;line-height: 1.2em;}#sk-container-id-1 div.sk-label-container {text-align: center;}#sk-container-id-1 div.sk-container {/* jupyter's `normalize.less` sets `[hidden] { display: none; }` but bootstrap.min.css set `[hidden] { display: none !important; }` so we also need the `!important` here to be able to override the default hidden behavior on the sphinx rendered scikit-learn.org. See: https://github.com/scikit-learn/scikit-learn/issues/21755 */display: inline-block !important;position: relative;}#sk-container-id-1 div.sk-text-repr-fallback {display: none;}</style><div id=\"sk-container-id-1\" class=\"sk-top-container\"><div class=\"sk-text-repr-fallback\"><pre>RandomForestClassifier()</pre><b>In a Jupyter environment, please rerun this cell to show the HTML representation or trust the notebook. <br />On GitHub, the HTML representation is unable to render, please try loading this page with nbviewer.org.</b></div><div class=\"sk-container\" hidden><div class=\"sk-item\"><div class=\"sk-estimator sk-toggleable\"><input class=\"sk-toggleable__control sk-hidden--visually\" id=\"sk-estimator-id-1\" type=\"checkbox\" checked><label for=\"sk-estimator-id-1\" class=\"sk-toggleable__label sk-toggleable__label-arrow\">RandomForestClassifier</label><div class=\"sk-toggleable__content\"><pre>RandomForestClassifier()</pre></div></div></div></div></div>"
      ],
      "text/plain": [
       "RandomForestClassifier()"
      ]
     },
     "execution_count": 8,
     "metadata": {},
     "output_type": "execute_result"
    }
   ],
   "source": [
    "# Initialize and train the model\n",
    "model = RandomForestClassifier()\n",
    "model.fit(X_train, y_train)"
   ]
  },
  {
   "cell_type": "code",
   "execution_count": 9,
   "id": "9428823f",
   "metadata": {
    "execution": {
     "iopub.execute_input": "2024-03-29T11:24:28.838520Z",
     "iopub.status.busy": "2024-03-29T11:24:28.837511Z",
     "iopub.status.idle": "2024-03-29T11:24:28.847419Z",
     "shell.execute_reply": "2024-03-29T11:24:28.846422Z"
    },
    "papermill": {
     "duration": 0.017967,
     "end_time": "2024-03-29T11:24:28.849664",
     "exception": false,
     "start_time": "2024-03-29T11:24:28.831697",
     "status": "completed"
    },
    "tags": []
   },
   "outputs": [
    {
     "data": {
      "text/html": [
       "<style>#sk-container-id-2 {color: black;background-color: white;}#sk-container-id-2 pre{padding: 0;}#sk-container-id-2 div.sk-toggleable {background-color: white;}#sk-container-id-2 label.sk-toggleable__label {cursor: pointer;display: block;width: 100%;margin-bottom: 0;padding: 0.3em;box-sizing: border-box;text-align: center;}#sk-container-id-2 label.sk-toggleable__label-arrow:before {content: \"▸\";float: left;margin-right: 0.25em;color: #696969;}#sk-container-id-2 label.sk-toggleable__label-arrow:hover:before {color: black;}#sk-container-id-2 div.sk-estimator:hover label.sk-toggleable__label-arrow:before {color: black;}#sk-container-id-2 div.sk-toggleable__content {max-height: 0;max-width: 0;overflow: hidden;text-align: left;background-color: #f0f8ff;}#sk-container-id-2 div.sk-toggleable__content pre {margin: 0.2em;color: black;border-radius: 0.25em;background-color: #f0f8ff;}#sk-container-id-2 input.sk-toggleable__control:checked~div.sk-toggleable__content {max-height: 200px;max-width: 100%;overflow: auto;}#sk-container-id-2 input.sk-toggleable__control:checked~label.sk-toggleable__label-arrow:before {content: \"▾\";}#sk-container-id-2 div.sk-estimator input.sk-toggleable__control:checked~label.sk-toggleable__label {background-color: #d4ebff;}#sk-container-id-2 div.sk-label input.sk-toggleable__control:checked~label.sk-toggleable__label {background-color: #d4ebff;}#sk-container-id-2 input.sk-hidden--visually {border: 0;clip: rect(1px 1px 1px 1px);clip: rect(1px, 1px, 1px, 1px);height: 1px;margin: -1px;overflow: hidden;padding: 0;position: absolute;width: 1px;}#sk-container-id-2 div.sk-estimator {font-family: monospace;background-color: #f0f8ff;border: 1px dotted black;border-radius: 0.25em;box-sizing: border-box;margin-bottom: 0.5em;}#sk-container-id-2 div.sk-estimator:hover {background-color: #d4ebff;}#sk-container-id-2 div.sk-parallel-item::after {content: \"\";width: 100%;border-bottom: 1px solid gray;flex-grow: 1;}#sk-container-id-2 div.sk-label:hover label.sk-toggleable__label {background-color: #d4ebff;}#sk-container-id-2 div.sk-serial::before {content: \"\";position: absolute;border-left: 1px solid gray;box-sizing: border-box;top: 0;bottom: 0;left: 50%;z-index: 0;}#sk-container-id-2 div.sk-serial {display: flex;flex-direction: column;align-items: center;background-color: white;padding-right: 0.2em;padding-left: 0.2em;position: relative;}#sk-container-id-2 div.sk-item {position: relative;z-index: 1;}#sk-container-id-2 div.sk-parallel {display: flex;align-items: stretch;justify-content: center;background-color: white;position: relative;}#sk-container-id-2 div.sk-item::before, #sk-container-id-2 div.sk-parallel-item::before {content: \"\";position: absolute;border-left: 1px solid gray;box-sizing: border-box;top: 0;bottom: 0;left: 50%;z-index: -1;}#sk-container-id-2 div.sk-parallel-item {display: flex;flex-direction: column;z-index: 1;position: relative;background-color: white;}#sk-container-id-2 div.sk-parallel-item:first-child::after {align-self: flex-end;width: 50%;}#sk-container-id-2 div.sk-parallel-item:last-child::after {align-self: flex-start;width: 50%;}#sk-container-id-2 div.sk-parallel-item:only-child::after {width: 0;}#sk-container-id-2 div.sk-dashed-wrapped {border: 1px dashed gray;margin: 0 0.4em 0.5em 0.4em;box-sizing: border-box;padding-bottom: 0.4em;background-color: white;}#sk-container-id-2 div.sk-label label {font-family: monospace;font-weight: bold;display: inline-block;line-height: 1.2em;}#sk-container-id-2 div.sk-label-container {text-align: center;}#sk-container-id-2 div.sk-container {/* jupyter's `normalize.less` sets `[hidden] { display: none; }` but bootstrap.min.css set `[hidden] { display: none !important; }` so we also need the `!important` here to be able to override the default hidden behavior on the sphinx rendered scikit-learn.org. See: https://github.com/scikit-learn/scikit-learn/issues/21755 */display: inline-block !important;position: relative;}#sk-container-id-2 div.sk-text-repr-fallback {display: none;}</style><div id=\"sk-container-id-2\" class=\"sk-top-container\"><div class=\"sk-text-repr-fallback\"><pre>RandomForestClassifier()</pre><b>In a Jupyter environment, please rerun this cell to show the HTML representation or trust the notebook. <br />On GitHub, the HTML representation is unable to render, please try loading this page with nbviewer.org.</b></div><div class=\"sk-container\" hidden><div class=\"sk-item\"><div class=\"sk-estimator sk-toggleable\"><input class=\"sk-toggleable__control sk-hidden--visually\" id=\"sk-estimator-id-2\" type=\"checkbox\" checked><label for=\"sk-estimator-id-2\" class=\"sk-toggleable__label sk-toggleable__label-arrow\">RandomForestClassifier</label><div class=\"sk-toggleable__content\"><pre>RandomForestClassifier()</pre></div></div></div></div></div>"
      ],
      "text/plain": [
       "RandomForestClassifier()"
      ]
     },
     "execution_count": 9,
     "metadata": {},
     "output_type": "execute_result"
    }
   ],
   "source": [
    "RandomForestClassifier\n",
    "RandomForestClassifier()\n"
   ]
  },
  {
   "cell_type": "code",
   "execution_count": 10,
   "id": "dece8736",
   "metadata": {
    "execution": {
     "iopub.execute_input": "2024-03-29T11:24:28.861011Z",
     "iopub.status.busy": "2024-03-29T11:24:28.860619Z",
     "iopub.status.idle": "2024-03-29T11:24:28.874723Z",
     "shell.execute_reply": "2024-03-29T11:24:28.873487Z"
    },
    "papermill": {
     "duration": 0.022699,
     "end_time": "2024-03-29T11:24:28.877178",
     "exception": false,
     "start_time": "2024-03-29T11:24:28.854479",
     "status": "completed"
    },
    "tags": []
   },
   "outputs": [
    {
     "name": "stdout",
     "output_type": "stream",
     "text": [
      "Validation Accuracy: 1.0\n"
     ]
    }
   ],
   "source": [
    "# Evaluate the model\n",
    "val_predictions = model.predict(X_val)\n",
    "accuracy = accuracy_score(y_val, val_predictions)\n",
    "print(\"Validation Accuracy:\", accuracy)"
   ]
  },
  {
   "cell_type": "code",
   "execution_count": 11,
   "id": "158fdfa8",
   "metadata": {
    "execution": {
     "iopub.execute_input": "2024-03-29T11:24:28.888818Z",
     "iopub.status.busy": "2024-03-29T11:24:28.888425Z",
     "iopub.status.idle": "2024-03-29T11:24:28.897107Z",
     "shell.execute_reply": "2024-03-29T11:24:28.896040Z"
    },
    "papermill": {
     "duration": 0.017616,
     "end_time": "2024-03-29T11:24:28.899574",
     "exception": false,
     "start_time": "2024-03-29T11:24:28.881958",
     "status": "completed"
    },
    "tags": []
   },
   "outputs": [],
   "source": [
    "# Step 4: Read the test data\n",
    "test_df = pd.read_csv(\"/kaggle/input/llm-prompt-recovery/test.csv\")\n"
   ]
  },
  {
   "cell_type": "code",
   "execution_count": 12,
   "id": "df8248c3",
   "metadata": {
    "execution": {
     "iopub.execute_input": "2024-03-29T11:24:28.911614Z",
     "iopub.status.busy": "2024-03-29T11:24:28.910571Z",
     "iopub.status.idle": "2024-03-29T11:24:28.917428Z",
     "shell.execute_reply": "2024-03-29T11:24:28.916172Z"
    },
    "papermill": {
     "duration": 0.015349,
     "end_time": "2024-03-29T11:24:28.919898",
     "exception": false,
     "start_time": "2024-03-29T11:24:28.904549",
     "status": "completed"
    },
    "tags": []
   },
   "outputs": [],
   "source": [
    "# Step 5: Transform test data using TF-IDF vectorizer\n",
    "test_text_tfidf = tfidf_vectorizer.transform(test_df[\"original_text\"])\n"
   ]
  },
  {
   "cell_type": "code",
   "execution_count": 13,
   "id": "3956dd60",
   "metadata": {
    "execution": {
     "iopub.execute_input": "2024-03-29T11:24:28.932440Z",
     "iopub.status.busy": "2024-03-29T11:24:28.931752Z",
     "iopub.status.idle": "2024-03-29T11:24:28.941967Z",
     "shell.execute_reply": "2024-03-29T11:24:28.941286Z"
    },
    "papermill": {
     "duration": 0.019209,
     "end_time": "2024-03-29T11:24:28.944424",
     "exception": false,
     "start_time": "2024-03-29T11:24:28.925215",
     "status": "completed"
    },
    "tags": []
   },
   "outputs": [],
   "source": [
    "# Step 6: Make predictions on the test data\n",
    "test_predictions = model.predict(test_text_tfidf)\n"
   ]
  },
  {
   "cell_type": "code",
   "execution_count": 14,
   "id": "f0ab7bce",
   "metadata": {
    "execution": {
     "iopub.execute_input": "2024-03-29T11:24:28.956166Z",
     "iopub.status.busy": "2024-03-29T11:24:28.955831Z",
     "iopub.status.idle": "2024-03-29T11:24:28.965576Z",
     "shell.execute_reply": "2024-03-29T11:24:28.964543Z"
    },
    "papermill": {
     "duration": 0.018624,
     "end_time": "2024-03-29T11:24:28.968340",
     "exception": false,
     "start_time": "2024-03-29T11:24:28.949716",
     "status": "completed"
    },
    "tags": []
   },
   "outputs": [],
   "source": [
    "# Step 7: Create submission file\n",
    "submission_df = pd.read_csv(\"/kaggle/input/llm-prompt-recovery/sample_submission.csv\")\n",
    "submission_df[\"rewritten_text\"] = test_predictions\n"
   ]
  },
  {
   "cell_type": "code",
   "execution_count": 15,
   "id": "b3058d91",
   "metadata": {
    "execution": {
     "iopub.execute_input": "2024-03-29T11:24:28.980033Z",
     "iopub.status.busy": "2024-03-29T11:24:28.979718Z",
     "iopub.status.idle": "2024-03-29T11:24:28.993316Z",
     "shell.execute_reply": "2024-03-29T11:24:28.992554Z"
    },
    "papermill": {
     "duration": 0.021638,
     "end_time": "2024-03-29T11:24:28.995283",
     "exception": false,
     "start_time": "2024-03-29T11:24:28.973645",
     "status": "completed"
    },
    "tags": []
   },
   "outputs": [
    {
     "data": {
      "text/html": [
       "<div>\n",
       "<style scoped>\n",
       "    .dataframe tbody tr th:only-of-type {\n",
       "        vertical-align: middle;\n",
       "    }\n",
       "\n",
       "    .dataframe tbody tr th {\n",
       "        vertical-align: top;\n",
       "    }\n",
       "\n",
       "    .dataframe thead th {\n",
       "        text-align: right;\n",
       "    }\n",
       "</style>\n",
       "<table border=\"1\" class=\"dataframe\">\n",
       "  <thead>\n",
       "    <tr style=\"text-align: right;\">\n",
       "      <th></th>\n",
       "      <th>id</th>\n",
       "      <th>rewrite_prompt</th>\n",
       "      <th>rewritten_text</th>\n",
       "    </tr>\n",
       "  </thead>\n",
       "  <tbody>\n",
       "    <tr>\n",
       "      <th>0</th>\n",
       "      <td>9559194</td>\n",
       "      <td>Improve that text.</td>\n",
       "      <td>Here is your shanty: (Verse 1) The text is rew...</td>\n",
       "    </tr>\n",
       "  </tbody>\n",
       "</table>\n",
       "</div>"
      ],
      "text/plain": [
       "        id      rewrite_prompt  \\\n",
       "0  9559194  Improve that text.   \n",
       "\n",
       "                                      rewritten_text  \n",
       "0  Here is your shanty: (Verse 1) The text is rew...  "
      ]
     },
     "execution_count": 15,
     "metadata": {},
     "output_type": "execute_result"
    }
   ],
   "source": [
    "# Save submission file\n",
    "submission_df.to_csv(\"submission.csv\", index=False)\n",
    "submission_df.head()"
   ]
  },
  {
   "cell_type": "code",
   "execution_count": 16,
   "id": "e8ef1b4b",
   "metadata": {
    "execution": {
     "iopub.execute_input": "2024-03-29T11:24:29.009290Z",
     "iopub.status.busy": "2024-03-29T11:24:29.008461Z",
     "iopub.status.idle": "2024-03-29T11:24:29.013725Z",
     "shell.execute_reply": "2024-03-29T11:24:29.013025Z"
    },
    "papermill": {
     "duration": 0.015092,
     "end_time": "2024-03-29T11:24:29.015648",
     "exception": false,
     "start_time": "2024-03-29T11:24:29.000556",
     "status": "completed"
    },
    "tags": []
   },
   "outputs": [],
   "source": [
    "submission_df.to_csv(\"submission.csv\", index=False)\n"
   ]
  }
 ],
 "metadata": {
  "kaggle": {
   "accelerator": "none",
   "dataSources": [
    {
     "databundleVersionId": 7806901,
     "sourceId": 67121,
     "sourceType": "competition"
    }
   ],
   "dockerImageVersionId": 30673,
   "isGpuEnabled": false,
   "isInternetEnabled": false,
   "language": "python",
   "sourceType": "notebook"
  },
  "kernelspec": {
   "display_name": "Python 3",
   "language": "python",
   "name": "python3"
  },
  "language_info": {
   "codemirror_mode": {
    "name": "ipython",
    "version": 3
   },
   "file_extension": ".py",
   "mimetype": "text/x-python",
   "name": "python",
   "nbconvert_exporter": "python",
   "pygments_lexer": "ipython3",
   "version": "3.10.13"
  },
  "papermill": {
   "default_parameters": {},
   "duration": 6.244425,
   "end_time": "2024-03-29T11:24:29.842849",
   "environment_variables": {},
   "exception": null,
   "input_path": "__notebook__.ipynb",
   "output_path": "__notebook__.ipynb",
   "parameters": {},
   "start_time": "2024-03-29T11:24:23.598424",
   "version": "2.5.0"
  }
 },
 "nbformat": 4,
 "nbformat_minor": 5
}
