{
 "cells": [
  {
   "cell_type": "markdown",
   "id": "be6c81db",
   "metadata": {
    "papermill": {
     "duration": 0.00378,
     "end_time": "2024-04-15T19:05:55.719448",
     "exception": false,
     "start_time": "2024-04-15T19:05:55.715668",
     "status": "completed"
    },
    "tags": []
   },
   "source": [
    "# Imports"
   ]
  },
  {
   "cell_type": "code",
   "execution_count": 1,
   "id": "a59d77b8",
   "metadata": {
    "execution": {
     "iopub.execute_input": "2024-04-15T19:05:55.729049Z",
     "iopub.status.busy": "2024-04-15T19:05:55.728574Z",
     "iopub.status.idle": "2024-04-15T19:05:56.808672Z",
     "shell.execute_reply": "2024-04-15T19:05:56.807355Z"
    },
    "papermill": {
     "duration": 1.088979,
     "end_time": "2024-04-15T19:05:56.811908",
     "exception": false,
     "start_time": "2024-04-15T19:05:55.722929",
     "status": "completed"
    },
    "tags": []
   },
   "outputs": [],
   "source": [
    "import numpy as np \n",
    "import pandas as pd "
   ]
  },
  {
   "cell_type": "code",
   "execution_count": 2,
   "id": "56ab2676",
   "metadata": {
    "execution": {
     "iopub.execute_input": "2024-04-15T19:05:56.821032Z",
     "iopub.status.busy": "2024-04-15T19:05:56.820385Z",
     "iopub.status.idle": "2024-04-15T19:05:56.825689Z",
     "shell.execute_reply": "2024-04-15T19:05:56.824425Z"
    },
    "papermill": {
     "duration": 0.012931,
     "end_time": "2024-04-15T19:05:56.828263",
     "exception": false,
     "start_time": "2024-04-15T19:05:56.815332",
     "status": "completed"
    },
    "tags": []
   },
   "outputs": [],
   "source": [
    "target=[\"Rings\"]"
   ]
  },
  {
   "cell_type": "markdown",
   "id": "22d3907a",
   "metadata": {
    "papermill": {
     "duration": 0.002699,
     "end_time": "2024-04-15T19:05:56.834200",
     "exception": false,
     "start_time": "2024-04-15T19:05:56.831501",
     "status": "completed"
    },
    "tags": []
   },
   "source": [
    "# Mathematical Generalization"
   ]
  },
  {
   "cell_type": "markdown",
   "id": "5a869971",
   "metadata": {
    "papermill": {
     "duration": 0.002612,
     "end_time": "2024-04-15T19:05:56.839803",
     "exception": false,
     "start_time": "2024-04-15T19:05:56.837191",
     "status": "completed"
    },
    "tags": []
   },
   "source": [
    "<font size=\"3\"> We can use different types of means such as Geometric Mean, Arithmetic Mean, and Harmonic Mean</font>\n",
    "\n",
    " * **Geometric Mean:**\n",
    "The Geometric Mean is calculated by taking the nth root of the product of n numbers.\n",
    "\n",
    "Geometric Mean = (x₁ * x₂ * x₃ * ... * xₙ)^(1/n)\n",
    "\n",
    "* **Arithmetic Mean:**\n",
    "The Arithmetic Mean is the sum of all the numbers in a series divided by the total number of values.\n",
    "\n",
    "Arithmetic Mean = (x₁ + x₂ + x₃ + ... + xₙ) / n\n",
    "\n",
    "* **Harmonic Mean:**\n",
    "The Harmonic Mean is calculated by taking the reciprocal of the arithmetic mean of the reciprocals of the numbers in the series.\n",
    "\n",
    "Harmonic Mean = n / ((1/x₁) + (1/x₂) + (1/x₃) + ... + (1/xₙ))\n",
    "\n",
    "where x₁ , x₂ , x₃ , ... ,xₙ are vectors predicted from each submission\n",
    "\n",
    "<font size=\"3\">For a set of positive predictions, the Harmonic Mean is the smallest, followed by the Geometric Mean, and then the Arithmetic Mean with the largest values on average</font>\n",
    "\n",
    "**When to use:**\n",
    "1. Geometric Mean is less sensitive to extreme values (outliers) in the data compared to the arithmetic mean. This can give a better results and reduces overfitted predictions.\n",
    "2. Arithmetic Mean is sensitive to extreme values. One very large or very small number can significantly affect the mean. Applicable for cases where large predictions are important. \n",
    "3. Harmonic Mean is rarely used and this can give more weightage to smaller numbers among the predictions\n",
    "\n",
    "**Weights:** Weights are assigned by repeating the predictions in the computation, a general method is to assign rank, least RMSE gets a larger # as rank"
   ]
  },
  {
   "cell_type": "markdown",
   "id": "1571a909",
   "metadata": {
    "papermill": {
     "duration": 0.002588,
     "end_time": "2024-04-15T19:05:56.845463",
     "exception": false,
     "start_time": "2024-04-15T19:05:56.842875",
     "status": "completed"
    },
    "tags": []
   },
   "source": [
    "<font size=\"3\"> My notebook on solvong the problem statement with detailed feature engineering  and modeling is located [here](https://www.kaggle.com/code/arunklenin/ps4e4-abalone-age-prediction-regression)</font>\n",
    "\n",
    "<font size=\"3\">Two external notebook results have been considered</font>\n",
    " 1. [https://www.kaggle.com/code/igorvolianiuk/abalone-rings-ensemble](https://www.kaggle.com/code/igorvolianiuk/abalone-rings-ensemble) \n",
    " 2. [https://www.kaggle.com/code/mfmfmf3/clean-code-voting-regressor-base-3-models](https://www.kaggle.com/code/mfmfmf3/clean-code-voting-regressor-base-3-models)"
   ]
  },
  {
   "cell_type": "code",
   "execution_count": 3,
   "id": "016c9a4d",
   "metadata": {
    "execution": {
     "iopub.execute_input": "2024-04-15T19:05:56.854275Z",
     "iopub.status.busy": "2024-04-15T19:05:56.853800Z",
     "iopub.status.idle": "2024-04-15T19:05:57.200527Z",
     "shell.execute_reply": "2024-04-15T19:05:57.198808Z"
    },
    "papermill": {
     "duration": 0.355313,
     "end_time": "2024-04-15T19:05:57.203610",
     "exception": false,
     "start_time": "2024-04-15T19:05:56.848297",
     "status": "completed"
    },
    "tags": []
   },
   "outputs": [
    {
     "data": {
      "text/html": [
       "<div>\n",
       "<style scoped>\n",
       "    .dataframe tbody tr th:only-of-type {\n",
       "        vertical-align: middle;\n",
       "    }\n",
       "\n",
       "    .dataframe tbody tr th {\n",
       "        vertical-align: top;\n",
       "    }\n",
       "\n",
       "    .dataframe thead th {\n",
       "        text-align: right;\n",
       "    }\n",
       "</style>\n",
       "<table border=\"1\" class=\"dataframe\">\n",
       "  <thead>\n",
       "    <tr style=\"text-align: right;\">\n",
       "      <th></th>\n",
       "      <th>id</th>\n",
       "      <th>Rings</th>\n",
       "    </tr>\n",
       "  </thead>\n",
       "  <tbody>\n",
       "    <tr>\n",
       "      <th>0</th>\n",
       "      <td>90615</td>\n",
       "      <td>9.721186</td>\n",
       "    </tr>\n",
       "    <tr>\n",
       "      <th>1</th>\n",
       "      <td>90616</td>\n",
       "      <td>9.688203</td>\n",
       "    </tr>\n",
       "    <tr>\n",
       "      <th>2</th>\n",
       "      <td>90617</td>\n",
       "      <td>9.685821</td>\n",
       "    </tr>\n",
       "    <tr>\n",
       "      <th>3</th>\n",
       "      <td>90618</td>\n",
       "      <td>10.545066</td>\n",
       "    </tr>\n",
       "    <tr>\n",
       "      <th>4</th>\n",
       "      <td>90619</td>\n",
       "      <td>7.597252</td>\n",
       "    </tr>\n",
       "  </tbody>\n",
       "</table>\n",
       "</div>"
      ],
      "text/plain": [
       "      id      Rings\n",
       "0  90615   9.721186\n",
       "1  90616   9.688203\n",
       "2  90617   9.685821\n",
       "3  90618  10.545066\n",
       "4  90619   7.597252"
      ]
     },
     "execution_count": 3,
     "metadata": {},
     "output_type": "execute_result"
    }
   ],
   "source": [
    "sub_external1=pd.read_csv(\"/kaggle/input/clean-code-voting-regressor-base-3-models/submission_0.14550.csv\")\n",
    "sub_external2=pd.read_csv(\"/kaggle/input/abalone-rings-ensemble/submission.csv\")\n",
    "submission1=pd.read_csv(\"/kaggle/input/ps4e4-ensemble-ancillary/sub_pure_14556.csv\")\n",
    "submission2=pd.read_csv(\"/kaggle/input/ps4e4-ensemble-ancillary/sub_pure_14563.csv\")\n",
    "submission3=pd.read_csv(\"/kaggle/input/ps4e4-ensemble-ancillary/sub_pure_14572.csv\")\n",
    "submission4=pd.read_csv(\"/kaggle/input/ps4e4-ensemble-ancillary/sub_pure_14648.csv\")\n",
    "submission5=pd.read_csv(\"/kaggle/input/ps4e4-ensemble-ancillary/sub_pure_14651.csv\")\n",
    "\n",
    "\"\"\"\n",
    "Select submissions from different versions of your work or other's predictions. Different frameworks result in better generalization\n",
    "\"\"\"\n",
    "\n",
    "\n",
    "sub_list=[sub_external1,sub_external2,submission1,submission2,submission3, submission4, submission5] # list all the results\n",
    "\n",
    "\"\"\"\n",
    "Since there are 7 predictions, I'm assigning a weight 5 for the best three results and 1 each for the others\n",
    "\"\"\"\n",
    "weights=[6,6,6,1,1,1,1]\n",
    "\n",
    "if len(sub_list)==len(weights):\n",
    "    weighted_list = [item for sublist, weight in zip(sub_list, weights) for item in [sublist] * weight]\n",
    "    \n",
    "\n",
    "def ensemble_mean(sub_list,cols, mean=\"AM\"):\n",
    "    \n",
    "    \"\"\"\n",
    "    The function computes Arithmetic Mean/Geometric Mean/Harmonic Mean given a list of results with specific results.\n",
    "    \"\"\"\n",
    "    \n",
    "    sub_out=sub_list[0].copy()\n",
    "    if mean==\"AM\":\n",
    "        for col in cols:\n",
    "            sub_out[col]=sum(df[col] for df in sub_list)/len(sub_list)\n",
    "    elif mean==\"GM\":\n",
    "        for df in sub_list[1:]:\n",
    "            for col in cols:\n",
    "                sub_out[col]*=df[col]\n",
    "        for col in cols:\n",
    "            sub_out[col]=(sub_out[col])**(1/len(sub_list))\n",
    "    elif mean==\"HM\":\n",
    "        for col in cols:\n",
    "            sub_out[col]=len(sub_list)/sum(1/df[col] for df in sub_list)\n",
    "    \n",
    "    return sub_out\n",
    "    \n",
    "sub_ensemble=ensemble_mean(weighted_list,target,mean=\"HM\")\n",
    "sub_ensemble.head()"
   ]
  },
  {
   "cell_type": "code",
   "execution_count": 4,
   "id": "514246cc",
   "metadata": {
    "execution": {
     "iopub.execute_input": "2024-04-15T19:05:57.212697Z",
     "iopub.status.busy": "2024-04-15T19:05:57.212252Z",
     "iopub.status.idle": "2024-04-15T19:05:57.373100Z",
     "shell.execute_reply": "2024-04-15T19:05:57.371931Z"
    },
    "papermill": {
     "duration": 0.168536,
     "end_time": "2024-04-15T19:05:57.375780",
     "exception": false,
     "start_time": "2024-04-15T19:05:57.207244",
     "status": "completed"
    },
    "tags": []
   },
   "outputs": [
    {
     "data": {
      "text/html": [
       "<div>\n",
       "<style scoped>\n",
       "    .dataframe tbody tr th:only-of-type {\n",
       "        vertical-align: middle;\n",
       "    }\n",
       "\n",
       "    .dataframe tbody tr th {\n",
       "        vertical-align: top;\n",
       "    }\n",
       "\n",
       "    .dataframe thead th {\n",
       "        text-align: right;\n",
       "    }\n",
       "</style>\n",
       "<table border=\"1\" class=\"dataframe\">\n",
       "  <thead>\n",
       "    <tr style=\"text-align: right;\">\n",
       "      <th></th>\n",
       "      <th>id</th>\n",
       "      <th>Rings</th>\n",
       "    </tr>\n",
       "  </thead>\n",
       "  <tbody>\n",
       "    <tr>\n",
       "      <th>0</th>\n",
       "      <td>90615</td>\n",
       "      <td>9.721186</td>\n",
       "    </tr>\n",
       "    <tr>\n",
       "      <th>1</th>\n",
       "      <td>90616</td>\n",
       "      <td>9.688203</td>\n",
       "    </tr>\n",
       "    <tr>\n",
       "      <th>2</th>\n",
       "      <td>90617</td>\n",
       "      <td>9.685821</td>\n",
       "    </tr>\n",
       "    <tr>\n",
       "      <th>3</th>\n",
       "      <td>90618</td>\n",
       "      <td>10.545066</td>\n",
       "    </tr>\n",
       "    <tr>\n",
       "      <th>4</th>\n",
       "      <td>90619</td>\n",
       "      <td>7.597252</td>\n",
       "    </tr>\n",
       "  </tbody>\n",
       "</table>\n",
       "</div>"
      ],
      "text/plain": [
       "      id      Rings\n",
       "0  90615   9.721186\n",
       "1  90616   9.688203\n",
       "2  90617   9.685821\n",
       "3  90618  10.545066\n",
       "4  90619   7.597252"
      ]
     },
     "execution_count": 4,
     "metadata": {},
     "output_type": "execute_result"
    }
   ],
   "source": [
    "sub_ensemble.to_csv('submission.csv',index=False)\n",
    "sub_ensemble.head()"
   ]
  }
 ],
 "metadata": {
  "kaggle": {
   "accelerator": "none",
   "dataSources": [
    {
     "databundleVersionId": 8096274,
     "sourceId": 72489,
     "sourceType": "competition"
    },
    {
     "datasetId": 4729127,
     "sourceId": 8093830,
     "sourceType": "datasetVersion"
    },
    {
     "sourceId": 171229461,
     "sourceType": "kernelVersion"
    },
    {
     "sourceId": 171846550,
     "sourceType": "kernelVersion"
    },
    {
     "sourceId": 171935578,
     "sourceType": "kernelVersion"
    }
   ],
   "dockerImageVersionId": 30673,
   "isGpuEnabled": false,
   "isInternetEnabled": true,
   "language": "python",
   "sourceType": "notebook"
  },
  "kernelspec": {
   "display_name": "Python 3",
   "language": "python",
   "name": "python3"
  },
  "language_info": {
   "codemirror_mode": {
    "name": "ipython",
    "version": 3
   },
   "file_extension": ".py",
   "mimetype": "text/x-python",
   "name": "python",
   "nbconvert_exporter": "python",
   "pygments_lexer": "ipython3",
   "version": "3.10.13"
  },
  "papermill": {
   "default_parameters": {},
   "duration": 5.511704,
   "end_time": "2024-04-15T19:05:58.104740",
   "environment_variables": {},
   "exception": null,
   "input_path": "__notebook__.ipynb",
   "output_path": "__notebook__.ipynb",
   "parameters": {},
   "start_time": "2024-04-15T19:05:52.593036",
   "version": "2.5.0"
  }
 },
 "nbformat": 4,
 "nbformat_minor": 5
}
