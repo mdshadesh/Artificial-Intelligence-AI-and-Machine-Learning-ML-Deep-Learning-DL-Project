{
 "cells": [
  {
   "cell_type": "markdown",
   "id": "c402ee2e",
   "metadata": {
    "papermill": {
     "duration": 0.015816,
     "end_time": "2021-11-16T05:11:51.726926",
     "exception": false,
     "start_time": "2021-11-16T05:11:51.711110",
     "status": "completed"
    },
    "tags": []
   },
   "source": [
    "<span style=\"color: #000508; font-family: Segoe UI; font-size: 1.2em; font-weight: 300;\">🎯 Training Kernel: <strong><a href=\"https://www.kaggle.com/debarshichanda/pytorch-w-b-jigsaw-starter\">[Pytorch + W&B] Jigsaw Starter</a></strong>.</span>"
   ]
  },
  {
   "cell_type": "code",
   "execution_count": 1,
   "id": "98c1f918",
   "metadata": {
    "execution": {
     "iopub.execute_input": "2021-11-16T05:11:51.758110Z",
     "iopub.status.busy": "2021-11-16T05:11:51.756589Z",
     "iopub.status.idle": "2021-11-16T05:11:58.194879Z",
     "shell.execute_reply": "2021-11-16T05:11:58.194237Z",
     "shell.execute_reply.started": "2021-11-16T04:30:55.571963Z"
    },
    "papermill": {
     "duration": 6.454279,
     "end_time": "2021-11-16T05:11:58.195049",
     "exception": false,
     "start_time": "2021-11-16T05:11:51.740770",
     "status": "completed"
    },
    "tags": []
   },
   "outputs": [],
   "source": [
    "import os\n",
    "import gc\n",
    "import cv2\n",
    "import copy\n",
    "import time\n",
    "import random\n",
    "import re\n",
    "\n",
    "# For data manipulation\n",
    "import numpy as np\n",
    "import pandas as pd\n",
    "\n",
    "# Pytorch Imports\n",
    "import torch\n",
    "import torch.nn as nn\n",
    "from torch.utils.data import Dataset, DataLoader\n",
    "\n",
    "# For Transformer Models\n",
    "from transformers import AutoTokenizer, AutoModel\n",
    "\n",
    "# Utils\n",
    "from tqdm import tqdm\n",
    "\n",
    "# For descriptive error messages\n",
    "os.environ['CUDA_LAUNCH_BLOCKING'] = \"1\""
   ]
  },
  {
   "cell_type": "code",
   "execution_count": 2,
   "id": "148f3ec1",
   "metadata": {
    "execution": {
     "iopub.execute_input": "2021-11-16T05:11:58.224691Z",
     "iopub.status.busy": "2021-11-16T05:11:58.224151Z",
     "iopub.status.idle": "2021-11-16T05:11:58.319606Z",
     "shell.execute_reply": "2021-11-16T05:11:58.319072Z",
     "shell.execute_reply.started": "2021-11-16T04:30:11.460331Z"
    },
    "papermill": {
     "duration": 0.11201,
     "end_time": "2021-11-16T05:11:58.319759",
     "exception": false,
     "start_time": "2021-11-16T05:11:58.207749",
     "status": "completed"
    },
    "tags": []
   },
   "outputs": [],
   "source": [
    "df = pd.read_csv(\"../input/jigsaw-toxic-severity-rating/comments_to_score.csv\")"
   ]
  },
  {
   "cell_type": "code",
   "execution_count": 3,
   "id": "c686c3d0",
   "metadata": {
    "execution": {
     "iopub.execute_input": "2021-11-16T05:11:58.348131Z",
     "iopub.status.busy": "2021-11-16T05:11:58.347392Z",
     "iopub.status.idle": "2021-11-16T05:11:58.349826Z",
     "shell.execute_reply": "2021-11-16T05:11:58.349402Z",
     "shell.execute_reply.started": "2021-11-16T04:30:58.95827Z"
    },
    "papermill": {
     "duration": 0.017856,
     "end_time": "2021-11-16T05:11:58.349946",
     "exception": false,
     "start_time": "2021-11-16T05:11:58.332090",
     "status": "completed"
    },
    "tags": []
   },
   "outputs": [],
   "source": [
    "# # Clean Data \n",
    "# for i in range(0,len(df)):\n",
    "#     df['text'][i] = re.sub('[^a-zA-Z]',' ', df['text'][i])"
   ]
  },
  {
   "cell_type": "code",
   "execution_count": 4,
   "id": "e297087a",
   "metadata": {
    "execution": {
     "iopub.execute_input": "2021-11-16T05:11:58.377391Z",
     "iopub.status.busy": "2021-11-16T05:11:58.376583Z",
     "iopub.status.idle": "2021-11-16T05:11:58.593379Z",
     "shell.execute_reply": "2021-11-16T05:11:58.592506Z",
     "shell.execute_reply.started": "2021-11-16T04:31:29.887669Z"
    },
    "papermill": {
     "duration": 0.23147,
     "end_time": "2021-11-16T05:11:58.593521",
     "exception": false,
     "start_time": "2021-11-16T05:11:58.362051",
     "status": "completed"
    },
    "tags": []
   },
   "outputs": [],
   "source": [
    "CONFIG = dict(\n",
    "    seed = 42,\n",
    "    model_name = '../input/roberta-base',\n",
    "    test_batch_size = 64,\n",
    "    max_length = 128,\n",
    "    num_classes = 1,\n",
    "    device = torch.device(\"cuda:0\" if torch.cuda.is_available() else \"cpu\")\n",
    ")\n",
    "\n",
    "CONFIG[\"tokenizer\"] = AutoTokenizer.from_pretrained(CONFIG['model_name'])"
   ]
  },
  {
   "cell_type": "code",
   "execution_count": 5,
   "id": "fa621f03",
   "metadata": {
    "execution": {
     "iopub.execute_input": "2021-11-16T05:11:58.622277Z",
     "iopub.status.busy": "2021-11-16T05:11:58.621552Z",
     "iopub.status.idle": "2021-11-16T05:11:58.624244Z",
     "shell.execute_reply": "2021-11-16T05:11:58.623823Z",
     "shell.execute_reply.started": "2021-11-16T04:31:33.57595Z"
    },
    "papermill": {
     "duration": 0.01855,
     "end_time": "2021-11-16T05:11:58.624353",
     "exception": false,
     "start_time": "2021-11-16T05:11:58.605803",
     "status": "completed"
    },
    "tags": []
   },
   "outputs": [],
   "source": [
    "MODEL_PATHS = [\n",
    "    '../input/pytorch-w-b-jigsaw-starter/Loss-Fold-0.bin',\n",
    "    '../input/pytorch-w-b-jigsaw-starter/Loss-Fold-1.bin',\n",
    "    '../input/pytorch-w-b-jigsaw-starter/Loss-Fold-2.bin',\n",
    "    '../input/pytorch-w-b-jigsaw-starter/Loss-Fold-3.bin',\n",
    "    '../input/pytorch-w-b-jigsaw-starter/Loss-Fold-4.bin'\n",
    "]"
   ]
  },
  {
   "cell_type": "code",
   "execution_count": 6,
   "id": "1415a4c3",
   "metadata": {
    "execution": {
     "iopub.execute_input": "2021-11-16T05:11:58.655100Z",
     "iopub.status.busy": "2021-11-16T05:11:58.654429Z",
     "iopub.status.idle": "2021-11-16T05:11:58.659307Z",
     "shell.execute_reply": "2021-11-16T05:11:58.658864Z",
     "shell.execute_reply.started": "2021-11-16T04:31:39.438902Z"
    },
    "papermill": {
     "duration": 0.022894,
     "end_time": "2021-11-16T05:11:58.659409",
     "exception": false,
     "start_time": "2021-11-16T05:11:58.636515",
     "status": "completed"
    },
    "tags": []
   },
   "outputs": [],
   "source": [
    "def set_seed(seed = 42):\n",
    "    '''Sets the seed of the entire notebook so results are the same every time we run.\n",
    "    This is for REPRODUCIBILITY.'''\n",
    "    np.random.seed(seed)\n",
    "    random.seed(seed)\n",
    "    torch.manual_seed(seed)\n",
    "    torch.cuda.manual_seed(seed)\n",
    "    # When running on the CuDNN backend, two further options must be set\n",
    "    torch.backends.cudnn.deterministic = True\n",
    "    torch.backends.cudnn.benchmark = False\n",
    "    # Set a fixed value for the hash seed\n",
    "    os.environ['PYTHONHASHSEED'] = str(seed)\n",
    "    \n",
    "set_seed(CONFIG['seed'])"
   ]
  },
  {
   "cell_type": "code",
   "execution_count": 7,
   "id": "3dbc543f",
   "metadata": {
    "execution": {
     "iopub.execute_input": "2021-11-16T05:11:58.690594Z",
     "iopub.status.busy": "2021-11-16T05:11:58.689788Z",
     "iopub.status.idle": "2021-11-16T05:11:58.691849Z",
     "shell.execute_reply": "2021-11-16T05:11:58.692339Z",
     "shell.execute_reply.started": "2021-11-16T04:31:43.008405Z"
    },
    "papermill": {
     "duration": 0.021136,
     "end_time": "2021-11-16T05:11:58.692454",
     "exception": false,
     "start_time": "2021-11-16T05:11:58.671318",
     "status": "completed"
    },
    "tags": []
   },
   "outputs": [],
   "source": [
    "class JigsawDataset(Dataset):\n",
    "    def __init__(self, df, tokenizer, max_length):\n",
    "        self.df = df\n",
    "        self.max_len = max_length\n",
    "        self.tokenizer = tokenizer\n",
    "        self.text = df['text'].values\n",
    "        \n",
    "    def __len__(self):\n",
    "        return len(self.df)\n",
    "    \n",
    "    def __getitem__(self, index):\n",
    "        text = self.text[index]\n",
    "        inputs = self.tokenizer.encode_plus(\n",
    "                        text,\n",
    "                        truncation=True,\n",
    "                        add_special_tokens=True,\n",
    "                        max_length=self.max_len,\n",
    "                        padding='max_length'\n",
    "                    )\n",
    "        \n",
    "        ids = inputs['input_ids']\n",
    "        mask = inputs['attention_mask']        \n",
    "        \n",
    "        return {\n",
    "            'ids': torch.tensor(ids, dtype=torch.long),\n",
    "            'mask': torch.tensor(mask, dtype=torch.long)\n",
    "        }"
   ]
  },
  {
   "cell_type": "code",
   "execution_count": 8,
   "id": "7d6cbc6e",
   "metadata": {
    "execution": {
     "iopub.execute_input": "2021-11-16T05:11:58.719379Z",
     "iopub.status.busy": "2021-11-16T05:11:58.718548Z",
     "iopub.status.idle": "2021-11-16T05:11:58.728993Z",
     "shell.execute_reply": "2021-11-16T05:11:58.728518Z",
     "shell.execute_reply.started": "2021-11-16T04:31:46.454215Z"
    },
    "papermill": {
     "duration": 0.024687,
     "end_time": "2021-11-16T05:11:58.729098",
     "exception": false,
     "start_time": "2021-11-16T05:11:58.704411",
     "status": "completed"
    },
    "tags": []
   },
   "outputs": [],
   "source": [
    "test_dataset = JigsawDataset(df, CONFIG['tokenizer'], max_length=CONFIG['max_length'])\n",
    "test_loader = DataLoader(test_dataset, batch_size=CONFIG['test_batch_size'],\n",
    "                         num_workers=2, shuffle=False, pin_memory=True)"
   ]
  },
  {
   "cell_type": "code",
   "execution_count": 9,
   "id": "4c80ec6d",
   "metadata": {
    "execution": {
     "iopub.execute_input": "2021-11-16T05:11:58.760447Z",
     "iopub.status.busy": "2021-11-16T05:11:58.759693Z",
     "iopub.status.idle": "2021-11-16T05:11:58.762022Z",
     "shell.execute_reply": "2021-11-16T05:11:58.761578Z",
     "shell.execute_reply.started": "2021-11-16T04:31:50.581326Z"
    },
    "papermill": {
     "duration": 0.020959,
     "end_time": "2021-11-16T05:11:58.762127",
     "exception": false,
     "start_time": "2021-11-16T05:11:58.741168",
     "status": "completed"
    },
    "tags": []
   },
   "outputs": [],
   "source": [
    "class JigsawModel(nn.Module):\n",
    "    def __init__(self, model_name):\n",
    "        super(JigsawModel, self).__init__()\n",
    "        self.model = AutoModel.from_pretrained(model_name)\n",
    "        self.drop = nn.Dropout(p=0.2)\n",
    "        self.fc = nn.Linear(768, CONFIG['num_classes'])\n",
    "        \n",
    "    def forward(self, ids, mask):        \n",
    "        out = self.model(input_ids=ids,attention_mask=mask,\n",
    "                         output_hidden_states=False)\n",
    "        out = self.drop(out[1])\n",
    "        outputs = self.fc(out)\n",
    "        return outputs"
   ]
  },
  {
   "cell_type": "code",
   "execution_count": 10,
   "id": "f8caf829",
   "metadata": {
    "execution": {
     "iopub.execute_input": "2021-11-16T05:11:58.792874Z",
     "iopub.status.busy": "2021-11-16T05:11:58.792004Z",
     "iopub.status.idle": "2021-11-16T05:11:58.793792Z",
     "shell.execute_reply": "2021-11-16T05:11:58.794228Z",
     "shell.execute_reply.started": "2021-11-16T04:31:53.009324Z"
    },
    "papermill": {
     "duration": 0.020079,
     "end_time": "2021-11-16T05:11:58.794340",
     "exception": false,
     "start_time": "2021-11-16T05:11:58.774261",
     "status": "completed"
    },
    "tags": []
   },
   "outputs": [],
   "source": [
    "@torch.no_grad()\n",
    "def valid_fn(model, dataloader, device):\n",
    "    model.eval()\n",
    "    \n",
    "    dataset_size = 0\n",
    "    running_loss = 0.0\n",
    "    \n",
    "    PREDS = []\n",
    "    \n",
    "    bar = tqdm(enumerate(dataloader), total=len(dataloader))\n",
    "    for step, data in bar:\n",
    "        ids = data['ids'].to(device, dtype = torch.long)\n",
    "        mask = data['mask'].to(device, dtype = torch.long)\n",
    "        \n",
    "        outputs = model(ids, mask)\n",
    "        PREDS.append(outputs.view(-1).cpu().detach().numpy()) \n",
    "    \n",
    "    PREDS = np.concatenate(PREDS)\n",
    "    gc.collect()\n",
    "    \n",
    "    return PREDS"
   ]
  },
  {
   "cell_type": "code",
   "execution_count": 11,
   "id": "968da122",
   "metadata": {
    "execution": {
     "iopub.execute_input": "2021-11-16T05:11:58.824709Z",
     "iopub.status.busy": "2021-11-16T05:11:58.824003Z",
     "iopub.status.idle": "2021-11-16T05:11:58.826114Z",
     "shell.execute_reply": "2021-11-16T05:11:58.826484Z",
     "shell.execute_reply.started": "2021-11-16T04:31:57.957056Z"
    },
    "papermill": {
     "duration": 0.020326,
     "end_time": "2021-11-16T05:11:58.826600",
     "exception": false,
     "start_time": "2021-11-16T05:11:58.806274",
     "status": "completed"
    },
    "tags": []
   },
   "outputs": [],
   "source": [
    "def inference(model_paths, dataloader, device):\n",
    "    final_preds = []\n",
    "    for i, path in enumerate(model_paths):\n",
    "        model = JigsawModel(CONFIG['model_name'])\n",
    "        model.to(CONFIG['device'])\n",
    "        model.load_state_dict(torch.load(path))\n",
    "        \n",
    "        print(f\"Getting predictions for model {i+1}\")\n",
    "        preds = valid_fn(model, dataloader, device)\n",
    "        final_preds.append(preds)\n",
    "    \n",
    "    final_preds = np.array(final_preds)\n",
    "    final_preds = np.mean(final_preds, axis=0)\n",
    "    return final_preds"
   ]
  },
  {
   "cell_type": "code",
   "execution_count": 12,
   "id": "3228b0ab",
   "metadata": {
    "execution": {
     "iopub.execute_input": "2021-11-16T05:11:58.854965Z",
     "iopub.status.busy": "2021-11-16T05:11:58.854330Z",
     "iopub.status.idle": "2021-11-16T05:15:28.773563Z",
     "shell.execute_reply": "2021-11-16T05:15:28.773062Z",
     "shell.execute_reply.started": "2021-11-16T04:32:00.759802Z"
    },
    "papermill": {
     "duration": 209.934754,
     "end_time": "2021-11-16T05:15:28.773715",
     "exception": false,
     "start_time": "2021-11-16T05:11:58.838961",
     "status": "completed"
    },
    "tags": []
   },
   "outputs": [
    {
     "name": "stdout",
     "output_type": "stream",
     "text": [
      "Getting predictions for model 1\n"
     ]
    },
    {
     "name": "stderr",
     "output_type": "stream",
     "text": [
      "100%|██████████| 118/118 [00:31<00:00,  3.78it/s]\n"
     ]
    },
    {
     "name": "stdout",
     "output_type": "stream",
     "text": [
      "Getting predictions for model 2\n"
     ]
    },
    {
     "name": "stderr",
     "output_type": "stream",
     "text": [
      "100%|██████████| 118/118 [00:30<00:00,  3.89it/s]\n"
     ]
    },
    {
     "name": "stdout",
     "output_type": "stream",
     "text": [
      "Getting predictions for model 3\n"
     ]
    },
    {
     "name": "stderr",
     "output_type": "stream",
     "text": [
      "100%|██████████| 118/118 [00:30<00:00,  3.89it/s]\n"
     ]
    },
    {
     "name": "stdout",
     "output_type": "stream",
     "text": [
      "Getting predictions for model 4\n"
     ]
    },
    {
     "name": "stderr",
     "output_type": "stream",
     "text": [
      "100%|██████████| 118/118 [00:30<00:00,  3.89it/s]\n"
     ]
    },
    {
     "name": "stdout",
     "output_type": "stream",
     "text": [
      "Getting predictions for model 5\n"
     ]
    },
    {
     "name": "stderr",
     "output_type": "stream",
     "text": [
      "100%|██████████| 118/118 [00:30<00:00,  3.89it/s]\n"
     ]
    }
   ],
   "source": [
    "preds = inference(MODEL_PATHS, test_loader, CONFIG['device'])"
   ]
  },
  {
   "cell_type": "code",
   "execution_count": 13,
   "id": "8f454961",
   "metadata": {
    "execution": {
     "iopub.execute_input": "2021-11-16T05:15:29.117993Z",
     "iopub.status.busy": "2021-11-16T05:15:29.115561Z",
     "iopub.status.idle": "2021-11-16T05:15:29.121665Z",
     "shell.execute_reply": "2021-11-16T05:15:29.122262Z",
     "shell.execute_reply.started": "2021-11-16T04:35:35.573853Z"
    },
    "papermill": {
     "duration": 0.179216,
     "end_time": "2021-11-16T05:15:29.122437",
     "exception": false,
     "start_time": "2021-11-16T05:15:28.943221",
     "status": "completed"
    },
    "tags": []
   },
   "outputs": [
    {
     "name": "stdout",
     "output_type": "stream",
     "text": [
      "Total Predictiions: 7537\n",
      "Total Unique Predictions: 7533\n"
     ]
    }
   ],
   "source": [
    "print(f\"Total Predictiions: {preds.shape[0]}\")\n",
    "print(f\"Total Unique Predictions: {np.unique(preds).shape[0]}\")"
   ]
  },
  {
   "cell_type": "code",
   "execution_count": 14,
   "id": "9a25a511",
   "metadata": {
    "execution": {
     "iopub.execute_input": "2021-11-16T05:15:29.468455Z",
     "iopub.status.busy": "2021-11-16T05:15:29.467755Z",
     "iopub.status.idle": "2021-11-16T05:15:29.479011Z",
     "shell.execute_reply": "2021-11-16T05:15:29.479475Z",
     "shell.execute_reply.started": "2021-11-16T04:35:39.088712Z"
    },
    "papermill": {
     "duration": 0.188488,
     "end_time": "2021-11-16T05:15:29.479605",
     "exception": false,
     "start_time": "2021-11-16T05:15:29.291117",
     "status": "completed"
    },
    "tags": []
   },
   "outputs": [
    {
     "data": {
      "text/html": [
       "<div>\n",
       "<style scoped>\n",
       "    .dataframe tbody tr th:only-of-type {\n",
       "        vertical-align: middle;\n",
       "    }\n",
       "\n",
       "    .dataframe tbody tr th {\n",
       "        vertical-align: top;\n",
       "    }\n",
       "\n",
       "    .dataframe thead th {\n",
       "        text-align: right;\n",
       "    }\n",
       "</style>\n",
       "<table border=\"1\" class=\"dataframe\">\n",
       "  <thead>\n",
       "    <tr style=\"text-align: right;\">\n",
       "      <th></th>\n",
       "      <th>comment_id</th>\n",
       "      <th>text</th>\n",
       "      <th>score</th>\n",
       "    </tr>\n",
       "  </thead>\n",
       "  <tbody>\n",
       "    <tr>\n",
       "      <th>0</th>\n",
       "      <td>114890</td>\n",
       "      <td>\"\\n \\n\\nGjalexei, you asked about whether ther...</td>\n",
       "      <td>-0.072145</td>\n",
       "    </tr>\n",
       "    <tr>\n",
       "      <th>1</th>\n",
       "      <td>732895</td>\n",
       "      <td>Looks like be have an abuser , can you please ...</td>\n",
       "      <td>-0.186191</td>\n",
       "    </tr>\n",
       "    <tr>\n",
       "      <th>2</th>\n",
       "      <td>1139051</td>\n",
       "      <td>I confess to having complete (and apparently b...</td>\n",
       "      <td>-0.207174</td>\n",
       "    </tr>\n",
       "    <tr>\n",
       "      <th>3</th>\n",
       "      <td>1434512</td>\n",
       "      <td>\"\\n\\nFreud's ideas are certainly much discusse...</td>\n",
       "      <td>-0.354529</td>\n",
       "    </tr>\n",
       "    <tr>\n",
       "      <th>4</th>\n",
       "      <td>2084821</td>\n",
       "      <td>It is not just you. This is a laundry list of ...</td>\n",
       "      <td>0.400384</td>\n",
       "    </tr>\n",
       "  </tbody>\n",
       "</table>\n",
       "</div>"
      ],
      "text/plain": [
       "   comment_id                                               text     score\n",
       "0      114890  \"\\n \\n\\nGjalexei, you asked about whether ther... -0.072145\n",
       "1      732895  Looks like be have an abuser , can you please ... -0.186191\n",
       "2     1139051  I confess to having complete (and apparently b... -0.207174\n",
       "3     1434512  \"\\n\\nFreud's ideas are certainly much discusse... -0.354529\n",
       "4     2084821  It is not just you. This is a laundry list of ...  0.400384"
      ]
     },
     "execution_count": 14,
     "metadata": {},
     "output_type": "execute_result"
    }
   ],
   "source": [
    "df['score'] = preds\n",
    "df.head()"
   ]
  },
  {
   "cell_type": "code",
   "execution_count": 15,
   "id": "b4fbb322",
   "metadata": {
    "execution": {
     "iopub.execute_input": "2021-11-16T05:15:29.831507Z",
     "iopub.status.busy": "2021-11-16T05:15:29.826898Z",
     "iopub.status.idle": "2021-11-16T05:15:29.842800Z",
     "shell.execute_reply": "2021-11-16T05:15:29.843321Z",
     "shell.execute_reply.started": "2021-11-16T04:36:02.456294Z"
    },
    "papermill": {
     "duration": 0.18864,
     "end_time": "2021-11-16T05:15:29.843485",
     "exception": false,
     "start_time": "2021-11-16T05:15:29.654845",
     "status": "completed"
    },
    "tags": []
   },
   "outputs": [
    {
     "data": {
      "text/html": [
       "<div>\n",
       "<style scoped>\n",
       "    .dataframe tbody tr th:only-of-type {\n",
       "        vertical-align: middle;\n",
       "    }\n",
       "\n",
       "    .dataframe tbody tr th {\n",
       "        vertical-align: top;\n",
       "    }\n",
       "\n",
       "    .dataframe thead th {\n",
       "        text-align: right;\n",
       "    }\n",
       "</style>\n",
       "<table border=\"1\" class=\"dataframe\">\n",
       "  <thead>\n",
       "    <tr style=\"text-align: right;\">\n",
       "      <th></th>\n",
       "      <th>comment_id</th>\n",
       "      <th>text</th>\n",
       "      <th>score</th>\n",
       "    </tr>\n",
       "  </thead>\n",
       "  <tbody>\n",
       "    <tr>\n",
       "      <th>0</th>\n",
       "      <td>114890</td>\n",
       "      <td>\"\\n \\n\\nGjalexei, you asked about whether ther...</td>\n",
       "      <td>2263.0</td>\n",
       "    </tr>\n",
       "    <tr>\n",
       "      <th>1</th>\n",
       "      <td>732895</td>\n",
       "      <td>Looks like be have an abuser , can you please ...</td>\n",
       "      <td>1471.0</td>\n",
       "    </tr>\n",
       "    <tr>\n",
       "      <th>2</th>\n",
       "      <td>1139051</td>\n",
       "      <td>I confess to having complete (and apparently b...</td>\n",
       "      <td>1344.0</td>\n",
       "    </tr>\n",
       "    <tr>\n",
       "      <th>3</th>\n",
       "      <td>1434512</td>\n",
       "      <td>\"\\n\\nFreud's ideas are certainly much discusse...</td>\n",
       "      <td>649.0</td>\n",
       "    </tr>\n",
       "    <tr>\n",
       "      <th>4</th>\n",
       "      <td>2084821</td>\n",
       "      <td>It is not just you. This is a laundry list of ...</td>\n",
       "      <td>5160.0</td>\n",
       "    </tr>\n",
       "  </tbody>\n",
       "</table>\n",
       "</div>"
      ],
      "text/plain": [
       "   comment_id                                               text   score\n",
       "0      114890  \"\\n \\n\\nGjalexei, you asked about whether ther...  2263.0\n",
       "1      732895  Looks like be have an abuser , can you please ...  1471.0\n",
       "2     1139051  I confess to having complete (and apparently b...  1344.0\n",
       "3     1434512  \"\\n\\nFreud's ideas are certainly much discusse...   649.0\n",
       "4     2084821  It is not just you. This is a laundry list of ...  5160.0"
      ]
     },
     "execution_count": 15,
     "metadata": {},
     "output_type": "execute_result"
    }
   ],
   "source": [
    "df['score'] = df['score'].rank(method='first')\n",
    "df.head()"
   ]
  },
  {
   "cell_type": "code",
   "execution_count": 16,
   "id": "13e1d66d",
   "metadata": {
    "execution": {
     "iopub.execute_input": "2021-11-16T05:15:30.201227Z",
     "iopub.status.busy": "2021-11-16T05:15:30.200336Z",
     "iopub.status.idle": "2021-11-16T05:15:30.222494Z",
     "shell.execute_reply": "2021-11-16T05:15:30.222074Z",
     "shell.execute_reply.started": "2021-11-16T04:36:05.328862Z"
    },
    "papermill": {
     "duration": 0.198546,
     "end_time": "2021-11-16T05:15:30.222609",
     "exception": false,
     "start_time": "2021-11-16T05:15:30.024063",
     "status": "completed"
    },
    "tags": []
   },
   "outputs": [],
   "source": [
    "df.drop('text', axis=1, inplace=True)\n",
    "df.to_csv(\"submission.csv\", index=False)"
   ]
  }
 ],
 "metadata": {
  "kernelspec": {
   "display_name": "Python 3",
   "language": "python",
   "name": "python3"
  },
  "language_info": {
   "codemirror_mode": {
    "name": "ipython",
    "version": 3
   },
   "file_extension": ".py",
   "mimetype": "text/x-python",
   "name": "python",
   "nbconvert_exporter": "python",
   "pygments_lexer": "ipython3",
   "version": "3.7.10"
  },
  "papermill": {
   "default_parameters": {},
   "duration": 229.487041,
   "end_time": "2021-11-16T05:15:33.393591",
   "environment_variables": {},
   "exception": null,
   "input_path": "__notebook__.ipynb",
   "output_path": "__notebook__.ipynb",
   "parameters": {},
   "start_time": "2021-11-16T05:11:43.906550",
   "version": "2.3.3"
  }
 },
 "nbformat": 4,
 "nbformat_minor": 5
}
