{
 "cells": [
  {
   "cell_type": "code",
   "execution_count": 1,
   "id": "df69b72f",
   "metadata": {
    "_cell_guid": "b1076dfc-b9ad-4769-8c92-a6c4dae69d19",
    "_uuid": "8f2839f25d086af736a60e9eeb907d3b93b6e0e5",
    "execution": {
     "iopub.execute_input": "2023-04-21T23:35:29.742083Z",
     "iopub.status.busy": "2023-04-21T23:35:29.741275Z",
     "iopub.status.idle": "2023-04-21T23:35:48.181142Z",
     "shell.execute_reply": "2023-04-21T23:35:48.179676Z"
    },
    "papermill": {
     "duration": 18.460191,
     "end_time": "2023-04-21T23:35:48.184436",
     "exception": false,
     "start_time": "2023-04-21T23:35:29.724245",
     "status": "completed"
    },
    "tags": []
   },
   "outputs": [
    {
     "data": {
      "text/html": [
       "<style type='text/css'>\n",
       ".datatable table.frame { margin-bottom: 0; }\n",
       ".datatable table.frame thead { border-bottom: none; }\n",
       ".datatable table.frame tr.coltypes td {  color: #FFFFFF;  line-height: 6px;  padding: 0 0.5em;}\n",
       ".datatable .bool    { background: #DDDD99; }\n",
       ".datatable .object  { background: #565656; }\n",
       ".datatable .int     { background: #5D9E5D; }\n",
       ".datatable .float   { background: #4040CC; }\n",
       ".datatable .str     { background: #CC4040; }\n",
       ".datatable .time    { background: #40CC40; }\n",
       ".datatable .row_index {  background: var(--jp-border-color3);  border-right: 1px solid var(--jp-border-color0);  color: var(--jp-ui-font-color3);  font-size: 9px;}\n",
       ".datatable .frame tbody td { text-align: left; }\n",
       ".datatable .frame tr.coltypes .row_index {  background: var(--jp-border-color0);}\n",
       ".datatable th:nth-child(2) { padding-left: 12px; }\n",
       ".datatable .hellipsis {  color: var(--jp-cell-editor-border-color);}\n",
       ".datatable .vellipsis {  background: var(--jp-layout-color0);  color: var(--jp-cell-editor-border-color);}\n",
       ".datatable .na {  color: var(--jp-cell-editor-border-color);  font-size: 80%;}\n",
       ".datatable .sp {  opacity: 0.25;}\n",
       ".datatable .footer { font-size: 9px; }\n",
       ".datatable .frame_dimensions {  background: var(--jp-border-color3);  border-top: 1px solid var(--jp-border-color0);  color: var(--jp-ui-font-color3);  display: inline-block;  opacity: 0.6;  padding: 1px 10px 1px 5px;}\n",
       "</style>\n"
      ],
      "text/plain": [
       "<IPython.core.display.HTML object>"
      ]
     },
     "metadata": {},
     "output_type": "display_data"
    },
    {
     "data": {
      "text/html": [
       "<div>\n",
       "<style scoped>\n",
       "    .dataframe tbody tr th:only-of-type {\n",
       "        vertical-align: middle;\n",
       "    }\n",
       "\n",
       "    .dataframe tbody tr th {\n",
       "        vertical-align: top;\n",
       "    }\n",
       "\n",
       "    .dataframe thead th {\n",
       "        text-align: right;\n",
       "    }\n",
       "</style>\n",
       "<table border=\"1\" class=\"dataframe\">\n",
       "  <thead>\n",
       "    <tr style=\"text-align: right;\">\n",
       "      <th></th>\n",
       "      <th>premise</th>\n",
       "      <th>hypothesis</th>\n",
       "      <th>lang_abv</th>\n",
       "      <th>language</th>\n",
       "      <th>label</th>\n",
       "    </tr>\n",
       "    <tr>\n",
       "      <th>id</th>\n",
       "      <th></th>\n",
       "      <th></th>\n",
       "      <th></th>\n",
       "      <th></th>\n",
       "      <th></th>\n",
       "    </tr>\n",
       "  </thead>\n",
       "  <tbody>\n",
       "    <tr>\n",
       "      <th>5130fd2cb5</th>\n",
       "      <td>and these comments were considered in formulat...</td>\n",
       "      <td>The rules developed in the interim were put to...</td>\n",
       "      <td>en</td>\n",
       "      <td>English</td>\n",
       "      <td>0</td>\n",
       "    </tr>\n",
       "    <tr>\n",
       "      <th>5b72532a0b</th>\n",
       "      <td>These are issues that we wrestle with in pract...</td>\n",
       "      <td>Practice groups are not permitted to work on t...</td>\n",
       "      <td>en</td>\n",
       "      <td>English</td>\n",
       "      <td>2</td>\n",
       "    </tr>\n",
       "    <tr>\n",
       "      <th>3931fbe82a</th>\n",
       "      <td>Des petites choses comme celles-là font une di...</td>\n",
       "      <td>J'essayais d'accomplir quelque chose.</td>\n",
       "      <td>fr</td>\n",
       "      <td>French</td>\n",
       "      <td>0</td>\n",
       "    </tr>\n",
       "    <tr>\n",
       "      <th>5622f0c60b</th>\n",
       "      <td>you know they can't really defend themselves l...</td>\n",
       "      <td>They can't defend themselves because of their ...</td>\n",
       "      <td>en</td>\n",
       "      <td>English</td>\n",
       "      <td>0</td>\n",
       "    </tr>\n",
       "    <tr>\n",
       "      <th>86aaa48b45</th>\n",
       "      <td>ในการเล่นบทบาทสมมุติก็เช่นกัน โอกาสที่จะได้แสด...</td>\n",
       "      <td>เด็กสามารถเห็นได้ว่าชาติพันธุ์แตกต่างกันอย่างไร</td>\n",
       "      <td>th</td>\n",
       "      <td>Thai</td>\n",
       "      <td>1</td>\n",
       "    </tr>\n",
       "  </tbody>\n",
       "</table>\n",
       "</div>"
      ],
      "text/plain": [
       "                                                      premise  \\\n",
       "id                                                              \n",
       "5130fd2cb5  and these comments were considered in formulat...   \n",
       "5b72532a0b  These are issues that we wrestle with in pract...   \n",
       "3931fbe82a  Des petites choses comme celles-là font une di...   \n",
       "5622f0c60b  you know they can't really defend themselves l...   \n",
       "86aaa48b45  ในการเล่นบทบาทสมมุติก็เช่นกัน โอกาสที่จะได้แสด...   \n",
       "\n",
       "                                                   hypothesis lang_abv  \\\n",
       "id                                                                       \n",
       "5130fd2cb5  The rules developed in the interim were put to...       en   \n",
       "5b72532a0b  Practice groups are not permitted to work on t...       en   \n",
       "3931fbe82a              J'essayais d'accomplir quelque chose.       fr   \n",
       "5622f0c60b  They can't defend themselves because of their ...       en   \n",
       "86aaa48b45    เด็กสามารถเห็นได้ว่าชาติพันธุ์แตกต่างกันอย่างไร       th   \n",
       "\n",
       "           language  label  \n",
       "id                          \n",
       "5130fd2cb5  English      0  \n",
       "5b72532a0b  English      2  \n",
       "3931fbe82a   French      0  \n",
       "5622f0c60b  English      0  \n",
       "86aaa48b45     Thai      1  "
      ]
     },
     "execution_count": 1,
     "metadata": {},
     "output_type": "execute_result"
    }
   ],
   "source": [
    "# Bibs gerais\n",
    "import gc\n",
    "import numpy as np\n",
    "import pandas as pd\n",
    "import seaborn as sns\n",
    "\n",
    "# Abordagens 1 e 4\n",
    "import re\n",
    "import unicodedata\n",
    "from tkinter.tix import TCL_WINDOW_EVENTS\n",
    "from sklearn.feature_extraction.text import TfidfVectorizer\n",
    "\n",
    "from transformers import BertTokenizer, BertModel\n",
    "\n",
    "from sklearn.model_selection import train_test_split\n",
    "from lightgbm import LGBMClassifier\n",
    "from lightgbm import early_stopping\n",
    "from lightgbm import log_evaluation\n",
    "from tqdm import tqdm\n",
    "\n",
    "# Abordagens 2 e 3\n",
    "import torch\n",
    "from datasets import Dataset\n",
    "from transformers import AutoModelForSequenceClassification\n",
    "from transformers import AutoTokenizer\n",
    "from transformers import Trainer\n",
    "from transformers import AutoModel\n",
    "\n",
    "# Carregando arquivos\n",
    "x_sub = pd.read_csv('/kaggle/input/contradictory-my-dear-watson/test.csv',index_col='id')\n",
    "y_sub = pd.read_csv('/kaggle/input/contradictory-my-dear-watson/sample_submission.csv',index_col='id')\n",
    "train = pd.read_csv('/kaggle/input/contradictory-my-dear-watson/train.csv',index_col='id')\n",
    "\n",
    "train.head()"
   ]
  },
  {
   "cell_type": "code",
   "execution_count": 2,
   "id": "04d46506",
   "metadata": {
    "execution": {
     "iopub.execute_input": "2023-04-21T23:35:48.214943Z",
     "iopub.status.busy": "2023-04-21T23:35:48.213908Z",
     "iopub.status.idle": "2023-04-21T23:36:05.541158Z",
     "shell.execute_reply": "2023-04-21T23:36:05.539598Z"
    },
    "papermill": {
     "duration": 17.346155,
     "end_time": "2023-04-21T23:36:05.544605",
     "exception": false,
     "start_time": "2023-04-21T23:35:48.198450",
     "status": "completed"
    },
    "tags": []
   },
   "outputs": [
    {
     "name": "stdout",
     "output_type": "stream",
     "text": [
      "Collecting googletrans==3.1.0a0\r\n",
      "  Downloading googletrans-3.1.0a0.tar.gz (19 kB)\r\n",
      "  Preparing metadata (setup.py) ... \u001b[?25l-\b \bdone\r\n",
      "\u001b[?25hCollecting httpx==0.13.3\r\n",
      "  Downloading httpx-0.13.3-py3-none-any.whl (55 kB)\r\n",
      "\u001b[2K     \u001b[90m━━━━━━━━━━━━━━━━━━━━━━━━━━━━━━━━━━━━━━━━\u001b[0m \u001b[32m55.1/55.1 kB\u001b[0m \u001b[31m3.9 MB/s\u001b[0m eta \u001b[36m0:00:00\u001b[0m\r\n",
      "\u001b[?25hCollecting chardet==3.*\r\n",
      "  Downloading chardet-3.0.4-py2.py3-none-any.whl (133 kB)\r\n",
      "\u001b[2K     \u001b[90m━━━━━━━━━━━━━━━━━━━━━━━━━━━━━━━━━━━━━━━\u001b[0m \u001b[32m133.4/133.4 kB\u001b[0m \u001b[31m8.0 MB/s\u001b[0m eta \u001b[36m0:00:00\u001b[0m\r\n",
      "\u001b[?25hCollecting rfc3986<2,>=1.3\r\n",
      "  Downloading rfc3986-1.5.0-py2.py3-none-any.whl (31 kB)\r\n",
      "Collecting idna==2.*\r\n",
      "  Downloading idna-2.10-py2.py3-none-any.whl (58 kB)\r\n",
      "\u001b[2K     \u001b[90m━━━━━━━━━━━━━━━━━━━━━━━━━━━━━━━━━━━━━━━━\u001b[0m \u001b[32m58.8/58.8 kB\u001b[0m \u001b[31m5.0 MB/s\u001b[0m eta \u001b[36m0:00:00\u001b[0m\r\n",
      "\u001b[?25hCollecting httpcore==0.9.*\r\n",
      "  Downloading httpcore-0.9.1-py3-none-any.whl (42 kB)\r\n",
      "\u001b[2K     \u001b[90m━━━━━━━━━━━━━━━━━━━━━━━━━━━━━━━━━━━━━━━━\u001b[0m \u001b[32m42.6/42.6 kB\u001b[0m \u001b[31m2.9 MB/s\u001b[0m eta \u001b[36m0:00:00\u001b[0m\r\n",
      "\u001b[?25hRequirement already satisfied: sniffio in /opt/conda/lib/python3.7/site-packages (from httpx==0.13.3->googletrans==3.1.0a0) (1.3.0)\r\n",
      "Collecting hstspreload\r\n",
      "  Downloading hstspreload-2023.1.1-py3-none-any.whl (1.5 MB)\r\n",
      "\u001b[2K     \u001b[90m━━━━━━━━━━━━━━━━━━━━━━━━━━━━━━━━━━━━━━━━\u001b[0m \u001b[32m1.5/1.5 MB\u001b[0m \u001b[31m41.5 MB/s\u001b[0m eta \u001b[36m0:00:00\u001b[0m\r\n",
      "\u001b[?25hRequirement already satisfied: certifi in /opt/conda/lib/python3.7/site-packages (from httpx==0.13.3->googletrans==3.1.0a0) (2022.12.7)\r\n",
      "Collecting h11<0.10,>=0.8\r\n",
      "  Downloading h11-0.9.0-py2.py3-none-any.whl (53 kB)\r\n",
      "\u001b[2K     \u001b[90m━━━━━━━━━━━━━━━━━━━━━━━━━━━━━━━━━━━━━━━━\u001b[0m \u001b[32m53.6/53.6 kB\u001b[0m \u001b[31m3.9 MB/s\u001b[0m eta \u001b[36m0:00:00\u001b[0m\r\n",
      "\u001b[?25hCollecting h2==3.*\r\n",
      "  Downloading h2-3.2.0-py2.py3-none-any.whl (65 kB)\r\n",
      "\u001b[2K     \u001b[90m━━━━━━━━━━━━━━━━━━━━━━━━━━━━━━━━━━━━━━━━\u001b[0m \u001b[32m65.0/65.0 kB\u001b[0m \u001b[31m4.9 MB/s\u001b[0m eta \u001b[36m0:00:00\u001b[0m\r\n",
      "\u001b[?25hCollecting hyperframe<6,>=5.2.0\r\n",
      "  Downloading hyperframe-5.2.0-py2.py3-none-any.whl (12 kB)\r\n",
      "Collecting hpack<4,>=3.0\r\n",
      "  Downloading hpack-3.0.0-py2.py3-none-any.whl (38 kB)\r\n",
      "Building wheels for collected packages: googletrans\r\n",
      "  Building wheel for googletrans (setup.py) ... \u001b[?25l-\b \b\\\b \bdone\r\n",
      "\u001b[?25h  Created wheel for googletrans: filename=googletrans-3.1.0a0-py3-none-any.whl size=16368 sha256=a49bc449017894b2290687be627840b0cb68c3ef6296335e34078c1be32b50c8\r\n",
      "  Stored in directory: /root/.cache/pip/wheels/61/f7/ef/4d5c03c448eb8583bc063caca7e8802d8801af40c65e9b8022\r\n",
      "Successfully built googletrans\r\n",
      "Installing collected packages: rfc3986, hyperframe, hpack, h11, chardet, idna, hstspreload, h2, httpcore, httpx, googletrans\r\n",
      "  Attempting uninstall: h11\r\n",
      "    Found existing installation: h11 0.14.0\r\n",
      "    Uninstalling h11-0.14.0:\r\n",
      "      Successfully uninstalled h11-0.14.0\r\n",
      "  Attempting uninstall: idna\r\n",
      "    Found existing installation: idna 3.4\r\n",
      "    Uninstalling idna-3.4:\r\n",
      "      Successfully uninstalled idna-3.4\r\n",
      "\u001b[31mERROR: pip's dependency resolver does not currently take into account all the packages that are installed. This behaviour is the source of the following dependency conflicts.\r\n",
      "librosa 0.10.0 requires soundfile>=0.12.1, but you have soundfile 0.11.0 which is incompatible.\r\n",
      "apache-beam 2.44.0 requires dill<0.3.2,>=0.3.1.1, but you have dill 0.3.6 which is incompatible.\u001b[0m\u001b[31m\r\n",
      "\u001b[0mSuccessfully installed chardet-3.0.4 googletrans-3.1.0a0 h11-0.9.0 h2-3.2.0 hpack-3.0.0 hstspreload-2023.1.1 httpcore-0.9.1 httpx-0.13.3 hyperframe-5.2.0 idna-2.10 rfc3986-1.5.0\r\n",
      "\u001b[33mWARNING: Running pip as the 'root' user can result in broken permissions and conflicting behaviour with the system package manager. It is recommended to use a virtual environment instead: https://pip.pypa.io/warnings/venv\u001b[0m\u001b[33m\r\n",
      "\u001b[0m"
     ]
    }
   ],
   "source": [
    "# Instalando e importando tradução\n",
    "!pip install googletrans==3.1.0a0\n",
    "\n",
    "from googletrans import Translator"
   ]
  },
  {
   "cell_type": "markdown",
   "id": "a31e5c11",
   "metadata": {
    "papermill": {
     "duration": 0.015338,
     "end_time": "2023-04-21T23:36:05.577692",
     "exception": false,
     "start_time": "2023-04-21T23:36:05.562354",
     "status": "completed"
    },
    "tags": []
   },
   "source": [
    "# Observando o dataset"
   ]
  },
  {
   "cell_type": "code",
   "execution_count": 3,
   "id": "a9210e71",
   "metadata": {
    "execution": {
     "iopub.execute_input": "2023-04-21T23:36:05.610910Z",
     "iopub.status.busy": "2023-04-21T23:36:05.610356Z",
     "iopub.status.idle": "2023-04-21T23:36:05.629821Z",
     "shell.execute_reply": "2023-04-21T23:36:05.628274Z"
    },
    "papermill": {
     "duration": 0.039734,
     "end_time": "2023-04-21T23:36:05.632683",
     "exception": false,
     "start_time": "2023-04-21T23:36:05.592949",
     "status": "completed"
    },
    "tags": []
   },
   "outputs": [
    {
     "data": {
      "text/plain": [
       "premise       0\n",
       "hypothesis    0\n",
       "lang_abv      0\n",
       "language      0\n",
       "label         0\n",
       "dtype: int64"
      ]
     },
     "execution_count": 3,
     "metadata": {},
     "output_type": "execute_result"
    }
   ],
   "source": [
    "train.isnull().sum()"
   ]
  },
  {
   "cell_type": "code",
   "execution_count": 4,
   "id": "bb82b612",
   "metadata": {
    "execution": {
     "iopub.execute_input": "2023-04-21T23:36:05.666009Z",
     "iopub.status.busy": "2023-04-21T23:36:05.665483Z",
     "iopub.status.idle": "2023-04-21T23:36:05.695169Z",
     "shell.execute_reply": "2023-04-21T23:36:05.693897Z"
    },
    "papermill": {
     "duration": 0.050116,
     "end_time": "2023-04-21T23:36:05.698234",
     "exception": false,
     "start_time": "2023-04-21T23:36:05.648118",
     "status": "completed"
    },
    "tags": []
   },
   "outputs": [
    {
     "data": {
      "text/html": [
       "<div>\n",
       "<style scoped>\n",
       "    .dataframe tbody tr th:only-of-type {\n",
       "        vertical-align: middle;\n",
       "    }\n",
       "\n",
       "    .dataframe tbody tr th {\n",
       "        vertical-align: top;\n",
       "    }\n",
       "\n",
       "    .dataframe thead th {\n",
       "        text-align: right;\n",
       "    }\n",
       "</style>\n",
       "<table border=\"1\" class=\"dataframe\">\n",
       "  <thead>\n",
       "    <tr style=\"text-align: right;\">\n",
       "      <th></th>\n",
       "      <th>label</th>\n",
       "    </tr>\n",
       "  </thead>\n",
       "  <tbody>\n",
       "    <tr>\n",
       "      <th>count</th>\n",
       "      <td>12120.000000</td>\n",
       "    </tr>\n",
       "    <tr>\n",
       "      <th>mean</th>\n",
       "      <td>0.990759</td>\n",
       "    </tr>\n",
       "    <tr>\n",
       "      <th>std</th>\n",
       "      <td>0.824523</td>\n",
       "    </tr>\n",
       "    <tr>\n",
       "      <th>min</th>\n",
       "      <td>0.000000</td>\n",
       "    </tr>\n",
       "    <tr>\n",
       "      <th>25%</th>\n",
       "      <td>0.000000</td>\n",
       "    </tr>\n",
       "    <tr>\n",
       "      <th>50%</th>\n",
       "      <td>1.000000</td>\n",
       "    </tr>\n",
       "    <tr>\n",
       "      <th>75%</th>\n",
       "      <td>2.000000</td>\n",
       "    </tr>\n",
       "    <tr>\n",
       "      <th>max</th>\n",
       "      <td>2.000000</td>\n",
       "    </tr>\n",
       "  </tbody>\n",
       "</table>\n",
       "</div>"
      ],
      "text/plain": [
       "              label\n",
       "count  12120.000000\n",
       "mean       0.990759\n",
       "std        0.824523\n",
       "min        0.000000\n",
       "25%        0.000000\n",
       "50%        1.000000\n",
       "75%        2.000000\n",
       "max        2.000000"
      ]
     },
     "execution_count": 4,
     "metadata": {},
     "output_type": "execute_result"
    }
   ],
   "source": [
    "train.describe()"
   ]
  },
  {
   "cell_type": "code",
   "execution_count": 5,
   "id": "7e902de0",
   "metadata": {
    "execution": {
     "iopub.execute_input": "2023-04-21T23:36:05.734526Z",
     "iopub.status.busy": "2023-04-21T23:36:05.732618Z",
     "iopub.status.idle": "2023-04-21T23:36:06.191954Z",
     "shell.execute_reply": "2023-04-21T23:36:06.190342Z"
    },
    "papermill": {
     "duration": 0.48064,
     "end_time": "2023-04-21T23:36:06.195190",
     "exception": false,
     "start_time": "2023-04-21T23:36:05.714550",
     "status": "completed"
    },
    "tags": []
   },
   "outputs": [
    {
     "data": {
      "image/png": "[encoded data removed]",
      "text/plain": [
       "<Figure size 500x500 with 1 Axes>"
      ]
     },
     "metadata": {},
     "output_type": "display_data"
    }
   ],
   "source": [
    "sns.displot(train.label);"
   ]
  },
  {
   "cell_type": "code",
   "execution_count": 6,
   "id": "599aa1e8",
   "metadata": {
    "execution": {
     "iopub.execute_input": "2023-04-21T23:36:06.229970Z",
     "iopub.status.busy": "2023-04-21T23:36:06.228703Z",
     "iopub.status.idle": "2023-04-21T23:36:06.239186Z",
     "shell.execute_reply": "2023-04-21T23:36:06.237795Z"
    },
    "papermill": {
     "duration": 0.030992,
     "end_time": "2023-04-21T23:36:06.242130",
     "exception": false,
     "start_time": "2023-04-21T23:36:06.211138",
     "status": "completed"
    },
    "tags": []
   },
   "outputs": [
    {
     "name": "stdout",
     "output_type": "stream",
     "text": [
      "15\n",
      "English       6870\n",
      "Chinese        411\n",
      "Arabic         401\n",
      "French         390\n",
      "Swahili        385\n",
      "Urdu           381\n",
      "Vietnamese     379\n",
      "Russian        376\n",
      "Hindi          374\n",
      "Greek          372\n",
      "Thai           371\n",
      "Spanish        366\n",
      "Turkish        351\n",
      "German         351\n",
      "Bulgarian      342\n",
      "Name: language, dtype: int64\n"
     ]
    }
   ],
   "source": [
    "print(len(train.language.unique()))\n",
    "print(train.language.value_counts())"
   ]
  },
  {
   "cell_type": "code",
   "execution_count": 7,
   "id": "75c15ec0",
   "metadata": {
    "execution": {
     "iopub.execute_input": "2023-04-21T23:36:06.276562Z",
     "iopub.status.busy": "2023-04-21T23:36:06.275514Z",
     "iopub.status.idle": "2023-04-21T23:36:06.300246Z",
     "shell.execute_reply": "2023-04-21T23:36:06.298682Z"
    },
    "papermill": {
     "duration": 0.045288,
     "end_time": "2023-04-21T23:36:06.303211",
     "exception": false,
     "start_time": "2023-04-21T23:36:06.257923",
     "status": "completed"
    },
    "tags": []
   },
   "outputs": [
    {
     "data": {
      "text/html": [
       "<div>\n",
       "<style scoped>\n",
       "    .dataframe tbody tr th:only-of-type {\n",
       "        vertical-align: middle;\n",
       "    }\n",
       "\n",
       "    .dataframe tbody tr th {\n",
       "        vertical-align: top;\n",
       "    }\n",
       "\n",
       "    .dataframe thead th {\n",
       "        text-align: right;\n",
       "    }\n",
       "</style>\n",
       "<table border=\"1\" class=\"dataframe\">\n",
       "  <thead>\n",
       "    <tr style=\"text-align: right;\">\n",
       "      <th>label</th>\n",
       "      <th>0</th>\n",
       "      <th>1</th>\n",
       "      <th>2</th>\n",
       "    </tr>\n",
       "    <tr>\n",
       "      <th>lang_abv</th>\n",
       "      <th></th>\n",
       "      <th></th>\n",
       "      <th></th>\n",
       "    </tr>\n",
       "  </thead>\n",
       "  <tbody>\n",
       "    <tr>\n",
       "      <th>ar</th>\n",
       "      <td>124</td>\n",
       "      <td>129</td>\n",
       "      <td>148</td>\n",
       "    </tr>\n",
       "    <tr>\n",
       "      <th>bg</th>\n",
       "      <td>123</td>\n",
       "      <td>111</td>\n",
       "      <td>108</td>\n",
       "    </tr>\n",
       "    <tr>\n",
       "      <th>de</th>\n",
       "      <td>108</td>\n",
       "      <td>116</td>\n",
       "      <td>127</td>\n",
       "    </tr>\n",
       "    <tr>\n",
       "      <th>el</th>\n",
       "      <td>120</td>\n",
       "      <td>127</td>\n",
       "      <td>125</td>\n",
       "    </tr>\n",
       "    <tr>\n",
       "      <th>en</th>\n",
       "      <td>2427</td>\n",
       "      <td>2166</td>\n",
       "      <td>2277</td>\n",
       "    </tr>\n",
       "    <tr>\n",
       "      <th>es</th>\n",
       "      <td>118</td>\n",
       "      <td>112</td>\n",
       "      <td>136</td>\n",
       "    </tr>\n",
       "    <tr>\n",
       "      <th>fr</th>\n",
       "      <td>133</td>\n",
       "      <td>129</td>\n",
       "      <td>128</td>\n",
       "    </tr>\n",
       "    <tr>\n",
       "      <th>hi</th>\n",
       "      <td>125</td>\n",
       "      <td>112</td>\n",
       "      <td>137</td>\n",
       "    </tr>\n",
       "    <tr>\n",
       "      <th>ru</th>\n",
       "      <td>132</td>\n",
       "      <td>124</td>\n",
       "      <td>120</td>\n",
       "    </tr>\n",
       "    <tr>\n",
       "      <th>sw</th>\n",
       "      <td>140</td>\n",
       "      <td>109</td>\n",
       "      <td>136</td>\n",
       "    </tr>\n",
       "    <tr>\n",
       "      <th>th</th>\n",
       "      <td>121</td>\n",
       "      <td>126</td>\n",
       "      <td>124</td>\n",
       "    </tr>\n",
       "    <tr>\n",
       "      <th>tr</th>\n",
       "      <td>110</td>\n",
       "      <td>114</td>\n",
       "      <td>127</td>\n",
       "    </tr>\n",
       "    <tr>\n",
       "      <th>ur</th>\n",
       "      <td>133</td>\n",
       "      <td>110</td>\n",
       "      <td>138</td>\n",
       "    </tr>\n",
       "    <tr>\n",
       "      <th>vi</th>\n",
       "      <td>122</td>\n",
       "      <td>149</td>\n",
       "      <td>108</td>\n",
       "    </tr>\n",
       "    <tr>\n",
       "      <th>zh</th>\n",
       "      <td>140</td>\n",
       "      <td>146</td>\n",
       "      <td>125</td>\n",
       "    </tr>\n",
       "  </tbody>\n",
       "</table>\n",
       "</div>"
      ],
      "text/plain": [
       "label        0     1     2\n",
       "lang_abv                  \n",
       "ar         124   129   148\n",
       "bg         123   111   108\n",
       "de         108   116   127\n",
       "el         120   127   125\n",
       "en        2427  2166  2277\n",
       "es         118   112   136\n",
       "fr         133   129   128\n",
       "hi         125   112   137\n",
       "ru         132   124   120\n",
       "sw         140   109   136\n",
       "th         121   126   124\n",
       "tr         110   114   127\n",
       "ur         133   110   138\n",
       "vi         122   149   108\n",
       "zh         140   146   125"
      ]
     },
     "execution_count": 7,
     "metadata": {},
     "output_type": "execute_result"
    }
   ],
   "source": [
    "def count_values_by_category(df, count_column_name, category_column_name):\n",
    "    \"\"\"\n",
    "    Receives a pandas dataframe, a column with categorical values and a column\n",
    "    to be counted, and returns a new dataframe with the count of occurrences of\n",
    "    each count_column value for each category_column value.\n",
    "    \"\"\"\n",
    "    # Group the DataFrame by the category_column and count the values in the count_column\n",
    "    counts_df = df.groupby(category_column_name)[count_column_name].value_counts().unstack(fill_value=0)\n",
    "    \n",
    "    return counts_df\n",
    "\n",
    "counts_df = count_values_by_category(train, 'label', 'lang_abv')\n",
    "counts_df"
   ]
  },
  {
   "cell_type": "markdown",
   "id": "ff7f4c51",
   "metadata": {
    "papermill": {
     "duration": 0.015493,
     "end_time": "2023-04-21T23:36:06.334895",
     "exception": false,
     "start_time": "2023-04-21T23:36:06.319402",
     "status": "completed"
    },
    "tags": []
   },
   "source": [
    "# Abordagem 1: tradução"
   ]
  },
  {
   "cell_type": "markdown",
   "id": "266c33f5",
   "metadata": {
    "papermill": {
     "duration": 0.015293,
     "end_time": "2023-04-21T23:36:06.366112",
     "exception": false,
     "start_time": "2023-04-21T23:36:06.350819",
     "status": "completed"
    },
    "tags": []
   },
   "source": [
    "Copiando para processar"
   ]
  },
  {
   "cell_type": "code",
   "execution_count": 8,
   "id": "79146c86",
   "metadata": {
    "execution": {
     "iopub.execute_input": "2023-04-21T23:36:06.400320Z",
     "iopub.status.busy": "2023-04-21T23:36:06.399798Z",
     "iopub.status.idle": "2023-04-21T23:36:06.406660Z",
     "shell.execute_reply": "2023-04-21T23:36:06.405315Z"
    },
    "papermill": {
     "duration": 0.027532,
     "end_time": "2023-04-21T23:36:06.409420",
     "exception": false,
     "start_time": "2023-04-21T23:36:06.381888",
     "status": "completed"
    },
    "tags": []
   },
   "outputs": [],
   "source": [
    "trainC = train.copy()"
   ]
  },
  {
   "cell_type": "code",
   "execution_count": 9,
   "id": "b6e6051a",
   "metadata": {
    "execution": {
     "iopub.execute_input": "2023-04-21T23:36:06.444189Z",
     "iopub.status.busy": "2023-04-21T23:36:06.443642Z",
     "iopub.status.idle": "2023-04-21T23:36:06.451926Z",
     "shell.execute_reply": "2023-04-21T23:36:06.450363Z"
    },
    "papermill": {
     "duration": 0.029075,
     "end_time": "2023-04-21T23:36:06.454606",
     "exception": false,
     "start_time": "2023-04-21T23:36:06.425531",
     "status": "completed"
    },
    "tags": []
   },
   "outputs": [],
   "source": [
    "# Initialize the translator\n",
    "#translator = Translator()\n",
    "\n",
    "# Define a function to translate text to English\n",
    "def translate_to_english(text, lang):\n",
    "    if lang.lower() == 'en':\n",
    "        # Return the original text for English rows\n",
    "        return text\n",
    "    elif lang.lower() == 'zh':\n",
    "        # Translate Chinese rows to English\n",
    "        return translator.translate(text, dest='en').text\n",
    "    else:\n",
    "        # Translate non-English rows to English\n",
    "        return translator.translate(text, src=lang, dest='en').text\n",
    "\n",
    "#tqdm.pandas()\n",
    "\n",
    "#trainC['premise'] = trainC.progress_apply(lambda row: translate_to_english(row['premise'],\n",
    "                                                                           #row['lang_abv']), axis=1)\n",
    "#trainC['hypothesis'] = trainC.progress_apply(lambda row: translate_to_english(row['hypothesis'],\n",
    "                                                                              #row['lang_abv']), axis=1)"
   ]
  },
  {
   "cell_type": "markdown",
   "id": "e02b1d3a",
   "metadata": {
    "papermill": {
     "duration": 0.015673,
     "end_time": "2023-04-21T23:36:06.486443",
     "exception": false,
     "start_time": "2023-04-21T23:36:06.470770",
     "status": "completed"
    },
    "tags": []
   },
   "source": [
    "Funções para remoção de complexidade"
   ]
  },
  {
   "cell_type": "code",
   "execution_count": 10,
   "id": "984b198d",
   "metadata": {
    "execution": {
     "iopub.execute_input": "2023-04-21T23:36:06.520880Z",
     "iopub.status.busy": "2023-04-21T23:36:06.520344Z",
     "iopub.status.idle": "2023-04-21T23:36:06.529565Z",
     "shell.execute_reply": "2023-04-21T23:36:06.528148Z"
    },
    "papermill": {
     "duration": 0.029773,
     "end_time": "2023-04-21T23:36:06.532273",
     "exception": false,
     "start_time": "2023-04-21T23:36:06.502500",
     "status": "completed"
    },
    "tags": []
   },
   "outputs": [],
   "source": [
    "def remove_url_func(text):\n",
    "    '''\n",
    "    Removes URL addresses from a string, if present\n",
    "    \n",
    "    Args:\n",
    "        text (str): String to which the function is to be applied, string\n",
    "    \n",
    "    Returns:\n",
    "        Clean string without URL addresses\n",
    "    ''' \n",
    "    return re.sub(r'https?://\\S+|www\\.\\S+', '', text)\n",
    "\n",
    "def remove_punctuation_func(text):\n",
    "    '''\n",
    "    Removes all punctuation from a string, if present\n",
    "    \n",
    "    Args:\n",
    "        text (str): String to which the function is to be applied, string\n",
    "    \n",
    "    Returns:\n",
    "        Clean string without punctuations\n",
    "    '''\n",
    "    return re.sub(r'[^a-zA-Z0-9]', ' ', text)\n",
    "\n",
    "def remove_extra_whitespaces_func(text):\n",
    "    '''\n",
    "    Removes extra whitespaces from a string, if present\n",
    "\n",
    "    Args:\n",
    "        text (str): String to which the function is to be applied, string\n",
    "\n",
    "    Returns:\n",
    "        Clean string without extra whitespaces\n",
    "    ''' \n",
    "    return re.sub(r'^\\s*|\\s\\s*', ' ', text).strip()\n",
    "\n",
    "def remove_accented_chars_func(text):\n",
    "    '''\n",
    "    Removes all accented characters from a string, if present\n",
    "    \n",
    "    Args:\n",
    "        text (str): String to which the function is to be applied, string\n",
    "    \n",
    "    Returns:\n",
    "        Clean string without accented characters\n",
    "    '''\n",
    "    return unicodedata.normalize('NFKD', text).encode('ascii', 'ignore').decode('utf-8', 'ignore')"
   ]
  },
  {
   "cell_type": "code",
   "execution_count": 11,
   "id": "8dbe84f8",
   "metadata": {
    "execution": {
     "iopub.execute_input": "2023-04-21T23:36:06.567743Z",
     "iopub.status.busy": "2023-04-21T23:36:06.567153Z",
     "iopub.status.idle": "2023-04-21T23:36:07.034009Z",
     "shell.execute_reply": "2023-04-21T23:36:07.032590Z"
    },
    "papermill": {
     "duration": 0.488903,
     "end_time": "2023-04-21T23:36:07.037376",
     "exception": false,
     "start_time": "2023-04-21T23:36:06.548473",
     "status": "completed"
    },
    "tags": []
   },
   "outputs": [],
   "source": [
    "trainC['premise'] = trainC.premise.apply(str.lower)\n",
    "trainC['premise'] = trainC.premise.apply(remove_url_func)\n",
    "trainC['premise'] = trainC.premise.apply(remove_punctuation_func)\n",
    "trainC['premise'] = trainC.premise.apply(remove_accented_chars_func)\n",
    "trainC['premise'] = trainC.premise.apply(remove_extra_whitespaces_func)\n",
    "\n",
    "trainC['hypothesis'] = trainC.hypothesis.apply(str.lower)\n",
    "trainC['hypothesis'] = trainC.hypothesis.apply(remove_url_func)\n",
    "trainC['hypothesis'] = trainC.hypothesis.apply(remove_punctuation_func)\n",
    "trainC['hypothesis'] = trainC.hypothesis.apply(remove_accented_chars_func)\n",
    "trainC['hypothesis'] = trainC.hypothesis.apply(remove_extra_whitespaces_func)"
   ]
  },
  {
   "cell_type": "markdown",
   "id": "277de047",
   "metadata": {
    "papermill": {
     "duration": 0.015583,
     "end_time": "2023-04-21T23:36:07.069562",
     "exception": false,
     "start_time": "2023-04-21T23:36:07.053979",
     "status": "completed"
    },
    "tags": []
   },
   "source": [
    "Aplicando TFIDF e subtraindo as colunas de texto"
   ]
  },
  {
   "cell_type": "code",
   "execution_count": 12,
   "id": "437531a6",
   "metadata": {
    "execution": {
     "iopub.execute_input": "2023-04-21T23:36:07.103959Z",
     "iopub.status.busy": "2023-04-21T23:36:07.103403Z",
     "iopub.status.idle": "2023-04-21T23:36:07.112007Z",
     "shell.execute_reply": "2023-04-21T23:36:07.110482Z"
    },
    "papermill": {
     "duration": 0.029103,
     "end_time": "2023-04-21T23:36:07.114676",
     "exception": false,
     "start_time": "2023-04-21T23:36:07.085573",
     "status": "completed"
    },
    "tags": []
   },
   "outputs": [],
   "source": [
    "def tfidf_transform(df, col1, col2):\n",
    "    \"\"\"\n",
    "    Fit a TF-IDF transform on two columns of a pandas dataframe,\n",
    "    and return the TF-IDF dictionary and the difference between\n",
    "    the transformed columns.\n",
    "    \n",
    "    :param df: pandas dataframe\n",
    "    :param col1: name of the first column to transform\n",
    "    :param col2: name of the second column to transform\n",
    "    :return: tuple containing the TF-IDF dictionary and the difference\n",
    "             between the transformed columns\n",
    "    \"\"\"\n",
    "    # Concatenate the two columns into a single Series\n",
    "    text = df[col1].str.cat(df[col2], sep=' ')\n",
    "    \n",
    "    # Fit the TF-IDF transform\n",
    "    tfidf = TfidfVectorizer()\n",
    "    tfidf.fit(text)\n",
    "    \n",
    "    # Transform the individual columns\n",
    "    col1_tfidf = tfidf.transform(df[col1])\n",
    "    col2_tfidf = tfidf.transform(df[col2])\n",
    "    \n",
    "    # Calculate the difference between the transformed columns\n",
    "    X = col1_tfidf - col2_tfidf\n",
    "    \n",
    "    return tfidf, X\n",
    "\n",
    "# Apply the function to the dataframe\n",
    "#tfidf, X = tfidf_transform(trainC, 'premise', 'hypothesis')"
   ]
  },
  {
   "cell_type": "markdown",
   "id": "4cd74659",
   "metadata": {
    "papermill": {
     "duration": 0.016572,
     "end_time": "2023-04-21T23:36:07.148209",
     "exception": false,
     "start_time": "2023-04-21T23:36:07.131637",
     "status": "completed"
    },
    "tags": []
   },
   "source": [
    "Aplicando modelo"
   ]
  },
  {
   "cell_type": "code",
   "execution_count": 13,
   "id": "d7ee5846",
   "metadata": {
    "execution": {
     "iopub.execute_input": "2023-04-21T23:36:07.184073Z",
     "iopub.status.busy": "2023-04-21T23:36:07.182725Z",
     "iopub.status.idle": "2023-04-21T23:36:07.189319Z",
     "shell.execute_reply": "2023-04-21T23:36:07.188128Z"
    },
    "papermill": {
     "duration": 0.027101,
     "end_time": "2023-04-21T23:36:07.191865",
     "exception": false,
     "start_time": "2023-04-21T23:36:07.164764",
     "status": "completed"
    },
    "tags": []
   },
   "outputs": [],
   "source": [
    "#y = trainC['label']\n",
    "#Xpd = pd.DataFrame(X.toarray())\n",
    "\n",
    "#X_train, X_val, y_train, y_val = train_test_split(Xpd, y, test_size=0.15, random_state=42)\n",
    "\n",
    "# Create the LGBMClassifier model\n",
    "#model = LGBMClassifier(objective='multiclass', num_class=3, n_jobs=-1, random_state=42)\n",
    "\n",
    "# Define the early stopping criteria\n",
    "#eval_set = [(X_val, y_val)]\n",
    "#early_stopping_rounds = 10\n",
    "\n",
    "# Train the model with early stopping\n",
    "#model.fit(X_train, y_train,\n",
    "          #callbacks=[early_stopping(100), log_evaluation(100)],\n",
    "          #eval_metric='logloss',\n",
    "          #eval_set=eval_set)"
   ]
  },
  {
   "cell_type": "markdown",
   "id": "8dac69a1",
   "metadata": {
    "papermill": {
     "duration": 0.015734,
     "end_time": "2023-04-21T23:36:07.223710",
     "exception": false,
     "start_time": "2023-04-21T23:36:07.207976",
     "status": "completed"
    },
    "tags": []
   },
   "source": [
    "## Gerando submissão"
   ]
  },
  {
   "cell_type": "code",
   "execution_count": 14,
   "id": "a39b6e04",
   "metadata": {
    "execution": {
     "iopub.execute_input": "2023-04-21T23:36:07.258326Z",
     "iopub.status.busy": "2023-04-21T23:36:07.257415Z",
     "iopub.status.idle": "2023-04-21T23:36:07.265133Z",
     "shell.execute_reply": "2023-04-21T23:36:07.263969Z"
    },
    "papermill": {
     "duration": 0.028525,
     "end_time": "2023-04-21T23:36:07.268184",
     "exception": false,
     "start_time": "2023-04-21T23:36:07.239659",
     "status": "completed"
    },
    "tags": []
   },
   "outputs": [],
   "source": [
    "x_subC = x_sub.copy()"
   ]
  },
  {
   "cell_type": "code",
   "execution_count": 15,
   "id": "a4156672",
   "metadata": {
    "execution": {
     "iopub.execute_input": "2023-04-21T23:36:07.304100Z",
     "iopub.status.busy": "2023-04-21T23:36:07.303066Z",
     "iopub.status.idle": "2023-04-21T23:36:07.309195Z",
     "shell.execute_reply": "2023-04-21T23:36:07.308205Z"
    },
    "papermill": {
     "duration": 0.026886,
     "end_time": "2023-04-21T23:36:07.311705",
     "exception": false,
     "start_time": "2023-04-21T23:36:07.284819",
     "status": "completed"
    },
    "tags": []
   },
   "outputs": [],
   "source": [
    "#tqdm.pandas(desc=\"Translation Progress\")\n",
    "#x_subC['premise'] = x_subC.progress_apply(lambda row: translate_to_english(row['premise'],\n",
    "                                                                           #row['lang_abv']), axis=1)\n",
    "#x_subC['hypothesis'] = x_subC.progress_apply(lambda row: translate_to_english(row['hypothesis'],\n",
    "                                                                              #row['lang_abv']), axis=1)"
   ]
  },
  {
   "cell_type": "code",
   "execution_count": 16,
   "id": "0b8b0d4f",
   "metadata": {
    "execution": {
     "iopub.execute_input": "2023-04-21T23:36:07.346106Z",
     "iopub.status.busy": "2023-04-21T23:36:07.345581Z",
     "iopub.status.idle": "2023-04-21T23:36:07.563961Z",
     "shell.execute_reply": "2023-04-21T23:36:07.562095Z"
    },
    "papermill": {
     "duration": 0.239664,
     "end_time": "2023-04-21T23:36:07.567485",
     "exception": false,
     "start_time": "2023-04-21T23:36:07.327821",
     "status": "completed"
    },
    "tags": []
   },
   "outputs": [],
   "source": [
    "x_subC['premise'] = x_subC.premise.apply(str.lower)\n",
    "x_subC['premise'] = x_subC.premise.apply(remove_url_func)\n",
    "x_subC['premise'] = x_subC.premise.apply(remove_punctuation_func)\n",
    "x_subC['premise'] = x_subC.premise.apply(remove_accented_chars_func)\n",
    "x_subC['premise'] = x_subC.premise.apply(remove_extra_whitespaces_func)\n",
    "\n",
    "x_subC['hypothesis'] = x_subC.hypothesis.apply(str.lower)\n",
    "x_subC['hypothesis'] = x_subC.hypothesis.apply(remove_url_func)\n",
    "x_subC['hypothesis'] = x_subC.hypothesis.apply(remove_punctuation_func)\n",
    "x_subC['hypothesis'] = x_subC.hypothesis.apply(remove_accented_chars_func)\n",
    "x_subC['hypothesis'] = x_subC.hypothesis.apply(remove_extra_whitespaces_func)"
   ]
  },
  {
   "cell_type": "code",
   "execution_count": 17,
   "id": "03629cc3",
   "metadata": {
    "execution": {
     "iopub.execute_input": "2023-04-21T23:36:07.602201Z",
     "iopub.status.busy": "2023-04-21T23:36:07.601699Z",
     "iopub.status.idle": "2023-04-21T23:36:07.606678Z",
     "shell.execute_reply": "2023-04-21T23:36:07.605279Z"
    },
    "papermill": {
     "duration": 0.025646,
     "end_time": "2023-04-21T23:36:07.609304",
     "exception": false,
     "start_time": "2023-04-21T23:36:07.583658",
     "status": "completed"
    },
    "tags": []
   },
   "outputs": [],
   "source": [
    "#x1 = tfidf.transform(x_subC['premise'])\n",
    "#x2 = tfidf.transform(x_subC['hypothesis'])\n",
    "\n",
    "#Xsub = x1 - x2\n",
    "#Xsub = pd.DataFrame(Xsub.toarray())"
   ]
  },
  {
   "cell_type": "code",
   "execution_count": 18,
   "id": "53c4ce4e",
   "metadata": {
    "execution": {
     "iopub.execute_input": "2023-04-21T23:36:07.644811Z",
     "iopub.status.busy": "2023-04-21T23:36:07.643778Z",
     "iopub.status.idle": "2023-04-21T23:36:07.648597Z",
     "shell.execute_reply": "2023-04-21T23:36:07.647660Z"
    },
    "papermill": {
     "duration": 0.025542,
     "end_time": "2023-04-21T23:36:07.651148",
     "exception": false,
     "start_time": "2023-04-21T23:36:07.625606",
     "status": "completed"
    },
    "tags": []
   },
   "outputs": [],
   "source": [
    "#ID = x_sub.index.values\n",
    "#prevt = model.predict(Xsub)\n",
    "#submission = pd.DataFrame({'id' : ID,'prediction' : prevt })\n",
    "#submission.to_csv('submission.csv',index = False)\n",
    "#submission.describe()"
   ]
  },
  {
   "cell_type": "markdown",
   "id": "5f30f40f",
   "metadata": {
    "papermill": {
     "duration": 0.015638,
     "end_time": "2023-04-21T23:36:07.682902",
     "exception": false,
     "start_time": "2023-04-21T23:36:07.667264",
     "status": "completed"
    },
    "tags": []
   },
   "source": [
    "# Abordagem 2: Pré treinado sem alteração"
   ]
  },
  {
   "cell_type": "code",
   "execution_count": 19,
   "id": "855ab6bc",
   "metadata": {
    "execution": {
     "iopub.execute_input": "2023-04-21T23:36:07.718189Z",
     "iopub.status.busy": "2023-04-21T23:36:07.717175Z",
     "iopub.status.idle": "2023-04-21T23:36:07.722707Z",
     "shell.execute_reply": "2023-04-21T23:36:07.721396Z"
    },
    "papermill": {
     "duration": 0.026726,
     "end_time": "2023-04-21T23:36:07.725815",
     "exception": false,
     "start_time": "2023-04-21T23:36:07.699089",
     "status": "completed"
    },
    "tags": []
   },
   "outputs": [],
   "source": [
    "#checkpoint = \"symanto/xlm-roberta-base-snli-mnli-anli-xnli\"\n",
    "#tokenizer = AutoTokenizer.from_pretrained(checkpoint)\n",
    "#model = AutoModelForSequenceClassification.from_pretrained(checkpoint)"
   ]
  },
  {
   "cell_type": "code",
   "execution_count": 20,
   "id": "d8adecc4",
   "metadata": {
    "execution": {
     "iopub.execute_input": "2023-04-21T23:36:07.761070Z",
     "iopub.status.busy": "2023-04-21T23:36:07.759610Z",
     "iopub.status.idle": "2023-04-21T23:36:07.765701Z",
     "shell.execute_reply": "2023-04-21T23:36:07.764297Z"
    },
    "papermill": {
     "duration": 0.026588,
     "end_time": "2023-04-21T23:36:07.768636",
     "exception": false,
     "start_time": "2023-04-21T23:36:07.742048",
     "status": "completed"
    },
    "tags": []
   },
   "outputs": [],
   "source": [
    "#trainer = Trainer(model, tokenizer=tokenizer)"
   ]
  },
  {
   "cell_type": "code",
   "execution_count": 21,
   "id": "7c989d29",
   "metadata": {
    "execution": {
     "iopub.execute_input": "2023-04-21T23:36:07.805204Z",
     "iopub.status.busy": "2023-04-21T23:36:07.804463Z",
     "iopub.status.idle": "2023-04-21T23:36:07.810669Z",
     "shell.execute_reply": "2023-04-21T23:36:07.809225Z"
    },
    "papermill": {
     "duration": 0.027134,
     "end_time": "2023-04-21T23:36:07.813401",
     "exception": false,
     "start_time": "2023-04-21T23:36:07.786267",
     "status": "completed"
    },
    "tags": []
   },
   "outputs": [],
   "source": [
    "#train_ds = Dataset.from_pandas(train)\n",
    "#train_ds"
   ]
  },
  {
   "cell_type": "code",
   "execution_count": 22,
   "id": "4fcbb6c1",
   "metadata": {
    "execution": {
     "iopub.execute_input": "2023-04-21T23:36:07.849043Z",
     "iopub.status.busy": "2023-04-21T23:36:07.847590Z",
     "iopub.status.idle": "2023-04-21T23:36:07.854322Z",
     "shell.execute_reply": "2023-04-21T23:36:07.852972Z"
    },
    "papermill": {
     "duration": 0.027218,
     "end_time": "2023-04-21T23:36:07.856930",
     "exception": false,
     "start_time": "2023-04-21T23:36:07.829712",
     "status": "completed"
    },
    "tags": []
   },
   "outputs": [],
   "source": [
    "def tokenize(batch):\n",
    "    return tokenizer(batch['premise'], batch['hypothesis'])"
   ]
  },
  {
   "cell_type": "code",
   "execution_count": 23,
   "id": "07c26812",
   "metadata": {
    "execution": {
     "iopub.execute_input": "2023-04-21T23:36:07.892351Z",
     "iopub.status.busy": "2023-04-21T23:36:07.890949Z",
     "iopub.status.idle": "2023-04-21T23:36:07.896275Z",
     "shell.execute_reply": "2023-04-21T23:36:07.895255Z"
    },
    "papermill": {
     "duration": 0.025537,
     "end_time": "2023-04-21T23:36:07.898654",
     "exception": false,
     "start_time": "2023-04-21T23:36:07.873117",
     "status": "completed"
    },
    "tags": []
   },
   "outputs": [],
   "source": [
    "#train_ds = train_ds.map(tokenize, batched=True, remove_columns=list(train.columns))\n",
    "#train_ds"
   ]
  },
  {
   "cell_type": "code",
   "execution_count": 24,
   "id": "65b7c373",
   "metadata": {
    "execution": {
     "iopub.execute_input": "2023-04-21T23:36:07.933734Z",
     "iopub.status.busy": "2023-04-21T23:36:07.932445Z",
     "iopub.status.idle": "2023-04-21T23:36:07.937418Z",
     "shell.execute_reply": "2023-04-21T23:36:07.936501Z"
    },
    "papermill": {
     "duration": 0.024921,
     "end_time": "2023-04-21T23:36:07.939661",
     "exception": false,
     "start_time": "2023-04-21T23:36:07.914740",
     "status": "completed"
    },
    "tags": []
   },
   "outputs": [],
   "source": [
    "#device = torch.device(\"cuda\" if torch.cuda.is_available() else \"cpu\")\n",
    "#model = AutoModel.from_pretrained(checkpoint).to(device)"
   ]
  },
  {
   "cell_type": "markdown",
   "id": "2b2d4bc8",
   "metadata": {
    "papermill": {
     "duration": 0.015566,
     "end_time": "2023-04-21T23:36:07.971304",
     "exception": false,
     "start_time": "2023-04-21T23:36:07.955738",
     "status": "completed"
    },
    "tags": []
   },
   "source": [
    "Geração da Submissão"
   ]
  },
  {
   "cell_type": "code",
   "execution_count": 25,
   "id": "e2eaa6fd",
   "metadata": {
    "execution": {
     "iopub.execute_input": "2023-04-21T23:36:08.006286Z",
     "iopub.status.busy": "2023-04-21T23:36:08.005430Z",
     "iopub.status.idle": "2023-04-21T23:36:08.010235Z",
     "shell.execute_reply": "2023-04-21T23:36:08.009122Z"
    },
    "papermill": {
     "duration": 0.025736,
     "end_time": "2023-04-21T23:36:08.012955",
     "exception": false,
     "start_time": "2023-04-21T23:36:07.987219",
     "status": "completed"
    },
    "tags": []
   },
   "outputs": [],
   "source": [
    "#test_ds = Dataset.from_pandas(x_sub)\n",
    "#test_ds = test_ds.map(tokenize, batched=True, remove_columns=list(x_sub.columns))\n",
    "#preds_test = trainer.predict(test_ds).predictions.argmax(axis=-1)\n",
    "#preds_test.shape"
   ]
  },
  {
   "cell_type": "code",
   "execution_count": 26,
   "id": "cb58686b",
   "metadata": {
    "execution": {
     "iopub.execute_input": "2023-04-21T23:36:08.048496Z",
     "iopub.status.busy": "2023-04-21T23:36:08.047597Z",
     "iopub.status.idle": "2023-04-21T23:36:08.052277Z",
     "shell.execute_reply": "2023-04-21T23:36:08.051161Z"
    },
    "papermill": {
     "duration": 0.025199,
     "end_time": "2023-04-21T23:36:08.054785",
     "exception": false,
     "start_time": "2023-04-21T23:36:08.029586",
     "status": "completed"
    },
    "tags": []
   },
   "outputs": [],
   "source": [
    "#submission = pd.DataFrame({'id': ID, 'prediction': preds_test})\n",
    "#submission"
   ]
  },
  {
   "cell_type": "code",
   "execution_count": 27,
   "id": "dac00565",
   "metadata": {
    "execution": {
     "iopub.execute_input": "2023-04-21T23:36:08.089474Z",
     "iopub.status.busy": "2023-04-21T23:36:08.088859Z",
     "iopub.status.idle": "2023-04-21T23:36:08.094060Z",
     "shell.execute_reply": "2023-04-21T23:36:08.092841Z"
    },
    "papermill": {
     "duration": 0.025613,
     "end_time": "2023-04-21T23:36:08.096485",
     "exception": false,
     "start_time": "2023-04-21T23:36:08.070872",
     "status": "completed"
    },
    "tags": []
   },
   "outputs": [],
   "source": [
    "#submission.to_csv('submission.csv', index=False)"
   ]
  },
  {
   "cell_type": "markdown",
   "id": "8869b5f5",
   "metadata": {
    "papermill": {
     "duration": 0.015637,
     "end_time": "2023-04-21T23:36:08.128287",
     "exception": false,
     "start_time": "2023-04-21T23:36:08.112650",
     "status": "completed"
    },
    "tags": []
   },
   "source": [
    "# Abordagem 3: Pré-treinado com tradução"
   ]
  },
  {
   "cell_type": "code",
   "execution_count": 28,
   "id": "9b54bb95",
   "metadata": {
    "execution": {
     "iopub.execute_input": "2023-04-21T23:36:08.162707Z",
     "iopub.status.busy": "2023-04-21T23:36:08.162177Z",
     "iopub.status.idle": "2023-04-21T23:36:08.167566Z",
     "shell.execute_reply": "2023-04-21T23:36:08.166320Z"
    },
    "papermill": {
     "duration": 0.026149,
     "end_time": "2023-04-21T23:36:08.170441",
     "exception": false,
     "start_time": "2023-04-21T23:36:08.144292",
     "status": "completed"
    },
    "tags": []
   },
   "outputs": [],
   "source": [
    "#checkpoint = \"symanto/xlm-roberta-base-snli-mnli-anli-xnli\"\n",
    "#tokenizer = AutoTokenizer.from_pretrained(checkpoint)\n",
    "#model = AutoModelForSequenceClassification.from_pretrained(checkpoint)"
   ]
  },
  {
   "cell_type": "code",
   "execution_count": 29,
   "id": "dbb8739f",
   "metadata": {
    "execution": {
     "iopub.execute_input": "2023-04-21T23:36:08.205720Z",
     "iopub.status.busy": "2023-04-21T23:36:08.204782Z",
     "iopub.status.idle": "2023-04-21T23:36:08.210230Z",
     "shell.execute_reply": "2023-04-21T23:36:08.208900Z"
    },
    "papermill": {
     "duration": 0.026402,
     "end_time": "2023-04-21T23:36:08.212978",
     "exception": false,
     "start_time": "2023-04-21T23:36:08.186576",
     "status": "completed"
    },
    "tags": []
   },
   "outputs": [],
   "source": [
    "#trainer = Trainer(model, tokenizer=tokenizer)"
   ]
  },
  {
   "cell_type": "code",
   "execution_count": 30,
   "id": "9f96b8b9",
   "metadata": {
    "execution": {
     "iopub.execute_input": "2023-04-21T23:36:08.248786Z",
     "iopub.status.busy": "2023-04-21T23:36:08.247732Z",
     "iopub.status.idle": "2023-04-21T23:36:08.253561Z",
     "shell.execute_reply": "2023-04-21T23:36:08.252213Z"
    },
    "papermill": {
     "duration": 0.02633,
     "end_time": "2023-04-21T23:36:08.256105",
     "exception": false,
     "start_time": "2023-04-21T23:36:08.229775",
     "status": "completed"
    },
    "tags": []
   },
   "outputs": [],
   "source": [
    "#train_ds = Dataset.from_pandas(train)\n",
    "#train_ds"
   ]
  },
  {
   "cell_type": "code",
   "execution_count": 31,
   "id": "f71980c8",
   "metadata": {
    "execution": {
     "iopub.execute_input": "2023-04-21T23:36:08.291406Z",
     "iopub.status.busy": "2023-04-21T23:36:08.290881Z",
     "iopub.status.idle": "2023-04-21T23:36:08.296317Z",
     "shell.execute_reply": "2023-04-21T23:36:08.294924Z"
    },
    "papermill": {
     "duration": 0.026031,
     "end_time": "2023-04-21T23:36:08.298803",
     "exception": false,
     "start_time": "2023-04-21T23:36:08.272772",
     "status": "completed"
    },
    "tags": []
   },
   "outputs": [],
   "source": [
    "#device = torch.device(\"cuda\" if torch.cuda.is_available() else \"cpu\")\n",
    "#model = AutoModel.from_pretrained(checkpoint).to(device)"
   ]
  },
  {
   "cell_type": "markdown",
   "id": "9ce45f1f",
   "metadata": {
    "papermill": {
     "duration": 0.016139,
     "end_time": "2023-04-21T23:36:08.331696",
     "exception": false,
     "start_time": "2023-04-21T23:36:08.315557",
     "status": "completed"
    },
    "tags": []
   },
   "source": [
    "## Traduzindo e gerando submissão"
   ]
  },
  {
   "cell_type": "code",
   "execution_count": 32,
   "id": "d5014431",
   "metadata": {
    "execution": {
     "iopub.execute_input": "2023-04-21T23:36:08.365726Z",
     "iopub.status.busy": "2023-04-21T23:36:08.365203Z",
     "iopub.status.idle": "2023-04-21T23:36:08.370648Z",
     "shell.execute_reply": "2023-04-21T23:36:08.369216Z"
    },
    "papermill": {
     "duration": 0.025667,
     "end_time": "2023-04-21T23:36:08.373165",
     "exception": false,
     "start_time": "2023-04-21T23:36:08.347498",
     "status": "completed"
    },
    "tags": []
   },
   "outputs": [],
   "source": [
    "#x_subC = x_sub.copy()\n",
    "\n",
    "#tqdm.pandas(desc=\"Translation Progress\")\n",
    "#x_subC['premise'] = x_subC.progress_apply(lambda row: translate_to_english(row['premise'],\n",
    "                                                                           #row['lang_abv']), axis=1)\n",
    "#x_subC['hypothesis'] = x_subC.progress_apply(lambda row: translate_to_english(row['hypothesis'],\n",
    "                                                                              #row['lang_abv']), axis=1)"
   ]
  },
  {
   "cell_type": "code",
   "execution_count": 33,
   "id": "0cca918f",
   "metadata": {
    "execution": {
     "iopub.execute_input": "2023-04-21T23:36:08.408771Z",
     "iopub.status.busy": "2023-04-21T23:36:08.407915Z",
     "iopub.status.idle": "2023-04-21T23:36:08.412347Z",
     "shell.execute_reply": "2023-04-21T23:36:08.411412Z"
    },
    "papermill": {
     "duration": 0.02506,
     "end_time": "2023-04-21T23:36:08.414730",
     "exception": false,
     "start_time": "2023-04-21T23:36:08.389670",
     "status": "completed"
    },
    "tags": []
   },
   "outputs": [],
   "source": [
    "#x_subC['lang_abv'] = 'en'\n",
    "#x_subC['language'] = 'English'"
   ]
  },
  {
   "cell_type": "code",
   "execution_count": 34,
   "id": "4396274d",
   "metadata": {
    "execution": {
     "iopub.execute_input": "2023-04-21T23:36:08.450406Z",
     "iopub.status.busy": "2023-04-21T23:36:08.448914Z",
     "iopub.status.idle": "2023-04-21T23:36:08.454166Z",
     "shell.execute_reply": "2023-04-21T23:36:08.453190Z"
    },
    "papermill": {
     "duration": 0.025744,
     "end_time": "2023-04-21T23:36:08.456718",
     "exception": false,
     "start_time": "2023-04-21T23:36:08.430974",
     "status": "completed"
    },
    "tags": []
   },
   "outputs": [],
   "source": [
    "#test_ds = Dataset.from_pandas(x_subC)\n",
    "#test_ds = test_ds.map(tokenize, batched=True, remove_columns=list(x_sub.columns))\n",
    "#preds_test = trainer.predict(test_ds).predictions.argmax(axis=-1)\n",
    "#preds_test.shape"
   ]
  },
  {
   "cell_type": "code",
   "execution_count": 35,
   "id": "164496ce",
   "metadata": {
    "execution": {
     "iopub.execute_input": "2023-04-21T23:36:08.492575Z",
     "iopub.status.busy": "2023-04-21T23:36:08.491611Z",
     "iopub.status.idle": "2023-04-21T23:36:08.497153Z",
     "shell.execute_reply": "2023-04-21T23:36:08.495745Z"
    },
    "papermill": {
     "duration": 0.026468,
     "end_time": "2023-04-21T23:36:08.499918",
     "exception": false,
     "start_time": "2023-04-21T23:36:08.473450",
     "status": "completed"
    },
    "tags": []
   },
   "outputs": [],
   "source": [
    "#submission = pd.DataFrame({'id': ID, 'prediction': preds_test})\n",
    "#submission"
   ]
  },
  {
   "cell_type": "code",
   "execution_count": 36,
   "id": "cca95544",
   "metadata": {
    "execution": {
     "iopub.execute_input": "2023-04-21T23:36:08.536163Z",
     "iopub.status.busy": "2023-04-21T23:36:08.535308Z",
     "iopub.status.idle": "2023-04-21T23:36:08.540738Z",
     "shell.execute_reply": "2023-04-21T23:36:08.539750Z"
    },
    "papermill": {
     "duration": 0.026362,
     "end_time": "2023-04-21T23:36:08.543233",
     "exception": false,
     "start_time": "2023-04-21T23:36:08.516871",
     "status": "completed"
    },
    "tags": []
   },
   "outputs": [],
   "source": [
    "#submission.to_csv('submission.csv', index=False)"
   ]
  },
  {
   "cell_type": "markdown",
   "id": "b4d9fb52",
   "metadata": {
    "papermill": {
     "duration": 0.016779,
     "end_time": "2023-04-21T23:36:08.576038",
     "exception": false,
     "start_time": "2023-04-21T23:36:08.559259",
     "status": "completed"
    },
    "tags": []
   },
   "source": [
    "# Abordagem 4: Tokenizador pré-treinado, modelo sem pré-treino"
   ]
  },
  {
   "cell_type": "code",
   "execution_count": 37,
   "id": "47f0b5bd",
   "metadata": {
    "execution": {
     "iopub.execute_input": "2023-04-21T23:36:08.610428Z",
     "iopub.status.busy": "2023-04-21T23:36:08.609902Z",
     "iopub.status.idle": "2023-04-21T23:36:20.445356Z",
     "shell.execute_reply": "2023-04-21T23:36:20.444215Z"
    },
    "papermill": {
     "duration": 11.856332,
     "end_time": "2023-04-21T23:36:20.448304",
     "exception": false,
     "start_time": "2023-04-21T23:36:08.591972",
     "status": "completed"
    },
    "tags": []
   },
   "outputs": [
    {
     "data": {
      "application/vnd.jupyter.widget-view+json": {
       "model_id": "0bd33ae0fe9e4a75bb6ebc91a3488dbc",
       "version_major": 2,
       "version_minor": 0
      },
      "text/plain": [
       "Downloading (…)lve/main/config.json:   0%|          | 0.00/615 [00:00<?, ?B/s]"
      ]
     },
     "metadata": {},
     "output_type": "display_data"
    },
    {
     "data": {
      "application/vnd.jupyter.widget-view+json": {
       "model_id": "5b5fb9d4acbd4a5dbca25bef1d75c84b",
       "version_major": 2,
       "version_minor": 0
      },
      "text/plain": [
       "Downloading (…)tencepiece.bpe.model:   0%|          | 0.00/5.07M [00:00<?, ?B/s]"
      ]
     },
     "metadata": {},
     "output_type": "display_data"
    },
    {
     "data": {
      "application/vnd.jupyter.widget-view+json": {
       "model_id": "129bee5250524f6fb357d8f240c87694",
       "version_major": 2,
       "version_minor": 0
      },
      "text/plain": [
       "Downloading (…)/main/tokenizer.json:   0%|          | 0.00/9.10M [00:00<?, ?B/s]"
      ]
     },
     "metadata": {},
     "output_type": "display_data"
    },
    {
     "data": {
      "application/vnd.jupyter.widget-view+json": {
       "model_id": "821e2a74bfe046f4b5a7356f9c64301f",
       "version_major": 2,
       "version_minor": 0
      },
      "text/plain": [
       "  0%|          | 0/1 [00:00<?, ?ba/s]"
      ]
     },
     "metadata": {},
     "output_type": "display_data"
    },
    {
     "data": {
      "application/vnd.jupyter.widget-view+json": {
       "model_id": "2b02a4dd4728446caeffb44be70ced50",
       "version_major": 2,
       "version_minor": 0
      },
      "text/plain": [
       "  0%|          | 0/12120 [00:00<?, ?ex/s]"
      ]
     },
     "metadata": {},
     "output_type": "display_data"
    }
   ],
   "source": [
    "checkpoint = \"xlm-roberta-base\"\n",
    "tokenizer = AutoTokenizer.from_pretrained(checkpoint)\n",
    "\n",
    "def convert_id(example):\n",
    "    example[\"id\"] = int(example[\"id\"], 16)\n",
    "    return example\n",
    "\n",
    "def tokenize(batch, max_length=225):\n",
    "    return tokenizer(\n",
    "        batch['premise'], \n",
    "        batch['hypothesis'], \n",
    "        padding=True,#'max_length',\n",
    "        truncation=True,\n",
    "        max_length=max_length\n",
    "    )\n",
    "\n",
    "cols_to_remove = list(trainC.columns)\n",
    "cols_to_remove.remove('label')\n",
    "\n",
    "train_ds = Dataset.from_pandas(train)\n",
    "train_ds = train_ds.map(tokenize, batched=True, batch_size=None, remove_columns=cols_to_remove)\n",
    "train_ds = train_ds.map(convert_id)\n",
    "train_ds.set_format(\"torch\")"
   ]
  },
  {
   "cell_type": "code",
   "execution_count": 38,
   "id": "5e8cc848",
   "metadata": {
    "execution": {
     "iopub.execute_input": "2023-04-21T23:36:20.485604Z",
     "iopub.status.busy": "2023-04-21T23:36:20.485097Z",
     "iopub.status.idle": "2023-04-21T23:36:34.436351Z",
     "shell.execute_reply": "2023-04-21T23:36:34.434846Z"
    },
    "papermill": {
     "duration": 13.974304,
     "end_time": "2023-04-21T23:36:34.439884",
     "exception": false,
     "start_time": "2023-04-21T23:36:20.465580",
     "status": "completed"
    },
    "tags": []
   },
   "outputs": [
    {
     "data": {
      "application/vnd.jupyter.widget-view+json": {
       "model_id": "586e74b7513c4aecb0ef21e6712e6872",
       "version_major": 2,
       "version_minor": 0
      },
      "text/plain": [
       "Downloading (…)\"pytorch_model.bin\";:   0%|          | 0.00/1.12G [00:00<?, ?B/s]"
      ]
     },
     "metadata": {},
     "output_type": "display_data"
    },
    {
     "name": "stderr",
     "output_type": "stream",
     "text": [
      "Some weights of the model checkpoint at xlm-roberta-base were not used when initializing XLMRobertaModel: ['lm_head.layer_norm.weight', 'lm_head.bias', 'lm_head.layer_norm.bias', 'lm_head.dense.weight', 'lm_head.dense.bias', 'lm_head.decoder.weight']\n",
      "- This IS expected if you are initializing XLMRobertaModel from the checkpoint of a model trained on another task or with another architecture (e.g. initializing a BertForSequenceClassification model from a BertForPreTraining model).\n",
      "- This IS NOT expected if you are initializing XLMRobertaModel from the checkpoint of a model that you expect to be exactly identical (initializing a BertForSequenceClassification model from a BertForSequenceClassification model).\n"
     ]
    }
   ],
   "source": [
    "# Load the pre-trained BERT model\n",
    "device = torch.device(\"cuda\" if torch.cuda.is_available() else \"cpu\")\n",
    "model = AutoModel.from_pretrained(checkpoint).to(device)\n",
    "model_name = 'bert-base-uncased'\n",
    "#model = BertModel.from_pretrained(model_name)"
   ]
  },
  {
   "cell_type": "code",
   "execution_count": 39,
   "id": "048240b0",
   "metadata": {
    "execution": {
     "iopub.execute_input": "2023-04-21T23:36:34.477157Z",
     "iopub.status.busy": "2023-04-21T23:36:34.476083Z",
     "iopub.status.idle": "2023-04-22T01:17:19.430712Z",
     "shell.execute_reply": "2023-04-22T01:17:19.429297Z"
    },
    "papermill": {
     "duration": 6044.984247,
     "end_time": "2023-04-22T01:17:19.441390",
     "exception": false,
     "start_time": "2023-04-21T23:36:34.457143",
     "status": "completed"
    },
    "tags": []
   },
   "outputs": [
    {
     "data": {
      "application/vnd.jupyter.widget-view+json": {
       "model_id": "f9a95ac2bb2946ebb606a40fa0c6085e",
       "version_major": 2,
       "version_minor": 0
      },
      "text/plain": [
       "  0%|          | 0/95 [00:00<?, ?ba/s]"
      ]
     },
     "metadata": {},
     "output_type": "display_data"
    },
    {
     "data": {
      "text/plain": [
       "Dataset({\n",
       "    features: ['label', 'id', 'input_ids', 'attention_mask', 'hidden_state'],\n",
       "    num_rows: 12120\n",
       "})"
      ]
     },
     "execution_count": 39,
     "metadata": {},
     "output_type": "execute_result"
    }
   ],
   "source": [
    "def extract_hidden_states(batch):\n",
    "    # Place model inputs on the GPU:\n",
    "    inputs = {k: v.to(device) for k, v in batch.items() if k in tokenizer.model_input_names}\n",
    "    # Extract last hidden states:\n",
    "    with torch.no_grad():\n",
    "        last_hidden_state = model(**inputs).last_hidden_state\n",
    "    # Return vectors for the '<s>' token:\n",
    "    return {\"hidden_state\": last_hidden_state[:, 0].cpu().numpy()}\n",
    "\n",
    "train_ds = train_ds.map(extract_hidden_states, batched=True, batch_size=128)\n",
    "train_ds"
   ]
  },
  {
   "cell_type": "code",
   "execution_count": 40,
   "id": "780e905a",
   "metadata": {
    "execution": {
     "iopub.execute_input": "2023-04-22T01:17:19.480196Z",
     "iopub.status.busy": "2023-04-22T01:17:19.479685Z",
     "iopub.status.idle": "2023-04-22T01:17:19.621202Z",
     "shell.execute_reply": "2023-04-22T01:17:19.619690Z"
    },
    "papermill": {
     "duration": 0.165065,
     "end_time": "2023-04-22T01:17:19.624180",
     "exception": false,
     "start_time": "2023-04-22T01:17:19.459115",
     "status": "completed"
    },
    "tags": []
   },
   "outputs": [
    {
     "data": {
      "text/plain": [
       "((12120, 768), (12120,))"
      ]
     },
     "execution_count": 40,
     "metadata": {},
     "output_type": "execute_result"
    }
   ],
   "source": [
    "X = np.array(train_ds['hidden_state'])\n",
    "y = np.array(train_ds['label'])\n",
    "X.shape, y.shape"
   ]
  },
  {
   "cell_type": "code",
   "execution_count": 41,
   "id": "110e3662",
   "metadata": {
    "execution": {
     "iopub.execute_input": "2023-04-22T01:17:19.663720Z",
     "iopub.status.busy": "2023-04-22T01:17:19.662686Z",
     "iopub.status.idle": "2023-04-22T01:18:00.033670Z",
     "shell.execute_reply": "2023-04-22T01:18:00.032283Z"
    },
    "papermill": {
     "duration": 40.411592,
     "end_time": "2023-04-22T01:18:00.054233",
     "exception": false,
     "start_time": "2023-04-22T01:17:19.642641",
     "status": "completed"
    },
    "tags": []
   },
   "outputs": [
    {
     "name": "stdout",
     "output_type": "stream",
     "text": [
      "Training until validation scores don't improve for 100 rounds\n",
      "[100]\tvalid_0's multi_logloss: 1.13343\n",
      "Did not meet early stopping. Best iteration is:\n",
      "[13]\tvalid_0's multi_logloss: 1.09203\n"
     ]
    },
    {
     "data": {
      "text/plain": [
       "LGBMClassifier(num_class=3, objective='multiclass', random_state=42)"
      ]
     },
     "execution_count": 41,
     "metadata": {},
     "output_type": "execute_result"
    }
   ],
   "source": [
    "X_train, X_val, y_train, y_val = train_test_split(X, y, test_size=0.15, random_state=42)\n",
    "\n",
    "# Create the LGBMClassifier model\n",
    "modelo = LGBMClassifier(objective='multiclass', num_class=3, n_jobs=-1, random_state=42)\n",
    "\n",
    "# Define the early stopping criteria\n",
    "eval_set = [(X_val, y_val)]\n",
    "early_stopping_rounds = 10\n",
    "\n",
    "# Train the model with early stopping\n",
    "modelo.fit(X_train, y_train,\n",
    "           callbacks=[early_stopping(100), log_evaluation(100)],\n",
    "           eval_metric='logloss',\n",
    "           eval_set=eval_set)"
   ]
  },
  {
   "cell_type": "markdown",
   "id": "0dacc339",
   "metadata": {
    "papermill": {
     "duration": 0.018294,
     "end_time": "2023-04-22T01:18:00.090583",
     "exception": false,
     "start_time": "2023-04-22T01:18:00.072289",
     "status": "completed"
    },
    "tags": []
   },
   "source": [
    "## Gerando submissão"
   ]
  },
  {
   "cell_type": "code",
   "execution_count": 42,
   "id": "7cfed234",
   "metadata": {
    "execution": {
     "iopub.execute_input": "2023-04-22T01:18:00.129560Z",
     "iopub.status.busy": "2023-04-22T01:18:00.129066Z",
     "iopub.status.idle": "2023-04-22T02:00:18.077233Z",
     "shell.execute_reply": "2023-04-22T02:00:18.075988Z"
    },
    "papermill": {
     "duration": 2537.978637,
     "end_time": "2023-04-22T02:00:18.087233",
     "exception": false,
     "start_time": "2023-04-22T01:18:00.108596",
     "status": "completed"
    },
    "tags": []
   },
   "outputs": [
    {
     "data": {
      "application/vnd.jupyter.widget-view+json": {
       "model_id": "a3ae28f33e13423f9908c9f5968bb1d3",
       "version_major": 2,
       "version_minor": 0
      },
      "text/plain": [
       "  0%|          | 0/1 [00:00<?, ?ba/s]"
      ]
     },
     "metadata": {},
     "output_type": "display_data"
    },
    {
     "data": {
      "application/vnd.jupyter.widget-view+json": {
       "model_id": "c8f60229cfec4ab1a601d1cdc43a431f",
       "version_major": 2,
       "version_minor": 0
      },
      "text/plain": [
       "  0%|          | 0/5195 [00:00<?, ?ex/s]"
      ]
     },
     "metadata": {},
     "output_type": "display_data"
    },
    {
     "data": {
      "application/vnd.jupyter.widget-view+json": {
       "model_id": "f662a808bdf147b2ba749f0c0e91629c",
       "version_major": 2,
       "version_minor": 0
      },
      "text/plain": [
       "  0%|          | 0/41 [00:00<?, ?ba/s]"
      ]
     },
     "metadata": {},
     "output_type": "display_data"
    },
    {
     "data": {
      "text/plain": [
       "Dataset({\n",
       "    features: ['id', 'input_ids', 'attention_mask', 'hidden_state'],\n",
       "    num_rows: 5195\n",
       "})"
      ]
     },
     "execution_count": 42,
     "metadata": {},
     "output_type": "execute_result"
    }
   ],
   "source": [
    "sub = Dataset.from_pandas(x_sub)\n",
    "sub = sub.map(tokenize, batched=True, batch_size=None, remove_columns=cols_to_remove)\n",
    "sub = sub.map(convert_id)\n",
    "sub.set_format(\"torch\")\n",
    "\n",
    "sub = sub.map(extract_hidden_states, batched=True, batch_size=128)\n",
    "sub"
   ]
  },
  {
   "cell_type": "code",
   "execution_count": 43,
   "id": "3b0c9124",
   "metadata": {
    "execution": {
     "iopub.execute_input": "2023-04-22T02:00:18.126941Z",
     "iopub.status.busy": "2023-04-22T02:00:18.126398Z",
     "iopub.status.idle": "2023-04-22T02:00:18.184990Z",
     "shell.execute_reply": "2023-04-22T02:00:18.183440Z"
    },
    "papermill": {
     "duration": 0.082789,
     "end_time": "2023-04-22T02:00:18.188267",
     "exception": false,
     "start_time": "2023-04-22T02:00:18.105478",
     "status": "completed"
    },
    "tags": []
   },
   "outputs": [
    {
     "data": {
      "text/plain": [
       "(5195, 768)"
      ]
     },
     "execution_count": 43,
     "metadata": {},
     "output_type": "execute_result"
    }
   ],
   "source": [
    "Xsub = np.array(sub['hidden_state'])\n",
    "Xsub.shape"
   ]
  },
  {
   "cell_type": "code",
   "execution_count": 44,
   "id": "9ea08cbb",
   "metadata": {
    "execution": {
     "iopub.execute_input": "2023-04-22T02:00:18.227847Z",
     "iopub.status.busy": "2023-04-22T02:00:18.227065Z",
     "iopub.status.idle": "2023-04-22T02:00:18.292950Z",
     "shell.execute_reply": "2023-04-22T02:00:18.291483Z"
    },
    "papermill": {
     "duration": 0.089153,
     "end_time": "2023-04-22T02:00:18.295849",
     "exception": false,
     "start_time": "2023-04-22T02:00:18.206696",
     "status": "completed"
    },
    "tags": []
   },
   "outputs": [
    {
     "data": {
      "text/html": [
       "<div>\n",
       "<style scoped>\n",
       "    .dataframe tbody tr th:only-of-type {\n",
       "        vertical-align: middle;\n",
       "    }\n",
       "\n",
       "    .dataframe tbody tr th {\n",
       "        vertical-align: top;\n",
       "    }\n",
       "\n",
       "    .dataframe thead th {\n",
       "        text-align: right;\n",
       "    }\n",
       "</style>\n",
       "<table border=\"1\" class=\"dataframe\">\n",
       "  <thead>\n",
       "    <tr style=\"text-align: right;\">\n",
       "      <th></th>\n",
       "      <th>prediction</th>\n",
       "    </tr>\n",
       "  </thead>\n",
       "  <tbody>\n",
       "    <tr>\n",
       "      <th>count</th>\n",
       "      <td>5195.000000</td>\n",
       "    </tr>\n",
       "    <tr>\n",
       "      <th>mean</th>\n",
       "      <td>0.947257</td>\n",
       "    </tr>\n",
       "    <tr>\n",
       "      <th>std</th>\n",
       "      <td>0.856643</td>\n",
       "    </tr>\n",
       "    <tr>\n",
       "      <th>min</th>\n",
       "      <td>0.000000</td>\n",
       "    </tr>\n",
       "    <tr>\n",
       "      <th>25%</th>\n",
       "      <td>0.000000</td>\n",
       "    </tr>\n",
       "    <tr>\n",
       "      <th>50%</th>\n",
       "      <td>1.000000</td>\n",
       "    </tr>\n",
       "    <tr>\n",
       "      <th>75%</th>\n",
       "      <td>2.000000</td>\n",
       "    </tr>\n",
       "    <tr>\n",
       "      <th>max</th>\n",
       "      <td>2.000000</td>\n",
       "    </tr>\n",
       "  </tbody>\n",
       "</table>\n",
       "</div>"
      ],
      "text/plain": [
       "        prediction\n",
       "count  5195.000000\n",
       "mean      0.947257\n",
       "std       0.856643\n",
       "min       0.000000\n",
       "25%       0.000000\n",
       "50%       1.000000\n",
       "75%       2.000000\n",
       "max       2.000000"
      ]
     },
     "execution_count": 44,
     "metadata": {},
     "output_type": "execute_result"
    }
   ],
   "source": [
    "ID = x_sub.index.values\n",
    "prevt = modelo.predict(Xsub)\n",
    "submission = pd.DataFrame({'id' : ID,'prediction' : prevt })\n",
    "submission.to_csv('submission.csv',index = False)\n",
    "submission.describe()"
   ]
  }
 ],
 "metadata": {
  "kernelspec": {
   "display_name": "Python 3",
   "language": "python",
   "name": "python3"
  },
  "language_info": {
   "codemirror_mode": {
    "name": "ipython",
    "version": 3
   },
   "file_extension": ".py",
   "mimetype": "text/x-python",
   "name": "python",
   "nbconvert_exporter": "python",
   "pygments_lexer": "ipython3",
   "version": "3.7.12"
  },
  "papermill": {
   "default_parameters": {},
   "duration": 8703.545201,
   "end_time": "2023-04-22T02:00:21.161825",
   "environment_variables": {},
   "exception": null,
   "input_path": "__notebook__.ipynb",
   "output_path": "__notebook__.ipynb",
   "parameters": {},
   "start_time": "2023-04-21T23:35:17.616624",
   "version": "2.4.0"
  },
  "widgets": {
   "application/vnd.jupyter.widget-state+json": {
    "state": {
     "02636c9c69aa4b8a8a0b2470464ee083": {
      "model_module": "@jupyter-widgets/controls",
      "model_module_version": "1.5.0",
      "model_name": "FloatProgressModel",
      "state": {
       "_dom_classes": [],
       "_model_module": "@jupyter-widgets/controls",
       "_model_module_version": "1.5.0",
       "_model_name": "FloatProgressModel",
       "_view_count": null,
       "_view_module": "@jupyter-widgets/controls",
       "_view_module_version": "1.5.0",
       "_view_name": "ProgressView",
       "bar_style": "success",
       "description": "",
       "description_tooltip": null,
       "layout": "IPY_MODEL_2117112d13f64ce185e60e0117b5f2c2",
       "max": 1.0,
       "min": 0.0,
       "orientation": "horizontal",
       "style": "IPY_MODEL_a58e3487aff64519be1ce484a34d18c6",
       "value": 1.0
      }
     },
     "03be0ac81ae64ec492d09a36d8bcc5d7": {
      "model_module": "@jupyter-widgets/controls",
      "model_module_version": "1.5.0",
      "model_name": "DescriptionStyleModel",
      "state": {
       "_model_module": "@jupyter-widgets/controls",
       "_model_module_version": "1.5.0",
       "_model_name": "DescriptionStyleModel",
       "_view_count": null,
       "_view_module": "@jupyter-widgets/base",
       "_view_module_version": "1.2.0",
       "_view_name": "StyleView",
       "description_width": ""
      }
     },
     "04f910f8c08e448c90e8c9216102552e": {
      "model_module": "@jupyter-widgets/base",
      "model_module_version": "1.2.0",
      "model_name": "LayoutModel",
      "state": {
       "_model_module": "@jupyter-widgets/base",
       "_model_module_version": "1.2.0",
       "_model_name": "LayoutModel",
       "_view_count": null,
       "_view_module": "@jupyter-widgets/base",
       "_view_module_version": "1.2.0",
       "_view_name": "LayoutView",
       "align_content": null,
       "align_items": null,
       "align_self": null,
       "border": null,
       "bottom": null,
       "display": null,
       "flex": null,
       "flex_flow": null,
       "grid_area": null,
       "grid_auto_columns": null,
       "grid_auto_flow": null,
       "grid_auto_rows": null,
       "grid_column": null,
       "grid_gap": null,
       "grid_row": null,
       "grid_template_areas": null,
       "grid_template_columns": null,
       "grid_template_rows": null,
       "height": null,
       "justify_content": null,
       "justify_items": null,
       "left": null,
       "margin": null,
       "max_height": null,
       "max_width": null,
       "min_height": null,
       "min_width": null,
       "object_fit": null,
       "object_position": null,
       "order": null,
       "overflow": null,
       "overflow_x": null,
       "overflow_y": null,
       "padding": null,
       "right": null,
       "top": null,
       "visibility": null,
       "width": null
      }
     },
     "07da065a83b24e23b5b99d104c296916": {
      "model_module": "@jupyter-widgets/controls",
      "model_module_version": "1.5.0",
      "model_name": "HTMLModel",
      "state": {
       "_dom_classes": [],
       "_model_module": "@jupyter-widgets/controls",
       "_model_module_version": "1.5.0",
       "_model_name": "HTMLModel",
       "_view_count": null,
       "_view_module": "@jupyter-widgets/controls",
       "_view_module_version": "1.5.0",
       "_view_name": "HTMLView",
       "description": "",
       "description_tooltip": null,
       "layout": "IPY_MODEL_66485373138f4c5b885e11b5971d2143",
       "placeholder": "​",
       "style": "IPY_MODEL_c80d70544698443f8e1ecef79df18271",
       "value": "100%"
      }
     },
     "0bd33ae0fe9e4a75bb6ebc91a3488dbc": {
      "model_module": "@jupyter-widgets/controls",
      "model_module_version": "1.5.0",
      "model_name": "HBoxModel",
      "state": {
       "_dom_classes": [],
       "_model_module": "@jupyter-widgets/controls",
       "_model_module_version": "1.5.0",
       "_model_name": "HBoxModel",
       "_view_count": null,
       "_view_module": "@jupyter-widgets/controls",
       "_view_module_version": "1.5.0",
       "_view_name": "HBoxView",
       "box_style": "",
       "children": [
        "IPY_MODEL_2437e9fa26734d5582276bf7fc61ebd1",
        "IPY_MODEL_5842c932431c47978e994a6b42ee00a8",
        "IPY_MODEL_c06ea6e5625746c8ae4876a5bdba1013"
       ],
       "layout": "IPY_MODEL_ec80c709e2624fee9a7e44791a312454"
      }
     },
     "0befc15998fb429b95a7e07967a6e881": {
      "model_module": "@jupyter-widgets/controls",
      "model_module_version": "1.5.0",
      "model_name": "ProgressStyleModel",
      "state": {
       "_model_module": "@jupyter-widgets/controls",
       "_model_module_version": "1.5.0",
       "_model_name": "ProgressStyleModel",
       "_view_count": null,
       "_view_module": "@jupyter-widgets/base",
       "_view_module_version": "1.2.0",
       "_view_name": "StyleView",
       "bar_color": null,
       "description_width": ""
      }
     },
     "0dbf7f1d72b84e559a578c8e68c00e0e": {
      "model_module": "@jupyter-widgets/base",
      "model_module_version": "1.2.0",
      "model_name": "LayoutModel",
      "state": {
       "_model_module": "@jupyter-widgets/base",
       "_model_module_version": "1.2.0",
       "_model_name": "LayoutModel",
       "_view_count": null,
       "_view_module": "@jupyter-widgets/base",
       "_view_module_version": "1.2.0",
       "_view_name": "LayoutView",
       "align_content": null,
       "align_items": null,
       "align_self": null,
       "border": null,
       "bottom": null,
       "display": null,
       "flex": null,
       "flex_flow": null,
       "grid_area": null,
       "grid_auto_columns": null,
       "grid_auto_flow": null,
       "grid_auto_rows": null,
       "grid_column": null,
       "grid_gap": null,
       "grid_row": null,
       "grid_template_areas": null,
       "grid_template_columns": null,
       "grid_template_rows": null,
       "height": null,
       "justify_content": null,
       "justify_items": null,
       "left": null,
       "margin": null,
       "max_height": null,
       "max_width": null,
       "min_height": null,
       "min_width": null,
       "object_fit": null,
       "object_position": null,
       "order": null,
       "overflow": null,
       "overflow_x": null,
       "overflow_y": null,
       "padding": null,
       "right": null,
       "top": null,
       "visibility": null,
       "width": null
      }
     },
     "106896ab423549c7b4153711c92c2ab4": {
      "model_module": "@jupyter-widgets/base",
      "model_module_version": "1.2.0",
      "model_name": "LayoutModel",
      "state": {
       "_model_module": "@jupyter-widgets/base",
       "_model_module_version": "1.2.0",
       "_model_name": "LayoutModel",
       "_view_count": null,
       "_view_module": "@jupyter-widgets/base",
       "_view_module_version": "1.2.0",
       "_view_name": "LayoutView",
       "align_content": null,
       "align_items": null,
       "align_self": null,
       "border": null,
       "bottom": null,
       "display": null,
       "flex": null,
       "flex_flow": null,
       "grid_area": null,
       "grid_auto_columns": null,
       "grid_auto_flow": null,
       "grid_auto_rows": null,
       "grid_column": null,
       "grid_gap": null,
       "grid_row": null,
       "grid_template_areas": null,
       "grid_template_columns": null,
       "grid_template_rows": null,
       "height": null,
       "justify_content": null,
       "justify_items": null,
       "left": null,
       "margin": null,
       "max_height": null,
       "max_width": null,
       "min_height": null,
       "min_width": null,
       "object_fit": null,
       "object_position": null,
       "order": null,
       "overflow": null,
       "overflow_x": null,
       "overflow_y": null,
       "padding": null,
       "right": null,
       "top": null,
       "visibility": null,
       "width": null
      }
     },
     "129bee5250524f6fb357d8f240c87694": {
      "model_module": "@jupyter-widgets/controls",
      "model_module_version": "1.5.0",
      "model_name": "HBoxModel",
      "state": {
       "_dom_classes": [],
       "_model_module": "@jupyter-widgets/controls",
       "_model_module_version": "1.5.0",
       "_model_name": "HBoxModel",
       "_view_count": null,
       "_view_module": "@jupyter-widgets/controls",
       "_view_module_version": "1.5.0",
       "_view_name": "HBoxView",
       "box_style": "",
       "children": [
        "IPY_MODEL_8f150faf389e4df1a4fb7ed7486f44e1",
        "IPY_MODEL_e399d12db85e48619daa57e009a0914c",
        "IPY_MODEL_a7c840f3f427495081b7f9183ac0ffc1"
       ],
       "layout": "IPY_MODEL_f74733c7cbb14dbc87e6775430c8485c"
      }
     },
     "17beb48f5a104e5390e9f3dbdc1cd1a5": {
      "model_module": "@jupyter-widgets/base",
      "model_module_version": "1.2.0",
      "model_name": "LayoutModel",
      "state": {
       "_model_module": "@jupyter-widgets/base",
       "_model_module_version": "1.2.0",
       "_model_name": "LayoutModel",
       "_view_count": null,
       "_view_module": "@jupyter-widgets/base",
       "_view_module_version": "1.2.0",
       "_view_name": "LayoutView",
       "align_content": null,
       "align_items": null,
       "align_self": null,
       "border": null,
       "bottom": null,
       "display": null,
       "flex": null,
       "flex_flow": null,
       "grid_area": null,
       "grid_auto_columns": null,
       "grid_auto_flow": null,
       "grid_auto_rows": null,
       "grid_column": null,
       "grid_gap": null,
       "grid_row": null,
       "grid_template_areas": null,
       "grid_template_columns": null,
       "grid_template_rows": null,
       "height": null,
       "justify_content": null,
       "justify_items": null,
       "left": null,
       "margin": null,
       "max_height": null,
       "max_width": null,
       "min_height": null,
       "min_width": null,
       "object_fit": null,
       "object_position": null,
       "order": null,
       "overflow": null,
       "overflow_x": null,
       "overflow_y": null,
       "padding": null,
       "right": null,
       "top": null,
       "visibility": null,
       "width": null
      }
     },
     "1b2fc54c66b1490eae21e3a625dcb86c": {
      "model_module": "@jupyter-widgets/controls",
      "model_module_version": "1.5.0",
      "model_name": "HTMLModel",
      "state": {
       "_dom_classes": [],
       "_model_module": "@jupyter-widgets/controls",
       "_model_module_version": "1.5.0",
       "_model_name": "HTMLModel",
       "_view_count": null,
       "_view_module": "@jupyter-widgets/controls",
       "_view_module_version": "1.5.0",
       "_view_name": "HTMLView",
       "description": "",
       "description_tooltip": null,
       "layout": "IPY_MODEL_17beb48f5a104e5390e9f3dbdc1cd1a5",
       "placeholder": "​",
       "style": "IPY_MODEL_a7ff63ea4da6485e902b4c890749aca7",
       "value": " 95/95 [1:40:44&lt;00:00, 57.49s/ba]"
      }
     },
     "1cc1ecffe5b64a22a2ff1174c0a1d331": {
      "model_module": "@jupyter-widgets/controls",
      "model_module_version": "1.5.0",
      "model_name": "HTMLModel",
      "state": {
       "_dom_classes": [],
       "_model_module": "@jupyter-widgets/controls",
       "_model_module_version": "1.5.0",
       "_model_name": "HTMLModel",
       "_view_count": null,
       "_view_module": "@jupyter-widgets/controls",
       "_view_module_version": "1.5.0",
       "_view_name": "HTMLView",
       "description": "",
       "description_tooltip": null,
       "layout": "IPY_MODEL_b6c2f330af9748f6bb59a03decf1eec2",
       "placeholder": "​",
       "style": "IPY_MODEL_4f00ea2a8f4e43c0a8328575ead971a8",
       "value": " 1/1 [00:01&lt;00:00,  1.46s/ba]"
      }
     },
     "1d835bc4972b4d27826f005f86a83374": {
      "model_module": "@jupyter-widgets/base",
      "model_module_version": "1.2.0",
      "model_name": "LayoutModel",
      "state": {
       "_model_module": "@jupyter-widgets/base",
       "_model_module_version": "1.2.0",
       "_model_name": "LayoutModel",
       "_view_count": null,
       "_view_module": "@jupyter-widgets/base",
       "_view_module_version": "1.2.0",
       "_view_name": "LayoutView",
       "align_content": null,
       "align_items": null,
       "align_self": null,
       "border": null,
       "bottom": null,
       "display": null,
       "flex": null,
       "flex_flow": null,
       "grid_area": null,
       "grid_auto_columns": null,
       "grid_auto_flow": null,
       "grid_auto_rows": null,
       "grid_column": null,
       "grid_gap": null,
       "grid_row": null,
       "grid_template_areas": null,
       "grid_template_columns": null,
       "grid_template_rows": null,
       "height": null,
       "justify_content": null,
       "justify_items": null,
       "left": null,
       "margin": null,
       "max_height": null,
       "max_width": null,
       "min_height": null,
       "min_width": null,
       "object_fit": null,
       "object_position": null,
       "order": null,
       "overflow": null,
       "overflow_x": null,
       "overflow_y": null,
       "padding": null,
       "right": null,
       "top": null,
       "visibility": null,
       "width": null
      }
     },
     "1e08a6ca9e98473ebceb50f9a459e9a1": {
      "model_module": "@jupyter-widgets/base",
      "model_module_version": "1.2.0",
      "model_name": "LayoutModel",
      "state": {
       "_model_module": "@jupyter-widgets/base",
       "_model_module_version": "1.2.0",
       "_model_name": "LayoutModel",
       "_view_count": null,
       "_view_module": "@jupyter-widgets/base",
       "_view_module_version": "1.2.0",
       "_view_name": "LayoutView",
       "align_content": null,
       "align_items": null,
       "align_self": null,
       "border": null,
       "bottom": null,
       "display": null,
       "flex": null,
       "flex_flow": null,
       "grid_area": null,
       "grid_auto_columns": null,
       "grid_auto_flow": null,
       "grid_auto_rows": null,
       "grid_column": null,
       "grid_gap": null,
       "grid_row": null,
       "grid_template_areas": null,
       "grid_template_columns": null,
       "grid_template_rows": null,
       "height": null,
       "justify_content": null,
       "justify_items": null,
       "left": null,
       "margin": null,
       "max_height": null,
       "max_width": null,
       "min_height": null,
       "min_width": null,
       "object_fit": null,
       "object_position": null,
       "order": null,
       "overflow": null,
       "overflow_x": null,
       "overflow_y": null,
       "padding": null,
       "right": null,
       "top": null,
       "visibility": null,
       "width": null
      }
     },
     "1e19bfa6dc8c45f9a22dd83c993470b9": {
      "model_module": "@jupyter-widgets/controls",
      "model_module_version": "1.5.0",
      "model_name": "FloatProgressModel",
      "state": {
       "_dom_classes": [],
       "_model_module": "@jupyter-widgets/controls",
       "_model_module_version": "1.5.0",
       "_model_name": "FloatProgressModel",
       "_view_count": null,
       "_view_module": "@jupyter-widgets/controls",
       "_view_module_version": "1.5.0",
       "_view_name": "ProgressView",
       "bar_style": "success",
       "description": "",
       "description_tooltip": null,
       "layout": "IPY_MODEL_ee728d61d83b4902919223e99e76c406",
       "max": 1.0,
       "min": 0.0,
       "orientation": "horizontal",
       "style": "IPY_MODEL_a1bb477e4378404cae7395b65537f001",
       "value": 1.0
      }
     },
     "2117112d13f64ce185e60e0117b5f2c2": {
      "model_module": "@jupyter-widgets/base",
      "model_module_version": "1.2.0",
      "model_name": "LayoutModel",
      "state": {
       "_model_module": "@jupyter-widgets/base",
       "_model_module_version": "1.2.0",
       "_model_name": "LayoutModel",
       "_view_count": null,
       "_view_module": "@jupyter-widgets/base",
       "_view_module_version": "1.2.0",
       "_view_name": "LayoutView",
       "align_content": null,
       "align_items": null,
       "align_self": null,
       "border": null,
       "bottom": null,
       "display": null,
       "flex": null,
       "flex_flow": null,
       "grid_area": null,
       "grid_auto_columns": null,
       "grid_auto_flow": null,
       "grid_auto_rows": null,
       "grid_column": null,
       "grid_gap": null,
       "grid_row": null,
       "grid_template_areas": null,
       "grid_template_columns": null,
       "grid_template_rows": null,
       "height": null,
       "justify_content": null,
       "justify_items": null,
       "left": null,
       "margin": null,
       "max_height": null,
       "max_width": null,
       "min_height": null,
       "min_width": null,
       "object_fit": null,
       "object_position": null,
       "order": null,
       "overflow": null,
       "overflow_x": null,
       "overflow_y": null,
       "padding": null,
       "right": null,
       "top": null,
       "visibility": null,
       "width": null
      }
     },
     "23b2bd7d633a43cb945eb8751cb0dcce": {
      "model_module": "@jupyter-widgets/controls",
      "model_module_version": "1.5.0",
      "model_name": "ProgressStyleModel",
      "state": {
       "_model_module": "@jupyter-widgets/controls",
       "_model_module_version": "1.5.0",
       "_model_name": "ProgressStyleModel",
       "_view_count": null,
       "_view_module": "@jupyter-widgets/base",
       "_view_module_version": "1.2.0",
       "_view_name": "StyleView",
       "bar_color": null,
       "description_width": ""
      }
     },
     "2437e9fa26734d5582276bf7fc61ebd1": {
      "model_module": "@jupyter-widgets/controls",
      "model_module_version": "1.5.0",
      "model_name": "HTMLModel",
      "state": {
       "_dom_classes": [],
       "_model_module": "@jupyter-widgets/controls",
       "_model_module_version": "1.5.0",
       "_model_name": "HTMLModel",
       "_view_count": null,
       "_view_module": "@jupyter-widgets/controls",
       "_view_module_version": "1.5.0",
       "_view_name": "HTMLView",
       "description": "",
       "description_tooltip": null,
       "layout": "IPY_MODEL_9ac1b22a037b427bbb877a2f79040ebc",
       "placeholder": "​",
       "style": "IPY_MODEL_37b5b1bd36ce4099a2c44b5f0765ca87",
       "value": "Downloading (…)lve/main/config.json: 100%"
      }
     },
     "26fa46337d564cd581c78a593f0d95d2": {
      "model_module": "@jupyter-widgets/base",
      "model_module_version": "1.2.0",
      "model_name": "LayoutModel",
      "state": {
       "_model_module": "@jupyter-widgets/base",
       "_model_module_version": "1.2.0",
       "_model_name": "LayoutModel",
       "_view_count": null,
       "_view_module": "@jupyter-widgets/base",
       "_view_module_version": "1.2.0",
       "_view_name": "LayoutView",
       "align_content": null,
       "align_items": null,
       "align_self": null,
       "border": null,
       "bottom": null,
       "display": null,
       "flex": null,
       "flex_flow": null,
       "grid_area": null,
       "grid_auto_columns": null,
       "grid_auto_flow": null,
       "grid_auto_rows": null,
       "grid_column": null,
       "grid_gap": null,
       "grid_row": null,
       "grid_template_areas": null,
       "grid_template_columns": null,
       "grid_template_rows": null,
       "height": null,
       "justify_content": null,
       "justify_items": null,
       "left": null,
       "margin": null,
       "max_height": null,
       "max_width": null,
       "min_height": null,
       "min_width": null,
       "object_fit": null,
       "object_position": null,
       "order": null,
       "overflow": null,
       "overflow_x": null,
       "overflow_y": null,
       "padding": null,
       "right": null,
       "top": null,
       "visibility": null,
       "width": null
      }
     },
     "2a95383b1cda418183b64c35cad01bfb": {
      "model_module": "@jupyter-widgets/base",
      "model_module_version": "1.2.0",
      "model_name": "LayoutModel",
      "state": {
       "_model_module": "@jupyter-widgets/base",
       "_model_module_version": "1.2.0",
       "_model_name": "LayoutModel",
       "_view_count": null,
       "_view_module": "@jupyter-widgets/base",
       "_view_module_version": "1.2.0",
       "_view_name": "LayoutView",
       "align_content": null,
       "align_items": null,
       "align_self": null,
       "border": null,
       "bottom": null,
       "display": null,
       "flex": null,
       "flex_flow": null,
       "grid_area": null,
       "grid_auto_columns": null,
       "grid_auto_flow": null,
       "grid_auto_rows": null,
       "grid_column": null,
       "grid_gap": null,
       "grid_row": null,
       "grid_template_areas": null,
       "grid_template_columns": null,
       "grid_template_rows": null,
       "height": null,
       "justify_content": null,
       "justify_items": null,
       "left": null,
       "margin": null,
       "max_height": null,
       "max_width": null,
       "min_height": null,
       "min_width": null,
       "object_fit": null,
       "object_position": null,
       "order": null,
       "overflow": null,
       "overflow_x": null,
       "overflow_y": null,
       "padding": null,
       "right": null,
       "top": null,
       "visibility": null,
       "width": null
      }
     },
     "2b02a4dd4728446caeffb44be70ced50": {
      "model_module": "@jupyter-widgets/controls",
      "model_module_version": "1.5.0",
      "model_name": "HBoxModel",
      "state": {
       "_dom_classes": [],
       "_model_module": "@jupyter-widgets/controls",
       "_model_module_version": "1.5.0",
       "_model_name": "HBoxModel",
       "_view_count": null,
       "_view_module": "@jupyter-widgets/controls",
       "_view_module_version": "1.5.0",
       "_view_name": "HBoxView",
       "box_style": "",
       "children": [
        "IPY_MODEL_3db660099946437aa3e7cfb04d24aed1",
        "IPY_MODEL_7300e6106cb8416d86a19ed34bd48e5c",
        "IPY_MODEL_7ade4a2f6e024bdfa6e917bde92995be"
       ],
       "layout": "IPY_MODEL_04f910f8c08e448c90e8c9216102552e"
      }
     },
     "2d9eb2a54bb5490988b302eedebbfb2d": {
      "model_module": "@jupyter-widgets/controls",
      "model_module_version": "1.5.0",
      "model_name": "HTMLModel",
      "state": {
       "_dom_classes": [],
       "_model_module": "@jupyter-widgets/controls",
       "_model_module_version": "1.5.0",
       "_model_name": "HTMLModel",
       "_view_count": null,
       "_view_module": "@jupyter-widgets/controls",
       "_view_module_version": "1.5.0",
       "_view_name": "HTMLView",
       "description": "",
       "description_tooltip": null,
       "layout": "IPY_MODEL_fd39473e4c8d4a339118d802230e39e6",
       "placeholder": "​",
       "style": "IPY_MODEL_cf7ea091962a44e1869ced398b43afa6",
       "value": "Downloading (…)&quot;pytorch_model.bin&quot;;: 100%"
      }
     },
     "2f224be11f9b43e980bfeec97fbb92ea": {
      "model_module": "@jupyter-widgets/base",
      "model_module_version": "1.2.0",
      "model_name": "LayoutModel",
      "state": {
       "_model_module": "@jupyter-widgets/base",
       "_model_module_version": "1.2.0",
       "_model_name": "LayoutModel",
       "_view_count": null,
       "_view_module": "@jupyter-widgets/base",
       "_view_module_version": "1.2.0",
       "_view_name": "LayoutView",
       "align_content": null,
       "align_items": null,
       "align_self": null,
       "border": null,
       "bottom": null,
       "display": null,
       "flex": null,
       "flex_flow": null,
       "grid_area": null,
       "grid_auto_columns": null,
       "grid_auto_flow": null,
       "grid_auto_rows": null,
       "grid_column": null,
       "grid_gap": null,
       "grid_row": null,
       "grid_template_areas": null,
       "grid_template_columns": null,
       "grid_template_rows": null,
       "height": null,
       "justify_content": null,
       "justify_items": null,
       "left": null,
       "margin": null,
       "max_height": null,
       "max_width": null,
       "min_height": null,
       "min_width": null,
       "object_fit": null,
       "object_position": null,
       "order": null,
       "overflow": null,
       "overflow_x": null,
       "overflow_y": null,
       "padding": null,
       "right": null,
       "top": null,
       "visibility": null,
       "width": null
      }
     },
     "31acc445c5984d8e8fa067b6d041675b": {
      "model_module": "@jupyter-widgets/base",
      "model_module_version": "1.2.0",
      "model_name": "LayoutModel",
      "state": {
       "_model_module": "@jupyter-widgets/base",
       "_model_module_version": "1.2.0",
       "_model_name": "LayoutModel",
       "_view_count": null,
       "_view_module": "@jupyter-widgets/base",
       "_view_module_version": "1.2.0",
       "_view_name": "LayoutView",
       "align_content": null,
       "align_items": null,
       "align_self": null,
       "border": null,
       "bottom": null,
       "display": null,
       "flex": null,
       "flex_flow": null,
       "grid_area": null,
       "grid_auto_columns": null,
       "grid_auto_flow": null,
       "grid_auto_rows": null,
       "grid_column": null,
       "grid_gap": null,
       "grid_row": null,
       "grid_template_areas": null,
       "grid_template_columns": null,
       "grid_template_rows": null,
       "height": null,
       "justify_content": null,
       "justify_items": null,
       "left": null,
       "margin": null,
       "max_height": null,
       "max_width": null,
       "min_height": null,
       "min_width": null,
       "object_fit": null,
       "object_position": null,
       "order": null,
       "overflow": null,
       "overflow_x": null,
       "overflow_y": null,
       "padding": null,
       "right": null,
       "top": null,
       "visibility": null,
       "width": null
      }
     },
     "31bee9b3489646ff8ace2e9307007511": {
      "model_module": "@jupyter-widgets/base",
      "model_module_version": "1.2.0",
      "model_name": "LayoutModel",
      "state": {
       "_model_module": "@jupyter-widgets/base",
       "_model_module_version": "1.2.0",
       "_model_name": "LayoutModel",
       "_view_count": null,
       "_view_module": "@jupyter-widgets/base",
       "_view_module_version": "1.2.0",
       "_view_name": "LayoutView",
       "align_content": null,
       "align_items": null,
       "align_self": null,
       "border": null,
       "bottom": null,
       "display": null,
       "flex": null,
       "flex_flow": null,
       "grid_area": null,
       "grid_auto_columns": null,
       "grid_auto_flow": null,
       "grid_auto_rows": null,
       "grid_column": null,
       "grid_gap": null,
       "grid_row": null,
       "grid_template_areas": null,
       "grid_template_columns": null,
       "grid_template_rows": null,
       "height": null,
       "justify_content": null,
       "justify_items": null,
       "left": null,
       "margin": null,
       "max_height": null,
       "max_width": null,
       "min_height": null,
       "min_width": null,
       "object_fit": null,
       "object_position": null,
       "order": null,
       "overflow": null,
       "overflow_x": null,
       "overflow_y": null,
       "padding": null,
       "right": null,
       "top": null,
       "visibility": null,
       "width": null
      }
     },
     "35370ee10af2469ea7f3b9195517ea86": {
      "model_module": "@jupyter-widgets/controls",
      "model_module_version": "1.5.0",
      "model_name": "FloatProgressModel",
      "state": {
       "_dom_classes": [],
       "_model_module": "@jupyter-widgets/controls",
       "_model_module_version": "1.5.0",
       "_model_name": "FloatProgressModel",
       "_view_count": null,
       "_view_module": "@jupyter-widgets/controls",
       "_view_module_version": "1.5.0",
       "_view_name": "ProgressView",
       "bar_style": "success",
       "description": "",
       "description_tooltip": null,
       "layout": "IPY_MODEL_5349da0930974d23b7fdb61359659d82",
       "max": 5069051.0,
       "min": 0.0,
       "orientation": "horizontal",
       "style": "IPY_MODEL_23b2bd7d633a43cb945eb8751cb0dcce",
       "value": 5069051.0
      }
     },
     "37b5b1bd36ce4099a2c44b5f0765ca87": {
      "model_module": "@jupyter-widgets/controls",
      "model_module_version": "1.5.0",
      "model_name": "DescriptionStyleModel",
      "state": {
       "_model_module": "@jupyter-widgets/controls",
       "_model_module_version": "1.5.0",
       "_model_name": "DescriptionStyleModel",
       "_view_count": null,
       "_view_module": "@jupyter-widgets/base",
       "_view_module_version": "1.2.0",
       "_view_name": "StyleView",
       "description_width": ""
      }
     },
     "3db660099946437aa3e7cfb04d24aed1": {
      "model_module": "@jupyter-widgets/controls",
      "model_module_version": "1.5.0",
      "model_name": "HTMLModel",
      "state": {
       "_dom_classes": [],
       "_model_module": "@jupyter-widgets/controls",
       "_model_module_version": "1.5.0",
       "_model_name": "HTMLModel",
       "_view_count": null,
       "_view_module": "@jupyter-widgets/controls",
       "_view_module_version": "1.5.0",
       "_view_name": "HTMLView",
       "description": "",
       "description_tooltip": null,
       "layout": "IPY_MODEL_31bee9b3489646ff8ace2e9307007511",
       "placeholder": "​",
       "style": "IPY_MODEL_7535f845024640bd9b4dcaf253618381",
       "value": "100%"
      }
     },
     "45ca21f42a854b13b003eb6730935bee": {
      "model_module": "@jupyter-widgets/controls",
      "model_module_version": "1.5.0",
      "model_name": "DescriptionStyleModel",
      "state": {
       "_model_module": "@jupyter-widgets/controls",
       "_model_module_version": "1.5.0",
       "_model_name": "DescriptionStyleModel",
       "_view_count": null,
       "_view_module": "@jupyter-widgets/base",
       "_view_module_version": "1.2.0",
       "_view_name": "StyleView",
       "description_width": ""
      }
     },
     "47b5c94a9e004cf0a8d00693b6ac8a6e": {
      "model_module": "@jupyter-widgets/controls",
      "model_module_version": "1.5.0",
      "model_name": "DescriptionStyleModel",
      "state": {
       "_model_module": "@jupyter-widgets/controls",
       "_model_module_version": "1.5.0",
       "_model_name": "DescriptionStyleModel",
       "_view_count": null,
       "_view_module": "@jupyter-widgets/base",
       "_view_module_version": "1.2.0",
       "_view_name": "StyleView",
       "description_width": ""
      }
     },
     "4c92a4fba81146138522ae8fa636031b": {
      "model_module": "@jupyter-widgets/base",
      "model_module_version": "1.2.0",
      "model_name": "LayoutModel",
      "state": {
       "_model_module": "@jupyter-widgets/base",
       "_model_module_version": "1.2.0",
       "_model_name": "LayoutModel",
       "_view_count": null,
       "_view_module": "@jupyter-widgets/base",
       "_view_module_version": "1.2.0",
       "_view_name": "LayoutView",
       "align_content": null,
       "align_items": null,
       "align_self": null,
       "border": null,
       "bottom": null,
       "display": null,
       "flex": null,
       "flex_flow": null,
       "grid_area": null,
       "grid_auto_columns": null,
       "grid_auto_flow": null,
       "grid_auto_rows": null,
       "grid_column": null,
       "grid_gap": null,
       "grid_row": null,
       "grid_template_areas": null,
       "grid_template_columns": null,
       "grid_template_rows": null,
       "height": null,
       "justify_content": null,
       "justify_items": null,
       "left": null,
       "margin": null,
       "max_height": null,
       "max_width": null,
       "min_height": null,
       "min_width": null,
       "object_fit": null,
       "object_position": null,
       "order": null,
       "overflow": null,
       "overflow_x": null,
       "overflow_y": null,
       "padding": null,
       "right": null,
       "top": null,
       "visibility": null,
       "width": null
      }
     },
     "4f00ea2a8f4e43c0a8328575ead971a8": {
      "model_module": "@jupyter-widgets/controls",
      "model_module_version": "1.5.0",
      "model_name": "DescriptionStyleModel",
      "state": {
       "_model_module": "@jupyter-widgets/controls",
       "_model_module_version": "1.5.0",
       "_model_name": "DescriptionStyleModel",
       "_view_count": null,
       "_view_module": "@jupyter-widgets/base",
       "_view_module_version": "1.2.0",
       "_view_name": "StyleView",
       "description_width": ""
      }
     },
     "50989e3421a8403093567ff43a064fe2": {
      "model_module": "@jupyter-widgets/base",
      "model_module_version": "1.2.0",
      "model_name": "LayoutModel",
      "state": {
       "_model_module": "@jupyter-widgets/base",
       "_model_module_version": "1.2.0",
       "_model_name": "LayoutModel",
       "_view_count": null,
       "_view_module": "@jupyter-widgets/base",
       "_view_module_version": "1.2.0",
       "_view_name": "LayoutView",
       "align_content": null,
       "align_items": null,
       "align_self": null,
       "border": null,
       "bottom": null,
       "display": null,
       "flex": null,
       "flex_flow": null,
       "grid_area": null,
       "grid_auto_columns": null,
       "grid_auto_flow": null,
       "grid_auto_rows": null,
       "grid_column": null,
       "grid_gap": null,
       "grid_row": null,
       "grid_template_areas": null,
       "grid_template_columns": null,
       "grid_template_rows": null,
       "height": null,
       "justify_content": null,
       "justify_items": null,
       "left": null,
       "margin": null,
       "max_height": null,
       "max_width": null,
       "min_height": null,
       "min_width": null,
       "object_fit": null,
       "object_position": null,
       "order": null,
       "overflow": null,
       "overflow_x": null,
       "overflow_y": null,
       "padding": null,
       "right": null,
       "top": null,
       "visibility": null,
       "width": null
      }
     },
     "50f246b2da404e748c5468110cc5d11b": {
      "model_module": "@jupyter-widgets/controls",
      "model_module_version": "1.5.0",
      "model_name": "DescriptionStyleModel",
      "state": {
       "_model_module": "@jupyter-widgets/controls",
       "_model_module_version": "1.5.0",
       "_model_name": "DescriptionStyleModel",
       "_view_count": null,
       "_view_module": "@jupyter-widgets/base",
       "_view_module_version": "1.2.0",
       "_view_name": "StyleView",
       "description_width": ""
      }
     },
     "52aa40e3de79455dbee8fa48ca9665b1": {
      "model_module": "@jupyter-widgets/controls",
      "model_module_version": "1.5.0",
      "model_name": "DescriptionStyleModel",
      "state": {
       "_model_module": "@jupyter-widgets/controls",
       "_model_module_version": "1.5.0",
       "_model_name": "DescriptionStyleModel",
       "_view_count": null,
       "_view_module": "@jupyter-widgets/base",
       "_view_module_version": "1.2.0",
       "_view_name": "StyleView",
       "description_width": ""
      }
     },
     "5349da0930974d23b7fdb61359659d82": {
      "model_module": "@jupyter-widgets/base",
      "model_module_version": "1.2.0",
      "model_name": "LayoutModel",
      "state": {
       "_model_module": "@jupyter-widgets/base",
       "_model_module_version": "1.2.0",
       "_model_name": "LayoutModel",
       "_view_count": null,
       "_view_module": "@jupyter-widgets/base",
       "_view_module_version": "1.2.0",
       "_view_name": "LayoutView",
       "align_content": null,
       "align_items": null,
       "align_self": null,
       "border": null,
       "bottom": null,
       "display": null,
       "flex": null,
       "flex_flow": null,
       "grid_area": null,
       "grid_auto_columns": null,
       "grid_auto_flow": null,
       "grid_auto_rows": null,
       "grid_column": null,
       "grid_gap": null,
       "grid_row": null,
       "grid_template_areas": null,
       "grid_template_columns": null,
       "grid_template_rows": null,
       "height": null,
       "justify_content": null,
       "justify_items": null,
       "left": null,
       "margin": null,
       "max_height": null,
       "max_width": null,
       "min_height": null,
       "min_width": null,
       "object_fit": null,
       "object_position": null,
       "order": null,
       "overflow": null,
       "overflow_x": null,
       "overflow_y": null,
       "padding": null,
       "right": null,
       "top": null,
       "visibility": null,
       "width": null
      }
     },
     "571f195426ef43d9bcc00a42c83aafba": {
      "model_module": "@jupyter-widgets/base",
      "model_module_version": "1.2.0",
      "model_name": "LayoutModel",
      "state": {
       "_model_module": "@jupyter-widgets/base",
       "_model_module_version": "1.2.0",
       "_model_name": "LayoutModel",
       "_view_count": null,
       "_view_module": "@jupyter-widgets/base",
       "_view_module_version": "1.2.0",
       "_view_name": "LayoutView",
       "align_content": null,
       "align_items": null,
       "align_self": null,
       "border": null,
       "bottom": null,
       "display": null,
       "flex": null,
       "flex_flow": null,
       "grid_area": null,
       "grid_auto_columns": null,
       "grid_auto_flow": null,
       "grid_auto_rows": null,
       "grid_column": null,
       "grid_gap": null,
       "grid_row": null,
       "grid_template_areas": null,
       "grid_template_columns": null,
       "grid_template_rows": null,
       "height": null,
       "justify_content": null,
       "justify_items": null,
       "left": null,
       "margin": null,
       "max_height": null,
       "max_width": null,
       "min_height": null,
       "min_width": null,
       "object_fit": null,
       "object_position": null,
       "order": null,
       "overflow": null,
       "overflow_x": null,
       "overflow_y": null,
       "padding": null,
       "right": null,
       "top": null,
       "visibility": null,
       "width": null
      }
     },
     "57da0999371a4a0dbf47e8d966c6ccd6": {
      "model_module": "@jupyter-widgets/controls",
      "model_module_version": "1.5.0",
      "model_name": "HTMLModel",
      "state": {
       "_dom_classes": [],
       "_model_module": "@jupyter-widgets/controls",
       "_model_module_version": "1.5.0",
       "_model_name": "HTMLModel",
       "_view_count": null,
       "_view_module": "@jupyter-widgets/controls",
       "_view_module_version": "1.5.0",
       "_view_name": "HTMLView",
       "description": "",
       "description_tooltip": null,
       "layout": "IPY_MODEL_5b49a942e6604a82952b42b127127a3a",
       "placeholder": "​",
       "style": "IPY_MODEL_685a0cec726f40daafb7494f6b14a9dc",
       "value": "100%"
      }
     },
     "5842c932431c47978e994a6b42ee00a8": {
      "model_module": "@jupyter-widgets/controls",
      "model_module_version": "1.5.0",
      "model_name": "FloatProgressModel",
      "state": {
       "_dom_classes": [],
       "_model_module": "@jupyter-widgets/controls",
       "_model_module_version": "1.5.0",
       "_model_name": "FloatProgressModel",
       "_view_count": null,
       "_view_module": "@jupyter-widgets/controls",
       "_view_module_version": "1.5.0",
       "_view_name": "ProgressView",
       "bar_style": "success",
       "description": "",
       "description_tooltip": null,
       "layout": "IPY_MODEL_cd1256b9c06848edb8468741eb05cde6",
       "max": 615.0,
       "min": 0.0,
       "orientation": "horizontal",
       "style": "IPY_MODEL_b47d899fc8f0467f8cfcaf866ef0f1fb",
       "value": 615.0
      }
     },
     "586e74b7513c4aecb0ef21e6712e6872": {
      "model_module": "@jupyter-widgets/controls",
      "model_module_version": "1.5.0",
      "model_name": "HBoxModel",
      "state": {
       "_dom_classes": [],
       "_model_module": "@jupyter-widgets/controls",
       "_model_module_version": "1.5.0",
       "_model_name": "HBoxModel",
       "_view_count": null,
       "_view_module": "@jupyter-widgets/controls",
       "_view_module_version": "1.5.0",
       "_view_name": "HBoxView",
       "box_style": "",
       "children": [
        "IPY_MODEL_2d9eb2a54bb5490988b302eedebbfb2d",
        "IPY_MODEL_a83e4b177d8a474c9718495753e8de8f",
        "IPY_MODEL_efc519fd14504e6f96778947b481810a"
       ],
       "layout": "IPY_MODEL_f1c03d7e995f4a7ea60182eb18c94762"
      }
     },
     "5b49a942e6604a82952b42b127127a3a": {
      "model_module": "@jupyter-widgets/base",
      "model_module_version": "1.2.0",
      "model_name": "LayoutModel",
      "state": {
       "_model_module": "@jupyter-widgets/base",
       "_model_module_version": "1.2.0",
       "_model_name": "LayoutModel",
       "_view_count": null,
       "_view_module": "@jupyter-widgets/base",
       "_view_module_version": "1.2.0",
       "_view_name": "LayoutView",
       "align_content": null,
       "align_items": null,
       "align_self": null,
       "border": null,
       "bottom": null,
       "display": null,
       "flex": null,
       "flex_flow": null,
       "grid_area": null,
       "grid_auto_columns": null,
       "grid_auto_flow": null,
       "grid_auto_rows": null,
       "grid_column": null,
       "grid_gap": null,
       "grid_row": null,
       "grid_template_areas": null,
       "grid_template_columns": null,
       "grid_template_rows": null,
       "height": null,
       "justify_content": null,
       "justify_items": null,
       "left": null,
       "margin": null,
       "max_height": null,
       "max_width": null,
       "min_height": null,
       "min_width": null,
       "object_fit": null,
       "object_position": null,
       "order": null,
       "overflow": null,
       "overflow_x": null,
       "overflow_y": null,
       "padding": null,
       "right": null,
       "top": null,
       "visibility": null,
       "width": null
      }
     },
     "5b5fb9d4acbd4a5dbca25bef1d75c84b": {
      "model_module": "@jupyter-widgets/controls",
      "model_module_version": "1.5.0",
      "model_name": "HBoxModel",
      "state": {
       "_dom_classes": [],
       "_model_module": "@jupyter-widgets/controls",
       "_model_module_version": "1.5.0",
       "_model_name": "HBoxModel",
       "_view_count": null,
       "_view_module": "@jupyter-widgets/controls",
       "_view_module_version": "1.5.0",
       "_view_name": "HBoxView",
       "box_style": "",
       "children": [
        "IPY_MODEL_6d771592379448fcb2957c78e7c5208a",
        "IPY_MODEL_35370ee10af2469ea7f3b9195517ea86",
        "IPY_MODEL_d554a2cbfe6a4015a20afdf1aeee4c25"
       ],
       "layout": "IPY_MODEL_eb8cd148e6c54cd580c0f782854dbed8"
      }
     },
     "5fb1680143ca43b58a2c1ced6831e272": {
      "model_module": "@jupyter-widgets/controls",
      "model_module_version": "1.5.0",
      "model_name": "DescriptionStyleModel",
      "state": {
       "_model_module": "@jupyter-widgets/controls",
       "_model_module_version": "1.5.0",
       "_model_name": "DescriptionStyleModel",
       "_view_count": null,
       "_view_module": "@jupyter-widgets/base",
       "_view_module_version": "1.2.0",
       "_view_name": "StyleView",
       "description_width": ""
      }
     },
     "5ff8ff6f7cc54a8d86437fef29069d1b": {
      "model_module": "@jupyter-widgets/base",
      "model_module_version": "1.2.0",
      "model_name": "LayoutModel",
      "state": {
       "_model_module": "@jupyter-widgets/base",
       "_model_module_version": "1.2.0",
       "_model_name": "LayoutModel",
       "_view_count": null,
       "_view_module": "@jupyter-widgets/base",
       "_view_module_version": "1.2.0",
       "_view_name": "LayoutView",
       "align_content": null,
       "align_items": null,
       "align_self": null,
       "border": null,
       "bottom": null,
       "display": null,
       "flex": null,
       "flex_flow": null,
       "grid_area": null,
       "grid_auto_columns": null,
       "grid_auto_flow": null,
       "grid_auto_rows": null,
       "grid_column": null,
       "grid_gap": null,
       "grid_row": null,
       "grid_template_areas": null,
       "grid_template_columns": null,
       "grid_template_rows": null,
       "height": null,
       "justify_content": null,
       "justify_items": null,
       "left": null,
       "margin": null,
       "max_height": null,
       "max_width": null,
       "min_height": null,
       "min_width": null,
       "object_fit": null,
       "object_position": null,
       "order": null,
       "overflow": null,
       "overflow_x": null,
       "overflow_y": null,
       "padding": null,
       "right": null,
       "top": null,
       "visibility": null,
       "width": null
      }
     },
     "63545faa59fb4bc8b5548f65b115fbc3": {
      "model_module": "@jupyter-widgets/base",
      "model_module_version": "1.2.0",
      "model_name": "LayoutModel",
      "state": {
       "_model_module": "@jupyter-widgets/base",
       "_model_module_version": "1.2.0",
       "_model_name": "LayoutModel",
       "_view_count": null,
       "_view_module": "@jupyter-widgets/base",
       "_view_module_version": "1.2.0",
       "_view_name": "LayoutView",
       "align_content": null,
       "align_items": null,
       "align_self": null,
       "border": null,
       "bottom": null,
       "display": null,
       "flex": null,
       "flex_flow": null,
       "grid_area": null,
       "grid_auto_columns": null,
       "grid_auto_flow": null,
       "grid_auto_rows": null,
       "grid_column": null,
       "grid_gap": null,
       "grid_row": null,
       "grid_template_areas": null,
       "grid_template_columns": null,
       "grid_template_rows": null,
       "height": null,
       "justify_content": null,
       "justify_items": null,
       "left": null,
       "margin": null,
       "max_height": null,
       "max_width": null,
       "min_height": null,
       "min_width": null,
       "object_fit": null,
       "object_position": null,
       "order": null,
       "overflow": null,
       "overflow_x": null,
       "overflow_y": null,
       "padding": null,
       "right": null,
       "top": null,
       "visibility": null,
       "width": null
      }
     },
     "636cd84faccd497bb574e5ad6087c9bb": {
      "model_module": "@jupyter-widgets/controls",
      "model_module_version": "1.5.0",
      "model_name": "HTMLModel",
      "state": {
       "_dom_classes": [],
       "_model_module": "@jupyter-widgets/controls",
       "_model_module_version": "1.5.0",
       "_model_name": "HTMLModel",
       "_view_count": null,
       "_view_module": "@jupyter-widgets/controls",
       "_view_module_version": "1.5.0",
       "_view_name": "HTMLView",
       "description": "",
       "description_tooltip": null,
       "layout": "IPY_MODEL_6c4e4a278fc748ef93292a77e05f95b0",
       "placeholder": "​",
       "style": "IPY_MODEL_50f246b2da404e748c5468110cc5d11b",
       "value": "100%"
      }
     },
     "64c38574e8d74d579b2688c22febe034": {
      "model_module": "@jupyter-widgets/controls",
      "model_module_version": "1.5.0",
      "model_name": "DescriptionStyleModel",
      "state": {
       "_model_module": "@jupyter-widgets/controls",
       "_model_module_version": "1.5.0",
       "_model_name": "DescriptionStyleModel",
       "_view_count": null,
       "_view_module": "@jupyter-widgets/base",
       "_view_module_version": "1.2.0",
       "_view_name": "StyleView",
       "description_width": ""
      }
     },
     "66485373138f4c5b885e11b5971d2143": {
      "model_module": "@jupyter-widgets/base",
      "model_module_version": "1.2.0",
      "model_name": "LayoutModel",
      "state": {
       "_model_module": "@jupyter-widgets/base",
       "_model_module_version": "1.2.0",
       "_model_name": "LayoutModel",
       "_view_count": null,
       "_view_module": "@jupyter-widgets/base",
       "_view_module_version": "1.2.0",
       "_view_name": "LayoutView",
       "align_content": null,
       "align_items": null,
       "align_self": null,
       "border": null,
       "bottom": null,
       "display": null,
       "flex": null,
       "flex_flow": null,
       "grid_area": null,
       "grid_auto_columns": null,
       "grid_auto_flow": null,
       "grid_auto_rows": null,
       "grid_column": null,
       "grid_gap": null,
       "grid_row": null,
       "grid_template_areas": null,
       "grid_template_columns": null,
       "grid_template_rows": null,
       "height": null,
       "justify_content": null,
       "justify_items": null,
       "left": null,
       "margin": null,
       "max_height": null,
       "max_width": null,
       "min_height": null,
       "min_width": null,
       "object_fit": null,
       "object_position": null,
       "order": null,
       "overflow": null,
       "overflow_x": null,
       "overflow_y": null,
       "padding": null,
       "right": null,
       "top": null,
       "visibility": null,
       "width": null
      }
     },
     "685a0cec726f40daafb7494f6b14a9dc": {
      "model_module": "@jupyter-widgets/controls",
      "model_module_version": "1.5.0",
      "model_name": "DescriptionStyleModel",
      "state": {
       "_model_module": "@jupyter-widgets/controls",
       "_model_module_version": "1.5.0",
       "_model_name": "DescriptionStyleModel",
       "_view_count": null,
       "_view_module": "@jupyter-widgets/base",
       "_view_module_version": "1.2.0",
       "_view_name": "StyleView",
       "description_width": ""
      }
     },
     "6a548ab4cee548b59916a720874179e5": {
      "model_module": "@jupyter-widgets/controls",
      "model_module_version": "1.5.0",
      "model_name": "FloatProgressModel",
      "state": {
       "_dom_classes": [],
       "_model_module": "@jupyter-widgets/controls",
       "_model_module_version": "1.5.0",
       "_model_name": "FloatProgressModel",
       "_view_count": null,
       "_view_module": "@jupyter-widgets/controls",
       "_view_module_version": "1.5.0",
       "_view_name": "ProgressView",
       "bar_style": "success",
       "description": "",
       "description_tooltip": null,
       "layout": "IPY_MODEL_e6ed906361ad49a7a1e81d0ca1de395d",
       "max": 41.0,
       "min": 0.0,
       "orientation": "horizontal",
       "style": "IPY_MODEL_de5fbec8ece54e7eb3b818233705de53",
       "value": 41.0
      }
     },
     "6c4e4a278fc748ef93292a77e05f95b0": {
      "model_module": "@jupyter-widgets/base",
      "model_module_version": "1.2.0",
      "model_name": "LayoutModel",
      "state": {
       "_model_module": "@jupyter-widgets/base",
       "_model_module_version": "1.2.0",
       "_model_name": "LayoutModel",
       "_view_count": null,
       "_view_module": "@jupyter-widgets/base",
       "_view_module_version": "1.2.0",
       "_view_name": "LayoutView",
       "align_content": null,
       "align_items": null,
       "align_self": null,
       "border": null,
       "bottom": null,
       "display": null,
       "flex": null,
       "flex_flow": null,
       "grid_area": null,
       "grid_auto_columns": null,
       "grid_auto_flow": null,
       "grid_auto_rows": null,
       "grid_column": null,
       "grid_gap": null,
       "grid_row": null,
       "grid_template_areas": null,
       "grid_template_columns": null,
       "grid_template_rows": null,
       "height": null,
       "justify_content": null,
       "justify_items": null,
       "left": null,
       "margin": null,
       "max_height": null,
       "max_width": null,
       "min_height": null,
       "min_width": null,
       "object_fit": null,
       "object_position": null,
       "order": null,
       "overflow": null,
       "overflow_x": null,
       "overflow_y": null,
       "padding": null,
       "right": null,
       "top": null,
       "visibility": null,
       "width": null
      }
     },
     "6d771592379448fcb2957c78e7c5208a": {
      "model_module": "@jupyter-widgets/controls",
      "model_module_version": "1.5.0",
      "model_name": "HTMLModel",
      "state": {
       "_dom_classes": [],
       "_model_module": "@jupyter-widgets/controls",
       "_model_module_version": "1.5.0",
       "_model_name": "HTMLModel",
       "_view_count": null,
       "_view_module": "@jupyter-widgets/controls",
       "_view_module_version": "1.5.0",
       "_view_name": "HTMLView",
       "description": "",
       "description_tooltip": null,
       "layout": "IPY_MODEL_1e08a6ca9e98473ebceb50f9a459e9a1",
       "placeholder": "​",
       "style": "IPY_MODEL_bbbeed3b51de46a5939b10cfba3b9533",
       "value": "Downloading (…)tencepiece.bpe.model: 100%"
      }
     },
     "7300e6106cb8416d86a19ed34bd48e5c": {
      "model_module": "@jupyter-widgets/controls",
      "model_module_version": "1.5.0",
      "model_name": "FloatProgressModel",
      "state": {
       "_dom_classes": [],
       "_model_module": "@jupyter-widgets/controls",
       "_model_module_version": "1.5.0",
       "_model_name": "FloatProgressModel",
       "_view_count": null,
       "_view_module": "@jupyter-widgets/controls",
       "_view_module_version": "1.5.0",
       "_view_name": "ProgressView",
       "bar_style": "success",
       "description": "",
       "description_tooltip": null,
       "layout": "IPY_MODEL_26fa46337d564cd581c78a593f0d95d2",
       "max": 12120.0,
       "min": 0.0,
       "orientation": "horizontal",
       "style": "IPY_MODEL_d72d58f18926471babe3e07fea6ccf0b",
       "value": 12120.0
      }
     },
     "7535f845024640bd9b4dcaf253618381": {
      "model_module": "@jupyter-widgets/controls",
      "model_module_version": "1.5.0",
      "model_name": "DescriptionStyleModel",
      "state": {
       "_model_module": "@jupyter-widgets/controls",
       "_model_module_version": "1.5.0",
       "_model_name": "DescriptionStyleModel",
       "_view_count": null,
       "_view_module": "@jupyter-widgets/base",
       "_view_module_version": "1.2.0",
       "_view_name": "StyleView",
       "description_width": ""
      }
     },
     "7742e4134a2c4d1288ab58d48d1e35eb": {
      "model_module": "@jupyter-widgets/controls",
      "model_module_version": "1.5.0",
      "model_name": "ProgressStyleModel",
      "state": {
       "_model_module": "@jupyter-widgets/controls",
       "_model_module_version": "1.5.0",
       "_model_name": "ProgressStyleModel",
       "_view_count": null,
       "_view_module": "@jupyter-widgets/base",
       "_view_module_version": "1.2.0",
       "_view_name": "StyleView",
       "bar_color": null,
       "description_width": ""
      }
     },
     "7ade4a2f6e024bdfa6e917bde92995be": {
      "model_module": "@jupyter-widgets/controls",
      "model_module_version": "1.5.0",
      "model_name": "HTMLModel",
      "state": {
       "_dom_classes": [],
       "_model_module": "@jupyter-widgets/controls",
       "_model_module_version": "1.5.0",
       "_model_name": "HTMLModel",
       "_view_count": null,
       "_view_module": "@jupyter-widgets/controls",
       "_view_module_version": "1.5.0",
       "_view_name": "HTMLView",
       "description": "",
       "description_tooltip": null,
       "layout": "IPY_MODEL_106896ab423549c7b4153711c92c2ab4",
       "placeholder": "​",
       "style": "IPY_MODEL_03be0ac81ae64ec492d09a36d8bcc5d7",
       "value": " 12120/12120 [00:04&lt;00:00, 2831.54ex/s]"
      }
     },
     "7bbfae0d080e4b2a9fe1b2f726c3f5df": {
      "model_module": "@jupyter-widgets/controls",
      "model_module_version": "1.5.0",
      "model_name": "ProgressStyleModel",
      "state": {
       "_model_module": "@jupyter-widgets/controls",
       "_model_module_version": "1.5.0",
       "_model_name": "ProgressStyleModel",
       "_view_count": null,
       "_view_module": "@jupyter-widgets/base",
       "_view_module_version": "1.2.0",
       "_view_name": "StyleView",
       "bar_color": null,
       "description_width": ""
      }
     },
     "7eac960648c64e78983558e203a713cc": {
      "model_module": "@jupyter-widgets/controls",
      "model_module_version": "1.5.0",
      "model_name": "HTMLModel",
      "state": {
       "_dom_classes": [],
       "_model_module": "@jupyter-widgets/controls",
       "_model_module_version": "1.5.0",
       "_model_name": "HTMLModel",
       "_view_count": null,
       "_view_module": "@jupyter-widgets/controls",
       "_view_module_version": "1.5.0",
       "_view_name": "HTMLView",
       "description": "",
       "description_tooltip": null,
       "layout": "IPY_MODEL_4c92a4fba81146138522ae8fa636031b",
       "placeholder": "​",
       "style": "IPY_MODEL_d32b82dbdbd6432fa640b2a5a601100a",
       "value": "100%"
      }
     },
     "821e2a74bfe046f4b5a7356f9c64301f": {
      "model_module": "@jupyter-widgets/controls",
      "model_module_version": "1.5.0",
      "model_name": "HBoxModel",
      "state": {
       "_dom_classes": [],
       "_model_module": "@jupyter-widgets/controls",
       "_model_module_version": "1.5.0",
       "_model_name": "HBoxModel",
       "_view_count": null,
       "_view_module": "@jupyter-widgets/controls",
       "_view_module_version": "1.5.0",
       "_view_name": "HBoxView",
       "box_style": "",
       "children": [
        "IPY_MODEL_b450c18ce3c142f1ab487773da973e9b",
        "IPY_MODEL_02636c9c69aa4b8a8a0b2470464ee083",
        "IPY_MODEL_865487761abc4cb5b904059a0308a235"
       ],
       "layout": "IPY_MODEL_2f224be11f9b43e980bfeec97fbb92ea"
      }
     },
     "865487761abc4cb5b904059a0308a235": {
      "model_module": "@jupyter-widgets/controls",
      "model_module_version": "1.5.0",
      "model_name": "HTMLModel",
      "state": {
       "_dom_classes": [],
       "_model_module": "@jupyter-widgets/controls",
       "_model_module_version": "1.5.0",
       "_model_name": "HTMLModel",
       "_view_count": null,
       "_view_module": "@jupyter-widgets/controls",
       "_view_module_version": "1.5.0",
       "_view_name": "HTMLView",
       "description": "",
       "description_tooltip": null,
       "layout": "IPY_MODEL_8b3304b050d5490da5fdeb3183a01922",
       "placeholder": "​",
       "style": "IPY_MODEL_99d606ab704f49609e9dddbf1cb2f51d",
       "value": " 1/1 [00:03&lt;00:00,  3.18s/ba]"
      }
     },
     "8a9d2331fe9042589564c5a616b89617": {
      "model_module": "@jupyter-widgets/base",
      "model_module_version": "1.2.0",
      "model_name": "LayoutModel",
      "state": {
       "_model_module": "@jupyter-widgets/base",
       "_model_module_version": "1.2.0",
       "_model_name": "LayoutModel",
       "_view_count": null,
       "_view_module": "@jupyter-widgets/base",
       "_view_module_version": "1.2.0",
       "_view_name": "LayoutView",
       "align_content": null,
       "align_items": null,
       "align_self": null,
       "border": null,
       "bottom": null,
       "display": null,
       "flex": null,
       "flex_flow": null,
       "grid_area": null,
       "grid_auto_columns": null,
       "grid_auto_flow": null,
       "grid_auto_rows": null,
       "grid_column": null,
       "grid_gap": null,
       "grid_row": null,
       "grid_template_areas": null,
       "grid_template_columns": null,
       "grid_template_rows": null,
       "height": null,
       "justify_content": null,
       "justify_items": null,
       "left": null,
       "margin": null,
       "max_height": null,
       "max_width": null,
       "min_height": null,
       "min_width": null,
       "object_fit": null,
       "object_position": null,
       "order": null,
       "overflow": null,
       "overflow_x": null,
       "overflow_y": null,
       "padding": null,
       "right": null,
       "top": null,
       "visibility": null,
       "width": null
      }
     },
     "8b3304b050d5490da5fdeb3183a01922": {
      "model_module": "@jupyter-widgets/base",
      "model_module_version": "1.2.0",
      "model_name": "LayoutModel",
      "state": {
       "_model_module": "@jupyter-widgets/base",
       "_model_module_version": "1.2.0",
       "_model_name": "LayoutModel",
       "_view_count": null,
       "_view_module": "@jupyter-widgets/base",
       "_view_module_version": "1.2.0",
       "_view_name": "LayoutView",
       "align_content": null,
       "align_items": null,
       "align_self": null,
       "border": null,
       "bottom": null,
       "display": null,
       "flex": null,
       "flex_flow": null,
       "grid_area": null,
       "grid_auto_columns": null,
       "grid_auto_flow": null,
       "grid_auto_rows": null,
       "grid_column": null,
       "grid_gap": null,
       "grid_row": null,
       "grid_template_areas": null,
       "grid_template_columns": null,
       "grid_template_rows": null,
       "height": null,
       "justify_content": null,
       "justify_items": null,
       "left": null,
       "margin": null,
       "max_height": null,
       "max_width": null,
       "min_height": null,
       "min_width": null,
       "object_fit": null,
       "object_position": null,
       "order": null,
       "overflow": null,
       "overflow_x": null,
       "overflow_y": null,
       "padding": null,
       "right": null,
       "top": null,
       "visibility": null,
       "width": null
      }
     },
     "8b9666cb9a4044b093e21b3b8854fbeb": {
      "model_module": "@jupyter-widgets/controls",
      "model_module_version": "1.5.0",
      "model_name": "DescriptionStyleModel",
      "state": {
       "_model_module": "@jupyter-widgets/controls",
       "_model_module_version": "1.5.0",
       "_model_name": "DescriptionStyleModel",
       "_view_count": null,
       "_view_module": "@jupyter-widgets/base",
       "_view_module_version": "1.2.0",
       "_view_name": "StyleView",
       "description_width": ""
      }
     },
     "8f150faf389e4df1a4fb7ed7486f44e1": {
      "model_module": "@jupyter-widgets/controls",
      "model_module_version": "1.5.0",
      "model_name": "HTMLModel",
      "state": {
       "_dom_classes": [],
       "_model_module": "@jupyter-widgets/controls",
       "_model_module_version": "1.5.0",
       "_model_name": "HTMLModel",
       "_view_count": null,
       "_view_module": "@jupyter-widgets/controls",
       "_view_module_version": "1.5.0",
       "_view_name": "HTMLView",
       "description": "",
       "description_tooltip": null,
       "layout": "IPY_MODEL_5ff8ff6f7cc54a8d86437fef29069d1b",
       "placeholder": "​",
       "style": "IPY_MODEL_8b9666cb9a4044b093e21b3b8854fbeb",
       "value": "Downloading (…)/main/tokenizer.json: 100%"
      }
     },
     "9247bec220ab40439c112c65896879a4": {
      "model_module": "@jupyter-widgets/controls",
      "model_module_version": "1.5.0",
      "model_name": "FloatProgressModel",
      "state": {
       "_dom_classes": [],
       "_model_module": "@jupyter-widgets/controls",
       "_model_module_version": "1.5.0",
       "_model_name": "FloatProgressModel",
       "_view_count": null,
       "_view_module": "@jupyter-widgets/controls",
       "_view_module_version": "1.5.0",
       "_view_name": "ProgressView",
       "bar_style": "success",
       "description": "",
       "description_tooltip": null,
       "layout": "IPY_MODEL_50989e3421a8403093567ff43a064fe2",
       "max": 95.0,
       "min": 0.0,
       "orientation": "horizontal",
       "style": "IPY_MODEL_7742e4134a2c4d1288ab58d48d1e35eb",
       "value": 95.0
      }
     },
     "99d606ab704f49609e9dddbf1cb2f51d": {
      "model_module": "@jupyter-widgets/controls",
      "model_module_version": "1.5.0",
      "model_name": "DescriptionStyleModel",
      "state": {
       "_model_module": "@jupyter-widgets/controls",
       "_model_module_version": "1.5.0",
       "_model_name": "DescriptionStyleModel",
       "_view_count": null,
       "_view_module": "@jupyter-widgets/base",
       "_view_module_version": "1.2.0",
       "_view_name": "StyleView",
       "description_width": ""
      }
     },
     "9ac1b22a037b427bbb877a2f79040ebc": {
      "model_module": "@jupyter-widgets/base",
      "model_module_version": "1.2.0",
      "model_name": "LayoutModel",
      "state": {
       "_model_module": "@jupyter-widgets/base",
       "_model_module_version": "1.2.0",
       "_model_name": "LayoutModel",
       "_view_count": null,
       "_view_module": "@jupyter-widgets/base",
       "_view_module_version": "1.2.0",
       "_view_name": "LayoutView",
       "align_content": null,
       "align_items": null,
       "align_self": null,
       "border": null,
       "bottom": null,
       "display": null,
       "flex": null,
       "flex_flow": null,
       "grid_area": null,
       "grid_auto_columns": null,
       "grid_auto_flow": null,
       "grid_auto_rows": null,
       "grid_column": null,
       "grid_gap": null,
       "grid_row": null,
       "grid_template_areas": null,
       "grid_template_columns": null,
       "grid_template_rows": null,
       "height": null,
       "justify_content": null,
       "justify_items": null,
       "left": null,
       "margin": null,
       "max_height": null,
       "max_width": null,
       "min_height": null,
       "min_width": null,
       "object_fit": null,
       "object_position": null,
       "order": null,
       "overflow": null,
       "overflow_x": null,
       "overflow_y": null,
       "padding": null,
       "right": null,
       "top": null,
       "visibility": null,
       "width": null
      }
     },
     "9f99b24669354b50b61d84b5966a547f": {
      "model_module": "@jupyter-widgets/base",
      "model_module_version": "1.2.0",
      "model_name": "LayoutModel",
      "state": {
       "_model_module": "@jupyter-widgets/base",
       "_model_module_version": "1.2.0",
       "_model_name": "LayoutModel",
       "_view_count": null,
       "_view_module": "@jupyter-widgets/base",
       "_view_module_version": "1.2.0",
       "_view_name": "LayoutView",
       "align_content": null,
       "align_items": null,
       "align_self": null,
       "border": null,
       "bottom": null,
       "display": null,
       "flex": null,
       "flex_flow": null,
       "grid_area": null,
       "grid_auto_columns": null,
       "grid_auto_flow": null,
       "grid_auto_rows": null,
       "grid_column": null,
       "grid_gap": null,
       "grid_row": null,
       "grid_template_areas": null,
       "grid_template_columns": null,
       "grid_template_rows": null,
       "height": null,
       "justify_content": null,
       "justify_items": null,
       "left": null,
       "margin": null,
       "max_height": null,
       "max_width": null,
       "min_height": null,
       "min_width": null,
       "object_fit": null,
       "object_position": null,
       "order": null,
       "overflow": null,
       "overflow_x": null,
       "overflow_y": null,
       "padding": null,
       "right": null,
       "top": null,
       "visibility": null,
       "width": null
      }
     },
     "a18f08774f0842f8ab4a4352b7dd8a66": {
      "model_module": "@jupyter-widgets/controls",
      "model_module_version": "1.5.0",
      "model_name": "FloatProgressModel",
      "state": {
       "_dom_classes": [],
       "_model_module": "@jupyter-widgets/controls",
       "_model_module_version": "1.5.0",
       "_model_name": "FloatProgressModel",
       "_view_count": null,
       "_view_module": "@jupyter-widgets/controls",
       "_view_module_version": "1.5.0",
       "_view_name": "ProgressView",
       "bar_style": "success",
       "description": "",
       "description_tooltip": null,
       "layout": "IPY_MODEL_ed1fbc3714ae45f88de249c648e52d13",
       "max": 5195.0,
       "min": 0.0,
       "orientation": "horizontal",
       "style": "IPY_MODEL_ba804c99e70e48948ad2956deba4e8e9",
       "value": 5195.0
      }
     },
     "a1bb477e4378404cae7395b65537f001": {
      "model_module": "@jupyter-widgets/controls",
      "model_module_version": "1.5.0",
      "model_name": "ProgressStyleModel",
      "state": {
       "_model_module": "@jupyter-widgets/controls",
       "_model_module_version": "1.5.0",
       "_model_name": "ProgressStyleModel",
       "_view_count": null,
       "_view_module": "@jupyter-widgets/base",
       "_view_module_version": "1.2.0",
       "_view_name": "StyleView",
       "bar_color": null,
       "description_width": ""
      }
     },
     "a3ae28f33e13423f9908c9f5968bb1d3": {
      "model_module": "@jupyter-widgets/controls",
      "model_module_version": "1.5.0",
      "model_name": "HBoxModel",
      "state": {
       "_dom_classes": [],
       "_model_module": "@jupyter-widgets/controls",
       "_model_module_version": "1.5.0",
       "_model_name": "HBoxModel",
       "_view_count": null,
       "_view_module": "@jupyter-widgets/controls",
       "_view_module_version": "1.5.0",
       "_view_name": "HBoxView",
       "box_style": "",
       "children": [
        "IPY_MODEL_7eac960648c64e78983558e203a713cc",
        "IPY_MODEL_1e19bfa6dc8c45f9a22dd83c993470b9",
        "IPY_MODEL_1cc1ecffe5b64a22a2ff1174c0a1d331"
       ],
       "layout": "IPY_MODEL_63545faa59fb4bc8b5548f65b115fbc3"
      }
     },
     "a58e3487aff64519be1ce484a34d18c6": {
      "model_module": "@jupyter-widgets/controls",
      "model_module_version": "1.5.0",
      "model_name": "ProgressStyleModel",
      "state": {
       "_model_module": "@jupyter-widgets/controls",
       "_model_module_version": "1.5.0",
       "_model_name": "ProgressStyleModel",
       "_view_count": null,
       "_view_module": "@jupyter-widgets/base",
       "_view_module_version": "1.2.0",
       "_view_name": "StyleView",
       "bar_color": null,
       "description_width": ""
      }
     },
     "a7c840f3f427495081b7f9183ac0ffc1": {
      "model_module": "@jupyter-widgets/controls",
      "model_module_version": "1.5.0",
      "model_name": "HTMLModel",
      "state": {
       "_dom_classes": [],
       "_model_module": "@jupyter-widgets/controls",
       "_model_module_version": "1.5.0",
       "_model_name": "HTMLModel",
       "_view_count": null,
       "_view_module": "@jupyter-widgets/controls",
       "_view_module_version": "1.5.0",
       "_view_name": "HTMLView",
       "description": "",
       "description_tooltip": null,
       "layout": "IPY_MODEL_bae439ae495e48299614a72d59438cd5",
       "placeholder": "​",
       "style": "IPY_MODEL_52aa40e3de79455dbee8fa48ca9665b1",
       "value": " 9.10M/9.10M [00:00&lt;00:00, 21.0MB/s]"
      }
     },
     "a7ff63ea4da6485e902b4c890749aca7": {
      "model_module": "@jupyter-widgets/controls",
      "model_module_version": "1.5.0",
      "model_name": "DescriptionStyleModel",
      "state": {
       "_model_module": "@jupyter-widgets/controls",
       "_model_module_version": "1.5.0",
       "_model_name": "DescriptionStyleModel",
       "_view_count": null,
       "_view_module": "@jupyter-widgets/base",
       "_view_module_version": "1.2.0",
       "_view_name": "StyleView",
       "description_width": ""
      }
     },
     "a83e4b177d8a474c9718495753e8de8f": {
      "model_module": "@jupyter-widgets/controls",
      "model_module_version": "1.5.0",
      "model_name": "FloatProgressModel",
      "state": {
       "_dom_classes": [],
       "_model_module": "@jupyter-widgets/controls",
       "_model_module_version": "1.5.0",
       "_model_name": "FloatProgressModel",
       "_view_count": null,
       "_view_module": "@jupyter-widgets/controls",
       "_view_module_version": "1.5.0",
       "_view_name": "ProgressView",
       "bar_style": "success",
       "description": "",
       "description_tooltip": null,
       "layout": "IPY_MODEL_afec2570ead64955af65dc23e4322021",
       "max": 1115590446.0,
       "min": 0.0,
       "orientation": "horizontal",
       "style": "IPY_MODEL_7bbfae0d080e4b2a9fe1b2f726c3f5df",
       "value": 1115590446.0
      }
     },
     "aaa0ffb61b60499c8b0b30afbd573155": {
      "model_module": "@jupyter-widgets/controls",
      "model_module_version": "1.5.0",
      "model_name": "DescriptionStyleModel",
      "state": {
       "_model_module": "@jupyter-widgets/controls",
       "_model_module_version": "1.5.0",
       "_model_name": "DescriptionStyleModel",
       "_view_count": null,
       "_view_module": "@jupyter-widgets/base",
       "_view_module_version": "1.2.0",
       "_view_name": "StyleView",
       "description_width": ""
      }
     },
     "afec2570ead64955af65dc23e4322021": {
      "model_module": "@jupyter-widgets/base",
      "model_module_version": "1.2.0",
      "model_name": "LayoutModel",
      "state": {
       "_model_module": "@jupyter-widgets/base",
       "_model_module_version": "1.2.0",
       "_model_name": "LayoutModel",
       "_view_count": null,
       "_view_module": "@jupyter-widgets/base",
       "_view_module_version": "1.2.0",
       "_view_name": "LayoutView",
       "align_content": null,
       "align_items": null,
       "align_self": null,
       "border": null,
       "bottom": null,
       "display": null,
       "flex": null,
       "flex_flow": null,
       "grid_area": null,
       "grid_auto_columns": null,
       "grid_auto_flow": null,
       "grid_auto_rows": null,
       "grid_column": null,
       "grid_gap": null,
       "grid_row": null,
       "grid_template_areas": null,
       "grid_template_columns": null,
       "grid_template_rows": null,
       "height": null,
       "justify_content": null,
       "justify_items": null,
       "left": null,
       "margin": null,
       "max_height": null,
       "max_width": null,
       "min_height": null,
       "min_width": null,
       "object_fit": null,
       "object_position": null,
       "order": null,
       "overflow": null,
       "overflow_x": null,
       "overflow_y": null,
       "padding": null,
       "right": null,
       "top": null,
       "visibility": null,
       "width": null
      }
     },
     "b269740de6544c80bc1116d90b1a1593": {
      "model_module": "@jupyter-widgets/controls",
      "model_module_version": "1.5.0",
      "model_name": "DescriptionStyleModel",
      "state": {
       "_model_module": "@jupyter-widgets/controls",
       "_model_module_version": "1.5.0",
       "_model_name": "DescriptionStyleModel",
       "_view_count": null,
       "_view_module": "@jupyter-widgets/base",
       "_view_module_version": "1.2.0",
       "_view_name": "StyleView",
       "description_width": ""
      }
     },
     "b450c18ce3c142f1ab487773da973e9b": {
      "model_module": "@jupyter-widgets/controls",
      "model_module_version": "1.5.0",
      "model_name": "HTMLModel",
      "state": {
       "_dom_classes": [],
       "_model_module": "@jupyter-widgets/controls",
       "_model_module_version": "1.5.0",
       "_model_name": "HTMLModel",
       "_view_count": null,
       "_view_module": "@jupyter-widgets/controls",
       "_view_module_version": "1.5.0",
       "_view_name": "HTMLView",
       "description": "",
       "description_tooltip": null,
       "layout": "IPY_MODEL_b8e734d1a8da4ae98bef5630f4bb72e7",
       "placeholder": "​",
       "style": "IPY_MODEL_aaa0ffb61b60499c8b0b30afbd573155",
       "value": "100%"
      }
     },
     "b47d899fc8f0467f8cfcaf866ef0f1fb": {
      "model_module": "@jupyter-widgets/controls",
      "model_module_version": "1.5.0",
      "model_name": "ProgressStyleModel",
      "state": {
       "_model_module": "@jupyter-widgets/controls",
       "_model_module_version": "1.5.0",
       "_model_name": "ProgressStyleModel",
       "_view_count": null,
       "_view_module": "@jupyter-widgets/base",
       "_view_module_version": "1.2.0",
       "_view_name": "StyleView",
       "bar_color": null,
       "description_width": ""
      }
     },
     "b6c2f330af9748f6bb59a03decf1eec2": {
      "model_module": "@jupyter-widgets/base",
      "model_module_version": "1.2.0",
      "model_name": "LayoutModel",
      "state": {
       "_model_module": "@jupyter-widgets/base",
       "_model_module_version": "1.2.0",
       "_model_name": "LayoutModel",
       "_view_count": null,
       "_view_module": "@jupyter-widgets/base",
       "_view_module_version": "1.2.0",
       "_view_name": "LayoutView",
       "align_content": null,
       "align_items": null,
       "align_self": null,
       "border": null,
       "bottom": null,
       "display": null,
       "flex": null,
       "flex_flow": null,
       "grid_area": null,
       "grid_auto_columns": null,
       "grid_auto_flow": null,
       "grid_auto_rows": null,
       "grid_column": null,
       "grid_gap": null,
       "grid_row": null,
       "grid_template_areas": null,
       "grid_template_columns": null,
       "grid_template_rows": null,
       "height": null,
       "justify_content": null,
       "justify_items": null,
       "left": null,
       "margin": null,
       "max_height": null,
       "max_width": null,
       "min_height": null,
       "min_width": null,
       "object_fit": null,
       "object_position": null,
       "order": null,
       "overflow": null,
       "overflow_x": null,
       "overflow_y": null,
       "padding": null,
       "right": null,
       "top": null,
       "visibility": null,
       "width": null
      }
     },
     "b8e734d1a8da4ae98bef5630f4bb72e7": {
      "model_module": "@jupyter-widgets/base",
      "model_module_version": "1.2.0",
      "model_name": "LayoutModel",
      "state": {
       "_model_module": "@jupyter-widgets/base",
       "_model_module_version": "1.2.0",
       "_model_name": "LayoutModel",
       "_view_count": null,
       "_view_module": "@jupyter-widgets/base",
       "_view_module_version": "1.2.0",
       "_view_name": "LayoutView",
       "align_content": null,
       "align_items": null,
       "align_self": null,
       "border": null,
       "bottom": null,
       "display": null,
       "flex": null,
       "flex_flow": null,
       "grid_area": null,
       "grid_auto_columns": null,
       "grid_auto_flow": null,
       "grid_auto_rows": null,
       "grid_column": null,
       "grid_gap": null,
       "grid_row": null,
       "grid_template_areas": null,
       "grid_template_columns": null,
       "grid_template_rows": null,
       "height": null,
       "justify_content": null,
       "justify_items": null,
       "left": null,
       "margin": null,
       "max_height": null,
       "max_width": null,
       "min_height": null,
       "min_width": null,
       "object_fit": null,
       "object_position": null,
       "order": null,
       "overflow": null,
       "overflow_x": null,
       "overflow_y": null,
       "padding": null,
       "right": null,
       "top": null,
       "visibility": null,
       "width": null
      }
     },
     "ba804c99e70e48948ad2956deba4e8e9": {
      "model_module": "@jupyter-widgets/controls",
      "model_module_version": "1.5.0",
      "model_name": "ProgressStyleModel",
      "state": {
       "_model_module": "@jupyter-widgets/controls",
       "_model_module_version": "1.5.0",
       "_model_name": "ProgressStyleModel",
       "_view_count": null,
       "_view_module": "@jupyter-widgets/base",
       "_view_module_version": "1.2.0",
       "_view_name": "StyleView",
       "bar_color": null,
       "description_width": ""
      }
     },
     "bae439ae495e48299614a72d59438cd5": {
      "model_module": "@jupyter-widgets/base",
      "model_module_version": "1.2.0",
      "model_name": "LayoutModel",
      "state": {
       "_model_module": "@jupyter-widgets/base",
       "_model_module_version": "1.2.0",
       "_model_name": "LayoutModel",
       "_view_count": null,
       "_view_module": "@jupyter-widgets/base",
       "_view_module_version": "1.2.0",
       "_view_name": "LayoutView",
       "align_content": null,
       "align_items": null,
       "align_self": null,
       "border": null,
       "bottom": null,
       "display": null,
       "flex": null,
       "flex_flow": null,
       "grid_area": null,
       "grid_auto_columns": null,
       "grid_auto_flow": null,
       "grid_auto_rows": null,
       "grid_column": null,
       "grid_gap": null,
       "grid_row": null,
       "grid_template_areas": null,
       "grid_template_columns": null,
       "grid_template_rows": null,
       "height": null,
       "justify_content": null,
       "justify_items": null,
       "left": null,
       "margin": null,
       "max_height": null,
       "max_width": null,
       "min_height": null,
       "min_width": null,
       "object_fit": null,
       "object_position": null,
       "order": null,
       "overflow": null,
       "overflow_x": null,
       "overflow_y": null,
       "padding": null,
       "right": null,
       "top": null,
       "visibility": null,
       "width": null
      }
     },
     "bbbeed3b51de46a5939b10cfba3b9533": {
      "model_module": "@jupyter-widgets/controls",
      "model_module_version": "1.5.0",
      "model_name": "DescriptionStyleModel",
      "state": {
       "_model_module": "@jupyter-widgets/controls",
       "_model_module_version": "1.5.0",
       "_model_name": "DescriptionStyleModel",
       "_view_count": null,
       "_view_module": "@jupyter-widgets/base",
       "_view_module_version": "1.2.0",
       "_view_name": "StyleView",
       "description_width": ""
      }
     },
     "c06ea6e5625746c8ae4876a5bdba1013": {
      "model_module": "@jupyter-widgets/controls",
      "model_module_version": "1.5.0",
      "model_name": "HTMLModel",
      "state": {
       "_dom_classes": [],
       "_model_module": "@jupyter-widgets/controls",
       "_model_module_version": "1.5.0",
       "_model_name": "HTMLModel",
       "_view_count": null,
       "_view_module": "@jupyter-widgets/controls",
       "_view_module_version": "1.5.0",
       "_view_name": "HTMLView",
       "description": "",
       "description_tooltip": null,
       "layout": "IPY_MODEL_1d835bc4972b4d27826f005f86a83374",
       "placeholder": "​",
       "style": "IPY_MODEL_45ca21f42a854b13b003eb6730935bee",
       "value": " 615/615 [00:00&lt;00:00, 19.9kB/s]"
      }
     },
     "c80d70544698443f8e1ecef79df18271": {
      "model_module": "@jupyter-widgets/controls",
      "model_module_version": "1.5.0",
      "model_name": "DescriptionStyleModel",
      "state": {
       "_model_module": "@jupyter-widgets/controls",
       "_model_module_version": "1.5.0",
       "_model_name": "DescriptionStyleModel",
       "_view_count": null,
       "_view_module": "@jupyter-widgets/base",
       "_view_module_version": "1.2.0",
       "_view_name": "StyleView",
       "description_width": ""
      }
     },
     "c8f60229cfec4ab1a601d1cdc43a431f": {
      "model_module": "@jupyter-widgets/controls",
      "model_module_version": "1.5.0",
      "model_name": "HBoxModel",
      "state": {
       "_dom_classes": [],
       "_model_module": "@jupyter-widgets/controls",
       "_model_module_version": "1.5.0",
       "_model_name": "HBoxModel",
       "_view_count": null,
       "_view_module": "@jupyter-widgets/controls",
       "_view_module_version": "1.5.0",
       "_view_name": "HBoxView",
       "box_style": "",
       "children": [
        "IPY_MODEL_636cd84faccd497bb574e5ad6087c9bb",
        "IPY_MODEL_a18f08774f0842f8ab4a4352b7dd8a66",
        "IPY_MODEL_fc9c1142f2a64934aeff06c0cf037b51"
       ],
       "layout": "IPY_MODEL_0dbf7f1d72b84e559a578c8e68c00e0e"
      }
     },
     "cd1256b9c06848edb8468741eb05cde6": {
      "model_module": "@jupyter-widgets/base",
      "model_module_version": "1.2.0",
      "model_name": "LayoutModel",
      "state": {
       "_model_module": "@jupyter-widgets/base",
       "_model_module_version": "1.2.0",
       "_model_name": "LayoutModel",
       "_view_count": null,
       "_view_module": "@jupyter-widgets/base",
       "_view_module_version": "1.2.0",
       "_view_name": "LayoutView",
       "align_content": null,
       "align_items": null,
       "align_self": null,
       "border": null,
       "bottom": null,
       "display": null,
       "flex": null,
       "flex_flow": null,
       "grid_area": null,
       "grid_auto_columns": null,
       "grid_auto_flow": null,
       "grid_auto_rows": null,
       "grid_column": null,
       "grid_gap": null,
       "grid_row": null,
       "grid_template_areas": null,
       "grid_template_columns": null,
       "grid_template_rows": null,
       "height": null,
       "justify_content": null,
       "justify_items": null,
       "left": null,
       "margin": null,
       "max_height": null,
       "max_width": null,
       "min_height": null,
       "min_width": null,
       "object_fit": null,
       "object_position": null,
       "order": null,
       "overflow": null,
       "overflow_x": null,
       "overflow_y": null,
       "padding": null,
       "right": null,
       "top": null,
       "visibility": null,
       "width": null
      }
     },
     "ce33f3ac8cff4ebd8efff002dec1b9b4": {
      "model_module": "@jupyter-widgets/base",
      "model_module_version": "1.2.0",
      "model_name": "LayoutModel",
      "state": {
       "_model_module": "@jupyter-widgets/base",
       "_model_module_version": "1.2.0",
       "_model_name": "LayoutModel",
       "_view_count": null,
       "_view_module": "@jupyter-widgets/base",
       "_view_module_version": "1.2.0",
       "_view_name": "LayoutView",
       "align_content": null,
       "align_items": null,
       "align_self": null,
       "border": null,
       "bottom": null,
       "display": null,
       "flex": null,
       "flex_flow": null,
       "grid_area": null,
       "grid_auto_columns": null,
       "grid_auto_flow": null,
       "grid_auto_rows": null,
       "grid_column": null,
       "grid_gap": null,
       "grid_row": null,
       "grid_template_areas": null,
       "grid_template_columns": null,
       "grid_template_rows": null,
       "height": null,
       "justify_content": null,
       "justify_items": null,
       "left": null,
       "margin": null,
       "max_height": null,
       "max_width": null,
       "min_height": null,
       "min_width": null,
       "object_fit": null,
       "object_position": null,
       "order": null,
       "overflow": null,
       "overflow_x": null,
       "overflow_y": null,
       "padding": null,
       "right": null,
       "top": null,
       "visibility": null,
       "width": null
      }
     },
     "cf7ea091962a44e1869ced398b43afa6": {
      "model_module": "@jupyter-widgets/controls",
      "model_module_version": "1.5.0",
      "model_name": "DescriptionStyleModel",
      "state": {
       "_model_module": "@jupyter-widgets/controls",
       "_model_module_version": "1.5.0",
       "_model_name": "DescriptionStyleModel",
       "_view_count": null,
       "_view_module": "@jupyter-widgets/base",
       "_view_module_version": "1.2.0",
       "_view_name": "StyleView",
       "description_width": ""
      }
     },
     "d32b82dbdbd6432fa640b2a5a601100a": {
      "model_module": "@jupyter-widgets/controls",
      "model_module_version": "1.5.0",
      "model_name": "DescriptionStyleModel",
      "state": {
       "_model_module": "@jupyter-widgets/controls",
       "_model_module_version": "1.5.0",
       "_model_name": "DescriptionStyleModel",
       "_view_count": null,
       "_view_module": "@jupyter-widgets/base",
       "_view_module_version": "1.2.0",
       "_view_name": "StyleView",
       "description_width": ""
      }
     },
     "d554a2cbfe6a4015a20afdf1aeee4c25": {
      "model_module": "@jupyter-widgets/controls",
      "model_module_version": "1.5.0",
      "model_name": "HTMLModel",
      "state": {
       "_dom_classes": [],
       "_model_module": "@jupyter-widgets/controls",
       "_model_module_version": "1.5.0",
       "_model_name": "HTMLModel",
       "_view_count": null,
       "_view_module": "@jupyter-widgets/controls",
       "_view_module_version": "1.5.0",
       "_view_name": "HTMLView",
       "description": "",
       "description_tooltip": null,
       "layout": "IPY_MODEL_571f195426ef43d9bcc00a42c83aafba",
       "placeholder": "​",
       "style": "IPY_MODEL_5fb1680143ca43b58a2c1ced6831e272",
       "value": " 5.07M/5.07M [00:00&lt;00:00, 16.0MB/s]"
      }
     },
     "d72d58f18926471babe3e07fea6ccf0b": {
      "model_module": "@jupyter-widgets/controls",
      "model_module_version": "1.5.0",
      "model_name": "ProgressStyleModel",
      "state": {
       "_model_module": "@jupyter-widgets/controls",
       "_model_module_version": "1.5.0",
       "_model_name": "ProgressStyleModel",
       "_view_count": null,
       "_view_module": "@jupyter-widgets/base",
       "_view_module_version": "1.2.0",
       "_view_name": "StyleView",
       "bar_color": null,
       "description_width": ""
      }
     },
     "dc34de3fb97a4c4caf70f5ec85de5110": {
      "model_module": "@jupyter-widgets/controls",
      "model_module_version": "1.5.0",
      "model_name": "HTMLModel",
      "state": {
       "_dom_classes": [],
       "_model_module": "@jupyter-widgets/controls",
       "_model_module_version": "1.5.0",
       "_model_name": "HTMLModel",
       "_view_count": null,
       "_view_module": "@jupyter-widgets/controls",
       "_view_module_version": "1.5.0",
       "_view_name": "HTMLView",
       "description": "",
       "description_tooltip": null,
       "layout": "IPY_MODEL_ce33f3ac8cff4ebd8efff002dec1b9b4",
       "placeholder": "​",
       "style": "IPY_MODEL_47b5c94a9e004cf0a8d00693b6ac8a6e",
       "value": " 41/41 [42:14&lt;00:00, 54.73s/ba]"
      }
     },
     "de5fbec8ece54e7eb3b818233705de53": {
      "model_module": "@jupyter-widgets/controls",
      "model_module_version": "1.5.0",
      "model_name": "ProgressStyleModel",
      "state": {
       "_model_module": "@jupyter-widgets/controls",
       "_model_module_version": "1.5.0",
       "_model_name": "ProgressStyleModel",
       "_view_count": null,
       "_view_module": "@jupyter-widgets/base",
       "_view_module_version": "1.2.0",
       "_view_name": "StyleView",
       "bar_color": null,
       "description_width": ""
      }
     },
     "e399d12db85e48619daa57e009a0914c": {
      "model_module": "@jupyter-widgets/controls",
      "model_module_version": "1.5.0",
      "model_name": "FloatProgressModel",
      "state": {
       "_dom_classes": [],
       "_model_module": "@jupyter-widgets/controls",
       "_model_module_version": "1.5.0",
       "_model_name": "FloatProgressModel",
       "_view_count": null,
       "_view_module": "@jupyter-widgets/controls",
       "_view_module_version": "1.5.0",
       "_view_name": "ProgressView",
       "bar_style": "success",
       "description": "",
       "description_tooltip": null,
       "layout": "IPY_MODEL_9f99b24669354b50b61d84b5966a547f",
       "max": 9096718.0,
       "min": 0.0,
       "orientation": "horizontal",
       "style": "IPY_MODEL_0befc15998fb429b95a7e07967a6e881",
       "value": 9096718.0
      }
     },
     "e6ed906361ad49a7a1e81d0ca1de395d": {
      "model_module": "@jupyter-widgets/base",
      "model_module_version": "1.2.0",
      "model_name": "LayoutModel",
      "state": {
       "_model_module": "@jupyter-widgets/base",
       "_model_module_version": "1.2.0",
       "_model_name": "LayoutModel",
       "_view_count": null,
       "_view_module": "@jupyter-widgets/base",
       "_view_module_version": "1.2.0",
       "_view_name": "LayoutView",
       "align_content": null,
       "align_items": null,
       "align_self": null,
       "border": null,
       "bottom": null,
       "display": null,
       "flex": null,
       "flex_flow": null,
       "grid_area": null,
       "grid_auto_columns": null,
       "grid_auto_flow": null,
       "grid_auto_rows": null,
       "grid_column": null,
       "grid_gap": null,
       "grid_row": null,
       "grid_template_areas": null,
       "grid_template_columns": null,
       "grid_template_rows": null,
       "height": null,
       "justify_content": null,
       "justify_items": null,
       "left": null,
       "margin": null,
       "max_height": null,
       "max_width": null,
       "min_height": null,
       "min_width": null,
       "object_fit": null,
       "object_position": null,
       "order": null,
       "overflow": null,
       "overflow_x": null,
       "overflow_y": null,
       "padding": null,
       "right": null,
       "top": null,
       "visibility": null,
       "width": null
      }
     },
     "eb8cd148e6c54cd580c0f782854dbed8": {
      "model_module": "@jupyter-widgets/base",
      "model_module_version": "1.2.0",
      "model_name": "LayoutModel",
      "state": {
       "_model_module": "@jupyter-widgets/base",
       "_model_module_version": "1.2.0",
       "_model_name": "LayoutModel",
       "_view_count": null,
       "_view_module": "@jupyter-widgets/base",
       "_view_module_version": "1.2.0",
       "_view_name": "LayoutView",
       "align_content": null,
       "align_items": null,
       "align_self": null,
       "border": null,
       "bottom": null,
       "display": null,
       "flex": null,
       "flex_flow": null,
       "grid_area": null,
       "grid_auto_columns": null,
       "grid_auto_flow": null,
       "grid_auto_rows": null,
       "grid_column": null,
       "grid_gap": null,
       "grid_row": null,
       "grid_template_areas": null,
       "grid_template_columns": null,
       "grid_template_rows": null,
       "height": null,
       "justify_content": null,
       "justify_items": null,
       "left": null,
       "margin": null,
       "max_height": null,
       "max_width": null,
       "min_height": null,
       "min_width": null,
       "object_fit": null,
       "object_position": null,
       "order": null,
       "overflow": null,
       "overflow_x": null,
       "overflow_y": null,
       "padding": null,
       "right": null,
       "top": null,
       "visibility": null,
       "width": null
      }
     },
     "ec80c709e2624fee9a7e44791a312454": {
      "model_module": "@jupyter-widgets/base",
      "model_module_version": "1.2.0",
      "model_name": "LayoutModel",
      "state": {
       "_model_module": "@jupyter-widgets/base",
       "_model_module_version": "1.2.0",
       "_model_name": "LayoutModel",
       "_view_count": null,
       "_view_module": "@jupyter-widgets/base",
       "_view_module_version": "1.2.0",
       "_view_name": "LayoutView",
       "align_content": null,
       "align_items": null,
       "align_self": null,
       "border": null,
       "bottom": null,
       "display": null,
       "flex": null,
       "flex_flow": null,
       "grid_area": null,
       "grid_auto_columns": null,
       "grid_auto_flow": null,
       "grid_auto_rows": null,
       "grid_column": null,
       "grid_gap": null,
       "grid_row": null,
       "grid_template_areas": null,
       "grid_template_columns": null,
       "grid_template_rows": null,
       "height": null,
       "justify_content": null,
       "justify_items": null,
       "left": null,
       "margin": null,
       "max_height": null,
       "max_width": null,
       "min_height": null,
       "min_width": null,
       "object_fit": null,
       "object_position": null,
       "order": null,
       "overflow": null,
       "overflow_x": null,
       "overflow_y": null,
       "padding": null,
       "right": null,
       "top": null,
       "visibility": null,
       "width": null
      }
     },
     "ed1fbc3714ae45f88de249c648e52d13": {
      "model_module": "@jupyter-widgets/base",
      "model_module_version": "1.2.0",
      "model_name": "LayoutModel",
      "state": {
       "_model_module": "@jupyter-widgets/base",
       "_model_module_version": "1.2.0",
       "_model_name": "LayoutModel",
       "_view_count": null,
       "_view_module": "@jupyter-widgets/base",
       "_view_module_version": "1.2.0",
       "_view_name": "LayoutView",
       "align_content": null,
       "align_items": null,
       "align_self": null,
       "border": null,
       "bottom": null,
       "display": null,
       "flex": null,
       "flex_flow": null,
       "grid_area": null,
       "grid_auto_columns": null,
       "grid_auto_flow": null,
       "grid_auto_rows": null,
       "grid_column": null,
       "grid_gap": null,
       "grid_row": null,
       "grid_template_areas": null,
       "grid_template_columns": null,
       "grid_template_rows": null,
       "height": null,
       "justify_content": null,
       "justify_items": null,
       "left": null,
       "margin": null,
       "max_height": null,
       "max_width": null,
       "min_height": null,
       "min_width": null,
       "object_fit": null,
       "object_position": null,
       "order": null,
       "overflow": null,
       "overflow_x": null,
       "overflow_y": null,
       "padding": null,
       "right": null,
       "top": null,
       "visibility": null,
       "width": null
      }
     },
     "ee728d61d83b4902919223e99e76c406": {
      "model_module": "@jupyter-widgets/base",
      "model_module_version": "1.2.0",
      "model_name": "LayoutModel",
      "state": {
       "_model_module": "@jupyter-widgets/base",
       "_model_module_version": "1.2.0",
       "_model_name": "LayoutModel",
       "_view_count": null,
       "_view_module": "@jupyter-widgets/base",
       "_view_module_version": "1.2.0",
       "_view_name": "LayoutView",
       "align_content": null,
       "align_items": null,
       "align_self": null,
       "border": null,
       "bottom": null,
       "display": null,
       "flex": null,
       "flex_flow": null,
       "grid_area": null,
       "grid_auto_columns": null,
       "grid_auto_flow": null,
       "grid_auto_rows": null,
       "grid_column": null,
       "grid_gap": null,
       "grid_row": null,
       "grid_template_areas": null,
       "grid_template_columns": null,
       "grid_template_rows": null,
       "height": null,
       "justify_content": null,
       "justify_items": null,
       "left": null,
       "margin": null,
       "max_height": null,
       "max_width": null,
       "min_height": null,
       "min_width": null,
       "object_fit": null,
       "object_position": null,
       "order": null,
       "overflow": null,
       "overflow_x": null,
       "overflow_y": null,
       "padding": null,
       "right": null,
       "top": null,
       "visibility": null,
       "width": null
      }
     },
     "efc519fd14504e6f96778947b481810a": {
      "model_module": "@jupyter-widgets/controls",
      "model_module_version": "1.5.0",
      "model_name": "HTMLModel",
      "state": {
       "_dom_classes": [],
       "_model_module": "@jupyter-widgets/controls",
       "_model_module_version": "1.5.0",
       "_model_name": "HTMLModel",
       "_view_count": null,
       "_view_module": "@jupyter-widgets/controls",
       "_view_module_version": "1.5.0",
       "_view_name": "HTMLView",
       "description": "",
       "description_tooltip": null,
       "layout": "IPY_MODEL_f8a43f105b304a69b9da37616864d3c9",
       "placeholder": "​",
       "style": "IPY_MODEL_64c38574e8d74d579b2688c22febe034",
       "value": " 1.12G/1.12G [00:07&lt;00:00, 162MB/s]"
      }
     },
     "f1c03d7e995f4a7ea60182eb18c94762": {
      "model_module": "@jupyter-widgets/base",
      "model_module_version": "1.2.0",
      "model_name": "LayoutModel",
      "state": {
       "_model_module": "@jupyter-widgets/base",
       "_model_module_version": "1.2.0",
       "_model_name": "LayoutModel",
       "_view_count": null,
       "_view_module": "@jupyter-widgets/base",
       "_view_module_version": "1.2.0",
       "_view_name": "LayoutView",
       "align_content": null,
       "align_items": null,
       "align_self": null,
       "border": null,
       "bottom": null,
       "display": null,
       "flex": null,
       "flex_flow": null,
       "grid_area": null,
       "grid_auto_columns": null,
       "grid_auto_flow": null,
       "grid_auto_rows": null,
       "grid_column": null,
       "grid_gap": null,
       "grid_row": null,
       "grid_template_areas": null,
       "grid_template_columns": null,
       "grid_template_rows": null,
       "height": null,
       "justify_content": null,
       "justify_items": null,
       "left": null,
       "margin": null,
       "max_height": null,
       "max_width": null,
       "min_height": null,
       "min_width": null,
       "object_fit": null,
       "object_position": null,
       "order": null,
       "overflow": null,
       "overflow_x": null,
       "overflow_y": null,
       "padding": null,
       "right": null,
       "top": null,
       "visibility": null,
       "width": null
      }
     },
     "f662a808bdf147b2ba749f0c0e91629c": {
      "model_module": "@jupyter-widgets/controls",
      "model_module_version": "1.5.0",
      "model_name": "HBoxModel",
      "state": {
       "_dom_classes": [],
       "_model_module": "@jupyter-widgets/controls",
       "_model_module_version": "1.5.0",
       "_model_name": "HBoxModel",
       "_view_count": null,
       "_view_module": "@jupyter-widgets/controls",
       "_view_module_version": "1.5.0",
       "_view_name": "HBoxView",
       "box_style": "",
       "children": [
        "IPY_MODEL_57da0999371a4a0dbf47e8d966c6ccd6",
        "IPY_MODEL_6a548ab4cee548b59916a720874179e5",
        "IPY_MODEL_dc34de3fb97a4c4caf70f5ec85de5110"
       ],
       "layout": "IPY_MODEL_31acc445c5984d8e8fa067b6d041675b"
      }
     },
     "f74733c7cbb14dbc87e6775430c8485c": {
      "model_module": "@jupyter-widgets/base",
      "model_module_version": "1.2.0",
      "model_name": "LayoutModel",
      "state": {
       "_model_module": "@jupyter-widgets/base",
       "_model_module_version": "1.2.0",
       "_model_name": "LayoutModel",
       "_view_count": null,
       "_view_module": "@jupyter-widgets/base",
       "_view_module_version": "1.2.0",
       "_view_name": "LayoutView",
       "align_content": null,
       "align_items": null,
       "align_self": null,
       "border": null,
       "bottom": null,
       "display": null,
       "flex": null,
       "flex_flow": null,
       "grid_area": null,
       "grid_auto_columns": null,
       "grid_auto_flow": null,
       "grid_auto_rows": null,
       "grid_column": null,
       "grid_gap": null,
       "grid_row": null,
       "grid_template_areas": null,
       "grid_template_columns": null,
       "grid_template_rows": null,
       "height": null,
       "justify_content": null,
       "justify_items": null,
       "left": null,
       "margin": null,
       "max_height": null,
       "max_width": null,
       "min_height": null,
       "min_width": null,
       "object_fit": null,
       "object_position": null,
       "order": null,
       "overflow": null,
       "overflow_x": null,
       "overflow_y": null,
       "padding": null,
       "right": null,
       "top": null,
       "visibility": null,
       "width": null
      }
     },
     "f8a43f105b304a69b9da37616864d3c9": {
      "model_module": "@jupyter-widgets/base",
      "model_module_version": "1.2.0",
      "model_name": "LayoutModel",
      "state": {
       "_model_module": "@jupyter-widgets/base",
       "_model_module_version": "1.2.0",
       "_model_name": "LayoutModel",
       "_view_count": null,
       "_view_module": "@jupyter-widgets/base",
       "_view_module_version": "1.2.0",
       "_view_name": "LayoutView",
       "align_content": null,
       "align_items": null,
       "align_self": null,
       "border": null,
       "bottom": null,
       "display": null,
       "flex": null,
       "flex_flow": null,
       "grid_area": null,
       "grid_auto_columns": null,
       "grid_auto_flow": null,
       "grid_auto_rows": null,
       "grid_column": null,
       "grid_gap": null,
       "grid_row": null,
       "grid_template_areas": null,
       "grid_template_columns": null,
       "grid_template_rows": null,
       "height": null,
       "justify_content": null,
       "justify_items": null,
       "left": null,
       "margin": null,
       "max_height": null,
       "max_width": null,
       "min_height": null,
       "min_width": null,
       "object_fit": null,
       "object_position": null,
       "order": null,
       "overflow": null,
       "overflow_x": null,
       "overflow_y": null,
       "padding": null,
       "right": null,
       "top": null,
       "visibility": null,
       "width": null
      }
     },
     "f9a95ac2bb2946ebb606a40fa0c6085e": {
      "model_module": "@jupyter-widgets/controls",
      "model_module_version": "1.5.0",
      "model_name": "HBoxModel",
      "state": {
       "_dom_classes": [],
       "_model_module": "@jupyter-widgets/controls",
       "_model_module_version": "1.5.0",
       "_model_name": "HBoxModel",
       "_view_count": null,
       "_view_module": "@jupyter-widgets/controls",
       "_view_module_version": "1.5.0",
       "_view_name": "HBoxView",
       "box_style": "",
       "children": [
        "IPY_MODEL_07da065a83b24e23b5b99d104c296916",
        "IPY_MODEL_9247bec220ab40439c112c65896879a4",
        "IPY_MODEL_1b2fc54c66b1490eae21e3a625dcb86c"
       ],
       "layout": "IPY_MODEL_8a9d2331fe9042589564c5a616b89617"
      }
     },
     "fc9c1142f2a64934aeff06c0cf037b51": {
      "model_module": "@jupyter-widgets/controls",
      "model_module_version": "1.5.0",
      "model_name": "HTMLModel",
      "state": {
       "_dom_classes": [],
       "_model_module": "@jupyter-widgets/controls",
       "_model_module_version": "1.5.0",
       "_model_name": "HTMLModel",
       "_view_count": null,
       "_view_module": "@jupyter-widgets/controls",
       "_view_module_version": "1.5.0",
       "_view_name": "HTMLView",
       "description": "",
       "description_tooltip": null,
       "layout": "IPY_MODEL_2a95383b1cda418183b64c35cad01bfb",
       "placeholder": "​",
       "style": "IPY_MODEL_b269740de6544c80bc1116d90b1a1593",
       "value": " 5195/5195 [00:01&lt;00:00, 2516.57ex/s]"
      }
     },
     "fd39473e4c8d4a339118d802230e39e6": {
      "model_module": "@jupyter-widgets/base",
      "model_module_version": "1.2.0",
      "model_name": "LayoutModel",
      "state": {
       "_model_module": "@jupyter-widgets/base",
       "_model_module_version": "1.2.0",
       "_model_name": "LayoutModel",
       "_view_count": null,
       "_view_module": "@jupyter-widgets/base",
       "_view_module_version": "1.2.0",
       "_view_name": "LayoutView",
       "align_content": null,
       "align_items": null,
       "align_self": null,
       "border": null,
       "bottom": null,
       "display": null,
       "flex": null,
       "flex_flow": null,
       "grid_area": null,
       "grid_auto_columns": null,
       "grid_auto_flow": null,
       "grid_auto_rows": null,
       "grid_column": null,
       "grid_gap": null,
       "grid_row": null,
       "grid_template_areas": null,
       "grid_template_columns": null,
       "grid_template_rows": null,
       "height": null,
       "justify_content": null,
       "justify_items": null,
       "left": null,
       "margin": null,
       "max_height": null,
       "max_width": null,
       "min_height": null,
       "min_width": null,
       "object_fit": null,
       "object_position": null,
       "order": null,
       "overflow": null,
       "overflow_x": null,
       "overflow_y": null,
       "padding": null,
       "right": null,
       "top": null,
       "visibility": null,
       "width": null
      }
     }
    },
    "version_major": 2,
    "version_minor": 0
   }
  }
 },
 "nbformat": 4,
 "nbformat_minor": 5
}
